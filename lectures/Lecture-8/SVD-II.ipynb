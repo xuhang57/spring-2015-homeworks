{
 "metadata": {
  "celltoolbar": "Raw Cell Format",
  "name": "",
  "signature": "sha256:f84b9b1a75fca17ef7b6eeeeb93ba40b759aed6b23c96db161cfaab7288b692f"
 },
 "nbformat": 3,
 "nbformat_minor": 0,
 "worksheets": [
  {
   "cells": [
    {
     "cell_type": "heading",
     "level": 1,
     "metadata": {},
     "source": [
      "Singular Value Decomposition - II (SVD in practice)"
     ]
    },
    {
     "cell_type": "code",
     "collapsed": false,
     "input": [
      "import numpy as np\n",
      "import scipy as sp\n",
      "import matplotlib.pyplot as plt\n",
      "import pandas as pd\n",
      "import sklearn.datasets as sk_data\n",
      "import sklearn.metrics as metrics\n",
      "import scipy.sparse.linalg as linalg\n",
      "\n",
      "\n",
      "from sklearn.cluster import KMeans\n",
      "from sklearn.decomposition import TruncatedSVD\n",
      "\n",
      "#import matplotlib as mpl\n",
      "import seaborn as sns\n",
      "%matplotlib inline"
     ],
     "language": "python",
     "metadata": {},
     "outputs": []
    },
    {
     "cell_type": "heading",
     "level": 2,
     "metadata": {},
     "source": [
      "Low rank data"
     ]
    },
    {
     "cell_type": "markdown",
     "metadata": {},
     "source": [
      "The data is generated using the sample data generators summarized at: \n",
      "\n",
      "http://scikit-learn.org/stable/modules/classes.html#module-sklearn.datasets\n",
      "\n",
      "More specifically, we use the datasets.make_low_rank_matrix() function: \n",
      "\n",
      "http://scikit-learn.org/stable/modules/generated/sklearn.datasets.make_low_rank_matrix.html#sklearn.datasets.make_low_rank_matrix\n",
      "\n",
      "This function generates  a mostly low rank matrix with bell-shaped singular values"
     ]
    },
    {
     "cell_type": "code",
     "collapsed": false,
     "input": [
      "data = sk_data.make_low_rank_matrix(n_samples=100, n_features=50, effective_rank=2, tail_strength=0.0, random_state=None)\n",
      "sns.heatmap(data, xticklabels=False, yticklabels=False, linewidths=0)"
     ],
     "language": "python",
     "metadata": {},
     "outputs": []
    },
    {
     "cell_type": "heading",
     "level": 2,
     "metadata": {},
     "source": [
      "Numpy Singular Value Decomposition"
     ]
    },
    {
     "cell_type": "markdown",
     "metadata": {},
     "source": [
      "We start our analysis with SVD using the (non-sparse) SVD decomposition provided by numpy:\n",
      "http://docs.scipy.org/doc/numpy/reference/generated/numpy.linalg.svd.html"
     ]
    },
    {
     "cell_type": "code",
     "collapsed": false,
     "input": [
      "U, s, V = np.linalg.svd(data)\n",
      "print U.shape, s.shape, V.shape\n",
      "plt.plot(s[1:10])\n",
      "plt.ylabel('eigenvalue value')\n",
      "plt.xlabel('number of eigenvalues')"
     ],
     "language": "python",
     "metadata": {},
     "outputs": []
    },
    {
     "cell_type": "code",
     "collapsed": false,
     "input": [
      "#printing the singular values\n",
      "print s"
     ],
     "language": "python",
     "metadata": {},
     "outputs": []
    },
    {
     "cell_type": "markdown",
     "metadata": {},
     "source": [
      "Computing the error in the representation by the top-k singular vectors and singular values, when the n-k singular values are set to 0 (this means that the corresponding singular vectors are also ingored)."
     ]
    },
    {
     "cell_type": "code",
     "collapsed": false,
     "input": [
      "errors = np.zeros(50)\n",
      "for i in range(50):\n",
      "    s[-1:-(i+1):-1]=np.zeros(i)\n",
      "    S = np.diag(s[0:50])\n",
      "    S = np.vstack([S, np.zeros((50,50)) ])\n",
      "    approx_d = np.dot(U, np.dot(S,V))\n",
      "    errors[i] = np.linalg.norm(data-approx_d)\n",
      "print errors"
     ],
     "language": "python",
     "metadata": {},
     "outputs": []
    },
    {
     "cell_type": "markdown",
     "metadata": {},
     "source": [
      "Plotting the errors as a function of the ignored singular values/vectors"
     ]
    },
    {
     "cell_type": "code",
     "collapsed": false,
     "input": [
      "plt.plot(errors)\n",
      "plt.ylabel('Error')\n",
      "plt.xlabel('# of ignored singular values')"
     ],
     "language": "python",
     "metadata": {},
     "outputs": []
    },
    {
     "cell_type": "markdown",
     "metadata": {},
     "source": [
      "Plotting the data projected on the top-2 singular vectors (or making our data 2-dimensional)"
     ]
    },
    {
     "cell_type": "code",
     "collapsed": false,
     "input": [
      "U, s, V = np.linalg.svd(data)\n",
      "k=2\n",
      "\n",
      "Uk = U[:,0:k]\n",
      "Vk = V[0:k,:]\n",
      "Sk = np.diag(s[0:k])\n",
      "datak = np.dot(Uk,Sk)\n",
      "\n",
      "\n",
      "plt.plot(datak[:,0],datak[:,1],'bo')\n"
     ],
     "language": "python",
     "metadata": {},
     "outputs": []
    },
    {
     "cell_type": "heading",
     "level": 2,
     "metadata": {},
     "source": [
      "Dimensionality reduction and clustering"
     ]
    },
    {
     "cell_type": "heading",
     "level": 3,
     "metadata": {},
     "source": [
      "Generating high-dimensional data from k clusters"
     ]
    },
    {
     "cell_type": "markdown",
     "metadata": {},
     "source": [
      "Using again the sample data generators summarized at:\n",
      "\n",
      "http://scikit-learn.org/stable/modules/classes.html#module-sklearn.datasets\n",
      "\n",
      "This time we use the function datasets.make_blobs(), which generates data from isotropic Gaussian blobs:\n",
      "\n",
      "http://scikit-learn.org/stable/modules/generated/sklearn.datasets.make_blobs.html#sklearn.datasets.make_blobs"
     ]
    },
    {
     "cell_type": "code",
     "collapsed": false,
     "input": [
      "X, y = sk_data.make_blobs(n_samples=100, centers=3, n_features=30,\n",
      "                          center_box=(-3.0, 3.0),random_state=0,  cluster_std=[3.]*30)"
     ],
     "language": "python",
     "metadata": {},
     "outputs": []
    },
    {
     "cell_type": "markdown",
     "metadata": {},
     "source": [
      "Plotting the dataset using our favorite heatmaps"
     ]
    },
    {
     "cell_type": "code",
     "collapsed": false,
     "input": [
      "sns.heatmap(X,xticklabels=False, yticklabels=False, linewidths=0)"
     ],
     "language": "python",
     "metadata": {},
     "outputs": []
    },
    {
     "cell_type": "heading",
     "level": 4,
     "metadata": {},
     "source": [
      "Projecting the data into the 2-d space using SVD"
     ]
    },
    {
     "cell_type": "code",
     "collapsed": false,
     "input": [
      "def svd_projection(data,k):\n",
      "    U, s, V = np.linalg.svd(data)\n",
      "    Uk = U[:,0:k]\n",
      "    Vk = V[0:k,:]\n",
      "    Sk = np.diag(s[0:k])\n",
      "    datak = np.dot(Uk,Sk)\n",
      "    return datak"
     ],
     "language": "python",
     "metadata": {},
     "outputs": []
    },
    {
     "cell_type": "markdown",
     "metadata": {},
     "source": [
      "Taking the projection of the data in the top-k (k=5) right singular vectors"
     ]
    },
    {
     "cell_type": "code",
     "collapsed": false,
     "input": [
      "svdX = svd_projection(X,5)"
     ],
     "language": "python",
     "metadata": {},
     "outputs": []
    },
    {
     "cell_type": "markdown",
     "metadata": {},
     "source": [
      "Projecting our data into pairs of dimensions "
     ]
    },
    {
     "cell_type": "code",
     "collapsed": false,
     "input": [
      "svdX_df = pd.DataFrame(svdX)\n",
      "g = sns.PairGrid(svdX_df)\n",
      "g.map(plt.scatter)"
     ],
     "language": "python",
     "metadata": {},
     "outputs": []
    },
    {
     "cell_type": "markdown",
     "metadata": {},
     "source": [
      "Showing the low-dimensional dataset in a heatmap"
     ]
    },
    {
     "cell_type": "code",
     "collapsed": false,
     "input": [
      "k=3\n",
      "U, s, V = np.linalg.svd(data)\n",
      "Uk = U[:,0:k]\n",
      "Vk = V[0:k,:]\n",
      "Sk = np.diag(s[0:k])\n",
      "newX = np.dot(np.dot(Uk,Sk),Vk)\n",
      "print newX.shape\n",
      "\n",
      "fig, (ax1, ax2) = plt.subplots(1,2,figsize=(15,10))\n",
      "sns.heatmap(newX, xticklabels=False, yticklabels=False, linewidths=0, ax=ax1,  cbar=False)\n",
      "sns.heatmap(np.dot(Uk,Sk), xticklabels=False, yticklabels=False, linewidths=0, ax=ax2, cbar=False)"
     ],
     "language": "python",
     "metadata": {},
     "outputs": []
    },
    {
     "cell_type": "heading",
     "level": 3,
     "metadata": {},
     "source": [
      "Clustering the original data"
     ]
    },
    {
     "cell_type": "code",
     "collapsed": false,
     "input": [
      "kmeans = KMeans(init='k-means++', n_clusters=3, n_init=1)\n",
      "kmeans.fit_predict(X)\n",
      "centroids = kmeans.cluster_centers_\n",
      "labels = kmeans.labels_\n",
      "error = kmeans.inertia_\n",
      "\n",
      "idx = np.argsort(labels)\n",
      "rX = X[idx,:]\n",
      "sns.heatmap( rX,xticklabels=False, yticklabels=False, linewidths=0,cbar=False)\n",
      "\n",
      "ri = metrics.adjusted_rand_score(labels,y)\n",
      "print ri\n"
     ],
     "language": "python",
     "metadata": {},
     "outputs": []
    },
    {
     "cell_type": "heading",
     "level": 3,
     "metadata": {},
     "source": [
      "Clustering the projected data"
     ]
    },
    {
     "cell_type": "code",
     "collapsed": false,
     "input": [
      "svdX = svd_projection(X,3)\n",
      "\n",
      "\n",
      "kmeans = KMeans(init='k-means++', n_clusters=3, n_init=1)\n",
      "kmeans.fit_predict(svdX)\n",
      "centroids = kmeans.cluster_centers_\n",
      "labels = kmeans.labels_\n",
      "error = kmeans.inertia_\n",
      "\n",
      "idx = np.argsort(labels)\n",
      "rX = svdX[idx,:]\n",
      "sns.heatmap( rX,xticklabels=False, yticklabels=False, linewidths=0,cbar=False)\n",
      "\n",
      "ri = metrics.adjusted_rand_score(labels,y)\n",
      "print ri\n",
      "\n"
     ],
     "language": "python",
     "metadata": {},
     "outputs": []
    },
    {
     "cell_type": "heading",
     "level": 2,
     "metadata": {},
     "source": [
      "Using real data (20 Newsgroup data)"
     ]
    },
    {
     "cell_type": "code",
     "collapsed": false,
     "input": [
      "from sklearn.datasets import fetch_20newsgroups\n",
      "\n",
      "\"\"\"\n",
      "categories = [\n",
      "    'alt.atheism',\n",
      "    'talk.religion.misc',\n",
      "    'comp.graphics',\n",
      "    'sci.space', 'rec.sport.baseball'\n",
      "]\"\"\"\n",
      "categories = ['alt.atheism', 'sci.space','rec.sport.baseball']\n",
      "news_data = fetch_20newsgroups(subset='train', categories=categories)\n",
      "stemmed_data = news_data.data\n"
     ],
     "language": "python",
     "metadata": {},
     "outputs": []
    },
    {
     "cell_type": "code",
     "collapsed": false,
     "input": [
      "print news_data.target_names\n",
      "print news_data.target\n",
      "\n"
     ],
     "language": "python",
     "metadata": {},
     "outputs": []
    },
    {
     "cell_type": "heading",
     "level": 3,
     "metadata": {},
     "source": [
      "Stemming the data using the Snowball Stemmer (after tokenizing): \n",
      "\n",
      "http://www.nltk.org/howto/stem.html"
     ]
    },
    {
     "cell_type": "markdown",
     "metadata": {},
     "source": [
      "From a cell you need to run nltk.download() and select the appropriate packages from the interface that appears you need to download: stopwords from corpora and  punkt and snowball_data from models."
     ]
    },
    {
     "cell_type": "code",
     "collapsed": false,
     "input": [
      "from nltk.stem.snowball import SnowballStemmer\n",
      "from nltk.tokenize import word_tokenize, sent_tokenize\n",
      "\n",
      "stemmed_data = [\" \".join(SnowballStemmer(\"english\", ignore_stopwords=True).stem(word)  \n",
      "         for sent in sent_tokenize(message)\n",
      "         for word in word_tokenize(sent))\n",
      "         for message in news_data.data]\n"
     ],
     "language": "python",
     "metadata": {},
     "outputs": []
    },
    {
     "cell_type": "code",
     "collapsed": false,
     "input": [
      "print stemmed_data[0]"
     ],
     "language": "python",
     "metadata": {},
     "outputs": []
    },
    {
     "cell_type": "heading",
     "level": 3,
     "metadata": {},
     "source": [
      "Computing tf-idf scores for all stemmed english terms"
     ]
    },
    {
     "cell_type": "code",
     "collapsed": false,
     "input": [
      "from sklearn.feature_extraction.text import TfidfVectorizer\n",
      "\n",
      "vectorizer = TfidfVectorizer(stop_words='english', min_df=0.05,max_df=0.9, ngram_range=(1,2))\n",
      "vectors = vectorizer.fit_transform(stemmed_data)"
     ],
     "language": "python",
     "metadata": {},
     "outputs": []
    },
    {
     "cell_type": "code",
     "collapsed": false,
     "input": [
      "print type(vectors), vectors.shape\n",
      "#terms = vectorizer.get_feature_names()\n",
      "#print terms"
     ],
     "language": "python",
     "metadata": {},
     "outputs": []
    },
    {
     "cell_type": "heading",
     "level": 3,
     "metadata": {},
     "source": [
      "Clustering the original documents"
     ]
    },
    {
     "cell_type": "code",
     "collapsed": false,
     "input": [
      "k=3\n",
      "kmeans = KMeans(n_clusters=k, init='k-means++', max_iter=100, n_init=10,random_state=0)\n",
      "kmeans.fit_predict(vectors)\n",
      "centroids = kmeans.cluster_centers_\n",
      "labels = kmeans.labels_\n",
      "error = kmeans.inertia_"
     ],
     "language": "python",
     "metadata": {},
     "outputs": []
    },
    {
     "cell_type": "heading",
     "level": 4,
     "metadata": {},
     "source": [
      "Evaluating the clusters"
     ]
    },
    {
     "cell_type": "code",
     "collapsed": false,
     "input": [
      "ri = metrics.adjusted_rand_score(labels,news_data.target)\n",
      "print ri"
     ],
     "language": "python",
     "metadata": {},
     "outputs": []
    },
    {
     "cell_type": "heading",
     "level": 3,
     "metadata": {},
     "source": [
      "SVD analysis of the stemmed matrix using sparse SVD\n",
      "\n",
      "\n",
      "http://docs.scipy.org/doc/scipy-0.14.0/reference/generated/scipy.sparse.linalg.svds.html"
     ]
    },
    {
     "cell_type": "markdown",
     "metadata": {},
     "source": [
      "Our data is now sparse, so we need to call svds from scipy.sparse.linalg, which deals with sparse data"
     ]
    },
    {
     "cell_type": "code",
     "collapsed": false,
     "input": [
      "#computing the singular value decomposition\n",
      "k = 5\n",
      "U,s,V = linalg.svds(vectors,k,which='LM')\n",
      "print U.shape, V.shape, s.shape\n",
      "print s[::-1]"
     ],
     "language": "python",
     "metadata": {},
     "outputs": []
    },
    {
     "cell_type": "code",
     "collapsed": false,
     "input": [
      "#plotting the first k singular values\n",
      "\n",
      "plt.plot(range(1,len(s)+1),s[::-1])\n",
      "plt.ylabel('eigenvalue value')\n",
      "plt.xlabel('number of eigenvalues')"
     ],
     "language": "python",
     "metadata": {},
     "outputs": []
    },
    {
     "cell_type": "heading",
     "level": 4,
     "metadata": {},
     "source": [
      "Projecting the dataset"
     ]
    },
    {
     "cell_type": "markdown",
     "metadata": {},
     "source": [
      "Again, we project in all pairwise dimensions to visualize the behavior of our data on all 2-dimensional spaces we consider."
     ]
    },
    {
     "cell_type": "code",
     "collapsed": false,
     "input": [
      "Xk = U*sp.sparse.diags(s,0)\n",
      "X_df = pd.DataFrame(Xk)\n",
      "g = sns.PairGrid(X_df)\n",
      "g.map(plt.scatter)"
     ],
     "language": "python",
     "metadata": {},
     "outputs": []
    },
    {
     "cell_type": "code",
     "collapsed": false,
     "input": [
      "with sns.axes_style(\"white\"):\n",
      "    fig, ax = plt.subplots(1,1,figsize=(10,10))\n",
      "    cmap = sns.hls_palette(n_colors=6, h=0.35, l=0.4, s=0.9)\n",
      "    for i, label in enumerate(set(news_data.target)):\n",
      "        point_indices = np.where(news_data.target == label)[0]\n",
      "        point_indices = point_indices.tolist()\n",
      "        plt.scatter(Xk[point_indices,2], Xk[point_indices,3], s=20, alpha=0.5, c=cmap[i], marker='D',\n",
      "label=news_data.target_names[i])\n",
      "        plt.legend(prop={'size':14}, loc=2)\n",
      "    sns.despine()"
     ],
     "language": "python",
     "metadata": {},
     "outputs": []
    },
    {
     "cell_type": "heading",
     "level": 4,
     "metadata": {},
     "source": [
      "Looking into the topics"
     ]
    },
    {
     "cell_type": "code",
     "collapsed": false,
     "input": [
      "print V.shape\n",
      "#print V\n",
      "sns.heatmap(V,xticklabels=False, yticklabels=False, linewidths=0)"
     ],
     "language": "python",
     "metadata": {},
     "outputs": []
    },
    {
     "cell_type": "heading",
     "level": 3,
     "metadata": {},
     "source": [
      "Clustering the projected documents"
     ]
    },
    {
     "cell_type": "code",
     "collapsed": false,
     "input": [
      "vectorsk = U[:,2:4]*sp.sparse.diags(s[2:4],0)\n",
      "print vectorsk.shape, type(vectorsk)\n",
      "k=3\n",
      "kmeans = KMeans(n_clusters=k, init='k-means++', max_iter=100, n_init=10, random_state=0)\n",
      "kmeans.fit_predict(vectorsk)\n",
      "centroidsk = kmeans.cluster_centers_\n",
      "labelsk = kmeans.labels_\n",
      "errork = kmeans.inertia_"
     ],
     "language": "python",
     "metadata": {},
     "outputs": []
    },
    {
     "cell_type": "code",
     "collapsed": false,
     "input": [
      "ri = metrics.adjusted_rand_score(labelsk,news_data.target)\n",
      "print ri"
     ],
     "language": "python",
     "metadata": {},
     "outputs": []
    },
    {
     "cell_type": "heading",
     "level": 2,
     "metadata": {},
     "source": [
      "Other methods for projecting the data of the same data; Truncated SVD"
     ]
    },
    {
     "cell_type": "markdown",
     "metadata": {},
     "source": [
      "http://scikit-learn.org/stable/modules/generated/sklearn.decomposition.TruncatedSVD.html#sklearn.decomposition.TruncatedSVD"
     ]
    },
    {
     "cell_type": "code",
     "collapsed": false,
     "input": [
      "k = 5\n",
      "tsvd = TruncatedSVD(n_components=k)\n",
      "Xk = tsvd.fit_transform(vectors)\n",
      "\n",
      "X_df = pd.DataFrame(Xk)\n",
      "g = sns.PairGrid(X_df)\n",
      "g.map(plt.scatter)"
     ],
     "language": "python",
     "metadata": {},
     "outputs": []
    },
    {
     "cell_type": "code",
     "collapsed": false,
     "input": [
      "k = 10\n",
      "tsvd = TruncatedSVD(n_components=k)\n",
      "Xk = tsvd.fit_transform(vectors)\n",
      "k=4\n",
      "kmeans = KMeans(n_clusters=k, init='k-means++', max_iter=100, n_init=1, random_state=0)\n",
      "kmeans.fit_predict(vectorsk)\n",
      "centroids = kmeans.cluster_centers_\n",
      "labels = kmeans.labels_\n",
      "error = kmeans.inertia_\n",
      "ri = metrics.adjusted_rand_score(labels,news_data.target)\n",
      "print ri"
     ],
     "language": "python",
     "metadata": {},
     "outputs": []
    },
    {
     "cell_type": "code",
     "collapsed": false,
     "input": [
      "print type(X)"
     ],
     "language": "python",
     "metadata": {},
     "outputs": []
    },
    {
     "cell_type": "code",
     "collapsed": false,
     "input": [
      "# Code for setting the style of the notebook\n",
      "from IPython.core.display import HTML\n",
      "def css_styling():\n",
      "    styles = open(\"../theme/custom.css\", \"r\").read()\n",
      "    return HTML(styles)\n",
      "css_styling()"
     ],
     "language": "python",
     "metadata": {},
     "outputs": [
      {
       "html": [
        "<link href='http://fonts.googleapis.com/css?family=EB+Garamond' rel='stylesheet' type='text/css'>\n",
        "<link href='http://fonts.googleapis.com/css?family=Alegreya+Sans:100,300,400,500,700,800,900,100italic,300italic,400italic,500italic,700italic,800italic,900italic' rel='stylesheet' type='text/css'>\n",
        "<link href='http://fonts.googleapis.com/css?family=Source+Code+Pro:300,400' rel='stylesheet' type='text/css'>\n",
        "<style>\n",
        "    @font-face {\n",
        "        font-family: \"Computer Modern\";\n",
        "        src: url('http://mirrors.ctan.org/fonts/cm-unicode/fonts/otf/cmunss.otf');\n",
        "    }\n",
        "    .code_cell {\n",
        "        width: 105ex !important ;\n",
        "        margin-bottom: 15px !important;\n",
        "    }\n",
        "    div.cell {\n",
        "        margin-left: auto;\n",
        "        margin-right: auto;\n",
        "        width: 70%;\n",
        "    }    \n",
        "    div.cell.selected {\n",
        "        border: thin rgba(171, 171, 171, 0.5) dashed;\n",
        "    }\n",
        "    h1 {\n",
        "        font-family: 'Alegreya Sans', sans-serif;\n",
        "    }\n",
        "    h2 {\n",
        "        font-family: 'EB Garamond', serif;\n",
        "    }\n",
        "    h3 {\n",
        "        font-family: 'EB Garamond', serif;\n",
        "        margin-top:12px;\n",
        "        margin-bottom: 3px;\n",
        "    }\n",
        "    h4 {\n",
        "        font-family: 'EB Garamond', serif;\n",
        "    }\n",
        "    h5 {\n",
        "        font-family: 'Alegreya Sans', sans-serif;\n",
        "    }\n",
        "    div.text_cell_render {\n",
        "        font-family: 'EB Garamond',Computer Modern, \"Helvetica Neue\", Arial, Helvetica, Geneva, sans-serif;\n",
        "        line-height: 145%;\n",
        "        font-size: 140%;\n",
        "    }\n",
        "    div.input_area {\n",
        "        border-color: rgba(0,0,0,0.10) !important;\n",
        "        background: #fafafa;\n",
        "    }\n",
        "    .CodeMirror {\n",
        "            font-family: \"Source Code Pro\";\n",
        "            font-size: 90%;\n",
        "    }\n",
        "    .prompt {\n",
        "        display: None;\n",
        "    }\n",
        "    .output {\n",
        "        padding-left: 50px;\n",
        "        padding-top: 5px;\n",
        "    }\n",
        "    .output_wrapper {\n",
        "        padding-left: 5px;\n",
        "        padding-top: inherit;\n",
        "    }\n",
        "    div.output_scroll {\n",
        "        width: inherit;\n",
        "    }\n",
        "    .inner_cell {\n",
        "        padding-left: 5px;\n",
        "    }\n",
        "    .text_cell_render h1 {\n",
        "        font-weight: 200;\n",
        "        font-size: 50pt;\n",
        "        line-height: 100%;\n",
        "        color:#CD2305;\n",
        "        margin-bottom: 0.5em;\n",
        "        margin-top: 0.5em;\n",
        "        display: block;\n",
        "    }\n",
        "    .text_cell_render h5 {\n",
        "        font-weight: 300;\n",
        "        font-size: 16pt;\n",
        "        color: #CD2305;\n",
        "        font-style: italic;\n",
        "        margin-bottom: .5em;\n",
        "        margin-top: 0.5em;\n",
        "        display: block;\n",
        "    }\n",
        "    .warning {\n",
        "        color: rgb( 240, 20, 20 )\n",
        "        }  \n",
        "</style>\n",
        "<script>\n",
        "    MathJax.Hub.Config({\n",
        "                        TeX: {\n",
        "                           extensions: [\"AMSmath.js\"]\n",
        "                           },\n",
        "                tex2jax: {\n",
        "                    inlineMath: [ ['$','$'], [\"\\\\(\",\"\\\\)\"] ],\n",
        "                    displayMath: [ ['$$','$$'], [\"\\\\[\",\"\\\\]\"] ]\n",
        "                },\n",
        "                displayAlign: 'center', // Change this to 'center' to center equations.\n",
        "                \"HTML-CSS\": {\n",
        "                    styles: {'.MathJax_Display': {\"margin\": 4}}\n",
        "                }\n",
        "        });\n",
        "</script>"
       ],
       "metadata": {},
       "output_type": "pyout",
       "prompt_number": 1,
       "text": [
        "<IPython.core.display.HTML at 0x398dda0>"
       ]
      }
     ],
     "prompt_number": 1
    },
    {
     "cell_type": "code",
     "collapsed": false,
     "input": [],
     "language": "python",
     "metadata": {},
     "outputs": []
    }
   ],
   "metadata": {}
  }
 ]
}