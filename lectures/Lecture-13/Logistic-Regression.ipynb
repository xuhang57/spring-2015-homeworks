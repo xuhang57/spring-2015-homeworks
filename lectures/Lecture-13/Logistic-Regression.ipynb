{
 "metadata": {
  "name": "",
  "signature": "sha256:c17e69e0033022b28d089c4e76a5093929955f04858529aa6987e1387625f6ba"
 },
 "nbformat": 3,
 "nbformat_minor": 0,
 "worksheets": [
  {
   "cells": [
    {
     "cell_type": "heading",
     "level": 1,
     "metadata": {},
     "source": [
      "Logistic Regression"
     ]
    },
    {
     "cell_type": "code",
     "collapsed": false,
     "input": [
      "import time\n",
      "\n",
      "import numpy as np\n",
      "import matplotlib.pyplot as plt\n",
      "import pandas as pd\n",
      "\n",
      "import scipy as sp\n",
      "import scipy.sparse.linalg as linalg\n",
      "import scipy.cluster.hierarchy as hr\n",
      "from scipy.spatial.distance import pdist, squareform\n",
      "\n",
      "import sklearn.datasets as datasets\n",
      "import sklearn.metrics as metrics\n",
      "import sklearn.utils as utils\n",
      "import sklearn.linear_model as linear_model\n",
      "import sklearn.cross_validation as cross_validation\n",
      "import sklearn.cluster as cluster\n",
      "from sklearn.neighbors import KNeighborsClassifier\n",
      "from sklearn.decomposition import TruncatedSVD\n",
      "from sklearn.preprocessing import StandardScaler\n",
      "\n",
      "import statsmodels.api as sm\n",
      "\n",
      "from patsy import dmatrices\n",
      "\n",
      "import seaborn as sns\n",
      "%matplotlib inline"
     ],
     "language": "python",
     "metadata": {},
     "outputs": []
    },
    {
     "cell_type": "heading",
     "level": 3,
     "metadata": {},
     "source": [
      "Basics of Logistic Regression"
     ]
    },
    {
     "cell_type": "code",
     "collapsed": false,
     "input": [
      "# read the data in\n",
      "df = pd.read_csv(\"http://www.ats.ucla.edu/stat/data/binary.csv\") \n",
      "df.groupby('rank').mean()\n",
      "train_cols = df.columns[1:]"
     ],
     "language": "python",
     "metadata": {},
     "outputs": []
    },
    {
     "cell_type": "code",
     "collapsed": false,
     "input": [
      "df1 = df[df['rank']==1]\n",
      "df2 = df[df['rank']==2]\n",
      "df3 = df[df['rank']==3]\n",
      "df4 = df[df['rank']==4]\n",
      "plt.scatter(df1['gre'],df1['admit'])"
     ],
     "language": "python",
     "metadata": {},
     "outputs": []
    },
    {
     "cell_type": "heading",
     "level": 5,
     "metadata": {},
     "source": [
      "Logistic regression function"
     ]
    },
    {
     "cell_type": "markdown",
     "metadata": {},
     "source": [
      "Logistic regression fits probability of the following form:\n",
      "        $$\\pi(x) = P(y=1\\mid x) = \\frac{e^{\\alpha+\\beta x}}{1+e^{\\alpha+\\beta x}}$$\n",
      "        \n",
      "This is a sigmoid function; when $x\\rightarrow \\infty$, then $\\pi(x)\\rightarrow 1$ and when $x\\rightarrow -\\infty$, then $\\pi(x)\\rightarrow 0$."
     ]
    },
    {
     "cell_type": "code",
     "collapsed": false,
     "input": [
      "alphas = [-4, -8,-12,-20]\n",
      "betas = [0.4,0.4,0.6,1]\n",
      "x = np.arange(40)\n",
      "fig = plt.figure(figsize=(8, 6)) \n",
      "ax = plt.subplot(111)\n",
      "\n",
      "for i in range(len(alphas)):\n",
      "    a = alphas[i]\n",
      "    b = betas[i]\n",
      "    y = np.exp(a+b*x)/(1+np.exp(a+b*x))\n",
      "    plt.plot(x,y, label=\"$\\\\frac{e^{ %d + %.fx}}{1+e^{%d + %.fx}}$\" %(a,b,a,b))\n",
      "plt.xlabel('x')\n",
      "plt.ylabel('$\\pi(x)$')\n",
      "ax.legend(loc='center left', bbox_to_anchor=(1, 0.5), prop={'size': 20})\n"
     ],
     "language": "python",
     "metadata": {},
     "outputs": []
    },
    {
     "cell_type": "markdown",
     "metadata": {},
     "source": [
      "Parameter $\\beta$ controls how fast $\\pi(x)$ raises from $0$ to $1$\n",
      "\n",
      "Parameter $\\alpha$ shows the value of $x$ for which $\\pi(x)=0.5$\n"
     ]
    },
    {
     "cell_type": "heading",
     "level": 5,
     "metadata": {},
     "source": [
      "Logodds"
     ]
    },
    {
     "cell_type": "markdown",
     "metadata": {},
     "source": [
      "$$\\pi(x) = \\frac{e^{\\alpha+\\beta x}}{1+e^{\\alpha+\\beta x}}$$\n",
      "\n",
      "$$1-\\pi(x) = \\frac{1}{1+e^{\\alpha+\\beta x}}$$\n",
      "\n",
      "$$\\frac{\\pi(x)}{1-\\pi(x)} = e^{\\alpha+\\beta x}$$\n",
      "\n",
      "$$\\text{logit}\\left(\\pi(x)\\right)=\\log\\left(\\frac{\\pi(x)}{1-\\pi(x)} \\right) = \\alpha + \\beta x$$\n"
     ]
    },
    {
     "cell_type": "markdown",
     "metadata": {},
     "source": [
      "For variable $y_i\\in\\{0,1\\}$, the expected valye of $y_i$ given $x_i$ is $\\text{logit}\\left(\\pi(x_i)\\right)$"
     ]
    },
    {
     "cell_type": "heading",
     "level": 5,
     "metadata": {},
     "source": [
      "Logistic vs Linear regression"
     ]
    },
    {
     "cell_type": "markdown",
     "metadata": {},
     "source": [
      "**Linear regression: ** $y_i = \\alpha +\\beta x_i$\n",
      "\n",
      "$y_i$ comes from a normal distribution with standard deviation $\\sigma$\n",
      "\n",
      "$y_i=\\alpha + \\beta x_i$ is the linear predictor"
     ]
    },
    {
     "cell_type": "markdown",
     "metadata": {},
     "source": [
      "**Logistic regression: ** The expected value of $E[y_i]$ *given* $x_i$ is $\\pi_i=\\pi(x_i)$ and $$\\text{logit}\\left(E[y_i]\\right)=\\text{logit}\\left(\\pi(x_i)\\right)=\\alpha + \\beta x_i$$\n",
      "\n",
      "$y_i\\in\\{0,1\\}$ with $\\text{Pr}(y_i=1)=\\pi(x_i)$"
     ]
    },
    {
     "cell_type": "heading",
     "level": 5,
     "metadata": {},
     "source": [
      " Logistic Regression Computation"
     ]
    },
    {
     "cell_type": "markdown",
     "metadata": {},
     "source": [
      "**Input** pairs $(x_i,y_i)$\n",
      "\n",
      "**Output** parameters $\\widehat{\\alpha}$ and $\\widehat{\\beta}$ that maximize the likelihood of the data given these parameters for the logistic regression model.\n",
      "\n",
      "**Method** Maximum likelihood estimation"
     ]
    },
    {
     "cell_type": "code",
     "collapsed": false,
     "input": [
      "logit = sm.Logit(df['admit'], df[train_cols])\n",
      " \n",
      "# fit the model\n",
      "result = logit.fit() "
     ],
     "language": "python",
     "metadata": {},
     "outputs": []
    },
    {
     "cell_type": "code",
     "collapsed": false,
     "input": [
      "print result.summary()"
     ],
     "language": "python",
     "metadata": {},
     "outputs": []
    },
    {
     "cell_type": "markdown",
     "metadata": {},
     "source": [
      "Some more information on performing logistic regression using the statmodels package can be found here:\n",
      "\n",
      "http://blog.yhathq.com/posts/logistic-regression-and-python.html"
     ]
    },
    {
     "cell_type": "heading",
     "level": 3,
     "metadata": {},
     "source": [
      "Analyzing affairs dataset:\n",
      "\n",
      "http://statsmodels.sourceforge.net/stable/datasets/generated/fair.html"
     ]
    },
    {
     "cell_type": "markdown",
     "metadata": {},
     "source": [
      "Extramarital affair data used to explain the allocation of an individual\u2019s time among work, time spent with a spouse, and time spent with a paramour. The data is used as an example of regression with censored data."
     ]
    },
    {
     "cell_type": "code",
     "collapsed": false,
     "input": [
      "# load dataset\n",
      "dta = sm.datasets.fair.load_pandas().data\n",
      "\n",
      "print dta.head(2)"
     ],
     "language": "python",
     "metadata": {},
     "outputs": []
    },
    {
     "cell_type": "code",
     "collapsed": false,
     "input": [
      "# add \"affair\" column: 1 represents having affairs, 0 represents not\n",
      "dta['affair'] = (dta.affairs > 0).astype(int)"
     ],
     "language": "python",
     "metadata": {},
     "outputs": []
    },
    {
     "cell_type": "markdown",
     "metadata": {},
     "source": [
      "Understanding our data"
     ]
    },
    {
     "cell_type": "code",
     "collapsed": false,
     "input": [
      "dta.groupby('affair').mean()"
     ],
     "language": "python",
     "metadata": {},
     "outputs": []
    },
    {
     "cell_type": "markdown",
     "metadata": {},
     "source": [
      "We can see that on average, marriages **with**  affairs are rated lower, which is to be expected. "
     ]
    },
    {
     "cell_type": "code",
     "collapsed": false,
     "input": [
      "dta.groupby('rate_marriage').mean()"
     ],
     "language": "python",
     "metadata": {},
     "outputs": []
    },
    {
     "cell_type": "markdown",
     "metadata": {},
     "source": [
      "An increase in age, yrs_married, and children appears to correlate with a declining marriage rating."
     ]
    },
    {
     "cell_type": "code",
     "collapsed": false,
     "input": [
      "# histogram of education\n",
      "dta.educ.value_counts().sort_index().plot(kind='bar')\n",
      "plt.title('Histogram of Education')\n",
      "plt.xlabel('Education Level')\n",
      "plt.ylabel('Frequency')\n",
      "plt.show()"
     ],
     "language": "python",
     "metadata": {},
     "outputs": []
    },
    {
     "cell_type": "code",
     "collapsed": false,
     "input": [
      "# histogram of marriage rating\n",
      "dta.rate_marriage.value_counts().sort_index().plot(kind='bar', by='affair')\n",
      "plt.title('Histogram of Marriage Rating')\n",
      "plt.xlabel('Marriage Rating')\n",
      "plt.ylabel('Frequency')\n",
      "plt.show()"
     ],
     "language": "python",
     "metadata": {},
     "outputs": []
    },
    {
     "cell_type": "code",
     "collapsed": false,
     "input": [
      "# barplot of marriage rating grouped by affair (True or False)\n",
      "pd.crosstab(dta.rate_marriage, dta.affair.astype(bool)).plot(kind='bar')\n",
      "plt.title('Marriage Rating Distribution by Affair Status')\n",
      "plt.xlabel('Marriage Rating')\n",
      "plt.ylabel('Frequency')\n",
      "plt.legend(loc='center left', title=\"Affair\", bbox_to_anchor=(1, 0.5))\n",
      "plt.show()"
     ],
     "language": "python",
     "metadata": {},
     "outputs": []
    },
    {
     "cell_type": "markdown",
     "metadata": {},
     "source": [
      "Stacked barplot to look at the percentage of women having affairs by number of years of marriage.\n"
     ]
    },
    {
     "cell_type": "code",
     "collapsed": false,
     "input": [
      "affair_yrs_married = pd.crosstab(dta.yrs_married, dta.affair.astype(bool))\n",
      "affair_yrs_married.div(affair_yrs_married.sum(1).astype(float), axis=0).plot(kind='bar',\n",
      "                                                                             stacked=True\n",
      "                                                                             )\n",
      "plt.title('Affair Percentage by Years Married')\n",
      "plt.xlabel('Years Married')\n",
      "plt.ylabel('Percentage')\n",
      "plt.legend(loc='center left', title=\"Affair\", bbox_to_anchor=(1, 0.5))\n",
      "plt.show()"
     ],
     "language": "python",
     "metadata": {},
     "outputs": []
    },
    {
     "cell_type": "heading",
     "level": 5,
     "metadata": {},
     "source": [
      "Logistic regression on the affairs dataset"
     ]
    },
    {
     "cell_type": "markdown",
     "metadata": {},
     "source": [
      "Treat affair as a target variable and occupation and occupation_husb as boolean variables:\n",
      "\n",
      "http://patsy.readthedocs.org/en/latest/API-reference.html"
     ]
    },
    {
     "cell_type": "code",
     "collapsed": false,
     "input": [
      "# create dataframes with an intercept column and dummy variables for\n",
      "# occupation and occupation_husb\n",
      "y, X = dmatrices('affair ~ rate_marriage + age + yrs_married + children + \\\n",
      "                  religious + educ + C(occupation) + C(occupation_husb)',\n",
      "                  dta, return_type=\"dataframe\")\n",
      "print X.columns"
     ],
     "language": "python",
     "metadata": {},
     "outputs": []
    },
    {
     "cell_type": "markdown",
     "metadata": {},
     "source": [
      "Renaming the occupation-related binary variables"
     ]
    },
    {
     "cell_type": "code",
     "collapsed": false,
     "input": [
      "# fix column names of X\n",
      "X = X.rename(columns = {'C(occupation)[T.2.0]':'occ_2',\n",
      "                        'C(occupation)[T.3.0]':'occ_3',\n",
      "                        'C(occupation)[T.4.0]':'occ_4',\n",
      "                        'C(occupation)[T.5.0]':'occ_5',\n",
      "                        'C(occupation)[T.6.0]':'occ_6',\n",
      "                        'C(occupation_husb)[T.2.0]':'occ_husb_2',\n",
      "                        'C(occupation_husb)[T.3.0]':'occ_husb_3',\n",
      "                        'C(occupation_husb)[T.4.0]':'occ_husb_4',\n",
      "                        'C(occupation_husb)[T.5.0]':'occ_husb_5',\n",
      "                        'C(occupation_husb)[T.6.0]':'occ_husb_6'})\n",
      "print X.columns"
     ],
     "language": "python",
     "metadata": {},
     "outputs": []
    },
    {
     "cell_type": "code",
     "collapsed": false,
     "input": [
      "print y.shape, \n",
      "y = np.ravel(y)\n",
      "print y.shape"
     ],
     "language": "python",
     "metadata": {},
     "outputs": []
    },
    {
     "cell_type": "heading",
     "level": 5,
     "metadata": {},
     "source": [
      "Analyzing the data using Logistic Regression:\n",
      "\n",
      "\n",
      "\n",
      "http://scikit-learn.org/stable/modules/generated/sklearn.linear_model.LogisticRegression.html#sklearn.linear_model.LogisticRegression"
     ]
    },
    {
     "cell_type": "code",
     "collapsed": false,
     "input": [
      "# evaluate the model by splitting into train and test sets\n",
      "X_train, X_test, y_train, y_test = cross_validation.train_test_split(X,\n",
      "                                                                     y,\n",
      "                                                                     test_size=0.3,\n",
      "                                                                     random_state=0\n",
      "                                                                     )\n",
      "logistic_regr = linear_model.LogisticRegression()\n",
      "logistic_regr.fit(X_train, y_train)"
     ],
     "language": "python",
     "metadata": {},
     "outputs": []
    },
    {
     "cell_type": "code",
     "collapsed": false,
     "input": [
      "# predict class labels for the test set\n",
      "y_predicted = logistic_regr.predict(X_test)\n",
      "print y_predicted"
     ],
     "language": "python",
     "metadata": {},
     "outputs": []
    },
    {
     "cell_type": "code",
     "collapsed": false,
     "input": [
      "#prediction probabilities\n",
      "probs = logistic_regr.predict_proba(X_test)\n",
      "print probs"
     ],
     "language": "python",
     "metadata": {},
     "outputs": []
    },
    {
     "cell_type": "code",
     "collapsed": false,
     "input": [
      "# generate evaluation metrics\n",
      "print metrics.accuracy_score(y_test, y_predicted)"
     ],
     "language": "python",
     "metadata": {},
     "outputs": []
    },
    {
     "cell_type": "code",
     "collapsed": false,
     "input": [
      "print metrics.confusion_matrix(y_test, y_predicted)\n",
      "print metrics.classification_report(y_test, y_predicted)"
     ],
     "language": "python",
     "metadata": {},
     "outputs": []
    },
    {
     "cell_type": "markdown",
     "metadata": {},
     "source": [
      "Looking at the coefficients"
     ]
    },
    {
     "cell_type": "code",
     "collapsed": false,
     "input": [
      "# examine the coefficients\n",
      "print pd.DataFrame(zip(X.columns, np.transpose(logistic_regr.coef_)))"
     ],
     "language": "python",
     "metadata": {},
     "outputs": []
    },
    {
     "cell_type": "heading",
     "level": 5,
     "metadata": {},
     "source": [
      "5-fold cross validation of the of the model"
     ]
    },
    {
     "cell_type": "code",
     "collapsed": false,
     "input": [
      "# evaluate the model using 10-fold cross-validation\n",
      "scores = cross_validation.cross_val_score(linear_model.LogisticRegression(),\n",
      "                                          X,\n",
      "                                          y,\n",
      "                                          scoring='accuracy',\n",
      "                                          cv=10)\n",
      "print scores\n",
      "print scores.mean()"
     ],
     "language": "python",
     "metadata": {},
     "outputs": []
    },
    {
     "cell_type": "heading",
     "level": 5,
     "metadata": {},
     "source": [
      "Predicting the probability of an affair"
     ]
    },
    {
     "cell_type": "markdown",
     "metadata": {},
     "source": [
      "Probability of an affair for a random woman not present in the dataset. She's a 25-year-old teacher who graduated college, has been married for 3 years, has 1 child, rates herself as strongly religious, rates her marriage as fair, and her husband is a farmer."
     ]
    },
    {
     "cell_type": "code",
     "collapsed": false,
     "input": [
      "logistic_regr.predict_proba(np.array([1, 0, 0, 1, 0, 0, 1, 0, 0, 0, 0, 3, 25, 3, 1, 4,\n",
      "                              16]))"
     ],
     "language": "python",
     "metadata": {},
     "outputs": []
    },
    {
     "cell_type": "code",
     "collapsed": false,
     "input": [
      "# Code for setting the style of the notebook\n",
      "from IPython.core.display import HTML\n",
      "def css_styling():\n",
      "    styles = open(\"../theme/custom.css\", \"r\").read()\n",
      "    return HTML(styles)\n",
      "css_styling()"
     ],
     "language": "python",
     "metadata": {},
     "outputs": [
      {
       "html": [
        "<link href='http://fonts.googleapis.com/css?family=EB+Garamond' rel='stylesheet' type='text/css'>\n",
        "<link href='http://fonts.googleapis.com/css?family=Alegreya+Sans:100,300,400,500,700,800,900,100italic,300italic,400italic,500italic,700italic,800italic,900italic' rel='stylesheet' type='text/css'>\n",
        "<link href='http://fonts.googleapis.com/css?family=Source+Code+Pro:300,400' rel='stylesheet' type='text/css'>\n",
        "<style>\n",
        "    @font-face {\n",
        "        font-family: \"Computer Modern\";\n",
        "        src: url('http://mirrors.ctan.org/fonts/cm-unicode/fonts/otf/cmunss.otf');\n",
        "    }\n",
        "    .code_cell {\n",
        "        width: 105ex !important ;\n",
        "        margin-bottom: 15px !important;\n",
        "    }\n",
        "    div.cell {\n",
        "        margin-left: auto;\n",
        "        margin-right: auto;\n",
        "        width: 70%;\n",
        "    }    \n",
        "    div.cell.selected {\n",
        "        border: thin rgba(171, 171, 171, 0.5) dashed;\n",
        "    }\n",
        "    h1 {\n",
        "        font-family: 'Alegreya Sans', sans-serif;\n",
        "    }\n",
        "    h2 {\n",
        "        font-family: 'EB Garamond', serif;\n",
        "    }\n",
        "    h3 {\n",
        "        font-family: 'EB Garamond', serif;\n",
        "        margin-top:12px;\n",
        "        margin-bottom: 3px;\n",
        "    }\n",
        "    h4 {\n",
        "        font-family: 'EB Garamond', serif;\n",
        "    }\n",
        "    h5 {\n",
        "        font-family: 'Alegreya Sans', sans-serif;\n",
        "    }\n",
        "    div.text_cell_render {\n",
        "        font-family: 'EB Garamond',Computer Modern, \"Helvetica Neue\", Arial, Helvetica, Geneva, sans-serif;\n",
        "        line-height: 145%;\n",
        "        font-size: 140%;\n",
        "    }\n",
        "    div.input_area {\n",
        "        border-color: rgba(0,0,0,0.10) !important;\n",
        "        background: #fafafa;\n",
        "    }\n",
        "    .CodeMirror {\n",
        "            font-family: \"Source Code Pro\";\n",
        "            font-size: 90%;\n",
        "    }\n",
        "    .prompt {\n",
        "        display: None;\n",
        "    }\n",
        "    .output {\n",
        "        padding-left: 50px;\n",
        "        padding-top: 5px;\n",
        "    }\n",
        "    .output_wrapper {\n",
        "        padding-left: 5px;\n",
        "        padding-top: inherit;\n",
        "    }\n",
        "    div.output_scroll {\n",
        "        width: inherit;\n",
        "    }\n",
        "    .inner_cell {\n",
        "        padding-left: 5px;\n",
        "    }\n",
        "    .text_cell_render h1 {\n",
        "        font-weight: 200;\n",
        "        font-size: 50pt;\n",
        "        line-height: 100%;\n",
        "        color:#CD2305;\n",
        "        margin-bottom: 0.5em;\n",
        "        margin-top: 0.5em;\n",
        "        display: block;\n",
        "    }\n",
        "    .text_cell_render h5 {\n",
        "        font-weight: 300;\n",
        "        font-size: 16pt;\n",
        "        color: #CD2305;\n",
        "        font-style: italic;\n",
        "        margin-bottom: .5em;\n",
        "        margin-top: 0.5em;\n",
        "        display: block;\n",
        "    }\n",
        "    .warning {\n",
        "        color: rgb( 240, 20, 20 )\n",
        "        }  \n",
        "</style>\n",
        "<script>\n",
        "    MathJax.Hub.Config({\n",
        "                        TeX: {\n",
        "                           extensions: [\"AMSmath.js\"]\n",
        "                           },\n",
        "                tex2jax: {\n",
        "                    inlineMath: [ ['$','$'], [\"\\\\(\",\"\\\\)\"] ],\n",
        "                    displayMath: [ ['$$','$$'], [\"\\\\[\",\"\\\\]\"] ]\n",
        "                },\n",
        "                displayAlign: 'center', // Change this to 'center' to center equations.\n",
        "                \"HTML-CSS\": {\n",
        "                    styles: {'.MathJax_Display': {\"margin\": 4}}\n",
        "                }\n",
        "        });\n",
        "</script>"
       ],
       "metadata": {},
       "output_type": "pyout",
       "prompt_number": 76,
       "text": [
        "<IPython.core.display.HTML at 0x1aa1bfd0>"
       ]
      }
     ],
     "prompt_number": 76
    }
   ],
   "metadata": {}
  }
 ]
}