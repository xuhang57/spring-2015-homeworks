{
 "metadata": {
  "celltoolbar": "Raw Cell Format",
  "name": "",
  "signature": "sha256:da6966f2235dd26a37cabaeeb4121179687283d5841ee469fb7abd0c594bfa1f"
 },
 "nbformat": 3,
 "nbformat_minor": 0,
 "worksheets": [
  {
   "cells": [
    {
     "cell_type": "heading",
     "level": 1,
     "metadata": {},
     "source": [
      "Getting to know your data with Pandas"
     ]
    },
    {
     "cell_type": "heading",
     "level": 2,
     "metadata": {},
     "source": [
      "What is Pandas"
     ]
    },
    {
     "cell_type": "markdown",
     "metadata": {},
     "source": [
      "Pandas is Python Data Analysis Library. Pandas provides an R-like DataFrame, produces high quality plots with matplotlib, and integrates nicely with other libraries that expect NumPy arrays."
     ]
    },
    {
     "cell_type": "heading",
     "level": 2,
     "metadata": {},
     "source": [
      "Getting started"
     ]
    },
    {
     "cell_type": "code",
     "collapsed": false,
     "input": [
      "\n",
      "import pandas as pd\n",
      "import pandas.io.data as web\n",
      "from pandas import Series, DataFrame\n",
      "\n",
      "import matplotlib.pyplot as plt\n",
      "import matplotlib as mpl\n",
      "import seaborn as sns\n",
      "\n",
      "\n",
      "from datetime import datetime\n",
      "\n",
      "#pd.__version__\n",
      "\n",
      "%matplotlib inline\n",
      "print \"successfully done\""
     ],
     "language": "python",
     "metadata": {},
     "outputs": [
      {
       "output_type": "stream",
       "stream": "stdout",
       "text": [
        "successfully done\n"
       ]
      }
     ],
     "prompt_number": 1
    },
    {
     "cell_type": "heading",
     "level": 2,
     "metadata": {},
     "source": [
      "Fetching storing and retrieving your data"
     ]
    },
    {
     "cell_type": "markdown",
     "metadata": {},
     "source": [
      "More information on what types of data you can fetch\n",
      "\n",
      "http://pandas.pydata.org/pandas-docs/stable/remote_data.html"
     ]
    },
    {
     "cell_type": "code",
     "collapsed": false,
     "input": [
      "#yahoo data\n",
      "#stocks = ['ORCL', 'TSLA', 'IBM','YELP', 'MSFT']\n",
      "stocks = 'YELP'\n",
      "#ls_key = 'Adj Close'\n",
      "#yahoo_stocks = pd.io.data.DataReader(stocks,'yahoo', \n",
      "#                                 start=datetime.datetime(2014, 1, 1), \n",
      "#                                 end=datetime.datetime(2014, 12, 31))\n",
      "\n",
      "yahoo_stocks = pd.io.data.get_data_yahoo(stocks)\n",
      "#                                 start=datetime.datetime(2011, 10, 1), \n",
      "#                                 end=datetime.datetime(2014, 12, 31))\n",
      "\n",
      "#yahoo_stocks.head()\n",
      "yahoo_stocks.info()"
     ],
     "language": "python",
     "metadata": {},
     "outputs": [
      {
       "output_type": "stream",
       "stream": "stdout",
       "text": [
        "<class 'pandas.core.frame.DataFrame'>\n",
        "DatetimeIndex: 740 entries, 2012-03-02 00:00:00 to 2015-02-10 00:00:00\n",
        "Data columns (total 6 columns):\n",
        "Open         740 non-null float64\n",
        "High         740 non-null float64\n",
        "Low          740 non-null float64\n",
        "Close        740 non-null float64\n",
        "Volume       740 non-null int64\n",
        "Adj Close    740 non-null float64\n",
        "dtypes: float64(5), int64(1)\n",
        "memory usage: 40.5 KB\n"
       ]
      }
     ],
     "prompt_number": 2
    },
    {
     "cell_type": "markdown",
     "metadata": {},
     "source": [
      "More on pandas data frames: \n",
      "\n",
      "\n",
      "http://pandas.pydata.org/pandas-docs/dev/generated/pandas.DataFrame.html"
     ]
    },
    {
     "cell_type": "heading",
     "level": 4,
     "metadata": {},
     "source": [
      "Reading data from a .csv file"
     ]
    },
    {
     "cell_type": "markdown",
     "metadata": {},
     "source": [
      "Some basic commands for reading and getting to know the characteristics of your data"
     ]
    },
    {
     "cell_type": "code",
     "collapsed": false,
     "input": [
      "yahoo_stocks.to_csv('yahoo_data.csv')\n",
      "#print(open('yahoo_data.csv').read())\n",
      "df = pd.read_csv('yahoo_data.csv')#, index_col='Date', infer_datetime_format=True, parse_dates=True)\n",
      "\n",
      "# print df.head()\n",
      "# print df.info()\n",
      "# print df.index\n",
      "# print df.tail()\n",
      "print df"
     ],
     "language": "python",
     "metadata": {},
     "outputs": [
      {
       "output_type": "stream",
       "stream": "stdout",
       "text": [
        "           Date   Open   High    Low  Close    Volume  Adj Close\n",
        "0    2012-03-02  22.01  26.00  22.00  24.58   4809400      24.58\n",
        "1    2012-03-05  24.85  24.86  20.90  20.99   2988200      20.99\n",
        "2    2012-03-06  19.83  20.50  19.36  20.50   1154300      20.50\n",
        "3    2012-03-07  20.45  20.63  19.95  20.25    444800      20.25\n",
        "4    2012-03-08  20.30  20.39  19.96  20.00    436900      20.00\n",
        "5    2012-03-09  20.00  20.10  19.50  19.80    668200      19.80\n",
        "6    2012-03-12  19.80  22.49  19.52  22.49   1358200      22.49\n",
        "7    2012-03-13  22.55  24.40  22.20  23.30   2053900      23.30\n",
        "8    2012-03-14  23.27  23.35  22.20  22.32    589600      22.32\n",
        "9    2012-03-15  22.45  23.29  21.36  21.75    875600      21.75\n",
        "10   2012-03-16  21.93  22.17  21.06  21.74    433600      21.74\n",
        "11   2012-03-19  22.20  23.93  21.70  22.99    858400      22.99\n",
        "12   2012-03-20  23.15  23.47  22.10  22.90    782200      22.90\n",
        "13   2012-03-21  23.00  24.10  22.68  23.12   1375000      23.12\n",
        "14   2012-03-22  23.32  23.32  22.44  23.22    370800      23.22\n",
        "15   2012-03-23  23.22  23.25  22.30  23.18    307000      23.18\n",
        "16   2012-03-26  23.26  24.88  23.01  24.60   1052000      24.60\n",
        "17   2012-03-27  24.80  27.75  24.25  27.65   3141300      27.65\n",
        "18   2012-03-28  27.52  31.96  27.10  28.09   5267300      28.09\n",
        "19   2012-03-29  27.99  29.78  27.58  28.01   1425200      28.01\n",
        "20   2012-03-30  28.58  29.27  25.82  26.89   1887200      26.89\n",
        "21   2012-04-02  26.90  27.80  25.27  27.12   1166500      27.12\n",
        "22   2012-04-03  27.20  28.40  25.92  26.70   1384800      26.70\n",
        "23   2012-04-04  25.94  27.00  25.94  26.16    440700      26.16\n",
        "24   2012-04-05  25.96  26.40  24.02  24.17   1352200      24.17\n",
        "25   2012-04-09  23.86  25.58  22.74  25.22   1397800      25.22\n",
        "26   2012-04-10  25.45  26.51  24.50  25.81   1027500      25.81\n",
        "27   2012-04-11  25.47  26.25  24.57  25.43   1004200      25.43\n",
        "28   2012-04-12  25.21  26.44  25.17  26.20    728000      26.20\n",
        "29   2012-04-13  26.00  26.97  25.44  26.33    508200      26.33\n",
        "..          ...    ...    ...    ...    ...       ...        ...\n",
        "710  2014-12-29  52.77  53.86  52.52  53.01   1181500      53.01\n",
        "711  2014-12-30  53.09  54.95  52.85  54.24   2336800      54.24\n",
        "712  2014-12-31  54.71  55.57  54.16  54.73   1858000      54.73\n",
        "713  2015-01-02  55.46  55.60  54.24  55.15   1664500      55.15\n",
        "714  2015-01-05  54.54  54.95  52.33  52.53   2023000      52.53\n",
        "715  2015-01-06  52.55  53.93  50.75  52.44   3751200      52.44\n",
        "716  2015-01-07  53.32  53.75  51.76  52.21   1548200      52.21\n",
        "717  2015-01-08  52.59  54.14  51.76  53.83   2015300      53.83\n",
        "718  2015-01-09  55.96  56.99  54.72  56.07   6222600      56.07\n",
        "719  2015-01-12  56.00  56.06  53.43  54.02   2405100      54.02\n",
        "720  2015-01-13  54.47  54.80  52.52  53.18   1952100      53.18\n",
        "721  2015-01-14  52.80  53.68  51.46  52.20   1846100      52.20\n",
        "722  2015-01-15  53.00  53.61  50.03  50.12   2640400      50.12\n",
        "723  2015-01-16  50.18  51.49  50.03  51.39   2182300      51.39\n",
        "724  2015-01-20  51.65  51.78  50.69  51.41   1227600      51.41\n",
        "725  2015-01-21  51.20  53.50  51.20  53.41   3228700      53.41\n",
        "726  2015-01-22  53.87  55.28  53.12  54.80   2295400      54.80\n",
        "727  2015-01-23  54.66  55.64  54.30  55.19   1629000      55.19\n",
        "728  2015-01-26  55.12  55.79  54.83  55.41   1450300      55.41\n",
        "729  2015-01-27  56.06  56.16  54.57  55.63   2403700      55.63\n",
        "730  2015-01-28  56.15  56.15  52.92  53.00   2002700      53.00\n",
        "731  2015-01-29  52.85  53.31  51.41  52.93   1838000      52.93\n",
        "732  2015-01-30  52.59  53.42  52.05  52.47   1873900      52.47\n",
        "733  2015-02-02  52.94  53.50  51.21  53.47   2105500      53.47\n",
        "734  2015-02-03  53.83  55.93  53.41  55.78   2876400      55.78\n",
        "735  2015-02-04  55.53  57.07  55.25  56.74   2494400      56.74\n",
        "736  2015-02-05  57.60  57.70  56.08  57.47   4195400      57.47\n",
        "737  2015-02-06  47.70  48.17  44.86  45.11  25137400      45.11\n",
        "738  2015-02-09  44.91  45.04  42.10  42.17  13044700      42.17\n",
        "739  2015-02-10  43.83  45.55  43.31  44.66  11247800      44.66\n",
        "\n",
        "[740 rows x 7 columns]\n"
       ]
      }
     ],
     "prompt_number": 3
    },
    {
     "cell_type": "code",
     "collapsed": false,
     "input": [
      "#The number of tuples in your data\n",
      "print len(df)"
     ],
     "language": "python",
     "metadata": {},
     "outputs": [
      {
       "output_type": "stream",
       "stream": "stdout",
       "text": [
        "740\n"
       ]
      }
     ],
     "prompt_number": 13
    },
    {
     "cell_type": "heading",
     "level": 2,
     "metadata": {},
     "source": [
      "Playing with data columns"
     ]
    },
    {
     "cell_type": "code",
     "collapsed": false,
     "input": [
      "#The columns/features of your data\n",
      "print df.columns"
     ],
     "language": "python",
     "metadata": {},
     "outputs": [
      {
       "output_type": "stream",
       "stream": "stdout",
       "text": [
        "Index([u'Date', u'Open', u'High', u'Low', u'Close', u'Volume', u'Adj Close'], dtype='object')\n"
       ]
      }
     ],
     "prompt_number": 4
    },
    {
     "cell_type": "code",
     "collapsed": false,
     "input": [
      "#Selecting a single column from your data\n",
      "print df['Open']"
     ],
     "language": "python",
     "metadata": {},
     "outputs": [
      {
       "output_type": "stream",
       "stream": "stdout",
       "text": [
        "0     22.01\n",
        "1     24.85\n",
        "2     19.83\n",
        "3     20.45\n",
        "4     20.30\n",
        "5     20.00\n",
        "6     19.80\n",
        "7     22.55\n",
        "8     23.27\n",
        "9     22.45\n",
        "10    21.93\n",
        "11    22.20\n",
        "12    23.15\n",
        "13    23.00\n",
        "14    23.32\n",
        "...\n",
        "725    51.20\n",
        "726    53.87\n",
        "727    54.66\n",
        "728    55.12\n",
        "729    56.06\n",
        "730    56.15\n",
        "731    52.85\n",
        "732    52.59\n",
        "733    52.94\n",
        "734    53.83\n",
        "735    55.53\n",
        "736    57.60\n",
        "737    47.70\n",
        "738    44.91\n",
        "739    43.83\n",
        "Name: Open, Length: 740, dtype: float64\n"
       ]
      }
     ],
     "prompt_number": 4
    },
    {
     "cell_type": "code",
     "collapsed": false,
     "input": [
      "#Another way of selecting a single column from your data\n",
      "print df.Open"
     ],
     "language": "python",
     "metadata": {},
     "outputs": [
      {
       "output_type": "stream",
       "stream": "stdout",
       "text": [
        "0     22.01\n",
        "1     24.85\n",
        "2     19.83\n",
        "3     20.45\n",
        "4     20.30\n",
        "5     20.00\n",
        "6     19.80\n",
        "7     22.55\n",
        "8     23.27\n",
        "9     22.45\n",
        "10    21.93\n",
        "11    22.20\n",
        "12    23.15\n",
        "13    23.00\n",
        "14    23.32\n",
        "...\n",
        "725    51.20\n",
        "726    53.87\n",
        "727    54.66\n",
        "728    55.12\n",
        "729    56.06\n",
        "730    56.15\n",
        "731    52.85\n",
        "732    52.59\n",
        "733    52.94\n",
        "734    53.83\n",
        "735    55.53\n",
        "736    57.60\n",
        "737    47.70\n",
        "738    44.91\n",
        "739    43.83\n",
        "Name: Open, Length: 740, dtype: float64\n"
       ]
      }
     ],
     "prompt_number": 6
    },
    {
     "cell_type": "code",
     "collapsed": false,
     "input": [
      "print df.columns\n",
      "print (df[['Open','Close']]).info()\n",
      "#print df[['Open','Close']]"
     ],
     "language": "python",
     "metadata": {},
     "outputs": [
      {
       "output_type": "stream",
       "stream": "stdout",
       "text": [
        "Index([u'Date', u'Open', u'High', u'Low', u'Close', u'Volume', u'Adj Close'], dtype='object')\n",
        "<class 'pandas.core.frame.DataFrame'>\n",
        "Int64Index: 740 entries, 0 to 739\n",
        "Data columns (total 2 columns):\n",
        "Open     740 non-null float64\n",
        "Close    740 non-null float64\n",
        "dtypes: float64(2)\n",
        "memory usage: 17.3 KB\n",
        "None\n"
       ]
      }
     ],
     "prompt_number": 5
    },
    {
     "cell_type": "code",
     "collapsed": false,
     "input": [
      "print df.Date.head(10)\n",
      "print df.Date.tail(10)\n"
     ],
     "language": "python",
     "metadata": {},
     "outputs": [
      {
       "output_type": "stream",
       "stream": "stdout",
       "text": [
        "0    2012-03-02\n",
        "1    2012-03-05\n",
        "2    2012-03-06\n",
        "3    2012-03-07\n",
        "4    2012-03-08\n",
        "5    2012-03-09\n",
        "6    2012-03-12\n",
        "7    2012-03-13\n",
        "8    2012-03-14\n",
        "9    2012-03-15\n",
        "Name: Date, dtype: object\n",
        "730    2015-01-28\n",
        "731    2015-01-29\n",
        "732    2015-01-30\n",
        "733    2015-02-02\n",
        "734    2015-02-03\n",
        "735    2015-02-04\n",
        "736    2015-02-05\n",
        "737    2015-02-06\n",
        "738    2015-02-09\n",
        "739    2015-02-10\n",
        "Name: Date, dtype: object\n"
       ]
      }
     ],
     "prompt_number": 19
    },
    {
     "cell_type": "code",
     "collapsed": false,
     "input": [
      "#alternative\n",
      "print df['Date'].head(10)\n",
      "print df['Date'].tail(10)"
     ],
     "language": "python",
     "metadata": {},
     "outputs": [
      {
       "output_type": "stream",
       "stream": "stdout",
       "text": [
        "0    2012-03-02\n",
        "1    2012-03-05\n",
        "2    2012-03-06\n",
        "3    2012-03-07\n",
        "4    2012-03-08\n",
        "5    2012-03-09\n",
        "6    2012-03-12\n",
        "7    2012-03-13\n",
        "8    2012-03-14\n",
        "9    2012-03-15\n",
        "Name: Date, dtype: object\n",
        "730    2015-01-28\n",
        "731    2015-01-29\n",
        "732    2015-01-30\n",
        "733    2015-02-02\n",
        "734    2015-02-03\n",
        "735    2015-02-04\n",
        "736    2015-02-05\n",
        "737    2015-02-06\n",
        "738    2015-02-09\n",
        "739    2015-02-10\n",
        "Name: Date, dtype: object\n"
       ]
      }
     ],
     "prompt_number": 6
    },
    {
     "cell_type": "heading",
     "level": 4,
     "metadata": {},
     "source": [
      "Changing the column names"
     ]
    },
    {
     "cell_type": "code",
     "collapsed": false,
     "input": [
      "new_column_names = [ x.lower().replace(' ','_') for x in df.columns]\n",
      "new_column_names\n",
      "df.columns = new_column_names\n",
      "print df.info()"
     ],
     "language": "python",
     "metadata": {},
     "outputs": [
      {
       "output_type": "stream",
       "stream": "stdout",
       "text": [
        "<class 'pandas.core.frame.DataFrame'>\n",
        "Int64Index: 740 entries, 0 to 739\n",
        "Data columns (total 7 columns):\n",
        "date         740 non-null object\n",
        "open         740 non-null float64\n",
        "high         740 non-null float64\n",
        "low          740 non-null float64\n",
        "close        740 non-null float64\n",
        "volume       740 non-null int64\n",
        "adj_close    740 non-null float64\n",
        "dtypes: float64(5), int64(1), object(1)\n",
        "memory usage: 46.2+ KB\n",
        "None\n"
       ]
      }
     ],
     "prompt_number": 7
    },
    {
     "cell_type": "heading",
     "level": 4,
     "metadata": {},
     "source": [
      "Now **all** columns can be accessed using the **dot** notation"
     ]
    },
    {
     "cell_type": "code",
     "collapsed": false,
     "input": [
      "print df.adj_close"
     ],
     "language": "python",
     "metadata": {},
     "outputs": [
      {
       "output_type": "stream",
       "stream": "stdout",
       "text": [
        "0     24.58\n",
        "1     20.99\n",
        "2     20.50\n",
        "3     20.25\n",
        "4     20.00\n",
        "5     19.80\n",
        "6     22.49\n",
        "7     23.30\n",
        "8     22.32\n",
        "9     21.75\n",
        "10    21.74\n",
        "11    22.99\n",
        "12    22.90\n",
        "13    23.12\n",
        "14    23.22\n",
        "...\n",
        "725    53.41\n",
        "726    54.80\n",
        "727    55.19\n",
        "728    55.41\n",
        "729    55.63\n",
        "730    53.00\n",
        "731    52.93\n",
        "732    52.47\n",
        "733    53.47\n",
        "734    55.78\n",
        "735    56.74\n",
        "736    57.47\n",
        "737    45.11\n",
        "738    42.17\n",
        "739    44.66\n",
        "Name: adj_close, Length: 740, dtype: float64\n"
       ]
      }
     ],
     "prompt_number": 8
    },
    {
     "cell_type": "code",
     "collapsed": false,
     "input": [
      "print df.adj_close.head()"
     ],
     "language": "python",
     "metadata": {},
     "outputs": [
      {
       "output_type": "stream",
       "stream": "stdout",
       "text": [
        "0    24.58\n",
        "1    20.99\n",
        "2    20.50\n",
        "3    20.25\n",
        "4    20.00\n",
        "Name: adj_close, dtype: float64\n"
       ]
      }
     ],
     "prompt_number": 10
    },
    {
     "cell_type": "heading",
     "level": 4,
     "metadata": {},
     "source": [
      "We can now apply methods on different columns"
     ]
    },
    {
     "cell_type": "code",
     "collapsed": false,
     "input": [
      "print df.mean().round(2)\n",
      "print df.std()\n",
      "print df.median()\n",
      "print df.open.mean()\n",
      "print df.high.mean()"
     ],
     "language": "python",
     "metadata": {},
     "outputs": [
      {
       "output_type": "stream",
       "stream": "stdout",
       "text": [
        "open              46.71\n",
        "high              47.83\n",
        "low               45.50\n",
        "close             46.65\n",
        "volume       2640113.65\n",
        "adj_close         46.65\n",
        "dtype: float64\n",
        "open              23.422078\n",
        "high              23.821888\n",
        "low               22.876923\n",
        "close             23.315674\n",
        "volume       2747138.088332\n",
        "adj_close         23.315674\n",
        "dtype: float64\n",
        "open              51.085\n",
        "high              52.435\n",
        "low               50.025\n",
        "close             51.400\n",
        "volume       1978650.000\n",
        "adj_close         51.400\n",
        "dtype: float64\n",
        "46.7101081081\n",
        "47.8317972973\n"
       ]
      }
     ],
     "prompt_number": 17
    },
    {
     "cell_type": "heading",
     "level": 4,
     "metadata": {},
     "source": [
      "Plotting some columns"
     ]
    },
    {
     "cell_type": "code",
     "collapsed": false,
     "input": [
      "df.adj_close.plot(label='adj')\n",
      "df.low.plot(label='low')\n",
      "#df.low.plot()\n",
      "plt.legend(loc=2)"
     ],
     "language": "python",
     "metadata": {},
     "outputs": [
      {
       "metadata": {},
       "output_type": "pyout",
       "prompt_number": 23,
       "text": [
        "<matplotlib.legend.Legend at 0x112689b50>"
       ]
      },
      {
       "metadata": {},
       "output_type": "display_data",
       "png": "[encoded data removed]",
       "text": [
        "<matplotlib.figure.Figure at 0x112689290>"
       ]
      }
     ],
     "prompt_number": 23
    },
    {
     "cell_type": "code",
     "collapsed": false,
     "input": [
      "df.adj_close.hist()\n",
      "#df.volume.hist()"
     ],
     "language": "python",
     "metadata": {},
     "outputs": [
      {
       "metadata": {},
       "output_type": "pyout",
       "prompt_number": 9,
       "text": [
        "<matplotlib.axes._subplots.AxesSubplot at 0x11220cf90>"
       ]
      },
      {
       "metadata": {},
       "output_type": "display_data",
       "png": "[encoded data removed]",
       "text": [
        "<matplotlib.figure.Figure at 0x1044a8990>"
       ]
      }
     ],
     "prompt_number": 9
    },
    {
     "cell_type": "heading",
     "level": 2,
     "metadata": {},
     "source": [
      "Bulk Operations"
     ]
    },
    {
     "cell_type": "markdown",
     "metadata": {},
     "source": [
      "Methods like **sum( )** and **std( )** work on entire columns. We can run our own functions across all values in a column (or row) using **apply( )**."
     ]
    },
    {
     "cell_type": "code",
     "collapsed": false,
     "input": [
      "print df.date.head()"
     ],
     "language": "python",
     "metadata": {},
     "outputs": [
      {
       "output_type": "stream",
       "stream": "stdout",
       "text": [
        "0    2012-03-02\n",
        "1    2012-03-05\n",
        "2    2012-03-06\n",
        "3    2012-03-07\n",
        "4    2012-03-08\n",
        "Name: date, dtype: object\n"
       ]
      }
     ],
     "prompt_number": 10
    },
    {
     "cell_type": "markdown",
     "metadata": {},
     "source": [
      "The **values** property of the column returns a list of values for the column. Inspecting the first value reveals that these are strings with a particular format."
     ]
    },
    {
     "cell_type": "code",
     "collapsed": false,
     "input": [
      "print df.date.values\n",
      "first_date = df.date.values[0]\n",
      "print first_date"
     ],
     "language": "python",
     "metadata": {},
     "outputs": [
      {
       "ename": "NameError",
       "evalue": "name 'df' is not defined",
       "output_type": "pyerr",
       "traceback": [
        "\u001b[0;31m---------------------------------------------------------------------------\u001b[0m\n\u001b[0;31mNameError\u001b[0m                                 Traceback (most recent call last)",
        "\u001b[0;32m<ipython-input-1-57b81d59d3a8>\u001b[0m in \u001b[0;36m<module>\u001b[0;34m()\u001b[0m\n\u001b[0;32m----> 1\u001b[0;31m \u001b[0;32mprint\u001b[0m \u001b[0mdf\u001b[0m\u001b[0;34m.\u001b[0m\u001b[0mdate\u001b[0m\u001b[0;34m.\u001b[0m\u001b[0mvalues\u001b[0m\u001b[0;34m\u001b[0m\u001b[0m\n\u001b[0m\u001b[1;32m      2\u001b[0m \u001b[0mfirst_date\u001b[0m \u001b[0;34m=\u001b[0m \u001b[0mdf\u001b[0m\u001b[0;34m.\u001b[0m\u001b[0mdate\u001b[0m\u001b[0;34m.\u001b[0m\u001b[0mvalues\u001b[0m\u001b[0;34m[\u001b[0m\u001b[0;36m0\u001b[0m\u001b[0;34m]\u001b[0m\u001b[0;34m\u001b[0m\u001b[0m\n\u001b[1;32m      3\u001b[0m \u001b[0;32mprint\u001b[0m \u001b[0mfirst_date\u001b[0m\u001b[0;34m\u001b[0m\u001b[0m\n",
        "\u001b[0;31mNameError\u001b[0m: name 'df' is not defined"
       ]
      }
     ],
     "prompt_number": 1
    },
    {
     "cell_type": "code",
     "collapsed": false,
     "input": [
      "datetime.strptime(first_date, \"%Y-%m-%d\")"
     ],
     "language": "python",
     "metadata": {},
     "outputs": [
      {
       "metadata": {},
       "output_type": "pyout",
       "prompt_number": 12,
       "text": [
        "datetime.datetime(2012, 3, 2, 0, 0)"
       ]
      }
     ],
     "prompt_number": 12
    },
    {
     "cell_type": "code",
     "collapsed": false,
     "input": [
      "df.date = df.date.apply(lambda d: datetime.strptime(d, \"%Y-%m-%d\"))\n",
      "print df.date.head()"
     ],
     "language": "python",
     "metadata": {},
     "outputs": [
      {
       "output_type": "stream",
       "stream": "stdout",
       "text": [
        "0   2012-03-02\n",
        "1   2012-03-05\n",
        "2   2012-03-06\n",
        "3   2012-03-07\n",
        "4   2012-03-08\n",
        "Name: date, dtype: datetime64[ns]\n"
       ]
      }
     ],
     "prompt_number": 13
    },
    {
     "cell_type": "markdown",
     "metadata": {},
     "source": [
      "Each row in a DataFrame is associated with an index, which is a label that uniquely identifies a row.\n",
      "\n",
      "The row indices so far have been auto-generated by pandas, and are simply integers starting from 0. From now on we will use dates instead of integers for indices-- the benefits of this will show later. Overwriting the index is as easy as assigning to the index property of the DataFrame.\n"
     ]
    },
    {
     "cell_type": "code",
     "collapsed": false,
     "input": [
      "df.index = df.date\n",
      "# Now we have a datetime index for our DF\n",
      "print df.info()\n",
      "print df.head()"
     ],
     "language": "python",
     "metadata": {},
     "outputs": [
      {
       "output_type": "stream",
       "stream": "stdout",
       "text": [
        "<class 'pandas.core.frame.DataFrame'>\n",
        "DatetimeIndex: 740 entries, 2012-03-02 00:00:00 to 2015-02-10 00:00:00\n",
        "Data columns (total 7 columns):\n",
        "date         740 non-null datetime64[ns]\n",
        "open         740 non-null float64\n",
        "high         740 non-null float64\n",
        "low          740 non-null float64\n",
        "close        740 non-null float64\n",
        "volume       740 non-null int64\n",
        "adj_close    740 non-null float64\n",
        "dtypes: datetime64[ns](1), float64(5), int64(1)\n",
        "memory usage: 46.2 KB\n",
        "None\n",
        "                 date   open   high    low  close   volume  adj_close\n",
        "date                                                                 \n",
        "2012-03-02 2012-03-02  22.01  26.00  22.00  24.58  4809400      24.58\n",
        "2012-03-05 2012-03-05  24.85  24.86  20.90  20.99  2988200      20.99\n",
        "2012-03-06 2012-03-06  19.83  20.50  19.36  20.50  1154300      20.50\n",
        "2012-03-07 2012-03-07  20.45  20.63  19.95  20.25   444800      20.25\n",
        "2012-03-08 2012-03-08  20.30  20.39  19.96  20.00   436900      20.00\n"
       ]
      }
     ],
     "prompt_number": 14
    },
    {
     "cell_type": "heading",
     "level": 4,
     "metadata": {},
     "source": [
      "Accessing rows of the DataFrame using index values"
     ]
    },
    {
     "cell_type": "code",
     "collapsed": false,
     "input": [
      "df.ix[datetime(2015,1,23,0,0)]"
     ],
     "language": "python",
     "metadata": {},
     "outputs": [
      {
       "metadata": {},
       "output_type": "pyout",
       "prompt_number": 15,
       "text": [
        "date         2015-01-23 00:00:00\n",
        "open                       54.66\n",
        "high                       55.64\n",
        "low                         54.3\n",
        "close                      55.19\n",
        "volume                   1629000\n",
        "adj_close                  55.19\n",
        "Name: 2015-01-23 00:00:00, dtype: object"
       ]
      }
     ],
     "prompt_number": 15
    },
    {
     "cell_type": "heading",
     "level": 4,
     "metadata": {},
     "source": [
      "Accessing individual rows using iloc[ ]"
     ]
    },
    {
     "cell_type": "code",
     "collapsed": false,
     "input": [
      "df.iloc[0,:]"
     ],
     "language": "python",
     "metadata": {},
     "outputs": [
      {
       "metadata": {},
       "output_type": "pyout",
       "prompt_number": 16,
       "text": [
        "date         2012-03-02 00:00:00\n",
        "open                       22.01\n",
        "high                          26\n",
        "low                           22\n",
        "close                      24.58\n",
        "volume                   4809400\n",
        "adj_close                  24.58\n",
        "Name: 2012-03-02 00:00:00, dtype: object"
       ]
      }
     ],
     "prompt_number": 16
    },
    {
     "cell_type": "heading",
     "level": 4,
     "metadata": {},
     "source": [
      "Iterating over the rows using **iterrows( )**"
     ]
    },
    {
     "cell_type": "code",
     "collapsed": false,
     "input": [
      "num_positive_days = 0\n",
      "for idx, row in df.iterrows():\n",
      "    if row.close > row.open:\n",
      "        num_positive_days += 1\n",
      "        \n",
      "print \"The total number of positive-gain days : \" + str(num_positive_days)"
     ],
     "language": "python",
     "metadata": {},
     "outputs": [
      {
       "output_type": "stream",
       "stream": "stdout",
       "text": [
        "The total number of positive-gain days : 359\n"
       ]
      }
     ],
     "prompt_number": 17
    },
    {
     "cell_type": "heading",
     "level": 4,
     "metadata": {},
     "source": [
      "Droping a column"
     ]
    },
    {
     "cell_type": "markdown",
     "metadata": {},
     "source": [
      "Now that we have made an index based on date, we can drop the actual ``date\" column"
     ]
    },
    {
     "cell_type": "code",
     "collapsed": false,
     "input": [
      "df = df.drop(['date'],axis=1)\n",
      "print df.info()\n",
      "print df.columns"
     ],
     "language": "python",
     "metadata": {},
     "outputs": [
      {
       "output_type": "stream",
       "stream": "stdout",
       "text": [
        "<class 'pandas.core.frame.DataFrame'>\n",
        "DatetimeIndex: 740 entries, 2012-03-02 00:00:00 to 2015-02-10 00:00:00\n",
        "Data columns (total 6 columns):\n",
        "open         740 non-null float64\n",
        "high         740 non-null float64\n",
        "low          740 non-null float64\n",
        "close        740 non-null float64\n",
        "volume       740 non-null int64\n",
        "adj_close    740 non-null float64\n",
        "dtypes: float64(5), int64(1)\n",
        "memory usage: 40.5 KB\n",
        "None\n",
        "Index([u'open', u'high', u'low', u'close', u'volume', u'adj_close'], dtype='object')\n"
       ]
      }
     ],
     "prompt_number": 18
    },
    {
     "cell_type": "heading",
     "level": 2,
     "metadata": {},
     "source": [
      "Filtering"
     ]
    },
    {
     "cell_type": "markdown",
     "metadata": {},
     "source": [
      "Selecting interesting rows from the data.  All operations below return a DataFrame, which can be treated the same way as all DataFrames we have seen so far."
     ]
    },
    {
     "cell_type": "code",
     "collapsed": false,
     "input": [
      "positive_days = df[df.close > df.open]\n",
      "print positive_days.head()"
     ],
     "language": "python",
     "metadata": {},
     "outputs": [
      {
       "output_type": "stream",
       "stream": "stdout",
       "text": [
        "             open   high    low  close   volume  adj_close\n",
        "date                                                      \n",
        "2012-03-02  22.01  26.00  22.00  24.58  4809400      24.58\n",
        "2012-03-06  19.83  20.50  19.36  20.50  1154300      20.50\n",
        "2012-03-12  19.80  22.49  19.52  22.49  1358200      22.49\n",
        "2012-03-13  22.55  24.40  22.20  23.30  2053900      23.30\n",
        "2012-03-19  22.20  23.93  21.70  22.99   858400      22.99\n"
       ]
      }
     ],
     "prompt_number": 19
    },
    {
     "cell_type": "code",
     "collapsed": false,
     "input": [
      "very_positive_days = df[df.close-df.open > 4]\n",
      "print len(very_positive_days)\n",
      "#print very_positive_days.head()"
     ],
     "language": "python",
     "metadata": {},
     "outputs": [
      {
       "output_type": "stream",
       "stream": "stdout",
       "text": [
        "9\n"
       ]
      }
     ],
     "prompt_number": 20
    },
    {
     "cell_type": "code",
     "collapsed": false,
     "input": [
      "tmp_high = df.high > 60\n",
      "print type(tmp_high)"
     ],
     "language": "python",
     "metadata": {},
     "outputs": [
      {
       "output_type": "stream",
       "stream": "stdout",
       "text": [
        "<class 'pandas.core.series.Series'>\n"
       ]
      }
     ],
     "prompt_number": 21
    },
    {
     "cell_type": "code",
     "collapsed": false,
     "input": [
      "print tmp_high.head()\n",
      "print len(tmp_high)"
     ],
     "language": "python",
     "metadata": {},
     "outputs": [
      {
       "output_type": "stream",
       "stream": "stdout",
       "text": [
        "date\n",
        "2012-03-02    False\n",
        "2012-03-05    False\n",
        "2012-03-06    False\n",
        "2012-03-07    False\n",
        "2012-03-08    False\n",
        "Name: high, dtype: bool\n",
        "740\n"
       ]
      }
     ],
     "prompt_number": 28
    },
    {
     "cell_type": "markdown",
     "metadata": {},
     "source": [
      "Select only the rows of **df** that correspond to **tmp_high**"
     ]
    },
    {
     "cell_type": "code",
     "collapsed": false,
     "input": [
      "print df[tmp_high]"
     ],
     "language": "python",
     "metadata": {},
     "outputs": [
      {
       "output_type": "stream",
       "stream": "stdout",
       "text": [
        "             open   high    low  close    volume  adj_close\n",
        "date                                                       \n",
        "2013-09-06  61.00  64.39  60.00  62.40   8792700      62.40\n",
        "2013-09-09  62.75  63.09  60.95  61.91   3833500      61.91\n",
        "2013-09-10  62.80  64.25  62.18  63.20   2920200      63.20\n",
        "2013-09-11  63.13  66.24  62.62  64.58   3554000      64.58\n",
        "2013-09-12  65.24  65.95  63.35  63.77   3566200      63.77\n",
        "2013-09-13  64.20  64.59  61.62  62.91   2436300      62.91\n",
        "2013-09-16  64.29  64.60  62.58  62.76   2406700      62.76\n",
        "2013-09-17  62.98  65.98  61.39  65.92   3019400      65.92\n",
        "2013-09-18  66.00  69.77  65.26  69.09   4971300      69.09\n",
        "2013-09-19  70.12  71.08  67.33  70.59   4768600      70.59\n",
        "2013-09-20  70.72  71.50  67.83  70.02   4647800      70.02\n",
        "2013-09-23  69.13  69.47  63.50  65.80   6079800      65.80\n",
        "2013-09-24  65.70  68.72  65.59  67.36   3110200      67.36\n",
        "2013-09-25  67.68  69.94  66.90  68.93   2425500      68.93\n",
        "2013-09-26  69.42  69.83  68.05  68.45   1978900      68.45\n",
        "2013-09-27  67.75  69.16  67.18  68.05   2144000      68.05\n",
        "2013-09-30  66.50  67.49  65.03  66.18   2405300      66.18\n",
        "2013-10-01  67.36  71.18  66.26  71.12   3792000      71.12\n",
        "2013-10-02  70.88  73.20  69.68  70.69   3729400      70.69\n",
        "2013-10-03  72.11  72.76  68.72  71.02   4468300      71.02\n",
        "2013-10-04  71.05  73.45  70.51  73.22   3423400      73.22\n",
        "2013-10-07  72.07  72.27  69.66  69.93   2856900      69.93\n",
        "2013-10-08  70.10  70.93  62.75  64.60   6796100      64.60\n",
        "2013-10-09  64.81  65.25  60.83  63.47   4700200      63.47\n",
        "2013-10-10  65.17  66.86  64.82  66.25   3235300      66.25\n",
        "2013-10-11  66.33  68.22  65.94  67.33   2115100      67.33\n",
        "2013-10-14  65.95  68.44  65.51  68.33   2452900      68.33\n",
        "2013-10-15  68.32  69.74  67.12  67.82   2510400      67.82\n",
        "2013-10-16  68.19  70.99  68.19  70.15   2599000      70.15\n",
        "2013-10-17  70.21  70.98  68.25  68.90   2797500      68.90\n",
        "...           ...    ...    ...    ...       ...        ...\n",
        "2014-09-23  71.21  72.46  69.47  71.73   2797500      71.73\n",
        "2014-09-24  72.22  73.81  71.20  72.97   3478100      72.97\n",
        "2014-09-25  72.90  73.38  70.41  70.42   2456000      70.42\n",
        "2014-09-26  70.77  71.52  70.15  70.90   1841300      70.90\n",
        "2014-09-29  69.75  71.98  69.17  69.54   3003800      69.54\n",
        "2014-09-30  70.23  70.49  67.32  68.25   3420400      68.25\n",
        "2014-10-01  68.21  68.37  66.08  67.11   2748500      67.11\n",
        "2014-10-02  66.94  69.68  66.26  69.07   2957600      69.07\n",
        "2014-10-03  70.05  71.32  69.42  69.44   2613300      69.44\n",
        "2014-10-06  69.81  70.78  68.97  69.16   1944200      69.16\n",
        "2014-10-07  68.84  70.13  68.23  68.32   2131900      68.32\n",
        "2014-10-08  68.16  70.40  66.30  70.15   2747900      70.15\n",
        "2014-10-09  70.00  72.41  69.01  69.62   4304900      69.62\n",
        "2014-10-10  70.79  70.94  65.65  66.06   3961400      66.06\n",
        "2014-10-13  66.46  66.85  61.90  62.12   4224100      62.12\n",
        "2014-10-14  62.62  66.61  62.62  65.19   3928500      65.19\n",
        "2014-10-15  63.42  67.14  62.51  66.71   4252600      66.71\n",
        "2014-10-16  64.60  68.22  64.53  67.00   2953100      67.00\n",
        "2014-10-17  68.38  68.54  66.41  67.09   2199500      67.09\n",
        "2014-10-20  67.13  68.93  66.52  68.78   2473800      68.78\n",
        "2014-10-21  69.88  71.55  69.50  71.28   3085900      71.28\n",
        "2014-10-22  72.50  73.41  69.70  70.23   8358100      70.23\n",
        "2014-10-23  61.49  62.26  56.42  57.17  27129400      57.17\n",
        "2014-10-31  58.75  60.01  57.64  60.00   4378500      60.00\n",
        "2014-11-03  60.27  63.76  59.72  61.32   6988900      61.32\n",
        "2014-11-04  60.85  62.05  60.05  60.10   2515800      60.10\n",
        "2014-11-05  60.79  60.98  57.51  57.65   3177800      57.65\n",
        "2014-11-11  59.00  62.38  58.82  62.31   3409200      62.31\n",
        "2014-11-12  61.59  61.90  59.52  60.58   3526200      60.58\n",
        "2014-11-13  60.77  61.50  57.18  58.10   4310700      58.10\n",
        "\n",
        "[278 rows x 6 columns]\n"
       ]
      }
     ],
     "prompt_number": 24
    },
    {
     "cell_type": "heading",
     "level": 2,
     "metadata": {},
     "source": [
      "Creating new columns"
     ]
    },
    {
     "cell_type": "code",
     "collapsed": false,
     "input": [
      "df['profit'] = (df.open < df.close)\n",
      "print df.head()"
     ],
     "language": "python",
     "metadata": {},
     "outputs": [
      {
       "output_type": "stream",
       "stream": "stdout",
       "text": [
        "             open   high    low  close   volume  adj_close profit\n",
        "date                                                             \n",
        "2012-03-02  22.01  26.00  22.00  24.58  4809400      24.58   True\n",
        "2012-03-05  24.85  24.86  20.90  20.99  2988200      20.99  False\n",
        "2012-03-06  19.83  20.50  19.36  20.50  1154300      20.50   True\n",
        "2012-03-07  20.45  20.63  19.95  20.25   444800      20.25  False\n",
        "2012-03-08  20.30  20.39  19.96  20.00   436900      20.00  False\n"
       ]
      }
     ],
     "prompt_number": 25
    },
    {
     "cell_type": "code",
     "collapsed": false,
     "input": [
      "for idx, row in df.iterrows():\n",
      "    if row.close > row.open:\n",
      "        df.ix[idx,'gain']='negative'\n",
      "    elif (row.open - row.close) < 1:\n",
      "        df.ix[idx,'gain']='small_gain'\n",
      "    elif (row.open - row.close) < 6:\n",
      "        df.ix[idx,'gain']='medium_gain'\n",
      "    else:\n",
      "        df.ix[idx,'gain']='large_gain'\n",
      "print df.head()"
     ],
     "language": "python",
     "metadata": {},
     "outputs": [
      {
       "output_type": "stream",
       "stream": "stdout",
       "text": [
        "             open   high    low  close   volume  adj_close profit         gain\n",
        "date                                                                          \n",
        "2012-03-02  22.01  26.00  22.00  24.58  4809400      24.58   True     negative\n",
        "2012-03-05  24.85  24.86  20.90  20.99  2988200      20.99  False  medium_gain\n",
        "2012-03-06  19.83  20.50  19.36  20.50  1154300      20.50   True     negative\n",
        "2012-03-07  20.45  20.63  19.95  20.25   444800      20.25  False   small_gain\n",
        "2012-03-08  20.30  20.39  19.96  20.00   436900      20.00  False   small_gain\n"
       ]
      }
     ],
     "prompt_number": 26
    },
    {
     "cell_type": "heading",
     "level": 4,
     "metadata": {},
     "source": [
      "Alternatively"
     ]
    },
    {
     "cell_type": "code",
     "collapsed": false,
     "input": [
      "def namerow(row):\n",
      "    if row.close > row.open:\n",
      "        return 'negative'\n",
      "    elif (row.open - row.close) < 1:\n",
      "        return 'small_gain'\n",
      "    elif (row.open - row.close) < 6:\n",
      "        return 'medium_gain'\n",
      "    else:\n",
      "        return 'large_gain'\n",
      "\n",
      "df['test_column'] = df.apply(namerow, axis = 1)\n"
     ],
     "language": "python",
     "metadata": {},
     "outputs": [],
     "prompt_number": 29
    },
    {
     "cell_type": "code",
     "collapsed": false,
     "input": [
      "print df.head()"
     ],
     "language": "python",
     "metadata": {},
     "outputs": [
      {
       "output_type": "stream",
       "stream": "stdout",
       "text": [
        "             open   high    low  close   volume  adj_close profit  \\\n",
        "date                                                                \n",
        "2012-03-02  22.01  26.00  22.00  24.58  4809400      24.58   True   \n",
        "2012-03-05  24.85  24.86  20.90  20.99  2988200      20.99  False   \n",
        "2012-03-06  19.83  20.50  19.36  20.50  1154300      20.50   True   \n",
        "2012-03-07  20.45  20.63  19.95  20.25   444800      20.25  False   \n",
        "2012-03-08  20.30  20.39  19.96  20.00   436900      20.00  False   \n",
        "\n",
        "                   gain  test_column  \n",
        "date                                  \n",
        "2012-03-02     negative     negative  \n",
        "2012-03-05  medium_gain  medium_gain  \n",
        "2012-03-06     negative     negative  \n",
        "2012-03-07   small_gain   small_gain  \n",
        "2012-03-08   small_gain   small_gain  \n"
       ]
      }
     ],
     "prompt_number": 31
    },
    {
     "cell_type": "code",
     "collapsed": false,
     "input": [
      "df.drop('test_column', axis = 1)"
     ],
     "language": "python",
     "metadata": {},
     "outputs": [
      {
       "html": [
        "<div style=\"max-height:1000px;max-width:1500px;overflow:auto;\">\n",
        "<table border=\"1\" class=\"dataframe\">\n",
        "  <thead>\n",
        "    <tr style=\"text-align: right;\">\n",
        "      <th></th>\n",
        "      <th>open</th>\n",
        "      <th>high</th>\n",
        "      <th>low</th>\n",
        "      <th>close</th>\n",
        "      <th>volume</th>\n",
        "      <th>adj_close</th>\n",
        "      <th>profit</th>\n",
        "      <th>gain</th>\n",
        "    </tr>\n",
        "    <tr>\n",
        "      <th>date</th>\n",
        "      <th></th>\n",
        "      <th></th>\n",
        "      <th></th>\n",
        "      <th></th>\n",
        "      <th></th>\n",
        "      <th></th>\n",
        "      <th></th>\n",
        "      <th></th>\n",
        "    </tr>\n",
        "  </thead>\n",
        "  <tbody>\n",
        "    <tr>\n",
        "      <th>2012-03-02</th>\n",
        "      <td> 22.01</td>\n",
        "      <td> 26.00</td>\n",
        "      <td> 22.00</td>\n",
        "      <td> 24.58</td>\n",
        "      <td>  4809400</td>\n",
        "      <td> 24.58</td>\n",
        "      <td>  True</td>\n",
        "      <td>    negative</td>\n",
        "    </tr>\n",
        "    <tr>\n",
        "      <th>2012-03-05</th>\n",
        "      <td> 24.85</td>\n",
        "      <td> 24.86</td>\n",
        "      <td> 20.90</td>\n",
        "      <td> 20.99</td>\n",
        "      <td>  2988200</td>\n",
        "      <td> 20.99</td>\n",
        "      <td> False</td>\n",
        "      <td> medium_gain</td>\n",
        "    </tr>\n",
        "    <tr>\n",
        "      <th>2012-03-06</th>\n",
        "      <td> 19.83</td>\n",
        "      <td> 20.50</td>\n",
        "      <td> 19.36</td>\n",
        "      <td> 20.50</td>\n",
        "      <td>  1154300</td>\n",
        "      <td> 20.50</td>\n",
        "      <td>  True</td>\n",
        "      <td>    negative</td>\n",
        "    </tr>\n",
        "    <tr>\n",
        "      <th>2012-03-07</th>\n",
        "      <td> 20.45</td>\n",
        "      <td> 20.63</td>\n",
        "      <td> 19.95</td>\n",
        "      <td> 20.25</td>\n",
        "      <td>   444800</td>\n",
        "      <td> 20.25</td>\n",
        "      <td> False</td>\n",
        "      <td>  small_gain</td>\n",
        "    </tr>\n",
        "    <tr>\n",
        "      <th>2012-03-08</th>\n",
        "      <td> 20.30</td>\n",
        "      <td> 20.39</td>\n",
        "      <td> 19.96</td>\n",
        "      <td> 20.00</td>\n",
        "      <td>   436900</td>\n",
        "      <td> 20.00</td>\n",
        "      <td> False</td>\n",
        "      <td>  small_gain</td>\n",
        "    </tr>\n",
        "    <tr>\n",
        "      <th>2012-03-09</th>\n",
        "      <td> 20.00</td>\n",
        "      <td> 20.10</td>\n",
        "      <td> 19.50</td>\n",
        "      <td> 19.80</td>\n",
        "      <td>   668200</td>\n",
        "      <td> 19.80</td>\n",
        "      <td> False</td>\n",
        "      <td>  small_gain</td>\n",
        "    </tr>\n",
        "    <tr>\n",
        "      <th>2012-03-12</th>\n",
        "      <td> 19.80</td>\n",
        "      <td> 22.49</td>\n",
        "      <td> 19.52</td>\n",
        "      <td> 22.49</td>\n",
        "      <td>  1358200</td>\n",
        "      <td> 22.49</td>\n",
        "      <td>  True</td>\n",
        "      <td>    negative</td>\n",
        "    </tr>\n",
        "    <tr>\n",
        "      <th>2012-03-13</th>\n",
        "      <td> 22.55</td>\n",
        "      <td> 24.40</td>\n",
        "      <td> 22.20</td>\n",
        "      <td> 23.30</td>\n",
        "      <td>  2053900</td>\n",
        "      <td> 23.30</td>\n",
        "      <td>  True</td>\n",
        "      <td>    negative</td>\n",
        "    </tr>\n",
        "    <tr>\n",
        "      <th>2012-03-14</th>\n",
        "      <td> 23.27</td>\n",
        "      <td> 23.35</td>\n",
        "      <td> 22.20</td>\n",
        "      <td> 22.32</td>\n",
        "      <td>   589600</td>\n",
        "      <td> 22.32</td>\n",
        "      <td> False</td>\n",
        "      <td>  small_gain</td>\n",
        "    </tr>\n",
        "    <tr>\n",
        "      <th>2012-03-15</th>\n",
        "      <td> 22.45</td>\n",
        "      <td> 23.29</td>\n",
        "      <td> 21.36</td>\n",
        "      <td> 21.75</td>\n",
        "      <td>   875600</td>\n",
        "      <td> 21.75</td>\n",
        "      <td> False</td>\n",
        "      <td>  small_gain</td>\n",
        "    </tr>\n",
        "    <tr>\n",
        "      <th>2012-03-16</th>\n",
        "      <td> 21.93</td>\n",
        "      <td> 22.17</td>\n",
        "      <td> 21.06</td>\n",
        "      <td> 21.74</td>\n",
        "      <td>   433600</td>\n",
        "      <td> 21.74</td>\n",
        "      <td> False</td>\n",
        "      <td>  small_gain</td>\n",
        "    </tr>\n",
        "    <tr>\n",
        "      <th>2012-03-19</th>\n",
        "      <td> 22.20</td>\n",
        "      <td> 23.93</td>\n",
        "      <td> 21.70</td>\n",
        "      <td> 22.99</td>\n",
        "      <td>   858400</td>\n",
        "      <td> 22.99</td>\n",
        "      <td>  True</td>\n",
        "      <td>    negative</td>\n",
        "    </tr>\n",
        "    <tr>\n",
        "      <th>2012-03-20</th>\n",
        "      <td> 23.15</td>\n",
        "      <td> 23.47</td>\n",
        "      <td> 22.10</td>\n",
        "      <td> 22.90</td>\n",
        "      <td>   782200</td>\n",
        "      <td> 22.90</td>\n",
        "      <td> False</td>\n",
        "      <td>  small_gain</td>\n",
        "    </tr>\n",
        "    <tr>\n",
        "      <th>2012-03-21</th>\n",
        "      <td> 23.00</td>\n",
        "      <td> 24.10</td>\n",
        "      <td> 22.68</td>\n",
        "      <td> 23.12</td>\n",
        "      <td>  1375000</td>\n",
        "      <td> 23.12</td>\n",
        "      <td>  True</td>\n",
        "      <td>    negative</td>\n",
        "    </tr>\n",
        "    <tr>\n",
        "      <th>2012-03-22</th>\n",
        "      <td> 23.32</td>\n",
        "      <td> 23.32</td>\n",
        "      <td> 22.44</td>\n",
        "      <td> 23.22</td>\n",
        "      <td>   370800</td>\n",
        "      <td> 23.22</td>\n",
        "      <td> False</td>\n",
        "      <td>  small_gain</td>\n",
        "    </tr>\n",
        "    <tr>\n",
        "      <th>2012-03-23</th>\n",
        "      <td> 23.22</td>\n",
        "      <td> 23.25</td>\n",
        "      <td> 22.30</td>\n",
        "      <td> 23.18</td>\n",
        "      <td>   307000</td>\n",
        "      <td> 23.18</td>\n",
        "      <td> False</td>\n",
        "      <td>  small_gain</td>\n",
        "    </tr>\n",
        "    <tr>\n",
        "      <th>2012-03-26</th>\n",
        "      <td> 23.26</td>\n",
        "      <td> 24.88</td>\n",
        "      <td> 23.01</td>\n",
        "      <td> 24.60</td>\n",
        "      <td>  1052000</td>\n",
        "      <td> 24.60</td>\n",
        "      <td>  True</td>\n",
        "      <td>    negative</td>\n",
        "    </tr>\n",
        "    <tr>\n",
        "      <th>2012-03-27</th>\n",
        "      <td> 24.80</td>\n",
        "      <td> 27.75</td>\n",
        "      <td> 24.25</td>\n",
        "      <td> 27.65</td>\n",
        "      <td>  3141300</td>\n",
        "      <td> 27.65</td>\n",
        "      <td>  True</td>\n",
        "      <td>    negative</td>\n",
        "    </tr>\n",
        "    <tr>\n",
        "      <th>2012-03-28</th>\n",
        "      <td> 27.52</td>\n",
        "      <td> 31.96</td>\n",
        "      <td> 27.10</td>\n",
        "      <td> 28.09</td>\n",
        "      <td>  5267300</td>\n",
        "      <td> 28.09</td>\n",
        "      <td>  True</td>\n",
        "      <td>    negative</td>\n",
        "    </tr>\n",
        "    <tr>\n",
        "      <th>2012-03-29</th>\n",
        "      <td> 27.99</td>\n",
        "      <td> 29.78</td>\n",
        "      <td> 27.58</td>\n",
        "      <td> 28.01</td>\n",
        "      <td>  1425200</td>\n",
        "      <td> 28.01</td>\n",
        "      <td>  True</td>\n",
        "      <td>    negative</td>\n",
        "    </tr>\n",
        "    <tr>\n",
        "      <th>2012-03-30</th>\n",
        "      <td> 28.58</td>\n",
        "      <td> 29.27</td>\n",
        "      <td> 25.82</td>\n",
        "      <td> 26.89</td>\n",
        "      <td>  1887200</td>\n",
        "      <td> 26.89</td>\n",
        "      <td> False</td>\n",
        "      <td> medium_gain</td>\n",
        "    </tr>\n",
        "    <tr>\n",
        "      <th>2012-04-02</th>\n",
        "      <td> 26.90</td>\n",
        "      <td> 27.80</td>\n",
        "      <td> 25.27</td>\n",
        "      <td> 27.12</td>\n",
        "      <td>  1166500</td>\n",
        "      <td> 27.12</td>\n",
        "      <td>  True</td>\n",
        "      <td>    negative</td>\n",
        "    </tr>\n",
        "    <tr>\n",
        "      <th>2012-04-03</th>\n",
        "      <td> 27.20</td>\n",
        "      <td> 28.40</td>\n",
        "      <td> 25.92</td>\n",
        "      <td> 26.70</td>\n",
        "      <td>  1384800</td>\n",
        "      <td> 26.70</td>\n",
        "      <td> False</td>\n",
        "      <td>  small_gain</td>\n",
        "    </tr>\n",
        "    <tr>\n",
        "      <th>2012-04-04</th>\n",
        "      <td> 25.94</td>\n",
        "      <td> 27.00</td>\n",
        "      <td> 25.94</td>\n",
        "      <td> 26.16</td>\n",
        "      <td>   440700</td>\n",
        "      <td> 26.16</td>\n",
        "      <td>  True</td>\n",
        "      <td>    negative</td>\n",
        "    </tr>\n",
        "    <tr>\n",
        "      <th>2012-04-05</th>\n",
        "      <td> 25.96</td>\n",
        "      <td> 26.40</td>\n",
        "      <td> 24.02</td>\n",
        "      <td> 24.17</td>\n",
        "      <td>  1352200</td>\n",
        "      <td> 24.17</td>\n",
        "      <td> False</td>\n",
        "      <td> medium_gain</td>\n",
        "    </tr>\n",
        "    <tr>\n",
        "      <th>2012-04-09</th>\n",
        "      <td> 23.86</td>\n",
        "      <td> 25.58</td>\n",
        "      <td> 22.74</td>\n",
        "      <td> 25.22</td>\n",
        "      <td>  1397800</td>\n",
        "      <td> 25.22</td>\n",
        "      <td>  True</td>\n",
        "      <td>    negative</td>\n",
        "    </tr>\n",
        "    <tr>\n",
        "      <th>2012-04-10</th>\n",
        "      <td> 25.45</td>\n",
        "      <td> 26.51</td>\n",
        "      <td> 24.50</td>\n",
        "      <td> 25.81</td>\n",
        "      <td>  1027500</td>\n",
        "      <td> 25.81</td>\n",
        "      <td>  True</td>\n",
        "      <td>    negative</td>\n",
        "    </tr>\n",
        "    <tr>\n",
        "      <th>2012-04-11</th>\n",
        "      <td> 25.47</td>\n",
        "      <td> 26.25</td>\n",
        "      <td> 24.57</td>\n",
        "      <td> 25.43</td>\n",
        "      <td>  1004200</td>\n",
        "      <td> 25.43</td>\n",
        "      <td> False</td>\n",
        "      <td>  small_gain</td>\n",
        "    </tr>\n",
        "    <tr>\n",
        "      <th>2012-04-12</th>\n",
        "      <td> 25.21</td>\n",
        "      <td> 26.44</td>\n",
        "      <td> 25.17</td>\n",
        "      <td> 26.20</td>\n",
        "      <td>   728000</td>\n",
        "      <td> 26.20</td>\n",
        "      <td>  True</td>\n",
        "      <td>    negative</td>\n",
        "    </tr>\n",
        "    <tr>\n",
        "      <th>2012-04-13</th>\n",
        "      <td> 26.00</td>\n",
        "      <td> 26.97</td>\n",
        "      <td> 25.44</td>\n",
        "      <td> 26.33</td>\n",
        "      <td>   508200</td>\n",
        "      <td> 26.33</td>\n",
        "      <td>  True</td>\n",
        "      <td>    negative</td>\n",
        "    </tr>\n",
        "    <tr>\n",
        "      <th>...</th>\n",
        "      <td>...</td>\n",
        "      <td>...</td>\n",
        "      <td>...</td>\n",
        "      <td>...</td>\n",
        "      <td>...</td>\n",
        "      <td>...</td>\n",
        "      <td>...</td>\n",
        "      <td>...</td>\n",
        "    </tr>\n",
        "    <tr>\n",
        "      <th>2014-12-29</th>\n",
        "      <td> 52.77</td>\n",
        "      <td> 53.86</td>\n",
        "      <td> 52.52</td>\n",
        "      <td> 53.01</td>\n",
        "      <td>  1181500</td>\n",
        "      <td> 53.01</td>\n",
        "      <td>  True</td>\n",
        "      <td>    negative</td>\n",
        "    </tr>\n",
        "    <tr>\n",
        "      <th>2014-12-30</th>\n",
        "      <td> 53.09</td>\n",
        "      <td> 54.95</td>\n",
        "      <td> 52.85</td>\n",
        "      <td> 54.24</td>\n",
        "      <td>  2336800</td>\n",
        "      <td> 54.24</td>\n",
        "      <td>  True</td>\n",
        "      <td>    negative</td>\n",
        "    </tr>\n",
        "    <tr>\n",
        "      <th>2014-12-31</th>\n",
        "      <td> 54.71</td>\n",
        "      <td> 55.57</td>\n",
        "      <td> 54.16</td>\n",
        "      <td> 54.73</td>\n",
        "      <td>  1858000</td>\n",
        "      <td> 54.73</td>\n",
        "      <td>  True</td>\n",
        "      <td>    negative</td>\n",
        "    </tr>\n",
        "    <tr>\n",
        "      <th>2015-01-02</th>\n",
        "      <td> 55.46</td>\n",
        "      <td> 55.60</td>\n",
        "      <td> 54.24</td>\n",
        "      <td> 55.15</td>\n",
        "      <td>  1664500</td>\n",
        "      <td> 55.15</td>\n",
        "      <td> False</td>\n",
        "      <td>  small_gain</td>\n",
        "    </tr>\n",
        "    <tr>\n",
        "      <th>2015-01-05</th>\n",
        "      <td> 54.54</td>\n",
        "      <td> 54.95</td>\n",
        "      <td> 52.33</td>\n",
        "      <td> 52.53</td>\n",
        "      <td>  2023000</td>\n",
        "      <td> 52.53</td>\n",
        "      <td> False</td>\n",
        "      <td> medium_gain</td>\n",
        "    </tr>\n",
        "    <tr>\n",
        "      <th>2015-01-06</th>\n",
        "      <td> 52.55</td>\n",
        "      <td> 53.93</td>\n",
        "      <td> 50.75</td>\n",
        "      <td> 52.44</td>\n",
        "      <td>  3751200</td>\n",
        "      <td> 52.44</td>\n",
        "      <td> False</td>\n",
        "      <td>  small_gain</td>\n",
        "    </tr>\n",
        "    <tr>\n",
        "      <th>2015-01-07</th>\n",
        "      <td> 53.32</td>\n",
        "      <td> 53.75</td>\n",
        "      <td> 51.76</td>\n",
        "      <td> 52.21</td>\n",
        "      <td>  1548200</td>\n",
        "      <td> 52.21</td>\n",
        "      <td> False</td>\n",
        "      <td> medium_gain</td>\n",
        "    </tr>\n",
        "    <tr>\n",
        "      <th>2015-01-08</th>\n",
        "      <td> 52.59</td>\n",
        "      <td> 54.14</td>\n",
        "      <td> 51.76</td>\n",
        "      <td> 53.83</td>\n",
        "      <td>  2015300</td>\n",
        "      <td> 53.83</td>\n",
        "      <td>  True</td>\n",
        "      <td>    negative</td>\n",
        "    </tr>\n",
        "    <tr>\n",
        "      <th>2015-01-09</th>\n",
        "      <td> 55.96</td>\n",
        "      <td> 56.99</td>\n",
        "      <td> 54.72</td>\n",
        "      <td> 56.07</td>\n",
        "      <td>  6222600</td>\n",
        "      <td> 56.07</td>\n",
        "      <td>  True</td>\n",
        "      <td>    negative</td>\n",
        "    </tr>\n",
        "    <tr>\n",
        "      <th>2015-01-12</th>\n",
        "      <td> 56.00</td>\n",
        "      <td> 56.06</td>\n",
        "      <td> 53.43</td>\n",
        "      <td> 54.02</td>\n",
        "      <td>  2405100</td>\n",
        "      <td> 54.02</td>\n",
        "      <td> False</td>\n",
        "      <td> medium_gain</td>\n",
        "    </tr>\n",
        "    <tr>\n",
        "      <th>2015-01-13</th>\n",
        "      <td> 54.47</td>\n",
        "      <td> 54.80</td>\n",
        "      <td> 52.52</td>\n",
        "      <td> 53.18</td>\n",
        "      <td>  1952100</td>\n",
        "      <td> 53.18</td>\n",
        "      <td> False</td>\n",
        "      <td> medium_gain</td>\n",
        "    </tr>\n",
        "    <tr>\n",
        "      <th>2015-01-14</th>\n",
        "      <td> 52.80</td>\n",
        "      <td> 53.68</td>\n",
        "      <td> 51.46</td>\n",
        "      <td> 52.20</td>\n",
        "      <td>  1846100</td>\n",
        "      <td> 52.20</td>\n",
        "      <td> False</td>\n",
        "      <td>  small_gain</td>\n",
        "    </tr>\n",
        "    <tr>\n",
        "      <th>2015-01-15</th>\n",
        "      <td> 53.00</td>\n",
        "      <td> 53.61</td>\n",
        "      <td> 50.03</td>\n",
        "      <td> 50.12</td>\n",
        "      <td>  2640400</td>\n",
        "      <td> 50.12</td>\n",
        "      <td> False</td>\n",
        "      <td> medium_gain</td>\n",
        "    </tr>\n",
        "    <tr>\n",
        "      <th>2015-01-16</th>\n",
        "      <td> 50.18</td>\n",
        "      <td> 51.49</td>\n",
        "      <td> 50.03</td>\n",
        "      <td> 51.39</td>\n",
        "      <td>  2182300</td>\n",
        "      <td> 51.39</td>\n",
        "      <td>  True</td>\n",
        "      <td>    negative</td>\n",
        "    </tr>\n",
        "    <tr>\n",
        "      <th>2015-01-20</th>\n",
        "      <td> 51.65</td>\n",
        "      <td> 51.78</td>\n",
        "      <td> 50.69</td>\n",
        "      <td> 51.41</td>\n",
        "      <td>  1227600</td>\n",
        "      <td> 51.41</td>\n",
        "      <td> False</td>\n",
        "      <td>  small_gain</td>\n",
        "    </tr>\n",
        "    <tr>\n",
        "      <th>2015-01-21</th>\n",
        "      <td> 51.20</td>\n",
        "      <td> 53.50</td>\n",
        "      <td> 51.20</td>\n",
        "      <td> 53.41</td>\n",
        "      <td>  3228700</td>\n",
        "      <td> 53.41</td>\n",
        "      <td>  True</td>\n",
        "      <td>    negative</td>\n",
        "    </tr>\n",
        "    <tr>\n",
        "      <th>2015-01-22</th>\n",
        "      <td> 53.87</td>\n",
        "      <td> 55.28</td>\n",
        "      <td> 53.12</td>\n",
        "      <td> 54.80</td>\n",
        "      <td>  2295400</td>\n",
        "      <td> 54.80</td>\n",
        "      <td>  True</td>\n",
        "      <td>    negative</td>\n",
        "    </tr>\n",
        "    <tr>\n",
        "      <th>2015-01-23</th>\n",
        "      <td> 54.66</td>\n",
        "      <td> 55.64</td>\n",
        "      <td> 54.30</td>\n",
        "      <td> 55.19</td>\n",
        "      <td>  1629000</td>\n",
        "      <td> 55.19</td>\n",
        "      <td>  True</td>\n",
        "      <td>    negative</td>\n",
        "    </tr>\n",
        "    <tr>\n",
        "      <th>2015-01-26</th>\n",
        "      <td> 55.12</td>\n",
        "      <td> 55.79</td>\n",
        "      <td> 54.83</td>\n",
        "      <td> 55.41</td>\n",
        "      <td>  1450300</td>\n",
        "      <td> 55.41</td>\n",
        "      <td>  True</td>\n",
        "      <td>    negative</td>\n",
        "    </tr>\n",
        "    <tr>\n",
        "      <th>2015-01-27</th>\n",
        "      <td> 56.06</td>\n",
        "      <td> 56.16</td>\n",
        "      <td> 54.57</td>\n",
        "      <td> 55.63</td>\n",
        "      <td>  2403700</td>\n",
        "      <td> 55.63</td>\n",
        "      <td> False</td>\n",
        "      <td>  small_gain</td>\n",
        "    </tr>\n",
        "    <tr>\n",
        "      <th>2015-01-28</th>\n",
        "      <td> 56.15</td>\n",
        "      <td> 56.15</td>\n",
        "      <td> 52.92</td>\n",
        "      <td> 53.00</td>\n",
        "      <td>  2002700</td>\n",
        "      <td> 53.00</td>\n",
        "      <td> False</td>\n",
        "      <td> medium_gain</td>\n",
        "    </tr>\n",
        "    <tr>\n",
        "      <th>2015-01-29</th>\n",
        "      <td> 52.85</td>\n",
        "      <td> 53.31</td>\n",
        "      <td> 51.41</td>\n",
        "      <td> 52.93</td>\n",
        "      <td>  1838000</td>\n",
        "      <td> 52.93</td>\n",
        "      <td>  True</td>\n",
        "      <td>    negative</td>\n",
        "    </tr>\n",
        "    <tr>\n",
        "      <th>2015-01-30</th>\n",
        "      <td> 52.59</td>\n",
        "      <td> 53.42</td>\n",
        "      <td> 52.05</td>\n",
        "      <td> 52.47</td>\n",
        "      <td>  1873900</td>\n",
        "      <td> 52.47</td>\n",
        "      <td> False</td>\n",
        "      <td>  small_gain</td>\n",
        "    </tr>\n",
        "    <tr>\n",
        "      <th>2015-02-02</th>\n",
        "      <td> 52.94</td>\n",
        "      <td> 53.50</td>\n",
        "      <td> 51.21</td>\n",
        "      <td> 53.47</td>\n",
        "      <td>  2105500</td>\n",
        "      <td> 53.47</td>\n",
        "      <td>  True</td>\n",
        "      <td>    negative</td>\n",
        "    </tr>\n",
        "    <tr>\n",
        "      <th>2015-02-03</th>\n",
        "      <td> 53.83</td>\n",
        "      <td> 55.93</td>\n",
        "      <td> 53.41</td>\n",
        "      <td> 55.78</td>\n",
        "      <td>  2876400</td>\n",
        "      <td> 55.78</td>\n",
        "      <td>  True</td>\n",
        "      <td>    negative</td>\n",
        "    </tr>\n",
        "    <tr>\n",
        "      <th>2015-02-04</th>\n",
        "      <td> 55.53</td>\n",
        "      <td> 57.07</td>\n",
        "      <td> 55.25</td>\n",
        "      <td> 56.74</td>\n",
        "      <td>  2494400</td>\n",
        "      <td> 56.74</td>\n",
        "      <td>  True</td>\n",
        "      <td>    negative</td>\n",
        "    </tr>\n",
        "    <tr>\n",
        "      <th>2015-02-05</th>\n",
        "      <td> 57.60</td>\n",
        "      <td> 57.70</td>\n",
        "      <td> 56.08</td>\n",
        "      <td> 57.47</td>\n",
        "      <td>  4195400</td>\n",
        "      <td> 57.47</td>\n",
        "      <td> False</td>\n",
        "      <td>  small_gain</td>\n",
        "    </tr>\n",
        "    <tr>\n",
        "      <th>2015-02-06</th>\n",
        "      <td> 47.70</td>\n",
        "      <td> 48.17</td>\n",
        "      <td> 44.86</td>\n",
        "      <td> 45.11</td>\n",
        "      <td> 25137400</td>\n",
        "      <td> 45.11</td>\n",
        "      <td> False</td>\n",
        "      <td> medium_gain</td>\n",
        "    </tr>\n",
        "    <tr>\n",
        "      <th>2015-02-09</th>\n",
        "      <td> 44.91</td>\n",
        "      <td> 45.04</td>\n",
        "      <td> 42.10</td>\n",
        "      <td> 42.17</td>\n",
        "      <td> 13044700</td>\n",
        "      <td> 42.17</td>\n",
        "      <td> False</td>\n",
        "      <td> medium_gain</td>\n",
        "    </tr>\n",
        "    <tr>\n",
        "      <th>2015-02-10</th>\n",
        "      <td> 43.83</td>\n",
        "      <td> 45.55</td>\n",
        "      <td> 43.31</td>\n",
        "      <td> 44.66</td>\n",
        "      <td> 11247800</td>\n",
        "      <td> 44.66</td>\n",
        "      <td>  True</td>\n",
        "      <td>    negative</td>\n",
        "    </tr>\n",
        "  </tbody>\n",
        "</table>\n",
        "<p>740 rows \u00d7 8 columns</p>\n",
        "</div>"
       ],
       "metadata": {},
       "output_type": "pyout",
       "prompt_number": 32,
       "text": [
        "             open   high    low  close    volume  adj_close profit  \\\n",
        "date                                                                 \n",
        "2012-03-02  22.01  26.00  22.00  24.58   4809400      24.58   True   \n",
        "2012-03-05  24.85  24.86  20.90  20.99   2988200      20.99  False   \n",
        "2012-03-06  19.83  20.50  19.36  20.50   1154300      20.50   True   \n",
        "2012-03-07  20.45  20.63  19.95  20.25    444800      20.25  False   \n",
        "2012-03-08  20.30  20.39  19.96  20.00    436900      20.00  False   \n",
        "2012-03-09  20.00  20.10  19.50  19.80    668200      19.80  False   \n",
        "2012-03-12  19.80  22.49  19.52  22.49   1358200      22.49   True   \n",
        "2012-03-13  22.55  24.40  22.20  23.30   2053900      23.30   True   \n",
        "2012-03-14  23.27  23.35  22.20  22.32    589600      22.32  False   \n",
        "2012-03-15  22.45  23.29  21.36  21.75    875600      21.75  False   \n",
        "2012-03-16  21.93  22.17  21.06  21.74    433600      21.74  False   \n",
        "2012-03-19  22.20  23.93  21.70  22.99    858400      22.99   True   \n",
        "2012-03-20  23.15  23.47  22.10  22.90    782200      22.90  False   \n",
        "2012-03-21  23.00  24.10  22.68  23.12   1375000      23.12   True   \n",
        "2012-03-22  23.32  23.32  22.44  23.22    370800      23.22  False   \n",
        "2012-03-23  23.22  23.25  22.30  23.18    307000      23.18  False   \n",
        "2012-03-26  23.26  24.88  23.01  24.60   1052000      24.60   True   \n",
        "2012-03-27  24.80  27.75  24.25  27.65   3141300      27.65   True   \n",
        "2012-03-28  27.52  31.96  27.10  28.09   5267300      28.09   True   \n",
        "2012-03-29  27.99  29.78  27.58  28.01   1425200      28.01   True   \n",
        "2012-03-30  28.58  29.27  25.82  26.89   1887200      26.89  False   \n",
        "2012-04-02  26.90  27.80  25.27  27.12   1166500      27.12   True   \n",
        "2012-04-03  27.20  28.40  25.92  26.70   1384800      26.70  False   \n",
        "2012-04-04  25.94  27.00  25.94  26.16    440700      26.16   True   \n",
        "2012-04-05  25.96  26.40  24.02  24.17   1352200      24.17  False   \n",
        "2012-04-09  23.86  25.58  22.74  25.22   1397800      25.22   True   \n",
        "2012-04-10  25.45  26.51  24.50  25.81   1027500      25.81   True   \n",
        "2012-04-11  25.47  26.25  24.57  25.43   1004200      25.43  False   \n",
        "2012-04-12  25.21  26.44  25.17  26.20    728000      26.20   True   \n",
        "2012-04-13  26.00  26.97  25.44  26.33    508200      26.33   True   \n",
        "...           ...    ...    ...    ...       ...        ...    ...   \n",
        "2014-12-29  52.77  53.86  52.52  53.01   1181500      53.01   True   \n",
        "2014-12-30  53.09  54.95  52.85  54.24   2336800      54.24   True   \n",
        "2014-12-31  54.71  55.57  54.16  54.73   1858000      54.73   True   \n",
        "2015-01-02  55.46  55.60  54.24  55.15   1664500      55.15  False   \n",
        "2015-01-05  54.54  54.95  52.33  52.53   2023000      52.53  False   \n",
        "2015-01-06  52.55  53.93  50.75  52.44   3751200      52.44  False   \n",
        "2015-01-07  53.32  53.75  51.76  52.21   1548200      52.21  False   \n",
        "2015-01-08  52.59  54.14  51.76  53.83   2015300      53.83   True   \n",
        "2015-01-09  55.96  56.99  54.72  56.07   6222600      56.07   True   \n",
        "2015-01-12  56.00  56.06  53.43  54.02   2405100      54.02  False   \n",
        "2015-01-13  54.47  54.80  52.52  53.18   1952100      53.18  False   \n",
        "2015-01-14  52.80  53.68  51.46  52.20   1846100      52.20  False   \n",
        "2015-01-15  53.00  53.61  50.03  50.12   2640400      50.12  False   \n",
        "2015-01-16  50.18  51.49  50.03  51.39   2182300      51.39   True   \n",
        "2015-01-20  51.65  51.78  50.69  51.41   1227600      51.41  False   \n",
        "2015-01-21  51.20  53.50  51.20  53.41   3228700      53.41   True   \n",
        "2015-01-22  53.87  55.28  53.12  54.80   2295400      54.80   True   \n",
        "2015-01-23  54.66  55.64  54.30  55.19   1629000      55.19   True   \n",
        "2015-01-26  55.12  55.79  54.83  55.41   1450300      55.41   True   \n",
        "2015-01-27  56.06  56.16  54.57  55.63   2403700      55.63  False   \n",
        "2015-01-28  56.15  56.15  52.92  53.00   2002700      53.00  False   \n",
        "2015-01-29  52.85  53.31  51.41  52.93   1838000      52.93   True   \n",
        "2015-01-30  52.59  53.42  52.05  52.47   1873900      52.47  False   \n",
        "2015-02-02  52.94  53.50  51.21  53.47   2105500      53.47   True   \n",
        "2015-02-03  53.83  55.93  53.41  55.78   2876400      55.78   True   \n",
        "2015-02-04  55.53  57.07  55.25  56.74   2494400      56.74   True   \n",
        "2015-02-05  57.60  57.70  56.08  57.47   4195400      57.47  False   \n",
        "2015-02-06  47.70  48.17  44.86  45.11  25137400      45.11  False   \n",
        "2015-02-09  44.91  45.04  42.10  42.17  13044700      42.17  False   \n",
        "2015-02-10  43.83  45.55  43.31  44.66  11247800      44.66   True   \n",
        "\n",
        "                   gain  \n",
        "date                     \n",
        "2012-03-02     negative  \n",
        "2012-03-05  medium_gain  \n",
        "2012-03-06     negative  \n",
        "2012-03-07   small_gain  \n",
        "2012-03-08   small_gain  \n",
        "2012-03-09   small_gain  \n",
        "2012-03-12     negative  \n",
        "2012-03-13     negative  \n",
        "2012-03-14   small_gain  \n",
        "2012-03-15   small_gain  \n",
        "2012-03-16   small_gain  \n",
        "2012-03-19     negative  \n",
        "2012-03-20   small_gain  \n",
        "2012-03-21     negative  \n",
        "2012-03-22   small_gain  \n",
        "2012-03-23   small_gain  \n",
        "2012-03-26     negative  \n",
        "2012-03-27     negative  \n",
        "2012-03-28     negative  \n",
        "2012-03-29     negative  \n",
        "2012-03-30  medium_gain  \n",
        "2012-04-02     negative  \n",
        "2012-04-03   small_gain  \n",
        "2012-04-04     negative  \n",
        "2012-04-05  medium_gain  \n",
        "2012-04-09     negative  \n",
        "2012-04-10     negative  \n",
        "2012-04-11   small_gain  \n",
        "2012-04-12     negative  \n",
        "2012-04-13     negative  \n",
        "...                 ...  \n",
        "2014-12-29     negative  \n",
        "2014-12-30     negative  \n",
        "2014-12-31     negative  \n",
        "2015-01-02   small_gain  \n",
        "2015-01-05  medium_gain  \n",
        "2015-01-06   small_gain  \n",
        "2015-01-07  medium_gain  \n",
        "2015-01-08     negative  \n",
        "2015-01-09     negative  \n",
        "2015-01-12  medium_gain  \n",
        "2015-01-13  medium_gain  \n",
        "2015-01-14   small_gain  \n",
        "2015-01-15  medium_gain  \n",
        "2015-01-16     negative  \n",
        "2015-01-20   small_gain  \n",
        "2015-01-21     negative  \n",
        "2015-01-22     negative  \n",
        "2015-01-23     negative  \n",
        "2015-01-26     negative  \n",
        "2015-01-27   small_gain  \n",
        "2015-01-28  medium_gain  \n",
        "2015-01-29     negative  \n",
        "2015-01-30   small_gain  \n",
        "2015-02-02     negative  \n",
        "2015-02-03     negative  \n",
        "2015-02-04     negative  \n",
        "2015-02-05   small_gain  \n",
        "2015-02-06  medium_gain  \n",
        "2015-02-09  medium_gain  \n",
        "2015-02-10     negative  \n",
        "\n",
        "[740 rows x 8 columns]"
       ]
      }
     ],
     "prompt_number": 32
    },
    {
     "cell_type": "heading",
     "level": 2,
     "metadata": {},
     "source": [
      "Grouping"
     ]
    },
    {
     "cell_type": "markdown",
     "metadata": {},
     "source": [
      "Besides **apply()**, another great DataFrame function is **groupby()**. It will group a DataFrame by one or more columns, and let you iterate through each group.\n",
      "\n",
      "Here we will show the average gain among the three categories of negative, small, medium and large gains we defined above and stored in column ``gain\""
     ]
    },
    {
     "cell_type": "code",
     "collapsed": false,
     "input": [
      "gains = {}\n",
      "for gain, gain_data in df.groupby(\"gain\"):\n",
      "    gains[gain] = gain_data.close.mean()\n",
      "gains"
     ],
     "language": "python",
     "metadata": {},
     "outputs": [
      {
       "metadata": {},
       "output_type": "pyout",
       "prompt_number": 33,
       "text": [
        "{'large_gain': 68.647999999999996,\n",
        " 'medium_gain': 56.715138888888902,\n",
        " 'negative': 46.670194986072431,\n",
        " 'small_gain': 39.890948275862051}"
       ]
      }
     ],
     "prompt_number": 33
    },
    {
     "cell_type": "heading",
     "level": 2,
     "metadata": {},
     "source": [
      "Comparing multiple stocks"
     ]
    },
    {
     "cell_type": "markdown",
     "metadata": {},
     "source": [
      "As a last task, we will use the experience we obtained so far -- and learn some new things -- in order to compare the performance of different stocks we obtained from Yahoo finance."
     ]
    },
    {
     "cell_type": "code",
     "collapsed": false,
     "input": [
      "stocks = ['ORCL', 'TSLA', 'IBM','YELP', 'MSFT']\n",
      "attr = 'Close'\n",
      "df = pd.io.data.get_data_yahoo(stocks, \n",
      "                               start=datetime(2014, 1, 1), \n",
      "                               end=datetime(2014, 12, 31))[attr]\n",
      "print df.head()"
     ],
     "language": "python",
     "metadata": {},
     "outputs": [
      {
       "output_type": "stream",
       "stream": "stdout",
       "text": [
        "               IBM   MSFT   ORCL    TSLA   YELP\n",
        "Date                                           \n",
        "2014-01-02  185.53  37.16  37.84  150.10  67.92\n",
        "2014-01-03  186.64  36.91  37.62  149.56  67.66\n",
        "2014-01-06  186.00  36.13  37.47  147.00  71.72\n",
        "2014-01-07  189.71  36.41  37.85  149.36  72.66\n",
        "2014-01-08  187.97  35.76  37.72  151.28  78.42\n"
       ]
      }
     ],
     "prompt_number": 34
    },
    {
     "cell_type": "code",
     "collapsed": false,
     "input": [
      "df.ORCL.plot(label = 'oracle')\n",
      "df.TSLA.plot(label = 'tesla')\n",
      "df.IBM.plot(label = 'ibm')\n",
      "df.MSFT.plot(label = 'msft')\n",
      "df.YELP.plot(label = 'yelp')\n",
      "plt.legend(loc=5)"
     ],
     "language": "python",
     "metadata": {},
     "outputs": [
      {
       "metadata": {},
       "output_type": "pyout",
       "prompt_number": 35,
       "text": [
        "<matplotlib.legend.Legend at 0x11276b650>"
       ]
      },
      {
       "metadata": {},
       "output_type": "display_data",
       "png": "[encoded data removed]",
       "text": [
        "<matplotlib.figure.Figure at 0x1125d3910>"
       ]
      }
     ],
     "prompt_number": 35
    },
    {
     "cell_type": "heading",
     "level": 4,
     "metadata": {},
     "source": [
      "Calculating returns over a period of length T"
     ]
    },
    {
     "cell_type": "markdown",
     "metadata": {},
     "source": [
      "$$r(t) = \\frac{f(t)-f(t-T)}{f(t)} $$\n",
      "\n",
      "The returns can be computed in python with a simple function **pct_returns( ) **"
     ]
    },
    {
     "cell_type": "code",
     "collapsed": false,
     "input": [
      "rets = df.pct_change(30)\n",
      "#print rets.head(20)"
     ],
     "language": "python",
     "metadata": {},
     "outputs": [],
     "prompt_number": 36
    },
    {
     "cell_type": "markdown",
     "metadata": {},
     "source": [
      "Plotting again the timeseries of the returns of the different stocks"
     ]
    },
    {
     "cell_type": "code",
     "collapsed": false,
     "input": [
      "rets.ORCL.plot(label = 'oracle')\n",
      "rets.TSLA.plot(label = 'tesla')\n",
      "rets.IBM.plot(label = 'ibm')\n",
      "rets.MSFT.plot(label = 'msft')\n",
      "rets.YELP.plot(label = 'yelp')\n",
      "plt.legend()"
     ],
     "language": "python",
     "metadata": {},
     "outputs": [
      {
       "metadata": {},
       "output_type": "pyout",
       "prompt_number": 37,
       "text": [
        "<matplotlib.legend.Legend at 0x11289ebd0>"
       ]
      },
      {
       "metadata": {},
       "output_type": "display_data",
       "png": "[encoded data removed]",
       "text": [
        "<matplotlib.figure.Figure at 0x112799e90>"
       ]
      }
     ],
     "prompt_number": 37
    },
    {
     "cell_type": "code",
     "collapsed": false,
     "input": [
      "plt.scatter(rets.TSLA, rets.ORCL)\n",
      "plt.xlabel('Returns TESLA')\n",
      "plt.ylabel('Returns ORCL')"
     ],
     "language": "python",
     "metadata": {},
     "outputs": [
      {
       "metadata": {},
       "output_type": "pyout",
       "prompt_number": 38,
       "text": [
        "<matplotlib.text.Text at 0x110b348d0>"
       ]
      },
      {
       "metadata": {},
       "output_type": "display_data",
       "png": "[encoded data removed]",
       "text": [
        "<matplotlib.figure.Figure at 0x1128b1210>"
       ]
      }
     ],
     "prompt_number": 38
    },
    {
     "cell_type": "heading",
     "level": 4,
     "metadata": {},
     "source": [
      "Correlations of columns"
     ]
    },
    {
     "cell_type": "markdown",
     "metadata": {},
     "source": [
      "The correlation coefficient between variables $X$ and $Y$ is defined as follows:\n",
      "$$\\text{Corr}(X,Y) = \\frac{E\\left[(X-\\mu_X)(Y-\\mu_Y)\\right]}{\\sigma_X\\sigma_Y}$$\n",
      "\n",
      "In python we can compute the correlation coefficient of all pairs of columns with **corr( )**"
     ]
    },
    {
     "cell_type": "code",
     "collapsed": false,
     "input": [
      "corr = rets.corr()\n",
      "print corr"
     ],
     "language": "python",
     "metadata": {},
     "outputs": [
      {
       "output_type": "stream",
       "stream": "stdout",
       "text": [
        "           IBM      MSFT      ORCL      TSLA      YELP\n",
        "IBM   1.000000  0.340422  0.025742  0.196504  0.104776\n",
        "MSFT  0.340422  1.000000  0.114090  0.415763  0.262595\n",
        "ORCL  0.025742  0.114090  1.000000  0.000964 -0.084176\n",
        "TSLA  0.196504  0.415763  0.000964  1.000000  0.768504\n",
        "YELP  0.104776  0.262595 -0.084176  0.768504  1.000000\n"
       ]
      }
     ],
     "prompt_number": 46
    },
    {
     "cell_type": "heading",
     "level": 4,
     "metadata": {},
     "source": [
      "Visualizing the correlation coefficient of all columns"
     ]
    },
    {
     "cell_type": "markdown",
     "metadata": {},
     "source": [
      "We will learn more about visualization later, but for now this is a simple example"
     ]
    },
    {
     "cell_type": "code",
     "collapsed": false,
     "input": [
      "sns.heatmap(corr, annot=True)"
     ],
     "language": "python",
     "metadata": {},
     "outputs": [
      {
       "metadata": {},
       "output_type": "pyout",
       "prompt_number": 43,
       "text": [
        "<matplotlib.axes._subplots.AxesSubplot at 0x112a312d0>"
       ]
      },
      {
       "metadata": {},
       "output_type": "display_data",
       "png": "[encoded data removed]",
       "text": [
        "<matplotlib.figure.Figure at 0x112927410>"
       ]
      }
     ],
     "prompt_number": 43
    },
    {
     "cell_type": "heading",
     "level": 4,
     "metadata": {},
     "source": [
      "Returns vs risk (standard deviation)\n"
     ]
    },
    {
     "cell_type": "markdown",
     "metadata": {},
     "source": [
      "In many applications, we want to know both the returns as well as the standard deviation of the returns of a stock (i.e., its risk).  Below we visualize the result of such an analysis"
     ]
    },
    {
     "cell_type": "code",
     "collapsed": false,
     "input": [
      "plt.scatter(rets.mean(), rets.std())\n",
      "plt.xlabel('Expected returns')\n",
      "plt.ylabel('Standard Deviation (Risk)')\n",
      "for label, x, y in zip(rets.columns, rets.mean(), rets.std()):\n",
      "    plt.annotate(\n",
      "        label, \n",
      "        xy = (x, y), xytext = (20, -20),\n",
      "        textcoords = 'offset points', ha = 'right', va = 'bottom',\n",
      "        bbox = dict(boxstyle = 'round,pad=0.5', fc = 'yellow', alpha = 0.5),\n",
      "        arrowprops = dict(arrowstyle = '->', connectionstyle = 'arc3,rad=0'))"
     ],
     "language": "python",
     "metadata": {},
     "outputs": [
      {
       "metadata": {},
       "output_type": "display_data",
       "png": "[encoded data removed]",
       "text": [
        "<matplotlib.figure.Figure at 0x113d10790>"
       ]
      }
     ],
     "prompt_number": 49
    },
    {
     "cell_type": "code",
     "collapsed": false,
     "input": [
      "# Code for setting the style of the notebook\n",
      "from IPython.core.display import HTML\n",
      "def css_styling():\n",
      "    styles = open(\"../theme/custom.css\", \"r\").read()\n",
      "    return HTML(styles)\n",
      "css_styling()"
     ],
     "language": "python",
     "metadata": {},
     "outputs": [
      {
       "html": [
        "<link href='http://fonts.googleapis.com/css?family=EB+Garamond' rel='stylesheet' type='text/css'>\r\n",
        "<link href='http://fonts.googleapis.com/css?family=Alegreya+Sans:100,300,400,500,700,800,900,100italic,300italic,400italic,500italic,700italic,800italic,900italic' rel='stylesheet' type='text/css'>\r\n",
        "<link href='http://fonts.googleapis.com/css?family=Source+Code+Pro:300,400' rel='stylesheet' type='text/css'>\r\n",
        "<style>\r\n",
        "    @font-face {\r\n",
        "        font-family: \"Computer Modern\";\r\n",
        "        src: url('http://mirrors.ctan.org/fonts/cm-unicode/fonts/otf/cmunss.otf');\r\n",
        "    }\r\n",
        "    .code_cell {\r\n",
        "        width: 105ex !important ;\r\n",
        "        margin-bottom: 15px !important;\r\n",
        "    }\r\n",
        "    div.cell {\r\n",
        "        margin-left: auto;\r\n",
        "        margin-right: auto;\r\n",
        "        width: 70%;\r\n",
        "    }    \r\n",
        "    div.cell.selected {\r\n",
        "        border: thin rgba(171, 171, 171, 0.5) dashed;\r\n",
        "    }\r\n",
        "    h1 {\r\n",
        "        font-family: 'Alegreya Sans', sans-serif;\r\n",
        "    }\r\n",
        "    h2 {\r\n",
        "        font-family: 'EB Garamond', serif;\r\n",
        "    }\r\n",
        "    h3 {\r\n",
        "        font-family: 'EB Garamond', serif;\r\n",
        "        margin-top:12px;\r\n",
        "        margin-bottom: 3px;\r\n",
        "    }\r\n",
        "    h4 {\r\n",
        "        font-family: 'EB Garamond', serif;\r\n",
        "    }\r\n",
        "    h5 {\r\n",
        "        font-family: 'Alegreya Sans', sans-serif;\r\n",
        "    }\r\n",
        "    div.text_cell_render {\r\n",
        "        font-family: 'EB Garamond',Computer Modern, \"Helvetica Neue\", Arial, Helvetica, Geneva, sans-serif;\r\n",
        "        line-height: 145%;\r\n",
        "        font-size: 140%;\r\n",
        "    }\r\n",
        "    div.input_area {\r\n",
        "        border-color: rgba(0,0,0,0.10) !important;\r\n",
        "        background: #fafafa;\r\n",
        "    }\r\n",
        "    .CodeMirror {\r\n",
        "            font-family: \"Source Code Pro\";\r\n",
        "            font-size: 90%;\r\n",
        "    }\r\n",
        "    .prompt {\r\n",
        "        display: None;\r\n",
        "    }\r\n",
        "    .output {\r\n",
        "        padding-left: 50px;\r\n",
        "        padding-top: 5px;\r\n",
        "    }\r\n",
        "    .output_wrapper {\r\n",
        "        padding-left: 5px;\r\n",
        "        padding-top: inherit;\r\n",
        "    }\r\n",
        "    div.output_scroll {\r\n",
        "        width: inherit;\r\n",
        "    }\r\n",
        "    .inner_cell {\r\n",
        "        padding-left: 5px;\r\n",
        "    }\r\n",
        "    .text_cell_render h1 {\r\n",
        "        font-weight: 200;\r\n",
        "        font-size: 50pt;\r\n",
        "        line-height: 100%;\r\n",
        "        color:#CD2305;\r\n",
        "        margin-bottom: 0.5em;\r\n",
        "        margin-top: 0.5em;\r\n",
        "        display: block;\r\n",
        "    }\r\n",
        "    .text_cell_render h5 {\r\n",
        "        font-weight: 300;\r\n",
        "        font-size: 16pt;\r\n",
        "        color: #CD2305;\r\n",
        "        font-style: italic;\r\n",
        "        margin-bottom: .5em;\r\n",
        "        margin-top: 0.5em;\r\n",
        "        display: block;\r\n",
        "    }\r\n",
        "    .warning {\r\n",
        "        color: rgb( 240, 20, 20 )\r\n",
        "        }  \r\n",
        "</style>\r\n",
        "<script>\r\n",
        "    MathJax.Hub.Config({\r\n",
        "                        TeX: {\r\n",
        "                           extensions: [\"AMSmath.js\"]\r\n",
        "                           },\r\n",
        "                tex2jax: {\r\n",
        "                    inlineMath: [ ['$','$'], [\"\\\\(\",\"\\\\)\"] ],\r\n",
        "                    displayMath: [ ['$$','$$'], [\"\\\\[\",\"\\\\]\"] ]\r\n",
        "                },\r\n",
        "                displayAlign: 'center', // Change this to 'center' to center equations.\r\n",
        "                \"HTML-CSS\": {\r\n",
        "                    styles: {'.MathJax_Display': {\"margin\": 4}}\r\n",
        "                }\r\n",
        "        });\r\n",
        "</script>"
       ],
       "metadata": {},
       "output_type": "pyout",
       "prompt_number": 48,
       "text": [
        "<IPython.core.display.HTML at 0x113e00f90>"
       ]
      }
     ],
     "prompt_number": 48
    },
    {
     "cell_type": "code",
     "collapsed": false,
     "input": [],
     "language": "python",
     "metadata": {},
     "outputs": []
    }
   ],
   "metadata": {}
  }
 ]
}