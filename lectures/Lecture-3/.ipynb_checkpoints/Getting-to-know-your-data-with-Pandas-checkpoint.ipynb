{
 "metadata": {
  "celltoolbar": "Raw Cell Format",
  "name": "",
  "signature": "sha256:e0777f863c27e782122a6930e53a86250efab3e4c997c6c8b9a788c1ac5352cb"
 },
 "nbformat": 3,
 "nbformat_minor": 0,
 "worksheets": [
  {
   "cells": [
    {
     "cell_type": "heading",
     "level": 1,
     "metadata": {},
     "source": [
      "Getting to know your data with Pandas"
     ]
    },
    {
     "cell_type": "heading",
     "level": 2,
     "metadata": {},
     "source": [
      "What is Pandas"
     ]
    },
    {
     "cell_type": "markdown",
     "metadata": {},
     "source": [
      "Pandas is Python Data Analysis Library. Pandas provides an R-like DataFrame, produces high quality plots with matplotlib, and integrates nicely with other libraries that expect NumPy arrays."
     ]
    },
    {
     "cell_type": "heading",
     "level": 2,
     "metadata": {},
     "source": [
      "Getting started"
     ]
    },
    {
     "cell_type": "code",
     "collapsed": false,
     "input": [
      "\n",
      "import pandas as pd\n",
      "import pandas.io.data as web\n",
      "from pandas import Series, DataFrame\n",
      "\n",
      "import matplotlib.pyplot as plt\n",
      "import matplotlib as mpl\n",
      "import seaborn as sns\n",
      "\n",
      "\n",
      "from datetime import datetime\n",
      "\n",
      "#pd.__version__\n",
      "\n",
      "%matplotlib inline"
     ],
     "language": "python",
     "metadata": {},
     "outputs": []
    },
    {
     "cell_type": "heading",
     "level": 2,
     "metadata": {},
     "source": [
      "Fetching storing and retrieving your data"
     ]
    },
    {
     "cell_type": "markdown",
     "metadata": {},
     "source": [
      "More information on what types of data you can fetch\n",
      "\n",
      "http://pandas.pydata.org/pandas-docs/stable/remote_data.html"
     ]
    },
    {
     "cell_type": "code",
     "collapsed": false,
     "input": [
      "#yahoo data\n",
      "#stocks = ['ORCL', 'TSLA', 'IBM','YELP', 'MSFT']\n",
      "stocks = 'YELP'\n",
      "#ls_key = 'Adj Close'\n",
      "#yahoo_stocks = pd.io.data.DataReader(stocks,'yahoo', \n",
      "#                                 start=datetime.datetime(2014, 1, 1), \n",
      "#                                 end=datetime.datetime(2014, 12, 31))\n",
      "\n",
      "yahoo_stocks = pd.io.data.get_data_yahoo(stocks)\n",
      "#                                 start=datetime.datetime(2011, 10, 1), \n",
      "#                                 end=datetime.datetime(2014, 12, 31))\n",
      "\n",
      "#yahoo_stocks.head()\n",
      "yahoo_stocks.info()"
     ],
     "language": "python",
     "metadata": {},
     "outputs": []
    },
    {
     "cell_type": "markdown",
     "metadata": {},
     "source": [
      "More on pandas data frames: \n",
      "\n",
      "\n",
      "http://pandas.pydata.org/pandas-docs/dev/generated/pandas.DataFrame.html"
     ]
    },
    {
     "cell_type": "heading",
     "level": 4,
     "metadata": {},
     "source": [
      "Reading data from a .csv file"
     ]
    },
    {
     "cell_type": "markdown",
     "metadata": {},
     "source": [
      "Some basic commands for reading and getting to know the characteristics of your data"
     ]
    },
    {
     "cell_type": "code",
     "collapsed": false,
     "input": [
      "yahoo_stocks.to_csv('yahoo_data.csv')\n",
      "#print(open('yahoo_data.csv').read())\n",
      "df = pd.read_csv('yahoo_data.csv')#, index_col='Date', infer_datetime_format=True, parse_dates=True)\n",
      "#print df.head()\n",
      "#print df.info()\n",
      "#print df.index\n",
      "print df"
     ],
     "language": "python",
     "metadata": {},
     "outputs": []
    },
    {
     "cell_type": "code",
     "collapsed": false,
     "input": [
      "#The number of tuples in your data\n",
      "print len(df)"
     ],
     "language": "python",
     "metadata": {},
     "outputs": []
    },
    {
     "cell_type": "heading",
     "level": 2,
     "metadata": {},
     "source": [
      "Playing with data columns"
     ]
    },
    {
     "cell_type": "code",
     "collapsed": false,
     "input": [
      "#The columns/features of your data\n",
      "print df.columns"
     ],
     "language": "python",
     "metadata": {},
     "outputs": []
    },
    {
     "cell_type": "code",
     "collapsed": false,
     "input": [
      "#Selecting a single column from your data\n",
      "print df['Open']"
     ],
     "language": "python",
     "metadata": {},
     "outputs": []
    },
    {
     "cell_type": "code",
     "collapsed": false,
     "input": [
      "#Another way of selecting a single column from your data\n",
      "print df.Open"
     ],
     "language": "python",
     "metadata": {},
     "outputs": []
    },
    {
     "cell_type": "code",
     "collapsed": false,
     "input": [
      "print df.columns\n",
      "print (df[['Open','Close']]).info()\n",
      "#print df[['Open','Close']]"
     ],
     "language": "python",
     "metadata": {},
     "outputs": []
    },
    {
     "cell_type": "code",
     "collapsed": false,
     "input": [
      "print df.Date.head(10)\n",
      "print df.Date.tail(10)\n"
     ],
     "language": "python",
     "metadata": {},
     "outputs": []
    },
    {
     "cell_type": "code",
     "collapsed": false,
     "input": [
      "#alternative\n",
      "print df['Date'].head(10)\n",
      "print df['Date'].tail(10)"
     ],
     "language": "python",
     "metadata": {},
     "outputs": []
    },
    {
     "cell_type": "heading",
     "level": 4,
     "metadata": {},
     "source": [
      "Changing the column names"
     ]
    },
    {
     "cell_type": "code",
     "collapsed": false,
     "input": [
      "new_column_names = [ x.lower().replace(' ','_') for x in df.columns]\n",
      "new_column_names\n",
      "df.columns = new_column_names\n",
      "print df.info()"
     ],
     "language": "python",
     "metadata": {},
     "outputs": []
    },
    {
     "cell_type": "heading",
     "level": 4,
     "metadata": {},
     "source": [
      "Now **all** columns can be accessed using the **dot** notation"
     ]
    },
    {
     "cell_type": "code",
     "collapsed": false,
     "input": [
      "print df.adj_close"
     ],
     "language": "python",
     "metadata": {},
     "outputs": []
    },
    {
     "cell_type": "code",
     "collapsed": false,
     "input": [
      "print df.adj_close.head()"
     ],
     "language": "python",
     "metadata": {},
     "outputs": []
    },
    {
     "cell_type": "heading",
     "level": 4,
     "metadata": {},
     "source": [
      "We can now apply methods on different columns"
     ]
    },
    {
     "cell_type": "code",
     "collapsed": false,
     "input": [
      "print df.mean()\n",
      "#df.std()\n",
      "#df.median()\n",
      "#df.open.mean()\n",
      "#df.high.mean()"
     ],
     "language": "python",
     "metadata": {},
     "outputs": []
    },
    {
     "cell_type": "heading",
     "level": 4,
     "metadata": {},
     "source": [
      "Plotting some columns"
     ]
    },
    {
     "cell_type": "code",
     "collapsed": false,
     "input": [
      "df.adj_close.plot(label='adj')\n",
      "df.low.plot(label='close')\n",
      "#df.low.plot()\n",
      "plt.legend(loc=2)"
     ],
     "language": "python",
     "metadata": {},
     "outputs": []
    },
    {
     "cell_type": "code",
     "collapsed": false,
     "input": [
      "df.adj_close.hist()\n",
      "#df.volume.hist()"
     ],
     "language": "python",
     "metadata": {},
     "outputs": []
    },
    {
     "cell_type": "heading",
     "level": 2,
     "metadata": {},
     "source": [
      "Bulk Operations"
     ]
    },
    {
     "cell_type": "markdown",
     "metadata": {},
     "source": [
      "Methods like **sum( )** and **std( )** work on entire columns. We can run our own functions across all values in a column (or row) using **apply( )**."
     ]
    },
    {
     "cell_type": "code",
     "collapsed": false,
     "input": [
      "print df.date.head()"
     ],
     "language": "python",
     "metadata": {},
     "outputs": []
    },
    {
     "cell_type": "markdown",
     "metadata": {},
     "source": [
      "The **values** property of the column returns a list of values for the column. Inspecting the first value reveals that these are strings with a particular format."
     ]
    },
    {
     "cell_type": "code",
     "collapsed": false,
     "input": [
      "print df.date.values\n",
      "first_date = df.date.values[0]\n",
      "print first_date"
     ],
     "language": "python",
     "metadata": {},
     "outputs": []
    },
    {
     "cell_type": "code",
     "collapsed": false,
     "input": [
      "datetime.strptime(first_date, \"%Y-%m-%d\")"
     ],
     "language": "python",
     "metadata": {},
     "outputs": []
    },
    {
     "cell_type": "code",
     "collapsed": false,
     "input": [
      "df.date = df.date.apply(lambda d: datetime.strptime(d, \"%Y-%m-%d\"))\n",
      "print df.date.head()"
     ],
     "language": "python",
     "metadata": {},
     "outputs": []
    },
    {
     "cell_type": "markdown",
     "metadata": {},
     "source": [
      "Each row in a DataFrame is associated with an index, which is a label that uniquely identifies a row.\n",
      "\n",
      "The row indices so far have been auto-generated by pandas, and are simply integers starting from 0. From now on we will use dates instead of integers for indices-- the benefits of this will show later. Overwriting the index is as easy as assigning to the index property of the DataFrame.\n"
     ]
    },
    {
     "cell_type": "code",
     "collapsed": false,
     "input": [
      "df.index = df.date\n",
      "print df.info()"
     ],
     "language": "python",
     "metadata": {},
     "outputs": []
    },
    {
     "cell_type": "heading",
     "level": 4,
     "metadata": {},
     "source": [
      "Accessing rows of the DataFrame using index values"
     ]
    },
    {
     "cell_type": "code",
     "collapsed": false,
     "input": [
      "df.ix[datetime(2015,1,23,0,0)]"
     ],
     "language": "python",
     "metadata": {},
     "outputs": []
    },
    {
     "cell_type": "heading",
     "level": 4,
     "metadata": {},
     "source": [
      "Accessing individual rows using iloc[ ]"
     ]
    },
    {
     "cell_type": "code",
     "collapsed": false,
     "input": [
      "df.iloc[0,:]"
     ],
     "language": "python",
     "metadata": {},
     "outputs": []
    },
    {
     "cell_type": "heading",
     "level": 4,
     "metadata": {},
     "source": [
      "Iterating over the rows using **iterrows( )**"
     ]
    },
    {
     "cell_type": "code",
     "collapsed": false,
     "input": [
      "num_positive_days = 0\n",
      "for idx, row in df.iterrows():\n",
      "    if row.close > row.open:\n",
      "        num_positive_days += 1\n",
      "        \n",
      "print \"The total number of positive-gain days : \" + str(num_positive_days)"
     ],
     "language": "python",
     "metadata": {},
     "outputs": []
    },
    {
     "cell_type": "heading",
     "level": 4,
     "metadata": {},
     "source": [
      "Droping a column"
     ]
    },
    {
     "cell_type": "markdown",
     "metadata": {},
     "source": [
      "Now that we have made an index based on date, we can drop the actual ``date\" column"
     ]
    },
    {
     "cell_type": "code",
     "collapsed": false,
     "input": [
      "df = df.drop(['date'],axis=1)\n",
      "print df.info()\n",
      "print df.columns"
     ],
     "language": "python",
     "metadata": {},
     "outputs": []
    },
    {
     "cell_type": "heading",
     "level": 2,
     "metadata": {},
     "source": [
      "Filtering"
     ]
    },
    {
     "cell_type": "markdown",
     "metadata": {},
     "source": [
      "Selecting interesting rows from the data.  All operations below return a DataFrame, which can be treated the same way as all DataFrames we have seen so far."
     ]
    },
    {
     "cell_type": "code",
     "collapsed": false,
     "input": [
      "positive_days = df[df.close > df.open]\n",
      "print positive_days.head()"
     ],
     "language": "python",
     "metadata": {},
     "outputs": []
    },
    {
     "cell_type": "code",
     "collapsed": false,
     "input": [
      "very_positive_days = df[df.close-df.open > 4]\n",
      "print len(very_positive_days)\n",
      "#print very_positive_days.head()"
     ],
     "language": "python",
     "metadata": {},
     "outputs": []
    },
    {
     "cell_type": "code",
     "collapsed": false,
     "input": [
      "tmp_high = df.high > 60\n",
      "print type(tmp_high)"
     ],
     "language": "python",
     "metadata": {},
     "outputs": []
    },
    {
     "cell_type": "code",
     "collapsed": false,
     "input": [
      "print tmp_high.head()\n",
      "print len(tmp_high)"
     ],
     "language": "python",
     "metadata": {},
     "outputs": []
    },
    {
     "cell_type": "markdown",
     "metadata": {},
     "source": [
      "Select only the rows of **df** that correspond to **tmp_high**"
     ]
    },
    {
     "cell_type": "code",
     "collapsed": false,
     "input": [
      "print df[tmp_high]"
     ],
     "language": "python",
     "metadata": {},
     "outputs": []
    },
    {
     "cell_type": "heading",
     "level": 2,
     "metadata": {},
     "source": [
      "Creating new columns"
     ]
    },
    {
     "cell_type": "code",
     "collapsed": false,
     "input": [
      "df['profit'] = (df.open < df.close)\n",
      "print df.head()"
     ],
     "language": "python",
     "metadata": {},
     "outputs": []
    },
    {
     "cell_type": "code",
     "collapsed": false,
     "input": [
      "for idx, row in df.iterrows():\n",
      "    if row.close > row.open:\n",
      "        df.ix[idx,'gain']='negative'\n",
      "    elif (row.open - row.close) < 1:\n",
      "        df.ix[idx,'gain']='small_gain'\n",
      "    elif (row.open - row.close) < 6:\n",
      "        df.ix[idx,'gain']='medium_gain'\n",
      "    else:\n",
      "        df.ix[idx,'gain']='large_gain'\n",
      "print df.head()"
     ],
     "language": "python",
     "metadata": {},
     "outputs": []
    },
    {
     "cell_type": "heading",
     "level": 4,
     "metadata": {},
     "source": [
      "Alternatively"
     ]
    },
    {
     "cell_type": "code",
     "collapsed": false,
     "input": [
      "def namerow(row):\n",
      "    if row.close > row.open:\n",
      "        return 'negative'\n",
      "    elif (row.open - row.close) < 1:\n",
      "        return 'small_gain'\n",
      "    elif (row.open - row.close) < 6:\n",
      "        return 'medium_gain'\n",
      "    else:\n",
      "        return 'large_gain'\n",
      "\n",
      "df['test_column'] = df.apply(namerow, axis = 1)\n"
     ],
     "language": "python",
     "metadata": {},
     "outputs": []
    },
    {
     "cell_type": "code",
     "collapsed": false,
     "input": [
      "print df.head()"
     ],
     "language": "python",
     "metadata": {},
     "outputs": []
    },
    {
     "cell_type": "code",
     "collapsed": false,
     "input": [
      "df.drop('test_column', axis = 1)"
     ],
     "language": "python",
     "metadata": {},
     "outputs": []
    },
    {
     "cell_type": "heading",
     "level": 2,
     "metadata": {},
     "source": [
      "Grouping"
     ]
    },
    {
     "cell_type": "markdown",
     "metadata": {},
     "source": [
      "Besides **apply()**, another great DataFrame function is **groupby()**. It will group a DataFrame by one or more columns, and let you iterate through each group.\n",
      "\n",
      "Here we will show the average gain among the three categories of negative, small, medium and large gains we defined above and stored in column ``gain\""
     ]
    },
    {
     "cell_type": "code",
     "collapsed": false,
     "input": [
      "gains = {}\n",
      "for gain, gain_data in df.groupby(\"gain\"):\n",
      "    gains[gain] = gain_data.close.mean()\n",
      "gains"
     ],
     "language": "python",
     "metadata": {},
     "outputs": []
    },
    {
     "cell_type": "heading",
     "level": 2,
     "metadata": {},
     "source": [
      "Comparing multiple stocks"
     ]
    },
    {
     "cell_type": "markdown",
     "metadata": {},
     "source": [
      "As a last task, we will use the experience we obtained so far -- and learn some new things -- in order to compare the performance of different stocks we obtained from Yahoo finance."
     ]
    },
    {
     "cell_type": "code",
     "collapsed": false,
     "input": [
      "stocks = ['ORCL', 'TSLA', 'IBM','YELP', 'MSFT']\n",
      "attr = 'Close'\n",
      "df = pd.io.data.get_data_yahoo(stocks, \n",
      "                               start=datetime(2014, 1, 1), \n",
      "                               end=datetime(2014, 12, 31))[attr]\n",
      "print df.head()"
     ],
     "language": "python",
     "metadata": {},
     "outputs": []
    },
    {
     "cell_type": "code",
     "collapsed": false,
     "input": [
      "df.ORCL.plot(label = 'oracle')\n",
      "df.TSLA.plot(label = 'tesla')\n",
      "df.IBM.plot(label = 'ibm')\n",
      "df.MSFT.plot(label = 'msft')\n",
      "df.YELP.plot(label = 'yelp')\n",
      "plt.legend(loc=5)"
     ],
     "language": "python",
     "metadata": {},
     "outputs": []
    },
    {
     "cell_type": "heading",
     "level": 4,
     "metadata": {},
     "source": [
      "Calculating returns over a period of length T"
     ]
    },
    {
     "cell_type": "markdown",
     "metadata": {},
     "source": [
      "$$r(t) = \\frac{f(t)-f(t-T)}{f(t)} $$\n",
      "\n",
      "The returns can be computed in python with a simple function **pct_returns( ) **"
     ]
    },
    {
     "cell_type": "code",
     "collapsed": false,
     "input": [
      "rets = df.pct_change(30)\n",
      "#print rets.head(20)"
     ],
     "language": "python",
     "metadata": {},
     "outputs": []
    },
    {
     "cell_type": "markdown",
     "metadata": {},
     "source": [
      "Plotting again the timeseries of the returns of the different stocks"
     ]
    },
    {
     "cell_type": "code",
     "collapsed": false,
     "input": [
      "rets.ORCL.plot(label = 'oracle')\n",
      "rets.TSLA.plot(label = 'tesla')\n",
      "rets.IBM.plot(label = 'ibm')\n",
      "rets.MSFT.plot(label = 'msft')\n",
      "rets.YELP.plot(label = 'yelp')\n",
      "plt.legend()"
     ],
     "language": "python",
     "metadata": {},
     "outputs": []
    },
    {
     "cell_type": "code",
     "collapsed": false,
     "input": [
      "plt.scatter(rets.TSLA, rets.ORCL)\n",
      "plt.xlabel('Returns TESLA')\n",
      "plt.ylabel('Returns ORCL')"
     ],
     "language": "python",
     "metadata": {},
     "outputs": []
    },
    {
     "cell_type": "heading",
     "level": 4,
     "metadata": {},
     "source": [
      "Correlations of columns"
     ]
    },
    {
     "cell_type": "markdown",
     "metadata": {},
     "source": [
      "The correlation coefficient between variables $X$ and $Y$ is defined as follows:\n",
      "$$\\text{Corr}(X,Y) = \\frac{E\\left[(X-\\mu_X)(Y-\\mu_Y)\\right]}{\\sigma_X\\sigma_Y}$$\n",
      "\n",
      "In python we can compute the correlation coefficient of all pairs of columns with **corr( )**"
     ]
    },
    {
     "cell_type": "code",
     "collapsed": false,
     "input": [
      "corr = rets.corr()\n",
      "print corr"
     ],
     "language": "python",
     "metadata": {},
     "outputs": []
    },
    {
     "cell_type": "heading",
     "level": 4,
     "metadata": {},
     "source": [
      "Visualizing the correlation coefficient of all columns"
     ]
    },
    {
     "cell_type": "markdown",
     "metadata": {},
     "source": [
      "We will learn more about visualization later, but for now this is a simple example"
     ]
    },
    {
     "cell_type": "code",
     "collapsed": false,
     "input": [
      "sns.heatmap(corr, annot=True)"
     ],
     "language": "python",
     "metadata": {},
     "outputs": []
    },
    {
     "cell_type": "heading",
     "level": 4,
     "metadata": {},
     "source": [
      "Returns vs risk (standard deviation)\n"
     ]
    },
    {
     "cell_type": "markdown",
     "metadata": {},
     "source": [
      "In many applications, we want to know both the returns as well as the standard deviation of the returns of a stock (i.e., its risk).  Below we visualize the result of such an analysis"
     ]
    },
    {
     "cell_type": "code",
     "collapsed": false,
     "input": [
      "plt.scatter(rets.mean(), rets.std())\n",
      "plt.xlabel('Expected returns')\n",
      "plt.ylabel('Standard Deviation (Risk)')\n",
      "for label, x, y in zip(rets.columns, rets.mean(), rets.std()):\n",
      "    plt.annotate(\n",
      "        label, \n",
      "        xy = (x, y), xytext = (20, -20),\n",
      "        textcoords = 'offset points', ha = 'right', va = 'bottom',\n",
      "        bbox = dict(boxstyle = 'round,pad=0.5', fc = 'yellow', alpha = 0.5),\n",
      "        arrowprops = dict(arrowstyle = '->', connectionstyle = 'arc3,rad=0'))"
     ],
     "language": "python",
     "metadata": {},
     "outputs": []
    },
    {
     "cell_type": "code",
     "collapsed": false,
     "input": [
      "# Code for setting the style of the notebook\n",
      "from IPython.core.display import HTML\n",
      "def css_styling():\n",
      "    styles = open(\"../theme/custom.css\", \"r\").read()\n",
      "    return HTML(styles)\n",
      "css_styling()"
     ],
     "language": "python",
     "metadata": {},
     "outputs": [
      {
       "html": [
        "<link href='http://fonts.googleapis.com/css?family=EB+Garamond' rel='stylesheet' type='text/css'>\r\n",
        "<link href='http://fonts.googleapis.com/css?family=Alegreya+Sans:100,300,400,500,700,800,900,100italic,300italic,400italic,500italic,700italic,800italic,900italic' rel='stylesheet' type='text/css'>\r\n",
        "<link href='http://fonts.googleapis.com/css?family=Source+Code+Pro:300,400' rel='stylesheet' type='text/css'>\r\n",
        "<style>\r\n",
        "    @font-face {\r\n",
        "        font-family: \"Computer Modern\";\r\n",
        "        src: url('http://mirrors.ctan.org/fonts/cm-unicode/fonts/otf/cmunss.otf');\r\n",
        "    }\r\n",
        "    .code_cell {\r\n",
        "        width: 105ex !important ;\r\n",
        "        margin-bottom: 15px !important;\r\n",
        "    }\r\n",
        "    div.cell {\r\n",
        "        margin-left: auto;\r\n",
        "        margin-right: auto;\r\n",
        "        width: 70%;\r\n",
        "    }    \r\n",
        "    div.cell.selected {\r\n",
        "        border: thin rgba(171, 171, 171, 0.5) dashed;\r\n",
        "    }\r\n",
        "    h1 {\r\n",
        "        font-family: 'Alegreya Sans', sans-serif;\r\n",
        "    }\r\n",
        "    h2 {\r\n",
        "        font-family: 'EB Garamond', serif;\r\n",
        "    }\r\n",
        "    h3 {\r\n",
        "        font-family: 'EB Garamond', serif;\r\n",
        "        margin-top:12px;\r\n",
        "        margin-bottom: 3px;\r\n",
        "    }\r\n",
        "    h4 {\r\n",
        "        font-family: 'EB Garamond', serif;\r\n",
        "    }\r\n",
        "    h5 {\r\n",
        "        font-family: 'Alegreya Sans', sans-serif;\r\n",
        "    }\r\n",
        "    div.text_cell_render {\r\n",
        "        font-family: 'EB Garamond',Computer Modern, \"Helvetica Neue\", Arial, Helvetica, Geneva, sans-serif;\r\n",
        "        line-height: 145%;\r\n",
        "        font-size: 140%;\r\n",
        "    }\r\n",
        "    div.input_area {\r\n",
        "        border-color: rgba(0,0,0,0.10) !important;\r\n",
        "        background: #fafafa;\r\n",
        "    }\r\n",
        "    .CodeMirror {\r\n",
        "            font-family: \"Source Code Pro\";\r\n",
        "            font-size: 90%;\r\n",
        "    }\r\n",
        "    .prompt {\r\n",
        "        display: None;\r\n",
        "    }\r\n",
        "    .output {\r\n",
        "        padding-left: 50px;\r\n",
        "        padding-top: 5px;\r\n",
        "    }\r\n",
        "    .output_wrapper {\r\n",
        "        padding-left: 5px;\r\n",
        "        padding-top: inherit;\r\n",
        "    }\r\n",
        "    div.output_scroll {\r\n",
        "        width: inherit;\r\n",
        "    }\r\n",
        "    .inner_cell {\r\n",
        "        padding-left: 5px;\r\n",
        "    }\r\n",
        "    .text_cell_render h1 {\r\n",
        "        font-weight: 200;\r\n",
        "        font-size: 50pt;\r\n",
        "        line-height: 100%;\r\n",
        "        color:#CD2305;\r\n",
        "        margin-bottom: 0.5em;\r\n",
        "        margin-top: 0.5em;\r\n",
        "        display: block;\r\n",
        "    }\r\n",
        "    .text_cell_render h5 {\r\n",
        "        font-weight: 300;\r\n",
        "        font-size: 16pt;\r\n",
        "        color: #CD2305;\r\n",
        "        font-style: italic;\r\n",
        "        margin-bottom: .5em;\r\n",
        "        margin-top: 0.5em;\r\n",
        "        display: block;\r\n",
        "    }\r\n",
        "    .warning {\r\n",
        "        color: rgb( 240, 20, 20 )\r\n",
        "        }  \r\n",
        "</style>\r\n",
        "<script>\r\n",
        "    MathJax.Hub.Config({\r\n",
        "                        TeX: {\r\n",
        "                           extensions: [\"AMSmath.js\"]\r\n",
        "                           },\r\n",
        "                tex2jax: {\r\n",
        "                    inlineMath: [ ['$','$'], [\"\\\\(\",\"\\\\)\"] ],\r\n",
        "                    displayMath: [ ['$$','$$'], [\"\\\\[\",\"\\\\]\"] ]\r\n",
        "                },\r\n",
        "                displayAlign: 'center', // Change this to 'center' to center equations.\r\n",
        "                \"HTML-CSS\": {\r\n",
        "                    styles: {'.MathJax_Display': {\"margin\": 4}}\r\n",
        "                }\r\n",
        "        });\r\n",
        "</script>"
       ],
       "metadata": {},
       "output_type": "pyout",
       "prompt_number": 1,
       "text": [
        "<IPython.core.display.HTML at 0x10310ea10>"
       ]
      }
     ],
     "prompt_number": 1
    }
   ],
   "metadata": {}
  }
 ]
}