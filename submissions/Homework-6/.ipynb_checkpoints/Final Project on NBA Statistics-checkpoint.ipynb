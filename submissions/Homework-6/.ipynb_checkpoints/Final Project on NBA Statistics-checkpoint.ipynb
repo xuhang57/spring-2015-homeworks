{
 "cells": [
  {
   "cell_type": "code",
   "execution_count": 1,
   "metadata": {
    "collapsed": false
   },
   "outputs": [
    {
     "name": "stderr",
     "output_type": "stream",
     "text": [
      "/Users/Lucas/Library/Enthought/Canopy_64bit/User/lib/python2.7/site-packages/pytz/__init__.py:29: UserWarning: Module argparse was already imported from /Users/Lucas/anaconda/lib/python2.7/argparse.pyc, but /Users/Lucas/anaconda/lib/python2.7/site-packages is being added to sys.path\n",
      "  from pkg_resources import resource_stream\n"
     ]
    }
   ],
   "source": [
    "#Importing the NBAStats Package\n",
    "\n",
    "#Inherited from NBAStats API, created by Bradley Fray. \n",
    "# Modified by Lucas, adding more classes for the original API to enrich its returned data for analysis purpose. \n",
    "# Such as PlayerBio, PlayerStats, Team, etc. \n",
    "# \t* The data returned by the API is transformed into pandas dataframe\n",
    "\n",
    "import nbastats.nbastats as nba"
   ]
  },
  {
   "cell_type": "code",
   "execution_count": 98,
   "metadata": {
    "collapsed": false
   },
   "outputs": [],
   "source": [
    "import pandas as pd\n",
    "import numpy as np\n",
    "import statsmodels.formula.api as sm\n",
    "import matplotlib.pyplot as plt\n",
    "%matplotlib inline\n",
    "\n",
    "import sklearn.metrics as metrics\n",
    "import sklearn.utils as utils\n",
    "import sklearn.linear_model as linear_model\n",
    "import sklearn.cross_validation as cross_validation"
   ]
  },
  {
   "cell_type": "markdown",
   "metadata": {},
   "source": [
    "# Hypothesis"
   ]
  },
  {
   "cell_type": "markdown",
   "metadata": {},
   "source": [
    "1. Is there a correlation between height and free-throw percentage?\n",
    "\n",
    "2. Does three-point actually help teams win the game?\n",
    " \n",
    "3. Does the intensity of post-season game have a major influence on players’ performance?  "
   ]
  },
  {
   "cell_type": "markdown",
   "metadata": {},
   "source": [
    "# Analysis"
   ]
  },
  {
   "cell_type": "markdown",
   "metadata": {},
   "source": [
    "Recall: Is there a correlation between height and free-throw percentage?"
   ]
  },
  {
   "cell_type": "markdown",
   "metadata": {
    "collapsed": true
   },
   "source": [
    "First, we are going to find 50 different players and their height and career free throw percentage using API we have\n",
    "10 Point Guards, 10 Short Guards, 10 Small Forward, 10 Power Forward, 10 Centers, since in general, PG and SG are \n",
    "shorter than SF and PF. And SF and PF are shorter than C. It is a good way for us to classify different plays with their\n",
    "heights. \n",
    "\n",
    "All players listed here are active player, which means they are not retired.\n",
    "\n",
    "References: http://stats.nba.com/\n",
    "\n",
    "50 different players ID:\n",
    "    Point Guards:\n",
    "            1. STEPHEN CURRY      201939\n",
    "            2. KYRIE IRVING       202681\n",
    "            3. RUSSELL WESTBROOK  201566\n",
    "            4. MIKE CONLEY        201144\n",
    "            5. DAMIAN LILLARD     203081\n",
    "            6. CHRIS PAUL         101108\n",
    "            7. JOHN WALL          202322\n",
    "            8. DERRICK ROSE       201565\n",
    "            9. JEREMY LIN         202391\n",
    "            10. RAJON RONDO       200765\n",
    "             \n",
    "    Shooting Guards:\n",
    "            1. JAMES HARDEN       201935\n",
    "            2. GORDON HAYWARD     202330\n",
    "            3. JAMAL CRAWFORD     2037\n",
    "            4. DWYANE WADE        2548\n",
    "            5. KOBE BRYANT        977\n",
    "            6. JJ REDICK          200755\n",
    "            7. BRADLEY BEAL       203078\n",
    "            8. KLAY THOMPSON      202691\n",
    "            9. KYLE KORVER        2594\n",
    "            10. MONTA ELLIS       101145\n",
    "            \n",
    "    Power Forwards:\n",
    "            1. ANTHONY DAVIS      203076\n",
    "            2. LAMARCUS ALDRIDGE  200746\n",
    "            3. BLAKE GRIFFIN      201933\n",
    "            4. KEVIN LOVE         201567\n",
    "            5. JOSH SMITH         2746\n",
    "            6. TIM DUNCAN         1495\n",
    "            7. DIRK NOWITZKI      1717\n",
    "            8. BORIS DIAW         2564\n",
    "            9. PAUL MILLSAP       200794\n",
    "            10. LEBORN JAMES      2544\n",
    "            \n",
    "    Small Forwards:\n",
    "            1. PAUL PIERCE        1718\n",
    "            2. JIMMY BUTLER       202710\n",
    "            3. KAWHI LEONARD      202695\n",
    "            4. DANNY GREEN        201980\n",
    "            5. CHANDLER PARSONS   202718\n",
    "            6. MIKE DUNLEAVY      2399\n",
    "            7. KEVIN DURANT       201142\n",
    "            8. CARMELO ANTHONY    2546\n",
    "            9. DRAYMOND GREEN     203110\n",
    "            10. JOE JOHNSON       2207\n",
    "            \n",
    "    Centers:\n",
    "            1. DEMARCUS COUSINS   202326\n",
    "            2. ZACH RANDOLPH      2216\n",
    "            3. GREG MONROE        202328\n",
    "            4. TYSON CHANDLER     2199       \n",
    "            5. AL JEFFERSON       2744\n",
    "            6. MARC GASOL         201188\n",
    "            7. JOAKIM NOAH        201149              \n",
    "            8. DWIGHT HOWARD      2730\n",
    "            9. PAU GASOL          2200\n",
    "            10. DEANDRE JORDON    201599\n",
    "            "
   ]
  },
  {
   "cell_type": "code",
   "execution_count": 28,
   "metadata": {
    "collapsed": false
   },
   "outputs": [
    {
     "data": {
      "text/html": [
       "<div style=\"max-height:1000px;max-width:1500px;overflow:auto;\">\n",
       "<table border=\"1\" class=\"dataframe\">\n",
       "  <thead>\n",
       "    <tr style=\"text-align: right;\">\n",
       "      <th></th>\n",
       "      <th>Heights</th>\n",
       "      <th>FT_PCT</th>\n",
       "    </tr>\n",
       "  </thead>\n",
       "  <tbody>\n",
       "    <tr>\n",
       "      <th>0 </th>\n",
       "      <td>  6-3</td>\n",
       "      <td>   0.9</td>\n",
       "    </tr>\n",
       "    <tr>\n",
       "      <th>1 </th>\n",
       "      <td>  6-3</td>\n",
       "      <td> 0.862</td>\n",
       "    </tr>\n",
       "    <tr>\n",
       "      <th>2 </th>\n",
       "      <td>  6-3</td>\n",
       "      <td> 0.819</td>\n",
       "    </tr>\n",
       "    <tr>\n",
       "      <th>3 </th>\n",
       "      <td>  6-1</td>\n",
       "      <td> 0.803</td>\n",
       "    </tr>\n",
       "    <tr>\n",
       "      <th>4 </th>\n",
       "      <td>  6-3</td>\n",
       "      <td> 0.861</td>\n",
       "    </tr>\n",
       "    <tr>\n",
       "      <th>5 </th>\n",
       "      <td>  6-0</td>\n",
       "      <td> 0.861</td>\n",
       "    </tr>\n",
       "    <tr>\n",
       "      <th>6 </th>\n",
       "      <td>  6-4</td>\n",
       "      <td> 0.789</td>\n",
       "    </tr>\n",
       "    <tr>\n",
       "      <th>7 </th>\n",
       "      <td>  6-3</td>\n",
       "      <td> 0.815</td>\n",
       "    </tr>\n",
       "    <tr>\n",
       "      <th>8 </th>\n",
       "      <td>  6-3</td>\n",
       "      <td> 0.799</td>\n",
       "    </tr>\n",
       "    <tr>\n",
       "      <th>9 </th>\n",
       "      <td>  6-1</td>\n",
       "      <td> 0.609</td>\n",
       "    </tr>\n",
       "    <tr>\n",
       "      <th>10</th>\n",
       "      <td>  6-5</td>\n",
       "      <td> 0.854</td>\n",
       "    </tr>\n",
       "    <tr>\n",
       "      <th>11</th>\n",
       "      <td>  6-8</td>\n",
       "      <td> 0.812</td>\n",
       "    </tr>\n",
       "    <tr>\n",
       "      <th>12</th>\n",
       "      <td>  6-5</td>\n",
       "      <td> 0.858</td>\n",
       "    </tr>\n",
       "    <tr>\n",
       "      <th>13</th>\n",
       "      <td>  6-4</td>\n",
       "      <td> 0.765</td>\n",
       "    </tr>\n",
       "    <tr>\n",
       "      <th>14</th>\n",
       "      <td>  6-6</td>\n",
       "      <td> 0.837</td>\n",
       "    </tr>\n",
       "    <tr>\n",
       "      <th>15</th>\n",
       "      <td>  6-4</td>\n",
       "      <td> 0.888</td>\n",
       "    </tr>\n",
       "    <tr>\n",
       "      <th>16</th>\n",
       "      <td>  6-5</td>\n",
       "      <td> 0.786</td>\n",
       "    </tr>\n",
       "    <tr>\n",
       "      <th>17</th>\n",
       "      <td>  6-7</td>\n",
       "      <td> 0.846</td>\n",
       "    </tr>\n",
       "    <tr>\n",
       "      <th>18</th>\n",
       "      <td>  6-7</td>\n",
       "      <td> 0.881</td>\n",
       "    </tr>\n",
       "    <tr>\n",
       "      <th>19</th>\n",
       "      <td>  6-3</td>\n",
       "      <td> 0.773</td>\n",
       "    </tr>\n",
       "    <tr>\n",
       "      <th>20</th>\n",
       "      <td>  6-7</td>\n",
       "      <td> 0.806</td>\n",
       "    </tr>\n",
       "    <tr>\n",
       "      <th>21</th>\n",
       "      <td>  6-7</td>\n",
       "      <td> 0.804</td>\n",
       "    </tr>\n",
       "    <tr>\n",
       "      <th>22</th>\n",
       "      <td>  6-7</td>\n",
       "      <td> 0.802</td>\n",
       "    </tr>\n",
       "    <tr>\n",
       "      <th>23</th>\n",
       "      <td>  6-6</td>\n",
       "      <td> 0.829</td>\n",
       "    </tr>\n",
       "    <tr>\n",
       "      <th>24</th>\n",
       "      <td>  6-9</td>\n",
       "      <td> 0.709</td>\n",
       "    </tr>\n",
       "    <tr>\n",
       "      <th>25</th>\n",
       "      <td>  6-9</td>\n",
       "      <td> 0.804</td>\n",
       "    </tr>\n",
       "    <tr>\n",
       "      <th>26</th>\n",
       "      <td>  6-9</td>\n",
       "      <td> 0.881</td>\n",
       "    </tr>\n",
       "    <tr>\n",
       "      <th>27</th>\n",
       "      <td>  6-8</td>\n",
       "      <td> 0.811</td>\n",
       "    </tr>\n",
       "    <tr>\n",
       "      <th>28</th>\n",
       "      <td>  6-7</td>\n",
       "      <td> 0.685</td>\n",
       "    </tr>\n",
       "    <tr>\n",
       "      <th>29</th>\n",
       "      <td>  6-7</td>\n",
       "      <td>   0.8</td>\n",
       "    </tr>\n",
       "    <tr>\n",
       "      <th>30</th>\n",
       "      <td> 6-10</td>\n",
       "      <td> 0.789</td>\n",
       "    </tr>\n",
       "    <tr>\n",
       "      <th>31</th>\n",
       "      <td> 6-11</td>\n",
       "      <td> 0.796</td>\n",
       "    </tr>\n",
       "    <tr>\n",
       "      <th>32</th>\n",
       "      <td> 6-10</td>\n",
       "      <td> 0.656</td>\n",
       "    </tr>\n",
       "    <tr>\n",
       "      <th>33</th>\n",
       "      <td> 6-10</td>\n",
       "      <td> 0.814</td>\n",
       "    </tr>\n",
       "    <tr>\n",
       "      <th>34</th>\n",
       "      <td>  6-9</td>\n",
       "      <td> 0.633</td>\n",
       "    </tr>\n",
       "    <tr>\n",
       "      <th>35</th>\n",
       "      <td> 6-11</td>\n",
       "      <td> 0.696</td>\n",
       "    </tr>\n",
       "    <tr>\n",
       "      <th>36</th>\n",
       "      <td>  7-0</td>\n",
       "      <td> 0.879</td>\n",
       "    </tr>\n",
       "    <tr>\n",
       "      <th>37</th>\n",
       "      <td>  6-8</td>\n",
       "      <td> 0.715</td>\n",
       "    </tr>\n",
       "    <tr>\n",
       "      <th>38</th>\n",
       "      <td>  6-8</td>\n",
       "      <td> 0.728</td>\n",
       "    </tr>\n",
       "    <tr>\n",
       "      <th>39</th>\n",
       "      <td>  6-8</td>\n",
       "      <td> 0.745</td>\n",
       "    </tr>\n",
       "    <tr>\n",
       "      <th>40</th>\n",
       "      <td> 6-11</td>\n",
       "      <td> 0.731</td>\n",
       "    </tr>\n",
       "    <tr>\n",
       "      <th>41</th>\n",
       "      <td>  6-9</td>\n",
       "      <td> 0.763</td>\n",
       "    </tr>\n",
       "    <tr>\n",
       "      <th>42</th>\n",
       "      <td> 6-11</td>\n",
       "      <td> 0.693</td>\n",
       "    </tr>\n",
       "    <tr>\n",
       "      <th>43</th>\n",
       "      <td>  7-1</td>\n",
       "      <td> 0.645</td>\n",
       "    </tr>\n",
       "    <tr>\n",
       "      <th>44</th>\n",
       "      <td> 6-10</td>\n",
       "      <td>  0.71</td>\n",
       "    </tr>\n",
       "    <tr>\n",
       "      <th>45</th>\n",
       "      <td>  7-1</td>\n",
       "      <td> 0.758</td>\n",
       "    </tr>\n",
       "    <tr>\n",
       "      <th>46</th>\n",
       "      <td> 6-11</td>\n",
       "      <td> 0.716</td>\n",
       "    </tr>\n",
       "    <tr>\n",
       "      <th>47</th>\n",
       "      <td> 6-11</td>\n",
       "      <td> 0.573</td>\n",
       "    </tr>\n",
       "    <tr>\n",
       "      <th>48</th>\n",
       "      <td>  7-0</td>\n",
       "      <td> 0.753</td>\n",
       "    </tr>\n",
       "    <tr>\n",
       "      <th>49</th>\n",
       "      <td> 6-11</td>\n",
       "      <td> 0.417</td>\n",
       "    </tr>\n",
       "  </tbody>\n",
       "</table>\n",
       "</div>"
      ],
      "text/plain": [
       "   Heights FT_PCT\n",
       "0      6-3    0.9\n",
       "1      6-3  0.862\n",
       "2      6-3  0.819\n",
       "3      6-1  0.803\n",
       "4      6-3  0.861\n",
       "5      6-0  0.861\n",
       "6      6-4  0.789\n",
       "7      6-3  0.815\n",
       "8      6-3  0.799\n",
       "9      6-1  0.609\n",
       "10     6-5  0.854\n",
       "11     6-8  0.812\n",
       "12     6-5  0.858\n",
       "13     6-4  0.765\n",
       "14     6-6  0.837\n",
       "15     6-4  0.888\n",
       "16     6-5  0.786\n",
       "17     6-7  0.846\n",
       "18     6-7  0.881\n",
       "19     6-3  0.773\n",
       "20     6-7  0.806\n",
       "21     6-7  0.804\n",
       "22     6-7  0.802\n",
       "23     6-6  0.829\n",
       "24     6-9  0.709\n",
       "25     6-9  0.804\n",
       "26     6-9  0.881\n",
       "27     6-8  0.811\n",
       "28     6-7  0.685\n",
       "29     6-7    0.8\n",
       "30    6-10  0.789\n",
       "31    6-11  0.796\n",
       "32    6-10  0.656\n",
       "33    6-10  0.814\n",
       "34     6-9  0.633\n",
       "35    6-11  0.696\n",
       "36     7-0  0.879\n",
       "37     6-8  0.715\n",
       "38     6-8  0.728\n",
       "39     6-8  0.745\n",
       "40    6-11  0.731\n",
       "41     6-9  0.763\n",
       "42    6-11  0.693\n",
       "43     7-1  0.645\n",
       "44    6-10   0.71\n",
       "45     7-1  0.758\n",
       "46    6-11  0.716\n",
       "47    6-11  0.573\n",
       "48     7-0  0.753\n",
       "49    6-11  0.417"
      ]
     },
     "execution_count": 28,
     "metadata": {},
     "output_type": "execute_result"
    }
   ],
   "source": [
    "# This will take a while to parse the data. Thanks for your patient\n",
    "\n",
    "PG =['201939','202681','201566','201144','203081','101108','202322','201565','202391','200765']\n",
    "SG =['201935','202330','2037','2548','977','200755','203078','202691','2594','101145']\n",
    "SF =['1718','202710','202695','201980','202718','2399','201142','2546','203110','2207']\n",
    "PF =['203076','200746','201933','201567','2746','1495','1717','2564','200794','2544']\n",
    "C =['202326','2216','202328','2199','2744','201188','201149','2730','2200','201599']\n",
    "\n",
    "Players=[]\n",
    "Players.extend(PG)\n",
    "Players.extend(SG)\n",
    "Players.extend(SF)\n",
    "Players.extend(PF)\n",
    "Players.extend(C)\n",
    "\n",
    "columns = ['Heights', 'FT_PCT']\n",
    "index = np.arange(50) # array of numbers for the number of samples\n",
    "heights_freethrows = pd.DataFrame(columns=columns, index = index)\n",
    "h = []\n",
    "f = []\n",
    "for i in range (0,50):\n",
    "    for id_num in Players:\n",
    "        \n",
    "        bio = nba.PlayerBio(id_num)\n",
    "        careerStats  = nba.PlayerStats(id_num)\n",
    "        h.append(bio.bio()['HEIGHT'][0])\n",
    "        f.append(careerStats.careerstats()['FT_PCT'][0])\n",
    "    \n",
    "    heights_freethrows.iloc[i,0] = str(h[i])\n",
    "    heights_freethrows.iloc[i,1] = str(f[i])\n",
    "    \n",
    "\n",
    "heights_freethrows"
   ]
  },
  {
   "cell_type": "code",
   "execution_count": 85,
   "metadata": {
    "collapsed": false
   },
   "outputs": [
    {
     "name": "stdout",
     "output_type": "stream",
     "text": [
      "<class 'pandas.core.frame.DataFrame'>\n",
      "Int64Index: 50 entries, 0 to 49\n",
      "Data columns (total 3 columns):\n",
      "Heights      50 non-null float64\n",
      "FT_PCT       50 non-null float64\n",
      "HeightNum    50 non-null object\n",
      "dtypes: float64(2), object(1)\n",
      "memory usage: 1.6+ KB\n"
     ]
    }
   ],
   "source": [
    "heights_freethrows['Heights'] = heights_freethrows['Heights'].str.replace('-', '.')\n",
    "heights_freethrows['HeightNum'] = heights_freethrows['Heights'].str.replace('.', \"' \")\n",
    "hf = heights_freethrows.convert_objects(convert_numeric=True)\n",
    "hf.info()\n"
   ]
  },
  {
   "cell_type": "code",
   "execution_count": 93,
   "metadata": {
    "collapsed": false
   },
   "outputs": [
    {
     "name": "stdout",
     "output_type": "stream",
     "text": [
      "    Heights  FT_PCT HeightNum\n",
      "0      6.30   0.900      6' 3\n",
      "1      6.30   0.862      6' 3\n",
      "2      6.30   0.819      6' 3\n",
      "3      6.10   0.803      6' 1\n",
      "4      6.30   0.861      6' 3\n",
      "5      6.00   0.861      6' 0\n",
      "6      6.40   0.789      6' 4\n",
      "7      6.30   0.815      6' 3\n",
      "8      6.30   0.799      6' 3\n",
      "9      6.10   0.609      6' 1\n",
      "10     6.50   0.854      6' 5\n",
      "11     6.80   0.812      6' 8\n",
      "12     6.50   0.858      6' 5\n",
      "13     6.40   0.765      6' 4\n",
      "14     6.60   0.837      6' 6\n",
      "15     6.40   0.888      6' 4\n",
      "16     6.50   0.786      6' 5\n",
      "17     6.70   0.846      6' 7\n",
      "18     6.70   0.881      6' 7\n",
      "19     6.30   0.773      6' 3\n",
      "20     6.70   0.806      6' 7\n",
      "21     6.70   0.804      6' 7\n",
      "22     6.70   0.802      6' 7\n",
      "23     6.60   0.829      6' 6\n",
      "24     6.90   0.709      6' 9\n",
      "25     6.90   0.804      6' 9\n",
      "26     6.90   0.881      6' 9\n",
      "27     6.80   0.811      6' 8\n",
      "28     6.70   0.685      6' 7\n",
      "29     6.70   0.800      6' 7\n",
      "30     6.10   0.789     6' 10\n",
      "31     6.11   0.796     6' 11\n",
      "32     6.10   0.656     6' 10\n",
      "33     6.10   0.814     6' 10\n",
      "34     6.90   0.633      6' 9\n",
      "35     6.11   0.696     6' 11\n",
      "36     7.00   0.879      7' 0\n",
      "37     6.80   0.715      6' 8\n",
      "38     6.80   0.728      6' 8\n",
      "39     6.80   0.745      6' 8\n",
      "40     6.11   0.731     6' 11\n",
      "41     6.90   0.763      6' 9\n",
      "42     6.11   0.693     6' 11\n",
      "43     7.10   0.645      7' 1\n",
      "44     6.10   0.710     6' 10\n",
      "45     7.10   0.758      7' 1\n",
      "46     6.11   0.716     6' 11\n",
      "47     6.11   0.573     6' 11\n",
      "48     7.00   0.753      7' 0\n",
      "49     6.11   0.417     6' 11\n"
     ]
    },
    {
     "data": {
      "text/plain": [
       "<matplotlib.collections.PathCollection at 0x116254e90>"
      ]
     },
     "execution_count": 93,
     "metadata": {},
     "output_type": "execute_result"
    },
    {
     "data": {
      "image/png": "[encoded data removed]",
      "text/plain": [
       "<matplotlib.figure.Figure at 0x116160990>"
      ]
     },
     "metadata": {},
     "output_type": "display_data"
    }
   ],
   "source": [
    "print hf\n",
    "# hf['HeightNum'] = heights_freethrows['Heights'].str.replace('.', \"' \")\n",
    "\n",
    "# print hf\n",
    "\n",
    "# def parse_ht(ht):\n",
    "#     # format: 7' 0.0\"\n",
    "#     ht_ = ht.split(\"' \")\n",
    "#     ft_ = float(ht_[0])\n",
    "#     in_ = float(ht_[1].replace(\"\\\"\",\"\"))\n",
    "#     return (12*ft_) + in_\n",
    "\n",
    "# print hf[\"HeightNum\"].apply(lambda x:parse_ht(hf[\"HeightNum\"]))\n",
    "\n",
    "\n",
    "X = hf['Heights']\n",
    "y = hf['FT_PCT']\n",
    "\n",
    "plt.scatter(X, y, c=\"skyblue\")"
   ]
  },
  {
   "cell_type": "markdown",
   "metadata": {},
   "source": [
    "\n"
   ]
  },
  {
   "cell_type": "code",
   "execution_count": 90,
   "metadata": {
    "collapsed": false
   },
   "outputs": [
    {
     "name": "stdout",
     "output_type": "stream",
     "text": [
      "                            OLS Regression Results                            \n",
      "==============================================================================\n",
      "Dep. Variable:                 FT_PCT   R-squared:                       0.986\n",
      "Model:                            OLS   Adj. R-squared:                  0.985\n",
      "Method:                 Least Squares   F-statistic:                     3370.\n",
      "Date:                Sun, 26 Apr 2015   Prob (F-statistic):           7.71e-47\n",
      "Time:                        02:37:44   Log-Likelihood:                 47.832\n",
      "No. Observations:                  50   AIC:                            -93.66\n",
      "Df Residuals:                      49   BIC:                            -91.75\n",
      "Df Model:                           1                                         \n",
      "==============================================================================\n",
      "                 coef    std err          t      P>|t|      [95.0% Conf. Int.]\n",
      "------------------------------------------------------------------------------\n",
      "Heights        0.1185      0.002     58.051      0.000         0.114     0.123\n",
      "==============================================================================\n",
      "Omnibus:                        9.759   Durbin-Watson:                   1.249\n",
      "Prob(Omnibus):                  0.008   Jarque-Bera (JB):                9.175\n",
      "Skew:                          -0.918   Prob(JB):                       0.0102\n",
      "Kurtosis:                       4.018   Cond. No.                         1.00\n",
      "==============================================================================\n",
      "Confidence Intervals:                 0         1\n",
      "Heights  0.114365  0.122566\n",
      "Parameters: Heights    0.118466\n",
      "dtype: float64\n"
     ]
    }
   ],
   "source": [
    "model = sm.OLS(y, X)\n",
    "results = model.fit()\n",
    "print results.summary()\n",
    "print \"Confidence Intervals:\", results.conf_int()\n",
    "print \"Parameters:\", results.params"
   ]
  },
  {
   "cell_type": "code",
   "execution_count": 124,
   "metadata": {
    "collapsed": false
   },
   "outputs": [
    {
     "name": "stdout",
     "output_type": "stream",
     "text": [
      "<type 'numpy.ndarray'>\n",
      "[ 0.765  0.819  0.715  0.804  0.417  0.858  0.803  0.633  0.799  0.745\n",
      "  0.763  0.804  0.814  0.645  0.789  0.888  0.8    0.802  0.796  0.753\n",
      "  0.837  0.881  0.71   0.829  0.709  0.786  0.758  0.879  0.685  0.806\n",
      "  0.789  0.862  0.9    0.609  0.811  0.731  0.861  0.656  0.846  0.861\n",
      "  0.815  0.773  0.693  0.573  0.696  0.812  0.716  0.881  0.728  0.854]\n"
     ]
    }
   ],
   "source": [
    "X, y = utils.shuffle(X, y, random_state=1)\n",
    "print type(X)\n",
    "print y"
   ]
  },
  {
   "cell_type": "code",
   "execution_count": 100,
   "metadata": {
    "collapsed": false
   },
   "outputs": [
    {
     "name": "stdout",
     "output_type": "stream",
     "text": [
      "(45,) (45,)\n",
      "(5,) (5,)\n"
     ]
    }
   ],
   "source": [
    "X_train, X_test, y_train, y_test = cross_validation.train_test_split(X, y, test_size=0.1, random_state=0)\n",
    "print(X_train.shape), y_train.shape\n",
    "print(X_test.shape), y_test.shape"
   ]
  },
  {
   "cell_type": "code",
   "execution_count": 109,
   "metadata": {
    "collapsed": false
   },
   "outputs": [
    {
     "data": {
      "image/png": "[encoded data removed]",
      "text/plain": [
       "<matplotlib.figure.Figure at 0x117069350>"
      ]
     },
     "metadata": {},
     "output_type": "display_data"
    }
   ],
   "source": [
    "fig, axes = plt.subplots(figsize=(10,10))\n",
    "subX_train = X_train\n",
    "subX_test = X_test\n",
    "plt.scatter(subX_train, y_train, c=\"red\", alpha=0.4, linewidths=0.3)\n",
    "plt.scatter(subX_test, y_test, c=\"green\", alpha=0.2, linewidths=0.3)\n",
    "plt.xlabel('Data')\n",
    "plt.ylabel('Target');\n"
   ]
  },
  {
   "cell_type": "code",
   "execution_count": 121,
   "metadata": {
    "collapsed": false
   },
   "outputs": [],
   "source": [
    "regr = linear_model.LinearRegression(normalize=True)"
   ]
  },
  {
   "cell_type": "code",
   "execution_count": 126,
   "metadata": {
    "collapsed": false
   },
   "outputs": [
    {
     "ename": "TypeError",
     "evalue": "'numpy.float64' object does not support item assignment",
     "output_type": "error",
     "traceback": [
      "\u001b[0;31m---------------------------------------------------------------------------\u001b[0m",
      "\u001b[0;31mTypeError\u001b[0m                                 Traceback (most recent call last)",
      "\u001b[0;32m<ipython-input-126-8daa51c6f353>\u001b[0m in \u001b[0;36m<module>\u001b[0;34m()\u001b[0m\n\u001b[0;32m----> 1\u001b[0;31m \u001b[0mregr\u001b[0m\u001b[0;34m.\u001b[0m\u001b[0mfit\u001b[0m\u001b[0;34m(\u001b[0m\u001b[0mX_train\u001b[0m\u001b[0;34m,\u001b[0m \u001b[0my_train\u001b[0m\u001b[0;34m)\u001b[0m\u001b[0;34m;\u001b[0m\u001b[0;34m\u001b[0m\u001b[0m\n\u001b[0m",
      "\u001b[0;32m/Users/Lucas/anaconda/lib/python2.7/site-packages/sklearn/linear_model/base.pyc\u001b[0m in \u001b[0;36mfit\u001b[0;34m(self, X, y, n_jobs)\u001b[0m\n\u001b[1;32m    353\u001b[0m \u001b[0;34m\u001b[0m\u001b[0m\n\u001b[1;32m    354\u001b[0m         X, y, X_mean, y_mean, X_std = self._center_data(\n\u001b[0;32m--> 355\u001b[0;31m             X, y, self.fit_intercept, self.normalize, self.copy_X)\n\u001b[0m\u001b[1;32m    356\u001b[0m \u001b[0;34m\u001b[0m\u001b[0m\n\u001b[1;32m    357\u001b[0m         \u001b[0;32mif\u001b[0m \u001b[0msp\u001b[0m\u001b[0;34m.\u001b[0m\u001b[0missparse\u001b[0m\u001b[0;34m(\u001b[0m\u001b[0mX\u001b[0m\u001b[0;34m)\u001b[0m\u001b[0;34m:\u001b[0m\u001b[0;34m\u001b[0m\u001b[0m\n",
      "\u001b[0;32m/Users/Lucas/anaconda/lib/python2.7/site-packages/sklearn/linear_model/base.pyc\u001b[0m in \u001b[0;36mcenter_data\u001b[0;34m(X, y, fit_intercept, normalize, copy, sample_weight)\u001b[0m\n\u001b[1;32m     99\u001b[0m                 \u001b[0;31m# XXX: currently scaled to variance=n_samples\u001b[0m\u001b[0;34m\u001b[0m\u001b[0;34m\u001b[0m\u001b[0m\n\u001b[1;32m    100\u001b[0m                 \u001b[0mX_std\u001b[0m \u001b[0;34m=\u001b[0m \u001b[0mnp\u001b[0m\u001b[0;34m.\u001b[0m\u001b[0msqrt\u001b[0m\u001b[0;34m(\u001b[0m\u001b[0mnp\u001b[0m\u001b[0;34m.\u001b[0m\u001b[0msum\u001b[0m\u001b[0;34m(\u001b[0m\u001b[0mX\u001b[0m \u001b[0;34m**\u001b[0m \u001b[0;36m2\u001b[0m\u001b[0;34m,\u001b[0m \u001b[0maxis\u001b[0m\u001b[0;34m=\u001b[0m\u001b[0;36m0\u001b[0m\u001b[0;34m)\u001b[0m\u001b[0;34m)\u001b[0m\u001b[0;34m\u001b[0m\u001b[0m\n\u001b[0;32m--> 101\u001b[0;31m                 \u001b[0mX_std\u001b[0m\u001b[0;34m[\u001b[0m\u001b[0mX_std\u001b[0m \u001b[0;34m==\u001b[0m \u001b[0;36m0\u001b[0m\u001b[0;34m]\u001b[0m \u001b[0;34m=\u001b[0m \u001b[0;36m1\u001b[0m\u001b[0;34m\u001b[0m\u001b[0m\n\u001b[0m\u001b[1;32m    102\u001b[0m                 \u001b[0mX\u001b[0m \u001b[0;34m/=\u001b[0m \u001b[0mX_std\u001b[0m\u001b[0;34m\u001b[0m\u001b[0m\n\u001b[1;32m    103\u001b[0m             \u001b[0;32melse\u001b[0m\u001b[0;34m:\u001b[0m\u001b[0;34m\u001b[0m\u001b[0m\n",
      "\u001b[0;31mTypeError\u001b[0m: 'numpy.float64' object does not support item assignment"
     ]
    }
   ],
   "source": [
    "regr.fit(X_train, y_train);"
   ]
  },
  {
   "cell_type": "code",
   "execution_count": 127,
   "metadata": {
    "collapsed": false
   },
   "outputs": [
    {
     "ename": "AttributeError",
     "evalue": "'LinearRegression' object has no attribute 'coef_'",
     "output_type": "error",
     "traceback": [
      "\u001b[0;31m---------------------------------------------------------------------------\u001b[0m",
      "\u001b[0;31mAttributeError\u001b[0m                            Traceback (most recent call last)",
      "\u001b[0;32m<ipython-input-127-8ebc1f0b94e6>\u001b[0m in \u001b[0;36m<module>\u001b[0;34m()\u001b[0m\n\u001b[1;32m      1\u001b[0m \u001b[0;34m\u001b[0m\u001b[0m\n\u001b[1;32m      2\u001b[0m \u001b[0;31m# The mean square error\u001b[0m\u001b[0;34m\u001b[0m\u001b[0;34m\u001b[0m\u001b[0m\n\u001b[0;32m----> 3\u001b[0;31m \u001b[0;32mprint\u001b[0m\u001b[0;34m(\u001b[0m\u001b[0;34m\"Training error: \"\u001b[0m\u001b[0;34m,\u001b[0m \u001b[0mmetrics\u001b[0m\u001b[0;34m.\u001b[0m\u001b[0mmean_squared_error\u001b[0m\u001b[0;34m(\u001b[0m\u001b[0mregr\u001b[0m\u001b[0;34m.\u001b[0m\u001b[0mpredict\u001b[0m\u001b[0;34m(\u001b[0m\u001b[0mX_train\u001b[0m\u001b[0;34m)\u001b[0m\u001b[0;34m,\u001b[0m\u001b[0my_train\u001b[0m\u001b[0;34m)\u001b[0m\u001b[0;34m)\u001b[0m\u001b[0;34m\u001b[0m\u001b[0m\n\u001b[0m\u001b[1;32m      4\u001b[0m \u001b[0;32mprint\u001b[0m\u001b[0;34m(\u001b[0m\u001b[0;34m\"Test     error: \"\u001b[0m\u001b[0;34m,\u001b[0m \u001b[0mmetrics\u001b[0m\u001b[0;34m.\u001b[0m\u001b[0mmean_squared_error\u001b[0m\u001b[0;34m(\u001b[0m\u001b[0mregr\u001b[0m\u001b[0;34m.\u001b[0m\u001b[0mpredict\u001b[0m\u001b[0;34m(\u001b[0m\u001b[0mX_test\u001b[0m\u001b[0;34m)\u001b[0m\u001b[0;34m,\u001b[0m\u001b[0my_test\u001b[0m\u001b[0;34m)\u001b[0m\u001b[0;34m)\u001b[0m\u001b[0;34m\u001b[0m\u001b[0m\n",
      "\u001b[0;32m/Users/Lucas/anaconda/lib/python2.7/site-packages/sklearn/linear_model/base.pyc\u001b[0m in \u001b[0;36mpredict\u001b[0;34m(self, X)\u001b[0m\n\u001b[1;32m    149\u001b[0m             \u001b[0mReturns\u001b[0m \u001b[0mpredicted\u001b[0m \u001b[0mvalues\u001b[0m\u001b[0;34m.\u001b[0m\u001b[0;34m\u001b[0m\u001b[0m\n\u001b[1;32m    150\u001b[0m         \"\"\"\n\u001b[0;32m--> 151\u001b[0;31m         \u001b[0;32mreturn\u001b[0m \u001b[0mself\u001b[0m\u001b[0;34m.\u001b[0m\u001b[0mdecision_function\u001b[0m\u001b[0;34m(\u001b[0m\u001b[0mX\u001b[0m\u001b[0;34m)\u001b[0m\u001b[0;34m\u001b[0m\u001b[0m\n\u001b[0m\u001b[1;32m    152\u001b[0m \u001b[0;34m\u001b[0m\u001b[0m\n\u001b[1;32m    153\u001b[0m     \u001b[0m_center_data\u001b[0m \u001b[0;34m=\u001b[0m \u001b[0mstaticmethod\u001b[0m\u001b[0;34m(\u001b[0m\u001b[0mcenter_data\u001b[0m\u001b[0;34m)\u001b[0m\u001b[0;34m\u001b[0m\u001b[0m\n",
      "\u001b[0;32m/Users/Lucas/anaconda/lib/python2.7/site-packages/sklearn/linear_model/base.pyc\u001b[0m in \u001b[0;36mdecision_function\u001b[0;34m(self, X)\u001b[0m\n\u001b[1;32m    133\u001b[0m         \"\"\"\n\u001b[1;32m    134\u001b[0m         \u001b[0mX\u001b[0m \u001b[0;34m=\u001b[0m \u001b[0msafe_asarray\u001b[0m\u001b[0;34m(\u001b[0m\u001b[0mX\u001b[0m\u001b[0;34m)\u001b[0m\u001b[0;34m\u001b[0m\u001b[0m\n\u001b[0;32m--> 135\u001b[0;31m         return safe_sparse_dot(X, self.coef_.T,\n\u001b[0m\u001b[1;32m    136\u001b[0m                                dense_output=True) + self.intercept_\n\u001b[1;32m    137\u001b[0m \u001b[0;34m\u001b[0m\u001b[0m\n",
      "\u001b[0;31mAttributeError\u001b[0m: 'LinearRegression' object has no attribute 'coef_'"
     ]
    }
   ],
   "source": [
    "\n",
    "# The mean square error\n",
    "print(\"Training error: \", metrics.mean_squared_error(regr.predict(X_train),y_train))\n",
    "print(\"Test     error: \", metrics.mean_squared_error(regr.predict(X_test),y_test))"
   ]
  },
  {
   "cell_type": "code",
   "execution_count": 119,
   "metadata": {
    "collapsed": false
   },
   "outputs": [
    {
     "ename": "AttributeError",
     "evalue": "'LinearRegression' object has no attribute 'coef_'",
     "output_type": "error",
     "traceback": [
      "\u001b[0;31m---------------------------------------------------------------------------\u001b[0m",
      "\u001b[0;31mAttributeError\u001b[0m                            Traceback (most recent call last)",
      "\u001b[0;32m<ipython-input-119-0740d1d54d0c>\u001b[0m in \u001b[0;36m<module>\u001b[0;34m()\u001b[0m\n\u001b[1;32m      1\u001b[0m \u001b[0;31m# Training and Testing Score\u001b[0m\u001b[0;34m\u001b[0m\u001b[0;34m\u001b[0m\u001b[0m\n\u001b[0;32m----> 2\u001b[0;31m \u001b[0mtrain_score\u001b[0m \u001b[0;34m=\u001b[0m \u001b[0mregr\u001b[0m\u001b[0;34m.\u001b[0m\u001b[0mscore\u001b[0m\u001b[0;34m(\u001b[0m\u001b[0mX_train\u001b[0m\u001b[0;34m,\u001b[0m\u001b[0my_train\u001b[0m\u001b[0;34m)\u001b[0m\u001b[0;34m\u001b[0m\u001b[0m\n\u001b[0m\u001b[1;32m      3\u001b[0m \u001b[0mtest_score\u001b[0m \u001b[0;34m=\u001b[0m \u001b[0mregr\u001b[0m\u001b[0;34m.\u001b[0m\u001b[0mscore\u001b[0m\u001b[0;34m(\u001b[0m\u001b[0mX_test\u001b[0m\u001b[0;34m,\u001b[0m\u001b[0my_test\u001b[0m\u001b[0;34m)\u001b[0m\u001b[0;34m\u001b[0m\u001b[0m\n\u001b[1;32m      4\u001b[0m \u001b[0;32mprint\u001b[0m\u001b[0;34m(\u001b[0m\u001b[0;34m\"Training score: \"\u001b[0m\u001b[0;34m,\u001b[0m \u001b[0mtrain_score\u001b[0m\u001b[0;34m)\u001b[0m\u001b[0;34m\u001b[0m\u001b[0m\n\u001b[1;32m      5\u001b[0m \u001b[0;32mprint\u001b[0m\u001b[0;34m(\u001b[0m\u001b[0;34m\"Test     score: \"\u001b[0m\u001b[0;34m,\u001b[0m \u001b[0mtest_score\u001b[0m\u001b[0;34m)\u001b[0m\u001b[0;34m\u001b[0m\u001b[0m\n",
      "\u001b[0;32m/Users/Lucas/anaconda/lib/python2.7/site-packages/sklearn/base.pyc\u001b[0m in \u001b[0;36mscore\u001b[0;34m(self, X, y, sample_weight)\u001b[0m\n\u001b[1;32m    322\u001b[0m \u001b[0;34m\u001b[0m\u001b[0m\n\u001b[1;32m    323\u001b[0m         \u001b[0;32mfrom\u001b[0m \u001b[0;34m.\u001b[0m\u001b[0mmetrics\u001b[0m \u001b[0;32mimport\u001b[0m \u001b[0mr2_score\u001b[0m\u001b[0;34m\u001b[0m\u001b[0m\n\u001b[0;32m--> 324\u001b[0;31m         \u001b[0;32mreturn\u001b[0m \u001b[0mr2_score\u001b[0m\u001b[0;34m(\u001b[0m\u001b[0my\u001b[0m\u001b[0;34m,\u001b[0m \u001b[0mself\u001b[0m\u001b[0;34m.\u001b[0m\u001b[0mpredict\u001b[0m\u001b[0;34m(\u001b[0m\u001b[0mX\u001b[0m\u001b[0;34m)\u001b[0m\u001b[0;34m,\u001b[0m \u001b[0msample_weight\u001b[0m\u001b[0;34m=\u001b[0m\u001b[0msample_weight\u001b[0m\u001b[0;34m)\u001b[0m\u001b[0;34m\u001b[0m\u001b[0m\n\u001b[0m\u001b[1;32m    325\u001b[0m \u001b[0;34m\u001b[0m\u001b[0m\n\u001b[1;32m    326\u001b[0m \u001b[0;34m\u001b[0m\u001b[0m\n",
      "\u001b[0;32m/Users/Lucas/anaconda/lib/python2.7/site-packages/sklearn/linear_model/base.pyc\u001b[0m in \u001b[0;36mpredict\u001b[0;34m(self, X)\u001b[0m\n\u001b[1;32m    149\u001b[0m             \u001b[0mReturns\u001b[0m \u001b[0mpredicted\u001b[0m \u001b[0mvalues\u001b[0m\u001b[0;34m.\u001b[0m\u001b[0;34m\u001b[0m\u001b[0m\n\u001b[1;32m    150\u001b[0m         \"\"\"\n\u001b[0;32m--> 151\u001b[0;31m         \u001b[0;32mreturn\u001b[0m \u001b[0mself\u001b[0m\u001b[0;34m.\u001b[0m\u001b[0mdecision_function\u001b[0m\u001b[0;34m(\u001b[0m\u001b[0mX\u001b[0m\u001b[0;34m)\u001b[0m\u001b[0;34m\u001b[0m\u001b[0m\n\u001b[0m\u001b[1;32m    152\u001b[0m \u001b[0;34m\u001b[0m\u001b[0m\n\u001b[1;32m    153\u001b[0m     \u001b[0m_center_data\u001b[0m \u001b[0;34m=\u001b[0m \u001b[0mstaticmethod\u001b[0m\u001b[0;34m(\u001b[0m\u001b[0mcenter_data\u001b[0m\u001b[0;34m)\u001b[0m\u001b[0;34m\u001b[0m\u001b[0m\n",
      "\u001b[0;32m/Users/Lucas/anaconda/lib/python2.7/site-packages/sklearn/linear_model/base.pyc\u001b[0m in \u001b[0;36mdecision_function\u001b[0;34m(self, X)\u001b[0m\n\u001b[1;32m    133\u001b[0m         \"\"\"\n\u001b[1;32m    134\u001b[0m         \u001b[0mX\u001b[0m \u001b[0;34m=\u001b[0m \u001b[0msafe_asarray\u001b[0m\u001b[0;34m(\u001b[0m\u001b[0mX\u001b[0m\u001b[0;34m)\u001b[0m\u001b[0;34m\u001b[0m\u001b[0m\n\u001b[0;32m--> 135\u001b[0;31m         return safe_sparse_dot(X, self.coef_.T,\n\u001b[0m\u001b[1;32m    136\u001b[0m                                dense_output=True) + self.intercept_\n\u001b[1;32m    137\u001b[0m \u001b[0;34m\u001b[0m\u001b[0m\n",
      "\u001b[0;31mAttributeError\u001b[0m: 'LinearRegression' object has no attribute 'coef_'"
     ]
    }
   ],
   "source": [
    "# Training and Testing Score\n",
    "train_score = regr.score(X_train,y_train)\n",
    "test_score = regr.score(X_test,y_test)\n",
    "print(\"Training score: \", train_score)\n",
    "print(\"Test     score: \", test_score)"
   ]
  },
  {
   "cell_type": "code",
   "execution_count": 22,
   "metadata": {
    "collapsed": false
   },
   "outputs": [
    {
     "data": {
      "text/plain": [
       "0    0.819\n",
       "Name: FT_PCT, dtype: float64"
      ]
     },
     "execution_count": 22,
     "metadata": {},
     "output_type": "execute_result"
    }
   ],
   "source": [
    "\n"
   ]
  },
  {
   "cell_type": "code",
   "execution_count": 23,
   "metadata": {
    "collapsed": true
   },
   "outputs": [],
   "source": []
  },
  {
   "cell_type": "code",
   "execution_count": 24,
   "metadata": {
    "collapsed": false
   },
   "outputs": [
    {
     "data": {
      "text/plain": [
       "0    6-1\n",
       "Name: HEIGHT, dtype: object"
      ]
     },
     "execution_count": 24,
     "metadata": {},
     "output_type": "execute_result"
    }
   ],
   "source": []
  },
  {
   "cell_type": "code",
   "execution_count": 25,
   "metadata": {
    "collapsed": false
   },
   "outputs": [
    {
     "data": {
      "text/plain": [
       "0    0.803\n",
       "Name: FT_PCT, dtype: float64"
      ]
     },
     "execution_count": 25,
     "metadata": {},
     "output_type": "execute_result"
    }
   ],
   "source": []
  },
  {
   "cell_type": "code",
   "execution_count": 26,
   "metadata": {
    "collapsed": true
   },
   "outputs": [],
   "source": []
  },
  {
   "cell_type": "code",
   "execution_count": 27,
   "metadata": {
    "collapsed": false
   },
   "outputs": [
    {
     "data": {
      "text/plain": [
       "0    6-3\n",
       "Name: HEIGHT, dtype: object"
      ]
     },
     "execution_count": 27,
     "metadata": {},
     "output_type": "execute_result"
    }
   ],
   "source": []
  },
  {
   "cell_type": "code",
   "execution_count": 28,
   "metadata": {
    "collapsed": false
   },
   "outputs": [
    {
     "data": {
      "text/plain": [
       "0    0.861\n",
       "Name: FT_PCT, dtype: float64"
      ]
     },
     "execution_count": 28,
     "metadata": {},
     "output_type": "execute_result"
    }
   ],
   "source": []
  },
  {
   "cell_type": "code",
   "execution_count": 29,
   "metadata": {
    "collapsed": true
   },
   "outputs": [],
   "source": []
  },
  {
   "cell_type": "code",
   "execution_count": 30,
   "metadata": {
    "collapsed": false
   },
   "outputs": [
    {
     "data": {
      "text/plain": [
       "0    6-0\n",
       "Name: HEIGHT, dtype: object"
      ]
     },
     "execution_count": 30,
     "metadata": {},
     "output_type": "execute_result"
    }
   ],
   "source": []
  },
  {
   "cell_type": "code",
   "execution_count": 31,
   "metadata": {
    "collapsed": false
   },
   "outputs": [
    {
     "data": {
      "text/plain": [
       "0    0.861\n",
       "Name: FT_PCT, dtype: float64"
      ]
     },
     "execution_count": 31,
     "metadata": {},
     "output_type": "execute_result"
    }
   ],
   "source": []
  },
  {
   "cell_type": "code",
   "execution_count": 32,
   "metadata": {
    "collapsed": true
   },
   "outputs": [],
   "source": []
  },
  {
   "cell_type": "code",
   "execution_count": 33,
   "metadata": {
    "collapsed": false
   },
   "outputs": [
    {
     "data": {
      "text/plain": [
       "0    6-4\n",
       "Name: HEIGHT, dtype: object"
      ]
     },
     "execution_count": 33,
     "metadata": {},
     "output_type": "execute_result"
    }
   ],
   "source": []
  },
  {
   "cell_type": "code",
   "execution_count": 34,
   "metadata": {
    "collapsed": false
   },
   "outputs": [
    {
     "data": {
      "text/plain": [
       "0    0.789\n",
       "Name: FT_PCT, dtype: float64"
      ]
     },
     "execution_count": 34,
     "metadata": {},
     "output_type": "execute_result"
    }
   ],
   "source": []
  },
  {
   "cell_type": "code",
   "execution_count": null,
   "metadata": {
    "collapsed": true
   },
   "outputs": [],
   "source": []
  },
  {
   "cell_type": "code",
   "execution_count": null,
   "metadata": {
    "collapsed": true
   },
   "outputs": [],
   "source": []
  },
  {
   "cell_type": "code",
   "execution_count": null,
   "metadata": {
    "collapsed": true
   },
   "outputs": [],
   "source": []
  },
  {
   "cell_type": "code",
   "execution_count": null,
   "metadata": {
    "collapsed": true
   },
   "outputs": [],
   "source": []
  },
  {
   "cell_type": "code",
   "execution_count": null,
   "metadata": {
    "collapsed": true
   },
   "outputs": [],
   "source": []
  },
  {
   "cell_type": "code",
   "execution_count": null,
   "metadata": {
    "collapsed": true
   },
   "outputs": [],
   "source": []
  },
  {
   "cell_type": "code",
   "execution_count": null,
   "metadata": {
    "collapsed": true
   },
   "outputs": [],
   "source": []
  },
  {
   "cell_type": "code",
   "execution_count": null,
   "metadata": {
    "collapsed": true
   },
   "outputs": [],
   "source": []
  },
  {
   "cell_type": "code",
   "execution_count": null,
   "metadata": {
    "collapsed": true
   },
   "outputs": [],
   "source": []
  },
  {
   "cell_type": "code",
   "execution_count": null,
   "metadata": {
    "collapsed": true
   },
   "outputs": [],
   "source": []
  },
  {
   "cell_type": "code",
   "execution_count": null,
   "metadata": {
    "collapsed": true
   },
   "outputs": [],
   "source": [
    "# Code for setting the style of the notebook\n",
    "from IPython.core.display import HTML\n",
    "def css_styling():\n",
    "    styles = open(\"../../theme/custom.css\", \"r\").read()\n",
    "    return HTML(styles)\n",
    "css_styling()"
   ]
  }
 ],
 "metadata": {
  "kernelspec": {
   "display_name": "Python 2",
   "language": "python",
   "name": "python2"
  },
  "language_info": {
   "codemirror_mode": {
    "name": "ipython",
    "version": 2
   },
   "file_extension": ".py",
   "mimetype": "text/x-python",
   "name": "python",
   "nbconvert_exporter": "python",
   "pygments_lexer": "ipython2",
   "version": "2.7.9"
  }
 },
 "nbformat": 4,
 "nbformat_minor": 0
}
