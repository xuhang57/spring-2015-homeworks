{
 "cells": [
  {
   "cell_type": "code",
   "execution_count": 1,
   "metadata": {
    "collapsed": false
   },
   "outputs": [
    {
     "name": "stderr",
     "output_type": "stream",
     "text": [
      "/Users/Lucas/Library/Enthought/Canopy_64bit/User/lib/python2.7/site-packages/pytz/__init__.py:29: UserWarning: Module argparse was already imported from /Users/Lucas/anaconda/lib/python2.7/argparse.pyc, but /Users/Lucas/anaconda/lib/python2.7/site-packages is being added to sys.path\n",
      "  from pkg_resources import resource_stream\n"
     ]
    }
   ],
   "source": [
    "#Importing the NBAStats Package\n",
    "\n",
    "#Inherited from NBAStats API, created by Bradley Fray. \n",
    "# Modified by Lucas, adding more classes for the original API to enrich its returned data for analysis purpose. \n",
    "# Such as PlayerBio, PlayerStats, Team, etc. \n",
    "# \t* The data returned by the API is transformed into pandas dataframe\n",
    "\n",
    "import nbastats.nbastats as nba"
   ]
  },
  {
   "cell_type": "markdown",
   "metadata": {},
   "source": [
    "# Hypothesis"
   ]
  },
  {
   "cell_type": "markdown",
   "metadata": {},
   "source": [
    "1. Is there a correlation between height and free-throw percentage?\n",
    "\n",
    "2. Does three-point actually help teams win the game?\n",
    " \n",
    "3. Does the intensity of post-season game have a major influence on players’ performance?  "
   ]
  },
  {
   "cell_type": "markdown",
   "metadata": {},
   "source": [
    "# Analysis"
   ]
  },
  {
   "cell_type": "markdown",
   "metadata": {},
   "source": [
    "Recall: Is there a correlation between height and free-throw percentage?"
   ]
  },
  {
   "cell_type": "markdown",
   "metadata": {
    "collapsed": true
   },
   "source": [
    "First, we are going to find 50 different players and their height and career free throw percentage using API we have\n",
    "10 Point Guards, 10 Short Guards, 10 Small Forward, 10 Power Forward, 10 Centers, since in general, PG and SG are \n",
    "shorter than SF and PF. And SF and PF are shorter than C. It is a good way for us to classify different plays with their\n",
    "heights. \n",
    "\n",
    "All players listed here are active player, which means they are not retired.\n",
    "\n",
    "References: http://stats.nba.com/\n",
    "\n",
    "50 different players ID:\n",
    "    Point Guards:\n",
    "            1. STEPHEN CURRY      201939\n",
    "            2. KYRIE IRVING       202681\n",
    "            3. RUSSELL WESTBROOK  201566\n",
    "            4. MIKE CONLEY        201144\n",
    "            5. DAMIAN LILLARD     203081\n",
    "            6. CHRIS PAUL         101108\n",
    "            7. JOHN WALL          202322\n",
    "            8. DERRICK ROSE       201565\n",
    "            9. JEREMY LIN         202391\n",
    "            10. RAJON RONDO       200765\n",
    "             \n",
    "    Shooting Guards:\n",
    "            1. JAMES HARDEN       201935\n",
    "            2. GORDON HAYWARD     202330\n",
    "            3. JAMAL CRAWFORD     2037\n",
    "            4. DWYANE WADE        2548\n",
    "            5. KOBE BRYANT        977\n",
    "            6. JJ REDICK          200755\n",
    "            7. BRADLEY BEAL       203078\n",
    "            8. KLAY THOMPSON      202691\n",
    "            9. KYLE KORVER        2594\n",
    "            10. MONTA ELLIS       101145\n",
    "            \n",
    "    Power Forwards:\n",
    "            1. ANTHONY DAVIS      203076\n",
    "            2. LAMARCUS ALDRIDGE  200746\n",
    "            3. BLAKE GRIFFIN      201933\n",
    "            4. KEVIN LOVE         201567\n",
    "            5. JOSH SMITH         2746\n",
    "            6. TIM DUNCAN         1495\n",
    "            7. DIRK NOWITZKI      1717\n",
    "            8. BORIS DIAW         2564\n",
    "            9. PAUL MILLSAP       200794\n",
    "            10. LEBORN JAMES      2544\n",
    "            \n",
    "    Small Forwards:\n",
    "            1. PAUL PIERCE        1718\n",
    "            2. JIMMY BUTLER       202710\n",
    "            3. KAWHI LEONARD      202695\n",
    "            4. DANNY GREEN        201980\n",
    "            5. CHANDLER PARSONS   202718\n",
    "            6. MIKE DUNLEAVY      2399\n",
    "            7. KEVIN DURANT       201142\n",
    "            8. CARMELO ANTHONY    2546\n",
    "            9. DRAYMOND GREEN     203110\n",
    "            10. JOE JOHNSON       2207\n",
    "            \n",
    "    Centers:\n",
    "            1. DEMARCUS COUSINS   202326\n",
    "            2. ZACH RANDOLPH      2216\n",
    "            3. GREG MONROE        202328\n",
    "            4. TYSON CHANDLER     2199       \n",
    "            5. AL JEFFERSON       2744\n",
    "            6. MARC GASOL         201188\n",
    "            7. JOAKIM NOAH        201149              \n",
    "            8. DWIGHT HOWARD      2730\n",
    "            9. PAU GASOL          2200\n",
    "            10. DEANDRE JORDON    201599\n",
    "            "
   ]
  },
  {
   "cell_type": "code",
   "execution_count": 43,
   "metadata": {
    "collapsed": false
   },
   "outputs": [
    {
     "ename": "SyntaxError",
     "evalue": "EOL while scanning string literal (<ipython-input-43-28747a9fb730>, line 5)",
     "output_type": "error",
     "traceback": [
      "\u001b[0;36m  File \u001b[0;32m\"<ipython-input-43-28747a9fb730>\"\u001b[0;36m, line \u001b[0;32m5\u001b[0m\n\u001b[0;31m    bio = nba.PlayerBio('id_num)\u001b[0m\n\u001b[0m                                ^\u001b[0m\n\u001b[0;31mSyntaxError\u001b[0m\u001b[0;31m:\u001b[0m EOL while scanning string literal\n"
     ]
    }
   ],
   "source": [
    "PG ={'201939','202681','201566','201144','203081','101108','202322','201565','202391','200765'}\n",
    "type(PG)\n",
    "height = []\n",
    "for id_num in PG:\n",
    "    bio = nba.PlayerBio(id_num) \n",
    "    height.append(bio.bio()['HEIGHT'])\n",
    "print height"
   ]
  },
  {
   "cell_type": "markdown",
   "metadata": {},
   "source": [
    "\n"
   ]
  },
  {
   "cell_type": "code",
   "execution_count": 12,
   "metadata": {
    "collapsed": true
   },
   "outputs": [],
   "source": [
    "STEPHEN = nba.PlayerBio('201939') \n",
    "CURRY   = nba.PlayerStats('201939')"
   ]
  },
  {
   "cell_type": "code",
   "execution_count": 13,
   "metadata": {
    "collapsed": false
   },
   "outputs": [
    {
     "data": {
      "text/plain": [
       "0    6-3\n",
       "Name: HEIGHT, dtype: object"
      ]
     },
     "execution_count": 13,
     "metadata": {},
     "output_type": "execute_result"
    }
   ],
   "source": [
    "STEPHEN.bio()['HEIGHT']\n",
    "#Changed the datatype from object to int"
   ]
  },
  {
   "cell_type": "code",
   "execution_count": 14,
   "metadata": {
    "collapsed": false
   },
   "outputs": [
    {
     "data": {
      "text/plain": [
       "0    0.9\n",
       "Name: FT_PCT, dtype: float64"
      ]
     },
     "execution_count": 14,
     "metadata": {},
     "output_type": "execute_result"
    }
   ],
   "source": [
    "CURRY.careerstats()['FT_PCT']\n",
    "#Changed the datatype from float to int"
   ]
  },
  {
   "cell_type": "code",
   "execution_count": 16,
   "metadata": {
    "collapsed": true
   },
   "outputs": [],
   "source": [
    "KYRIE   = nba.PlayerBio('202681') \n",
    "IRVING  = nba.PlayerStats('202681')\n"
   ]
  },
  {
   "cell_type": "code",
   "execution_count": 17,
   "metadata": {
    "collapsed": false
   },
   "outputs": [
    {
     "data": {
      "text/plain": [
       "0    6-3\n",
       "Name: HEIGHT, dtype: object"
      ]
     },
     "execution_count": 17,
     "metadata": {},
     "output_type": "execute_result"
    }
   ],
   "source": [
    "KYRIE.bio()['HEIGHT']\n",
    "#Changed the datatype from object to int"
   ]
  },
  {
   "cell_type": "code",
   "execution_count": 19,
   "metadata": {
    "collapsed": false
   },
   "outputs": [
    {
     "data": {
      "text/plain": [
       "0    0.862\n",
       "Name: FT_PCT, dtype: float64"
      ]
     },
     "execution_count": 19,
     "metadata": {},
     "output_type": "execute_result"
    }
   ],
   "source": [
    "IRVING.careerstats()['FT_PCT']\n",
    "#Changed the datatype from float to int"
   ]
  },
  {
   "cell_type": "code",
   "execution_count": 20,
   "metadata": {
    "collapsed": true
   },
   "outputs": [],
   "source": [
    "RUSSELL    = nba.PlayerBio('201566') \n",
    "WESTBROOK  = nba.PlayerStats('201566')"
   ]
  },
  {
   "cell_type": "code",
   "execution_count": 21,
   "metadata": {
    "collapsed": false
   },
   "outputs": [
    {
     "data": {
      "text/plain": [
       "0    6-3\n",
       "Name: HEIGHT, dtype: object"
      ]
     },
     "execution_count": 21,
     "metadata": {},
     "output_type": "execute_result"
    }
   ],
   "source": [
    "RUSSELL.bio()['HEIGHT']\n",
    "#Changed the datatype from object to int"
   ]
  },
  {
   "cell_type": "code",
   "execution_count": 22,
   "metadata": {
    "collapsed": false
   },
   "outputs": [
    {
     "data": {
      "text/plain": [
       "0    0.819\n",
       "Name: FT_PCT, dtype: float64"
      ]
     },
     "execution_count": 22,
     "metadata": {},
     "output_type": "execute_result"
    }
   ],
   "source": [
    "WESTBROOK.careerstats()['FT_PCT']\n",
    "#Changed the datatype from float to int"
   ]
  },
  {
   "cell_type": "code",
   "execution_count": 23,
   "metadata": {
    "collapsed": true
   },
   "outputs": [],
   "source": [
    "MIKE    = nba.PlayerBio('201144') \n",
    "CONLEY  = nba.PlayerStats('201144')"
   ]
  },
  {
   "cell_type": "code",
   "execution_count": 24,
   "metadata": {
    "collapsed": false
   },
   "outputs": [
    {
     "data": {
      "text/plain": [
       "0    6-1\n",
       "Name: HEIGHT, dtype: object"
      ]
     },
     "execution_count": 24,
     "metadata": {},
     "output_type": "execute_result"
    }
   ],
   "source": [
    "MIKE.bio()['HEIGHT']\n",
    "#Changed the datatype from object to int"
   ]
  },
  {
   "cell_type": "code",
   "execution_count": 25,
   "metadata": {
    "collapsed": false
   },
   "outputs": [
    {
     "data": {
      "text/plain": [
       "0    0.803\n",
       "Name: FT_PCT, dtype: float64"
      ]
     },
     "execution_count": 25,
     "metadata": {},
     "output_type": "execute_result"
    }
   ],
   "source": [
    "CONLEY.careerstats()['FT_PCT']\n",
    "#Changed the datatype from float to int"
   ]
  },
  {
   "cell_type": "code",
   "execution_count": 26,
   "metadata": {
    "collapsed": true
   },
   "outputs": [],
   "source": [
    "DAMIAN   = nba.PlayerBio('203081') \n",
    "LILLARD  = nba.PlayerStats('203081')"
   ]
  },
  {
   "cell_type": "code",
   "execution_count": 27,
   "metadata": {
    "collapsed": false
   },
   "outputs": [
    {
     "data": {
      "text/plain": [
       "0    6-3\n",
       "Name: HEIGHT, dtype: object"
      ]
     },
     "execution_count": 27,
     "metadata": {},
     "output_type": "execute_result"
    }
   ],
   "source": [
    "DAMIAN.bio()['HEIGHT']\n",
    "#Changed the datatype from object to int"
   ]
  },
  {
   "cell_type": "code",
   "execution_count": 28,
   "metadata": {
    "collapsed": false
   },
   "outputs": [
    {
     "data": {
      "text/plain": [
       "0    0.861\n",
       "Name: FT_PCT, dtype: float64"
      ]
     },
     "execution_count": 28,
     "metadata": {},
     "output_type": "execute_result"
    }
   ],
   "source": [
    "LILLARD.careerstats()['FT_PCT']\n",
    "#Changed the datatype from float to int"
   ]
  },
  {
   "cell_type": "code",
   "execution_count": 29,
   "metadata": {
    "collapsed": true
   },
   "outputs": [],
   "source": [
    "CHRIS = nba.PlayerBio('101108') \n",
    "PAUL  = nba.PlayerStats('101108')"
   ]
  },
  {
   "cell_type": "code",
   "execution_count": 30,
   "metadata": {
    "collapsed": false
   },
   "outputs": [
    {
     "data": {
      "text/plain": [
       "0    6-0\n",
       "Name: HEIGHT, dtype: object"
      ]
     },
     "execution_count": 30,
     "metadata": {},
     "output_type": "execute_result"
    }
   ],
   "source": [
    "CHRIS.bio()['HEIGHT']\n",
    "#Changed the datatype from object to int"
   ]
  },
  {
   "cell_type": "code",
   "execution_count": 31,
   "metadata": {
    "collapsed": false
   },
   "outputs": [
    {
     "data": {
      "text/plain": [
       "0    0.861\n",
       "Name: FT_PCT, dtype: float64"
      ]
     },
     "execution_count": 31,
     "metadata": {},
     "output_type": "execute_result"
    }
   ],
   "source": [
    "PAUL.careerstats()['FT_PCT']\n",
    "#Changed the datatype from float to int"
   ]
  },
  {
   "cell_type": "code",
   "execution_count": 32,
   "metadata": {
    "collapsed": true
   },
   "outputs": [],
   "source": [
    "JOHN   = nba.PlayerBio('202322') \n",
    "WALL   = nba.PlayerStats('202322')"
   ]
  },
  {
   "cell_type": "code",
   "execution_count": 33,
   "metadata": {
    "collapsed": false
   },
   "outputs": [
    {
     "data": {
      "text/plain": [
       "0    6-4\n",
       "Name: HEIGHT, dtype: object"
      ]
     },
     "execution_count": 33,
     "metadata": {},
     "output_type": "execute_result"
    }
   ],
   "source": [
    "JOHN.bio()['HEIGHT']\n",
    "#Changed the datatype from object to int"
   ]
  },
  {
   "cell_type": "code",
   "execution_count": 34,
   "metadata": {
    "collapsed": false
   },
   "outputs": [
    {
     "data": {
      "text/plain": [
       "0    0.789\n",
       "Name: FT_PCT, dtype: float64"
      ]
     },
     "execution_count": 34,
     "metadata": {},
     "output_type": "execute_result"
    }
   ],
   "source": [
    "WALL.careerstats()['FT_PCT']\n",
    "#Changed the datatype from float to int"
   ]
  },
  {
   "cell_type": "code",
   "execution_count": null,
   "metadata": {
    "collapsed": true
   },
   "outputs": [],
   "source": [
    "DERRICK  = nba.PlayerBio('201565') \n",
    "ROSE     = nba.PlayerStats('201565')\n",
    "      \n",
    "        9. JEREMY LIN         202391\n",
    "        10. RAJON RONDO       200765"
   ]
  },
  {
   "cell_type": "code",
   "execution_count": null,
   "metadata": {
    "collapsed": true
   },
   "outputs": [],
   "source": [
    "DERRICK.bio()['HEIGHT']\n",
    "#Changed the datatype from object to int"
   ]
  },
  {
   "cell_type": "code",
   "execution_count": null,
   "metadata": {
    "collapsed": true
   },
   "outputs": [],
   "source": [
    "ROSE.careerstats()['FT_PCT']\n",
    "#Changed the datatype from float to int"
   ]
  },
  {
   "cell_type": "code",
   "execution_count": null,
   "metadata": {
    "collapsed": true
   },
   "outputs": [],
   "source": []
  },
  {
   "cell_type": "code",
   "execution_count": null,
   "metadata": {
    "collapsed": true
   },
   "outputs": [],
   "source": []
  },
  {
   "cell_type": "code",
   "execution_count": null,
   "metadata": {
    "collapsed": true
   },
   "outputs": [],
   "source": []
  },
  {
   "cell_type": "code",
   "execution_count": null,
   "metadata": {
    "collapsed": true
   },
   "outputs": [],
   "source": []
  },
  {
   "cell_type": "code",
   "execution_count": null,
   "metadata": {
    "collapsed": true
   },
   "outputs": [],
   "source": []
  },
  {
   "cell_type": "code",
   "execution_count": null,
   "metadata": {
    "collapsed": true
   },
   "outputs": [],
   "source": []
  },
  {
   "cell_type": "code",
   "execution_count": null,
   "metadata": {
    "collapsed": true
   },
   "outputs": [],
   "source": []
  },
  {
   "cell_type": "code",
   "execution_count": null,
   "metadata": {
    "collapsed": true
   },
   "outputs": [],
   "source": [
    "# Code for setting the style of the notebook\n",
    "from IPython.core.display import HTML\n",
    "def css_styling():\n",
    "    styles = open(\"../../theme/custom.css\", \"r\").read()\n",
    "    return HTML(styles)\n",
    "css_styling()"
   ]
  }
 ],
 "metadata": {
  "kernelspec": {
   "display_name": "Python 2",
   "language": "python",
   "name": "python2"
  },
  "language_info": {
   "codemirror_mode": {
    "name": "ipython",
    "version": 2
   },
   "file_extension": ".py",
   "mimetype": "text/x-python",
   "name": "python",
   "nbconvert_exporter": "python",
   "pygments_lexer": "ipython2",
   "version": "2.7.9"
  }
 },
 "nbformat": 4,
 "nbformat_minor": 0
}
