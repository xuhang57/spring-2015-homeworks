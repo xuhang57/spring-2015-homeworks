{
 "cells": [
  {
   "cell_type": "code",
   "execution_count": 1,
   "metadata": {
    "collapsed": false
   },
   "outputs": [
    {
     "name": "stderr",
     "output_type": "stream",
     "text": [
      "/Users/Lucas/Library/Enthought/Canopy_64bit/User/lib/python2.7/site-packages/pytz/__init__.py:29: UserWarning: Module argparse was already imported from /Users/Lucas/anaconda/lib/python2.7/argparse.pyc, but /Users/Lucas/anaconda/lib/python2.7/site-packages is being added to sys.path\n",
      "  from pkg_resources import resource_stream\n"
     ]
    }
   ],
   "source": [
    "#Importing the NBAStats Package\n",
    "\n",
    "#Inherited from NBAStats API, created by Bradley Fray. \n",
    "# Modified by Lucas, adding more classes for the original API to enrich its returned data for analysis purpose. \n",
    "# Such as PlayerBio, PlayerStats, Team, etc. \n",
    "# \t* The data returned by the API is transformed into pandas dataframe\n",
    "\n",
    "import nbastats.nbastats as nba"
   ]
  },
  {
   "cell_type": "markdown",
   "metadata": {},
   "source": [
    "# Hypothesis"
   ]
  },
  {
   "cell_type": "markdown",
   "metadata": {},
   "source": [
    "1. Is there a correlation between height and free-throw percentage?\n",
    "\n",
    "2. Does three-point actually help teams win the game?\n",
    " \n",
    "3. Does the intensity of post-season game have a major influence on players’ performance?  "
   ]
  },
  {
   "cell_type": "markdown",
   "metadata": {},
   "source": [
    "# Analysis"
   ]
  },
  {
   "cell_type": "markdown",
   "metadata": {},
   "source": [
    "Recall: Is there a correlation between height and free-throw percentage?"
   ]
  },
  {
   "cell_type": "markdown",
   "metadata": {
    "collapsed": true
   },
   "source": [
    "First, we are going to find 50 different players and their height and career free throw percentage using API we have\n",
    "10 Point Guards, 10 Short Guards, 10 Small Forward, 10 Power Forward, 10 Centers, since in general, PG and SG are \n",
    "shorter than SF and PF. And SF and PF are shorter than C. It is a good way for us to classify different plays with their\n",
    "heights. \n",
    "\n",
    "All players listed here are active player, which means they are not retired.\n",
    "\n",
    "References: http://stats.nba.com/\n",
    "\n",
    "50 different players ID:\n",
    "    Point Guards:\n",
    "            1. STEPHEN CURRY      201939\n",
    "            2. KYRIE IRVING       202681\n",
    "            3. RUSSELL WESTBROOK  201566\n",
    "            4. MIKE CONLEY        201144\n",
    "            5. DAMIAN LILLARD     203081\n",
    "            6. CHRIS PAUL         101108\n",
    "            7. JOHN WALL          202322\n",
    "            8. DERRICK ROSE       201565\n",
    "            9. JEREMY LIN         202391\n",
    "            10. RAJON RONDO       200765\n",
    "             \n",
    "    Shooting Guards:\n",
    "            1. JAMES HARDEN       201935\n",
    "            2. GORDON HAYWARD     202330\n",
    "            3. JAMAL CRAWFORD     2037\n",
    "            4. DWYANE WADE        2548\n",
    "            5. KOBE BRYANT        977\n",
    "            6. JJ REDICK          200755\n",
    "            7. BRADLEY BEAL       203078\n",
    "            8. KLAY THOMPSON      202691\n",
    "            9. KYLE KORVER        2594\n",
    "            10. MONTA ELLIS       101145\n",
    "            \n",
    "    Power Forwards:\n",
    "            1. ANTHONY DAVIS      203076\n",
    "            2. LAMARCUS ALDRIDGE  200746\n",
    "            3. BLAKE GRIFFIN      201933\n",
    "            4. KEVIN LOVE         201567\n",
    "            5. JOSH SMITH         2746\n",
    "            6. TIM DUNCAN         1495\n",
    "            7. DIRK NOWITZKI      1717\n",
    "            8. BORIS DIAW         2564\n",
    "            9. PAUL MILLSAP       200794\n",
    "            10. LEBORN JAMES      2544\n",
    "            \n",
    "    Small Forwards:\n",
    "            1. PAUL PIERCE        1718\n",
    "            2. JIMMY BUTLER       202710\n",
    "            3. KAWHI LEONARD      202695\n",
    "            4. DANNY GREEN        201980\n",
    "            5. CHANDLER PARSONS   202718\n",
    "            6. MIKE DUNLEAVY      2399\n",
    "            7. KEVIN DURANT       201142\n",
    "            8. CARMELO ANTHONY    2546\n",
    "            9. DRAYMOND GREEN     203110\n",
    "            10. JOE JOHNSON       2207\n",
    "            \n",
    "    Centers:\n",
    "            1. DEMARCUS COUSINS   202326\n",
    "            2. ZACH RANDOLPH      2216\n",
    "            3. GREG MONROE        202328\n",
    "            4. TYSON CHANDLER     2199       \n",
    "            5. AL JEFFERSON       2744\n",
    "            6. MARC GASOL         201188\n",
    "            7. JOAKIM NOAH        201149              \n",
    "            8. DWIGHT HOWARD      2730\n",
    "            9. PAU GASOL          2200\n",
    "            10. DEANDRE JORDON    201599\n",
    "            "
   ]
  },
  {
   "cell_type": "code",
   "execution_count": 8,
   "metadata": {
    "collapsed": false
   },
   "outputs": [
    {
     "data": {
      "text/html": [
       "<div style=\"max-height:1000px;max-width:1500px;overflow:auto;\">\n",
       "<table border=\"1\" class=\"dataframe\">\n",
       "  <thead>\n",
       "    <tr style=\"text-align: right;\">\n",
       "      <th></th>\n",
       "      <th>PERSON_ID</th>\n",
       "      <th>FIRST_NAME</th>\n",
       "      <th>LAST_NAME</th>\n",
       "      <th>DISPLAY_FIRST_LAST</th>\n",
       "      <th>DISPLAY_LAST_COMMA_FIRST</th>\n",
       "      <th>DISPLAY_FI_LAST</th>\n",
       "      <th>BIRTHDATE</th>\n",
       "      <th>SCHOOL</th>\n",
       "      <th>COUNTRY</th>\n",
       "      <th>LAST_AFFILIATION</th>\n",
       "      <th>HEIGHT</th>\n",
       "      <th>WEIGHT</th>\n",
       "      <th>SEASON_EXP</th>\n",
       "      <th>JERSEY</th>\n",
       "      <th>POSITION</th>\n",
       "      <th>ROSTERSTATUS</th>\n",
       "      <th>TEAM_ID</th>\n",
       "      <th>TEAM_NAME</th>\n",
       "      <th>TEAM_ABBREVIATION</th>\n",
       "      <th>TEAM_CODE</th>\n",
       "      <th>TEAM_CITY</th>\n",
       "      <th>PLAYERCODE</th>\n",
       "      <th>FROM_YEAR</th>\n",
       "      <th>TO_YEAR</th>\n",
       "      <th>DLEAGUE_FLAG</th>\n",
       "    </tr>\n",
       "  </thead>\n",
       "  <tbody>\n",
       "    <tr>\n",
       "      <th>0</th>\n",
       "      <td> 2730</td>\n",
       "      <td> Dwight</td>\n",
       "      <td> Howard</td>\n",
       "      <td> Dwight Howard</td>\n",
       "      <td> Howard, Dwight</td>\n",
       "      <td> D. Howard</td>\n",
       "      <td> 1985-12-08T00:00:00</td>\n",
       "      <td> SW Atlanta Christian Academy (GA)</td>\n",
       "      <td> USA</td>\n",
       "      <td> SW Atlanta Christian Academy (GA)/USA</td>\n",
       "      <td> 6-11</td>\n",
       "      <td> 275</td>\n",
       "      <td> 10</td>\n",
       "      <td> 12</td>\n",
       "      <td> Center</td>\n",
       "      <td> Active</td>\n",
       "      <td> 1610612745</td>\n",
       "      <td> Rockets</td>\n",
       "      <td> HOU</td>\n",
       "      <td> rockets</td>\n",
       "      <td> Houston</td>\n",
       "      <td> dwight_howard</td>\n",
       "      <td> 2004</td>\n",
       "      <td> 2014</td>\n",
       "      <td> N</td>\n",
       "    </tr>\n",
       "  </tbody>\n",
       "</table>\n",
       "</div>"
      ],
      "text/plain": [
       "   PERSON_ID FIRST_NAME LAST_NAME DISPLAY_FIRST_LAST DISPLAY_LAST_COMMA_FIRST DISPLAY_FI_LAST            BIRTHDATE                             SCHOOL COUNTRY                       LAST_AFFILIATION HEIGHT WEIGHT  SEASON_EXP JERSEY POSITION ROSTERSTATUS     TEAM_ID TEAM_NAME TEAM_ABBREVIATION TEAM_CODE TEAM_CITY     PLAYERCODE FROM_YEAR TO_YEAR DLEAGUE_FLAG\n",
       "0       2730     Dwight    Howard      Dwight Howard           Howard, Dwight       D. Howard  1985-12-08T00:00:00  SW Atlanta Christian Academy (GA)     USA  SW Atlanta Christian Academy (GA)/USA   6-11    275          10     12   Center       Active  1610612745   Rockets               HOU   rockets   Houston  dwight_howard      2004    2014            N"
      ]
     },
     "execution_count": 8,
     "metadata": {},
     "output_type": "execute_result"
    }
   ],
   "source": [
    "DWIGHT = nba.PlayerBio('2730')\n",
    "DWIGHT.bio()"
   ]
  },
  {
   "cell_type": "code",
   "execution_count": 9,
   "metadata": {
    "collapsed": false
   },
   "outputs": [
    {
     "data": {
      "text/html": [
       "<div style=\"max-height:1000px;max-width:1500px;overflow:auto;\">\n",
       "<table border=\"1\" class=\"dataframe\">\n",
       "  <thead>\n",
       "    <tr style=\"text-align: right;\">\n",
       "      <th></th>\n",
       "      <th>PLAYER_ID</th>\n",
       "      <th>LEAGUE_ID</th>\n",
       "      <th>TEAM_ID</th>\n",
       "      <th>GP</th>\n",
       "      <th>GS</th>\n",
       "      <th>MIN</th>\n",
       "      <th>FGM</th>\n",
       "      <th>FGA</th>\n",
       "      <th>FG_PCT</th>\n",
       "      <th>FG3M</th>\n",
       "      <th>FG3A</th>\n",
       "      <th>FG3_PCT</th>\n",
       "      <th>FTM</th>\n",
       "      <th>FTA</th>\n",
       "      <th>FT_PCT</th>\n",
       "      <th>OREB</th>\n",
       "      <th>DREB</th>\n",
       "      <th>REB</th>\n",
       "      <th>AST</th>\n",
       "      <th>STL</th>\n",
       "      <th>BLK</th>\n",
       "      <th>TOV</th>\n",
       "      <th>PF</th>\n",
       "      <th>PTS</th>\n",
       "    </tr>\n",
       "  </thead>\n",
       "  <tbody>\n",
       "    <tr>\n",
       "      <th>0</th>\n",
       "      <td> 2730</td>\n",
       "      <td> 00</td>\n",
       "      <td> 0</td>\n",
       "      <td> 809</td>\n",
       "      <td> 808</td>\n",
       "      <td> 35.6</td>\n",
       "      <td> 6.5</td>\n",
       "      <td> 11.2</td>\n",
       "      <td> 0.579</td>\n",
       "      <td> 0</td>\n",
       "      <td> 0.1</td>\n",
       "      <td> 0.104</td>\n",
       "      <td> 5.2</td>\n",
       "      <td> 9.1</td>\n",
       "      <td> 0.573</td>\n",
       "      <td> 3.5</td>\n",
       "      <td> 9.2</td>\n",
       "      <td> 12.7</td>\n",
       "      <td> 1.5</td>\n",
       "      <td> 1</td>\n",
       "      <td> 2.1</td>\n",
       "      <td> 3.1</td>\n",
       "      <td> 3.3</td>\n",
       "      <td> 18.1</td>\n",
       "    </tr>\n",
       "  </tbody>\n",
       "</table>\n",
       "</div>"
      ],
      "text/plain": [
       "   PLAYER_ID LEAGUE_ID  TEAM_ID   GP   GS   MIN  FGM   FGA  FG_PCT  FG3M  FG3A  FG3_PCT  FTM  FTA  FT_PCT  OREB  DREB   REB  AST  STL  BLK  TOV   PF   PTS\n",
       "0       2730        00        0  809  808  35.6  6.5  11.2   0.579     0   0.1    0.104  5.2  9.1   0.573   3.5   9.2  12.7  1.5    1  2.1  3.1  3.3  18.1"
      ]
     },
     "execution_count": 9,
     "metadata": {},
     "output_type": "execute_result"
    }
   ],
   "source": [
    "HOWARD = nba.PlayerStats('2730')\n",
    "HOWARD.careerstats()"
   ]
  },
  {
   "cell_type": "markdown",
   "metadata": {},
   "source": [
    "\n"
   ]
  },
  {
   "cell_type": "code",
   "execution_count": 10,
   "metadata": {
    "collapsed": false
   },
   "outputs": [
    {
     "data": {
      "text/plain": [
       "0    6-11\n",
       "Name: HEIGHT, dtype: object"
      ]
     },
     "execution_count": 10,
     "metadata": {},
     "output_type": "execute_result"
    }
   ],
   "source": [
    "DWIGHT.bio()['HEIGHT']\n",
    "#Changed the datatype from object to int"
   ]
  },
  {
   "cell_type": "code",
   "execution_count": 11,
   "metadata": {
    "collapsed": false
   },
   "outputs": [
    {
     "data": {
      "text/plain": [
       "0    0.573\n",
       "Name: FT_PCT, dtype: float64"
      ]
     },
     "execution_count": 11,
     "metadata": {},
     "output_type": "execute_result"
    }
   ],
   "source": [
    "HOWARD.careerstats()['FT_PCT']\n",
    "#Changed the datatype from float to int"
   ]
  },
  {
   "cell_type": "code",
   "execution_count": 12,
   "metadata": {
    "collapsed": true
   },
   "outputs": [],
   "source": [
    "STEPHEN = nba.PlayerBio('201939') \n",
    "CURRY   = nba.PlayerStats('201939')"
   ]
  },
  {
   "cell_type": "code",
   "execution_count": 13,
   "metadata": {
    "collapsed": false
   },
   "outputs": [
    {
     "data": {
      "text/plain": [
       "0    6-3\n",
       "Name: HEIGHT, dtype: object"
      ]
     },
     "execution_count": 13,
     "metadata": {},
     "output_type": "execute_result"
    }
   ],
   "source": [
    "STEPHEN.bio()['HEIGHT']\n",
    "#Changed the datatype from object to int"
   ]
  },
  {
   "cell_type": "code",
   "execution_count": 14,
   "metadata": {
    "collapsed": false
   },
   "outputs": [
    {
     "data": {
      "text/plain": [
       "0    0.9\n",
       "Name: FT_PCT, dtype: float64"
      ]
     },
     "execution_count": 14,
     "metadata": {},
     "output_type": "execute_result"
    }
   ],
   "source": [
    "CURRY.careerstats()['FT_PCT']\n",
    "#Changed the datatype from float to int"
   ]
  },
  {
   "cell_type": "code",
   "execution_count": 16,
   "metadata": {
    "collapsed": true
   },
   "outputs": [],
   "source": [
    "KYRIE   = nba.PlayerBio('202681') \n",
    "IRVING  = nba.PlayerStats('202681')\n"
   ]
  },
  {
   "cell_type": "code",
   "execution_count": 17,
   "metadata": {
    "collapsed": false
   },
   "outputs": [
    {
     "data": {
      "text/plain": [
       "0    6-3\n",
       "Name: HEIGHT, dtype: object"
      ]
     },
     "execution_count": 17,
     "metadata": {},
     "output_type": "execute_result"
    }
   ],
   "source": [
    "KYRIE.bio()['HEIGHT']\n",
    "#Changed the datatype from object to int"
   ]
  },
  {
   "cell_type": "code",
   "execution_count": 19,
   "metadata": {
    "collapsed": false
   },
   "outputs": [
    {
     "data": {
      "text/plain": [
       "0    0.862\n",
       "Name: FT_PCT, dtype: float64"
      ]
     },
     "execution_count": 19,
     "metadata": {},
     "output_type": "execute_result"
    }
   ],
   "source": [
    "IRVING.careerstats()['FT_PCT']\n",
    "#Changed the datatype from float to int"
   ]
  },
  {
   "cell_type": "code",
   "execution_count": 20,
   "metadata": {
    "collapsed": true
   },
   "outputs": [],
   "source": [
    "RUSSELL    = nba.PlayerBio('201566') \n",
    "WESTBROOK  = nba.PlayerStats('201566')"
   ]
  },
  {
   "cell_type": "code",
   "execution_count": 21,
   "metadata": {
    "collapsed": false
   },
   "outputs": [
    {
     "data": {
      "text/plain": [
       "0    6-3\n",
       "Name: HEIGHT, dtype: object"
      ]
     },
     "execution_count": 21,
     "metadata": {},
     "output_type": "execute_result"
    }
   ],
   "source": [
    "RUSSELL.bio()['HEIGHT']\n",
    "#Changed the datatype from object to int"
   ]
  },
  {
   "cell_type": "code",
   "execution_count": 22,
   "metadata": {
    "collapsed": false
   },
   "outputs": [
    {
     "data": {
      "text/plain": [
       "0    0.819\n",
       "Name: FT_PCT, dtype: float64"
      ]
     },
     "execution_count": 22,
     "metadata": {},
     "output_type": "execute_result"
    }
   ],
   "source": [
    "WESTBROOK.careerstats()['FT_PCT']\n",
    "#Changed the datatype from float to int"
   ]
  },
  {
   "cell_type": "code",
   "execution_count": 23,
   "metadata": {
    "collapsed": true
   },
   "outputs": [],
   "source": [
    "MIKE    = nba.PlayerBio('201144') \n",
    "CONLEY  = nba.PlayerStats('201144')"
   ]
  },
  {
   "cell_type": "code",
   "execution_count": 24,
   "metadata": {
    "collapsed": false
   },
   "outputs": [
    {
     "data": {
      "text/plain": [
       "0    6-1\n",
       "Name: HEIGHT, dtype: object"
      ]
     },
     "execution_count": 24,
     "metadata": {},
     "output_type": "execute_result"
    }
   ],
   "source": [
    "MIKE.bio()['HEIGHT']\n",
    "#Changed the datatype from object to int"
   ]
  },
  {
   "cell_type": "code",
   "execution_count": 25,
   "metadata": {
    "collapsed": false
   },
   "outputs": [
    {
     "data": {
      "text/plain": [
       "0    0.803\n",
       "Name: FT_PCT, dtype: float64"
      ]
     },
     "execution_count": 25,
     "metadata": {},
     "output_type": "execute_result"
    }
   ],
   "source": [
    "CONLEY.careerstats()['FT_PCT']\n",
    "#Changed the datatype from float to int"
   ]
  },
  {
   "cell_type": "code",
   "execution_count": 26,
   "metadata": {
    "collapsed": true
   },
   "outputs": [],
   "source": [
    "DAMIAN   = nba.PlayerBio('203081') \n",
    "LILLARD  = nba.PlayerStats('203081')"
   ]
  },
  {
   "cell_type": "code",
   "execution_count": 27,
   "metadata": {
    "collapsed": false
   },
   "outputs": [
    {
     "data": {
      "text/plain": [
       "0    6-3\n",
       "Name: HEIGHT, dtype: object"
      ]
     },
     "execution_count": 27,
     "metadata": {},
     "output_type": "execute_result"
    }
   ],
   "source": [
    "DAMIAN.bio()['HEIGHT']\n",
    "#Changed the datatype from object to int"
   ]
  },
  {
   "cell_type": "code",
   "execution_count": 28,
   "metadata": {
    "collapsed": false
   },
   "outputs": [
    {
     "data": {
      "text/plain": [
       "0    0.861\n",
       "Name: FT_PCT, dtype: float64"
      ]
     },
     "execution_count": 28,
     "metadata": {},
     "output_type": "execute_result"
    }
   ],
   "source": [
    "LILLARD.careerstats()['FT_PCT']\n",
    "#Changed the datatype from float to intCONLEY"
   ]
  },
  {
   "cell_type": "code",
   "execution_count": null,
   "metadata": {
    "collapsed": true
   },
   "outputs": [],
   "source": []
  },
  {
   "cell_type": "code",
   "execution_count": null,
   "metadata": {
    "collapsed": true
   },
   "outputs": [],
   "source": []
  },
  {
   "cell_type": "code",
   "execution_count": null,
   "metadata": {
    "collapsed": true
   },
   "outputs": [],
   "source": []
  },
  {
   "cell_type": "code",
   "execution_count": null,
   "metadata": {
    "collapsed": true
   },
   "outputs": [],
   "source": []
  },
  {
   "cell_type": "code",
   "execution_count": null,
   "metadata": {
    "collapsed": true
   },
   "outputs": [],
   "source": []
  },
  {
   "cell_type": "code",
   "execution_count": null,
   "metadata": {
    "collapsed": true
   },
   "outputs": [],
   "source": []
  },
  {
   "cell_type": "code",
   "execution_count": null,
   "metadata": {
    "collapsed": true
   },
   "outputs": [],
   "source": []
  },
  {
   "cell_type": "code",
   "execution_count": null,
   "metadata": {
    "collapsed": true
   },
   "outputs": [],
   "source": []
  },
  {
   "cell_type": "code",
   "execution_count": null,
   "metadata": {
    "collapsed": true
   },
   "outputs": [],
   "source": []
  },
  {
   "cell_type": "code",
   "execution_count": null,
   "metadata": {
    "collapsed": true
   },
   "outputs": [],
   "source": []
  },
  {
   "cell_type": "code",
   "execution_count": null,
   "metadata": {
    "collapsed": true
   },
   "outputs": [],
   "source": []
  },
  {
   "cell_type": "code",
   "execution_count": null,
   "metadata": {
    "collapsed": true
   },
   "outputs": [],
   "source": []
  },
  {
   "cell_type": "code",
   "execution_count": null,
   "metadata": {
    "collapsed": true
   },
   "outputs": [],
   "source": []
  },
  {
   "cell_type": "code",
   "execution_count": null,
   "metadata": {
    "collapsed": true
   },
   "outputs": [],
   "source": []
  },
  {
   "cell_type": "code",
   "execution_count": null,
   "metadata": {
    "collapsed": true
   },
   "outputs": [],
   "source": []
  },
  {
   "cell_type": "code",
   "execution_count": null,
   "metadata": {
    "collapsed": true
   },
   "outputs": [],
   "source": []
  },
  {
   "cell_type": "code",
   "execution_count": null,
   "metadata": {
    "collapsed": true
   },
   "outputs": [],
   "source": [
    "# Code for setting the style of the notebook\n",
    "from IPython.core.display import HTML\n",
    "def css_styling():\n",
    "    styles = open(\"../../theme/custom.css\", \"r\").read()\n",
    "    return HTML(styles)\n",
    "css_styling()"
   ]
  }
 ],
 "metadata": {
  "kernelspec": {
   "display_name": "Python 2",
   "language": "python",
   "name": "python2"
  },
  "language_info": {
   "codemirror_mode": {
    "name": "ipython",
    "version": 2
   },
   "file_extension": ".py",
   "mimetype": "text/x-python",
   "name": "python",
   "nbconvert_exporter": "python",
   "pygments_lexer": "ipython2",
   "version": "2.7.9"
  }
 },
 "nbformat": 4,
 "nbformat_minor": 0
}
