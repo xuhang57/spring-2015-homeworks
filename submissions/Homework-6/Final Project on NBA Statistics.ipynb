{
 "cells": [
  {
   "cell_type": "code",
   "execution_count": 1,
   "metadata": {
    "collapsed": false
   },
   "outputs": [
    {
     "name": "stderr",
     "output_type": "stream",
     "text": [
      "/Users/Lucas/Library/Enthought/Canopy_64bit/User/lib/python2.7/site-packages/pytz/__init__.py:29: UserWarning: Module argparse was already imported from /Users/Lucas/anaconda/lib/python2.7/argparse.pyc, but /Users/Lucas/anaconda/lib/python2.7/site-packages is being added to sys.path\n",
      "  from pkg_resources import resource_stream\n"
     ]
    }
   ],
   "source": [
    "#Importing the NBAStats Package\n",
    "\n",
    "#Inherited from NBAStats API, created by Bradley Fray. \n",
    "# Modified by Lucas, adding more classes for the original API to enrich its returned data for analysis purpose. \n",
    "# Such as PlayerBio, PlayerStats, Team, etc. \n",
    "# \t* The data returned by the API is transformed into pandas dataframe\n",
    "\n",
    "import nbastats.nbastats as nba"
   ]
  },
  {
   "cell_type": "code",
   "execution_count": 92,
   "metadata": {
    "collapsed": false
   },
   "outputs": [],
   "source": [
    "import pandas as pd\n",
    "import numpy as np\n",
    "import statsmodels.formula.api as sm\n",
    "import matplotlib.pyplot as plt\n",
    "%matplotlib inline\n",
    "\n",
    "import sklearn.metrics as metrics\n",
    "import sklearn.utils as utils\n",
    "import sklearn.linear_model as linear_model\n",
    "import sklearn.cross_validation as cross_validation\n",
    "import seaborn as sns\n",
    "import scipy as sp\n",
    "import scipy.sparse.linalg as linalg\n",
    "import scipy.cluster.hierarchy as hr\n",
    "\n",
    "from patsy import dmatrices"
   ]
  },
  {
   "cell_type": "markdown",
   "metadata": {},
   "source": [
    "# Hypothesis"
   ]
  },
  {
   "cell_type": "markdown",
   "metadata": {},
   "source": [
    "1. Is there a correlation between height and free-throw percentage?\n",
    "\n",
    "2. Does three-point actually help teams win the game?\n",
    " \n",
    "3. Does the intensity of post-season game have a major influence on players’ performance?  "
   ]
  },
  {
   "cell_type": "markdown",
   "metadata": {},
   "source": [
    "# Analysis"
   ]
  },
  {
   "cell_type": "markdown",
   "metadata": {},
   "source": [
    "Recall: Is there a correlation between height and free-throw percentage?"
   ]
  },
  {
   "cell_type": "markdown",
   "metadata": {
    "collapsed": true
   },
   "source": [
    "First, we are going to find 50 different players and their height and career free throw percentage using API we have\n",
    "10 Point Guards, 10 Short Guards, 10 Small Forward, 10 Power Forward, 10 Centers, since in general, PG and SG are \n",
    "shorter than SF and PF. And SF and PF are shorter than C. It is a good way for us to classify different plays with their\n",
    "heights. \n",
    "\n",
    "All players listed here are active player, which means they are not retired.\n",
    "\n",
    "References: http://stats.nba.com/\n",
    "\n",
    "50 different players ID:\n",
    "    Point Guards:\n",
    "            1. STEPHEN CURRY      201939\n",
    "            2. KYRIE IRVING       202681\n",
    "            3. RUSSELL WESTBROOK  201566\n",
    "            4. MIKE CONLEY        201144\n",
    "            5. DAMIAN LILLARD     203081\n",
    "            6. CHRIS PAUL         101108\n",
    "            7. JOHN WALL          202322\n",
    "            8. DERRICK ROSE       201565\n",
    "            9. JEREMY LIN         202391\n",
    "            10. RAJON RONDO       200765\n",
    "             \n",
    "    Shooting Guards:\n",
    "            1. JAMES HARDEN       201935\n",
    "            2. GORDON HAYWARD     202330\n",
    "            3. JAMAL CRAWFORD     2037\n",
    "            4. DWYANE WADE        2548\n",
    "            5. KOBE BRYANT        977\n",
    "            6. JJ REDICK          200755\n",
    "            7. BRADLEY BEAL       203078\n",
    "            8. KLAY THOMPSON      202691\n",
    "            9. KYLE KORVER        2594\n",
    "            10. MONTA ELLIS       101145\n",
    "            \n",
    "    Power Forwards:\n",
    "            1. ANTHONY DAVIS      203076\n",
    "            2. LAMARCUS ALDRIDGE  200746\n",
    "            3. BLAKE GRIFFIN      201933\n",
    "            4. KEVIN LOVE         201567\n",
    "            5. JOSH SMITH         2746\n",
    "            6. TIM DUNCAN         1495\n",
    "            7. DIRK NOWITZKI      1717\n",
    "            8. BORIS DIAW         2564\n",
    "            9. PAUL MILLSAP       200794\n",
    "            10. LEBORN JAMES      2544\n",
    "            \n",
    "    Small Forwards:\n",
    "            1. PAUL PIERCE        1718\n",
    "            2. JIMMY BUTLER       202710\n",
    "            3. KAWHI LEONARD      202695\n",
    "            4. DANNY GREEN        201980\n",
    "            5. CHANDLER PARSONS   202718\n",
    "            6. MIKE DUNLEAVY      2399\n",
    "            7. KEVIN DURANT       201142\n",
    "            8. CARMELO ANTHONY    2546\n",
    "            9. DRAYMOND GREEN     203110\n",
    "            10. JOE JOHNSON       2207\n",
    "            \n",
    "    Centers:\n",
    "            1. DEMARCUS COUSINS   202326\n",
    "            2. ZACH RANDOLPH      2216\n",
    "            3. GREG MONROE        202328\n",
    "            4. TYSON CHANDLER     2199       \n",
    "            5. AL JEFFERSON       2744\n",
    "            6. MARC GASOL         201188\n",
    "            7. JOAKIM NOAH        201149              \n",
    "            8. DWIGHT HOWARD      2730\n",
    "            9. PAU GASOL          2200\n",
    "            10. DEANDRE JORDON    201599\n",
    "            "
   ]
  },
  {
   "cell_type": "code",
   "execution_count": 51,
   "metadata": {
    "collapsed": false
   },
   "outputs": [
    {
     "data": {
      "text/html": [
       "<div style=\"max-height:1000px;max-width:1500px;overflow:auto;\">\n",
       "<table border=\"1\" class=\"dataframe\">\n",
       "  <thead>\n",
       "    <tr style=\"text-align: right;\">\n",
       "      <th></th>\n",
       "      <th>Heights</th>\n",
       "      <th>FT_PCT</th>\n",
       "    </tr>\n",
       "  </thead>\n",
       "  <tbody>\n",
       "    <tr>\n",
       "      <th>0 </th>\n",
       "      <td>  6-3</td>\n",
       "      <td>   0.9</td>\n",
       "    </tr>\n",
       "    <tr>\n",
       "      <th>1 </th>\n",
       "      <td>  6-3</td>\n",
       "      <td> 0.862</td>\n",
       "    </tr>\n",
       "    <tr>\n",
       "      <th>2 </th>\n",
       "      <td>  6-3</td>\n",
       "      <td> 0.819</td>\n",
       "    </tr>\n",
       "    <tr>\n",
       "      <th>3 </th>\n",
       "      <td>  6-1</td>\n",
       "      <td> 0.803</td>\n",
       "    </tr>\n",
       "    <tr>\n",
       "      <th>4 </th>\n",
       "      <td>  6-3</td>\n",
       "      <td> 0.861</td>\n",
       "    </tr>\n",
       "    <tr>\n",
       "      <th>5 </th>\n",
       "      <td>  6-0</td>\n",
       "      <td> 0.861</td>\n",
       "    </tr>\n",
       "    <tr>\n",
       "      <th>6 </th>\n",
       "      <td>  6-4</td>\n",
       "      <td> 0.789</td>\n",
       "    </tr>\n",
       "    <tr>\n",
       "      <th>7 </th>\n",
       "      <td>  6-3</td>\n",
       "      <td> 0.815</td>\n",
       "    </tr>\n",
       "    <tr>\n",
       "      <th>8 </th>\n",
       "      <td>  6-3</td>\n",
       "      <td> 0.799</td>\n",
       "    </tr>\n",
       "    <tr>\n",
       "      <th>9 </th>\n",
       "      <td>  6-1</td>\n",
       "      <td> 0.609</td>\n",
       "    </tr>\n",
       "    <tr>\n",
       "      <th>10</th>\n",
       "      <td>  6-5</td>\n",
       "      <td> 0.854</td>\n",
       "    </tr>\n",
       "    <tr>\n",
       "      <th>11</th>\n",
       "      <td>  6-8</td>\n",
       "      <td> 0.812</td>\n",
       "    </tr>\n",
       "    <tr>\n",
       "      <th>12</th>\n",
       "      <td>  6-5</td>\n",
       "      <td> 0.858</td>\n",
       "    </tr>\n",
       "    <tr>\n",
       "      <th>13</th>\n",
       "      <td>  6-4</td>\n",
       "      <td> 0.765</td>\n",
       "    </tr>\n",
       "    <tr>\n",
       "      <th>14</th>\n",
       "      <td>  6-6</td>\n",
       "      <td> 0.837</td>\n",
       "    </tr>\n",
       "    <tr>\n",
       "      <th>15</th>\n",
       "      <td>  6-4</td>\n",
       "      <td> 0.888</td>\n",
       "    </tr>\n",
       "    <tr>\n",
       "      <th>16</th>\n",
       "      <td>  6-5</td>\n",
       "      <td> 0.786</td>\n",
       "    </tr>\n",
       "    <tr>\n",
       "      <th>17</th>\n",
       "      <td>  6-7</td>\n",
       "      <td> 0.846</td>\n",
       "    </tr>\n",
       "    <tr>\n",
       "      <th>18</th>\n",
       "      <td>  6-7</td>\n",
       "      <td> 0.881</td>\n",
       "    </tr>\n",
       "    <tr>\n",
       "      <th>19</th>\n",
       "      <td>  6-3</td>\n",
       "      <td> 0.773</td>\n",
       "    </tr>\n",
       "    <tr>\n",
       "      <th>20</th>\n",
       "      <td>  6-7</td>\n",
       "      <td> 0.806</td>\n",
       "    </tr>\n",
       "    <tr>\n",
       "      <th>21</th>\n",
       "      <td>  6-7</td>\n",
       "      <td> 0.804</td>\n",
       "    </tr>\n",
       "    <tr>\n",
       "      <th>22</th>\n",
       "      <td>  6-7</td>\n",
       "      <td> 0.802</td>\n",
       "    </tr>\n",
       "    <tr>\n",
       "      <th>23</th>\n",
       "      <td>  6-6</td>\n",
       "      <td> 0.829</td>\n",
       "    </tr>\n",
       "    <tr>\n",
       "      <th>24</th>\n",
       "      <td>  6-9</td>\n",
       "      <td> 0.709</td>\n",
       "    </tr>\n",
       "    <tr>\n",
       "      <th>25</th>\n",
       "      <td>  6-9</td>\n",
       "      <td> 0.804</td>\n",
       "    </tr>\n",
       "    <tr>\n",
       "      <th>26</th>\n",
       "      <td>  6-9</td>\n",
       "      <td> 0.881</td>\n",
       "    </tr>\n",
       "    <tr>\n",
       "      <th>27</th>\n",
       "      <td>  6-8</td>\n",
       "      <td> 0.811</td>\n",
       "    </tr>\n",
       "    <tr>\n",
       "      <th>28</th>\n",
       "      <td>  6-7</td>\n",
       "      <td> 0.685</td>\n",
       "    </tr>\n",
       "    <tr>\n",
       "      <th>29</th>\n",
       "      <td>  6-7</td>\n",
       "      <td>   0.8</td>\n",
       "    </tr>\n",
       "    <tr>\n",
       "      <th>30</th>\n",
       "      <td> 6-10</td>\n",
       "      <td> 0.789</td>\n",
       "    </tr>\n",
       "    <tr>\n",
       "      <th>31</th>\n",
       "      <td> 6-11</td>\n",
       "      <td> 0.796</td>\n",
       "    </tr>\n",
       "    <tr>\n",
       "      <th>32</th>\n",
       "      <td> 6-10</td>\n",
       "      <td> 0.656</td>\n",
       "    </tr>\n",
       "    <tr>\n",
       "      <th>33</th>\n",
       "      <td> 6-10</td>\n",
       "      <td> 0.814</td>\n",
       "    </tr>\n",
       "    <tr>\n",
       "      <th>34</th>\n",
       "      <td>  6-9</td>\n",
       "      <td> 0.633</td>\n",
       "    </tr>\n",
       "    <tr>\n",
       "      <th>35</th>\n",
       "      <td> 6-11</td>\n",
       "      <td> 0.696</td>\n",
       "    </tr>\n",
       "    <tr>\n",
       "      <th>36</th>\n",
       "      <td>  7-0</td>\n",
       "      <td> 0.879</td>\n",
       "    </tr>\n",
       "    <tr>\n",
       "      <th>37</th>\n",
       "      <td>  6-8</td>\n",
       "      <td> 0.715</td>\n",
       "    </tr>\n",
       "    <tr>\n",
       "      <th>38</th>\n",
       "      <td>  6-8</td>\n",
       "      <td> 0.728</td>\n",
       "    </tr>\n",
       "    <tr>\n",
       "      <th>39</th>\n",
       "      <td>  6-8</td>\n",
       "      <td> 0.745</td>\n",
       "    </tr>\n",
       "    <tr>\n",
       "      <th>40</th>\n",
       "      <td> 6-11</td>\n",
       "      <td> 0.731</td>\n",
       "    </tr>\n",
       "    <tr>\n",
       "      <th>41</th>\n",
       "      <td>  6-9</td>\n",
       "      <td> 0.763</td>\n",
       "    </tr>\n",
       "    <tr>\n",
       "      <th>42</th>\n",
       "      <td> 6-11</td>\n",
       "      <td> 0.693</td>\n",
       "    </tr>\n",
       "    <tr>\n",
       "      <th>43</th>\n",
       "      <td>  7-1</td>\n",
       "      <td> 0.645</td>\n",
       "    </tr>\n",
       "    <tr>\n",
       "      <th>44</th>\n",
       "      <td> 6-10</td>\n",
       "      <td>  0.71</td>\n",
       "    </tr>\n",
       "    <tr>\n",
       "      <th>45</th>\n",
       "      <td>  7-1</td>\n",
       "      <td> 0.758</td>\n",
       "    </tr>\n",
       "    <tr>\n",
       "      <th>46</th>\n",
       "      <td> 6-11</td>\n",
       "      <td> 0.716</td>\n",
       "    </tr>\n",
       "    <tr>\n",
       "      <th>47</th>\n",
       "      <td> 6-11</td>\n",
       "      <td> 0.573</td>\n",
       "    </tr>\n",
       "    <tr>\n",
       "      <th>48</th>\n",
       "      <td>  7-0</td>\n",
       "      <td> 0.753</td>\n",
       "    </tr>\n",
       "    <tr>\n",
       "      <th>49</th>\n",
       "      <td> 6-11</td>\n",
       "      <td> 0.417</td>\n",
       "    </tr>\n",
       "  </tbody>\n",
       "</table>\n",
       "</div>"
      ],
      "text/plain": [
       "   Heights FT_PCT\n",
       "0      6-3    0.9\n",
       "1      6-3  0.862\n",
       "2      6-3  0.819\n",
       "3      6-1  0.803\n",
       "4      6-3  0.861\n",
       "5      6-0  0.861\n",
       "6      6-4  0.789\n",
       "7      6-3  0.815\n",
       "8      6-3  0.799\n",
       "9      6-1  0.609\n",
       "10     6-5  0.854\n",
       "11     6-8  0.812\n",
       "12     6-5  0.858\n",
       "13     6-4  0.765\n",
       "14     6-6  0.837\n",
       "15     6-4  0.888\n",
       "16     6-5  0.786\n",
       "17     6-7  0.846\n",
       "18     6-7  0.881\n",
       "19     6-3  0.773\n",
       "20     6-7  0.806\n",
       "21     6-7  0.804\n",
       "22     6-7  0.802\n",
       "23     6-6  0.829\n",
       "24     6-9  0.709\n",
       "25     6-9  0.804\n",
       "26     6-9  0.881\n",
       "27     6-8  0.811\n",
       "28     6-7  0.685\n",
       "29     6-7    0.8\n",
       "30    6-10  0.789\n",
       "31    6-11  0.796\n",
       "32    6-10  0.656\n",
       "33    6-10  0.814\n",
       "34     6-9  0.633\n",
       "35    6-11  0.696\n",
       "36     7-0  0.879\n",
       "37     6-8  0.715\n",
       "38     6-8  0.728\n",
       "39     6-8  0.745\n",
       "40    6-11  0.731\n",
       "41     6-9  0.763\n",
       "42    6-11  0.693\n",
       "43     7-1  0.645\n",
       "44    6-10   0.71\n",
       "45     7-1  0.758\n",
       "46    6-11  0.716\n",
       "47    6-11  0.573\n",
       "48     7-0  0.753\n",
       "49    6-11  0.417"
      ]
     },
     "execution_count": 51,
     "metadata": {},
     "output_type": "execute_result"
    }
   ],
   "source": [
    "# This will take a while to load the data. Thanks for your patient\n",
    "\n",
    "PG =['201939','202681','201566','201144','203081','101108','202322','201565','202391','200765']\n",
    "SG =['201935','202330','2037','2548','977','200755','203078','202691','2594','101145']\n",
    "SF =['1718','202710','202695','201980','202718','2399','201142','2546','203110','2207']\n",
    "PF =['203076','200746','201933','201567','2746','1495','1717','2564','200794','2544']\n",
    "C =['202326','2216','202328','2199','2744','201188','201149','2730','2200','201599']\n",
    "\n",
    "Players=[]\n",
    "Players.extend(PG)\n",
    "Players.extend(SG)\n",
    "Players.extend(SF)\n",
    "Players.extend(PF)\n",
    "Players.extend(C)\n",
    "\n",
    "columns = ['Heights', 'FT_PCT']\n",
    "index = np.arange(50) # array of numbers for the number of samples\n",
    "heights_freethrows = pd.DataFrame(columns=columns, index = index)\n",
    "h = []\n",
    "f = []\n",
    "for i in range (0,50):\n",
    "    for id_num in Players:\n",
    "        \n",
    "        bio = nba.PlayerBio(id_num)\n",
    "        careerStats  = nba.PlayerStats(id_num)\n",
    "        h.append(bio.bio()['HEIGHT'][0])\n",
    "        f.append(careerStats.careerstats()['FT_PCT'][0])\n",
    "    \n",
    "    heights_freethrows.iloc[i,0] = str(h[i])\n",
    "    heights_freethrows.iloc[i,1] = str(f[i])\n",
    "    \n",
    "\n",
    "heights_freethrows"
   ]
  },
  {
   "cell_type": "code",
   "execution_count": 49,
   "metadata": {
    "collapsed": false
   },
   "outputs": [
    {
     "data": {
      "text/plain": [
       "75.0"
      ]
     },
     "execution_count": 49,
     "metadata": {},
     "output_type": "execute_result"
    }
   ],
   "source": [
    "def parse_height(str):\n",
    "  feet_inches = str.split(\"'\")\n",
    "  if len(feet_inches) != 2:\n",
    "    raise ValueError(\"invalid literal for parse_height: \" + str)\n",
    "  return 12 * int(feet_inches[0]) + float(feet_inches[1])\n",
    "\n",
    "parse_height('6\\'3')"
   ]
  },
  {
   "cell_type": "code",
   "execution_count": 52,
   "metadata": {
    "collapsed": false
   },
   "outputs": [
    {
     "name": "stdout",
     "output_type": "stream",
     "text": [
      "<class 'pandas.core.frame.DataFrame'>\n",
      "Int64Index: 50 entries, 0 to 49\n",
      "Data columns (total 3 columns):\n",
      "Heights       50 non-null object\n",
      "FT_PCT        50 non-null float64\n",
      "HeightsNum    50 non-null float64\n",
      "dtypes: float64(2), object(1)\n",
      "memory usage: 1.6+ KB\n"
     ]
    }
   ],
   "source": [
    "# heights_freethrows.info()\n",
    "heights_freethrows['HeightsNum'] = heights_freethrows['Heights'].str.replace('-', '\\'')\n",
    "heights_freethrows[\"HeightsNum\"] = heights_freethrows[\"HeightsNum\"].apply(lambda x:parse_height(x))\n",
    "\n",
    "heights_freethrows = heights_freethrows.convert_objects(convert_numeric=True)\n",
    "heights_freethrows.info()"
   ]
  },
  {
   "cell_type": "code",
   "execution_count": 53,
   "metadata": {
    "collapsed": false
   },
   "outputs": [
    {
     "data": {
      "text/plain": [
       "<matplotlib.text.Text at 0x115d69510>"
      ]
     },
     "execution_count": 53,
     "metadata": {},
     "output_type": "execute_result"
    },
    {
     "data": {
      "image/png": "[encoded data removed]",
      "text/plain": [
       "<matplotlib.figure.Figure at 0x10ffabed0>"
      ]
     },
     "metadata": {},
     "output_type": "display_data"
    }
   ],
   "source": [
    "X = heights_freethrows['HeightsNum']\n",
    "y = heights_freethrows['FT_PCT'] *100\n",
    "\n",
    "plt.scatter(X, y, c=\"skyblue\")\n",
    "plt.xlabel('Height in inches')\n",
    "plt.ylabel('Free Throw Percentage')"
   ]
  },
  {
   "cell_type": "markdown",
   "metadata": {},
   "source": [
    "\n"
   ]
  },
  {
   "cell_type": "code",
   "execution_count": 54,
   "metadata": {
    "collapsed": false
   },
   "outputs": [
    {
     "name": "stdout",
     "output_type": "stream",
     "text": [
      "                            OLS Regression Results                            \n",
      "==============================================================================\n",
      "Dep. Variable:                 FT_PCT   R-squared:                       0.980\n",
      "Model:                            OLS   Adj. R-squared:                  0.980\n",
      "Method:                 Least Squares   F-statistic:                     2448.\n",
      "Date:                Sun, 26 Apr 2015   Prob (F-statistic):           1.71e-43\n",
      "Time:                        22:38:31   Log-Likelihood:                -190.29\n",
      "No. Observations:                  50   AIC:                             382.6\n",
      "Df Residuals:                      49   BIC:                             384.5\n",
      "Df Model:                           1                                         \n",
      "==============================================================================\n",
      "                 coef    std err          t      P>|t|      [95.0% Conf. Int.]\n",
      "------------------------------------------------------------------------------\n",
      "HeightsNum     0.9692      0.020     49.474      0.000         0.930     1.009\n",
      "==============================================================================\n",
      "Omnibus:                       13.267   Durbin-Watson:                   0.861\n",
      "Prob(Omnibus):                  0.001   Jarque-Bera (JB):               14.681\n",
      "Skew:                          -1.041   Prob(JB):                     0.000649\n",
      "Kurtosis:                       4.648   Cond. No.                         1.00\n",
      "==============================================================================\n",
      "Confidence Intervals:                    0         1\n",
      "HeightsNum  0.929805  1.008538\n",
      "Parameters: HeightsNum    0.969172\n",
      "dtype: float64\n"
     ]
    }
   ],
   "source": [
    "model = sm.OLS(y, X)\n",
    "results = model.fit()\n",
    "print results.summary()\n",
    "print \"Confidence Intervals:\", results.conf_int()\n",
    "print \"Parameters:\", results.params"
   ]
  },
  {
   "cell_type": "code",
   "execution_count": 100,
   "metadata": {
    "collapsed": false
   },
   "outputs": [],
   "source": [
    "X, y = utils.shuffle(heights_freethrows['HeightsNum'], heights_freethrows['FT_PCT'] *100, random_state=1)"
   ]
  },
  {
   "cell_type": "code",
   "execution_count": 101,
   "metadata": {
    "collapsed": false
   },
   "outputs": [
    {
     "name": "stdout",
     "output_type": "stream",
     "text": [
      "(45,) (45,)\n",
      "(5,) (5,)\n"
     ]
    }
   ],
   "source": [
    "X_train, X_test, y_train, y_test = cross_validation.train_test_split(X, y, test_size=0.1, random_state=0)\n",
    "print(X_train.shape), y_train.shape\n",
    "print(X_test.shape), y_test.shape"
   ]
  },
  {
   "cell_type": "code",
   "execution_count": 102,
   "metadata": {
    "collapsed": false
   },
   "outputs": [
    {
     "data": {
      "image/png": "[encoded data removed]",
      "text/plain": [
       "<matplotlib.figure.Figure at 0x116f16f90>"
      ]
     },
     "metadata": {},
     "output_type": "display_data"
    }
   ],
   "source": [
    "fig, axes = plt.subplots(figsize=(10,10))\n",
    "subX_train = X_train\n",
    "subX_test = X_test\n",
    "plt.scatter(subX_train, y_train, c=\"red\", alpha=0.4, linewidths=0.3)\n",
    "plt.scatter(subX_test, y_test, c=\"green\", alpha=0.2, linewidths=0.3)\n",
    "plt.xlabel('Data: Players\\' Height in inches')\n",
    "plt.ylabel('Target: Free Throw Percentage');"
   ]
  },
  {
   "cell_type": "code",
   "execution_count": 103,
   "metadata": {
    "collapsed": false
   },
   "outputs": [
    {
     "data": {
      "image/png": "[encoded data removed]",
      "text/plain": [
       "<matplotlib.figure.Figure at 0x116f16e10>"
      ]
     },
     "metadata": {},
     "output_type": "display_data"
    }
   ],
   "source": [
    "fig, axes = plt.subplots(2,4,figsize=(17,12))\n",
    "\n",
    "for i in range(8):\n",
    "    plt_i = i // 4\n",
    "    plt_j = i % 4\n",
    "    subX_train = X_train\n",
    "    # plt.subplot(2, 4, 1 + i)\n",
    "    axes[plt_i][plt_j].scatter(subX_train, y_train, c=\"orange\", alpha=0.4, linewidths=0.3)\n",
    "    #plt.scatter(subX_test, y_test)\n",
    "    axes[plt_i][plt_j].set_xlabel('Data')\n",
    "    axes[plt_i][plt_j].set_ylabel('Target'); "
   ]
  },
  {
   "cell_type": "code",
   "execution_count": 104,
   "metadata": {
    "collapsed": false
   },
   "outputs": [
    {
     "data": {
      "text/plain": [
       "LinearRegression(copy_X=True, fit_intercept=True, normalize=False)"
      ]
     },
     "execution_count": 104,
     "metadata": {},
     "output_type": "execute_result"
    }
   ],
   "source": [
    "regr = linear_model.LinearRegression()\n",
    "regr.fit(X_train[:,np.newaxis], y_train);\n",
    "\n",
    "# X_train[:,np.newaxis]\n",
    "# y_train"
   ]
  },
  {
   "cell_type": "code",
   "execution_count": 105,
   "metadata": {
    "collapsed": false
   },
   "outputs": [
    {
     "name": "stdout",
     "output_type": "stream",
     "text": [
      "('Training error: ', 71.636010035041437)\n",
      "('Test     error: ', 33.992479522037186)\n"
     ]
    }
   ],
   "source": [
    "# The mean square error\n",
    "print(\"Training error: \", metrics.mean_squared_error(regr.predict(X_train[:,np.newaxis]),y_train))\n",
    "print(\"Test     error: \", metrics.mean_squared_error(regr.predict(X_test[:,np.newaxis]),y_test))"
   ]
  },
  {
   "cell_type": "code",
   "execution_count": 106,
   "metadata": {
    "collapsed": false
   },
   "outputs": [
    {
     "name": "stdout",
     "output_type": "stream",
     "text": [
      "('Training score: ', 0.15237903284714072)\n",
      "('Test     score: ', 0.47273630483146845)\n"
     ]
    }
   ],
   "source": [
    "# Training and Testing Score\n",
    "train_score = regr.score(X_train[:,np.newaxis][:,np.newaxis],y_train)\n",
    "test_score = regr.score(X_test[:,np.newaxis],y_test)\n",
    "print(\"Training score: \", train_score)\n",
    "print(\"Test     score: \", test_score)"
   ]
  },
  {
   "cell_type": "markdown",
   "metadata": {
    "collapsed": false
   },
   "source": [
    "Recall: Hypothesis 2: Does three-point actually help teams win the game?\n",
    "        \n",
    "        For this hypothesis, we found 10 different teams in NBA, 5 teams in each conference (West,East), and all \n",
    "        of these 10 teams are competitive in the past 5 years and most of them has not missed the playoff games \n",
    "        recently. \n",
    "        \n",
    "                  Team                        Team ID\n",
    "        \n",
    "East     \n",
    "            1. ATLANTA HAWKS                1610612737\n",
    "            2. CHICAGO BULLS                1610612741\n",
    "            3. CLEVELAND CAVALIERS          1610612739 \n",
    "            4. MIAMI HEAT                   1610612748\n",
    "            5. WASHINGTON WIZARDS           1610612764 \n",
    "\n",
    "West     \n",
    "            1. GOLDEN STATE WARRIORS        1610612744\n",
    "            2. HOUSTON ROCKETS              1610612745\n",
    "            3. SAN ANTONIO SPURS            1610612759\n",
    "            4. DALLAS MAVERICKS             1610612742\n",
    "            5. LOS ANGELES CLIPPERS         1610612746 \n",
    " \n",
    "\n",
    "\n",
    "\n"
   ]
  },
  {
   "cell_type": "code",
   "execution_count": 3,
   "metadata": {
    "collapsed": false
   },
   "outputs": [
    {
     "data": {
      "text/html": [
       "<div style=\"max-height:1000px;max-width:1500px;overflow:auto;\">\n",
       "<table border=\"1\" class=\"dataframe\">\n",
       "  <thead>\n",
       "    <tr style=\"text-align: right;\">\n",
       "      <th></th>\n",
       "      <th>TEAM_ID</th>\n",
       "      <th>SEASON_YEAR</th>\n",
       "      <th>TEAM_CITY</th>\n",
       "      <th>TEAM_NAME</th>\n",
       "      <th>TEAM_ABBREVIATION</th>\n",
       "      <th>TEAM_CONFERENCE</th>\n",
       "      <th>TEAM_DIVISION</th>\n",
       "      <th>TEAM_CODE</th>\n",
       "      <th>W</th>\n",
       "      <th>L</th>\n",
       "      <th>PCT</th>\n",
       "      <th>CONF_RANK</th>\n",
       "      <th>DIV_RANK</th>\n",
       "      <th>MIN_YEAR</th>\n",
       "      <th>MAX_YEAR</th>\n",
       "    </tr>\n",
       "  </thead>\n",
       "  <tbody>\n",
       "    <tr>\n",
       "      <th>0</th>\n",
       "      <td> 1610612759</td>\n",
       "      <td> 2014-15</td>\n",
       "      <td> San Antonio</td>\n",
       "      <td> Spurs</td>\n",
       "      <td> SAS</td>\n",
       "      <td> West</td>\n",
       "      <td> Southwest</td>\n",
       "      <td> spurs</td>\n",
       "      <td> 55</td>\n",
       "      <td> 27</td>\n",
       "      <td> 0.671</td>\n",
       "      <td> 6</td>\n",
       "      <td> 3</td>\n",
       "      <td> 1976</td>\n",
       "      <td> 2014</td>\n",
       "    </tr>\n",
       "  </tbody>\n",
       "</table>\n",
       "</div>"
      ],
      "text/plain": [
       "      TEAM_ID SEASON_YEAR    TEAM_CITY TEAM_NAME TEAM_ABBREVIATION TEAM_CONFERENCE TEAM_DIVISION TEAM_CODE   W   L    PCT  CONF_RANK  DIV_RANK MIN_YEAR MAX_YEAR\n",
       "0  1610612759     2014-15  San Antonio     Spurs               SAS            West     Southwest     spurs  55  27  0.671          6         3     1976     2014"
      ]
     },
     "execution_count": 3,
     "metadata": {},
     "output_type": "execute_result"
    }
   ],
   "source": [
    "# API returns names of teams. \n",
    "spurs = nba.Team_info('1610612759', season='2014-15')\n",
    "spurs.info()\n"
   ]
  },
  {
   "cell_type": "code",
   "execution_count": 5,
   "metadata": {
    "collapsed": false
   },
   "outputs": [
    {
     "data": {
      "text/html": [
       "<div style=\"max-height:1000px;max-width:1500px;overflow:auto;\">\n",
       "<table border=\"1\" class=\"dataframe\">\n",
       "  <thead>\n",
       "    <tr style=\"text-align: right;\">\n",
       "      <th></th>\n",
       "      <th>TEAM_NAME</th>\n",
       "      <th>SEASON_YEAR</th>\n",
       "      <th>W_PCT</th>\n",
       "      <th>FG3M</th>\n",
       "      <th>FG3A</th>\n",
       "    </tr>\n",
       "  </thead>\n",
       "  <tbody>\n",
       "    <tr>\n",
       "      <th>0 </th>\n",
       "      <td>  Warriors</td>\n",
       "      <td> 2010-11</td>\n",
       "      <td> 0.439</td>\n",
       "      <td>  8.4</td>\n",
       "      <td> 21.3</td>\n",
       "    </tr>\n",
       "    <tr>\n",
       "      <th>1 </th>\n",
       "      <td>  Warriors</td>\n",
       "      <td> 2011-12</td>\n",
       "      <td> 0.348</td>\n",
       "      <td>  7.9</td>\n",
       "      <td> 20.5</td>\n",
       "    </tr>\n",
       "    <tr>\n",
       "      <th>2 </th>\n",
       "      <td>  Warriors</td>\n",
       "      <td> 2012-13</td>\n",
       "      <td> 0.573</td>\n",
       "      <td>  8.0</td>\n",
       "      <td> 19.9</td>\n",
       "    </tr>\n",
       "    <tr>\n",
       "      <th>3 </th>\n",
       "      <td>  Warriors</td>\n",
       "      <td> 2013-14</td>\n",
       "      <td> 0.622</td>\n",
       "      <td>  9.4</td>\n",
       "      <td> 24.8</td>\n",
       "    </tr>\n",
       "    <tr>\n",
       "      <th>4 </th>\n",
       "      <td>  Warriors</td>\n",
       "      <td> 2014-15</td>\n",
       "      <td> 0.817</td>\n",
       "      <td> 10.8</td>\n",
       "      <td> 27.0</td>\n",
       "    </tr>\n",
       "    <tr>\n",
       "      <th>5 </th>\n",
       "      <td>   Rockets</td>\n",
       "      <td> 2010-11</td>\n",
       "      <td> 0.524</td>\n",
       "      <td>  8.3</td>\n",
       "      <td> 22.5</td>\n",
       "    </tr>\n",
       "    <tr>\n",
       "      <th>6 </th>\n",
       "      <td>   Rockets</td>\n",
       "      <td> 2011-12</td>\n",
       "      <td> 0.515</td>\n",
       "      <td>  7.2</td>\n",
       "      <td> 20.2</td>\n",
       "    </tr>\n",
       "    <tr>\n",
       "      <th>7 </th>\n",
       "      <td>   Rockets</td>\n",
       "      <td> 2012-13</td>\n",
       "      <td> 0.549</td>\n",
       "      <td> 10.6</td>\n",
       "      <td> 28.9</td>\n",
       "    </tr>\n",
       "    <tr>\n",
       "      <th>8 </th>\n",
       "      <td>   Rockets</td>\n",
       "      <td> 2013-14</td>\n",
       "      <td> 0.659</td>\n",
       "      <td>  9.5</td>\n",
       "      <td> 26.6</td>\n",
       "    </tr>\n",
       "    <tr>\n",
       "      <th>9 </th>\n",
       "      <td>   Rockets</td>\n",
       "      <td> 2014-15</td>\n",
       "      <td> 0.683</td>\n",
       "      <td> 11.4</td>\n",
       "      <td> 32.7</td>\n",
       "    </tr>\n",
       "    <tr>\n",
       "      <th>10</th>\n",
       "      <td>     Spurs</td>\n",
       "      <td> 2010-11</td>\n",
       "      <td> 0.744</td>\n",
       "      <td>  8.4</td>\n",
       "      <td> 21.1</td>\n",
       "    </tr>\n",
       "    <tr>\n",
       "      <th>11</th>\n",
       "      <td>     Spurs</td>\n",
       "      <td> 2011-12</td>\n",
       "      <td> 0.758</td>\n",
       "      <td>  8.4</td>\n",
       "      <td> 21.3</td>\n",
       "    </tr>\n",
       "    <tr>\n",
       "      <th>12</th>\n",
       "      <td>     Spurs</td>\n",
       "      <td> 2012-13</td>\n",
       "      <td> 0.707</td>\n",
       "      <td>  8.1</td>\n",
       "      <td> 21.5</td>\n",
       "    </tr>\n",
       "    <tr>\n",
       "      <th>13</th>\n",
       "      <td>     Spurs</td>\n",
       "      <td> 2013-14</td>\n",
       "      <td> 0.756</td>\n",
       "      <td>  8.5</td>\n",
       "      <td> 21.4</td>\n",
       "    </tr>\n",
       "    <tr>\n",
       "      <th>14</th>\n",
       "      <td>     Spurs</td>\n",
       "      <td> 2014-15</td>\n",
       "      <td> 0.671</td>\n",
       "      <td>  8.3</td>\n",
       "      <td> 22.5</td>\n",
       "    </tr>\n",
       "    <tr>\n",
       "      <th>15</th>\n",
       "      <td> Mavericks</td>\n",
       "      <td> 2010-11</td>\n",
       "      <td> 0.695</td>\n",
       "      <td>  7.9</td>\n",
       "      <td> 21.6</td>\n",
       "    </tr>\n",
       "    <tr>\n",
       "      <th>16</th>\n",
       "      <td> Mavericks</td>\n",
       "      <td> 2011-12</td>\n",
       "      <td> 0.545</td>\n",
       "      <td>  7.5</td>\n",
       "      <td> 22.2</td>\n",
       "    </tr>\n",
       "    <tr>\n",
       "      <th>17</th>\n",
       "      <td> Mavericks</td>\n",
       "      <td> 2012-13</td>\n",
       "      <td>   0.5</td>\n",
       "      <td>  7.4</td>\n",
       "      <td> 19.9</td>\n",
       "    </tr>\n",
       "    <tr>\n",
       "      <th>18</th>\n",
       "      <td> Mavericks</td>\n",
       "      <td> 2013-14</td>\n",
       "      <td> 0.598</td>\n",
       "      <td>  8.8</td>\n",
       "      <td> 22.9</td>\n",
       "    </tr>\n",
       "    <tr>\n",
       "      <th>19</th>\n",
       "      <td> Mavericks</td>\n",
       "      <td> 2014-15</td>\n",
       "      <td>  0.61</td>\n",
       "      <td>  8.9</td>\n",
       "      <td> 25.4</td>\n",
       "    </tr>\n",
       "    <tr>\n",
       "      <th>20</th>\n",
       "      <td>  Clippers</td>\n",
       "      <td> 2010-11</td>\n",
       "      <td>  0.39</td>\n",
       "      <td>  6.3</td>\n",
       "      <td> 18.5</td>\n",
       "    </tr>\n",
       "    <tr>\n",
       "      <th>21</th>\n",
       "      <td>  Clippers</td>\n",
       "      <td> 2011-12</td>\n",
       "      <td> 0.606</td>\n",
       "      <td>  7.8</td>\n",
       "      <td> 21.8</td>\n",
       "    </tr>\n",
       "    <tr>\n",
       "      <th>22</th>\n",
       "      <td>  Clippers</td>\n",
       "      <td> 2012-13</td>\n",
       "      <td> 0.683</td>\n",
       "      <td>  7.6</td>\n",
       "      <td> 21.4</td>\n",
       "    </tr>\n",
       "    <tr>\n",
       "      <th>23</th>\n",
       "      <td>  Clippers</td>\n",
       "      <td> 2013-14</td>\n",
       "      <td> 0.695</td>\n",
       "      <td>  8.5</td>\n",
       "      <td> 24.0</td>\n",
       "    </tr>\n",
       "    <tr>\n",
       "      <th>24</th>\n",
       "      <td>  Clippers</td>\n",
       "      <td> 2014-15</td>\n",
       "      <td> 0.683</td>\n",
       "      <td> 10.1</td>\n",
       "      <td> 26.9</td>\n",
       "    </tr>\n",
       "    <tr>\n",
       "      <th>25</th>\n",
       "      <td>     Hawks</td>\n",
       "      <td> 2010-11</td>\n",
       "      <td> 0.537</td>\n",
       "      <td>  6.1</td>\n",
       "      <td> 17.4</td>\n",
       "    </tr>\n",
       "    <tr>\n",
       "      <th>26</th>\n",
       "      <td>     Hawks</td>\n",
       "      <td> 2011-12</td>\n",
       "      <td> 0.606</td>\n",
       "      <td>  7.5</td>\n",
       "      <td> 20.2</td>\n",
       "    </tr>\n",
       "    <tr>\n",
       "      <th>27</th>\n",
       "      <td>     Hawks</td>\n",
       "      <td> 2012-13</td>\n",
       "      <td> 0.537</td>\n",
       "      <td>  8.6</td>\n",
       "      <td> 23.2</td>\n",
       "    </tr>\n",
       "    <tr>\n",
       "      <th>28</th>\n",
       "      <td>     Hawks</td>\n",
       "      <td> 2013-14</td>\n",
       "      <td> 0.463</td>\n",
       "      <td>  9.4</td>\n",
       "      <td> 25.8</td>\n",
       "    </tr>\n",
       "    <tr>\n",
       "      <th>29</th>\n",
       "      <td>     Hawks</td>\n",
       "      <td> 2014-15</td>\n",
       "      <td> 0.732</td>\n",
       "      <td> 10.0</td>\n",
       "      <td> 26.2</td>\n",
       "    </tr>\n",
       "    <tr>\n",
       "      <th>30</th>\n",
       "      <td>     Bulls</td>\n",
       "      <td> 2010-11</td>\n",
       "      <td> 0.756</td>\n",
       "      <td>  6.2</td>\n",
       "      <td> 17.3</td>\n",
       "    </tr>\n",
       "    <tr>\n",
       "      <th>31</th>\n",
       "      <td>     Bulls</td>\n",
       "      <td> 2011-12</td>\n",
       "      <td> 0.758</td>\n",
       "      <td>  6.3</td>\n",
       "      <td> 16.9</td>\n",
       "    </tr>\n",
       "    <tr>\n",
       "      <th>32</th>\n",
       "      <td>     Bulls</td>\n",
       "      <td> 2012-13</td>\n",
       "      <td> 0.549</td>\n",
       "      <td>  5.4</td>\n",
       "      <td> 15.4</td>\n",
       "    </tr>\n",
       "    <tr>\n",
       "      <th>33</th>\n",
       "      <td>     Bulls</td>\n",
       "      <td> 2013-14</td>\n",
       "      <td> 0.585</td>\n",
       "      <td>  6.2</td>\n",
       "      <td> 17.8</td>\n",
       "    </tr>\n",
       "    <tr>\n",
       "      <th>34</th>\n",
       "      <td>     Bulls</td>\n",
       "      <td> 2014-15</td>\n",
       "      <td>  0.61</td>\n",
       "      <td>  7.9</td>\n",
       "      <td> 22.3</td>\n",
       "    </tr>\n",
       "    <tr>\n",
       "      <th>35</th>\n",
       "      <td> Cavaliers</td>\n",
       "      <td> 2010-11</td>\n",
       "      <td> 0.232</td>\n",
       "      <td>  6.2</td>\n",
       "      <td> 18.2</td>\n",
       "    </tr>\n",
       "    <tr>\n",
       "      <th>36</th>\n",
       "      <td> Cavaliers</td>\n",
       "      <td> 2011-12</td>\n",
       "      <td> 0.318</td>\n",
       "      <td>  6.7</td>\n",
       "      <td> 19.3</td>\n",
       "    </tr>\n",
       "    <tr>\n",
       "      <th>37</th>\n",
       "      <td> Cavaliers</td>\n",
       "      <td> 2012-13</td>\n",
       "      <td> 0.293</td>\n",
       "      <td>  6.7</td>\n",
       "      <td> 19.3</td>\n",
       "    </tr>\n",
       "    <tr>\n",
       "      <th>38</th>\n",
       "      <td> Cavaliers</td>\n",
       "      <td> 2013-14</td>\n",
       "      <td> 0.402</td>\n",
       "      <td>  7.1</td>\n",
       "      <td> 20.0</td>\n",
       "    </tr>\n",
       "    <tr>\n",
       "      <th>39</th>\n",
       "      <td> Cavaliers</td>\n",
       "      <td> 2014-15</td>\n",
       "      <td> 0.646</td>\n",
       "      <td> 10.1</td>\n",
       "      <td> 27.5</td>\n",
       "    </tr>\n",
       "    <tr>\n",
       "      <th>40</th>\n",
       "      <td>      Heat</td>\n",
       "      <td> 2010-11</td>\n",
       "      <td> 0.707</td>\n",
       "      <td>  6.7</td>\n",
       "      <td> 18.0</td>\n",
       "    </tr>\n",
       "    <tr>\n",
       "      <th>41</th>\n",
       "      <td>      Heat</td>\n",
       "      <td> 2011-12</td>\n",
       "      <td> 0.697</td>\n",
       "      <td>  5.6</td>\n",
       "      <td> 15.6</td>\n",
       "    </tr>\n",
       "    <tr>\n",
       "      <th>42</th>\n",
       "      <td>      Heat</td>\n",
       "      <td> 2012-13</td>\n",
       "      <td> 0.805</td>\n",
       "      <td>  8.7</td>\n",
       "      <td> 22.1</td>\n",
       "    </tr>\n",
       "    <tr>\n",
       "      <th>43</th>\n",
       "      <td>      Heat</td>\n",
       "      <td> 2013-14</td>\n",
       "      <td> 0.659</td>\n",
       "      <td>  8.1</td>\n",
       "      <td> 22.3</td>\n",
       "    </tr>\n",
       "    <tr>\n",
       "      <th>44</th>\n",
       "      <td>      Heat</td>\n",
       "      <td> 2014-15</td>\n",
       "      <td> 0.451</td>\n",
       "      <td>  6.8</td>\n",
       "      <td> 20.2</td>\n",
       "    </tr>\n",
       "    <tr>\n",
       "      <th>45</th>\n",
       "      <td>   Wizards</td>\n",
       "      <td> 2010-11</td>\n",
       "      <td>  0.28</td>\n",
       "      <td>  4.8</td>\n",
       "      <td> 14.4</td>\n",
       "    </tr>\n",
       "    <tr>\n",
       "      <th>46</th>\n",
       "      <td>   Wizards</td>\n",
       "      <td> 2011-12</td>\n",
       "      <td> 0.303</td>\n",
       "      <td>  5.2</td>\n",
       "      <td> 16.3</td>\n",
       "    </tr>\n",
       "    <tr>\n",
       "      <th>47</th>\n",
       "      <td>   Wizards</td>\n",
       "      <td> 2012-13</td>\n",
       "      <td> 0.354</td>\n",
       "      <td>  6.6</td>\n",
       "      <td> 18.2</td>\n",
       "    </tr>\n",
       "    <tr>\n",
       "      <th>48</th>\n",
       "      <td>   Wizards</td>\n",
       "      <td> 2013-14</td>\n",
       "      <td> 0.537</td>\n",
       "      <td>  7.9</td>\n",
       "      <td> 20.8</td>\n",
       "    </tr>\n",
       "    <tr>\n",
       "      <th>49</th>\n",
       "      <td>   Wizards</td>\n",
       "      <td> 2014-15</td>\n",
       "      <td> 0.561</td>\n",
       "      <td>  6.1</td>\n",
       "      <td> 16.8</td>\n",
       "    </tr>\n",
       "  </tbody>\n",
       "</table>\n",
       "</div>"
      ],
      "text/plain": [
       "    TEAM_NAME SEASON_YEAR  W_PCT  FG3M  FG3A\n",
       "0    Warriors     2010-11  0.439   8.4  21.3\n",
       "1    Warriors     2011-12  0.348   7.9  20.5\n",
       "2    Warriors     2012-13  0.573   8.0  19.9\n",
       "3    Warriors     2013-14  0.622   9.4  24.8\n",
       "4    Warriors     2014-15  0.817  10.8  27.0\n",
       "5     Rockets     2010-11  0.524   8.3  22.5\n",
       "6     Rockets     2011-12  0.515   7.2  20.2\n",
       "7     Rockets     2012-13  0.549  10.6  28.9\n",
       "8     Rockets     2013-14  0.659   9.5  26.6\n",
       "9     Rockets     2014-15  0.683  11.4  32.7\n",
       "10      Spurs     2010-11  0.744   8.4  21.1\n",
       "11      Spurs     2011-12  0.758   8.4  21.3\n",
       "12      Spurs     2012-13  0.707   8.1  21.5\n",
       "13      Spurs     2013-14  0.756   8.5  21.4\n",
       "14      Spurs     2014-15  0.671   8.3  22.5\n",
       "15  Mavericks     2010-11  0.695   7.9  21.6\n",
       "16  Mavericks     2011-12  0.545   7.5  22.2\n",
       "17  Mavericks     2012-13    0.5   7.4  19.9\n",
       "18  Mavericks     2013-14  0.598   8.8  22.9\n",
       "19  Mavericks     2014-15   0.61   8.9  25.4\n",
       "20   Clippers     2010-11   0.39   6.3  18.5\n",
       "21   Clippers     2011-12  0.606   7.8  21.8\n",
       "22   Clippers     2012-13  0.683   7.6  21.4\n",
       "23   Clippers     2013-14  0.695   8.5  24.0\n",
       "24   Clippers     2014-15  0.683  10.1  26.9\n",
       "25      Hawks     2010-11  0.537   6.1  17.4\n",
       "26      Hawks     2011-12  0.606   7.5  20.2\n",
       "27      Hawks     2012-13  0.537   8.6  23.2\n",
       "28      Hawks     2013-14  0.463   9.4  25.8\n",
       "29      Hawks     2014-15  0.732  10.0  26.2\n",
       "30      Bulls     2010-11  0.756   6.2  17.3\n",
       "31      Bulls     2011-12  0.758   6.3  16.9\n",
       "32      Bulls     2012-13  0.549   5.4  15.4\n",
       "33      Bulls     2013-14  0.585   6.2  17.8\n",
       "34      Bulls     2014-15   0.61   7.9  22.3\n",
       "35  Cavaliers     2010-11  0.232   6.2  18.2\n",
       "36  Cavaliers     2011-12  0.318   6.7  19.3\n",
       "37  Cavaliers     2012-13  0.293   6.7  19.3\n",
       "38  Cavaliers     2013-14  0.402   7.1  20.0\n",
       "39  Cavaliers     2014-15  0.646  10.1  27.5\n",
       "40       Heat     2010-11  0.707   6.7  18.0\n",
       "41       Heat     2011-12  0.697   5.6  15.6\n",
       "42       Heat     2012-13  0.805   8.7  22.1\n",
       "43       Heat     2013-14  0.659   8.1  22.3\n",
       "44       Heat     2014-15  0.451   6.8  20.2\n",
       "45    Wizards     2010-11   0.28   4.8  14.4\n",
       "46    Wizards     2011-12  0.303   5.2  16.3\n",
       "47    Wizards     2012-13  0.354   6.6  18.2\n",
       "48    Wizards     2013-14  0.537   7.9  20.8\n",
       "49    Wizards     2014-15  0.561   6.1  16.8"
      ]
     },
     "execution_count": 5,
     "metadata": {},
     "output_type": "execute_result"
    }
   ],
   "source": [
    "# This would also take a while to process. Thanks for your patient! \n",
    "\n",
    "West =['1610612744','1610612745','1610612759','1610612742','1610612746']\n",
    "East= ['1610612737','1610612741','1610612739','1610612748','1610612764']\n",
    "        \n",
    "Teams = []\n",
    "Teams.extend(West)\n",
    "Teams.extend(East)\n",
    "Seasons = ['2010-11','2011-12','2012-13','2013-14','2014-15']\n",
    "\n",
    "    \n",
    "columns = ['TEAM_NAME','SEASON_YEAR','W_PCT','FG3M','FG3A']\n",
    "index = np.arange(50) # array of numbers for the number of samples\n",
    "win_3pts = pd.DataFrame(columns=columns, index = index)\n",
    "\n",
    "n = []\n",
    "s = []\n",
    "w = []\n",
    "m = []\n",
    "a = []\n",
    "\n",
    "for i in range (0,50):\n",
    "    for id_num in Teams:\n",
    "        for season in Seasons:\n",
    "            name = nba.Team_info(id_num, season=season)\n",
    "            team = nba.Team_details(id_num, season=season)\n",
    "            n.append(name.info()['TEAM_NAME'][0])\n",
    "            s.append(team.overall()['SEASON_YEAR'][0])\n",
    "            w.append(team.overall()['W_PCT'][0])\n",
    "            m.append(team.overall()['FG3M'][0])\n",
    "            a.append(team.overall()['FG3A'][0])\n",
    "            \n",
    "    win_3pts.iloc[i,0] = str(n[i]) \n",
    "    win_3pts.iloc[i,1] = str(s[i])        \n",
    "    win_3pts.iloc[i,2] = str(w[i])\n",
    "    win_3pts.iloc[i,3] = str(m[i])\n",
    "    win_3pts.iloc[i,4] = str(a[i])\n",
    "    \n",
    "win_3pts  \n",
    "    \n"
   ]
  },
  {
   "cell_type": "code",
   "execution_count": 19,
   "metadata": {
    "collapsed": false
   },
   "outputs": [],
   "source": [
    "#Dividing dataframe into 10 different ones for anaylysis\n",
    "Warriors  = win_3pts [0:5]\n",
    "Rockets   = win_3pts [5:10]\n",
    "Spurs     = win_3pts [10:15]\n",
    "Mavericks = win_3pts [15:20]\n",
    "Clippers  = win_3pts [20:25]\n",
    "\n",
    "Hawks     = win_3pts [25:30]\n",
    "Bulls     = win_3pts [30:35]\n",
    "Cavaliers = win_3pts [35:40]\n",
    "Heat      = win_3pts [40:45]\n",
    "Wizards   = win_3pts [45:50]\n"
   ]
  },
  {
   "cell_type": "code",
   "execution_count": 41,
   "metadata": {
    "collapsed": false
   },
   "outputs": [
    {
     "name": "stdout",
     "output_type": "stream",
     "text": [
      "<class 'pandas.core.frame.DataFrame'>\n",
      "Int64Index: 5 entries, 0 to 4\n",
      "Data columns (total 5 columns):\n",
      "TEAM_NAME      5 non-null object\n",
      "SEASON_YEAR    5 non-null object\n",
      "W_PCT          5 non-null float64\n",
      "FG3M           5 non-null float64\n",
      "FG3A           5 non-null float64\n",
      "dtypes: float64(3), object(2)\n",
      "memory usage: 240.0+ bytes\n"
     ]
    },
    {
     "data": {
      "text/plain": [
       "<matplotlib.text.Text at 0x114c99d90>"
      ]
     },
     "execution_count": 41,
     "metadata": {},
     "output_type": "execute_result"
    },
    {
     "data": {
      "image/png": "[encoded data removed]",
      "text/plain": [
       "<matplotlib.figure.Figure at 0x113cdadd0>"
      ]
     },
     "metadata": {},
     "output_type": "display_data"
    }
   ],
   "source": [
    "Warriors = Warriors.convert_objects(convert_numeric=True)\n",
    "Warriors.info()\n",
    "X = sorted(Warriors['FG3M'])\n",
    "y = sorted(Warriors['W_PCT'] *100)\n",
    "\n",
    "plt.plot(X, y, c=\"skyblue\")\n",
    "plt.xlabel('Warriors 3-Point FG Made')\n",
    "plt.ylabel('Winning Percentage')\n"
   ]
  },
  {
   "cell_type": "code",
   "execution_count": 43,
   "metadata": {
    "collapsed": false
   },
   "outputs": [
    {
     "data": {
      "text/plain": [
       "<matplotlib.text.Text at 0x114df3110>"
      ]
     },
     "execution_count": 43,
     "metadata": {},
     "output_type": "execute_result"
    },
    {
     "data": {
      "image/png": "[encoded data removed]",
      "text/plain": [
       "<matplotlib.figure.Figure at 0x1125d3550>"
      ]
     },
     "metadata": {},
     "output_type": "display_data"
    }
   ],
   "source": [
    "X = sorted(Warriors['FG3A'])\n",
    "y = sorted(Warriors['W_PCT'] *100)\n",
    "\n",
    "plt.plot(X, y, c=\"skyblue\")\n",
    "plt.xlabel('Warriors 3-Point FG Attempts')\n",
    "plt.ylabel('Winning Percentage')"
   ]
  },
  {
   "cell_type": "code",
   "execution_count": 31,
   "metadata": {
    "collapsed": false
   },
   "outputs": [
    {
     "name": "stdout",
     "output_type": "stream",
     "text": [
      "<class 'pandas.core.frame.DataFrame'>\n",
      "Int64Index: 5 entries, 5 to 9\n",
      "Data columns (total 5 columns):\n",
      "TEAM_NAME      5 non-null object\n",
      "SEASON_YEAR    5 non-null object\n",
      "W_PCT          5 non-null float64\n",
      "FG3M           5 non-null float64\n",
      "FG3A           5 non-null float64\n",
      "dtypes: float64(3), object(2)\n",
      "memory usage: 240.0+ bytes\n"
     ]
    },
    {
     "data": {
      "text/plain": [
       "<matplotlib.text.Text at 0x1124591d0>"
      ]
     },
     "execution_count": 31,
     "metadata": {},
     "output_type": "execute_result"
    },
    {
     "data": {
      "image/png": "[encoded data removed]",
      "text/plain": [
       "<matplotlib.figure.Figure at 0x113235110>"
      ]
     },
     "metadata": {},
     "output_type": "display_data"
    }
   ],
   "source": [
    "Rockets = Rockets.convert_objects(convert_numeric=True)\n",
    "Rockets.info()\n",
    "X = sorted(Rockets['FG3M'])\n",
    "y = sorted(Rockets['W_PCT'] *100)\n",
    "\n",
    "plt.plot(X, y, c=\"skyblue\")\n",
    "plt.xlabel('Rockets 3-Point FG Made')\n",
    "plt.ylabel('Winning Percentage')"
   ]
  },
  {
   "cell_type": "code",
   "execution_count": 44,
   "metadata": {
    "collapsed": false
   },
   "outputs": [
    {
     "data": {
      "text/plain": [
       "<matplotlib.text.Text at 0x115075710>"
      ]
     },
     "execution_count": 44,
     "metadata": {},
     "output_type": "execute_result"
    },
    {
     "data": {
      "image/png": "[encoded data removed]",
      "text/plain": [
       "<matplotlib.figure.Figure at 0x113b6c990>"
      ]
     },
     "metadata": {},
     "output_type": "display_data"
    }
   ],
   "source": [
    "X = sorted(Rockets['FG3A'])\n",
    "y = sorted(Rockets['W_PCT'] *100)\n",
    "\n",
    "plt.plot(X, y, c=\"skyblue\")\n",
    "plt.xlabel('Rockets 3-Point FG Attempts')\n",
    "plt.ylabel('Winning Percentage')"
   ]
  },
  {
   "cell_type": "code",
   "execution_count": 32,
   "metadata": {
    "collapsed": false
   },
   "outputs": [
    {
     "name": "stdout",
     "output_type": "stream",
     "text": [
      "<class 'pandas.core.frame.DataFrame'>\n",
      "Int64Index: 5 entries, 10 to 14\n",
      "Data columns (total 5 columns):\n",
      "TEAM_NAME      5 non-null object\n",
      "SEASON_YEAR    5 non-null object\n",
      "W_PCT          5 non-null float64\n",
      "FG3M           5 non-null float64\n",
      "FG3A           5 non-null float64\n",
      "dtypes: float64(3), object(2)\n",
      "memory usage: 240.0+ bytes\n"
     ]
    },
    {
     "data": {
      "text/plain": [
       "<matplotlib.text.Text at 0x11322cc10>"
      ]
     },
     "execution_count": 32,
     "metadata": {},
     "output_type": "execute_result"
    },
    {
     "data": {
      "image/png": "[encoded data removed]",
      "text/plain": [
       "<matplotlib.figure.Figure at 0x11337bc50>"
      ]
     },
     "metadata": {},
     "output_type": "display_data"
    }
   ],
   "source": [
    "Spurs = Spurs.convert_objects(convert_numeric=True)\n",
    "Spurs.info()\n",
    "X = sorted(Spurs['FG3M'])\n",
    "y = sorted(Spurs['W_PCT'] *100)\n",
    "\n",
    "plt.plot(X, y, c=\"skyblue\")\n",
    "plt.xlabel('Spurs 3-Point FG Made')\n",
    "plt.ylabel('Winning Percentage')"
   ]
  },
  {
   "cell_type": "code",
   "execution_count": 45,
   "metadata": {
    "collapsed": false
   },
   "outputs": [
    {
     "data": {
      "text/plain": [
       "<matplotlib.text.Text at 0x1152f9b50>"
      ]
     },
     "execution_count": 45,
     "metadata": {},
     "output_type": "execute_result"
    },
    {
     "data": {
      "image/png": "[encoded data removed]",
      "text/plain": [
       "<matplotlib.figure.Figure at 0x1149b6a10>"
      ]
     },
     "metadata": {},
     "output_type": "display_data"
    }
   ],
   "source": [
    "X = sorted(Spurs['FG3A'])\n",
    "y = sorted(Spurs['W_PCT'] *100)\n",
    "\n",
    "plt.plot(X, y, c=\"skyblue\")\n",
    "plt.xlabel('Spurs 3-Point FG Attempts')\n",
    "plt.ylabel('Winning Percentage')"
   ]
  },
  {
   "cell_type": "code",
   "execution_count": 33,
   "metadata": {
    "collapsed": false
   },
   "outputs": [
    {
     "name": "stdout",
     "output_type": "stream",
     "text": [
      "<class 'pandas.core.frame.DataFrame'>\n",
      "Int64Index: 5 entries, 15 to 19\n",
      "Data columns (total 5 columns):\n",
      "TEAM_NAME      5 non-null object\n",
      "SEASON_YEAR    5 non-null object\n",
      "W_PCT          5 non-null float64\n",
      "FG3M           5 non-null float64\n",
      "FG3A           5 non-null float64\n",
      "dtypes: float64(3), object(2)\n",
      "memory usage: 240.0+ bytes\n"
     ]
    },
    {
     "data": {
      "text/plain": [
       "<matplotlib.text.Text at 0x113235a50>"
      ]
     },
     "execution_count": 33,
     "metadata": {},
     "output_type": "execute_result"
    },
    {
     "data": {
      "image/png": "[encoded data removed]",
      "text/plain": [
       "<matplotlib.figure.Figure at 0x1108a2410>"
      ]
     },
     "metadata": {},
     "output_type": "display_data"
    }
   ],
   "source": [
    "Mavericks = Mavericks.convert_objects(convert_numeric=True)\n",
    "Mavericks.info()\n",
    "X = sorted(Mavericks['FG3M'])\n",
    "y = sorted(Mavericks['W_PCT'] *100)\n",
    "\n",
    "plt.plot(X, y, c=\"skyblue\")\n",
    "plt.xlabel('Mavericks 3-Point FG Made')\n",
    "plt.ylabel('Winning Percentage')"
   ]
  },
  {
   "cell_type": "code",
   "execution_count": 46,
   "metadata": {
    "collapsed": false
   },
   "outputs": [
    {
     "data": {
      "text/plain": [
       "<matplotlib.text.Text at 0x1153ff190>"
      ]
     },
     "execution_count": 46,
     "metadata": {},
     "output_type": "execute_result"
    },
    {
     "data": {
      "image/png": "[encoded data removed]",
      "text/plain": [
       "<matplotlib.figure.Figure at 0x1149b6210>"
      ]
     },
     "metadata": {},
     "output_type": "display_data"
    }
   ],
   "source": [
    "X = sorted(Mavericks['FG3A'])\n",
    "y = sorted(Mavericks['W_PCT'] *100)\n",
    "\n",
    "plt.plot(X, y, c=\"skyblue\")\n",
    "plt.xlabel('Mavericks 3-Point FG Attempts')\n",
    "plt.ylabel('Winning Percentage')"
   ]
  },
  {
   "cell_type": "code",
   "execution_count": 34,
   "metadata": {
    "collapsed": false
   },
   "outputs": [
    {
     "name": "stdout",
     "output_type": "stream",
     "text": [
      "<class 'pandas.core.frame.DataFrame'>\n",
      "Int64Index: 5 entries, 20 to 24\n",
      "Data columns (total 5 columns):\n",
      "TEAM_NAME      5 non-null object\n",
      "SEASON_YEAR    5 non-null object\n",
      "W_PCT          5 non-null float64\n",
      "FG3M           5 non-null float64\n",
      "FG3A           5 non-null float64\n",
      "dtypes: float64(3), object(2)\n",
      "memory usage: 240.0+ bytes\n"
     ]
    },
    {
     "data": {
      "text/plain": [
       "<matplotlib.text.Text at 0x1137968d0>"
      ]
     },
     "execution_count": 34,
     "metadata": {},
     "output_type": "execute_result"
    },
    {
     "data": {
      "image/png": "[encoded data removed]",
      "text/plain": [
       "<matplotlib.figure.Figure at 0x11365a3d0>"
      ]
     },
     "metadata": {},
     "output_type": "display_data"
    }
   ],
   "source": [
    "Clippers = Clippers.convert_objects(convert_numeric=True)\n",
    "Clippers.info()\n",
    "X = sorted(Clippers['FG3M'])\n",
    "y = sorted(Clippers['W_PCT'] *100)\n",
    "\n",
    "plt.plot(X, y, c=\"skyblue\")\n",
    "plt.xlabel('Clippers 3-Point FG Made')\n",
    "plt.ylabel('Winning Percentage')"
   ]
  },
  {
   "cell_type": "code",
   "execution_count": 47,
   "metadata": {
    "collapsed": false
   },
   "outputs": [
    {
     "data": {
      "text/plain": [
       "<matplotlib.text.Text at 0x11548f850>"
      ]
     },
     "execution_count": 47,
     "metadata": {},
     "output_type": "execute_result"
    },
    {
     "data": {
      "image/png": "[encoded data removed]",
      "text/plain": [
       "<matplotlib.figure.Figure at 0x1149b6750>"
      ]
     },
     "metadata": {},
     "output_type": "display_data"
    }
   ],
   "source": [
    "X = sorted(Clippers['FG3A'])\n",
    "y = sorted(Clippers['W_PCT'] *100)\n",
    "\n",
    "plt.plot(X, y, c=\"skyblue\")\n",
    "plt.xlabel('Clippers 3-Point FG Attempts')\n",
    "plt.ylabel('Winning Percentage')"
   ]
  },
  {
   "cell_type": "code",
   "execution_count": 35,
   "metadata": {
    "collapsed": false
   },
   "outputs": [
    {
     "name": "stdout",
     "output_type": "stream",
     "text": [
      "<class 'pandas.core.frame.DataFrame'>\n",
      "Int64Index: 5 entries, 25 to 29\n",
      "Data columns (total 5 columns):\n",
      "TEAM_NAME      5 non-null object\n",
      "SEASON_YEAR    5 non-null object\n",
      "W_PCT          5 non-null float64\n",
      "FG3M           5 non-null float64\n",
      "FG3A           5 non-null float64\n",
      "dtypes: float64(3), object(2)\n",
      "memory usage: 240.0+ bytes\n"
     ]
    },
    {
     "data": {
      "text/plain": [
       "<matplotlib.text.Text at 0x113649f90>"
      ]
     },
     "execution_count": 35,
     "metadata": {},
     "output_type": "execute_result"
    },
    {
     "data": {
      "image/png": "[encoded data removed]",
      "text/plain": [
       "<matplotlib.figure.Figure at 0x1139de4d0>"
      ]
     },
     "metadata": {},
     "output_type": "display_data"
    }
   ],
   "source": [
    "Hawks = Hawks.convert_objects(convert_numeric=True)\n",
    "Hawks.info()\n",
    "X = sorted(Hawks['FG3M'])\n",
    "y = sorted(Hawks['W_PCT'] *100)\n",
    "\n",
    "plt.plot(X, y, c=\"skyblue\")\n",
    "plt.xlabel('Hawks 3-Point FG Made')\n",
    "plt.ylabel('Winning Percentage')"
   ]
  },
  {
   "cell_type": "code",
   "execution_count": 48,
   "metadata": {
    "collapsed": false
   },
   "outputs": [
    {
     "data": {
      "text/plain": [
       "<matplotlib.text.Text at 0x115833590>"
      ]
     },
     "execution_count": 48,
     "metadata": {},
     "output_type": "execute_result"
    },
    {
     "data": {
      "image/png": "[encoded data removed]",
      "text/plain": [
       "<matplotlib.figure.Figure at 0x1149b6710>"
      ]
     },
     "metadata": {},
     "output_type": "display_data"
    }
   ],
   "source": [
    "X = sorted(Hawks['FG3A'])\n",
    "y = sorted(Hawks['W_PCT'] *100)\n",
    "\n",
    "plt.plot(X, y, c=\"skyblue\")\n",
    "plt.xlabel('Hawks 3-Point FG Attempts')\n",
    "plt.ylabel('Winning Percentage')"
   ]
  },
  {
   "cell_type": "code",
   "execution_count": 36,
   "metadata": {
    "collapsed": false
   },
   "outputs": [
    {
     "name": "stdout",
     "output_type": "stream",
     "text": [
      "<class 'pandas.core.frame.DataFrame'>\n",
      "Int64Index: 5 entries, 30 to 34\n",
      "Data columns (total 5 columns):\n",
      "TEAM_NAME      5 non-null object\n",
      "SEASON_YEAR    5 non-null object\n",
      "W_PCT          5 non-null float64\n",
      "FG3M           5 non-null float64\n",
      "FG3A           5 non-null float64\n",
      "dtypes: float64(3), object(2)\n",
      "memory usage: 240.0+ bytes\n"
     ]
    },
    {
     "data": {
      "text/plain": [
       "<matplotlib.text.Text at 0x1139de750>"
      ]
     },
     "execution_count": 36,
     "metadata": {},
     "output_type": "execute_result"
    },
    {
     "data": {
      "image/png": "[encoded data removed]",
      "text/plain": [
       "<matplotlib.figure.Figure at 0x1133b17d0>"
      ]
     },
     "metadata": {},
     "output_type": "display_data"
    }
   ],
   "source": [
    "Bulls = Bulls.convert_objects(convert_numeric=True)\n",
    "Bulls.info()\n",
    "X = sorted(Bulls['FG3M'])\n",
    "y = sorted(Bulls['W_PCT'] *100)\n",
    "\n",
    "plt.plot(X, y, c=\"skyblue\")\n",
    "plt.xlabel('Bulls 3-Point FG Made')\n",
    "plt.ylabel('Winning Percentage')"
   ]
  },
  {
   "cell_type": "code",
   "execution_count": 93,
   "metadata": {
    "collapsed": false
   },
   "outputs": [
    {
     "data": {
      "text/plain": [
       "<matplotlib.text.Text at 0x117849890>"
      ]
     },
     "execution_count": 93,
     "metadata": {},
     "output_type": "execute_result"
    },
    {
     "data": {
      "image/png": "[encoded data removed]",
      "text/plain": [
       "<matplotlib.figure.Figure at 0x1173052d0>"
      ]
     },
     "metadata": {},
     "output_type": "display_data"
    }
   ],
   "source": [
    "X = sorted(Bulls['FG3A'])\n",
    "y = sorted(Bulls['W_PCT'] *100)\n",
    "\n",
    "plt.plot(X, y, c=\"skyblue\")\n",
    "plt.xlabel('Bulls 3-Point FG Attempts')\n",
    "plt.ylabel('Winning Percentage')"
   ]
  },
  {
   "cell_type": "code",
   "execution_count": 37,
   "metadata": {
    "collapsed": false
   },
   "outputs": [
    {
     "name": "stdout",
     "output_type": "stream",
     "text": [
      "<class 'pandas.core.frame.DataFrame'>\n",
      "Int64Index: 5 entries, 35 to 39\n",
      "Data columns (total 5 columns):\n",
      "TEAM_NAME      5 non-null object\n",
      "SEASON_YEAR    5 non-null object\n",
      "W_PCT          5 non-null float64\n",
      "FG3M           5 non-null float64\n",
      "FG3A           5 non-null float64\n",
      "dtypes: float64(3), object(2)\n",
      "memory usage: 240.0+ bytes\n"
     ]
    },
    {
     "data": {
      "text/plain": [
       "<matplotlib.text.Text at 0x113ce4990>"
      ]
     },
     "execution_count": 37,
     "metadata": {},
     "output_type": "execute_result"
    },
    {
     "data": {
      "image/png": "[encoded data removed]",
      "text/plain": [
       "<matplotlib.figure.Figure at 0x113c5d890>"
      ]
     },
     "metadata": {},
     "output_type": "display_data"
    }
   ],
   "source": [
    "Cavaliers = Cavaliers.convert_objects(convert_numeric=True)\n",
    "Cavaliers.info()\n",
    "X = sorted(Cavaliers['FG3M'])\n",
    "y = sorted(Cavaliers['W_PCT'] *100)\n",
    "\n",
    "plt.plot(X, y, c=\"skyblue\")\n",
    "plt.xlabel('Cavaliers 3-Point FG Made')\n",
    "plt.ylabel('Winning Percentage')"
   ]
  },
  {
   "cell_type": "code",
   "execution_count": 91,
   "metadata": {
    "collapsed": false
   },
   "outputs": [
    {
     "data": {
      "text/plain": [
       "<matplotlib.text.Text at 0x11774f3d0>"
      ]
     },
     "execution_count": 91,
     "metadata": {},
     "output_type": "execute_result"
    },
    {
     "data": {
      "image/png": "[encoded data removed]",
      "text/plain": [
       "<matplotlib.figure.Figure at 0x1172d0a90>"
      ]
     },
     "metadata": {},
     "output_type": "display_data"
    }
   ],
   "source": [
    "X = sorted(Cavaliers['FG3A'])\n",
    "y = sorted(Cavaliers['W_PCT'] *100)\n",
    "\n",
    "plt.plot(X, y, c=\"skyblue\")\n",
    "plt.xlabel('Cavaliers 3-Point FG Attempts')\n",
    "plt.ylabel('Winning Percentage')"
   ]
  },
  {
   "cell_type": "code",
   "execution_count": 38,
   "metadata": {
    "collapsed": false
   },
   "outputs": [
    {
     "name": "stdout",
     "output_type": "stream",
     "text": [
      "<class 'pandas.core.frame.DataFrame'>\n",
      "Int64Index: 5 entries, 40 to 44\n",
      "Data columns (total 5 columns):\n",
      "TEAM_NAME      5 non-null object\n",
      "SEASON_YEAR    5 non-null object\n",
      "W_PCT          5 non-null float64\n",
      "FG3M           5 non-null float64\n",
      "FG3A           5 non-null float64\n",
      "dtypes: float64(3), object(2)\n",
      "memory usage: 240.0+ bytes\n"
     ]
    },
    {
     "data": {
      "text/plain": [
       "<matplotlib.text.Text at 0x113ce4490>"
      ]
     },
     "execution_count": 38,
     "metadata": {},
     "output_type": "execute_result"
    },
    {
     "data": {
      "image/png": "[encoded data removed]",
      "text/plain": [
       "<matplotlib.figure.Figure at 0x113f42890>"
      ]
     },
     "metadata": {},
     "output_type": "display_data"
    }
   ],
   "source": [
    "Heat = Heat.convert_objects(convert_numeric=True)\n",
    "Heat.info()\n",
    "X = sorted(Heat['FG3M'])\n",
    "y = sorted(Heat['W_PCT'] *100)\n",
    "\n",
    "plt.plot(X, y, c=\"skyblue\")\n",
    "plt.xlabel('Heat 3-Point FG Made')\n",
    "plt.ylabel('Winning Percentage')"
   ]
  },
  {
   "cell_type": "code",
   "execution_count": 94,
   "metadata": {
    "collapsed": false
   },
   "outputs": [
    {
     "data": {
      "text/plain": [
       "<matplotlib.text.Text at 0x117ac6b90>"
      ]
     },
     "execution_count": 94,
     "metadata": {},
     "output_type": "execute_result"
    },
    {
     "data": {
      "image/png": "[encoded data removed]",
      "text/plain": [
       "<matplotlib.figure.Figure at 0x115e09c90>"
      ]
     },
     "metadata": {},
     "output_type": "display_data"
    }
   ],
   "source": [
    "X = sorted(Heat['FG3A'])\n",
    "y = sorted(Heat['W_PCT'] *100)\n",
    "\n",
    "plt.plot(X, y, c=\"skyblue\")\n",
    "plt.xlabel('Heat 3-Point FG Attempts')\n",
    "plt.ylabel('Winning Percentage')"
   ]
  },
  {
   "cell_type": "code",
   "execution_count": 39,
   "metadata": {
    "collapsed": false
   },
   "outputs": [
    {
     "name": "stdout",
     "output_type": "stream",
     "text": [
      "<class 'pandas.core.frame.DataFrame'>\n",
      "Int64Index: 5 entries, 45 to 49\n",
      "Data columns (total 5 columns):\n",
      "TEAM_NAME      5 non-null object\n",
      "SEASON_YEAR    5 non-null object\n",
      "W_PCT          5 non-null float64\n",
      "FG3M           5 non-null float64\n",
      "FG3A           5 non-null float64\n",
      "dtypes: float64(3), object(2)\n",
      "memory usage: 240.0+ bytes\n"
     ]
    },
    {
     "data": {
      "text/plain": [
       "<matplotlib.text.Text at 0x113f5e990>"
      ]
     },
     "execution_count": 39,
     "metadata": {},
     "output_type": "execute_result"
    },
    {
     "data": {
      "image/png": "[encoded data removed]",
      "text/plain": [
       "<matplotlib.figure.Figure at 0x113ffd7d0>"
      ]
     },
     "metadata": {},
     "output_type": "display_data"
    }
   ],
   "source": [
    "Wizards = Wizards.convert_objects(convert_numeric=True)\n",
    "Wizards.info()\n",
    "X = sorted(Wizards['FG3M'])\n",
    "y = sorted(Wizards['W_PCT'] *100)\n",
    "\n",
    "plt.plot(X, y, c=\"skyblue\")\n",
    "plt.xlabel('Wizards 3-Point FG Made')\n",
    "plt.ylabel('Winning Percentage')"
   ]
  },
  {
   "cell_type": "code",
   "execution_count": 95,
   "metadata": {
    "collapsed": false
   },
   "outputs": [
    {
     "data": {
      "text/plain": [
       "<matplotlib.text.Text at 0x1178b29d0>"
      ]
     },
     "execution_count": 95,
     "metadata": {},
     "output_type": "execute_result"
    },
    {
     "data": {
      "image/png": "[encoded data removed]",
      "text/plain": [
       "<matplotlib.figure.Figure at 0x115e09810>"
      ]
     },
     "metadata": {},
     "output_type": "display_data"
    }
   ],
   "source": [
    "X = sorted(Wizards['FG3A'])\n",
    "y = sorted(Wizards['W_PCT'] *100)\n",
    "\n",
    "plt.plot(X, y, c=\"skyblue\")\n",
    "plt.xlabel('Wizards 3-Point FG Attempts')\n",
    "plt.ylabel('Winning Percentage')"
   ]
  },
  {
   "cell_type": "code",
   "execution_count": 121,
   "metadata": {
    "collapsed": false
   },
   "outputs": [
    {
     "name": "stdout",
     "output_type": "stream",
     "text": [
      "                            OLS Regression Results                            \n",
      "==============================================================================\n",
      "Dep. Variable:                      y   R-squared:                       0.999\n",
      "Model:                            OLS   Adj. R-squared:                  0.998\n",
      "Method:                 Least Squares   F-statistic:                     3278.\n",
      "Date:                Sun, 26 Apr 2015   Prob (F-statistic):           5.57e-07\n",
      "Time:                        22:57:29   Log-Likelihood:                -11.758\n",
      "No. Observations:                   5   AIC:                             25.52\n",
      "Df Residuals:                       4   BIC:                             25.13\n",
      "Df Model:                           1                                         \n",
      "==============================================================================\n",
      "                 coef    std err          t      P>|t|      [95.0% Conf. Int.]\n",
      "------------------------------------------------------------------------------\n",
      "x1             3.3736      0.059     57.254      0.000         3.210     3.537\n",
      "==============================================================================\n",
      "Omnibus:                          nan   Durbin-Watson:                   0.950\n",
      "Prob(Omnibus):                    nan   Jarque-Bera (JB):                0.367\n",
      "Skew:                          -0.348   Prob(JB):                        0.832\n",
      "Kurtosis:                       1.871   Cond. No.                         1.00\n",
      "==============================================================================\n",
      "Confidence Intervals: [[ 3.20997962  3.5371735 ]]\n",
      "Parameters: [ 3.37357656]\n"
     ]
    }
   ],
   "source": [
    "X = sorted(Spurs['FG3A'])\n",
    "y = sorted(Spurs['W_PCT'] *100)\n",
    "\n",
    "\n",
    "model = sm.OLS(y, X)\n",
    "results = model.fit()\n",
    "print results.summary()\n",
    "print \"Confidence Intervals:\", results.conf_int()\n",
    "print \"Parameters:\", results.params"
   ]
  },
  {
   "cell_type": "code",
   "execution_count": 123,
   "metadata": {
    "collapsed": false
   },
   "outputs": [
    {
     "name": "stdout",
     "output_type": "stream",
     "text": [
      "(3,) (3,)\n",
      "(2,) (2,)\n"
     ]
    },
    {
     "data": {
      "image/png": "[encoded data removed]",
      "text/plain": [
       "<matplotlib.figure.Figure at 0x1185a6910>"
      ]
     },
     "metadata": {},
     "output_type": "display_data"
    }
   ],
   "source": []
  },
  {
   "cell_type": "code",
   "execution_count": 127,
   "metadata": {
    "collapsed": false
   },
   "outputs": [
    {
     "data": {
      "image/png": "[encoded data removed]",
      "text/plain": [
       "<matplotlib.figure.Figure at 0x11933ad10>"
      ]
     },
     "metadata": {},
     "output_type": "display_data"
    }
   ],
   "source": []
  },
  {
   "cell_type": "code",
   "execution_count": 128,
   "metadata": {
    "collapsed": false
   },
   "outputs": [
    {
     "name": "stdout",
     "output_type": "stream",
     "text": [
      "[ 21.3  21.1  21.4]\n",
      "[ 21.3  21.1  21.4]\n",
      "[ 21.3  21.1  21.4]\n",
      "[ 21.3  21.1  21.4]\n",
      "[ 21.3  21.1  21.4]\n",
      "[ 21.3  21.1  21.4]\n",
      "[ 21.3  21.1  21.4]\n",
      "[ 21.3  21.1  21.4]\n"
     ]
    },
    {
     "data": {
      "image/png": "[encoded data removed]",
      "text/plain": [
       "<matplotlib.figure.Figure at 0x119307650>"
      ]
     },
     "metadata": {},
     "output_type": "display_data"
    }
   ],
   "source": []
  },
  {
   "cell_type": "code",
   "execution_count": 119,
   "metadata": {
    "collapsed": false
   },
   "outputs": [
    {
     "name": "stdout",
     "output_type": "stream",
     "text": [
      "[[ 78.]\n",
      " [ 83.]\n",
      " [ 82.]\n",
      " [ 85.]\n",
      " [ 75.]\n",
      " [ 79.]\n",
      " [ 81.]\n",
      " [ 82.]\n",
      " [ 79.]\n",
      " [ 79.]\n",
      " [ 79.]\n",
      " [ 75.]\n",
      " [ 73.]\n",
      " [ 85.]\n",
      " [ 77.]\n",
      " [ 83.]\n",
      " [ 79.]\n",
      " [ 81.]\n",
      " [ 83.]\n",
      " [ 76.]\n",
      " [ 81.]\n",
      " [ 72.]\n",
      " [ 83.]\n",
      " [ 84.]\n",
      " [ 75.]\n",
      " [ 73.]\n",
      " [ 81.]\n",
      " [ 77.]\n",
      " [ 80.]\n",
      " [ 83.]\n",
      " [ 79.]\n",
      " [ 75.]\n",
      " [ 78.]\n",
      " [ 84.]\n",
      " [ 81.]\n",
      " [ 76.]\n",
      " [ 79.]\n",
      " [ 76.]\n",
      " [ 83.]\n",
      " [ 75.]\n",
      " [ 75.]\n",
      " [ 80.]\n",
      " [ 80.]\n",
      " [ 77.]\n",
      " [ 80.]]\n"
     ]
    }
   ],
   "source": []
  },
  {
   "cell_type": "code",
   "execution_count": 118,
   "metadata": {
    "collapsed": false
   },
   "outputs": [
    {
     "name": "stdout",
     "output_type": "stream",
     "text": [
      "('Training error: ', 71.63601003504148)\n",
      "('Test     error: ', 33.992479522037165)\n",
      "('Training score: ', 0.15237903284714027)\n",
      "('Test     score: ', 0.47273630483146867)\n"
     ]
    }
   ],
   "source": []
  },
  {
   "cell_type": "code",
   "execution_count": null,
   "metadata": {
    "collapsed": true
   },
   "outputs": [],
   "source": []
  },
  {
   "cell_type": "code",
   "execution_count": null,
   "metadata": {
    "collapsed": true
   },
   "outputs": [],
   "source": []
  },
  {
   "cell_type": "code",
   "execution_count": null,
   "metadata": {
    "collapsed": true
   },
   "outputs": [],
   "source": []
  },
  {
   "cell_type": "code",
   "execution_count": null,
   "metadata": {
    "collapsed": true
   },
   "outputs": [],
   "source": []
  },
  {
   "cell_type": "code",
   "execution_count": null,
   "metadata": {
    "collapsed": true
   },
   "outputs": [],
   "source": [
    "# Code for setting the style of the notebook\n",
    "from IPython.core.display import HTML\n",
    "def css_styling():\n",
    "    styles = open(\"../../theme/custom.css\", \"r\").read()\n",
    "    return HTML(styles)\n",
    "css_styling()"
   ]
  }
 ],
 "metadata": {
  "kernelspec": {
   "display_name": "Python 2",
   "language": "python",
   "name": "python2"
  },
  "language_info": {
   "codemirror_mode": {
    "name": "ipython",
    "version": 2
   },
   "file_extension": ".py",
   "mimetype": "text/x-python",
   "name": "python",
   "nbconvert_exporter": "python",
   "pygments_lexer": "ipython2",
   "version": "2.7.9"
  }
 },
 "nbformat": 4,
 "nbformat_minor": 0
}
