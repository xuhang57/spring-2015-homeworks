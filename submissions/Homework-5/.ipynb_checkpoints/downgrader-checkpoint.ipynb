{
 "cells": [
  {
   "cell_type": "code",
   "execution_count": 3,
   "metadata": {
    "collapsed": true
   },
   "outputs": [],
   "source": [
    "import json\n",
    "from collections import namedtuple\n",
    "import re\n",
    "\n",
    "def cell_downgrade(cell, language):\n",
    "    \"Attempts to convert a dev 3 cell to version 2.3\"\n",
    "    d_graded = {} # create downgraded cell dictionary\n",
    "    source = cell['source']\n",
    "    if cell['cell_type'] != \"code\":\n",
    "        # Check to see if it should be a heading\n",
    "        if cell['cell_type'] == \"markdown\":\n",
    "            try:\n",
    "                pat = re.compile('#+')\n",
    "                line = source[0]\n",
    "                result = pat.match(line)\n",
    "                if result != None:\n",
    "                    level = result.span()[1]\n",
    "                    line = line[level:]\n",
    "                    line = line.strip()\n",
    "                    if len(source)==1:\n",
    "                        d_graded['cell_type'] = \"heading\"\n",
    "                        d_graded['level'] = level\n",
    "                        source[0] = line\n",
    "                        d_graded['metadata'] = {}\n",
    "                    else:\n",
    "                        d_graded['cell_type'] = \"markdown\"\n",
    "                else:\n",
    "                    d_graded['cell_type'] = \"markdown\"\n",
    "            except:\n",
    "                d_graded['cell_type'] = \"markdown\"\n",
    "        else:\n",
    "            d_graded['cell_type'] = cell['cell_type']\n",
    "        d_graded['source'] = source\n",
    "    else:\n",
    "        d_graded['cell_type'] = \"code\"\n",
    "        d_graded['input'] = source\n",
    "        d_graded['language'] = language    \n",
    "    outputs = []\n",
    "    try:\n",
    "        for output in cell['outputs']:\n",
    "            out_dict = {}\n",
    "            for key, item in output.items():\n",
    "                if key == 'name':\n",
    "                    out_dict['stream'] = item\n",
    "                else:\n",
    "                    out_dict[key] = item\n",
    "            outputs.append(out_dict)\n",
    "        d_graded['outputs'] = outputs\n",
    "    except:\n",
    "        pass\n",
    "    try:\n",
    "        if cell['execution_count'] != None:\n",
    "            prompt = cell['execution_count'] \n",
    "            d_graded['prompt_number'] = prompt\n",
    "    except:\n",
    "        pass\n",
    "    # Convert cell metadata\n",
    "    try:\n",
    "        m_data = {}\n",
    "        for key, item in cell['metadata'].items():\n",
    "            if key == 'collapsed':\n",
    "                # Headings do not have a value for 'collapsed' \n",
    "                if d_graded['cell_type'] != \"heading\":\n",
    "                    d_graded[key] = item\n",
    "                continue\n",
    "            else:\n",
    "                m_data[key] = item\n",
    "        d_graded['metadata'] = m_data\n",
    "    except:\n",
    "        print(\"Error with cell metadata:\")\n",
    "        key = 'metadata'\n",
    "        m_data = cell.__getitem__(key) if cell.__contains__(key) else None\n",
    "        print(m_data)\n",
    "        pass\n",
    "    return d_graded\n",
    "\n",
    "def meta_downgrade(metadata):\n",
    "    d_meta = {}\n",
    "#     d_meta['signature'] = metadata['signature']\n",
    "    try:\n",
    "        d_meta['celltoolbar'] = metadata['celltoolbar']\n",
    "    except:\n",
    "        pass\n",
    "    d_meta['name'] = ''\n",
    "    \n",
    "    language = metadata['language_info']['name']\n",
    "    Meta = namedtuple('Meta','metadata language')\n",
    "    output = Meta(d_meta,language)\n",
    "    return output\n",
    "\n",
    "def downgrade(notebook):\n",
    "    d_grade = {}\n",
    "    d_grade['nbformat'] = 3\n",
    "    d_grade['nbformat_minor'] = notebook['nbformat_minor']\n",
    "    m_d_grade = meta_downgrade(notebook['metadata'])\n",
    "    d_grade['metadata'] = m_d_grade.metadata\n",
    "    language = m_d_grade.language\n",
    "    cells = []\n",
    "    for cell in notebook['cells']:\n",
    "        d_cell = cell_downgrade(cell,language)\n",
    "        cells.append(d_cell)\n",
    "    d_grade['worksheets'] = [{'cells':cells, 'metadata':{}}]\n",
    "    \n",
    "    return d_grade\n",
    "\n",
    "def convert2old(filename):\n",
    "    \"Trys to convert a Dev 3 version of an IPython Notebook to version 2.3\"\n",
    "    with open(filename,'r') as f:\n",
    "        json_data = json.load(f)\n",
    "    d_graded = downgrade(json_data)\n",
    "    name = filename.strip('.ipynb')\n",
    "    outputname = name + \"_downgraded.ipynb\"\n",
    "#     print(pr.pformat(d_graded))\n",
    "    with open(outputname,'w') as f:\n",
    "        json.dump(d_graded, f, indent=1, sort_keys=True)\n",
    "    print(\"Downgrade complete.\")"
   ]
  },
  {
   "cell_type": "code",
   "execution_count": 4,
   "metadata": {
    "collapsed": false
   },
   "outputs": [
    {
     "name": "stdout",
     "output_type": "stream",
     "text": [
      "Downgrade complete.\n"
     ]
    }
   ],
   "source": [
    "convert2old(\"5.Hotels.ipynb\")"
   ]
  },
  {
   "cell_type": "code",
   "execution_count": null,
   "metadata": {
    "collapsed": true
   },
   "outputs": [],
   "source": []
  }
 ],
 "metadata": {
  "kernelspec": {
   "display_name": "Python 2",
   "language": "python",
   "name": "python2"
  },
  "language_info": {
   "codemirror_mode": {
    "name": "ipython",
    "version": 2
   },
   "file_extension": ".py",
   "mimetype": "text/x-python",
   "name": "python",
   "nbconvert_exporter": "python",
   "pygments_lexer": "ipython2",
   "version": "2.7.9"
  }
 },
 "nbformat": 4,
 "nbformat_minor": 0
}
