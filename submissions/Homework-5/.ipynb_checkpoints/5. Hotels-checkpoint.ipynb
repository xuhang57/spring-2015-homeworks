{
 "cells": [
  {
   "cell_type": "markdown",
   "metadata": {},
   "source": [
    "(In order to load the stylesheet of this notebook, execute the last code cell in this notebook)"
   ]
  },
  {
   "cell_type": "markdown",
   "metadata": {},
   "source": [
    "# Analyzing hotel ratings on Tripadvisor"
   ]
  },
  {
   "cell_type": "markdown",
   "metadata": {},
   "source": [
    "In this homework we will focus on practicing two techniques: web scraping and regression. For the first part, we will build upon the sample code from the Lecture and attempt to get some basic information for each hotel. Then, we will fit a regression model on this information and try to analyze it.   "
   ]
  },
  {
   "cell_type": "markdown",
   "metadata": {},
   "source": [
    "One of the main disadvantages of scraping a website instead of using an API is that, without any notice, the website may change its layout and render our code useless. Something like that happened in our case. Tripadvisor changed the layout of the buttons that we use to navigate between the different pages of the results. This was the main reason people were having problem with executing the code."
   ]
  },
  {
   "cell_type": "markdown",
   "metadata": {},
   "source": [
    "**Task 1 (20 pts)**\n",
    "\n",
    "The first task of the homework is to fix the scraping code. We basically need to replace the part where we are checking if there is another page and getting its link with new code that reflects the new navigation layout. "
   ]
  },
  {
   "cell_type": "markdown",
   "metadata": {},
   "source": [
    "** Task 2 (30 pts)**\n",
    "\n",
    "Then, for each hotel that our search returns, we will \"click\" (with the code of course) on it and scrape the information below.\n",
    "\n",
    "![Information to be scraped](hotel_info.png)\n",
    "\n",
    "Of course, feel free to collect even more data if you want. "
   ]
  },
  {
   "cell_type": "markdown",
   "metadata": {},
   "source": [
    "** Task 3 (20 pts) **\n",
    "\n",
    "Now, we will use regression to analyze this information. First, we will fit a linear regression model that predicts the average rating. For example, for the hotel above, the average rating is\n",
    "\n",
    "$$ \\text{AVG_SCORE} = \\frac{1*31 + 2*33 + 3*98 + 4*504 + 5*1861}{2527}$$\n",
    "\n",
    "Use the model to analyze the important factors that decide the $\\text{AVG_SCORE}$."
   ]
  },
  {
   "cell_type": "markdown",
   "metadata": {},
   "source": [
    "** Task 4 (30 pts) **\n",
    "\n",
    "Finally, we will use logistic regression to decide if a hotel is _excellent_ or not. We classify a hotel as _excellent_ if more than **60%** of its ratings are 5 stars. This is a binary attribute on which we can fit a logistic regression model. As before, use the model to analyze the data.\n",
    "\n",
    "-------"
   ]
  },
  {
   "cell_type": "markdown",
   "metadata": {},
   "source": [
    "In order to use code from a Python script file, we need to put that file in the same folder as the notebook and import it as a library. Then, we will be able to access it's functions. For example, in the case of the lecture code, we could do the following:\n",
    "\n",
    "``` python\n",
    "import scrape_solution as scrape\n",
    "\n",
    "scrape.get_city_page()\n",
    "```\n",
    "\n",
    "Of course, you might need to modify and restructure the code so that it returns what you need."
   ]
  },
  {
   "cell_type": "markdown",
   "metadata": {},
   "source": [
    "----"
   ]
  },
  {
   "cell_type": "code",
   "execution_count": 1,
   "metadata": {
    "collapsed": false
   },
   "outputs": [],
   "source": [
    "import scrape_solution as scrape"
   ]
  },
  {
   "cell_type": "markdown",
   "metadata": {},
   "source": [
    "To run the script using Boston as the inquery city."
   ]
  },
  {
   "cell_type": "code",
   "execution_count": 2,
   "metadata": {
    "collapsed": false
   },
   "outputs": [],
   "source": [
    "# scrape.scrape_hotels('MA', 'Boston')"
   ]
  },
  {
   "cell_type": "code",
   "execution_count": 3,
   "metadata": {
    "collapsed": false
   },
   "outputs": [
    {
     "name": "stderr",
     "output_type": "stream",
     "text": [
      "/Users/Lucas/Library/Enthought/Canopy_64bit/User/lib/python2.7/site-packages/pytz/__init__.py:29: UserWarning: Module argparse was already imported from /Users/Lucas/anaconda/lib/python2.7/argparse.pyc, but /Users/Lucas/anaconda/lib/python2.7/site-packages is being added to sys.path\n",
      "  from pkg_resources import resource_stream\n"
     ]
    }
   ],
   "source": [
    "import time\n",
    "\n",
    "import numpy as np\n",
    "import matplotlib.pyplot as plt\n",
    "import pandas as pd\n",
    "\n",
    "import scipy as sp\n",
    "import scipy.sparse.linalg as linalg\n",
    "import scipy.cluster.hierarchy as hr\n",
    "from scipy.spatial.distance import pdist, squareform\n",
    "\n",
    "import sklearn.datasets as datasets\n",
    "import sklearn.metrics as metrics\n",
    "import sklearn.utils as utils\n",
    "import sklearn.linear_model as linear_model\n",
    "import sklearn.cross_validation as cross_validation\n",
    "import sklearn.cluster as cluster\n",
    "from sklearn.neighbors import KNeighborsClassifier\n",
    "from sklearn.decomposition import TruncatedSVD\n",
    "from sklearn.preprocessing import StandardScaler\n",
    "\n",
    "import statsmodels.api as sm\n",
    "\n",
    "from patsy import dmatrices\n",
    "\n",
    "import seaborn as sns\n",
    "%matplotlib inline"
   ]
  },
  {
   "cell_type": "markdown",
   "metadata": {},
   "source": [
    "Import the result output file from the python program"
   ]
  },
  {
   "cell_type": "code",
   "execution_count": 4,
   "metadata": {
    "collapsed": false
   },
   "outputs": [],
   "source": [
    "df = pd.read_csv('hotel.csv')"
   ]
  },
  {
   "cell_type": "code",
   "execution_count": 5,
   "metadata": {
    "collapsed": false
   },
   "outputs": [
    {
     "name": "stdout",
     "output_type": "stream",
     "text": [
      "<class 'pandas.core.frame.DataFrame'>\n",
      "Int64Index: 77 entries, 0 to 76\n",
      "Data columns (total 17 columns):\n",
      "STAR             77 non-null float64\n",
      "TOTAL_REV        77 non-null int64\n",
      "EXCELLENT        77 non-null int64\n",
      "VERY_GOOD        77 non-null int64\n",
      "AVERAGE          77 non-null int64\n",
      "POOR             77 non-null int64\n",
      "TERRIBLE         77 non-null int64\n",
      "FAMILIES         77 non-null int64\n",
      "COUPLES          77 non-null int64\n",
      "SOLO             77 non-null int64\n",
      "BUSINESS         77 non-null int64\n",
      "LOCATION         77 non-null float64\n",
      "SLEEP_QUALITY    77 non-null float64\n",
      "ROOM             77 non-null float64\n",
      "SERVICE          77 non-null float64\n",
      "VALUE            77 non-null float64\n",
      "CLEANLINESS      77 non-null float64\n",
      "dtypes: float64(7), int64(10)\n",
      "memory usage: 10.8 KB\n"
     ]
    }
   ],
   "source": [
    "df.info()"
   ]
  },
  {
   "cell_type": "markdown",
   "metadata": {},
   "source": [
    "Calculate the total SCORE = STAR (avg_score) * TOTAL_NUMBER_REVIEWS"
   ]
  },
  {
   "cell_type": "code",
   "execution_count": 6,
   "metadata": {
    "collapsed": false
   },
   "outputs": [],
   "source": [
    "df['SCORE'] = df['STAR'] * df['TOTAL_REV']"
   ]
  },
  {
   "cell_type": "code",
   "execution_count": 7,
   "metadata": {
    "collapsed": false
   },
   "outputs": [
    {
     "name": "stdout",
     "output_type": "stream",
     "text": [
      "<class 'pandas.core.frame.DataFrame'>\n",
      "Int64Index: 77 entries, 0 to 76\n",
      "Data columns (total 18 columns):\n",
      "STAR             77 non-null float64\n",
      "TOTAL_REV        77 non-null int64\n",
      "EXCELLENT        77 non-null int64\n",
      "VERY_GOOD        77 non-null int64\n",
      "AVERAGE          77 non-null int64\n",
      "POOR             77 non-null int64\n",
      "TERRIBLE         77 non-null int64\n",
      "FAMILIES         77 non-null int64\n",
      "COUPLES          77 non-null int64\n",
      "SOLO             77 non-null int64\n",
      "BUSINESS         77 non-null int64\n",
      "LOCATION         77 non-null float64\n",
      "SLEEP_QUALITY    77 non-null float64\n",
      "ROOM             77 non-null float64\n",
      "SERVICE          77 non-null float64\n",
      "VALUE            77 non-null float64\n",
      "CLEANLINESS      77 non-null float64\n",
      "SCORE            77 non-null float64\n",
      "dtypes: float64(8), int64(10)\n",
      "memory usage: 11.4 KB\n"
     ]
    }
   ],
   "source": [
    "df.info()"
   ]
  },
  {
   "cell_type": "markdown",
   "metadata": {},
   "source": [
    "Normalize/Standardize the dataset for each character (column)"
   ]
  },
  {
   "cell_type": "code",
   "execution_count": 8,
   "metadata": {
    "collapsed": false
   },
   "outputs": [
    {
     "name": "stdout",
     "output_type": "stream",
     "text": [
      "<class 'pandas.core.frame.DataFrame'>\n",
      "Int64Index: 77 entries, 0 to 76\n",
      "Data columns (total 18 columns):\n",
      "STAR             77 non-null float64\n",
      "TOTAL_REV        77 non-null float64\n",
      "EXCELLENT        77 non-null float64\n",
      "VERY_GOOD        77 non-null float64\n",
      "AVERAGE          77 non-null float64\n",
      "POOR             77 non-null float64\n",
      "TERRIBLE         77 non-null float64\n",
      "FAMILIES         77 non-null float64\n",
      "COUPLES          77 non-null float64\n",
      "SOLO             77 non-null float64\n",
      "BUSINESS         77 non-null float64\n",
      "LOCATION         77 non-null float64\n",
      "SLEEP_QUALITY    77 non-null float64\n",
      "ROOM             77 non-null float64\n",
      "SERVICE          77 non-null float64\n",
      "VALUE            77 non-null float64\n",
      "CLEANLINESS      77 non-null float64\n",
      "SCORE            77 non-null float64\n",
      "dtypes: float64(18)\n",
      "memory usage: 11.4 KB\n"
     ]
    }
   ],
   "source": [
    "df_norm = (df - df.mean()) / (df.max() - df.min())\n",
    "\n",
    "df_norm.info()"
   ]
  },
  {
   "cell_type": "code",
   "execution_count": 9,
   "metadata": {
    "collapsed": false
   },
   "outputs": [
    {
     "data": {
      "text/html": [
       "<div style=\"max-height:1000px;max-width:1500px;overflow:auto;\">\n",
       "<table border=\"1\" class=\"dataframe\">\n",
       "  <thead>\n",
       "    <tr style=\"text-align: right;\">\n",
       "      <th></th>\n",
       "      <th>STAR</th>\n",
       "      <th>TOTAL_REV</th>\n",
       "      <th>EXCELLENT</th>\n",
       "      <th>VERY_GOOD</th>\n",
       "      <th>AVERAGE</th>\n",
       "      <th>POOR</th>\n",
       "      <th>TERRIBLE</th>\n",
       "      <th>FAMILIES</th>\n",
       "      <th>COUPLES</th>\n",
       "      <th>SOLO</th>\n",
       "      <th>BUSINESS</th>\n",
       "      <th>LOCATION</th>\n",
       "      <th>SLEEP_QUALITY</th>\n",
       "      <th>ROOM</th>\n",
       "      <th>SERVICE</th>\n",
       "      <th>VALUE</th>\n",
       "      <th>CLEANLINESS</th>\n",
       "      <th>SCORE</th>\n",
       "    </tr>\n",
       "  </thead>\n",
       "  <tbody>\n",
       "    <tr>\n",
       "      <th>0</th>\n",
       "      <td> 4.5</td>\n",
       "      <td> 2540</td>\n",
       "      <td> 1872</td>\n",
       "      <td> 506</td>\n",
       "      <td>  98</td>\n",
       "      <td> 33</td>\n",
       "      <td> 31</td>\n",
       "      <td> 461</td>\n",
       "      <td> 550</td>\n",
       "      <td> 108</td>\n",
       "      <td> 1104</td>\n",
       "      <td> 4.5</td>\n",
       "      <td> 4.5</td>\n",
       "      <td> 4.5</td>\n",
       "      <td> 4.5</td>\n",
       "      <td> 4.5</td>\n",
       "      <td> 5.0</td>\n",
       "      <td> 11430.0</td>\n",
       "    </tr>\n",
       "    <tr>\n",
       "      <th>1</th>\n",
       "      <td> 4.0</td>\n",
       "      <td> 1167</td>\n",
       "      <td>  479</td>\n",
       "      <td> 424</td>\n",
       "      <td> 164</td>\n",
       "      <td> 67</td>\n",
       "      <td> 33</td>\n",
       "      <td> 239</td>\n",
       "      <td> 335</td>\n",
       "      <td> 105</td>\n",
       "      <td>  326</td>\n",
       "      <td> 4.5</td>\n",
       "      <td> 4.0</td>\n",
       "      <td> 4.0</td>\n",
       "      <td> 4.5</td>\n",
       "      <td> 4.0</td>\n",
       "      <td> 4.5</td>\n",
       "      <td>  4668.0</td>\n",
       "    </tr>\n",
       "    <tr>\n",
       "      <th>2</th>\n",
       "      <td> 4.5</td>\n",
       "      <td> 2937</td>\n",
       "      <td> 2365</td>\n",
       "      <td> 439</td>\n",
       "      <td>  81</td>\n",
       "      <td> 39</td>\n",
       "      <td> 13</td>\n",
       "      <td> 910</td>\n",
       "      <td> 851</td>\n",
       "      <td> 146</td>\n",
       "      <td>  585</td>\n",
       "      <td> 5.0</td>\n",
       "      <td> 5.0</td>\n",
       "      <td> 5.0</td>\n",
       "      <td> 5.0</td>\n",
       "      <td> 4.5</td>\n",
       "      <td> 5.0</td>\n",
       "      <td> 13216.5</td>\n",
       "    </tr>\n",
       "    <tr>\n",
       "      <th>3</th>\n",
       "      <td> 4.5</td>\n",
       "      <td> 1248</td>\n",
       "      <td>  990</td>\n",
       "      <td> 189</td>\n",
       "      <td>  43</td>\n",
       "      <td> 15</td>\n",
       "      <td> 11</td>\n",
       "      <td> 284</td>\n",
       "      <td> 461</td>\n",
       "      <td>  55</td>\n",
       "      <td>  255</td>\n",
       "      <td> 5.0</td>\n",
       "      <td> 4.5</td>\n",
       "      <td> 4.5</td>\n",
       "      <td> 5.0</td>\n",
       "      <td> 4.5</td>\n",
       "      <td> 5.0</td>\n",
       "      <td>  5616.0</td>\n",
       "    </tr>\n",
       "    <tr>\n",
       "      <th>4</th>\n",
       "      <td> 4.5</td>\n",
       "      <td>  354</td>\n",
       "      <td>  244</td>\n",
       "      <td>  81</td>\n",
       "      <td>  21</td>\n",
       "      <td>  7</td>\n",
       "      <td>  1</td>\n",
       "      <td> 102</td>\n",
       "      <td> 101</td>\n",
       "      <td>  28</td>\n",
       "      <td>   62</td>\n",
       "      <td> 4.5</td>\n",
       "      <td> 4.0</td>\n",
       "      <td> 4.5</td>\n",
       "      <td> 4.5</td>\n",
       "      <td> 4.5</td>\n",
       "      <td> 5.0</td>\n",
       "      <td>  1593.0</td>\n",
       "    </tr>\n",
       "    <tr>\n",
       "      <th>5</th>\n",
       "      <td> 4.5</td>\n",
       "      <td> 1943</td>\n",
       "      <td> 1091</td>\n",
       "      <td> 615</td>\n",
       "      <td> 181</td>\n",
       "      <td> 39</td>\n",
       "      <td> 17</td>\n",
       "      <td> 445</td>\n",
       "      <td> 621</td>\n",
       "      <td>  78</td>\n",
       "      <td>  297</td>\n",
       "      <td> 4.5</td>\n",
       "      <td> 4.5</td>\n",
       "      <td> 4.5</td>\n",
       "      <td> 4.5</td>\n",
       "      <td> 4.0</td>\n",
       "      <td> 4.5</td>\n",
       "      <td>  8743.5</td>\n",
       "    </tr>\n",
       "    <tr>\n",
       "      <th>6</th>\n",
       "      <td> 4.5</td>\n",
       "      <td> 2561</td>\n",
       "      <td> 1880</td>\n",
       "      <td> 509</td>\n",
       "      <td> 107</td>\n",
       "      <td> 45</td>\n",
       "      <td> 20</td>\n",
       "      <td> 630</td>\n",
       "      <td> 986</td>\n",
       "      <td> 143</td>\n",
       "      <td>  381</td>\n",
       "      <td> 5.0</td>\n",
       "      <td> 4.5</td>\n",
       "      <td> 4.5</td>\n",
       "      <td> 5.0</td>\n",
       "      <td> 4.5</td>\n",
       "      <td> 5.0</td>\n",
       "      <td> 11524.5</td>\n",
       "    </tr>\n",
       "    <tr>\n",
       "      <th>7</th>\n",
       "      <td> 4.5</td>\n",
       "      <td> 1824</td>\n",
       "      <td> 1175</td>\n",
       "      <td> 496</td>\n",
       "      <td> 104</td>\n",
       "      <td> 30</td>\n",
       "      <td> 19</td>\n",
       "      <td> 328</td>\n",
       "      <td> 829</td>\n",
       "      <td> 117</td>\n",
       "      <td>  322</td>\n",
       "      <td> 5.0</td>\n",
       "      <td> 4.5</td>\n",
       "      <td> 4.5</td>\n",
       "      <td> 4.5</td>\n",
       "      <td> 4.0</td>\n",
       "      <td> 4.5</td>\n",
       "      <td>  8208.0</td>\n",
       "    </tr>\n",
       "    <tr>\n",
       "      <th>8</th>\n",
       "      <td> 4.5</td>\n",
       "      <td>  961</td>\n",
       "      <td>  625</td>\n",
       "      <td> 274</td>\n",
       "      <td>  43</td>\n",
       "      <td>  8</td>\n",
       "      <td> 11</td>\n",
       "      <td> 229</td>\n",
       "      <td> 222</td>\n",
       "      <td>  70</td>\n",
       "      <td>  297</td>\n",
       "      <td> 5.0</td>\n",
       "      <td> 4.5</td>\n",
       "      <td> 4.5</td>\n",
       "      <td> 4.5</td>\n",
       "      <td> 4.5</td>\n",
       "      <td> 4.5</td>\n",
       "      <td>  4324.5</td>\n",
       "    </tr>\n",
       "    <tr>\n",
       "      <th>9</th>\n",
       "      <td> 4.0</td>\n",
       "      <td> 2303</td>\n",
       "      <td> 1069</td>\n",
       "      <td> 832</td>\n",
       "      <td> 276</td>\n",
       "      <td> 92</td>\n",
       "      <td> 34</td>\n",
       "      <td> 545</td>\n",
       "      <td> 494</td>\n",
       "      <td> 103</td>\n",
       "      <td>  773</td>\n",
       "      <td> 5.0</td>\n",
       "      <td> 4.5</td>\n",
       "      <td> 4.5</td>\n",
       "      <td> 4.5</td>\n",
       "      <td> 4.0</td>\n",
       "      <td> 4.5</td>\n",
       "      <td>  9212.0</td>\n",
       "    </tr>\n",
       "  </tbody>\n",
       "</table>\n",
       "</div>"
      ],
      "text/plain": [
       "   STAR  TOTAL_REV  EXCELLENT  VERY_GOOD  AVERAGE  POOR  TERRIBLE  FAMILIES  \\\n",
       "0   4.5       2540       1872        506       98    33        31       461   \n",
       "1   4.0       1167        479        424      164    67        33       239   \n",
       "2   4.5       2937       2365        439       81    39        13       910   \n",
       "3   4.5       1248        990        189       43    15        11       284   \n",
       "4   4.5        354        244         81       21     7         1       102   \n",
       "5   4.5       1943       1091        615      181    39        17       445   \n",
       "6   4.5       2561       1880        509      107    45        20       630   \n",
       "7   4.5       1824       1175        496      104    30        19       328   \n",
       "8   4.5        961        625        274       43     8        11       229   \n",
       "9   4.0       2303       1069        832      276    92        34       545   \n",
       "\n",
       "   COUPLES  SOLO  BUSINESS  LOCATION  SLEEP_QUALITY  ROOM  SERVICE  VALUE  \\\n",
       "0      550   108      1104       4.5            4.5   4.5      4.5    4.5   \n",
       "1      335   105       326       4.5            4.0   4.0      4.5    4.0   \n",
       "2      851   146       585       5.0            5.0   5.0      5.0    4.5   \n",
       "3      461    55       255       5.0            4.5   4.5      5.0    4.5   \n",
       "4      101    28        62       4.5            4.0   4.5      4.5    4.5   \n",
       "5      621    78       297       4.5            4.5   4.5      4.5    4.0   \n",
       "6      986   143       381       5.0            4.5   4.5      5.0    4.5   \n",
       "7      829   117       322       5.0            4.5   4.5      4.5    4.0   \n",
       "8      222    70       297       5.0            4.5   4.5      4.5    4.5   \n",
       "9      494   103       773       5.0            4.5   4.5      4.5    4.0   \n",
       "\n",
       "   CLEANLINESS    SCORE  \n",
       "0          5.0  11430.0  \n",
       "1          4.5   4668.0  \n",
       "2          5.0  13216.5  \n",
       "3          5.0   5616.0  \n",
       "4          5.0   1593.0  \n",
       "5          4.5   8743.5  \n",
       "6          5.0  11524.5  \n",
       "7          4.5   8208.0  \n",
       "8          4.5   4324.5  \n",
       "9          4.5   9212.0  "
      ]
     },
     "execution_count": 9,
     "metadata": {},
     "output_type": "execute_result"
    }
   ],
   "source": [
    "df.head(10)"
   ]
  },
  {
   "cell_type": "code",
   "execution_count": 10,
   "metadata": {
    "collapsed": false
   },
   "outputs": [
    {
     "data": {
      "text/html": [
       "<div style=\"max-height:1000px;max-width:1500px;overflow:auto;\">\n",
       "<table border=\"1\" class=\"dataframe\">\n",
       "  <thead>\n",
       "    <tr style=\"text-align: right;\">\n",
       "      <th></th>\n",
       "      <th>STAR</th>\n",
       "      <th>TOTAL_REV</th>\n",
       "      <th>EXCELLENT</th>\n",
       "      <th>VERY_GOOD</th>\n",
       "      <th>AVERAGE</th>\n",
       "      <th>POOR</th>\n",
       "      <th>TERRIBLE</th>\n",
       "      <th>FAMILIES</th>\n",
       "      <th>COUPLES</th>\n",
       "      <th>SOLO</th>\n",
       "      <th>BUSINESS</th>\n",
       "      <th>LOCATION</th>\n",
       "      <th>SLEEP_QUALITY</th>\n",
       "      <th>ROOM</th>\n",
       "      <th>SERVICE</th>\n",
       "      <th>VALUE</th>\n",
       "      <th>CLEANLINESS</th>\n",
       "      <th>SCORE</th>\n",
       "    </tr>\n",
       "  </thead>\n",
       "  <tbody>\n",
       "    <tr>\n",
       "      <th>0</th>\n",
       "      <td> 0.233766</td>\n",
       "      <td> 0.345171</td>\n",
       "      <td> 0.586784</td>\n",
       "      <td> 0.118240</td>\n",
       "      <td>-0.042096</td>\n",
       "      <td>-0.057046</td>\n",
       "      <td> 0.025193</td>\n",
       "      <td> 0.254014</td>\n",
       "      <td> 0.159507</td>\n",
       "      <td> 0.176811</td>\n",
       "      <td> 0.784187</td>\n",
       "      <td>-0.00974</td>\n",
       "      <td> 0.155844</td>\n",
       "      <td> 0.171429</td>\n",
       "      <td> 0.114286</td>\n",
       "      <td> 0.389610</td>\n",
       "      <td> 0.301948</td>\n",
       "      <td> 0.408632</td>\n",
       "    </tr>\n",
       "    <tr>\n",
       "      <th>1</th>\n",
       "      <td>-0.016234</td>\n",
       "      <td> 0.035098</td>\n",
       "      <td>-0.002721</td>\n",
       "      <td> 0.062947</td>\n",
       "      <td> 0.077686</td>\n",
       "      <td> 0.083450</td>\n",
       "      <td> 0.040230</td>\n",
       "      <td> 0.011126</td>\n",
       "      <td> 0.017499</td>\n",
       "      <td> 0.164763</td>\n",
       "      <td> 0.077556</td>\n",
       "      <td>-0.00974</td>\n",
       "      <td>-0.044156</td>\n",
       "      <td>-0.028571</td>\n",
       "      <td> 0.114286</td>\n",
       "      <td> 0.056277</td>\n",
       "      <td> 0.051948</td>\n",
       "      <td> 0.027438</td>\n",
       "    </tr>\n",
       "    <tr>\n",
       "      <th>2</th>\n",
       "      <td> 0.233766</td>\n",
       "      <td> 0.434827</td>\n",
       "      <td> 0.795417</td>\n",
       "      <td> 0.073062</td>\n",
       "      <td>-0.072949</td>\n",
       "      <td>-0.032253</td>\n",
       "      <td>-0.110145</td>\n",
       "      <td> 0.745261</td>\n",
       "      <td> 0.358318</td>\n",
       "      <td> 0.329422</td>\n",
       "      <td> 0.312797</td>\n",
       "      <td> 0.24026</td>\n",
       "      <td> 0.355844</td>\n",
       "      <td> 0.371429</td>\n",
       "      <td> 0.314286</td>\n",
       "      <td> 0.389610</td>\n",
       "      <td> 0.301948</td>\n",
       "      <td> 0.509342</td>\n",
       "    </tr>\n",
       "    <tr>\n",
       "      <th>3</th>\n",
       "      <td> 0.233766</td>\n",
       "      <td> 0.053391</td>\n",
       "      <td> 0.213530</td>\n",
       "      <td>-0.095515</td>\n",
       "      <td>-0.141914</td>\n",
       "      <td>-0.131426</td>\n",
       "      <td>-0.125183</td>\n",
       "      <td> 0.060360</td>\n",
       "      <td> 0.100722</td>\n",
       "      <td>-0.036040</td>\n",
       "      <td> 0.013070</td>\n",
       "      <td> 0.24026</td>\n",
       "      <td> 0.155844</td>\n",
       "      <td> 0.171429</td>\n",
       "      <td> 0.314286</td>\n",
       "      <td> 0.389610</td>\n",
       "      <td> 0.301948</td>\n",
       "      <td> 0.080879</td>\n",
       "    </tr>\n",
       "    <tr>\n",
       "      <th>4</th>\n",
       "      <td> 0.233766</td>\n",
       "      <td>-0.148506</td>\n",
       "      <td>-0.102170</td>\n",
       "      <td>-0.168341</td>\n",
       "      <td>-0.181842</td>\n",
       "      <td>-0.164484</td>\n",
       "      <td>-0.200371</td>\n",
       "      <td>-0.138765</td>\n",
       "      <td>-0.137058</td>\n",
       "      <td>-0.144474</td>\n",
       "      <td>-0.162226</td>\n",
       "      <td>-0.00974</td>\n",
       "      <td>-0.044156</td>\n",
       "      <td> 0.171429</td>\n",
       "      <td> 0.114286</td>\n",
       "      <td> 0.389610</td>\n",
       "      <td> 0.301948</td>\n",
       "      <td>-0.145909</td>\n",
       "    </tr>\n",
       "    <tr>\n",
       "      <th>5</th>\n",
       "      <td> 0.233766</td>\n",
       "      <td> 0.210347</td>\n",
       "      <td> 0.256272</td>\n",
       "      <td> 0.191740</td>\n",
       "      <td> 0.108539</td>\n",
       "      <td>-0.032253</td>\n",
       "      <td>-0.080070</td>\n",
       "      <td> 0.236509</td>\n",
       "      <td> 0.206403</td>\n",
       "      <td> 0.056329</td>\n",
       "      <td> 0.051217</td>\n",
       "      <td>-0.00974</td>\n",
       "      <td> 0.155844</td>\n",
       "      <td> 0.171429</td>\n",
       "      <td> 0.114286</td>\n",
       "      <td> 0.056277</td>\n",
       "      <td> 0.051948</td>\n",
       "      <td> 0.257186</td>\n",
       "    </tr>\n",
       "    <tr>\n",
       "      <th>6</th>\n",
       "      <td> 0.233766</td>\n",
       "      <td> 0.349913</td>\n",
       "      <td> 0.590170</td>\n",
       "      <td> 0.120263</td>\n",
       "      <td>-0.025762</td>\n",
       "      <td>-0.007459</td>\n",
       "      <td>-0.057514</td>\n",
       "      <td> 0.438916</td>\n",
       "      <td> 0.447486</td>\n",
       "      <td> 0.317373</td>\n",
       "      <td> 0.127511</td>\n",
       "      <td> 0.24026</td>\n",
       "      <td> 0.155844</td>\n",
       "      <td> 0.171429</td>\n",
       "      <td> 0.314286</td>\n",
       "      <td> 0.389610</td>\n",
       "      <td> 0.301948</td>\n",
       "      <td> 0.413959</td>\n",
       "    </tr>\n",
       "    <tr>\n",
       "      <th>7</th>\n",
       "      <td> 0.233766</td>\n",
       "      <td> 0.183472</td>\n",
       "      <td> 0.291820</td>\n",
       "      <td> 0.111497</td>\n",
       "      <td>-0.031207</td>\n",
       "      <td>-0.069443</td>\n",
       "      <td>-0.065033</td>\n",
       "      <td> 0.108500</td>\n",
       "      <td> 0.343787</td>\n",
       "      <td> 0.212956</td>\n",
       "      <td> 0.073923</td>\n",
       "      <td> 0.24026</td>\n",
       "      <td> 0.155844</td>\n",
       "      <td> 0.171429</td>\n",
       "      <td> 0.114286</td>\n",
       "      <td> 0.056277</td>\n",
       "      <td> 0.051948</td>\n",
       "      <td> 0.226998</td>\n",
       "    </tr>\n",
       "    <tr>\n",
       "      <th>8</th>\n",
       "      <td> 0.233766</td>\n",
       "      <td>-0.011424</td>\n",
       "      <td> 0.059065</td>\n",
       "      <td>-0.038199</td>\n",
       "      <td>-0.141914</td>\n",
       "      <td>-0.160352</td>\n",
       "      <td>-0.125183</td>\n",
       "      <td> 0.000185</td>\n",
       "      <td>-0.057138</td>\n",
       "      <td> 0.024201</td>\n",
       "      <td> 0.051217</td>\n",
       "      <td> 0.24026</td>\n",
       "      <td> 0.155844</td>\n",
       "      <td> 0.171429</td>\n",
       "      <td> 0.114286</td>\n",
       "      <td> 0.389610</td>\n",
       "      <td> 0.051948</td>\n",
       "      <td> 0.008073</td>\n",
       "    </tr>\n",
       "    <tr>\n",
       "      <th>9</th>\n",
       "      <td>-0.016234</td>\n",
       "      <td> 0.291648</td>\n",
       "      <td> 0.246962</td>\n",
       "      <td> 0.338065</td>\n",
       "      <td> 0.280953</td>\n",
       "      <td> 0.186755</td>\n",
       "      <td> 0.047749</td>\n",
       "      <td> 0.345918</td>\n",
       "      <td> 0.122519</td>\n",
       "      <td> 0.156731</td>\n",
       "      <td> 0.483551</td>\n",
       "      <td> 0.24026</td>\n",
       "      <td> 0.155844</td>\n",
       "      <td> 0.171429</td>\n",
       "      <td> 0.114286</td>\n",
       "      <td> 0.056277</td>\n",
       "      <td> 0.051948</td>\n",
       "      <td> 0.283596</td>\n",
       "    </tr>\n",
       "  </tbody>\n",
       "</table>\n",
       "</div>"
      ],
      "text/plain": [
       "       STAR  TOTAL_REV  EXCELLENT  VERY_GOOD   AVERAGE      POOR  TERRIBLE  \\\n",
       "0  0.233766   0.345171   0.586784   0.118240 -0.042096 -0.057046  0.025193   \n",
       "1 -0.016234   0.035098  -0.002721   0.062947  0.077686  0.083450  0.040230   \n",
       "2  0.233766   0.434827   0.795417   0.073062 -0.072949 -0.032253 -0.110145   \n",
       "3  0.233766   0.053391   0.213530  -0.095515 -0.141914 -0.131426 -0.125183   \n",
       "4  0.233766  -0.148506  -0.102170  -0.168341 -0.181842 -0.164484 -0.200371   \n",
       "5  0.233766   0.210347   0.256272   0.191740  0.108539 -0.032253 -0.080070   \n",
       "6  0.233766   0.349913   0.590170   0.120263 -0.025762 -0.007459 -0.057514   \n",
       "7  0.233766   0.183472   0.291820   0.111497 -0.031207 -0.069443 -0.065033   \n",
       "8  0.233766  -0.011424   0.059065  -0.038199 -0.141914 -0.160352 -0.125183   \n",
       "9 -0.016234   0.291648   0.246962   0.338065  0.280953  0.186755  0.047749   \n",
       "\n",
       "   FAMILIES   COUPLES      SOLO  BUSINESS  LOCATION  SLEEP_QUALITY      ROOM  \\\n",
       "0  0.254014  0.159507  0.176811  0.784187  -0.00974       0.155844  0.171429   \n",
       "1  0.011126  0.017499  0.164763  0.077556  -0.00974      -0.044156 -0.028571   \n",
       "2  0.745261  0.358318  0.329422  0.312797   0.24026       0.355844  0.371429   \n",
       "3  0.060360  0.100722 -0.036040  0.013070   0.24026       0.155844  0.171429   \n",
       "4 -0.138765 -0.137058 -0.144474 -0.162226  -0.00974      -0.044156  0.171429   \n",
       "5  0.236509  0.206403  0.056329  0.051217  -0.00974       0.155844  0.171429   \n",
       "6  0.438916  0.447486  0.317373  0.127511   0.24026       0.155844  0.171429   \n",
       "7  0.108500  0.343787  0.212956  0.073923   0.24026       0.155844  0.171429   \n",
       "8  0.000185 -0.057138  0.024201  0.051217   0.24026       0.155844  0.171429   \n",
       "9  0.345918  0.122519  0.156731  0.483551   0.24026       0.155844  0.171429   \n",
       "\n",
       "    SERVICE     VALUE  CLEANLINESS     SCORE  \n",
       "0  0.114286  0.389610     0.301948  0.408632  \n",
       "1  0.114286  0.056277     0.051948  0.027438  \n",
       "2  0.314286  0.389610     0.301948  0.509342  \n",
       "3  0.314286  0.389610     0.301948  0.080879  \n",
       "4  0.114286  0.389610     0.301948 -0.145909  \n",
       "5  0.114286  0.056277     0.051948  0.257186  \n",
       "6  0.314286  0.389610     0.301948  0.413959  \n",
       "7  0.114286  0.056277     0.051948  0.226998  \n",
       "8  0.114286  0.389610     0.051948  0.008073  \n",
       "9  0.114286  0.056277     0.051948  0.283596  "
      ]
     },
     "execution_count": 10,
     "metadata": {},
     "output_type": "execute_result"
    }
   ],
   "source": [
    "df_norm.head(10)"
   ]
  },
  {
   "cell_type": "markdown",
   "metadata": {},
   "source": [
    "The column of 'SCORE' is our y_train data;\n",
    "\n",
    "We don't want the x_train data include the Review Type columns ('FAMILIES','COUPLES','SOLO','BUSINESS') because I believe they are irrelevant to the average score. The Review Type only tells us what they are at the hotel for."
   ]
  },
  {
   "cell_type": "markdown",
   "metadata": {},
   "source": [
    "# Part 3 #"
   ]
  },
  {
   "cell_type": "code",
   "execution_count": 11,
   "metadata": {
    "collapsed": false
   },
   "outputs": [],
   "source": [
    "y = df['SCORE']\n",
    "X = df.drop(['STAR','TOTAL_REV','FAMILIES','COUPLES','SOLO','BUSINESS','SCORE'],axis=1)"
   ]
  },
  {
   "cell_type": "code",
   "execution_count": 12,
   "metadata": {
    "collapsed": false
   },
   "outputs": [],
   "source": [
    "model = sm.OLS(X, y)"
   ]
  },
  {
   "cell_type": "code",
   "execution_count": 13,
   "metadata": {
    "collapsed": false
   },
   "outputs": [],
   "source": [
    "model_norm = sm.OLS(df_norm['SCORE'], df_norm.drop(['STAR','TOTAL_REV','FAMILIES','COUPLES','SOLO','BUSINESS','SCORE'],axis=1))"
   ]
  },
  {
   "cell_type": "code",
   "execution_count": 14,
   "metadata": {
    "collapsed": false
   },
   "outputs": [
    {
     "ename": "ValueError",
     "evalue": "matrices are not aligned",
     "output_type": "error",
     "traceback": [
      "\u001b[0;31m---------------------------------------------------------------------------\u001b[0m",
      "\u001b[0;31mValueError\u001b[0m                                Traceback (most recent call last)",
      "\u001b[0;32m<ipython-input-14-4e451775a308>\u001b[0m in \u001b[0;36m<module>\u001b[0;34m()\u001b[0m\n\u001b[1;32m      1\u001b[0m \u001b[0mresults\u001b[0m \u001b[0;34m=\u001b[0m \u001b[0mmodel\u001b[0m\u001b[0;34m.\u001b[0m\u001b[0mfit\u001b[0m\u001b[0;34m(\u001b[0m\u001b[0;34m)\u001b[0m\u001b[0;34m\u001b[0m\u001b[0m\n\u001b[0;32m----> 2\u001b[0;31m \u001b[0;32mprint\u001b[0m \u001b[0mresults\u001b[0m\u001b[0;34m.\u001b[0m\u001b[0msummary\u001b[0m\u001b[0;34m(\u001b[0m\u001b[0;34m)\u001b[0m\u001b[0;34m\u001b[0m\u001b[0m\n\u001b[0m\u001b[1;32m      3\u001b[0m \u001b[0;32mprint\u001b[0m \u001b[0;34m\"Confidence Intervals:\"\u001b[0m\u001b[0;34m,\u001b[0m \u001b[0mresults\u001b[0m\u001b[0;34m.\u001b[0m\u001b[0mconf_int\u001b[0m\u001b[0;34m(\u001b[0m\u001b[0;34m)\u001b[0m\u001b[0;34m\u001b[0m\u001b[0m\n\u001b[1;32m      4\u001b[0m \u001b[0;32mprint\u001b[0m \u001b[0;34m\"Parameters:\"\u001b[0m\u001b[0;34m,\u001b[0m \u001b[0mresults\u001b[0m\u001b[0;34m.\u001b[0m\u001b[0mparams\u001b[0m\u001b[0;34m\u001b[0m\u001b[0m\n",
      "\u001b[0;32m/Users/Lucas/anaconda/lib/python2.7/site-packages/statsmodels/regression/linear_model.pyc\u001b[0m in \u001b[0;36msummary\u001b[0;34m(self, yname, xname, title, alpha)\u001b[0m\n\u001b[1;32m   1224\u001b[0m                     ]\n\u001b[1;32m   1225\u001b[0m \u001b[0;34m\u001b[0m\u001b[0m\n\u001b[0;32m-> 1226\u001b[0;31m         top_right = [('R-squared:', [\"%#8.3f\" % self.rsquared]),\n\u001b[0m\u001b[1;32m   1227\u001b[0m                      \u001b[0;34m(\u001b[0m\u001b[0;34m'Adj. R-squared:'\u001b[0m\u001b[0;34m,\u001b[0m \u001b[0;34m[\u001b[0m\u001b[0;34m\"%#8.3f\"\u001b[0m \u001b[0;34m%\u001b[0m \u001b[0mself\u001b[0m\u001b[0;34m.\u001b[0m\u001b[0mrsquared_adj\u001b[0m\u001b[0;34m]\u001b[0m\u001b[0;34m)\u001b[0m\u001b[0;34m,\u001b[0m\u001b[0;34m\u001b[0m\u001b[0m\n\u001b[1;32m   1228\u001b[0m                      \u001b[0;34m(\u001b[0m\u001b[0;34m'F-statistic:'\u001b[0m\u001b[0;34m,\u001b[0m \u001b[0;34m[\u001b[0m\u001b[0;34m\"%#8.4g\"\u001b[0m \u001b[0;34m%\u001b[0m \u001b[0mself\u001b[0m\u001b[0;34m.\u001b[0m\u001b[0mfvalue\u001b[0m\u001b[0;34m]\u001b[0m \u001b[0;34m)\u001b[0m\u001b[0;34m,\u001b[0m\u001b[0;34m\u001b[0m\u001b[0m\n",
      "\u001b[0;32m/Users/Lucas/anaconda/lib/python2.7/site-packages/statsmodels/tools/decorators.pyc\u001b[0m in \u001b[0;36m__get__\u001b[0;34m(self, obj, type)\u001b[0m\n\u001b[1;32m     93\u001b[0m         \u001b[0;32mif\u001b[0m \u001b[0m_cachedval\u001b[0m \u001b[0;32mis\u001b[0m \u001b[0mNone\u001b[0m\u001b[0;34m:\u001b[0m\u001b[0;34m\u001b[0m\u001b[0m\n\u001b[1;32m     94\u001b[0m             \u001b[0;31m# Call the \"fget\" function\u001b[0m\u001b[0;34m\u001b[0m\u001b[0;34m\u001b[0m\u001b[0m\n\u001b[0;32m---> 95\u001b[0;31m             \u001b[0m_cachedval\u001b[0m \u001b[0;34m=\u001b[0m \u001b[0mself\u001b[0m\u001b[0;34m.\u001b[0m\u001b[0mfget\u001b[0m\u001b[0;34m(\u001b[0m\u001b[0mobj\u001b[0m\u001b[0;34m)\u001b[0m\u001b[0;34m\u001b[0m\u001b[0m\n\u001b[0m\u001b[1;32m     96\u001b[0m             \u001b[0;31m# Set the attribute in obj\u001b[0m\u001b[0;34m\u001b[0m\u001b[0;34m\u001b[0m\u001b[0m\n\u001b[1;32m     97\u001b[0m \u001b[0;31m#            print \"Setting %s in cache to %s\" % (name, _cachedval)\u001b[0m\u001b[0;34m\u001b[0m\u001b[0;34m\u001b[0m\u001b[0m\n",
      "\u001b[0;32m/Users/Lucas/anaconda/lib/python2.7/site-packages/statsmodels/regression/linear_model.pyc\u001b[0m in \u001b[0;36mrsquared\u001b[0;34m(self)\u001b[0m\n\u001b[1;32m    955\u001b[0m             \u001b[0;32mreturn\u001b[0m \u001b[0;36m1\u001b[0m \u001b[0;34m-\u001b[0m \u001b[0mself\u001b[0m\u001b[0;34m.\u001b[0m\u001b[0mssr\u001b[0m\u001b[0;34m/\u001b[0m\u001b[0mself\u001b[0m\u001b[0;34m.\u001b[0m\u001b[0mcentered_tss\u001b[0m\u001b[0;34m\u001b[0m\u001b[0m\n\u001b[1;32m    956\u001b[0m         \u001b[0;32melse\u001b[0m\u001b[0;34m:\u001b[0m\u001b[0;34m\u001b[0m\u001b[0m\n\u001b[0;32m--> 957\u001b[0;31m             \u001b[0;32mreturn\u001b[0m \u001b[0;36m1\u001b[0m \u001b[0;34m-\u001b[0m \u001b[0mself\u001b[0m\u001b[0;34m.\u001b[0m\u001b[0mssr\u001b[0m\u001b[0;34m/\u001b[0m\u001b[0mself\u001b[0m\u001b[0;34m.\u001b[0m\u001b[0muncentered_tss\u001b[0m\u001b[0;34m\u001b[0m\u001b[0m\n\u001b[0m\u001b[1;32m    958\u001b[0m \u001b[0;34m\u001b[0m\u001b[0m\n\u001b[1;32m    959\u001b[0m     \u001b[0;34m@\u001b[0m\u001b[0mcache_readonly\u001b[0m\u001b[0;34m\u001b[0m\u001b[0m\n",
      "\u001b[0;32m/Users/Lucas/anaconda/lib/python2.7/site-packages/statsmodels/tools/decorators.pyc\u001b[0m in \u001b[0;36m__get__\u001b[0;34m(self, obj, type)\u001b[0m\n\u001b[1;32m     93\u001b[0m         \u001b[0;32mif\u001b[0m \u001b[0m_cachedval\u001b[0m \u001b[0;32mis\u001b[0m \u001b[0mNone\u001b[0m\u001b[0;34m:\u001b[0m\u001b[0;34m\u001b[0m\u001b[0m\n\u001b[1;32m     94\u001b[0m             \u001b[0;31m# Call the \"fget\" function\u001b[0m\u001b[0;34m\u001b[0m\u001b[0;34m\u001b[0m\u001b[0m\n\u001b[0;32m---> 95\u001b[0;31m             \u001b[0m_cachedval\u001b[0m \u001b[0;34m=\u001b[0m \u001b[0mself\u001b[0m\u001b[0;34m.\u001b[0m\u001b[0mfget\u001b[0m\u001b[0;34m(\u001b[0m\u001b[0mobj\u001b[0m\u001b[0;34m)\u001b[0m\u001b[0;34m\u001b[0m\u001b[0m\n\u001b[0m\u001b[1;32m     96\u001b[0m             \u001b[0;31m# Set the attribute in obj\u001b[0m\u001b[0;34m\u001b[0m\u001b[0;34m\u001b[0m\u001b[0m\n\u001b[1;32m     97\u001b[0m \u001b[0;31m#            print \"Setting %s in cache to %s\" % (name, _cachedval)\u001b[0m\u001b[0;34m\u001b[0m\u001b[0;34m\u001b[0m\u001b[0m\n",
      "\u001b[0;32m/Users/Lucas/anaconda/lib/python2.7/site-packages/statsmodels/regression/linear_model.pyc\u001b[0m in \u001b[0;36mssr\u001b[0;34m(self)\u001b[0m\n\u001b[1;32m    925\u001b[0m     \u001b[0;32mdef\u001b[0m \u001b[0mssr\u001b[0m\u001b[0;34m(\u001b[0m\u001b[0mself\u001b[0m\u001b[0;34m)\u001b[0m\u001b[0;34m:\u001b[0m\u001b[0;34m\u001b[0m\u001b[0m\n\u001b[1;32m    926\u001b[0m         \u001b[0mwresid\u001b[0m \u001b[0;34m=\u001b[0m \u001b[0mself\u001b[0m\u001b[0;34m.\u001b[0m\u001b[0mwresid\u001b[0m\u001b[0;34m\u001b[0m\u001b[0m\n\u001b[0;32m--> 927\u001b[0;31m         \u001b[0;32mreturn\u001b[0m \u001b[0mnp\u001b[0m\u001b[0;34m.\u001b[0m\u001b[0mdot\u001b[0m\u001b[0;34m(\u001b[0m\u001b[0mwresid\u001b[0m\u001b[0;34m,\u001b[0m \u001b[0mwresid\u001b[0m\u001b[0;34m)\u001b[0m\u001b[0;34m\u001b[0m\u001b[0m\n\u001b[0m\u001b[1;32m    928\u001b[0m \u001b[0;34m\u001b[0m\u001b[0m\n\u001b[1;32m    929\u001b[0m     \u001b[0;34m@\u001b[0m\u001b[0mcache_readonly\u001b[0m\u001b[0;34m\u001b[0m\u001b[0m\n",
      "\u001b[0;31mValueError\u001b[0m: matrices are not aligned"
     ]
    }
   ],
   "source": [
    "results = model.fit()\n",
    "print results.summary()\n",
    "print \"Confidence Intervals:\", results.conf_int()\n",
    "print \"Parameters:\", results.params"
   ]
  },
  {
   "cell_type": "code",
   "execution_count": 18,
   "metadata": {
    "collapsed": false
   },
   "outputs": [
    {
     "name": "stdout",
     "output_type": "stream",
     "text": [
      "                            OLS Regression Results                            \n",
      "==============================================================================\n",
      "Dep. Variable:                  SCORE   R-squared:                       0.999\n",
      "Model:                            OLS   Adj. R-squared:                  0.999\n",
      "Method:                 Least Squares   F-statistic:                 1.005e+04\n",
      "Date:                Wed, 01 Apr 2015   Prob (F-statistic):          7.26e-102\n",
      "Time:                        18:49:07   Log-Likelihood:                -482.82\n",
      "No. Observations:                  77   AIC:                             987.6\n",
      "Df Residuals:                      66   BIC:                             1013.\n",
      "Df Model:                          11                                         \n",
      "=================================================================================\n",
      "                    coef    std err          t      P>|t|      [95.0% Conf. Int.]\n",
      "---------------------------------------------------------------------------------\n",
      "EXCELLENT         4.8720      0.059     82.592      0.000         4.754     4.990\n",
      "VERY_GOOD         3.6451      0.234     15.598      0.000         3.178     4.112\n",
      "AVERAGE           5.0500      0.840      6.013      0.000         3.373     6.727\n",
      "POOR             -2.7977      1.752     -1.597      0.115        -6.296     0.700\n",
      "TERRIBLE          4.2274      1.891      2.235      0.029         0.451     8.004\n",
      "LOCATION          1.5469     62.686      0.025      0.980      -123.610   126.704\n",
      "SLEEP_QUALITY    90.4256     69.221      1.306      0.196       -47.779   228.631\n",
      "ROOM            211.1387     80.467      2.624      0.011        50.482   371.796\n",
      "SERVICE        -164.7077     93.298     -1.765      0.082      -350.983    21.568\n",
      "VALUE           -84.7249     68.106     -1.244      0.218      -220.704    51.254\n",
      "CLEANLINESS     -45.4020     82.498     -0.550      0.584      -210.115   119.311\n",
      "==============================================================================\n",
      "Omnibus:                       13.171   Durbin-Watson:                   1.563\n",
      "Prob(Omnibus):                  0.001   Jarque-Bera (JB):               26.978\n",
      "Skew:                           0.518   Prob(JB):                     1.39e-06\n",
      "Kurtosis:                       5.708   Cond. No.                     5.44e+03\n",
      "==============================================================================\n",
      "\n",
      "Warnings:\n",
      "[1] The condition number is large, 5.44e+03. This might indicate that there are\n",
      "strong multicollinearity or other numerical problems.\n",
      "Confidence Intervals:                         0           1\n",
      "EXCELLENT        4.754269    4.989821\n",
      "VERY_GOOD        3.178471    4.111637\n",
      "AVERAGE          3.373079    6.726893\n",
      "POOR            -6.295588    0.700137\n",
      "TERRIBLE         0.450918    8.003848\n",
      "LOCATION      -123.610269  126.704154\n",
      "SLEEP_QUALITY  -47.779400  228.630612\n",
      "ROOM            50.481720  371.795752\n",
      "SERVICE       -350.983365   21.567955\n",
      "VALUE         -220.703517   51.253747\n",
      "CLEANLINESS   -210.115398  119.311358\n",
      "Parameters: EXCELLENT          4.872045\n",
      "VERY_GOOD          3.645054\n",
      "AVERAGE            5.049986\n",
      "POOR              -2.797726\n",
      "TERRIBLE           4.227383\n",
      "LOCATION           1.546943\n",
      "SLEEP_QUALITY     90.425606\n",
      "ROOM             211.138736\n",
      "SERVICE         -164.707705\n",
      "VALUE            -84.724885\n",
      "CLEANLINESS      -45.402020\n",
      "dtype: float64\n"
     ]
    }
   ],
   "source": [
    "results = model.fit()\n",
    "print results.summary()\n",
    "print \"Confidence Intervals:\", results.conf_int()\n",
    "print \"Parameters:\", results.params"
   ]
  },
  {
   "cell_type": "markdown",
   "metadata": {},
   "source": [
    "Split the data into training and testing"
   ]
  },
  {
   "cell_type": "code",
   "execution_count": 41,
   "metadata": {
    "collapsed": false
   },
   "outputs": [],
   "source": [
    "X_train, X_test, y_train, y_test = cross_validation.train_test_split(X, y, test_size=0.2, random_state=0)"
   ]
  },
  {
   "cell_type": "code",
   "execution_count": 42,
   "metadata": {
    "collapsed": false
   },
   "outputs": [
    {
     "name": "stdout",
     "output_type": "stream",
     "text": [
      "[  4064.    3912.    3352.5   3472.    1460.    1326.5   1064.    1740.\n",
      "    572.   11524.5   4192.     567.    1593.    7700.    1260.   13216.5\n",
      "   8152.    3577.5   2515.5  17784.    3440.    5128.    2506.    4668.\n",
      "   1868.    2740.    4791.5   1368.    6816.    3438.    3484.    3848.\n",
      "   4572.   11430.      45.    1089.    8743.5   4248.    4689.    6460.\n",
      "   7249.5   1230.    4324.5   2968.    2894.5   7856.    4132.    8527.5\n",
      "   2335.5   3879.    2506.    3012.    5268.    2740.    6336.    9212.\n",
      "   1501.5   4140.    1930.5   3780.    4644. ]\n",
      "(61, 11) (61,)\n",
      "(16, 11) (16,)\n"
     ]
    }
   ],
   "source": [
    "print(X_train.shape), y_train.shape\n",
    "print(X_test.shape), y_test.shape"
   ]
  },
  {
   "cell_type": "markdown",
   "metadata": {},
   "source": [
    "Using sklearn.linear_model.LinearRegression model to fit"
   ]
  },
  {
   "cell_type": "code",
   "execution_count": 43,
   "metadata": {
    "collapsed": false
   },
   "outputs": [],
   "source": [
    "regr = linear_model.LinearRegression(normalize=True)"
   ]
  },
  {
   "cell_type": "code",
   "execution_count": 44,
   "metadata": {
    "collapsed": false
   },
   "outputs": [],
   "source": [
    "regr.fit(X_train, y_train);"
   ]
  },
  {
   "cell_type": "code",
   "execution_count": 45,
   "metadata": {
    "collapsed": false
   },
   "outputs": [
    {
     "name": "stdout",
     "output_type": "stream",
     "text": [
      "('Training error: ', 17607.872938811328)\n",
      "('Test     error: ', 13662.896026849228)\n"
     ]
    }
   ],
   "source": [
    "# The mean square error\n",
    "print(\"Training error: \", metrics.mean_squared_error(regr.predict(X_train),y_train))\n",
    "print(\"Test     error: \", metrics.mean_squared_error(regr.predict(X_test),y_test))"
   ]
  },
  {
   "cell_type": "code",
   "execution_count": 46,
   "metadata": {
    "collapsed": false
   },
   "outputs": [
    {
     "name": "stdout",
     "output_type": "stream",
     "text": [
      "('Training score: ', 0.99838163790258638)\n",
      "('Test     score: ', 0.99751273164625287)\n"
     ]
    }
   ],
   "source": [
    "train_score = regr.score(X_train,y_train)\n",
    "test_score = regr.score(X_test,y_test)\n",
    "print(\"Training score: \", train_score)\n",
    "print(\"Test     score: \", test_score)"
   ]
  },
  {
   "cell_type": "markdown",
   "metadata": {},
   "source": [
    "Using Cross-Validation to see the score"
   ]
  },
  {
   "cell_type": "code",
   "execution_count": 49,
   "metadata": {
    "collapsed": false
   },
   "outputs": [
    {
     "name": "stdout",
     "output_type": "stream",
     "text": [
      "[ 0.98899679  0.98992551  0.99579816  0.99556998  0.99309379]\n"
     ]
    }
   ],
   "source": [
    "regr = linear_model.LinearRegression()\n",
    "scores = cross_validation.cross_val_score(regr, X, y, cv=5)\n",
    "print scores"
   ]
  },
  {
   "cell_type": "code",
   "execution_count": 50,
   "metadata": {
    "collapsed": false
   },
   "outputs": [
    {
     "name": "stdout",
     "output_type": "stream",
     "text": [
      "Regression score: 0.99 (+/- 0.01)\n"
     ]
    }
   ],
   "source": [
    "print(\"Regression score: %0.2f (+/- %0.2f)\" % (scores.mean(), scores.std() * 2))"
   ]
  },
  {
   "cell_type": "markdown",
   "metadata": {},
   "source": [
    "# Part 4 #\n"
   ]
  },
  {
   "cell_type": "markdown",
   "metadata": {},
   "source": [
    "Create a new column as indicator for the EXCELLENT mark"
   ]
  },
  {
   "cell_type": "code",
   "execution_count": 56,
   "metadata": {
    "collapsed": false
   },
   "outputs": [],
   "source": [
    "df['IS_EXCELLENT'] = (df['EXCELLENT'] / df['TOTAL_REV']) > 0.6"
   ]
  },
  {
   "cell_type": "code",
   "execution_count": 59,
   "metadata": {
    "collapsed": false
   },
   "outputs": [],
   "source": [
    "y = df['IS_EXCELLENT']\n",
    "X = df.drop(['STAR','TOTAL_REV','FAMILIES','COUPLES','SOLO','BUSINESS','SCORE','IS_EXCELLENT'],axis=1)"
   ]
  },
  {
   "cell_type": "markdown",
   "metadata": {},
   "source": [
    "Understanding our data"
   ]
  },
  {
   "cell_type": "code",
   "execution_count": 62,
   "metadata": {
    "collapsed": false
   },
   "outputs": [
    {
     "data": {
      "text/html": [
       "<div style=\"max-height:1000px;max-width:1500px;overflow:auto;\">\n",
       "<table border=\"1\" class=\"dataframe\">\n",
       "  <thead>\n",
       "    <tr style=\"text-align: right;\">\n",
       "      <th></th>\n",
       "      <th>STAR</th>\n",
       "      <th>TOTAL_REV</th>\n",
       "      <th>EXCELLENT</th>\n",
       "      <th>VERY_GOOD</th>\n",
       "      <th>AVERAGE</th>\n",
       "      <th>POOR</th>\n",
       "      <th>TERRIBLE</th>\n",
       "      <th>FAMILIES</th>\n",
       "      <th>COUPLES</th>\n",
       "      <th>SOLO</th>\n",
       "      <th>BUSINESS</th>\n",
       "      <th>SLEEP_QUALITY</th>\n",
       "      <th>ROOM</th>\n",
       "      <th>SERVICE</th>\n",
       "      <th>VALUE</th>\n",
       "      <th>CLEANLINESS</th>\n",
       "      <th>SCORE</th>\n",
       "      <th>IS_EXCELLENT</th>\n",
       "    </tr>\n",
       "    <tr>\n",
       "      <th>LOCATION</th>\n",
       "      <th></th>\n",
       "      <th></th>\n",
       "      <th></th>\n",
       "      <th></th>\n",
       "      <th></th>\n",
       "      <th></th>\n",
       "      <th></th>\n",
       "      <th></th>\n",
       "      <th></th>\n",
       "      <th></th>\n",
       "      <th></th>\n",
       "      <th></th>\n",
       "      <th></th>\n",
       "      <th></th>\n",
       "      <th></th>\n",
       "      <th></th>\n",
       "      <th></th>\n",
       "      <th></th>\n",
       "    </tr>\n",
       "  </thead>\n",
       "  <tbody>\n",
       "    <tr>\n",
       "      <th>3.0</th>\n",
       "      <td> 2.500000</td>\n",
       "      <td>   18.000000</td>\n",
       "      <td>   2.000000</td>\n",
       "      <td>   2.000000</td>\n",
       "      <td>   8.000000</td>\n",
       "      <td>  1.000000</td>\n",
       "      <td>  5.000000</td>\n",
       "      <td>   4.000000</td>\n",
       "      <td>   3.000000</td>\n",
       "      <td>  2.000000</td>\n",
       "      <td>   3.000000</td>\n",
       "      <td> 2.500000</td>\n",
       "      <td> 2.500000</td>\n",
       "      <td> 2.500000</td>\n",
       "      <td> 3.000000</td>\n",
       "      <td> 3.000000</td>\n",
       "      <td>   45.000000</td>\n",
       "      <td> 0.000000</td>\n",
       "    </tr>\n",
       "    <tr>\n",
       "      <th>3.5</th>\n",
       "      <td> 3.166667</td>\n",
       "      <td>  295.000000</td>\n",
       "      <td>  40.666667</td>\n",
       "      <td>  85.666667</td>\n",
       "      <td>  85.333333</td>\n",
       "      <td> 47.333333</td>\n",
       "      <td> 36.333333</td>\n",
       "      <td>  76.333333</td>\n",
       "      <td>  78.000000</td>\n",
       "      <td> 20.333333</td>\n",
       "      <td>  41.333333</td>\n",
       "      <td> 3.166667</td>\n",
       "      <td> 3.166667</td>\n",
       "      <td> 3.333333</td>\n",
       "      <td> 3.333333</td>\n",
       "      <td> 3.500000</td>\n",
       "      <td>  932.666667</td>\n",
       "      <td> 0.000000</td>\n",
       "    </tr>\n",
       "    <tr>\n",
       "      <th>4.0</th>\n",
       "      <td> 3.700000</td>\n",
       "      <td>  647.400000</td>\n",
       "      <td> 170.100000</td>\n",
       "      <td> 256.800000</td>\n",
       "      <td> 131.300000</td>\n",
       "      <td> 57.600000</td>\n",
       "      <td> 31.700000</td>\n",
       "      <td> 189.700000</td>\n",
       "      <td> 157.100000</td>\n",
       "      <td> 43.300000</td>\n",
       "      <td> 144.300000</td>\n",
       "      <td> 3.600000</td>\n",
       "      <td> 3.950000</td>\n",
       "      <td> 3.950000</td>\n",
       "      <td> 3.800000</td>\n",
       "      <td> 4.100000</td>\n",
       "      <td> 2398.250000</td>\n",
       "      <td> 0.000000</td>\n",
       "    </tr>\n",
       "    <tr>\n",
       "      <th>4.5</th>\n",
       "      <td> 4.073171</td>\n",
       "      <td>  987.804878</td>\n",
       "      <td> 433.975610</td>\n",
       "      <td> 349.024390</td>\n",
       "      <td> 130.853659</td>\n",
       "      <td> 46.024390</td>\n",
       "      <td> 28.121951</td>\n",
       "      <td> 215.292683</td>\n",
       "      <td> 281.707317</td>\n",
       "      <td> 66.341463</td>\n",
       "      <td> 256.000000</td>\n",
       "      <td> 4.170732</td>\n",
       "      <td> 4.085366</td>\n",
       "      <td> 4.256098</td>\n",
       "      <td> 3.914634</td>\n",
       "      <td> 4.439024</td>\n",
       "      <td> 4057.146341</td>\n",
       "      <td> 0.146341</td>\n",
       "    </tr>\n",
       "    <tr>\n",
       "      <th>5.0</th>\n",
       "      <td> 4.295455</td>\n",
       "      <td> 1364.318182</td>\n",
       "      <td> 807.272727</td>\n",
       "      <td> 378.318182</td>\n",
       "      <td> 108.636364</td>\n",
       "      <td> 45.363636</td>\n",
       "      <td> 24.772727</td>\n",
       "      <td> 302.863636</td>\n",
       "      <td> 472.590909</td>\n",
       "      <td> 77.727273</td>\n",
       "      <td> 293.681818</td>\n",
       "      <td> 4.431818</td>\n",
       "      <td> 4.295455</td>\n",
       "      <td> 4.454545</td>\n",
       "      <td> 4.090909</td>\n",
       "      <td> 4.636364</td>\n",
       "      <td> 5854.113636</td>\n",
       "      <td> 0.500000</td>\n",
       "    </tr>\n",
       "  </tbody>\n",
       "</table>\n",
       "</div>"
      ],
      "text/plain": [
       "              STAR    TOTAL_REV   EXCELLENT   VERY_GOOD     AVERAGE  \\\n",
       "LOCATION                                                              \n",
       "3.0       2.500000    18.000000    2.000000    2.000000    8.000000   \n",
       "3.5       3.166667   295.000000   40.666667   85.666667   85.333333   \n",
       "4.0       3.700000   647.400000  170.100000  256.800000  131.300000   \n",
       "4.5       4.073171   987.804878  433.975610  349.024390  130.853659   \n",
       "5.0       4.295455  1364.318182  807.272727  378.318182  108.636364   \n",
       "\n",
       "               POOR   TERRIBLE    FAMILIES     COUPLES       SOLO    BUSINESS  \\\n",
       "LOCATION                                                                        \n",
       "3.0        1.000000   5.000000    4.000000    3.000000   2.000000    3.000000   \n",
       "3.5       47.333333  36.333333   76.333333   78.000000  20.333333   41.333333   \n",
       "4.0       57.600000  31.700000  189.700000  157.100000  43.300000  144.300000   \n",
       "4.5       46.024390  28.121951  215.292683  281.707317  66.341463  256.000000   \n",
       "5.0       45.363636  24.772727  302.863636  472.590909  77.727273  293.681818   \n",
       "\n",
       "          SLEEP_QUALITY      ROOM   SERVICE     VALUE  CLEANLINESS  \\\n",
       "LOCATION                                                             \n",
       "3.0            2.500000  2.500000  2.500000  3.000000     3.000000   \n",
       "3.5            3.166667  3.166667  3.333333  3.333333     3.500000   \n",
       "4.0            3.600000  3.950000  3.950000  3.800000     4.100000   \n",
       "4.5            4.170732  4.085366  4.256098  3.914634     4.439024   \n",
       "5.0            4.431818  4.295455  4.454545  4.090909     4.636364   \n",
       "\n",
       "                SCORE  IS_EXCELLENT  \n",
       "LOCATION                             \n",
       "3.0         45.000000      0.000000  \n",
       "3.5        932.666667      0.000000  \n",
       "4.0       2398.250000      0.000000  \n",
       "4.5       4057.146341      0.146341  \n",
       "5.0       5854.113636      0.500000  "
      ]
     },
     "execution_count": 62,
     "metadata": {},
     "output_type": "execute_result"
    }
   ],
   "source": [
    "df.groupby('LOCATION').mean()"
   ]
  },
  {
   "cell_type": "code",
   "execution_count": 63,
   "metadata": {
    "collapsed": false
   },
   "outputs": [
    {
     "data": {
      "text/html": [
       "<div style=\"max-height:1000px;max-width:1500px;overflow:auto;\">\n",
       "<table border=\"1\" class=\"dataframe\">\n",
       "  <thead>\n",
       "    <tr style=\"text-align: right;\">\n",
       "      <th></th>\n",
       "      <th>STAR</th>\n",
       "      <th>TOTAL_REV</th>\n",
       "      <th>EXCELLENT</th>\n",
       "      <th>VERY_GOOD</th>\n",
       "      <th>AVERAGE</th>\n",
       "      <th>POOR</th>\n",
       "      <th>TERRIBLE</th>\n",
       "      <th>FAMILIES</th>\n",
       "      <th>COUPLES</th>\n",
       "      <th>SOLO</th>\n",
       "      <th>BUSINESS</th>\n",
       "      <th>LOCATION</th>\n",
       "      <th>ROOM</th>\n",
       "      <th>SERVICE</th>\n",
       "      <th>VALUE</th>\n",
       "      <th>CLEANLINESS</th>\n",
       "      <th>SCORE</th>\n",
       "      <th>IS_EXCELLENT</th>\n",
       "    </tr>\n",
       "    <tr>\n",
       "      <th>SLEEP_QUALITY</th>\n",
       "      <th></th>\n",
       "      <th></th>\n",
       "      <th></th>\n",
       "      <th></th>\n",
       "      <th></th>\n",
       "      <th></th>\n",
       "      <th></th>\n",
       "      <th></th>\n",
       "      <th></th>\n",
       "      <th></th>\n",
       "      <th></th>\n",
       "      <th></th>\n",
       "      <th></th>\n",
       "      <th></th>\n",
       "      <th></th>\n",
       "      <th></th>\n",
       "      <th></th>\n",
       "      <th></th>\n",
       "    </tr>\n",
       "  </thead>\n",
       "  <tbody>\n",
       "    <tr>\n",
       "      <th>2.5</th>\n",
       "      <td> 2.500000</td>\n",
       "      <td>   18.000000</td>\n",
       "      <td>    2.000000</td>\n",
       "      <td>   2.000000</td>\n",
       "      <td>   8.000000</td>\n",
       "      <td>  1.000000</td>\n",
       "      <td>  5.000000</td>\n",
       "      <td>   4.000000</td>\n",
       "      <td>   3.000000</td>\n",
       "      <td>  2.000000</td>\n",
       "      <td>   3.000000</td>\n",
       "      <td> 3.000000</td>\n",
       "      <td> 2.500000</td>\n",
       "      <td> 2.500000</td>\n",
       "      <td> 3.000000</td>\n",
       "      <td> 3.000000</td>\n",
       "      <td>   45.000000</td>\n",
       "      <td> 0.000000</td>\n",
       "    </tr>\n",
       "    <tr>\n",
       "      <th>3.0</th>\n",
       "      <td> 3.166667</td>\n",
       "      <td>  426.000000</td>\n",
       "      <td>   46.666667</td>\n",
       "      <td> 119.666667</td>\n",
       "      <td> 135.333333</td>\n",
       "      <td> 78.000000</td>\n",
       "      <td> 47.000000</td>\n",
       "      <td>  80.000000</td>\n",
       "      <td> 118.000000</td>\n",
       "      <td> 33.666667</td>\n",
       "      <td> 101.333333</td>\n",
       "      <td> 3.666667</td>\n",
       "      <td> 3.166667</td>\n",
       "      <td> 3.333333</td>\n",
       "      <td> 3.166667</td>\n",
       "      <td> 3.500000</td>\n",
       "      <td> 1325.666667</td>\n",
       "      <td> 0.000000</td>\n",
       "    </tr>\n",
       "    <tr>\n",
       "      <th>3.5</th>\n",
       "      <td> 3.636364</td>\n",
       "      <td>  626.909091</td>\n",
       "      <td>  172.909091</td>\n",
       "      <td> 247.090909</td>\n",
       "      <td> 122.727273</td>\n",
       "      <td> 49.545455</td>\n",
       "      <td> 34.636364</td>\n",
       "      <td> 153.727273</td>\n",
       "      <td> 162.636364</td>\n",
       "      <td> 44.909091</td>\n",
       "      <td> 152.272727</td>\n",
       "      <td> 4.136364</td>\n",
       "      <td> 3.772727</td>\n",
       "      <td> 3.863636</td>\n",
       "      <td> 3.772727</td>\n",
       "      <td> 4.000000</td>\n",
       "      <td> 2340.772727</td>\n",
       "      <td> 0.000000</td>\n",
       "    </tr>\n",
       "    <tr>\n",
       "      <th>4.0</th>\n",
       "      <td> 3.946429</td>\n",
       "      <td> 1102.928571</td>\n",
       "      <td>  415.607143</td>\n",
       "      <td> 426.071429</td>\n",
       "      <td> 164.321429</td>\n",
       "      <td> 61.678571</td>\n",
       "      <td> 35.428571</td>\n",
       "      <td> 249.607143</td>\n",
       "      <td> 321.035714</td>\n",
       "      <td> 79.285714</td>\n",
       "      <td> 264.750000</td>\n",
       "      <td> 4.553571</td>\n",
       "      <td> 3.982143</td>\n",
       "      <td> 4.160714</td>\n",
       "      <td> 3.875000</td>\n",
       "      <td> 4.410714</td>\n",
       "      <td> 4364.732143</td>\n",
       "      <td> 0.035714</td>\n",
       "    </tr>\n",
       "    <tr>\n",
       "      <th>4.5</th>\n",
       "      <td> 4.338710</td>\n",
       "      <td> 1111.096774</td>\n",
       "      <td>  651.967742</td>\n",
       "      <td> 316.483871</td>\n",
       "      <td>  90.935484</td>\n",
       "      <td> 33.193548</td>\n",
       "      <td> 18.645161</td>\n",
       "      <td> 239.225806</td>\n",
       "      <td> 367.709677</td>\n",
       "      <td> 60.838710</td>\n",
       "      <td> 261.258065</td>\n",
       "      <td> 4.709677</td>\n",
       "      <td> 4.338710</td>\n",
       "      <td> 4.467742</td>\n",
       "      <td> 4.080645</td>\n",
       "      <td> 4.596774</td>\n",
       "      <td> 4848.161290</td>\n",
       "      <td> 0.419355</td>\n",
       "    </tr>\n",
       "    <tr>\n",
       "      <th>5.0</th>\n",
       "      <td> 4.500000</td>\n",
       "      <td> 1458.000000</td>\n",
       "      <td> 1162.000000</td>\n",
       "      <td> 213.333333</td>\n",
       "      <td>  49.333333</td>\n",
       "      <td> 22.666667</td>\n",
       "      <td> 10.666667</td>\n",
       "      <td> 426.666667</td>\n",
       "      <td> 407.000000</td>\n",
       "      <td> 74.333333</td>\n",
       "      <td> 344.333333</td>\n",
       "      <td> 5.000000</td>\n",
       "      <td> 4.666667</td>\n",
       "      <td> 4.833333</td>\n",
       "      <td> 4.166667</td>\n",
       "      <td> 5.000000</td>\n",
       "      <td> 6561.000000</td>\n",
       "      <td> 1.000000</td>\n",
       "    </tr>\n",
       "  </tbody>\n",
       "</table>\n",
       "</div>"
      ],
      "text/plain": [
       "                   STAR    TOTAL_REV    EXCELLENT   VERY_GOOD     AVERAGE  \\\n",
       "SLEEP_QUALITY                                                               \n",
       "2.5            2.500000    18.000000     2.000000    2.000000    8.000000   \n",
       "3.0            3.166667   426.000000    46.666667  119.666667  135.333333   \n",
       "3.5            3.636364   626.909091   172.909091  247.090909  122.727273   \n",
       "4.0            3.946429  1102.928571   415.607143  426.071429  164.321429   \n",
       "4.5            4.338710  1111.096774   651.967742  316.483871   90.935484   \n",
       "5.0            4.500000  1458.000000  1162.000000  213.333333   49.333333   \n",
       "\n",
       "                    POOR   TERRIBLE    FAMILIES     COUPLES       SOLO  \\\n",
       "SLEEP_QUALITY                                                            \n",
       "2.5             1.000000   5.000000    4.000000    3.000000   2.000000   \n",
       "3.0            78.000000  47.000000   80.000000  118.000000  33.666667   \n",
       "3.5            49.545455  34.636364  153.727273  162.636364  44.909091   \n",
       "4.0            61.678571  35.428571  249.607143  321.035714  79.285714   \n",
       "4.5            33.193548  18.645161  239.225806  367.709677  60.838710   \n",
       "5.0            22.666667  10.666667  426.666667  407.000000  74.333333   \n",
       "\n",
       "                 BUSINESS  LOCATION      ROOM   SERVICE     VALUE  \\\n",
       "SLEEP_QUALITY                                                       \n",
       "2.5              3.000000  3.000000  2.500000  2.500000  3.000000   \n",
       "3.0            101.333333  3.666667  3.166667  3.333333  3.166667   \n",
       "3.5            152.272727  4.136364  3.772727  3.863636  3.772727   \n",
       "4.0            264.750000  4.553571  3.982143  4.160714  3.875000   \n",
       "4.5            261.258065  4.709677  4.338710  4.467742  4.080645   \n",
       "5.0            344.333333  5.000000  4.666667  4.833333  4.166667   \n",
       "\n",
       "               CLEANLINESS        SCORE  IS_EXCELLENT  \n",
       "SLEEP_QUALITY                                          \n",
       "2.5               3.000000    45.000000      0.000000  \n",
       "3.0               3.500000  1325.666667      0.000000  \n",
       "3.5               4.000000  2340.772727      0.000000  \n",
       "4.0               4.410714  4364.732143      0.035714  \n",
       "4.5               4.596774  4848.161290      0.419355  \n",
       "5.0               5.000000  6561.000000      1.000000  "
      ]
     },
     "execution_count": 63,
     "metadata": {},
     "output_type": "execute_result"
    }
   ],
   "source": [
    "df.groupby('SLEEP_QUALITY').mean()"
   ]
  },
  {
   "cell_type": "markdown",
   "metadata": {},
   "source": [
    "We can see that on average, EXCELLENT are a must have if you want a good SLEEP QUALITY, which is to be expected. So does CLEANLINESS."
   ]
  },
  {
   "cell_type": "code",
   "execution_count": 64,
   "metadata": {
    "collapsed": false
   },
   "outputs": [
    {
     "data": {
      "text/html": [
       "<div style=\"max-height:1000px;max-width:1500px;overflow:auto;\">\n",
       "<table border=\"1\" class=\"dataframe\">\n",
       "  <thead>\n",
       "    <tr style=\"text-align: right;\">\n",
       "      <th></th>\n",
       "      <th>STAR</th>\n",
       "      <th>TOTAL_REV</th>\n",
       "      <th>EXCELLENT</th>\n",
       "      <th>VERY_GOOD</th>\n",
       "      <th>AVERAGE</th>\n",
       "      <th>POOR</th>\n",
       "      <th>TERRIBLE</th>\n",
       "      <th>FAMILIES</th>\n",
       "      <th>COUPLES</th>\n",
       "      <th>SOLO</th>\n",
       "      <th>BUSINESS</th>\n",
       "      <th>LOCATION</th>\n",
       "      <th>SLEEP_QUALITY</th>\n",
       "      <th>ROOM</th>\n",
       "      <th>SERVICE</th>\n",
       "      <th>VALUE</th>\n",
       "      <th>SCORE</th>\n",
       "      <th>IS_EXCELLENT</th>\n",
       "    </tr>\n",
       "    <tr>\n",
       "      <th>CLEANLINESS</th>\n",
       "      <th></th>\n",
       "      <th></th>\n",
       "      <th></th>\n",
       "      <th></th>\n",
       "      <th></th>\n",
       "      <th></th>\n",
       "      <th></th>\n",
       "      <th></th>\n",
       "      <th></th>\n",
       "      <th></th>\n",
       "      <th></th>\n",
       "      <th></th>\n",
       "      <th></th>\n",
       "      <th></th>\n",
       "      <th></th>\n",
       "      <th></th>\n",
       "      <th></th>\n",
       "      <th></th>\n",
       "    </tr>\n",
       "  </thead>\n",
       "  <tbody>\n",
       "    <tr>\n",
       "      <th>3.0</th>\n",
       "      <td> 2.750000</td>\n",
       "      <td>  103.500000</td>\n",
       "      <td>  10.500000</td>\n",
       "      <td>  17.000000</td>\n",
       "      <td>  32.500000</td>\n",
       "      <td> 24.500000</td>\n",
       "      <td> 19.000000</td>\n",
       "      <td>  30.500000</td>\n",
       "      <td>  17.000000</td>\n",
       "      <td>  7.000000</td>\n",
       "      <td>  22.000000</td>\n",
       "      <td> 3.250000</td>\n",
       "      <td> 2.750000</td>\n",
       "      <td> 2.750000</td>\n",
       "      <td> 2.750000</td>\n",
       "      <td> 3.000000</td>\n",
       "      <td>  306.000000</td>\n",
       "      <td> 0.000000</td>\n",
       "    </tr>\n",
       "    <tr>\n",
       "      <th>3.5</th>\n",
       "      <td> 3.125000</td>\n",
       "      <td>  490.000000</td>\n",
       "      <td>  67.000000</td>\n",
       "      <td> 155.000000</td>\n",
       "      <td> 137.500000</td>\n",
       "      <td> 72.000000</td>\n",
       "      <td> 58.750000</td>\n",
       "      <td>  85.000000</td>\n",
       "      <td> 140.750000</td>\n",
       "      <td> 54.500000</td>\n",
       "      <td>  96.750000</td>\n",
       "      <td> 4.125000</td>\n",
       "      <td> 3.375000</td>\n",
       "      <td> 3.000000</td>\n",
       "      <td> 3.500000</td>\n",
       "      <td> 3.500000</td>\n",
       "      <td> 1517.375000</td>\n",
       "      <td> 0.000000</td>\n",
       "    </tr>\n",
       "    <tr>\n",
       "      <th>4.0</th>\n",
       "      <td> 3.666667</td>\n",
       "      <td>  654.833333</td>\n",
       "      <td> 181.666667</td>\n",
       "      <td> 251.666667</td>\n",
       "      <td> 132.333333</td>\n",
       "      <td> 53.916667</td>\n",
       "      <td> 35.333333</td>\n",
       "      <td> 193.083333</td>\n",
       "      <td> 162.250000</td>\n",
       "      <td> 44.833333</td>\n",
       "      <td> 124.666667</td>\n",
       "      <td> 4.166667</td>\n",
       "      <td> 3.708333</td>\n",
       "      <td> 3.791667</td>\n",
       "      <td> 4.041667</td>\n",
       "      <td> 3.833333</td>\n",
       "      <td> 2410.708333</td>\n",
       "      <td> 0.000000</td>\n",
       "    </tr>\n",
       "    <tr>\n",
       "      <th>4.5</th>\n",
       "      <td> 4.153061</td>\n",
       "      <td> 1127.285714</td>\n",
       "      <td> 516.714286</td>\n",
       "      <td> 398.632653</td>\n",
       "      <td> 135.734694</td>\n",
       "      <td> 49.387755</td>\n",
       "      <td> 27.000000</td>\n",
       "      <td> 240.816327</td>\n",
       "      <td> 353.591837</td>\n",
       "      <td> 71.959184</td>\n",
       "      <td> 276.204082</td>\n",
       "      <td> 4.632653</td>\n",
       "      <td> 4.224490</td>\n",
       "      <td> 4.183673</td>\n",
       "      <td> 4.275510</td>\n",
       "      <td> 3.918367</td>\n",
       "      <td> 4683.959184</td>\n",
       "      <td> 0.142857</td>\n",
       "    </tr>\n",
       "    <tr>\n",
       "      <th>5.0</th>\n",
       "      <td> 4.500000</td>\n",
       "      <td> 1263.000000</td>\n",
       "      <td> 959.000000</td>\n",
       "      <td> 225.300000</td>\n",
       "      <td>  47.800000</td>\n",
       "      <td> 20.000000</td>\n",
       "      <td> 10.900000</td>\n",
       "      <td> 310.200000</td>\n",
       "      <td> 388.500000</td>\n",
       "      <td> 63.000000</td>\n",
       "      <td> 306.600000</td>\n",
       "      <td> 4.800000</td>\n",
       "      <td> 4.600000</td>\n",
       "      <td> 4.550000</td>\n",
       "      <td> 4.700000</td>\n",
       "      <td> 4.350000</td>\n",
       "      <td> 5683.500000</td>\n",
       "      <td> 1.000000</td>\n",
       "    </tr>\n",
       "  </tbody>\n",
       "</table>\n",
       "</div>"
      ],
      "text/plain": [
       "                 STAR    TOTAL_REV   EXCELLENT   VERY_GOOD     AVERAGE  \\\n",
       "CLEANLINESS                                                              \n",
       "3.0          2.750000   103.500000   10.500000   17.000000   32.500000   \n",
       "3.5          3.125000   490.000000   67.000000  155.000000  137.500000   \n",
       "4.0          3.666667   654.833333  181.666667  251.666667  132.333333   \n",
       "4.5          4.153061  1127.285714  516.714286  398.632653  135.734694   \n",
       "5.0          4.500000  1263.000000  959.000000  225.300000   47.800000   \n",
       "\n",
       "                  POOR   TERRIBLE    FAMILIES     COUPLES       SOLO  \\\n",
       "CLEANLINESS                                                            \n",
       "3.0          24.500000  19.000000   30.500000   17.000000   7.000000   \n",
       "3.5          72.000000  58.750000   85.000000  140.750000  54.500000   \n",
       "4.0          53.916667  35.333333  193.083333  162.250000  44.833333   \n",
       "4.5          49.387755  27.000000  240.816327  353.591837  71.959184   \n",
       "5.0          20.000000  10.900000  310.200000  388.500000  63.000000   \n",
       "\n",
       "               BUSINESS  LOCATION  SLEEP_QUALITY      ROOM   SERVICE  \\\n",
       "CLEANLINESS                                                            \n",
       "3.0           22.000000  3.250000       2.750000  2.750000  2.750000   \n",
       "3.5           96.750000  4.125000       3.375000  3.000000  3.500000   \n",
       "4.0          124.666667  4.166667       3.708333  3.791667  4.041667   \n",
       "4.5          276.204082  4.632653       4.224490  4.183673  4.275510   \n",
       "5.0          306.600000  4.800000       4.600000  4.550000  4.700000   \n",
       "\n",
       "                VALUE        SCORE  IS_EXCELLENT  \n",
       "CLEANLINESS                                       \n",
       "3.0          3.000000   306.000000      0.000000  \n",
       "3.5          3.500000  1517.375000      0.000000  \n",
       "4.0          3.833333  2410.708333      0.000000  \n",
       "4.5          3.918367  4683.959184      0.142857  \n",
       "5.0          4.350000  5683.500000      1.000000  "
      ]
     },
     "execution_count": 64,
     "metadata": {},
     "output_type": "execute_result"
    }
   ],
   "source": [
    "df.groupby('CLEANLINESS').mean()"
   ]
  },
  {
   "cell_type": "code",
   "execution_count": 67,
   "metadata": {
    "collapsed": false
   },
   "outputs": [
    {
     "data": {
      "image/png": "[encoded data removed]",
      "text/plain": [
       "<matplotlib.figure.Figure at 0x10cefbbd0>"
      ]
     },
     "metadata": {},
     "output_type": "display_data"
    }
   ],
   "source": [
    "df.SLEEP_QUALITY.value_counts().sort_index().plot(kind='bar')\n",
    "plt.title('Histogram of SLEEP_QUALITY')\n",
    "plt.xlabel('Rating')\n",
    "plt.ylabel('Frequency')\n",
    "plt.show()"
   ]
  },
  {
   "cell_type": "code",
   "execution_count": 82,
   "metadata": {
    "collapsed": false
   },
   "outputs": [
    {
     "data": {
      "image/png": "[encoded data removed]",
      "text/plain": [
       "<matplotlib.figure.Figure at 0x10d382b90>"
      ]
     },
     "metadata": {},
     "output_type": "display_data"
    }
   ],
   "source": [
    "df.LOCATION.value_counts().sort_index().plot(kind='bar')\n",
    "plt.title('Histogram of LOCATION')\n",
    "plt.xlabel('Rating')\n",
    "plt.ylabel('Frequency')\n",
    "plt.show()"
   ]
  },
  {
   "cell_type": "code",
   "execution_count": 79,
   "metadata": {
    "collapsed": false
   },
   "outputs": [
    {
     "data": {
      "text/plain": [
       "LogisticRegression(C=1.0, class_weight=None, dual=False, fit_intercept=True,\n",
       "          intercept_scaling=1, penalty='l2', random_state=None, tol=0.0001)"
      ]
     },
     "execution_count": 79,
     "metadata": {},
     "output_type": "execute_result"
    }
   ],
   "source": [
    "# evaluate the model by splitting into train and test sets\n",
    "\n",
    "X_train, X_test, y_train, y_test = cross_validation.train_test_split(X,\n",
    "                                                                     y,\n",
    "                                                                     test_size=0.2,\n",
    "                                                                     random_state=0\n",
    "                                                                     )\n",
    "logistic_regr = linear_model.LogisticRegression()\n",
    "logistic_regr.fit(X_train, y_train)"
   ]
  },
  {
   "cell_type": "code",
   "execution_count": 74,
   "metadata": {
    "collapsed": false
   },
   "outputs": [
    {
     "name": "stdout",
     "output_type": "stream",
     "text": [
      "[False False  True False False False False  True False False  True False\n",
      "  True False False  True]\n"
     ]
    }
   ],
   "source": [
    "# predict class labels for the test set\n",
    "\n",
    "y_predicted = logistic_regr.predict(X_test)\n",
    "print y_predicted"
   ]
  },
  {
   "cell_type": "code",
   "execution_count": 75,
   "metadata": {
    "collapsed": false
   },
   "outputs": [
    {
     "name": "stdout",
     "output_type": "stream",
     "text": [
      "[[  1.00000000e+00   2.39272079e-32]\n",
      " [  1.00000000e+00   2.83571036e-27]\n",
      " [  2.50730802e-07   9.99999749e-01]\n",
      " [  1.00000000e+00   6.95674936e-21]\n",
      " [  1.00000000e+00   5.12023371e-28]\n",
      " [  1.00000000e+00   5.29338462e-15]\n",
      " [  9.94879334e-01   5.12066643e-03]\n",
      " [  3.20970433e-02   9.67902957e-01]\n",
      " [  9.99998130e-01   1.87023713e-06]\n",
      " [  1.00000000e+00   5.35078426e-17]\n",
      " [  5.58630412e-05   9.99944137e-01]\n",
      " [  1.00000000e+00   3.99744192e-53]\n",
      " [  0.00000000e+00   1.00000000e+00]\n",
      " [  1.00000000e+00   3.52931781e-17]\n",
      " [  1.00000000e+00   1.64179974e-22]\n",
      " [  1.24029675e-09   9.99999999e-01]]\n"
     ]
    }
   ],
   "source": [
    "# prediction probabilities\n",
    "\n",
    "probs = logistic_regr.predict_proba(X_test)\n",
    "print probs"
   ]
  },
  {
   "cell_type": "code",
   "execution_count": 76,
   "metadata": {
    "collapsed": false
   },
   "outputs": [
    {
     "name": "stdout",
     "output_type": "stream",
     "text": [
      "1.0\n"
     ]
    }
   ],
   "source": [
    "# generate evaluation metrics\n",
    "\n",
    "print metrics.accuracy_score(y_test, y_predicted)"
   ]
  },
  {
   "cell_type": "code",
   "execution_count": 77,
   "metadata": {
    "collapsed": false
   },
   "outputs": [
    {
     "name": "stdout",
     "output_type": "stream",
     "text": [
      "[[11  0]\n",
      " [ 0  5]]\n",
      "             precision    recall  f1-score   support\n",
      "\n",
      "      False       1.00      1.00      1.00        11\n",
      "       True       1.00      1.00      1.00         5\n",
      "\n",
      "avg / total       1.00      1.00      1.00        16\n",
      "\n"
     ]
    }
   ],
   "source": [
    "print metrics.confusion_matrix(y_test, y_predicted)\n",
    "print metrics.classification_report(y_test, y_predicted)"
   ]
  },
  {
   "cell_type": "code",
   "execution_count": 80,
   "metadata": {
    "collapsed": false
   },
   "outputs": [
    {
     "name": "stdout",
     "output_type": "stream",
     "text": [
      "                0                   1\n",
      "0       EXCELLENT   [0.0985724052833]\n",
      "1       VERY_GOOD   [-0.131985369558]\n",
      "2         AVERAGE   [-0.172777263979]\n",
      "3            POOR    [-0.15757702593]\n",
      "4        TERRIBLE   [-0.333495538372]\n",
      "5        LOCATION  [-0.0356655423352]\n",
      "6   SLEEP_QUALITY  [-0.0238386471611]\n",
      "7            ROOM  [-0.0236206720001]\n",
      "8         SERVICE  [-0.0237030758005]\n",
      "9           VALUE  [-0.0373379121732]\n",
      "10    CLEANLINESS  [-0.0343828774749]\n"
     ]
    }
   ],
   "source": [
    "# examine the coefficients\n",
    "print pd.DataFrame(zip(X.columns, np.transpose(logistic_regr.coef_)))"
   ]
  },
  {
   "cell_type": "markdown",
   "metadata": {},
   "source": [
    "5-fold cross validation of the of the model"
   ]
  },
  {
   "cell_type": "code",
   "execution_count": 81,
   "metadata": {
    "collapsed": false
   },
   "outputs": [
    {
     "name": "stdout",
     "output_type": "stream",
     "text": [
      "[ 1.     1.     0.875  1.     1.     1.     1.     1.     1.     1.   ]\n",
      "0.9875\n"
     ]
    }
   ],
   "source": [
    "# evaluate the model using 10-fold cross-validation\n",
    "scores = cross_validation.cross_val_score(linear_model.LogisticRegression(),\n",
    "                                          X,\n",
    "                                          y,\n",
    "                                          scoring='accuracy',\n",
    "                                          cv=10)\n",
    "print scores\n",
    "print scores.mean()"
   ]
  },
  {
   "cell_type": "code",
   "execution_count": 2,
   "metadata": {
    "collapsed": false
   },
   "outputs": [
    {
     "data": {
      "text/html": [
       "<link href='http://fonts.googleapis.com/css?family=EB+Garamond' rel='stylesheet' type='text/css'>\n",
       "<link href='http://fonts.googleapis.com/css?family=Alegreya+Sans:100,300,400,500,700,800,900,100italic,300italic,400italic,500italic,700italic,800italic,900italic' rel='stylesheet' type='text/css'>\n",
       "<link href='http://fonts.googleapis.com/css?family=Source+Code+Pro:300,400' rel='stylesheet' type='text/css'>\n",
       "<style>\n",
       "    @font-face {\n",
       "        font-family: \"Computer Modern\";\n",
       "        src: url('http://mirrors.ctan.org/fonts/cm-unicode/fonts/otf/cmunss.otf');\n",
       "    }\n",
       "    .code_cell {\n",
       "        width: 105ex !important ;\n",
       "        margin-bottom: 15px !important;\n",
       "    }\n",
       "    div.cell {\n",
       "        margin-left: auto;\n",
       "        margin-right: auto;\n",
       "        width: 70%;\n",
       "    }    \n",
       "    div.cell.selected {\n",
       "        border: thin rgba(171, 171, 171, 0.5) dashed;\n",
       "    }\n",
       "    h1 {\n",
       "        font-family: 'Alegreya Sans', sans-serif;\n",
       "    }\n",
       "    h2 {\n",
       "        font-family: 'EB Garamond', serif;\n",
       "    }\n",
       "    h3 {\n",
       "        font-family: 'EB Garamond', serif;\n",
       "        margin-top:12px;\n",
       "        margin-bottom: 3px;\n",
       "    }\n",
       "    h4 {\n",
       "        font-family: 'EB Garamond', serif;\n",
       "    }\n",
       "    h5 {\n",
       "        font-family: 'Alegreya Sans', sans-serif;\n",
       "    }\n",
       "    div.text_cell_render {\n",
       "        font-family: 'EB Garamond',Computer Modern, \"Helvetica Neue\", Arial, Helvetica, Geneva, sans-serif;\n",
       "        line-height: 145%;\n",
       "        font-size: 140%;\n",
       "    }\n",
       "    div.input_area {\n",
       "        border-color: rgba(0,0,0,0.10) !important;\n",
       "        background: #fafafa;\n",
       "    }\n",
       "    .CodeMirror {\n",
       "            font-family: \"Source Code Pro\";\n",
       "            font-size: 90%;\n",
       "    }\n",
       "    .prompt {\n",
       "        display: None;\n",
       "    }\n",
       "    .output {\n",
       "        padding-left: 50px;\n",
       "        padding-top: 5px;\n",
       "    }\n",
       "    .output_wrapper {\n",
       "        padding-left: 5px;\n",
       "        padding-top: inherit;\n",
       "    }\n",
       "    div.output_scroll {\n",
       "        width: inherit;\n",
       "    }\n",
       "    .inner_cell {\n",
       "        padding-left: 5px;\n",
       "    }\n",
       "    .text_cell_render h1 {\n",
       "        font-weight: 200;\n",
       "        font-size: 50pt;\n",
       "        line-height: 100%;\n",
       "        color:#CD2305;\n",
       "        margin-bottom: 0.5em;\n",
       "        margin-top: 0.5em;\n",
       "        display: block;\n",
       "    }\n",
       "    .text_cell_render h5 {\n",
       "        font-weight: 300;\n",
       "        font-size: 16pt;\n",
       "        color: #CD2305;\n",
       "        font-style: italic;\n",
       "        margin-bottom: .5em;\n",
       "        margin-top: 0.5em;\n",
       "        display: block;\n",
       "    }\n",
       "    .warning {\n",
       "        color: rgb( 240, 20, 20 )\n",
       "        }  \n",
       "</style>\n",
       "<script>\n",
       "    MathJax.Hub.Config({\n",
       "                        TeX: {\n",
       "                           extensions: [\"AMSmath.js\"]\n",
       "                           },\n",
       "                tex2jax: {\n",
       "                    inlineMath: [ ['$','$'], [\"\\\\(\",\"\\\\)\"] ],\n",
       "                    displayMath: [ ['$$','$$'], [\"\\\\[\",\"\\\\]\"] ]\n",
       "                },\n",
       "                displayAlign: 'center', // Change this to 'center' to center equations.\n",
       "                \"HTML-CSS\": {\n",
       "                    styles: {'.MathJax_Display': {\"margin\": 4}}\n",
       "                }\n",
       "        });\n",
       "</script>"
      ],
      "text/plain": [
       "<IPython.core.display.HTML at 0x106d7b6d0>"
      ]
     },
     "execution_count": 2,
     "metadata": {},
     "output_type": "execute_result"
    }
   ],
   "source": [
    "# Code for setting the style of the notebook\n",
    "from IPython.core.display import HTML\n",
    "def css_styling():\n",
    "    styles = open(\"../../theme/custom.css\", \"r\").read()\n",
    "    return HTML(styles)\n",
    "css_styling()"
   ]
  }
 ],
 "metadata": {
  "kernelspec": {
   "display_name": "Python 2",
   "language": "python",
   "name": "python2"
  },
  "language_info": {
   "codemirror_mode": {
    "name": "ipython",
    "version": 2
   },
   "file_extension": ".py",
   "mimetype": "text/x-python",
   "name": "python",
   "nbconvert_exporter": "python",
   "pygments_lexer": "ipython2",
   "version": "2.7.9"
  }
 },
 "nbformat": 4,
 "nbformat_minor": 0
}
