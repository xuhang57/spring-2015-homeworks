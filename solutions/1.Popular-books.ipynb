







<!DOCTYPE html>
<html lang="en">
  <head>
    <meta charset="utf-8">
    <title></title>

    <meta name="viewport" content="width=device-width, initial-scale=1.0">

    
    <meta name="description" content="">
    

    
    <meta name="author" content="">
    

    <!--NEW RELIC Start Perf Measurement-->
    
    <!--NREND-->

    <!-- Le styles -->
    <link href="/static/build/styles.css" rel="stylesheet">


    <!-- Le HTML5 shim, for IE6-8 support of HTML5 elements -->
    <!--[if lt IE 9]>
      <script src="http://html5shim.googlecode.com/svn/trunk/html5.js"></script>
    <![endif]-->

    <!-- Le fav and touch icons -->
    <link rel="shortcut icon" href="/static/ico/ipynb_icon_16x16.png">
    <link rel="apple-touch-icon-precomposed" sizes="144x144" href="/static/ico/apple-touch-icon-144-precomposed.png">
    <link rel="apple-touch-icon-precomposed" sizes="114x114" href="/static/ico/apple-touch-icon-114-precomposed.png">
    <link rel="apple-touch-icon-precomposed" sizes="72x72" href="/static/ico/apple-touch-icon-72-precomposed.png">
    <link rel="apple-touch-icon-precomposed" href="/static/ico/apple-touch-icon-57-precomposed.png">
    
    
    

    

    
    <meta name="twitter:card" content="summary">

    
    <meta name="twitter:title" content="Notebook on nbviewer">
    

    
    <meta name="twitter:description" content="Check out this Jupyter notebook!">
    

    
    <meta name="twitter:domain" content="nbviewer.ipython.org">
    

    <meta name="twitter:image:src" content="http://ipython.org/ipython-doc/dev/_images/ipynb_icon_128x128.png">
    
    
    

    <link href="/static/build/notebook.css" rel="stylesheet">
    
    <script src="https://cdn.mathjax.org/mathjax/latest/MathJax.js?config=TeX-AMS_HTML"type="text/javascript">
    </script>
    <script type="text/javascript">
    init_mathjax = function() {
        if (window.MathJax) {
            // MathJax loaded
            MathJax.Hub.Config({
                tex2jax: {
                    inlineMath: [ ['$','$'], ["\\(","\\)"] ],
                    displayMath: [ ['$$','$$'], ["\\[","\\]"] ],
                    processEscapes: true,
                    processEnvironments: true
                },
                displayAlign: 'center',
                "HTML-CSS": {
                    styles: {'.MathJax_Display': {"margin": 0}},
                    linebreaks: { automatic: true }
                }
            });
            MathJax.Hub.Queue(["Typeset",MathJax.Hub]);
        }
    }
    init_mathjax();
    </script>
    
  </head>

  <body data-spy="scroll" data-target=".subnav" data-offset="50">

  <!-- These are loaded at the top of the body so they are available to notebook
  cells when they are loaded below. -->
  <script src="/static/components/jquery/jquery.min.js"></script>
  <script src="/static/components/requirejs/require.js"></script>
  <script src="/static/components/moment/min/moment.min.js"></script>

  <!-- Navbar
  ================================================== -->
    <div id='menubar' class="navbar navbar-fixed-top hidden-print">
      <div class="navbar-inner">
        <div class="container">
          <button type="button" class="btn btn-navbar" data-toggle="collapse" data-target=".nav-collapse">
            <span class="fa fa-bars"></span>
          </button>
          <div class="nav-collapse collapse">
            <ul class="nav">

                <li>
        <a href="/" title="nbviewer" >
            <strong>
            <span>nbviewer</span>
            </strong>
        </a>
    </li>
                <li>
        <a href="/faq" title="FAQ" >
            
            <span>FAQ</span>
            
        </a>
    </li>

              <li class="">
                <a href="http://ipython.org">IPython</a>
              </li>

              <li class="">
                <a href="http://jupyter.org">Jupyter</a>
              </li>

            </ul>
            <ul class="nav pull-right">
              
              
      
        <li>
        <a href="http://cs-people.bu.edu/cmav/cs591/solutions/Homework-1/1.Popular-books.ipynb" title="Download Notebook" download>
            <span class='fa fa-download fa-2x menu-icon'></span>
            <span class='menu-text'>Download Notebook</span>
        </a>
    </li>
    
            </ul>
          </div>
        </div>
      </div>
    </div>
    <div class="container">

     
    
    
<div class="cell border-box-sizing text_cell rendered">
<div class="prompt input_prompt">
</div>
<div class="inner_cell">
<div class="text_cell_render border-box-sizing rendered_html">
<p>(In order to load the stylesheet of this notebook, execute the last code cell in this notebook)</p>
</div>
</div>
</div>
<div class="cell border-box-sizing text_cell rendered">
<div class="prompt input_prompt">
</div>
<div class="inner_cell">
<div class="text_cell_render border-box-sizing rendered_html">
<h1 id="NYT-Books:-Finding-the-popular-best-sellers">NYT Books: Finding the popular best-sellers<a class="anchor-link" href="#NYT-Books:-Finding-the-popular-best-sellers">&#182;</a></h1>
</div>
</div>
</div>

<div class="cell border-box-sizing text_cell rendered">
<div class="prompt input_prompt">
</div>
<div class="inner_cell">
<div class="text_cell_render border-box-sizing rendered_html">
<h2 id="Introduction">Introduction<a class="anchor-link" href="#Introduction">&#182;</a></h2>
</div>
</div>
</div>

<div class="cell border-box-sizing text_cell rendered">
<div class="prompt input_prompt">
</div>
<div class="inner_cell">
<div class="text_cell_render border-box-sizing rendered_html">
<p>In this assignment, we will compile a list of books that were best-sellers during the summer of 2014. To get this list, we will use the <a href="http://developer.nytimes.com/docs/books_api/Books_API_Best_Sellers">Books API</a>, from the New York Times.</p>
<hr>
</div>
</div>
</div>
<div class="cell border-box-sizing text_cell rendered">
<div class="prompt input_prompt">
</div>
<div class="inner_cell">
<div class="text_cell_render border-box-sizing rendered_html">
<h2 id="Step-0.-Preparation">Step 0. Preparation<a class="anchor-link" href="#Step-0.-Preparation">&#182;</a></h2>
</div>
</div>
</div>

<div class="cell border-box-sizing text_cell rendered">
<div class="prompt input_prompt">
</div>
<div class="inner_cell">
<div class="text_cell_render border-box-sizing rendered_html">
<p>Before we start working on the notebook, let&#39;s make sure that everything is setup properly. You should have downloaded and installed</p>
<ul>
<li><a href="https://store.continuum.io/cshop/anaconda/">Anaconda</a></li>
<li><a href="http://git-scm.com/downloads">Git</a></li>
</ul>
<p>If you are working from the undergraduate lab (on a linux machine) these are both installed, but you need to follow the instructions <a href="http://nbviewer.ipython.org/github/dataminingapp/dataminingapp-lectures/blob/master/Lecture-2/Getting-Started.ipynb">from here</a>.</p>
</div>
</div>
</div>
<div class="cell border-box-sizing text_cell rendered">
<div class="prompt input_prompt">
</div>
<div class="inner_cell">
<div class="text_cell_render border-box-sizing rendered_html">
<h2 id="Step-1.-Acquiring-access-to-the-API">Step 1. Acquiring access to the API<a class="anchor-link" href="#Step-1.-Acquiring-access-to-the-API">&#182;</a></h2>
</div>
</div>
</div>

<div class="cell border-box-sizing text_cell rendered">
<div class="prompt input_prompt">
</div>
<div class="inner_cell">
<div class="text_cell_render border-box-sizing rendered_html">
<p>Like most APIs, NYT requires that each developer should have a private (secret) key in order to use their services. This way, they are able to throttle the number of requests that are being issued. According to their website, this limit is at 5,000 requests per day. You can register <a href="http://developer.nytimes.com/apps/register">here</a>. When asked, request a key for the <em>Best Sellers API</em>. Your key will be in the next web page. Save it in a text file named <em>key.txt</em>, in the same folder as this notebook.</p>
</div>
</div>
</div>
<div class="cell border-box-sizing text_cell rendered">
<div class="prompt input_prompt">
</div>
<div class="inner_cell">
<div class="text_cell_render border-box-sizing rendered_html">
<p><strong>Do not add this key to your repo (git add) because it includes sensitive information that only you should know.</strong> To make sure that you do not add this by mistake, you will need to tell <em>git</em> which files to always ignore. We can do this by creating a <em>.gitignore</em> file under the root directory of the repository (<em>spring-2015-homeworks/</em>) and inside it add the path to the file that you want to ignore:</p>
<pre><code>submissions/Homework-1/key.txt
</code></pre><p>If you did this right, the file should not come up when you type <code>git status</code>.</p>
</div>
</div>
</div>
<div class="cell border-box-sizing text_cell rendered">
<div class="prompt input_prompt">
</div>
<div class="inner_cell">
<div class="text_cell_render border-box-sizing rendered_html">
<p>Now that we donwloaded our key, we should read it into a variable to use it for the rest of this notebook.</p>
</div>
</div>
</div>
<div class="cell border-box-sizing code_cell rendered">
<div class="input">
<div class="prompt input_prompt">In&nbsp;[1]:</div>
<div class="inner_cell">
    <div class="input_area">
<div class="highlight"><pre><span class="n">key</span> <span class="o">=</span> <span class="s">&quot;&quot;</span>
<span class="k">with</span> <span class="nb">open</span><span class="p">(</span><span class="s">&#39;key.txt&#39;</span><span class="p">,</span><span class="s">&#39;r&#39;</span><span class="p">)</span> <span class="k">as</span> <span class="n">f</span><span class="p">:</span>
    <span class="n">key</span> <span class="o">=</span> <span class="n">f</span><span class="o">.</span><span class="n">readline</span><span class="p">()</span><span class="o">.</span><span class="n">strip</span><span class="p">()</span>

<span class="k">if</span> <span class="nb">len</span><span class="p">(</span><span class="n">key</span><span class="p">)</span> <span class="o">&gt;</span> <span class="mi">0</span><span class="p">:</span>
    <span class="k">print</span> <span class="s">&quot;Succesfully retrieved API key&quot;</span>
</pre></div>

</div>
</div>
</div>

<div class="output_wrapper">
<div class="output">


<div class="output_area"><div class="prompt"></div>
<div class="output_subarea output_stream output_stdout output_text">
<pre>
Succesfully retrieved API key

</pre>
</div>
</div>

</div>
</div>

</div>
<div class="cell border-box-sizing text_cell rendered">
<div class="prompt input_prompt">
</div>
<div class="inner_cell">
<div class="text_cell_render border-box-sizing rendered_html">
<p>Let&#39;s make a sample request to check that everything works fine. We will retrieve the names of NYT best-seller lists.</p>
</div>
</div>
</div>
<div class="cell border-box-sizing code_cell rendered">
<div class="input">
<div class="prompt input_prompt">In&nbsp;[2]:</div>
<div class="inner_cell">
    <div class="input_area">
<div class="highlight"><pre><span class="kn">import</span> <span class="nn">requests</span>

<span class="n">response</span> <span class="o">=</span> <span class="n">requests</span><span class="o">.</span><span class="n">get</span><span class="p">(</span><span class="s">&quot;http://api.nytimes.com/svc/books/v3/lists/names.json?api-key=</span><span class="si">%s</span><span class="s">&quot;</span><span class="o">%</span><span class="p">(</span><span class="n">key</span><span class="p">))</span>
<span class="k">print</span> <span class="n">response</span>
</pre></div>

</div>
</div>
</div>

<div class="output_wrapper">
<div class="output">


<div class="output_area"><div class="prompt"></div>
<div class="output_subarea output_stream output_stdout output_text">
<pre>
&lt;Response [200]&gt;

</pre>
</div>
</div>

</div>
</div>

</div>
<div class="cell border-box-sizing text_cell rendered">
<div class="prompt input_prompt">
</div>
<div class="inner_cell">
<div class="text_cell_render border-box-sizing rendered_html">
<p>Before we generate the request string, we need to read the guidelines from <a href="http://developer.nytimes.com/docs/books_api/Books_API_Best_Sellers#h2-requests">here</a>. According to the documentation under the <em>BEST-SELLER LIST NAMES</em> section, the request must follow this URI structure:</p>
<pre><code>http://api.nytimes.com/svc/books/{version}/lists/names[.response_format]?api-key={your-API-key}
</code></pre><p>We need to replace <em>{version}</em> with <em>v3</em>, the <em>response_format</em> with <em>json</em> and include our secrete API key.</p>
</div>
</div>
</div>
<div class="cell border-box-sizing text_cell rendered">
<div class="prompt input_prompt">
</div>
<div class="inner_cell">
<div class="text_cell_render border-box-sizing rendered_html">
<p>We can try to print the response that NYT returns.</p>
</div>
</div>
</div>
<div class="cell border-box-sizing code_cell rendered">
<div class="input">
<div class="prompt input_prompt">In&nbsp;[4]:</div>
<div class="inner_cell">
    <div class="input_area">
<div class="highlight"><pre><span class="k">print</span> <span class="n">response</span><span class="o">.</span><span class="n">text</span>
</pre></div>

</div>
</div>
</div>

<div class="output_wrapper">
<div class="output">


<div class="output_area"><div class="prompt"></div>
<div class="output_subarea output_stream output_stdout output_text">
<pre>
{&quot;status&quot;:&quot;OK&quot;,&quot;copyright&quot;:&quot;Copyright (c) 2015 The New York Times Company.  All Rights Reserved.&quot;,&quot;num_results&quot;:47,&quot;results&quot;:[{&quot;list_name&quot;:&quot;Combined Print and E-Book Fiction&quot;,&quot;display_name&quot;:&quot;Combined Print &amp; E-Book Fiction&quot;,&quot;list_name_encoded&quot;:&quot;combined-print-and-e-book-fiction&quot;,&quot;oldest_published_date&quot;:&quot;2011-02-13&quot;,&quot;newest_published_date&quot;:&quot;2015-02-08&quot;,&quot;updated&quot;:&quot;WEEKLY&quot;},{&quot;list_name&quot;:&quot;Combined Print and E-Book Nonfiction&quot;,&quot;display_name&quot;:&quot;Combined Print &amp; E-Book Nonfiction&quot;,&quot;list_name_encoded&quot;:&quot;combined-print-and-e-book-nonfiction&quot;,&quot;oldest_published_date&quot;:&quot;2011-02-13&quot;,&quot;newest_published_date&quot;:&quot;2015-02-08&quot;,&quot;updated&quot;:&quot;WEEKLY&quot;},{&quot;list_name&quot;:&quot;Hardcover Fiction&quot;,&quot;display_name&quot;:&quot;Hardcover Fiction&quot;,&quot;list_name_encoded&quot;:&quot;hardcover-fiction&quot;,&quot;oldest_published_date&quot;:&quot;2008-06-08&quot;,&quot;newest_published_date&quot;:&quot;2015-02-08&quot;,&quot;updated&quot;:&quot;WEEKLY&quot;},{&quot;list_name&quot;:&quot;Hardcover Nonfiction&quot;,&quot;display_name&quot;:&quot;Hardcover Nonfiction&quot;,&quot;list_name_encoded&quot;:&quot;hardcover-nonfiction&quot;,&quot;oldest_published_date&quot;:&quot;2008-06-08&quot;,&quot;newest_published_date&quot;:&quot;2015-02-08&quot;,&quot;updated&quot;:&quot;WEEKLY&quot;},{&quot;list_name&quot;:&quot;Trade Fiction Paperback&quot;,&quot;display_name&quot;:&quot;Paperback Trade Fiction&quot;,&quot;list_name_encoded&quot;:&quot;trade-fiction-paperback&quot;,&quot;oldest_published_date&quot;:&quot;2008-06-08&quot;,&quot;newest_published_date&quot;:&quot;2015-02-08&quot;,&quot;updated&quot;:&quot;WEEKLY&quot;},{&quot;list_name&quot;:&quot;Mass Market Paperback&quot;,&quot;display_name&quot;:&quot;Paperback Mass-Market Fiction&quot;,&quot;list_name_encoded&quot;:&quot;mass-market-paperback&quot;,&quot;oldest_published_date&quot;:&quot;2008-06-08&quot;,&quot;newest_published_date&quot;:&quot;2015-02-08&quot;,&quot;updated&quot;:&quot;WEEKLY&quot;},{&quot;list_name&quot;:&quot;Paperback Nonfiction&quot;,&quot;display_name&quot;:&quot;Paperback Nonfiction&quot;,&quot;list_name_encoded&quot;:&quot;paperback-nonfiction&quot;,&quot;oldest_published_date&quot;:&quot;2008-06-08&quot;,&quot;newest_published_date&quot;:&quot;2015-02-08&quot;,&quot;updated&quot;:&quot;WEEKLY&quot;},{&quot;list_name&quot;:&quot;E-Book Fiction&quot;,&quot;display_name&quot;:&quot;E-Book Fiction&quot;,&quot;list_name_encoded&quot;:&quot;e-book-fiction&quot;,&quot;oldest_published_date&quot;:&quot;2011-02-13&quot;,&quot;newest_published_date&quot;:&quot;2015-02-08&quot;,&quot;updated&quot;:&quot;WEEKLY&quot;},{&quot;list_name&quot;:&quot;E-Book Nonfiction&quot;,&quot;display_name&quot;:&quot;E-Book Nonfiction&quot;,&quot;list_name_encoded&quot;:&quot;e-book-nonfiction&quot;,&quot;oldest_published_date&quot;:&quot;2011-02-13&quot;,&quot;newest_published_date&quot;:&quot;2015-02-08&quot;,&quot;updated&quot;:&quot;WEEKLY&quot;},{&quot;list_name&quot;:&quot;Hardcover Advice&quot;,&quot;display_name&quot;:&quot;Hardcover Advice &amp; Misc.&quot;,&quot;list_name_encoded&quot;:&quot;hardcover-advice&quot;,&quot;oldest_published_date&quot;:&quot;2008-06-08&quot;,&quot;newest_published_date&quot;:&quot;2013-04-21&quot;,&quot;updated&quot;:&quot;WEEKLY&quot;},{&quot;list_name&quot;:&quot;Paperback Advice&quot;,&quot;display_name&quot;:&quot;Paperback Advice &amp; Misc.&quot;,&quot;list_name_encoded&quot;:&quot;paperback-advice&quot;,&quot;oldest_published_date&quot;:&quot;2008-06-08&quot;,&quot;newest_published_date&quot;:&quot;2013-04-21&quot;,&quot;updated&quot;:&quot;WEEKLY&quot;},{&quot;list_name&quot;:&quot;Advice How-To and Miscellaneous&quot;,&quot;display_name&quot;:&quot;Advice, How-To &amp; Miscellaneous&quot;,&quot;list_name_encoded&quot;:&quot;advice-how-to-and-miscellaneous&quot;,&quot;oldest_published_date&quot;:&quot;2013-04-28&quot;,&quot;newest_published_date&quot;:&quot;2015-02-08&quot;,&quot;updated&quot;:&quot;WEEKLY&quot;},{&quot;list_name&quot;:&quot;Picture Books&quot;,&quot;display_name&quot;:&quot;Children&apos;s Picture Books&quot;,&quot;list_name_encoded&quot;:&quot;picture-books&quot;,&quot;oldest_published_date&quot;:&quot;2008-06-08&quot;,&quot;newest_published_date&quot;:&quot;2015-02-08&quot;,&quot;updated&quot;:&quot;WEEKLY&quot;},{&quot;list_name&quot;:&quot;Chapter Books&quot;,&quot;display_name&quot;:&quot;Children&apos;s Chapter Books&quot;,&quot;list_name_encoded&quot;:&quot;chapter-books&quot;,&quot;oldest_published_date&quot;:&quot;2008-06-08&quot;,&quot;newest_published_date&quot;:&quot;2012-12-09&quot;,&quot;updated&quot;:&quot;WEEKLY&quot;},{&quot;list_name&quot;:&quot;Childrens Middle Grade&quot;,&quot;display_name&quot;:&quot;Children&apos;s Middle Grade&quot;,&quot;list_name_encoded&quot;:&quot;childrens-middle-grade&quot;,&quot;oldest_published_date&quot;:&quot;2012-12-16&quot;,&quot;newest_published_date&quot;:&quot;2015-02-08&quot;,&quot;updated&quot;:&quot;WEEKLY&quot;},{&quot;list_name&quot;:&quot;Young Adult&quot;,&quot;display_name&quot;:&quot;Young Adult&quot;,&quot;list_name_encoded&quot;:&quot;young-adult&quot;,&quot;oldest_published_date&quot;:&quot;2012-12-16&quot;,&quot;newest_published_date&quot;:&quot;2015-02-08&quot;,&quot;updated&quot;:&quot;WEEKLY&quot;},{&quot;list_name&quot;:&quot;Paperback Books&quot;,&quot;display_name&quot;:&quot;Children&apos;s Paperback Books&quot;,&quot;list_name_encoded&quot;:&quot;paperback-books&quot;,&quot;oldest_published_date&quot;:&quot;2008-06-08&quot;,&quot;newest_published_date&quot;:&quot;2012-12-09&quot;,&quot;updated&quot;:&quot;WEEKLY&quot;},{&quot;list_name&quot;:&quot;Series Books&quot;,&quot;display_name&quot;:&quot;Children&apos;s Series&quot;,&quot;list_name_encoded&quot;:&quot;series-books&quot;,&quot;oldest_published_date&quot;:&quot;2008-06-08&quot;,&quot;newest_published_date&quot;:&quot;2015-02-08&quot;,&quot;updated&quot;:&quot;WEEKLY&quot;},{&quot;list_name&quot;:&quot;Hardcover Graphic Books&quot;,&quot;display_name&quot;:&quot;Hardcover Graphic Books&quot;,&quot;list_name_encoded&quot;:&quot;hardcover-graphic-books&quot;,&quot;oldest_published_date&quot;:&quot;2009-03-15&quot;,&quot;newest_published_date&quot;:&quot;2015-02-08&quot;,&quot;updated&quot;:&quot;WEEKLY&quot;},{&quot;list_name&quot;:&quot;Paperback Graphic Books&quot;,&quot;display_name&quot;:&quot;Paperback Graphic Books&quot;,&quot;list_name_encoded&quot;:&quot;paperback-graphic-books&quot;,&quot;oldest_published_date&quot;:&quot;2009-03-15&quot;,&quot;newest_published_date&quot;:&quot;2015-02-08&quot;,&quot;updated&quot;:&quot;WEEKLY&quot;},{&quot;list_name&quot;:&quot;Manga&quot;,&quot;display_name&quot;:&quot;Manga&quot;,&quot;list_name_encoded&quot;:&quot;manga&quot;,&quot;oldest_published_date&quot;:&quot;2009-03-15&quot;,&quot;newest_published_date&quot;:&quot;2015-02-08&quot;,&quot;updated&quot;:&quot;WEEKLY&quot;},{&quot;list_name&quot;:&quot;Combined Print Fiction&quot;,&quot;display_name&quot;:&quot;Combined Hardcover &amp; Paperback Fiction&quot;,&quot;list_name_encoded&quot;:&quot;combined-print-fiction&quot;,&quot;oldest_published_date&quot;:&quot;2011-02-13&quot;,&quot;newest_published_date&quot;:&quot;2013-05-12&quot;,&quot;updated&quot;:&quot;WEEKLY&quot;},{&quot;list_name&quot;:&quot;Combined Print Nonfiction&quot;,&quot;display_name&quot;:&quot;Combined Hardcover &amp; Paperback Nonfiction&quot;,&quot;list_name_encoded&quot;:&quot;combined-print-nonfiction&quot;,&quot;oldest_published_date&quot;:&quot;2011-02-13&quot;,&quot;newest_published_date&quot;:&quot;2013-05-12&quot;,&quot;updated&quot;:&quot;WEEKLY&quot;},{&quot;list_name&quot;:&quot;Animals&quot;,&quot;display_name&quot;:&quot;Animals&quot;,&quot;list_name_encoded&quot;:&quot;animals&quot;,&quot;oldest_published_date&quot;:&quot;2014-09-07&quot;,&quot;newest_published_date&quot;:&quot;2015-01-11&quot;,&quot;updated&quot;:&quot;MONTHLY&quot;},{&quot;list_name&quot;:&quot;Business Books&quot;,&quot;display_name&quot;:&quot;Business&quot;,&quot;list_name_encoded&quot;:&quot;business-books&quot;,&quot;oldest_published_date&quot;:&quot;2013-11-03&quot;,&quot;newest_published_date&quot;:&quot;2015-01-11&quot;,&quot;updated&quot;:&quot;MONTHLY&quot;},{&quot;list_name&quot;:&quot;Celebrities&quot;,&quot;display_name&quot;:&quot;Celebrities&quot;,&quot;list_name_encoded&quot;:&quot;celebrities&quot;,&quot;oldest_published_date&quot;:&quot;2014-09-07&quot;,&quot;newest_published_date&quot;:&quot;2015-02-15&quot;,&quot;updated&quot;:&quot;MONTHLY&quot;},{&quot;list_name&quot;:&quot;Crime and Punishment&quot;,&quot;display_name&quot;:&quot;Crime and Punishment&quot;,&quot;list_name_encoded&quot;:&quot;crime-and-punishment&quot;,&quot;oldest_published_date&quot;:&quot;2014-10-12&quot;,&quot;newest_published_date&quot;:&quot;2015-02-15&quot;,&quot;updated&quot;:&quot;MONTHLY&quot;},{&quot;list_name&quot;:&quot;Culture&quot;,&quot;display_name&quot;:&quot;Culture&quot;,&quot;list_name_encoded&quot;:&quot;culture&quot;,&quot;oldest_published_date&quot;:&quot;2014-10-12&quot;,&quot;newest_published_date&quot;:&quot;2015-01-11&quot;,&quot;updated&quot;:&quot;MONTHLY&quot;},{&quot;list_name&quot;:&quot;Education&quot;,&quot;display_name&quot;:&quot;Education&quot;,&quot;list_name_encoded&quot;:&quot;education&quot;,&quot;oldest_published_date&quot;:&quot;2014-10-12&quot;,&quot;newest_published_date&quot;:&quot;2015-01-11&quot;,&quot;updated&quot;:&quot;MONTHLY&quot;},{&quot;list_name&quot;:&quot;Espionage&quot;,&quot;display_name&quot;:&quot;Espionage&quot;,&quot;list_name_encoded&quot;:&quot;espionage&quot;,&quot;oldest_published_date&quot;:&quot;2014-12-14&quot;,&quot;newest_published_date&quot;:&quot;2015-02-15&quot;,&quot;updated&quot;:&quot;MONTHLY&quot;},{&quot;list_name&quot;:&quot;Expeditions Disasters and Adventures&quot;,&quot;display_name&quot;:&quot;Expeditions, Disasters and Adventures&quot;,&quot;list_name_encoded&quot;:&quot;expeditions-disasters-and-adventures&quot;,&quot;oldest_published_date&quot;:&quot;2014-12-14&quot;,&quot;newest_published_date&quot;:&quot;2015-01-11&quot;,&quot;updated&quot;:&quot;MONTHLY&quot;},{&quot;list_name&quot;:&quot;Family&quot;,&quot;display_name&quot;:&quot;Family&quot;,&quot;list_name_encoded&quot;:&quot;family&quot;,&quot;oldest_published_date&quot;:&quot;2014-09-07&quot;,&quot;newest_published_date&quot;:&quot;2015-01-11&quot;,&quot;updated&quot;:&quot;MONTHLY&quot;},{&quot;list_name&quot;:&quot;Fashion Manners and Customs&quot;,&quot;display_name&quot;:&quot;Fashion, Manners and Customs&quot;,&quot;list_name_encoded&quot;:&quot;fashion-manners-and-customs&quot;,&quot;oldest_published_date&quot;:&quot;2014-10-12&quot;,&quot;newest_published_date&quot;:&quot;2015-02-15&quot;,&quot;updated&quot;:&quot;MONTHLY&quot;},{&quot;list_name&quot;:&quot;Food and Fitness&quot;,&quot;display_name&quot;:&quot;Food and Fitness&quot;,&quot;list_name_encoded&quot;:&quot;food-and-fitness&quot;,&quot;oldest_published_date&quot;:&quot;2013-09-01&quot;,&quot;newest_published_date&quot;:&quot;2015-02-15&quot;,&quot;updated&quot;:&quot;MONTHLY&quot;},{&quot;list_name&quot;:&quot;Games and Activities&quot;,&quot;display_name&quot;:&quot;Games and Activities&quot;,&quot;list_name_encoded&quot;:&quot;games-and-activities&quot;,&quot;oldest_published_date&quot;:&quot;2014-10-12&quot;,&quot;newest_published_date&quot;:&quot;2015-01-11&quot;,&quot;updated&quot;:&quot;MONTHLY&quot;},{&quot;list_name&quot;:&quot;Hardcover Business Books&quot;,&quot;display_name&quot;:&quot;Hardcover Business Books&quot;,&quot;list_name_encoded&quot;:&quot;hardcover-business-books&quot;,&quot;oldest_published_date&quot;:&quot;2011-07-03&quot;,&quot;newest_published_date&quot;:&quot;2013-10-13&quot;,&quot;updated&quot;:&quot;MONTHLY&quot;},{&quot;list_name&quot;:&quot;Health&quot;,&quot;display_name&quot;:&quot;Health&quot;,&quot;list_name_encoded&quot;:&quot;health&quot;,&quot;oldest_published_date&quot;:&quot;2014-10-12&quot;,&quot;newest_published_date&quot;:&quot;2015-01-11&quot;,&quot;updated&quot;:&quot;MONTHLY&quot;},{&quot;list_name&quot;:&quot;Humor&quot;,&quot;display_name&quot;:&quot;Humor&quot;,&quot;list_name_encoded&quot;:&quot;humor&quot;,&quot;oldest_published_date&quot;:&quot;2014-09-07&quot;,&quot;newest_published_date&quot;:&quot;2015-02-15&quot;,&quot;updated&quot;:&quot;MONTHLY&quot;},{&quot;list_name&quot;:&quot;Indigenous Americans&quot;,&quot;display_name&quot;:&quot;Indigenous Americans&quot;,&quot;list_name_encoded&quot;:&quot;indigenous-americans&quot;,&quot;oldest_published_date&quot;:&quot;2014-12-14&quot;,&quot;newest_published_date&quot;:&quot;2015-02-15&quot;,&quot;updated&quot;:&quot;MONTHLY&quot;},{&quot;list_name&quot;:&quot;Paperback Business Books&quot;,&quot;display_name&quot;:&quot;Paperback Business Books&quot;,&quot;list_name_encoded&quot;:&quot;paperback-business-books&quot;,&quot;oldest_published_date&quot;:&quot;2011-07-03&quot;,&quot;newest_published_date&quot;:&quot;2013-10-13&quot;,&quot;updated&quot;:&quot;MONTHLY&quot;},{&quot;list_name&quot;:&quot;Hardcover Political Books&quot;,&quot;display_name&quot;:&quot;Politics&quot;,&quot;list_name_encoded&quot;:&quot;hardcover-political-books&quot;,&quot;oldest_published_date&quot;:&quot;2011-07-03&quot;,&quot;newest_published_date&quot;:&quot;2015-01-11&quot;,&quot;updated&quot;:&quot;MONTHLY&quot;},{&quot;list_name&quot;:&quot;Race and Civil Rights&quot;,&quot;display_name&quot;:&quot;Race and Civil Rights&quot;,&quot;list_name_encoded&quot;:&quot;race-and-civil-rights&quot;,&quot;oldest_published_date&quot;:&quot;2014-12-14&quot;,&quot;newest_published_date&quot;:&quot;2015-01-11&quot;,&quot;updated&quot;:&quot;MONTHLY&quot;},{&quot;list_name&quot;:&quot;Relationships&quot;,&quot;display_name&quot;:&quot;Relationships&quot;,&quot;list_name_encoded&quot;:&quot;relationships&quot;,&quot;oldest_published_date&quot;:&quot;2014-09-07&quot;,&quot;newest_published_date&quot;:&quot;2015-02-15&quot;,&quot;updated&quot;:&quot;MONTHLY&quot;},{&quot;list_name&quot;:&quot;Religion Spirituality and Faith&quot;,&quot;display_name&quot;:&quot;Religion, Spirituality and Faith&quot;,&quot;list_name_encoded&quot;:&quot;religion-spirituality-and-faith&quot;,&quot;oldest_published_date&quot;:&quot;2014-09-07&quot;,&quot;newest_published_date&quot;:&quot;2015-02-15&quot;,&quot;updated&quot;:&quot;MONTHLY&quot;},{&quot;list_name&quot;:&quot;Science&quot;,&quot;display_name&quot;:&quot;Science&quot;,&quot;list_name_encoded&quot;:&quot;science&quot;,&quot;oldest_published_date&quot;:&quot;2013-04-14&quot;,&quot;newest_published_date&quot;:&quot;2015-02-15&quot;,&quot;updated&quot;:&quot;MONTHLY&quot;},{&quot;list_name&quot;:&quot;Sports&quot;,&quot;display_name&quot;:&quot;Sports&quot;,&quot;list_name_encoded&quot;:&quot;sports&quot;,&quot;oldest_published_date&quot;:&quot;2014-03-02&quot;,&quot;newest_published_date&quot;:&quot;2015-01-11&quot;,&quot;updated&quot;:&quot;MONTHLY&quot;},{&quot;list_name&quot;:&quot;Travel&quot;,&quot;display_name&quot;:&quot;Travel&quot;,&quot;list_name_encoded&quot;:&quot;travel&quot;,&quot;oldest_published_date&quot;:&quot;2014-09-07&quot;,&quot;newest_published_date&quot;:&quot;2015-02-15&quot;,&quot;updated&quot;:&quot;MONTHLY&quot;}]}

</pre>
</div>
</div>

</div>
</div>

</div>
<div class="cell border-box-sizing text_cell rendered">
<div class="prompt input_prompt">
</div>
<div class="inner_cell">
<div class="text_cell_render border-box-sizing rendered_html">
<p>It is not possible to read the raw response. Instead, we need to decode the raw response as JSON and use the <code>json</code> library to print it.</p>
</div>
</div>
</div>
<div class="cell border-box-sizing code_cell rendered">
<div class="input">
<div class="prompt input_prompt">In&nbsp;[5]:</div>
<div class="inner_cell">
    <div class="input_area">
<div class="highlight"><pre><span class="kn">import</span> <span class="nn">json</span>
<span class="k">print</span> <span class="n">json</span><span class="o">.</span><span class="n">dumps</span><span class="p">(</span><span class="n">response</span><span class="o">.</span><span class="n">json</span><span class="p">(),</span> <span class="n">indent</span><span class="o">=</span><span class="mi">2</span><span class="p">)</span>
</pre></div>

</div>
</div>
</div>

<div class="output_wrapper">
<div class="output">


<div class="output_area"><div class="prompt"></div>
<div class="output_subarea output_stream output_stdout output_text">
<pre>
{
  &quot;status&quot;: &quot;OK&quot;, 
  &quot;num_results&quot;: 47, 
  &quot;results&quot;: [
    {
      &quot;updated&quot;: &quot;WEEKLY&quot;, 
      &quot;display_name&quot;: &quot;Combined Print &amp; E-Book Fiction&quot;, 
      &quot;list_name_encoded&quot;: &quot;combined-print-and-e-book-fiction&quot;, 
      &quot;newest_published_date&quot;: &quot;2015-02-08&quot;, 
      &quot;oldest_published_date&quot;: &quot;2011-02-13&quot;, 
      &quot;list_name&quot;: &quot;Combined Print and E-Book Fiction&quot;
    }, 
    {
      &quot;updated&quot;: &quot;WEEKLY&quot;, 
      &quot;display_name&quot;: &quot;Combined Print &amp; E-Book Nonfiction&quot;, 
      &quot;list_name_encoded&quot;: &quot;combined-print-and-e-book-nonfiction&quot;, 
      &quot;newest_published_date&quot;: &quot;2015-02-08&quot;, 
      &quot;oldest_published_date&quot;: &quot;2011-02-13&quot;, 
      &quot;list_name&quot;: &quot;Combined Print and E-Book Nonfiction&quot;
    }, 
    {
      &quot;updated&quot;: &quot;WEEKLY&quot;, 
      &quot;display_name&quot;: &quot;Hardcover Fiction&quot;, 
      &quot;list_name_encoded&quot;: &quot;hardcover-fiction&quot;, 
      &quot;newest_published_date&quot;: &quot;2015-02-08&quot;, 
      &quot;oldest_published_date&quot;: &quot;2008-06-08&quot;, 
      &quot;list_name&quot;: &quot;Hardcover Fiction&quot;
    }, 
    {
      &quot;updated&quot;: &quot;WEEKLY&quot;, 
      &quot;display_name&quot;: &quot;Hardcover Nonfiction&quot;, 
      &quot;list_name_encoded&quot;: &quot;hardcover-nonfiction&quot;, 
      &quot;newest_published_date&quot;: &quot;2015-02-08&quot;, 
      &quot;oldest_published_date&quot;: &quot;2008-06-08&quot;, 
      &quot;list_name&quot;: &quot;Hardcover Nonfiction&quot;
    }, 
    {
      &quot;updated&quot;: &quot;WEEKLY&quot;, 
      &quot;display_name&quot;: &quot;Paperback Trade Fiction&quot;, 
      &quot;list_name_encoded&quot;: &quot;trade-fiction-paperback&quot;, 
      &quot;newest_published_date&quot;: &quot;2015-02-08&quot;, 
      &quot;oldest_published_date&quot;: &quot;2008-06-08&quot;, 
      &quot;list_name&quot;: &quot;Trade Fiction Paperback&quot;
    }, 
    {
      &quot;updated&quot;: &quot;WEEKLY&quot;, 
      &quot;display_name&quot;: &quot;Paperback Mass-Market Fiction&quot;, 
      &quot;list_name_encoded&quot;: &quot;mass-market-paperback&quot;, 
      &quot;newest_published_date&quot;: &quot;2015-02-08&quot;, 
      &quot;oldest_published_date&quot;: &quot;2008-06-08&quot;, 
      &quot;list_name&quot;: &quot;Mass Market Paperback&quot;
    }, 
    {
      &quot;updated&quot;: &quot;WEEKLY&quot;, 
      &quot;display_name&quot;: &quot;Paperback Nonfiction&quot;, 
      &quot;list_name_encoded&quot;: &quot;paperback-nonfiction&quot;, 
      &quot;newest_published_date&quot;: &quot;2015-02-08&quot;, 
      &quot;oldest_published_date&quot;: &quot;2008-06-08&quot;, 
      &quot;list_name&quot;: &quot;Paperback Nonfiction&quot;
    }, 
    {
      &quot;updated&quot;: &quot;WEEKLY&quot;, 
      &quot;display_name&quot;: &quot;E-Book Fiction&quot;, 
      &quot;list_name_encoded&quot;: &quot;e-book-fiction&quot;, 
      &quot;newest_published_date&quot;: &quot;2015-02-08&quot;, 
      &quot;oldest_published_date&quot;: &quot;2011-02-13&quot;, 
      &quot;list_name&quot;: &quot;E-Book Fiction&quot;
    }, 
    {
      &quot;updated&quot;: &quot;WEEKLY&quot;, 
      &quot;display_name&quot;: &quot;E-Book Nonfiction&quot;, 
      &quot;list_name_encoded&quot;: &quot;e-book-nonfiction&quot;, 
      &quot;newest_published_date&quot;: &quot;2015-02-08&quot;, 
      &quot;oldest_published_date&quot;: &quot;2011-02-13&quot;, 
      &quot;list_name&quot;: &quot;E-Book Nonfiction&quot;
    }, 
    {
      &quot;updated&quot;: &quot;WEEKLY&quot;, 
      &quot;display_name&quot;: &quot;Hardcover Advice &amp; Misc.&quot;, 
      &quot;list_name_encoded&quot;: &quot;hardcover-advice&quot;, 
      &quot;newest_published_date&quot;: &quot;2013-04-21&quot;, 
      &quot;oldest_published_date&quot;: &quot;2008-06-08&quot;, 
      &quot;list_name&quot;: &quot;Hardcover Advice&quot;
    }, 
    {
      &quot;updated&quot;: &quot;WEEKLY&quot;, 
      &quot;display_name&quot;: &quot;Paperback Advice &amp; Misc.&quot;, 
      &quot;list_name_encoded&quot;: &quot;paperback-advice&quot;, 
      &quot;newest_published_date&quot;: &quot;2013-04-21&quot;, 
      &quot;oldest_published_date&quot;: &quot;2008-06-08&quot;, 
      &quot;list_name&quot;: &quot;Paperback Advice&quot;
    }, 
    {
      &quot;updated&quot;: &quot;WEEKLY&quot;, 
      &quot;display_name&quot;: &quot;Advice, How-To &amp; Miscellaneous&quot;, 
      &quot;list_name_encoded&quot;: &quot;advice-how-to-and-miscellaneous&quot;, 
      &quot;newest_published_date&quot;: &quot;2015-02-08&quot;, 
      &quot;oldest_published_date&quot;: &quot;2013-04-28&quot;, 
      &quot;list_name&quot;: &quot;Advice How-To and Miscellaneous&quot;
    }, 
    {
      &quot;updated&quot;: &quot;WEEKLY&quot;, 
      &quot;display_name&quot;: &quot;Children&apos;s Picture Books&quot;, 
      &quot;list_name_encoded&quot;: &quot;picture-books&quot;, 
      &quot;newest_published_date&quot;: &quot;2015-02-08&quot;, 
      &quot;oldest_published_date&quot;: &quot;2008-06-08&quot;, 
      &quot;list_name&quot;: &quot;Picture Books&quot;
    }, 
    {
      &quot;updated&quot;: &quot;WEEKLY&quot;, 
      &quot;display_name&quot;: &quot;Children&apos;s Chapter Books&quot;, 
      &quot;list_name_encoded&quot;: &quot;chapter-books&quot;, 
      &quot;newest_published_date&quot;: &quot;2012-12-09&quot;, 
      &quot;oldest_published_date&quot;: &quot;2008-06-08&quot;, 
      &quot;list_name&quot;: &quot;Chapter Books&quot;
    }, 
    {
      &quot;updated&quot;: &quot;WEEKLY&quot;, 
      &quot;display_name&quot;: &quot;Children&apos;s Middle Grade&quot;, 
      &quot;list_name_encoded&quot;: &quot;childrens-middle-grade&quot;, 
      &quot;newest_published_date&quot;: &quot;2015-02-08&quot;, 
      &quot;oldest_published_date&quot;: &quot;2012-12-16&quot;, 
      &quot;list_name&quot;: &quot;Childrens Middle Grade&quot;
    }, 
    {
      &quot;updated&quot;: &quot;WEEKLY&quot;, 
      &quot;display_name&quot;: &quot;Young Adult&quot;, 
      &quot;list_name_encoded&quot;: &quot;young-adult&quot;, 
      &quot;newest_published_date&quot;: &quot;2015-02-08&quot;, 
      &quot;oldest_published_date&quot;: &quot;2012-12-16&quot;, 
      &quot;list_name&quot;: &quot;Young Adult&quot;
    }, 
    {
      &quot;updated&quot;: &quot;WEEKLY&quot;, 
      &quot;display_name&quot;: &quot;Children&apos;s Paperback Books&quot;, 
      &quot;list_name_encoded&quot;: &quot;paperback-books&quot;, 
      &quot;newest_published_date&quot;: &quot;2012-12-09&quot;, 
      &quot;oldest_published_date&quot;: &quot;2008-06-08&quot;, 
      &quot;list_name&quot;: &quot;Paperback Books&quot;
    }, 
    {
      &quot;updated&quot;: &quot;WEEKLY&quot;, 
      &quot;display_name&quot;: &quot;Children&apos;s Series&quot;, 
      &quot;list_name_encoded&quot;: &quot;series-books&quot;, 
      &quot;newest_published_date&quot;: &quot;2015-02-08&quot;, 
      &quot;oldest_published_date&quot;: &quot;2008-06-08&quot;, 
      &quot;list_name&quot;: &quot;Series Books&quot;
    }, 
    {
      &quot;updated&quot;: &quot;WEEKLY&quot;, 
      &quot;display_name&quot;: &quot;Hardcover Graphic Books&quot;, 
      &quot;list_name_encoded&quot;: &quot;hardcover-graphic-books&quot;, 
      &quot;newest_published_date&quot;: &quot;2015-02-08&quot;, 
      &quot;oldest_published_date&quot;: &quot;2009-03-15&quot;, 
      &quot;list_name&quot;: &quot;Hardcover Graphic Books&quot;
    }, 
    {
      &quot;updated&quot;: &quot;WEEKLY&quot;, 
      &quot;display_name&quot;: &quot;Paperback Graphic Books&quot;, 
      &quot;list_name_encoded&quot;: &quot;paperback-graphic-books&quot;, 
      &quot;newest_published_date&quot;: &quot;2015-02-08&quot;, 
      &quot;oldest_published_date&quot;: &quot;2009-03-15&quot;, 
      &quot;list_name&quot;: &quot;Paperback Graphic Books&quot;
    }, 
    {
      &quot;updated&quot;: &quot;WEEKLY&quot;, 
      &quot;display_name&quot;: &quot;Manga&quot;, 
      &quot;list_name_encoded&quot;: &quot;manga&quot;, 
      &quot;newest_published_date&quot;: &quot;2015-02-08&quot;, 
      &quot;oldest_published_date&quot;: &quot;2009-03-15&quot;, 
      &quot;list_name&quot;: &quot;Manga&quot;
    }, 
    {
      &quot;updated&quot;: &quot;WEEKLY&quot;, 
      &quot;display_name&quot;: &quot;Combined Hardcover &amp; Paperback Fiction&quot;, 
      &quot;list_name_encoded&quot;: &quot;combined-print-fiction&quot;, 
      &quot;newest_published_date&quot;: &quot;2013-05-12&quot;, 
      &quot;oldest_published_date&quot;: &quot;2011-02-13&quot;, 
      &quot;list_name&quot;: &quot;Combined Print Fiction&quot;
    }, 
    {
      &quot;updated&quot;: &quot;WEEKLY&quot;, 
      &quot;display_name&quot;: &quot;Combined Hardcover &amp; Paperback Nonfiction&quot;, 
      &quot;list_name_encoded&quot;: &quot;combined-print-nonfiction&quot;, 
      &quot;newest_published_date&quot;: &quot;2013-05-12&quot;, 
      &quot;oldest_published_date&quot;: &quot;2011-02-13&quot;, 
      &quot;list_name&quot;: &quot;Combined Print Nonfiction&quot;
    }, 
    {
      &quot;updated&quot;: &quot;MONTHLY&quot;, 
      &quot;display_name&quot;: &quot;Animals&quot;, 
      &quot;list_name_encoded&quot;: &quot;animals&quot;, 
      &quot;newest_published_date&quot;: &quot;2015-01-11&quot;, 
      &quot;oldest_published_date&quot;: &quot;2014-09-07&quot;, 
      &quot;list_name&quot;: &quot;Animals&quot;
    }, 
    {
      &quot;updated&quot;: &quot;MONTHLY&quot;, 
      &quot;display_name&quot;: &quot;Business&quot;, 
      &quot;list_name_encoded&quot;: &quot;business-books&quot;, 
      &quot;newest_published_date&quot;: &quot;2015-01-11&quot;, 
      &quot;oldest_published_date&quot;: &quot;2013-11-03&quot;, 
      &quot;list_name&quot;: &quot;Business Books&quot;
    }, 
    {
      &quot;updated&quot;: &quot;MONTHLY&quot;, 
      &quot;display_name&quot;: &quot;Celebrities&quot;, 
      &quot;list_name_encoded&quot;: &quot;celebrities&quot;, 
      &quot;newest_published_date&quot;: &quot;2015-02-15&quot;, 
      &quot;oldest_published_date&quot;: &quot;2014-09-07&quot;, 
      &quot;list_name&quot;: &quot;Celebrities&quot;
    }, 
    {
      &quot;updated&quot;: &quot;MONTHLY&quot;, 
      &quot;display_name&quot;: &quot;Crime and Punishment&quot;, 
      &quot;list_name_encoded&quot;: &quot;crime-and-punishment&quot;, 
      &quot;newest_published_date&quot;: &quot;2015-02-15&quot;, 
      &quot;oldest_published_date&quot;: &quot;2014-10-12&quot;, 
      &quot;list_name&quot;: &quot;Crime and Punishment&quot;
    }, 
    {
      &quot;updated&quot;: &quot;MONTHLY&quot;, 
      &quot;display_name&quot;: &quot;Culture&quot;, 
      &quot;list_name_encoded&quot;: &quot;culture&quot;, 
      &quot;newest_published_date&quot;: &quot;2015-01-11&quot;, 
      &quot;oldest_published_date&quot;: &quot;2014-10-12&quot;, 
      &quot;list_name&quot;: &quot;Culture&quot;
    }, 
    {
      &quot;updated&quot;: &quot;MONTHLY&quot;, 
      &quot;display_name&quot;: &quot;Education&quot;, 
      &quot;list_name_encoded&quot;: &quot;education&quot;, 
      &quot;newest_published_date&quot;: &quot;2015-01-11&quot;, 
      &quot;oldest_published_date&quot;: &quot;2014-10-12&quot;, 
      &quot;list_name&quot;: &quot;Education&quot;
    }, 
    {
      &quot;updated&quot;: &quot;MONTHLY&quot;, 
      &quot;display_name&quot;: &quot;Espionage&quot;, 
      &quot;list_name_encoded&quot;: &quot;espionage&quot;, 
      &quot;newest_published_date&quot;: &quot;2015-02-15&quot;, 
      &quot;oldest_published_date&quot;: &quot;2014-12-14&quot;, 
      &quot;list_name&quot;: &quot;Espionage&quot;
    }, 
    {
      &quot;updated&quot;: &quot;MONTHLY&quot;, 
      &quot;display_name&quot;: &quot;Expeditions, Disasters and Adventures&quot;, 
      &quot;list_name_encoded&quot;: &quot;expeditions-disasters-and-adventures&quot;, 
      &quot;newest_published_date&quot;: &quot;2015-01-11&quot;, 
      &quot;oldest_published_date&quot;: &quot;2014-12-14&quot;, 
      &quot;list_name&quot;: &quot;Expeditions Disasters and Adventures&quot;
    }, 
    {
      &quot;updated&quot;: &quot;MONTHLY&quot;, 
      &quot;display_name&quot;: &quot;Family&quot;, 
      &quot;list_name_encoded&quot;: &quot;family&quot;, 
      &quot;newest_published_date&quot;: &quot;2015-01-11&quot;, 
      &quot;oldest_published_date&quot;: &quot;2014-09-07&quot;, 
      &quot;list_name&quot;: &quot;Family&quot;
    }, 
    {
      &quot;updated&quot;: &quot;MONTHLY&quot;, 
      &quot;display_name&quot;: &quot;Fashion, Manners and Customs&quot;, 
      &quot;list_name_encoded&quot;: &quot;fashion-manners-and-customs&quot;, 
      &quot;newest_published_date&quot;: &quot;2015-02-15&quot;, 
      &quot;oldest_published_date&quot;: &quot;2014-10-12&quot;, 
      &quot;list_name&quot;: &quot;Fashion Manners and Customs&quot;
    }, 
    {
      &quot;updated&quot;: &quot;MONTHLY&quot;, 
      &quot;display_name&quot;: &quot;Food and Fitness&quot;, 
      &quot;list_name_encoded&quot;: &quot;food-and-fitness&quot;, 
      &quot;newest_published_date&quot;: &quot;2015-02-15&quot;, 
      &quot;oldest_published_date&quot;: &quot;2013-09-01&quot;, 
      &quot;list_name&quot;: &quot;Food and Fitness&quot;
    }, 
    {
      &quot;updated&quot;: &quot;MONTHLY&quot;, 
      &quot;display_name&quot;: &quot;Games and Activities&quot;, 
      &quot;list_name_encoded&quot;: &quot;games-and-activities&quot;, 
      &quot;newest_published_date&quot;: &quot;2015-01-11&quot;, 
      &quot;oldest_published_date&quot;: &quot;2014-10-12&quot;, 
      &quot;list_name&quot;: &quot;Games and Activities&quot;
    }, 
    {
      &quot;updated&quot;: &quot;MONTHLY&quot;, 
      &quot;display_name&quot;: &quot;Hardcover Business Books&quot;, 
      &quot;list_name_encoded&quot;: &quot;hardcover-business-books&quot;, 
      &quot;newest_published_date&quot;: &quot;2013-10-13&quot;, 
      &quot;oldest_published_date&quot;: &quot;2011-07-03&quot;, 
      &quot;list_name&quot;: &quot;Hardcover Business Books&quot;
    }, 
    {
      &quot;updated&quot;: &quot;MONTHLY&quot;, 
      &quot;display_name&quot;: &quot;Health&quot;, 
      &quot;list_name_encoded&quot;: &quot;health&quot;, 
      &quot;newest_published_date&quot;: &quot;2015-01-11&quot;, 
      &quot;oldest_published_date&quot;: &quot;2014-10-12&quot;, 
      &quot;list_name&quot;: &quot;Health&quot;
    }, 
    {
      &quot;updated&quot;: &quot;MONTHLY&quot;, 
      &quot;display_name&quot;: &quot;Humor&quot;, 
      &quot;list_name_encoded&quot;: &quot;humor&quot;, 
      &quot;newest_published_date&quot;: &quot;2015-02-15&quot;, 
      &quot;oldest_published_date&quot;: &quot;2014-09-07&quot;, 
      &quot;list_name&quot;: &quot;Humor&quot;
    }, 
    {
      &quot;updated&quot;: &quot;MONTHLY&quot;, 
      &quot;display_name&quot;: &quot;Indigenous Americans&quot;, 
      &quot;list_name_encoded&quot;: &quot;indigenous-americans&quot;, 
      &quot;newest_published_date&quot;: &quot;2015-02-15&quot;, 
      &quot;oldest_published_date&quot;: &quot;2014-12-14&quot;, 
      &quot;list_name&quot;: &quot;Indigenous Americans&quot;
    }, 
    {
      &quot;updated&quot;: &quot;MONTHLY&quot;, 
      &quot;display_name&quot;: &quot;Paperback Business Books&quot;, 
      &quot;list_name_encoded&quot;: &quot;paperback-business-books&quot;, 
      &quot;newest_published_date&quot;: &quot;2013-10-13&quot;, 
      &quot;oldest_published_date&quot;: &quot;2011-07-03&quot;, 
      &quot;list_name&quot;: &quot;Paperback Business Books&quot;
    }, 
    {
      &quot;updated&quot;: &quot;MONTHLY&quot;, 
      &quot;display_name&quot;: &quot;Politics&quot;, 
      &quot;list_name_encoded&quot;: &quot;hardcover-political-books&quot;, 
      &quot;newest_published_date&quot;: &quot;2015-01-11&quot;, 
      &quot;oldest_published_date&quot;: &quot;2011-07-03&quot;, 
      &quot;list_name&quot;: &quot;Hardcover Political Books&quot;
    }, 
    {
      &quot;updated&quot;: &quot;MONTHLY&quot;, 
      &quot;display_name&quot;: &quot;Race and Civil Rights&quot;, 
      &quot;list_name_encoded&quot;: &quot;race-and-civil-rights&quot;, 
      &quot;newest_published_date&quot;: &quot;2015-01-11&quot;, 
      &quot;oldest_published_date&quot;: &quot;2014-12-14&quot;, 
      &quot;list_name&quot;: &quot;Race and Civil Rights&quot;
    }, 
    {
      &quot;updated&quot;: &quot;MONTHLY&quot;, 
      &quot;display_name&quot;: &quot;Relationships&quot;, 
      &quot;list_name_encoded&quot;: &quot;relationships&quot;, 
      &quot;newest_published_date&quot;: &quot;2015-02-15&quot;, 
      &quot;oldest_published_date&quot;: &quot;2014-09-07&quot;, 
      &quot;list_name&quot;: &quot;Relationships&quot;
    }, 
    {
      &quot;updated&quot;: &quot;MONTHLY&quot;, 
      &quot;display_name&quot;: &quot;Religion, Spirituality and Faith&quot;, 
      &quot;list_name_encoded&quot;: &quot;religion-spirituality-and-faith&quot;, 
      &quot;newest_published_date&quot;: &quot;2015-02-15&quot;, 
      &quot;oldest_published_date&quot;: &quot;2014-09-07&quot;, 
      &quot;list_name&quot;: &quot;Religion Spirituality and Faith&quot;
    }, 
    {
      &quot;updated&quot;: &quot;MONTHLY&quot;, 
      &quot;display_name&quot;: &quot;Science&quot;, 
      &quot;list_name_encoded&quot;: &quot;science&quot;, 
      &quot;newest_published_date&quot;: &quot;2015-02-15&quot;, 
      &quot;oldest_published_date&quot;: &quot;2013-04-14&quot;, 
      &quot;list_name&quot;: &quot;Science&quot;
    }, 
    {
      &quot;updated&quot;: &quot;MONTHLY&quot;, 
      &quot;display_name&quot;: &quot;Sports&quot;, 
      &quot;list_name_encoded&quot;: &quot;sports&quot;, 
      &quot;newest_published_date&quot;: &quot;2015-01-11&quot;, 
      &quot;oldest_published_date&quot;: &quot;2014-03-02&quot;, 
      &quot;list_name&quot;: &quot;Sports&quot;
    }, 
    {
      &quot;updated&quot;: &quot;MONTHLY&quot;, 
      &quot;display_name&quot;: &quot;Travel&quot;, 
      &quot;list_name_encoded&quot;: &quot;travel&quot;, 
      &quot;newest_published_date&quot;: &quot;2015-02-15&quot;, 
      &quot;oldest_published_date&quot;: &quot;2014-09-07&quot;, 
      &quot;list_name&quot;: &quot;Travel&quot;
    }
  ], 
  &quot;copyright&quot;: &quot;Copyright (c) 2015 The New York Times Company.  All Rights Reserved.&quot;
}

</pre>
</div>
</div>

</div>
</div>

</div>
<div class="cell border-box-sizing text_cell rendered">
<div class="prompt input_prompt">
</div>
<div class="inner_cell">
<div class="text_cell_render border-box-sizing rendered_html">
<p>Now, this is much better! We can easily see that the response consists of a response status, the number of results and a list of the best-seller lists. For each of these lists, we get information about its name, its update frequency, its lifetime and its codename. </p>
</div>
</div>
</div>
<div class="cell border-box-sizing text_cell rendered">
<div class="prompt input_prompt">
</div>
<div class="inner_cell">
<div class="text_cell_render border-box-sizing rendered_html">
<p>Instead of JSON, we can also set the response type to be XML.</p>
</div>
</div>
</div>
<div class="cell border-box-sizing code_cell rendered">
<div class="input">
<div class="prompt input_prompt">In&nbsp;[9]:</div>
<div class="inner_cell">
    <div class="input_area">
<div class="highlight"><pre><span class="n">response</span> <span class="o">=</span> <span class="n">requests</span><span class="o">.</span><span class="n">get</span><span class="p">(</span><span class="s">&quot;http://api.nytimes.com/svc/books/v3/lists/names.xml?api-key=</span><span class="si">%s</span><span class="s">&quot;</span><span class="o">%</span><span class="p">(</span><span class="n">key</span><span class="p">))</span>
<span class="k">print</span> <span class="n">response</span><span class="o">.</span><span class="n">text</span><span class="p">[:</span><span class="mi">500</span><span class="p">]</span>
</pre></div>

</div>
</div>
</div>

<div class="output_wrapper">
<div class="output">


<div class="output_area"><div class="prompt"></div>
<div class="output_subarea output_stream output_stdout output_text">
<pre>
&lt;?xml version=&quot;1.0&quot; encoding=&quot;UTF-8&quot;?&gt;
&lt;result_set&gt;&lt;status&gt;OK&lt;/status&gt;&lt;copyright&gt;Copyright (c) 2015 The New York Times Company.  All Rights Reserved.&lt;/copyright&gt;&lt;num_results&gt;47&lt;/num_results&gt;&lt;results&gt;&lt;result&gt;&lt;list_name&gt;Combined Print and E-Book Fiction&lt;/list_name&gt;&lt;display_name&gt;&lt;![CDATA[Combined Print &amp; E-Book Fiction]]&gt;&lt;/display_name&gt;&lt;list_name_encoded&gt;combined-print-and-e-book-fiction&lt;/list_name_encoded&gt;&lt;oldest_published_date&gt;2011-02-13&lt;/oldest_published_date&gt;&lt;newest_published_date&gt;2015-02-08&lt;/n

</pre>
</div>
</div>

</div>
</div>

</div>
<div class="cell border-box-sizing text_cell rendered">
<div class="prompt input_prompt">
</div>
<div class="inner_cell">
<div class="text_cell_render border-box-sizing rendered_html">
<p>Again, as before, we can use a library to print the XML in a readable way. </p>
</div>
</div>
</div>
<div class="cell border-box-sizing code_cell rendered">
<div class="input">
<div class="prompt input_prompt">In&nbsp;[8]:</div>
<div class="inner_cell">
    <div class="input_area">
<div class="highlight"><pre><span class="kn">import</span> <span class="nn">xml.dom.minidom</span>
<span class="n">xml_parser</span> <span class="o">=</span> <span class="n">xml</span><span class="o">.</span><span class="n">dom</span><span class="o">.</span><span class="n">minidom</span><span class="o">.</span><span class="n">parseString</span><span class="p">(</span><span class="n">response</span><span class="o">.</span><span class="n">text</span><span class="p">)</span>
<span class="n">pretty_response</span> <span class="o">=</span> <span class="n">xml_parser</span><span class="o">.</span><span class="n">toprettyxml</span><span class="p">()</span>
<span class="k">print</span> <span class="n">pretty_response</span>
</pre></div>

</div>
</div>
</div>

<div class="output_wrapper">
<div class="output">


<div class="output_area"><div class="prompt"></div>
<div class="output_subarea output_stream output_stdout output_text">
<pre>
&lt;?xml version=&quot;1.0&quot; ?&gt;
&lt;result_set&gt;
	&lt;status&gt;OK&lt;/status&gt;
	&lt;copyright&gt;Copyright (c) 2015 The New York Times Company.  All Rights Reserved.&lt;/copyright&gt;
	&lt;num_results&gt;47&lt;/num_results&gt;
	&lt;results&gt;
		&lt;result&gt;
			&lt;list_name&gt;Combined Print and E-Book Fiction&lt;/list_name&gt;
			&lt;display_name&gt;
&lt;![CDATA[Combined Print &amp; E-Book Fiction]]&gt;			&lt;/display_name&gt;
			&lt;list_name_encoded&gt;combined-print-and-e-book-fiction&lt;/list_name_encoded&gt;
			&lt;oldest_published_date&gt;2011-02-13&lt;/oldest_published_date&gt;
			&lt;newest_published_date&gt;2015-02-08&lt;/newest_published_date&gt;
			&lt;updated&gt;WEEKLY&lt;/updated&gt;
		&lt;/result&gt;
		&lt;result&gt;
			&lt;list_name&gt;Combined Print and E-Book Nonfiction&lt;/list_name&gt;
			&lt;display_name&gt;
&lt;![CDATA[Combined Print &amp; E-Book Nonfiction]]&gt;			&lt;/display_name&gt;
			&lt;list_name_encoded&gt;combined-print-and-e-book-nonfiction&lt;/list_name_encoded&gt;
			&lt;oldest_published_date&gt;2011-02-13&lt;/oldest_published_date&gt;
			&lt;newest_published_date&gt;2015-02-08&lt;/newest_published_date&gt;
			&lt;updated&gt;WEEKLY&lt;/updated&gt;
		&lt;/result&gt;
		&lt;result&gt;
			&lt;list_name&gt;Hardcover Fiction&lt;/list_name&gt;
			&lt;display_name&gt;Hardcover Fiction&lt;/display_name&gt;
			&lt;list_name_encoded&gt;hardcover-fiction&lt;/list_name_encoded&gt;
			&lt;oldest_published_date&gt;2008-06-08&lt;/oldest_published_date&gt;
			&lt;newest_published_date&gt;2015-02-08&lt;/newest_published_date&gt;
			&lt;updated&gt;WEEKLY&lt;/updated&gt;
		&lt;/result&gt;
		&lt;result&gt;
			&lt;list_name&gt;Hardcover Nonfiction&lt;/list_name&gt;
			&lt;display_name&gt;Hardcover Nonfiction&lt;/display_name&gt;
			&lt;list_name_encoded&gt;hardcover-nonfiction&lt;/list_name_encoded&gt;
			&lt;oldest_published_date&gt;2008-06-08&lt;/oldest_published_date&gt;
			&lt;newest_published_date&gt;2015-02-08&lt;/newest_published_date&gt;
			&lt;updated&gt;WEEKLY&lt;/updated&gt;
		&lt;/result&gt;
		&lt;result&gt;
			&lt;list_name&gt;Trade Fiction Paperback&lt;/list_name&gt;
			&lt;display_name&gt;Paperback Trade Fiction&lt;/display_name&gt;
			&lt;list_name_encoded&gt;trade-fiction-paperback&lt;/list_name_encoded&gt;
			&lt;oldest_published_date&gt;2008-06-08&lt;/oldest_published_date&gt;
			&lt;newest_published_date&gt;2015-02-08&lt;/newest_published_date&gt;
			&lt;updated&gt;WEEKLY&lt;/updated&gt;
		&lt;/result&gt;
		&lt;result&gt;
			&lt;list_name&gt;Mass Market Paperback&lt;/list_name&gt;
			&lt;display_name&gt;Paperback Mass-Market Fiction&lt;/display_name&gt;
			&lt;list_name_encoded&gt;mass-market-paperback&lt;/list_name_encoded&gt;
			&lt;oldest_published_date&gt;2008-06-08&lt;/oldest_published_date&gt;
			&lt;newest_published_date&gt;2015-02-08&lt;/newest_published_date&gt;
			&lt;updated&gt;WEEKLY&lt;/updated&gt;
		&lt;/result&gt;
		&lt;result&gt;
			&lt;list_name&gt;Paperback Nonfiction&lt;/list_name&gt;
			&lt;display_name&gt;Paperback Nonfiction&lt;/display_name&gt;
			&lt;list_name_encoded&gt;paperback-nonfiction&lt;/list_name_encoded&gt;
			&lt;oldest_published_date&gt;2008-06-08&lt;/oldest_published_date&gt;
			&lt;newest_published_date&gt;2015-02-08&lt;/newest_published_date&gt;
			&lt;updated&gt;WEEKLY&lt;/updated&gt;
		&lt;/result&gt;
		&lt;result&gt;
			&lt;list_name&gt;E-Book Fiction&lt;/list_name&gt;
			&lt;display_name&gt;E-Book Fiction&lt;/display_name&gt;
			&lt;list_name_encoded&gt;e-book-fiction&lt;/list_name_encoded&gt;
			&lt;oldest_published_date&gt;2011-02-13&lt;/oldest_published_date&gt;
			&lt;newest_published_date&gt;2015-02-08&lt;/newest_published_date&gt;
			&lt;updated&gt;WEEKLY&lt;/updated&gt;
		&lt;/result&gt;
		&lt;result&gt;
			&lt;list_name&gt;E-Book Nonfiction&lt;/list_name&gt;
			&lt;display_name&gt;E-Book Nonfiction&lt;/display_name&gt;
			&lt;list_name_encoded&gt;e-book-nonfiction&lt;/list_name_encoded&gt;
			&lt;oldest_published_date&gt;2011-02-13&lt;/oldest_published_date&gt;
			&lt;newest_published_date&gt;2015-02-08&lt;/newest_published_date&gt;
			&lt;updated&gt;WEEKLY&lt;/updated&gt;
		&lt;/result&gt;
		&lt;result&gt;
			&lt;list_name&gt;Hardcover Advice&lt;/list_name&gt;
			&lt;display_name&gt;
&lt;![CDATA[Hardcover Advice &amp; Misc.]]&gt;			&lt;/display_name&gt;
			&lt;list_name_encoded&gt;hardcover-advice&lt;/list_name_encoded&gt;
			&lt;oldest_published_date&gt;2008-06-08&lt;/oldest_published_date&gt;
			&lt;newest_published_date&gt;2013-04-21&lt;/newest_published_date&gt;
			&lt;updated&gt;WEEKLY&lt;/updated&gt;
		&lt;/result&gt;
		&lt;result&gt;
			&lt;list_name&gt;Paperback Advice&lt;/list_name&gt;
			&lt;display_name&gt;
&lt;![CDATA[Paperback Advice &amp; Misc.]]&gt;			&lt;/display_name&gt;
			&lt;list_name_encoded&gt;paperback-advice&lt;/list_name_encoded&gt;
			&lt;oldest_published_date&gt;2008-06-08&lt;/oldest_published_date&gt;
			&lt;newest_published_date&gt;2013-04-21&lt;/newest_published_date&gt;
			&lt;updated&gt;WEEKLY&lt;/updated&gt;
		&lt;/result&gt;
		&lt;result&gt;
			&lt;list_name&gt;Advice How-To and Miscellaneous&lt;/list_name&gt;
			&lt;display_name&gt;
&lt;![CDATA[Advice, How-To &amp; Miscellaneous]]&gt;			&lt;/display_name&gt;
			&lt;list_name_encoded&gt;advice-how-to-and-miscellaneous&lt;/list_name_encoded&gt;
			&lt;oldest_published_date&gt;2013-04-28&lt;/oldest_published_date&gt;
			&lt;newest_published_date&gt;2015-02-08&lt;/newest_published_date&gt;
			&lt;updated&gt;WEEKLY&lt;/updated&gt;
		&lt;/result&gt;
		&lt;result&gt;
			&lt;list_name&gt;Picture Books&lt;/list_name&gt;
			&lt;display_name&gt;Children&apos;s Picture Books&lt;/display_name&gt;
			&lt;list_name_encoded&gt;picture-books&lt;/list_name_encoded&gt;
			&lt;oldest_published_date&gt;2008-06-08&lt;/oldest_published_date&gt;
			&lt;newest_published_date&gt;2015-02-08&lt;/newest_published_date&gt;
			&lt;updated&gt;WEEKLY&lt;/updated&gt;
		&lt;/result&gt;
		&lt;result&gt;
			&lt;list_name&gt;Chapter Books&lt;/list_name&gt;
			&lt;display_name&gt;Children&apos;s Chapter Books&lt;/display_name&gt;
			&lt;list_name_encoded&gt;chapter-books&lt;/list_name_encoded&gt;
			&lt;oldest_published_date&gt;2008-06-08&lt;/oldest_published_date&gt;
			&lt;newest_published_date&gt;2012-12-09&lt;/newest_published_date&gt;
			&lt;updated&gt;WEEKLY&lt;/updated&gt;
		&lt;/result&gt;
		&lt;result&gt;
			&lt;list_name&gt;Childrens Middle Grade&lt;/list_name&gt;
			&lt;display_name&gt;Children&apos;s Middle Grade&lt;/display_name&gt;
			&lt;list_name_encoded&gt;childrens-middle-grade&lt;/list_name_encoded&gt;
			&lt;oldest_published_date&gt;2012-12-16&lt;/oldest_published_date&gt;
			&lt;newest_published_date&gt;2015-02-08&lt;/newest_published_date&gt;
			&lt;updated&gt;WEEKLY&lt;/updated&gt;
		&lt;/result&gt;
		&lt;result&gt;
			&lt;list_name&gt;Young Adult&lt;/list_name&gt;
			&lt;display_name&gt;Young Adult&lt;/display_name&gt;
			&lt;list_name_encoded&gt;young-adult&lt;/list_name_encoded&gt;
			&lt;oldest_published_date&gt;2012-12-16&lt;/oldest_published_date&gt;
			&lt;newest_published_date&gt;2015-02-08&lt;/newest_published_date&gt;
			&lt;updated&gt;WEEKLY&lt;/updated&gt;
		&lt;/result&gt;
		&lt;result&gt;
			&lt;list_name&gt;Paperback Books&lt;/list_name&gt;
			&lt;display_name&gt;Children&apos;s Paperback Books&lt;/display_name&gt;
			&lt;list_name_encoded&gt;paperback-books&lt;/list_name_encoded&gt;
			&lt;oldest_published_date&gt;2008-06-08&lt;/oldest_published_date&gt;
			&lt;newest_published_date&gt;2012-12-09&lt;/newest_published_date&gt;
			&lt;updated&gt;WEEKLY&lt;/updated&gt;
		&lt;/result&gt;
		&lt;result&gt;
			&lt;list_name&gt;Series Books&lt;/list_name&gt;
			&lt;display_name&gt;Children&apos;s Series&lt;/display_name&gt;
			&lt;list_name_encoded&gt;series-books&lt;/list_name_encoded&gt;
			&lt;oldest_published_date&gt;2008-06-08&lt;/oldest_published_date&gt;
			&lt;newest_published_date&gt;2015-02-08&lt;/newest_published_date&gt;
			&lt;updated&gt;WEEKLY&lt;/updated&gt;
		&lt;/result&gt;
		&lt;result&gt;
			&lt;list_name&gt;Hardcover Graphic Books&lt;/list_name&gt;
			&lt;display_name&gt;Hardcover Graphic Books&lt;/display_name&gt;
			&lt;list_name_encoded&gt;hardcover-graphic-books&lt;/list_name_encoded&gt;
			&lt;oldest_published_date&gt;2009-03-15&lt;/oldest_published_date&gt;
			&lt;newest_published_date&gt;2015-02-08&lt;/newest_published_date&gt;
			&lt;updated&gt;WEEKLY&lt;/updated&gt;
		&lt;/result&gt;
		&lt;result&gt;
			&lt;list_name&gt;Paperback Graphic Books&lt;/list_name&gt;
			&lt;display_name&gt;Paperback Graphic Books&lt;/display_name&gt;
			&lt;list_name_encoded&gt;paperback-graphic-books&lt;/list_name_encoded&gt;
			&lt;oldest_published_date&gt;2009-03-15&lt;/oldest_published_date&gt;
			&lt;newest_published_date&gt;2015-02-08&lt;/newest_published_date&gt;
			&lt;updated&gt;WEEKLY&lt;/updated&gt;
		&lt;/result&gt;
		&lt;result&gt;
			&lt;list_name&gt;Manga&lt;/list_name&gt;
			&lt;display_name&gt;Manga&lt;/display_name&gt;
			&lt;list_name_encoded&gt;manga&lt;/list_name_encoded&gt;
			&lt;oldest_published_date&gt;2009-03-15&lt;/oldest_published_date&gt;
			&lt;newest_published_date&gt;2015-02-08&lt;/newest_published_date&gt;
			&lt;updated&gt;WEEKLY&lt;/updated&gt;
		&lt;/result&gt;
		&lt;result&gt;
			&lt;list_name&gt;Combined Print Fiction&lt;/list_name&gt;
			&lt;display_name&gt;
&lt;![CDATA[Combined Hardcover &amp; Paperback Fiction]]&gt;			&lt;/display_name&gt;
			&lt;list_name_encoded&gt;combined-print-fiction&lt;/list_name_encoded&gt;
			&lt;oldest_published_date&gt;2011-02-13&lt;/oldest_published_date&gt;
			&lt;newest_published_date&gt;2013-05-12&lt;/newest_published_date&gt;
			&lt;updated&gt;WEEKLY&lt;/updated&gt;
		&lt;/result&gt;
		&lt;result&gt;
			&lt;list_name&gt;Combined Print Nonfiction&lt;/list_name&gt;
			&lt;display_name&gt;
&lt;![CDATA[Combined Hardcover &amp; Paperback Nonfiction]]&gt;			&lt;/display_name&gt;
			&lt;list_name_encoded&gt;combined-print-nonfiction&lt;/list_name_encoded&gt;
			&lt;oldest_published_date&gt;2011-02-13&lt;/oldest_published_date&gt;
			&lt;newest_published_date&gt;2013-05-12&lt;/newest_published_date&gt;
			&lt;updated&gt;WEEKLY&lt;/updated&gt;
		&lt;/result&gt;
		&lt;result&gt;
			&lt;list_name&gt;Animals&lt;/list_name&gt;
			&lt;display_name&gt;Animals&lt;/display_name&gt;
			&lt;list_name_encoded&gt;animals&lt;/list_name_encoded&gt;
			&lt;oldest_published_date&gt;2014-09-07&lt;/oldest_published_date&gt;
			&lt;newest_published_date&gt;2015-01-11&lt;/newest_published_date&gt;
			&lt;updated&gt;MONTHLY&lt;/updated&gt;
		&lt;/result&gt;
		&lt;result&gt;
			&lt;list_name&gt;Business Books&lt;/list_name&gt;
			&lt;display_name&gt;Business&lt;/display_name&gt;
			&lt;list_name_encoded&gt;business-books&lt;/list_name_encoded&gt;
			&lt;oldest_published_date&gt;2013-11-03&lt;/oldest_published_date&gt;
			&lt;newest_published_date&gt;2015-01-11&lt;/newest_published_date&gt;
			&lt;updated&gt;MONTHLY&lt;/updated&gt;
		&lt;/result&gt;
		&lt;result&gt;
			&lt;list_name&gt;Celebrities&lt;/list_name&gt;
			&lt;display_name&gt;Celebrities&lt;/display_name&gt;
			&lt;list_name_encoded&gt;celebrities&lt;/list_name_encoded&gt;
			&lt;oldest_published_date&gt;2014-09-07&lt;/oldest_published_date&gt;
			&lt;newest_published_date&gt;2015-02-15&lt;/newest_published_date&gt;
			&lt;updated&gt;MONTHLY&lt;/updated&gt;
		&lt;/result&gt;
		&lt;result&gt;
			&lt;list_name&gt;Crime and Punishment&lt;/list_name&gt;
			&lt;display_name&gt;Crime and Punishment&lt;/display_name&gt;
			&lt;list_name_encoded&gt;crime-and-punishment&lt;/list_name_encoded&gt;
			&lt;oldest_published_date&gt;2014-10-12&lt;/oldest_published_date&gt;
			&lt;newest_published_date&gt;2015-02-15&lt;/newest_published_date&gt;
			&lt;updated&gt;MONTHLY&lt;/updated&gt;
		&lt;/result&gt;
		&lt;result&gt;
			&lt;list_name&gt;Culture&lt;/list_name&gt;
			&lt;display_name&gt;Culture&lt;/display_name&gt;
			&lt;list_name_encoded&gt;culture&lt;/list_name_encoded&gt;
			&lt;oldest_published_date&gt;2014-10-12&lt;/oldest_published_date&gt;
			&lt;newest_published_date&gt;2015-01-11&lt;/newest_published_date&gt;
			&lt;updated&gt;MONTHLY&lt;/updated&gt;
		&lt;/result&gt;
		&lt;result&gt;
			&lt;list_name&gt;Education&lt;/list_name&gt;
			&lt;display_name&gt;Education&lt;/display_name&gt;
			&lt;list_name_encoded&gt;education&lt;/list_name_encoded&gt;
			&lt;oldest_published_date&gt;2014-10-12&lt;/oldest_published_date&gt;
			&lt;newest_published_date&gt;2015-02-15&lt;/newest_published_date&gt;
			&lt;updated&gt;MONTHLY&lt;/updated&gt;
		&lt;/result&gt;
		&lt;result&gt;
			&lt;list_name&gt;Espionage&lt;/list_name&gt;
			&lt;display_name&gt;Espionage&lt;/display_name&gt;
			&lt;list_name_encoded&gt;espionage&lt;/list_name_encoded&gt;
			&lt;oldest_published_date&gt;2014-12-14&lt;/oldest_published_date&gt;
			&lt;newest_published_date&gt;2015-02-15&lt;/newest_published_date&gt;
			&lt;updated&gt;MONTHLY&lt;/updated&gt;
		&lt;/result&gt;
		&lt;result&gt;
			&lt;list_name&gt;Expeditions Disasters and Adventures&lt;/list_name&gt;
			&lt;display_name&gt;Expeditions, Disasters and Adventures&lt;/display_name&gt;
			&lt;list_name_encoded&gt;expeditions-disasters-and-adventures&lt;/list_name_encoded&gt;
			&lt;oldest_published_date&gt;2014-12-14&lt;/oldest_published_date&gt;
			&lt;newest_published_date&gt;2015-02-15&lt;/newest_published_date&gt;
			&lt;updated&gt;MONTHLY&lt;/updated&gt;
		&lt;/result&gt;
		&lt;result&gt;
			&lt;list_name&gt;Family&lt;/list_name&gt;
			&lt;display_name&gt;Family&lt;/display_name&gt;
			&lt;list_name_encoded&gt;family&lt;/list_name_encoded&gt;
			&lt;oldest_published_date&gt;2014-09-07&lt;/oldest_published_date&gt;
			&lt;newest_published_date&gt;2015-01-11&lt;/newest_published_date&gt;
			&lt;updated&gt;MONTHLY&lt;/updated&gt;
		&lt;/result&gt;
		&lt;result&gt;
			&lt;list_name&gt;Fashion Manners and Customs&lt;/list_name&gt;
			&lt;display_name&gt;Fashion, Manners and Customs&lt;/display_name&gt;
			&lt;list_name_encoded&gt;fashion-manners-and-customs&lt;/list_name_encoded&gt;
			&lt;oldest_published_date&gt;2014-10-12&lt;/oldest_published_date&gt;
			&lt;newest_published_date&gt;2015-02-15&lt;/newest_published_date&gt;
			&lt;updated&gt;MONTHLY&lt;/updated&gt;
		&lt;/result&gt;
		&lt;result&gt;
			&lt;list_name&gt;Food and Fitness&lt;/list_name&gt;
			&lt;display_name&gt;Food and Fitness&lt;/display_name&gt;
			&lt;list_name_encoded&gt;food-and-fitness&lt;/list_name_encoded&gt;
			&lt;oldest_published_date&gt;2013-09-01&lt;/oldest_published_date&gt;
			&lt;newest_published_date&gt;2015-02-15&lt;/newest_published_date&gt;
			&lt;updated&gt;MONTHLY&lt;/updated&gt;
		&lt;/result&gt;
		&lt;result&gt;
			&lt;list_name&gt;Games and Activities&lt;/list_name&gt;
			&lt;display_name&gt;Games and Activities&lt;/display_name&gt;
			&lt;list_name_encoded&gt;games-and-activities&lt;/list_name_encoded&gt;
			&lt;oldest_published_date&gt;2014-10-12&lt;/oldest_published_date&gt;
			&lt;newest_published_date&gt;2015-01-11&lt;/newest_published_date&gt;
			&lt;updated&gt;MONTHLY&lt;/updated&gt;
		&lt;/result&gt;
		&lt;result&gt;
			&lt;list_name&gt;Hardcover Business Books&lt;/list_name&gt;
			&lt;display_name&gt;Hardcover Business Books&lt;/display_name&gt;
			&lt;list_name_encoded&gt;hardcover-business-books&lt;/list_name_encoded&gt;
			&lt;oldest_published_date&gt;2011-07-03&lt;/oldest_published_date&gt;
			&lt;newest_published_date&gt;2013-10-13&lt;/newest_published_date&gt;
			&lt;updated&gt;MONTHLY&lt;/updated&gt;
		&lt;/result&gt;
		&lt;result&gt;
			&lt;list_name&gt;Health&lt;/list_name&gt;
			&lt;display_name&gt;Health&lt;/display_name&gt;
			&lt;list_name_encoded&gt;health&lt;/list_name_encoded&gt;
			&lt;oldest_published_date&gt;2014-10-12&lt;/oldest_published_date&gt;
			&lt;newest_published_date&gt;2015-01-11&lt;/newest_published_date&gt;
			&lt;updated&gt;MONTHLY&lt;/updated&gt;
		&lt;/result&gt;
		&lt;result&gt;
			&lt;list_name&gt;Humor&lt;/list_name&gt;
			&lt;display_name&gt;Humor&lt;/display_name&gt;
			&lt;list_name_encoded&gt;humor&lt;/list_name_encoded&gt;
			&lt;oldest_published_date&gt;2014-09-07&lt;/oldest_published_date&gt;
			&lt;newest_published_date&gt;2015-02-15&lt;/newest_published_date&gt;
			&lt;updated&gt;MONTHLY&lt;/updated&gt;
		&lt;/result&gt;
		&lt;result&gt;
			&lt;list_name&gt;Indigenous Americans&lt;/list_name&gt;
			&lt;display_name&gt;Indigenous Americans&lt;/display_name&gt;
			&lt;list_name_encoded&gt;indigenous-americans&lt;/list_name_encoded&gt;
			&lt;oldest_published_date&gt;2014-12-14&lt;/oldest_published_date&gt;
			&lt;newest_published_date&gt;2015-02-15&lt;/newest_published_date&gt;
			&lt;updated&gt;MONTHLY&lt;/updated&gt;
		&lt;/result&gt;
		&lt;result&gt;
			&lt;list_name&gt;Paperback Business Books&lt;/list_name&gt;
			&lt;display_name&gt;Paperback Business Books&lt;/display_name&gt;
			&lt;list_name_encoded&gt;paperback-business-books&lt;/list_name_encoded&gt;
			&lt;oldest_published_date&gt;2011-07-03&lt;/oldest_published_date&gt;
			&lt;newest_published_date&gt;2013-10-13&lt;/newest_published_date&gt;
			&lt;updated&gt;MONTHLY&lt;/updated&gt;
		&lt;/result&gt;
		&lt;result&gt;
			&lt;list_name&gt;Hardcover Political Books&lt;/list_name&gt;
			&lt;display_name&gt;Politics&lt;/display_name&gt;
			&lt;list_name_encoded&gt;hardcover-political-books&lt;/list_name_encoded&gt;
			&lt;oldest_published_date&gt;2011-07-03&lt;/oldest_published_date&gt;
			&lt;newest_published_date&gt;2015-01-11&lt;/newest_published_date&gt;
			&lt;updated&gt;MONTHLY&lt;/updated&gt;
		&lt;/result&gt;
		&lt;result&gt;
			&lt;list_name&gt;Race and Civil Rights&lt;/list_name&gt;
			&lt;display_name&gt;Race and Civil Rights&lt;/display_name&gt;
			&lt;list_name_encoded&gt;race-and-civil-rights&lt;/list_name_encoded&gt;
			&lt;oldest_published_date&gt;2014-12-14&lt;/oldest_published_date&gt;
			&lt;newest_published_date&gt;2015-01-11&lt;/newest_published_date&gt;
			&lt;updated&gt;MONTHLY&lt;/updated&gt;
		&lt;/result&gt;
		&lt;result&gt;
			&lt;list_name&gt;Relationships&lt;/list_name&gt;
			&lt;display_name&gt;Relationships&lt;/display_name&gt;
			&lt;list_name_encoded&gt;relationships&lt;/list_name_encoded&gt;
			&lt;oldest_published_date&gt;2014-09-07&lt;/oldest_published_date&gt;
			&lt;newest_published_date&gt;2015-02-15&lt;/newest_published_date&gt;
			&lt;updated&gt;MONTHLY&lt;/updated&gt;
		&lt;/result&gt;
		&lt;result&gt;
			&lt;list_name&gt;Religion Spirituality and Faith&lt;/list_name&gt;
			&lt;display_name&gt;Religion, Spirituality and Faith&lt;/display_name&gt;
			&lt;list_name_encoded&gt;religion-spirituality-and-faith&lt;/list_name_encoded&gt;
			&lt;oldest_published_date&gt;2014-09-07&lt;/oldest_published_date&gt;
			&lt;newest_published_date&gt;2015-02-15&lt;/newest_published_date&gt;
			&lt;updated&gt;MONTHLY&lt;/updated&gt;
		&lt;/result&gt;
		&lt;result&gt;
			&lt;list_name&gt;Science&lt;/list_name&gt;
			&lt;display_name&gt;Science&lt;/display_name&gt;
			&lt;list_name_encoded&gt;science&lt;/list_name_encoded&gt;
			&lt;oldest_published_date&gt;2013-04-14&lt;/oldest_published_date&gt;
			&lt;newest_published_date&gt;2015-02-15&lt;/newest_published_date&gt;
			&lt;updated&gt;MONTHLY&lt;/updated&gt;
		&lt;/result&gt;
		&lt;result&gt;
			&lt;list_name&gt;Sports&lt;/list_name&gt;
			&lt;display_name&gt;Sports&lt;/display_name&gt;
			&lt;list_name_encoded&gt;sports&lt;/list_name_encoded&gt;
			&lt;oldest_published_date&gt;2014-03-02&lt;/oldest_published_date&gt;
			&lt;newest_published_date&gt;2015-01-11&lt;/newest_published_date&gt;
			&lt;updated&gt;MONTHLY&lt;/updated&gt;
		&lt;/result&gt;
		&lt;result&gt;
			&lt;list_name&gt;Travel&lt;/list_name&gt;
			&lt;display_name&gt;Travel&lt;/display_name&gt;
			&lt;list_name_encoded&gt;travel&lt;/list_name_encoded&gt;
			&lt;oldest_published_date&gt;2014-09-07&lt;/oldest_published_date&gt;
			&lt;newest_published_date&gt;2015-02-15&lt;/newest_published_date&gt;
			&lt;updated&gt;MONTHLY&lt;/updated&gt;
		&lt;/result&gt;
	&lt;/results&gt;
&lt;/result_set&gt;


</pre>
</div>
</div>

</div>
</div>

</div>
<div class="cell border-box-sizing text_cell rendered">
<div class="prompt input_prompt">
</div>
<div class="inner_cell">
<div class="text_cell_render border-box-sizing rendered_html">
<hr>
</div>
</div>
</div>
<div class="cell border-box-sizing text_cell rendered">
<div class="prompt input_prompt">
</div>
<div class="inner_cell">
<div class="text_cell_render border-box-sizing rendered_html">
<h2 id="Step-2.-Parsing-the-responses">Step 2. Parsing the responses<a class="anchor-link" href="#Step-2.-Parsing-the-responses">&#182;</a></h2>
</div>
</div>
</div>

<div class="cell border-box-sizing text_cell rendered">
<div class="prompt input_prompt">
</div>
<div class="inner_cell">
<div class="text_cell_render border-box-sizing rendered_html">
<p>In this section, we practice some of the basic Python tools that we learned in class and the powerful string handling methods that Python offers. Our goal is to be able to pick the interesting parts of the response and transform them in a format that will be useful to us.</p>
</div>
</div>
</div>
<div class="cell border-box-sizing text_cell rendered">
<div class="prompt input_prompt">
</div>
<div class="inner_cell">
<div class="text_cell_render border-box-sizing rendered_html">
<p>Our first task will be to isolate the names of all the best-seller lists of the NYT. Fill in the rest of the <code>print_names_from_XML()</code> function that reads the XML response and prints all these names. <strong>(5 pts)</strong> </p>
<p>Hint: Our <em>pretty</em> formatter puts each tag on a separate line. You may want to read the documentation of the <code>split()</code>, <code>strip()</code> and <code>startswith()</code> functions.</p>
</div>
</div>
</div>
<div class="cell border-box-sizing code_cell rendered">
<div class="input">
<div class="prompt input_prompt">In&nbsp;[15]:</div>
<div class="inner_cell">
    <div class="input_area">
<div class="highlight"><pre><span class="k">def</span> <span class="nf">print_names_from_XML</span><span class="p">(</span><span class="n">response</span><span class="p">):</span>
    <span class="sd">&quot;&quot;&quot;Prints the names of all the best-seller lists that are in the response.</span>
<span class="sd">    </span>
<span class="sd">    Parameters:</span>
<span class="sd">        response: Response object</span>
<span class="sd">        The response object that is a result of a get request for the names of the</span>
<span class="sd">        best-selling lists from the Books API. </span>
<span class="sd">    </span>
<span class="sd">    &quot;&quot;&quot;</span>   
    <span class="n">xml_parser</span> <span class="o">=</span> <span class="n">xml</span><span class="o">.</span><span class="n">dom</span><span class="o">.</span><span class="n">minidom</span><span class="o">.</span><span class="n">parseString</span><span class="p">(</span><span class="n">response</span><span class="o">.</span><span class="n">text</span><span class="p">)</span>
    <span class="n">pretty_response</span> <span class="o">=</span> <span class="n">xml_parser</span><span class="o">.</span><span class="n">toprettyxml</span><span class="p">()</span>
    
    <span class="c"># Fill-in the code that prints the list names</span>
    
    <span class="k">for</span> <span class="n">line</span> <span class="ow">in</span> <span class="n">pretty_response</span><span class="o">.</span><span class="n">split</span><span class="p">(</span><span class="s">&#39;</span><span class="se">\n</span><span class="s">&#39;</span><span class="p">):</span>
        <span class="k">if</span> <span class="n">line</span><span class="o">.</span><span class="n">strip</span><span class="p">()</span><span class="o">.</span><span class="n">startswith</span><span class="p">(</span><span class="s">&#39;&lt;list_name&gt;&#39;</span><span class="p">):</span>
            <span class="k">print</span> <span class="n">line</span><span class="o">.</span><span class="n">strip</span><span class="p">()[</span><span class="mi">11</span><span class="p">:</span><span class="o">-</span><span class="mi">12</span><span class="p">]</span>
</pre></div>

</div>
</div>
</div>

</div>
<div class="cell border-box-sizing code_cell rendered">
<div class="input">
<div class="prompt input_prompt">In&nbsp;[16]:</div>
<div class="inner_cell">
    <div class="input_area">
<div class="highlight"><pre><span class="n">response</span> <span class="o">=</span> <span class="n">requests</span><span class="o">.</span><span class="n">get</span><span class="p">(</span><span class="s">&quot;http://api.nytimes.com/svc/books/v3/lists/names.xml?api-key=</span><span class="si">%s</span><span class="s">&quot;</span><span class="o">%</span><span class="p">(</span><span class="n">key</span><span class="p">))</span>

<span class="n">print_names_from_XML</span><span class="p">(</span><span class="n">response</span><span class="p">)</span>
</pre></div>

</div>
</div>
</div>

<div class="output_wrapper">
<div class="output">


<div class="output_area"><div class="prompt"></div>
<div class="output_subarea output_stream output_stdout output_text">
<pre>
Combined Print and E-Book Fiction
Combined Print and E-Book Nonfiction
Hardcover Fiction
Hardcover Nonfiction
Trade Fiction Paperback
Mass Market Paperback
Paperback Nonfiction
E-Book Fiction
E-Book Nonfiction
Hardcover Advice
Paperback Advice
Advice How-To and Miscellaneous
Picture Books
Chapter Books
Childrens Middle Grade
Young Adult
Paperback Books
Series Books
Hardcover Graphic Books
Paperback Graphic Books
Manga
Combined Print Fiction
Combined Print Nonfiction
Animals
Business Books
Celebrities
Crime and Punishment
Culture
Education
Espionage
Expeditions Disasters and Adventures
Family
Fashion Manners and Customs
Food and Fitness
Games and Activities
Hardcover Business Books
Health
Humor
Indigenous Americans
Paperback Business Books
Hardcover Political Books
Race and Civil Rights
Relationships
Religion Spirituality and Faith
Science
Sports
Travel

</pre>
</div>
</div>

</div>
</div>

</div>
<div class="cell border-box-sizing text_cell rendered">
<div class="prompt input_prompt">
</div>
<div class="inner_cell">
<div class="text_cell_render border-box-sizing rendered_html">
<p>Can you do the same thing for the JSON response? Notice that a JSON object is basically a dictionary. <strong>(5 pts)</strong></p>
</div>
</div>
</div>
<div class="cell border-box-sizing code_cell rendered">
<div class="input">
<div class="prompt input_prompt">In&nbsp;[17]:</div>
<div class="inner_cell">
    <div class="input_area">
<div class="highlight"><pre><span class="k">def</span> <span class="nf">print_names_from_JSON</span><span class="p">(</span><span class="n">response</span><span class="p">):</span>
    <span class="sd">&quot;&quot;&quot;Prints the names of all the best-seller lists that are in the response.</span>
<span class="sd">    </span>
<span class="sd">    Parameters:</span>
<span class="sd">        response: Response object</span>
<span class="sd">        The response object that is a result of a get request for the names of the</span>
<span class="sd">        best-selling lists from the Books API. </span>
<span class="sd">    </span>
<span class="sd">    &quot;&quot;&quot;</span>     
    <span class="c"># Fill-in the code that prints the list names</span>
    
    <span class="k">for</span> <span class="n">result</span> <span class="ow">in</span> <span class="n">response</span><span class="o">.</span><span class="n">json</span><span class="p">()[</span><span class="s">&quot;results&quot;</span><span class="p">]:</span>
        <span class="k">print</span> <span class="n">result</span><span class="p">[</span><span class="s">&quot;list_name&quot;</span><span class="p">]</span>
</pre></div>

</div>
</div>
</div>

</div>
<div class="cell border-box-sizing code_cell rendered">
<div class="input">
<div class="prompt input_prompt">In&nbsp;[18]:</div>
<div class="inner_cell">
    <div class="input_area">
<div class="highlight"><pre><span class="n">response</span> <span class="o">=</span> <span class="n">requests</span><span class="o">.</span><span class="n">get</span><span class="p">(</span><span class="s">&quot;http://api.nytimes.com/svc/books/v3/lists/names.json?api-key=</span><span class="si">%s</span><span class="s">&quot;</span><span class="o">%</span><span class="p">(</span><span class="n">key</span><span class="p">))</span>
<span class="n">print_names_from_JSON</span><span class="p">(</span><span class="n">response</span><span class="p">)</span>
</pre></div>

</div>
</div>
</div>

<div class="output_wrapper">
<div class="output">


<div class="output_area"><div class="prompt"></div>
<div class="output_subarea output_stream output_stdout output_text">
<pre>
Combined Print and E-Book Fiction
Combined Print and E-Book Nonfiction
Hardcover Fiction
Hardcover Nonfiction
Trade Fiction Paperback
Mass Market Paperback
Paperback Nonfiction
E-Book Fiction
E-Book Nonfiction
Hardcover Advice
Paperback Advice
Advice How-To and Miscellaneous
Picture Books
Chapter Books
Childrens Middle Grade
Young Adult
Paperback Books
Series Books
Hardcover Graphic Books
Paperback Graphic Books
Manga
Combined Print Fiction
Combined Print Nonfiction
Animals
Business Books
Celebrities
Crime and Punishment
Culture
Education
Espionage
Expeditions Disasters and Adventures
Family
Fashion Manners and Customs
Food and Fitness
Games and Activities
Hardcover Business Books
Health
Humor
Indigenous Americans
Paperback Business Books
Hardcover Political Books
Race and Civil Rights
Relationships
Religion Spirituality and Faith
Science
Sports
Travel

</pre>
</div>
</div>

</div>
</div>

</div>
<div class="cell border-box-sizing text_cell rendered">
<div class="prompt input_prompt">
</div>
<div class="inner_cell">
<div class="text_cell_render border-box-sizing rendered_html">
<p>Let&#39;s try something more complicated. Pick your favorite list. Your task is to print the titles of the books that were best-sellers for the list you picked, on the week of July 1st, 2014. <strong>(20 pts)</strong></p>
<p>Notice: If you read the API documentation carefully, you will see that </p>
<blockquote>
<p>the service returns <em>20</em> results at a time. Use the offset parameter to page through the results.</p>
</blockquote>
<p>The total number of books that you should be expecting is returned as <code>num_results</code>. It is easier to handle the response if you are working with JSON, so prefer it over the XML.</p>
</div>
</div>
</div>
<div class="cell border-box-sizing code_cell rendered">
<div class="input">
<div class="prompt input_prompt">In&nbsp;[13]:</div>
<div class="inner_cell">
    <div class="input_area">
<div class="highlight"><pre><span class="n">date</span> <span class="o">=</span> <span class="s">&quot;2014-07-01&quot;</span>
<span class="n">list_name</span> <span class="o">=</span> <span class="s">&quot;hardcover-fiction&quot;</span>
<span class="n">response</span> <span class="o">=</span> <span class="n">requests</span><span class="o">.</span><span class="n">get</span><span class="p">(</span><span class="s">&quot;http://api.nytimes.com/svc/books/v3/lists/</span><span class="si">%s</span><span class="s">/</span><span class="si">%s</span><span class="s">.json?api-key=</span><span class="si">%s</span><span class="s">&quot;</span>\
                        <span class="o">%</span><span class="p">(</span><span class="n">date</span><span class="p">,</span><span class="n">list_name</span><span class="p">,</span><span class="n">key</span><span class="p">))</span>

<span class="n">r</span> <span class="o">=</span> <span class="n">response</span><span class="o">.</span><span class="n">json</span><span class="p">()</span>
<span class="k">print</span> <span class="s">&quot;Number of books:&quot;</span><span class="p">,</span> <span class="n">r</span><span class="p">[</span><span class="s">&quot;num_results&quot;</span><span class="p">]</span>
<span class="k">print</span> <span class="s">&quot;List date:&quot;</span><span class="p">,</span> <span class="n">r</span><span class="p">[</span><span class="s">&quot;results&quot;</span><span class="p">][</span><span class="s">&quot;bestsellers_date&quot;</span><span class="p">]</span>
<span class="k">print</span> 
<span class="n">i</span> <span class="o">=</span> <span class="mi">0</span>
<span class="k">for</span> <span class="n">book</span> <span class="ow">in</span> <span class="n">r</span><span class="p">[</span><span class="s">&quot;results&quot;</span><span class="p">][</span><span class="s">&quot;books&quot;</span><span class="p">]:</span>
    <span class="n">i</span> <span class="o">+=</span> <span class="mi">1</span>
    <span class="k">print</span> <span class="n">book</span><span class="p">[</span><span class="s">&quot;title&quot;</span><span class="p">]</span>
    
<span class="k">while</span> <span class="n">i</span> <span class="o">&lt;</span> <span class="n">r</span><span class="p">[</span><span class="s">&quot;num_results&quot;</span><span class="p">]:</span>
    <span class="c"># We still have more books to go. We need to issue a new request with an offset</span>
    <span class="n">offset</span> <span class="o">=</span> <span class="n">i</span>
    <span class="n">response</span> <span class="o">=</span> <span class="n">requests</span><span class="o">.</span><span class="n">get</span><span class="p">(</span><span class="s">&quot;http://api.nytimes.com/svc/books/v3/lists/</span><span class="si">%s</span><span class="s">/</span><span class="si">%s</span><span class="s">.json?api-key=</span><span class="si">%s</span><span class="s">&amp;offset=</span><span class="si">%d</span><span class="s">&quot;</span>\
                            <span class="o">%</span><span class="p">(</span><span class="n">date</span><span class="p">,</span><span class="n">list_name</span><span class="p">,</span><span class="n">key</span><span class="p">,</span><span class="n">offset</span><span class="p">))</span>
    <span class="n">r</span> <span class="o">=</span> <span class="n">response</span><span class="o">.</span><span class="n">json</span><span class="p">()</span>
    <span class="k">for</span> <span class="n">book</span> <span class="ow">in</span> <span class="n">r</span><span class="p">[</span><span class="s">&quot;results&quot;</span><span class="p">][</span><span class="s">&quot;books&quot;</span><span class="p">]:</span>
        <span class="n">i</span> <span class="o">+=</span> <span class="mi">1</span>
        <span class="k">print</span> <span class="n">book</span><span class="p">[</span><span class="s">&quot;title&quot;</span><span class="p">]</span>
</pre></div>

</div>
</div>
</div>

<div class="output_wrapper">
<div class="output">


<div class="output_area"><div class="prompt"></div>
<div class="output_subarea output_stream output_stdout output_text">
<pre>
Number of books: 25
List date: 2014-06-21

TOP SECRET TWENTY-ONE
THE SILKWORM
WRITTEN IN MY OWN HEART&apos;S BLOOD
MR. MERCEDES
ALL FALL DOWN
THE GOLDFINCH
ROGUES
THE ONE AND ONLY
THE HURRICANE SISTERS
THE MATCHMAKER
ALL THE LIGHT WE CANNOT SEE
THE TARGET
SKIN GAME
THE VACATIONERS
UNLUCKY 13
TERMINAL CITY
SHATTERED
MIDNIGHT IN EUROPE
GHOST SHIP
CHINA DOLLS
THE INVENTION OF WINGS
THE HUSBAND&apos;S SECRET
NANTUCKET SISTERS
NATCHEZ BURNING
FIELD OF PREY

</pre>
</div>
</div>

</div>
</div>

</div>
<div class="cell border-box-sizing text_cell rendered">
<div class="prompt input_prompt">
</div>
<div class="inner_cell">
<div class="text_cell_render border-box-sizing rendered_html">
<p>Perfect! By now you should know how to <em>navigate</em> the responses of the API.</p>
</div>
</div>
</div>
<div class="cell border-box-sizing text_cell rendered">
<div class="prompt input_prompt">
</div>
<div class="inner_cell">
<div class="text_cell_render border-box-sizing rendered_html">
<h2 id="Step-3.-Putting-it-all-together">Step 3. Putting it all together<a class="anchor-link" href="#Step-3.-Putting-it-all-together">&#182;</a></h2>
</div>
</div>
</div>

<div class="cell border-box-sizing text_cell rendered">
<div class="prompt input_prompt">
</div>
<div class="inner_cell">
<div class="text_cell_render border-box-sizing rendered_html">
<p>We are now ready to tackle our original problem; to compile a summary for the best-sellers over a period of 2 months. </p>
</div>
</div>
</div>
<div class="cell border-box-sizing text_cell rendered">
<div class="prompt input_prompt">
</div>
<div class="inner_cell">
<div class="text_cell_render border-box-sizing rendered_html">
<p>First, we need to become confident working with dates. Since we want to issue requests that span a period of 2 months, we need to be able to automatically advance a day, without needing to keep the logistics of how many days each month has. To this end, we will use the <code>datetime</code> library. Here is an example</p>
</div>
</div>
</div>
<div class="cell border-box-sizing code_cell rendered">
<div class="input">
<div class="prompt input_prompt">In&nbsp;[19]:</div>
<div class="inner_cell">
    <div class="input_area">
<div class="highlight"><pre><span class="kn">import</span> <span class="nn">datetime</span>

<span class="n">now</span> <span class="o">=</span> <span class="n">datetime</span><span class="o">.</span><span class="n">datetime</span><span class="o">.</span><span class="n">now</span><span class="p">()</span>
<span class="k">print</span> <span class="s">&quot;Now:&quot;</span><span class="p">,</span> <span class="n">now</span>
<span class="k">print</span> <span class="s">&quot;Now (only date):&quot;</span><span class="p">,</span> <span class="n">now</span><span class="o">.</span><span class="n">date</span><span class="p">()</span>
<span class="k">print</span> <span class="s">&quot;Tomorrow:&quot;</span><span class="p">,</span> <span class="n">now</span> <span class="o">+</span> <span class="n">datetime</span><span class="o">.</span><span class="n">timedelta</span><span class="p">(</span><span class="n">days</span><span class="o">=</span><span class="mi">1</span><span class="p">)</span>
<span class="k">print</span> <span class="s">&quot;Now (formatted):&quot;</span><span class="p">,</span> <span class="n">now</span><span class="o">.</span><span class="n">strftime</span><span class="p">(</span><span class="s">&quot;</span><span class="si">%d</span><span class="s">:%m:%Y&quot;</span><span class="p">)</span>

<span class="n">new_year</span> <span class="o">=</span> <span class="s">&quot;01-01-2015&quot;</span>
<span class="n">new_year_date</span> <span class="o">=</span> <span class="n">datetime</span><span class="o">.</span><span class="n">datetime</span><span class="o">.</span><span class="n">strptime</span><span class="p">(</span><span class="n">new_year</span><span class="p">,</span> <span class="s">&quot;%m-</span><span class="si">%d</span><span class="s">-%Y&quot;</span><span class="p">)</span>
<span class="k">print</span> <span class="s">&quot;Parsed&quot;</span><span class="p">,</span> <span class="n">new_year_date</span><span class="o">.</span><span class="n">date</span><span class="p">()</span>
</pre></div>

</div>
</div>
</div>

<div class="output_wrapper">
<div class="output">


<div class="output_area"><div class="prompt"></div>
<div class="output_subarea output_stream output_stdout output_text">
<pre>
Now: 2015-02-05 23:40:40.783000
Now (only date): 2015-02-05
Tomorrow: 2015-02-06 23:40:40.783000
Now (formatted): 05:02:2015
Parsed 2015-01-01

</pre>
</div>
</div>

</div>
</div>

</div>
<div class="cell border-box-sizing text_cell rendered">
<div class="prompt input_prompt">
</div>
<div class="inner_cell">
<div class="text_cell_render border-box-sizing rendered_html">
<p>For a better look at the documentation, you can check <a href="http://pymotw.com/2/datetime/">here</a> and <a href="https://docs.python.org/2/library/datetime.html#strftime-strptime-behavior">here</a>.</p>
</div>
</div>
</div>
<div class="cell border-box-sizing text_cell rendered">
<div class="prompt input_prompt">
</div>
<div class="inner_cell">
<div class="text_cell_render border-box-sizing rendered_html">
<p>The basic component of our project will be a function that takes as input a date and a list name, executes as many requests to the Books API as needed to get the list of books for that day and returns the list together with the date of its publication.</p>
</div>
</div>
</div>
<div class="cell border-box-sizing text_cell rendered">
<div class="prompt input_prompt">
</div>
<div class="inner_cell">
<div class="text_cell_render border-box-sizing rendered_html">
<p>To return more than one elements from a function (a tuple of elements) we write</p>
<pre><code class="language-python"><span class="function"><span class="keyword">def</span> <span class="title">foo</span><span class="params">()</span>:</span>
    <span class="keyword">return</span> <span class="string">"foo"</span>, <span class="number">42</span>
</code></pre>
<p>and then</p>
<pre><code class="language-python">r = foo()
<span class="keyword">print</span> r[<span class="number">0</span>] <span class="comment"># "foo"</span>
<span class="keyword">print</span> r[<span class="number">1</span>] <span class="comment"># 42</span>
</code></pre>
<p>or</p>
<pre><code class="language-python">txt, num = foo()
<span class="keyword">print</span> txt <span class="comment"># "foo"</span>
<span class="keyword">print</span> num <span class="comment"># 42</span>
</code></pre>
</div>
</div>
</div>
<div class="cell border-box-sizing text_cell rendered">
<div class="prompt input_prompt">
</div>
<div class="inner_cell">
<div class="text_cell_render border-box-sizing rendered_html">
<p>Write a function that, given a list name and a date, returns a tuple with the books that were best-sellers for that date and the date on which the list was published by the NYT. <strong>(40 pts)</strong></p>
</div>
</div>
</div>
<div class="cell border-box-sizing code_cell rendered">
<div class="input">
<div class="prompt input_prompt">In&nbsp;[20]:</div>
<div class="inner_cell">
    <div class="input_area">
<div class="highlight"><pre><span class="kn">import</span> <span class="nn">datetime</span>
<span class="kn">import</span> <span class="nn">time</span>

<span class="k">def</span> <span class="nf">get_books</span><span class="p">(</span><span class="n">date</span><span class="p">,</span> <span class="n">list_name</span><span class="p">):</span>
    <span class="sd">&quot;&quot;&quot;Returns a tuple containing the list of books and the publication date of the list</span>
<span class="sd">    </span>
<span class="sd">    Parameters:</span>
<span class="sd">        date: datetime</span>
<span class="sd">            The day for which  we want to check the best-selling list.</span>
<span class="sd">    </span>
<span class="sd">        list_name: string</span>
<span class="sd">            The name of best-selling list that want to check. This needs to follow</span>
<span class="sd">            the Books API guidelines, e.g. &#39;hardcore-fiction&#39;.</span>
<span class="sd">    </span>
<span class="sd">    Returns:</span>
<span class="sd">        books_set: set</span>
<span class="sd">            The set of books that were best-sellers according to NYT.</span>
<span class="sd">        </span>
<span class="sd">        published_date: datetime</span>
<span class="sd">            The date on which the list was published.</span>
<span class="sd">            </span>
<span class="sd">    &quot;&quot;&quot;</span>
    <span class="c"># Format the request date to be used in the URI</span>
    <span class="n">request_date</span> <span class="o">=</span> <span class="n">date</span><span class="o">.</span><span class="n">strftime</span><span class="p">(</span><span class="s">&quot;%Y-%m-</span><span class="si">%d</span><span class="s">&quot;</span><span class="p">)</span>
    
    <span class="c"># Issue the request and wait to not exceed the QPS limit</span>
    <span class="n">response</span> <span class="o">=</span> <span class="n">requests</span><span class="o">.</span><span class="n">get</span><span class="p">(</span><span class="s">&quot;http://api.nytimes.com/svc/books/v3/lists/</span><span class="si">%s</span><span class="s">/</span><span class="si">%s</span><span class="s">.json?api-key=</span><span class="si">%s</span><span class="s">&quot;</span>\
                        <span class="o">%</span><span class="p">(</span><span class="n">request_date</span><span class="p">,</span><span class="n">list_name</span><span class="p">,</span><span class="n">key</span><span class="p">))</span>
    <span class="n">r</span> <span class="o">=</span> <span class="n">response</span><span class="o">.</span><span class="n">json</span><span class="p">()</span>
    <span class="n">time</span><span class="o">.</span><span class="n">sleep</span><span class="p">(</span><span class="mf">0.125</span><span class="p">)</span>
    
    <span class="c"># Add the initial list of books to the result</span>
    <span class="n">i</span> <span class="o">=</span> <span class="mi">0</span>
    <span class="n">books_set</span> <span class="o">=</span> <span class="nb">set</span><span class="p">()</span>
    <span class="k">for</span> <span class="n">book</span> <span class="ow">in</span> <span class="n">r</span><span class="p">[</span><span class="s">&quot;results&quot;</span><span class="p">][</span><span class="s">&quot;books&quot;</span><span class="p">]:</span>
        <span class="n">i</span> <span class="o">+=</span> <span class="mi">1</span>
        <span class="n">books_set</span><span class="o">.</span><span class="n">add</span><span class="p">(</span><span class="n">book</span><span class="p">[</span><span class="s">&quot;title&quot;</span><span class="p">])</span>

    <span class="c"># If there are more books in the list than returned, issue new requests and adjust the offset</span>
    <span class="k">while</span> <span class="n">i</span> <span class="o">&lt;</span> <span class="n">r</span><span class="p">[</span><span class="s">&quot;num_results&quot;</span><span class="p">]:</span>
        <span class="n">offset</span> <span class="o">=</span> <span class="n">i</span>
        <span class="n">response</span> <span class="o">=</span> <span class="n">requests</span><span class="o">.</span><span class="n">get</span><span class="p">(</span><span class="s">&quot;http://api.nytimes.com/svc/books/v3/lists/</span><span class="si">%s</span><span class="s">/</span><span class="si">%s</span><span class="s">.json?api-key=</span><span class="si">%s</span><span class="s">&amp;offset=</span><span class="si">%d</span><span class="s">&quot;</span>\
                                <span class="o">%</span><span class="p">(</span><span class="n">request_date</span><span class="p">,</span><span class="n">list_name</span><span class="p">,</span><span class="n">key</span><span class="p">,</span><span class="n">offset</span><span class="p">))</span>
        <span class="n">r</span> <span class="o">=</span> <span class="n">response</span><span class="o">.</span><span class="n">json</span><span class="p">()</span>
        <span class="n">time</span><span class="o">.</span><span class="n">sleep</span><span class="p">(</span><span class="mf">0.125</span><span class="p">)</span>
        <span class="k">for</span> <span class="n">book</span> <span class="ow">in</span> <span class="n">r</span><span class="p">[</span><span class="s">&quot;results&quot;</span><span class="p">][</span><span class="s">&quot;books&quot;</span><span class="p">]:</span>
            <span class="n">i</span> <span class="o">+=</span> <span class="mi">1</span>
            <span class="n">books_set</span><span class="o">.</span><span class="n">add</span><span class="p">(</span><span class="n">book</span><span class="p">[</span><span class="s">&quot;title&quot;</span><span class="p">])</span>
            
    <span class="c"># Get the publication date of the list from the last response</span>
    <span class="n">published_date</span> <span class="o">=</span> <span class="n">datetime</span><span class="o">.</span><span class="n">datetime</span><span class="o">.</span><span class="n">strptime</span><span class="p">(</span><span class="n">r</span><span class="p">[</span><span class="s">&quot;results&quot;</span><span class="p">][</span><span class="s">&quot;published_date&quot;</span><span class="p">],</span> <span class="s">&quot;%Y-%m-</span><span class="si">%d</span><span class="s">&quot;</span><span class="p">)</span>
    <span class="k">return</span> <span class="n">books_set</span><span class="p">,</span> <span class="n">published_date</span>
</pre></div>

</div>
</div>
</div>

</div>
<div class="cell border-box-sizing text_cell rendered">
<div class="prompt input_prompt">
</div>
<div class="inner_cell">
<div class="text_cell_render border-box-sizing rendered_html">
<p>Notice that the free API key that we have has a limit of 8 QPS (queries per second). If we send multiple queries and pass this limit, we will get back an error instead of the answer. To avoid this situation, a naive way is, after each query, to wait $1/8=0.125$ seconds. The command for this is </p>
<pre><code class="language-python">time.sleep(<span class="number">0.125</span>)
</code></pre>
</div>
</div>
</div>
<div class="cell border-box-sizing text_cell rendered">
<div class="prompt input_prompt">
</div>
<div class="inner_cell">
<div class="text_cell_render border-box-sizing rendered_html">
<p>Let&#39;s now test our function:</p>
</div>
</div>
</div>
<div class="cell border-box-sizing code_cell rendered">
<div class="input">
<div class="prompt input_prompt">In&nbsp;[21]:</div>
<div class="inner_cell">
    <div class="input_area">
<div class="highlight"><pre><span class="n">date</span> <span class="o">=</span> <span class="n">datetime</span><span class="o">.</span><span class="n">date</span><span class="p">(</span><span class="mi">2014</span><span class="p">,</span><span class="mi">7</span><span class="p">,</span><span class="mi">1</span><span class="p">)</span>
<span class="n">list_name</span> <span class="o">=</span> <span class="s">&quot;hardcover-fiction&quot;</span>
<span class="n">book_list</span><span class="p">,</span> <span class="n">book_date</span> <span class="o">=</span> <span class="n">get_books</span><span class="p">(</span><span class="n">date</span><span class="p">,</span> <span class="n">list_name</span><span class="p">)</span>

<span class="k">print</span> <span class="n">book_list</span>
<span class="k">print</span>
<span class="k">print</span> <span class="s">&quot;Published on&quot;</span><span class="p">,</span> <span class="n">book_date</span>
</pre></div>

</div>
</div>
</div>

<div class="output_wrapper">
<div class="output">


<div class="output_area"><div class="prompt"></div>
<div class="output_subarea output_stream output_stdout output_text">
<pre>
set([u&apos;SHATTERED&apos;, u&apos;THE INVENTION OF WINGS&apos;, u&apos;MR. MERCEDES&apos;, u&apos;FIELD OF PREY&apos;, u&apos;THE SILKWORM&apos;, u&apos;THE VACATIONERS&apos;, u&apos;MIDNIGHT IN EUROPE&apos;, u&apos;THE GOLDFINCH&apos;, u&apos;ROGUES&apos;, u&apos;TOP SECRET TWENTY-ONE&apos;, u&apos;THE HURRICANE SISTERS&apos;, u&apos;ALL FALL DOWN&apos;, u&apos;TERMINAL CITY&apos;, u&apos;THE ONE AND ONLY&apos;, u&apos;CHINA DOLLS&apos;, u&quot;WRITTEN IN MY OWN HEART&apos;S BLOOD&quot;, u&quot;THE HUSBAND&apos;S SECRET&quot;, u&apos;UNLUCKY 13&apos;, u&apos;GHOST SHIP&apos;, u&apos;SKIN GAME&apos;, u&apos;THE MATCHMAKER&apos;, u&apos;NANTUCKET SISTERS&apos;, u&apos;NATCHEZ BURNING&apos;, u&apos;THE TARGET&apos;, u&apos;ALL THE LIGHT WE CANNOT SEE&apos;])

Published on 2014-07-06 00:00:00

</pre>
</div>
</div>

</div>
</div>

</div>
<div class="cell border-box-sizing text_cell rendered">
<div class="prompt input_prompt">
</div>
<div class="inner_cell">
<div class="text_cell_render border-box-sizing rendered_html">
<p>Great! The final step is to write a function that takes a time window and a list name, and returns a dictionary with the books that were best-sellers as keys and the number of weeks that they were in the list as values. <strong>(30 pts)</strong></p>
</div>
</div>
</div>
<div class="cell border-box-sizing code_cell rendered">
<div class="input">
<div class="prompt input_prompt">In&nbsp;[22]:</div>
<div class="inner_cell">
    <div class="input_area">
<div class="highlight"><pre><span class="kn">import</span> <span class="nn">datetime</span>

<span class="k">def</span> <span class="nf">most_popular</span><span class="p">(</span><span class="n">start_date</span><span class="p">,</span> <span class="n">end_date</span><span class="p">,</span> <span class="n">list_name</span><span class="p">):</span>
    <span class="sd">&quot;&quot;&quot;Returns the books and the number of weeks that were best-sellers for the given time window</span>
<span class="sd">    </span>
<span class="sd">    Parameters:</span>
<span class="sd">        start_date: datetime</span>
<span class="sd">            The first day to check.</span>
<span class="sd">        </span>
<span class="sd">        end_date: datetime</span>
<span class="sd">            The last day to check.</span>
<span class="sd">            </span>
<span class="sd">        list_name: string</span>
<span class="sd">            The name of best-selling list that want to check. This needs to follow</span>
<span class="sd">            the Books API guidelines, e.g. &#39;hardcore-fiction&#39;.</span>
<span class="sd">    </span>
<span class="sd">    Returns:</span>
<span class="sd">        books_dict: dictionary</span>
<span class="sd">            Dictionary of book titles with the number of weeks on the requested NYT</span>
<span class="sd">            best-seller list as the value.</span>
<span class="sd">            </span>
<span class="sd">    &quot;&quot;&quot;</span>
    <span class="c"># Initialize an empty dictionary to save the results</span>
    <span class="n">books_dict</span> <span class="o">=</span> <span class="p">{}</span>

    <span class="c"># Make the initial request</span>
    <span class="n">request_date</span> <span class="o">=</span> <span class="n">start_date</span>
    <span class="n">books_week</span><span class="p">,</span> <span class="n">published_date</span> <span class="o">=</span> <span class="n">get_books</span><span class="p">(</span><span class="n">request_date</span><span class="p">,</span> <span class="n">list_name</span><span class="p">)</span>

    <span class="k">for</span> <span class="n">book</span> <span class="ow">in</span> <span class="n">books_week</span><span class="p">:</span>
        <span class="k">if</span> <span class="n">book</span> <span class="ow">in</span> <span class="n">books_dict</span><span class="p">:</span>
            <span class="n">books_dict</span><span class="p">[</span><span class="n">book</span><span class="p">]</span> <span class="o">+=</span> <span class="mi">1</span>
        <span class="k">else</span><span class="p">:</span>
            <span class="n">books_dict</span><span class="p">[</span><span class="n">book</span><span class="p">]</span> <span class="o">=</span> <span class="mi">1</span>

    <span class="c"># The next request_date will be one day after the publication of the list</span>
    <span class="n">request_date</span> <span class="o">=</span> <span class="n">published_date</span> <span class="o">+</span> <span class="n">datetime</span><span class="o">.</span><span class="n">timedelta</span><span class="p">(</span><span class="n">days</span><span class="o">=</span><span class="mi">1</span><span class="p">)</span>

    <span class="k">while</span> <span class="n">request_date</span><span class="o">.</span><span class="n">date</span><span class="p">()</span> <span class="o">&lt;</span> <span class="n">end_date</span><span class="p">:</span>
        <span class="n">books_week</span><span class="p">,</span> <span class="n">published_date</span> <span class="o">=</span> <span class="n">get_books</span><span class="p">(</span><span class="n">request_date</span><span class="p">,</span> <span class="n">list_name</span><span class="p">)</span>
        <span class="k">for</span> <span class="n">book</span> <span class="ow">in</span> <span class="n">books_week</span><span class="p">:</span>
            <span class="k">if</span> <span class="n">book</span> <span class="ow">in</span> <span class="n">books_dict</span><span class="p">:</span>
                <span class="n">books_dict</span><span class="p">[</span><span class="n">book</span><span class="p">]</span> <span class="o">+=</span> <span class="mi">1</span>
            <span class="k">else</span><span class="p">:</span>
                <span class="n">books_dict</span><span class="p">[</span><span class="n">book</span><span class="p">]</span> <span class="o">=</span> <span class="mi">1</span>
        <span class="n">request_date</span> <span class="o">=</span> <span class="n">published_date</span> <span class="o">+</span> <span class="n">datetime</span><span class="o">.</span><span class="n">timedelta</span><span class="p">(</span><span class="n">days</span><span class="o">=</span><span class="mi">1</span><span class="p">)</span>
    <span class="k">return</span> <span class="n">books_dict</span>
</pre></div>

</div>
</div>
</div>

</div>
<div class="cell border-box-sizing text_cell rendered">
<div class="prompt input_prompt">
</div>
<div class="inner_cell">
<div class="text_cell_render border-box-sizing rendered_html">
<p>Again, let&#39;s test our function. It might take a while to run (because of the QPS limit).</p>
</div>
</div>
</div>
<div class="cell border-box-sizing code_cell rendered">
<div class="input">
<div class="prompt input_prompt">In&nbsp;[23]:</div>
<div class="inner_cell">
    <div class="input_area">
<div class="highlight"><pre><span class="n">start_date</span> <span class="o">=</span> <span class="n">datetime</span><span class="o">.</span><span class="n">date</span><span class="p">(</span><span class="mi">2014</span><span class="p">,</span><span class="mi">6</span><span class="p">,</span><span class="mi">1</span><span class="p">)</span>
<span class="n">end_date</span> <span class="o">=</span> <span class="n">datetime</span><span class="o">.</span><span class="n">date</span><span class="p">(</span><span class="mi">2014</span><span class="p">,</span><span class="mi">8</span><span class="p">,</span><span class="mi">31</span><span class="p">)</span>
<span class="n">list_name</span> <span class="o">=</span> <span class="s">&quot;hardcover-fiction&quot;</span>

<span class="n">books_dict</span> <span class="o">=</span> <span class="n">most_popular</span><span class="p">(</span><span class="n">start_date</span><span class="p">,</span> <span class="n">end_date</span><span class="p">,</span> <span class="n">list_name</span><span class="p">)</span>
<span class="k">for</span> <span class="n">book</span> <span class="ow">in</span> <span class="n">books_dict</span><span class="p">:</span>
    <span class="k">print</span> <span class="n">book</span><span class="p">,</span> <span class="s">&quot;:&quot;</span><span class="p">,</span> <span class="n">books_dict</span><span class="p">[</span><span class="n">book</span><span class="p">]</span>
</pre></div>

</div>
</div>
</div>

<div class="output_wrapper">
<div class="output">


<div class="output_area"><div class="prompt"></div>
<div class="output_subarea output_stream output_stdout output_text">
<pre>
SHATTERED : 1
RESISTANT : 1
CLOSE YOUR EYES, HOLD HANDS : 2
DAYS OF RAGE : 1
ACT OF WAR : 6
ONE PLUS ONE : 4
CUT AND THRUST : 3
COP TOWN : 3
BIG LITTLE LIES : 3
PAW AND ORDER : 1
THE HURRICANE SISTERS : 7
TERMINAL CITY : 2
THE ONE AND ONLY : 8
CHESTNUT STREET : 3
LOVE LETTERS : 1
DELICIOUS! : 3
THE 6TH EXTINCTION : 1
WILLIAM SHAKESPEARE&apos;S THE JEDI DOTH RETURN : 1
THE SNOW QUEEN : 1
MAGIC BREAKS : 1
THE BEEKEEPER&apos;S BALL : 1
NATCHEZ BURNING : 7
LANDLINE : 1
THE DIRECTOR : 1
DARK SKYE : 1
THE FORTUNE HUNTER : 1
THE INVENTION OF WINGS : 14
THE KILL SWITCH : 3
WAYFARING STRANGER : 4
THE SON : 3
THE COLLECTOR : 2
THE SILKWORM : 9
ROBERT LUDLUM&apos;S THE BOURNE ASCENDANCY : 1
SIGHT UNSEEN : 1
ROGUES : 1
INVISIBLE : 8
MY STRUGGLE: BOOK THREE : 1
NINE LIVES TO DIE : 1
A PERFECT LIFE : 4
THE SKIN COLLECTOR : 3
AN UNWILLING ACCOMPLICE : 1
CHINA DOLLS : 4
TOP SECRET : 2
THE KRAKEN PROJECT : 2
BITTERSWEET : 3
THE LINCOLN MYTH : 4
THE HEIST : 5
ROBERT B. PARKER&apos;S CHEAP SHOT : 1
MIDNIGHT CROSSROAD : 1
THE GIRLS OF AUGUST : 4
FOOL&apos;S ASSASSIN : 1
THE BOOK OF LIFE : 5
FIELD OF PREY : 6
SEVERED SOULS : 2
BORN OF FURY : 1
VERTIGO 42 : 1
REMAINS OF INNOCENCE : 3
THE HIGH DRUID&apos;S BLADE : 1
A SHIVER OF LIGHT : 2
MIDNIGHT IN EUROPE : 5
THE GOLDFINCH : 14
EARTH AWAKENS : 1
THE LAST KIND WORDS SALOON : 5
A LONG TIME GONE : 1
TOP SECRET TWENTY-ONE : 9
THE CITY : 4
UNLUCKY 13 : 7
ANY OTHER NAME : 3
I AM PILGRIM : 1
SUSPICION : 1
THE HUSBAND&apos;S SECRET : 14
GHOST SHIP : 4
FAST TRACK : 2
SKIN GAME : 6
THE MATCHMAKER : 5
NANTUCKET SISTERS : 1
THE TARGET : 8
THE CARE AND MANAGEMENT OF LIES : 1
SUMMER HOUSE WITH SWIMMING POOL : 1
MR. MERCEDES : 11
WALKING ON WATER : 3
SIXTH GRAVE ON THE EDGE : 1
THE LOST ISLAND : 2
CALIFORNIA : 3
I&apos;VE GOT YOU UNDER MY SKIN : 2
FOR ALL TIME : 1
THE VACATIONERS : 10
THE SMOKE AT DAWN : 3
ALL THE LIGHT WE CANNOT SEE : 14
COLORLESS TSUKURU TAZAKI AND HIS YEARS OF PILGRIMAGE : 1
ALL FALL DOWN : 6
POWER PLAY : 3
LUCKY US : 3
TOM CLANCY: SUPPORT AND DEFEND : 4
SAVE THE DATE : 2
WRITTEN IN MY OWN HEART&apos;S BLOOD : 10
THE STORIED LIFE OF A. J. FIKRY : 1
SHOTS FIRED : 2
THE PRODIGAL SON : 1
THE MAGICIAN&apos;S LAND : 2
SNIPER&apos;S HONOR : 2
THE DEAD WILL TELL : 1

</pre>
</div>
</div>

</div>
</div>

</div>
<div class="cell border-box-sizing code_cell rendered">
<div class="input">
<div class="prompt input_prompt">In&nbsp;[1]:</div>
<div class="inner_cell">
    <div class="input_area">
<div class="highlight"><pre><span class="c"># Code for setting the style of the notebook</span>
<span class="kn">from</span> <span class="nn">IPython.core.display</span> <span class="kn">import</span> <span class="n">HTML</span>
<span class="k">def</span> <span class="nf">css_styling</span><span class="p">():</span>
    <span class="n">styles</span> <span class="o">=</span> <span class="nb">open</span><span class="p">(</span><span class="s">&quot;../../theme/custom.css&quot;</span><span class="p">,</span> <span class="s">&quot;r&quot;</span><span class="p">)</span><span class="o">.</span><span class="n">read</span><span class="p">()</span>
    <span class="k">return</span> <span class="n">HTML</span><span class="p">(</span><span class="n">styles</span><span class="p">)</span>
<span class="n">css_styling</span><span class="p">()</span>
</pre></div>

</div>
</div>
</div>

<div class="output_wrapper">
<div class="output">


<div class="output_area"><div class="prompt output_prompt">Out[1]:</div>

<div class="output_html rendered_html output_subarea output_pyout">
<link href='http://fonts.googleapis.com/css?family=EB+Garamond' rel='stylesheet' type='text/css'>
<link href='http://fonts.googleapis.com/css?family=Alegreya+Sans:100,300,400,500,700,800,900,100italic,300italic,400italic,500italic,700italic,800italic,900italic' rel='stylesheet' type='text/css'>
<link href='http://fonts.googleapis.com/css?family=Source+Code+Pro:300,400' rel='stylesheet' type='text/css'>
<style>
    @font-face {
        font-family: "Computer Modern";
        src: url('http://mirrors.ctan.org/fonts/cm-unicode/fonts/otf/cmunss.otf');
    }
    .code_cell {
        width: 105ex !important ;
        margin-bottom: 15px !important;
    }
    div.cell {
        margin-left: auto;
        margin-right: auto;
        width: 70%;
    }    
    div.cell.selected {
        border: thin rgba(171, 171, 171, 0.5) dashed;
    }
    h1 {
        font-family: 'Alegreya Sans', sans-serif;
    }
    h2 {
        font-family: 'EB Garamond', serif;
    }
    h3 {
        font-family: 'EB Garamond', serif;
        margin-top:12px;
        margin-bottom: 3px;
    }
    h4 {
        font-family: 'EB Garamond', serif;
    }
    h5 {
        font-family: 'Alegreya Sans', sans-serif;
    }
    div.text_cell_render {
        font-family: 'EB Garamond',Computer Modern, "Helvetica Neue", Arial, Helvetica, Geneva, sans-serif;
        line-height: 145%;
        font-size: 140%;
    }
    div.input_area {
        border-color: rgba(0,0,0,0.10) !important;
        background: #fafafa;
    }
    .CodeMirror {
            font-family: "Source Code Pro";
            font-size: 90%;
    }
    .prompt {
        display: None;
    }
    .output {
        padding-left: 50px;
        padding-top: 5px;
    }
    .output_wrapper {
        padding-left: 5px;
        padding-top: inherit;
    }
    div.output_scroll {
        width: inherit;
    }
    .inner_cell {
        padding-left: 5px;
    }
    .text_cell_render h1 {
        font-weight: 200;
        font-size: 50pt;
        line-height: 100%;
        color:#CD2305;
        margin-bottom: 0.5em;
        margin-top: 0.5em;
        display: block;
    }
    .text_cell_render h5 {
        font-weight: 300;
        font-size: 16pt;
        color: #CD2305;
        font-style: italic;
        margin-bottom: .5em;
        margin-top: 0.5em;
        display: block;
    }
    .warning {
        color: rgb( 240, 20, 20 )
        }  
</style>
<script>
    MathJax.Hub.Config({
                        TeX: {
                           extensions: ["AMSmath.js"]
                           },
                tex2jax: {
                    inlineMath: [ ['$','$'], ["\\(","\\)"] ],
                    displayMath: [ ['$$','$$'], ["\\[","\\]"] ]
                },
                displayAlign: 'center', // Change this to 'center' to center equations.
                "HTML-CSS": {
                    styles: {'.MathJax_Display': {"margin": 4}}
                }
        });
</script>
</div>

</div>

</div>
</div>

</div>


     <!-- <hr/> -->
     <div class="row hidden-print">
      <div class="span12 text-center">
        <a href="#">Back to top</a>
      </div>
    </div>

     <!-- Footer
     ================================================== -->
      
      <footer class="footer hidden-print">
      <div class="span12 row-fluid footer-row">
          <div class="span4">
            <p>This web site does not host notebooks, it only renders notebooks available on other websites.</p>
          </div>

          <div class="span4">
            <p>Delivered by <a href="http://www.fastly.com/">Fastly</a>, Rendered by <a href="https://developer.rackspace.com/?nbviewer=awesome">Rackspace</a></p>
            <p>nbviewer GitHub <a href="https://github.com/jupyter/nbviewer">repository</a>.</p>
          </div>

          <div class="span4">
            

              
                <p>
                    nbviewer version:
                    <a href="https://github.com/jupyter/nbviewer/commit/852295b1eba6ea0f208cdd998fddc5d354aa2efa">852295b</a>
                </p>
              
            

<p class="text-muted">
    IPython version: 2.4.1-maint
    
</p>


            

            

<p class="text-muted">
Rendered <span class='date' data-date='Mon, 02 Mar 2015 02:47:33 UTC' title='Mon, 02 Mar 2015 02:47:33 UTC'>(Mon, 02 Mar 2015 02:47:33 UTC)</span>
</p>


          </div>
      </div>
      </footer>
      

    </div><!-- /container -->

    <script src="/static/components/bootstrap/js/bootstrap.min.js"></script>
    <script src="/static/components/headroom.js/dist/headroom.min.js"></script>
    <script src="/static/components/headroom.js/dist/jQuery.headroom.min.js"></script>


    
    
    
    <script>
    $(document).ready(
                function(){
                    $("#menubar").headroom({
                        "tolerance": 5,
                        "offset": 205,
                        "classes": {
                            "initial": "animated",
                            "pinned": "slideInDown",
                            "unpinned": "slideOutUp"
                        }
                    })
                }
            );
    </script>


    <!-- Analytics
    ================================================== -->
    <script>
      (function(i,s,o,g,r,a,m){i['GoogleAnalyticsObject']=r;i[r]=i[r]||function(){
        (i[r].q=i[r].q||[]).push(arguments)},i[r].l=1*new Date();a=s.createElement(o),
        m=s.getElementsByTagName(o)[0];a.async=1;a.src=g;m.parentNode.insertBefore(a,m)
      })(window,document,'script','//www.google-analytics.com/analytics.js','ga');

      ga('create', 'UA-38683231-2', 'auto');
      ga('send', 'pageview');

    </script>
    <script>
        var update_date  = function(){
            var str = window.moment($('.date').data('date')).fromNow();
            $('.date').text(str);
        }
        setInterval(update_date , 61*1000);
        $(update_date);
    </script>
    <!--NEW RELIC Stop Perf Measurement-->
    
    <!--NEW RELIC End-->
  </body>
</html>