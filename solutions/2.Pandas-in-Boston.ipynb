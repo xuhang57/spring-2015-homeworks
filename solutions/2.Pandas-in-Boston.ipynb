







<!DOCTYPE html>
<html lang="en">
  <head>
    <meta charset="utf-8">
    <title></title>

    <meta name="viewport" content="width=device-width, initial-scale=1.0">

    
    <meta name="description" content="">
    

    
    <meta name="author" content="">
    

    <!--NEW RELIC Start Perf Measurement-->
    
    <!--NREND-->

    <!-- Le styles -->
    <link href="/static/build/styles.css" rel="stylesheet">


    <!-- Le HTML5 shim, for IE6-8 support of HTML5 elements -->
    <!--[if lt IE 9]>
      <script src="http://html5shim.googlecode.com/svn/trunk/html5.js"></script>
    <![endif]-->

    <!-- Le fav and touch icons -->
    <link rel="shortcut icon" href="/static/ico/ipynb_icon_16x16.png">
    <link rel="apple-touch-icon-precomposed" sizes="144x144" href="/static/ico/apple-touch-icon-144-precomposed.png">
    <link rel="apple-touch-icon-precomposed" sizes="114x114" href="/static/ico/apple-touch-icon-114-precomposed.png">
    <link rel="apple-touch-icon-precomposed" sizes="72x72" href="/static/ico/apple-touch-icon-72-precomposed.png">
    <link rel="apple-touch-icon-precomposed" href="/static/ico/apple-touch-icon-57-precomposed.png">
    
    
    

    

    
    <meta name="twitter:card" content="summary">

    
    <meta name="twitter:title" content="Notebook on nbviewer">
    

    
    <meta name="twitter:description" content="Check out this Jupyter notebook!">
    

    
    <meta name="twitter:domain" content="nbviewer.ipython.org">
    

    <meta name="twitter:image:src" content="http://ipython.org/ipython-doc/dev/_images/ipynb_icon_128x128.png">
    
    
    

    <link href="/static/build/notebook.css" rel="stylesheet">
    
    <script src="https://cdn.mathjax.org/mathjax/latest/MathJax.js?config=TeX-AMS_HTML"type="text/javascript">
    </script>
    <script type="text/javascript">
    init_mathjax = function() {
        if (window.MathJax) {
            // MathJax loaded
            MathJax.Hub.Config({
                tex2jax: {
                    inlineMath: [ ['$','$'], ["\\(","\\)"] ],
                    displayMath: [ ['$$','$$'], ["\\[","\\]"] ],
                    processEscapes: true,
                    processEnvironments: true
                },
                displayAlign: 'center',
                "HTML-CSS": {
                    styles: {'.MathJax_Display': {"margin": 0}},
                    linebreaks: { automatic: true }
                }
            });
            MathJax.Hub.Queue(["Typeset",MathJax.Hub]);
        }
    }
    init_mathjax();
    </script>
    
  </head>

  <body data-spy="scroll" data-target=".subnav" data-offset="50">

  <!-- These are loaded at the top of the body so they are available to notebook
  cells when they are loaded below. -->
  <script src="/static/components/jquery/jquery.min.js"></script>
  <script src="/static/components/requirejs/require.js"></script>
  <script src="/static/components/moment/min/moment.min.js"></script>

  <!-- Navbar
  ================================================== -->
    <div id='menubar' class="navbar navbar-fixed-top hidden-print">
      <div class="navbar-inner">
        <div class="container">
          <button type="button" class="btn btn-navbar" data-toggle="collapse" data-target=".nav-collapse">
            <span class="fa fa-bars"></span>
          </button>
          <div class="nav-collapse collapse">
            <ul class="nav">

                <li>
        <a href="/" title="nbviewer" >
            <strong>
            <span>nbviewer</span>
            </strong>
        </a>
    </li>
                <li>
        <a href="/faq" title="FAQ" >
            
            <span>FAQ</span>
            
        </a>
    </li>

              <li class="">
                <a href="http://ipython.org">IPython</a>
              </li>

              <li class="">
                <a href="http://jupyter.org">Jupyter</a>
              </li>

            </ul>
            <ul class="nav pull-right">
              
              
      
        <li>
        <a href="http://cs-people.bu.edu/cmav/cs591/solutions/Homework-2/2.Pandas-in-Boston.ipynb" title="Download Notebook" download>
            <span class='fa fa-download fa-2x menu-icon'></span>
            <span class='menu-text'>Download Notebook</span>
        </a>
    </li>
    
            </ul>
          </div>
        </div>
      </div>
    </div>
    <div class="container">

     
    
    
<div class="cell border-box-sizing text_cell rendered">
<div class="prompt input_prompt">
</div>
<div class="inner_cell">
<div class="text_cell_render border-box-sizing rendered_html">
<p>(In order to load the stylesheet of this notebook, execute the last code cell in this notebook)</p>
</div>
</div>
</div>
<div class="cell border-box-sizing text_cell rendered">
<div class="prompt input_prompt">
</div>
<div class="inner_cell">
<div class="text_cell_render border-box-sizing rendered_html">
<h1 id="Analyze-the-data-from-the-Mayor's-24-hour-hotline-in-Boston-using-Pandas">Analyze the data from the Mayor's 24-hour hotline in Boston using Pandas<a class="anchor-link" href="#Analyze-the-data-from-the-Mayor's-24-hour-hotline-in-Boston-using-Pandas">&#182;</a></h1>
</div>
</div>
</div>

<div class="cell border-box-sizing text_cell rendered">
<div class="prompt input_prompt">
</div>
<div class="inner_cell">
<div class="text_cell_render border-box-sizing rendered_html">
<h2 id="Introduction">Introduction<a class="anchor-link" href="#Introduction">&#182;</a></h2>
</div>
</div>
</div>

<div class="cell border-box-sizing text_cell rendered">
<div class="prompt input_prompt">
</div>
<div class="inner_cell">
<div class="text_cell_render border-box-sizing rendered_html">
<p>In this assignment, we will practice some basic skills on working with data. We will see how to read, access, clean, filter and plot a dataset.</p>
<hr>
</div>
</div>
</div>
<div class="cell border-box-sizing text_cell rendered">
<div class="prompt input_prompt">
</div>
<div class="inner_cell">
<div class="text_cell_render border-box-sizing rendered_html">
<h2 id="Step-1.-Downaloading-the-data">Step 1. Downaloading the data<a class="anchor-link" href="#Step-1.-Downaloading-the-data">&#182;</a></h2>
</div>
</div>
</div>

<div class="cell border-box-sizing text_cell rendered">
<div class="prompt input_prompt">
</div>
<div class="inner_cell">
<div class="text_cell_render border-box-sizing rendered_html">
<p>The data that we will be using are freely available online, by the <a href="https://data.cityofboston.gov/">City of Boston</a>. A brief description of the 311 service can be found <a href="http://www.cityofboston.gov/mayor/24/">here</a>. You can download the whole dataset, which extends from 2011 until now (updated every day) from <a href="https://data.cityofboston.gov/City-Services/Mayor-s-24-Hour-Hotline-Service-Requests/awu8-dc52?">here</a>. However, it contains over 555,000 records and, as a result, it&#39;s more than 245 MB in size. In the homework repository, you can find a small part of it that covers the months of January-February 2015, under the filename <code>cases_2015.csv</code>.</p>
</div>
</div>
</div>
<div class="cell border-box-sizing text_cell rendered">
<div class="prompt input_prompt">
</div>
<div class="inner_cell">
<div class="text_cell_render border-box-sizing rendered_html">
<p>During these two months, Boston experienced one of the highest levels of snowfalls. We will take this opportunity and see how this situation affected the 311 center. We will also be using data from <a href="http://www.ncdc.noaa.gov/cdo-web/">NOAA National Climatic Data Center</a> regarding the levels of snowfall for the dates that we are interested in. This dataset is also available in our repository for your convenience under the file <code>snow.csv</code>. You can read its documentation <a href="http://www.ncdc.noaa.gov/cdo-web/datasets">here</a>.</p>
</div>
</div>
</div>
<div class="cell border-box-sizing text_cell rendered">
<div class="prompt input_prompt">
</div>
<div class="inner_cell">
<div class="text_cell_render border-box-sizing rendered_html">
<hr>
</div>
</div>
</div>
<div class="cell border-box-sizing text_cell rendered">
<div class="prompt input_prompt">
</div>
<div class="inner_cell">
<div class="text_cell_render border-box-sizing rendered_html">
<h2 id="Step-2.-Reading-the-data">Step 2. Reading the data<a class="anchor-link" href="#Step-2.-Reading-the-data">&#182;</a></h2>
</div>
</div>
</div>

<div class="cell border-box-sizing text_cell rendered">
<div class="prompt input_prompt">
</div>
<div class="inner_cell">
<div class="text_cell_render border-box-sizing rendered_html">
<p>The first thing we want to do is load the data as Pandas <em>DataFrames</em>.</p>
</div>
</div>
</div>
<div class="cell border-box-sizing code_cell rendered">
<div class="input">
<div class="prompt input_prompt">In&nbsp;[1]:</div>
<div class="inner_cell">
    <div class="input_area">
<div class="highlight"><pre><span class="o">%</span><span class="k">matplotlib</span> <span class="n">inline</span>
<span class="kn">import</span> <span class="nn">pandas</span> <span class="kn">as</span> <span class="nn">pd</span>
<span class="kn">import</span> <span class="nn">seaborn</span> <span class="kn">as</span> <span class="nn">sns</span>
<span class="kn">from</span> <span class="nn">datetime</span> <span class="kn">import</span> <span class="n">datetime</span>
<span class="kn">from</span> <span class="nn">matplotlib</span> <span class="kn">import</span> <span class="n">pyplot</span> <span class="k">as</span> <span class="n">plt</span>
</pre></div>

</div>
</div>
</div>

</div>
<div class="cell border-box-sizing code_cell rendered">
<div class="input">
<div class="prompt input_prompt">In&nbsp;[2]:</div>
<div class="inner_cell">
    <div class="input_area">
<div class="highlight"><pre><span class="n">boston</span> <span class="o">=</span> <span class="n">pd</span><span class="o">.</span><span class="n">read_csv</span><span class="p">(</span><span class="s">&#39;cases_2015.csv&#39;</span><span class="p">)</span>
</pre></div>

</div>
</div>
</div>

</div>
<div class="cell border-box-sizing text_cell rendered">
<div class="prompt input_prompt">
</div>
<div class="inner_cell">
<div class="text_cell_render border-box-sizing rendered_html">
<p>We need to take a brief look at the data, so that we get an intuition about what we are dealing with. Your first task is to do just that: print some part of the dataset <strong>(5 pts)</strong></p>
</div>
</div>
</div>
<div class="cell border-box-sizing code_cell rendered">
<div class="input">
<div class="prompt input_prompt">In&nbsp;[3]:</div>
<div class="inner_cell">
    <div class="input_area">
<div class="highlight"><pre><span class="c"># Print part of the dataset here</span>
<span class="n">boston</span><span class="o">.</span><span class="n">tail</span><span class="p">()</span>
</pre></div>

</div>
</div>
</div>

<div class="output_wrapper">
<div class="output">


<div class="output_area"><div class="prompt output_prompt">Out[3]:</div>

<div class="output_html rendered_html output_subarea output_pyout">
<div style="max-height:1000px;max-width:1500px;overflow:auto;">
<table border="1" class="dataframe">
  <thead>
    <tr style="text-align: right;">
      <th></th>
      <th>CASE_ENQUIRY_ID</th>
      <th>OPEN_DT</th>
      <th>TARGET_DT</th>
      <th>CLOSED_DT</th>
      <th>OnTime_Status</th>
      <th>CASE_STATUS</th>
      <th>CLOSURE_REASON</th>
      <th>CASE_TITLE</th>
      <th>SUBJECT</th>
      <th>REASON</th>
      <th>...</th>
      <th>precinct</th>
      <th>land_usage</th>
      <th>LOCATION_STREET_NAME</th>
      <th>LOCATION_ZIPCODE</th>
      <th>Property_Type</th>
      <th>Property_ID</th>
      <th>LATITUDE</th>
      <th>LONGITUDE</th>
      <th>Source</th>
      <th>Geocoded_Location</th>
    </tr>
  </thead>
  <tbody>
    <tr>
      <th>46693</th>
      <td> 101001295400</td>
      <td> 2015-02-14 23:37:51</td>
      <td> 2015-02-19 08:30:00</td>
      <td> NaN</td>
      <td> ONTIME</td>
      <td> Open</td>
      <td> NaN</td>
      <td>                       Request for Snow Plowing</td>
      <td> Public Works Department</td>
      <td>                   Street Cleaning</td>
      <td>...</td>
      <td> 1901</td>
      <td>  R2</td>
      <td> 110-112 Paul Gore St</td>
      <td> 2130</td>
      <td> Address</td>
      <td> 108519</td>
      <td> 42.3187</td>
      <td>-71.1061</td>
      <td> Citizens Connect App</td>
      <td> (42.3187, -71.1061)</td>
    </tr>
    <tr>
      <th>46694</th>
      <td> 101001295401</td>
      <td> 2015-02-14 23:41:25</td>
      <td>                 NaN</td>
      <td> NaN</td>
      <td> ONTIME</td>
      <td> Open</td>
      <td> NaN</td>
      <td> Request for Snow Plowing (Emergency Responder)</td>
      <td> Public Works Department</td>
      <td>                   Street Cleaning</td>
      <td>...</td>
      <td> 1807</td>
      <td>   C</td>
      <td>    456 Hyde Park Ave</td>
      <td> 2131</td>
      <td> Address</td>
      <td> 157930</td>
      <td> 42.2850</td>
      <td>-71.1187</td>
      <td>     Constituent Call</td>
      <td>  (42.285, -71.1187)</td>
    </tr>
    <tr>
      <th>46695</th>
      <td> 101001295402</td>
      <td> 2015-02-14 23:46:19</td>
      <td> 2015-02-24 08:30:00</td>
      <td> NaN</td>
      <td> ONTIME</td>
      <td> Open</td>
      <td> NaN</td>
      <td>                                   Snow Removal</td>
      <td>   Inspectional Services</td>
      <td>                  Code Enforcement</td>
      <td>...</td>
      <td> 1803</td>
      <td>  R3</td>
      <td>   1450 Blue Hill Ave</td>
      <td> 2126</td>
      <td> Address</td>
      <td> 189748</td>
      <td> 42.2745</td>
      <td>-71.0932</td>
      <td>         Self Service</td>
      <td> (42.2745, -71.0932)</td>
    </tr>
    <tr>
      <th>46696</th>
      <td> 101001295406</td>
      <td> 2015-02-14 23:53:09</td>
      <td> 2015-03-03 08:30:00</td>
      <td> NaN</td>
      <td> ONTIME</td>
      <td> Open</td>
      <td> NaN</td>
      <td>                         PublicWorks: Complaint</td>
      <td> Mayor's 24 Hour Hotline</td>
      <td>       Employee &amp; General Comments</td>
      <td>...</td>
      <td>  NaN</td>
      <td> NaN</td>
      <td>                  NaN</td>
      <td>  NaN</td>
      <td>     NaN</td>
      <td>    NaN</td>
      <td> 42.3594</td>
      <td>-71.0587</td>
      <td>     Constituent Call</td>
      <td> (42.3594, -71.0587)</td>
    </tr>
    <tr>
      <th>46697</th>
      <td> 101001295407</td>
      <td> 2015-02-15 00:00:17</td>
      <td>                 NaN</td>
      <td> NaN</td>
      <td> ONTIME</td>
      <td> Open</td>
      <td> NaN</td>
      <td>                           Misc. Snow Complaint</td>
      <td> Public Works Department</td>
      <td> Administrative &amp; General Requests</td>
      <td>...</td>
      <td> 1803</td>
      <td>  R3</td>
      <td>   1438 Blue Hill Ave</td>
      <td> 2126</td>
      <td> Address</td>
      <td>  16276</td>
      <td> 42.2749</td>
      <td>-71.0932</td>
      <td>     Constituent Call</td>
      <td> (42.2749, -71.0932)</td>
    </tr>
  </tbody>
</table>
<p>5 rows × 33 columns</p>
</div>
</div>

</div>

</div>
</div>

</div>
<div class="cell border-box-sizing text_cell rendered">
<div class="prompt input_prompt">
</div>
<div class="inner_cell">
<div class="text_cell_render border-box-sizing rendered_html">
<p>Another useful thing is to get a short summary of the columns and their data types. Make a call to the required function for this <strong>(5 pts)</strong></p>
</div>
</div>
</div>
<div class="cell border-box-sizing code_cell rendered">
<div class="input">
<div class="prompt input_prompt">In&nbsp;[4]:</div>
<div class="inner_cell">
    <div class="input_area">
<div class="highlight"><pre><span class="c"># Print information about the columns of the dataset</span>
<span class="n">boston</span><span class="o">.</span><span class="n">info</span><span class="p">()</span>
</pre></div>

</div>
</div>
</div>

<div class="output_wrapper">
<div class="output">


<div class="output_area"><div class="prompt"></div>
<div class="output_subarea output_stream output_stdout output_text">
<pre>
&lt;class &apos;pandas.core.frame.DataFrame&apos;&gt;
Int64Index: 46698 entries, 0 to 46697
Data columns (total 33 columns):
CASE_ENQUIRY_ID                   46698 non-null int64
OPEN_DT                           46698 non-null object
TARGET_DT                         41129 non-null object
CLOSED_DT                         35141 non-null object
OnTime_Status                     46694 non-null object
CASE_STATUS                       46698 non-null object
CLOSURE_REASON                    35175 non-null object
CASE_TITLE                        46679 non-null object
SUBJECT                           46698 non-null object
REASON                            46698 non-null object
TYPE                              46698 non-null object
QUEUE                             46698 non-null object
Department                        46698 non-null object
SubmittedPhoto                    7245 non-null object
ClosedPhoto                       1217 non-null object
Location                          44442 non-null object
fire_district                     44229 non-null float64
pwd_district                      44338 non-null object
city_council_district             44431 non-null float64
police_district                   44358 non-null object
neighborhood                      44402 non-null object
neighborhood_services_district    44431 non-null float64
ward                              44438 non-null object
precinct                          44297 non-null float64
land_usage                        33332 non-null object
LOCATION_STREET_NAME              44442 non-null object
LOCATION_ZIPCODE                  35291 non-null float64
Property_Type                     44442 non-null object
Property_ID                       44442 non-null float64
LATITUDE                          46698 non-null float64
LONGITUDE                         46698 non-null float64
Source                            46698 non-null object
Geocoded_Location                 46698 non-null object
dtypes: float64(8), int64(1), object(24)
memory usage: 12.1+ MB

</pre>
</div>
</div>

</div>
</div>

</div>
<div class="cell border-box-sizing text_cell rendered">
<div class="prompt input_prompt">
</div>
<div class="inner_cell">
<div class="text_cell_render border-box-sizing rendered_html">
<p>As you can see, the <code>OPEN_DT</code>, <code>TARGET_DT</code>, and <code>CLOSED_DT</code> columns, all of which should be dates, have been misclassified as <code>object</code> instead of datetime. Re-write the code that reads from a csv, in order to parse the above columns as datetimes. <strong>(5 pts)</strong></p>
</div>
</div>
</div>
<div class="cell border-box-sizing code_cell rendered">
<div class="input">
<div class="prompt input_prompt">In&nbsp;[5]:</div>
<div class="inner_cell">
    <div class="input_area">
<div class="highlight"><pre><span class="c"># Read the date columns as datetime objects</span>
<span class="n">boston</span> <span class="o">=</span> <span class="n">pd</span><span class="o">.</span><span class="n">read_csv</span><span class="p">(</span><span class="s">&#39;cases_2015.csv&#39;</span><span class="p">,</span> <span class="n">parse_dates</span><span class="o">=</span><span class="p">[</span><span class="mi">1</span><span class="p">,</span><span class="mi">2</span><span class="p">,</span><span class="mi">3</span><span class="p">])</span>
</pre></div>

</div>
</div>
</div>

</div>
<div class="cell border-box-sizing text_cell rendered">
<div class="prompt input_prompt">
</div>
<div class="inner_cell">
<div class="text_cell_render border-box-sizing rendered_html">
<p>Make sure that the column data types are exactly as expected:</p>
</div>
</div>
</div>
<div class="cell border-box-sizing code_cell rendered">
<div class="input">
<div class="prompt input_prompt">In&nbsp;[6]:</div>
<div class="inner_cell">
    <div class="input_area">
<div class="highlight"><pre><span class="c"># Print the data types of the columns again</span>
<span class="n">boston</span><span class="o">.</span><span class="n">info</span><span class="p">()</span>
</pre></div>

</div>
</div>
</div>

<div class="output_wrapper">
<div class="output">


<div class="output_area"><div class="prompt"></div>
<div class="output_subarea output_stream output_stdout output_text">
<pre>
&lt;class &apos;pandas.core.frame.DataFrame&apos;&gt;
Int64Index: 46698 entries, 0 to 46697
Data columns (total 33 columns):
CASE_ENQUIRY_ID                   46698 non-null int64
OPEN_DT                           46698 non-null datetime64[ns]
TARGET_DT                         41129 non-null datetime64[ns]
CLOSED_DT                         35141 non-null datetime64[ns]
OnTime_Status                     46694 non-null object
CASE_STATUS                       46698 non-null object
CLOSURE_REASON                    35175 non-null object
CASE_TITLE                        46679 non-null object
SUBJECT                           46698 non-null object
REASON                            46698 non-null object
TYPE                              46698 non-null object
QUEUE                             46698 non-null object
Department                        46698 non-null object
SubmittedPhoto                    7245 non-null object
ClosedPhoto                       1217 non-null object
Location                          44442 non-null object
fire_district                     44229 non-null float64
pwd_district                      44338 non-null object
city_council_district             44431 non-null float64
police_district                   44358 non-null object
neighborhood                      44402 non-null object
neighborhood_services_district    44431 non-null float64
ward                              44438 non-null object
precinct                          44297 non-null float64
land_usage                        33332 non-null object
LOCATION_STREET_NAME              44442 non-null object
LOCATION_ZIPCODE                  35291 non-null float64
Property_Type                     44442 non-null object
Property_ID                       44442 non-null float64
LATITUDE                          46698 non-null float64
LONGITUDE                         46698 non-null float64
Source                            46698 non-null object
Geocoded_Location                 46698 non-null object
dtypes: datetime64[ns](3), float64(8), int64(1), object(21)
memory usage: 12.1+ MB

</pre>
</div>
</div>

</div>
</div>

</div>
<div class="cell border-box-sizing text_cell rendered">
<div class="prompt input_prompt">
</div>
<div class="inner_cell">
<div class="text_cell_render border-box-sizing rendered_html">
<h2 id="Step-3.-Filtering-and-plotting-the-data">Step 3. Filtering and plotting the data<a class="anchor-link" href="#Step-3.-Filtering-and-plotting-the-data">&#182;</a></h2>
</div>
</div>
</div>

<div class="cell border-box-sizing text_cell rendered">
<div class="prompt input_prompt">
</div>
<div class="inner_cell">
<div class="text_cell_render border-box-sizing rendered_html">
<p>Now that we read the data and took a quick look, we can start playing around with it. As you have already noticed, there is very little documentation on the dataset itself. In such occasions, we need to look at the dataset very extensively, to get a good feel of its structure. This part, together with what we will do next, is a significant part of the <em>data cleaning</em> process.</p>
</div>
</div>
</div>
<div class="cell border-box-sizing text_cell rendered">
<div class="prompt input_prompt">
</div>
<div class="inner_cell">
<div class="text_cell_render border-box-sizing rendered_html">
<p>To practice our filtering skills, let&#39;s try to isolate the cases that were opened in February <strong>(5 pts)</strong></p>
</div>
</div>
</div>
<div class="cell border-box-sizing code_cell rendered">
<div class="input">
<div class="prompt input_prompt">In&nbsp;[7]:</div>
<div class="inner_cell">
    <div class="input_area">
<div class="highlight"><pre><span class="c"># Write code that filters the dataframe and keeps only the cases that were opened in February</span>
<span class="n">february</span> <span class="o">=</span> <span class="n">boston</span><span class="p">[(</span><span class="n">boston</span><span class="p">[</span><span class="s">&#39;OPEN_DT&#39;</span><span class="p">]</span> <span class="o">&gt;=</span> <span class="n">datetime</span><span class="p">(</span><span class="mi">2015</span><span class="p">,</span><span class="mi">2</span><span class="p">,</span><span class="mi">1</span><span class="p">))]</span>
</pre></div>

</div>
</div>
</div>

</div>
<div class="cell border-box-sizing text_cell rendered">
<div class="prompt input_prompt">
</div>
<div class="inner_cell">
<div class="text_cell_render border-box-sizing rendered_html">
<p>Can you do the same thing, but only for the cases that are still remaining open? <strong>(5 pts)</strong></p>
</div>
</div>
</div>
<div class="cell border-box-sizing code_cell rendered">
<div class="input">
<div class="prompt input_prompt">In&nbsp;[8]:</div>
<div class="inner_cell">
    <div class="input_area">
<div class="highlight"><pre><span class="c"># Write a code that also filters for open cases</span>
<span class="n">february_open</span> <span class="o">=</span> <span class="n">boston</span><span class="p">[(</span><span class="n">boston</span><span class="p">[</span><span class="s">&#39;OPEN_DT&#39;</span><span class="p">]</span> <span class="o">&gt;=</span> <span class="n">datetime</span><span class="p">(</span><span class="mi">2015</span><span class="p">,</span><span class="mi">2</span><span class="p">,</span><span class="mi">1</span><span class="p">))</span> <span class="o">&amp;</span> <span class="p">(</span><span class="n">boston</span><span class="p">[</span><span class="s">&#39;CASE_STATUS&#39;</span><span class="p">]</span> <span class="o">==</span> <span class="s">&quot;Open&quot;</span><span class="p">)]</span>
</pre></div>

</div>
</div>
</div>

</div>
<div class="cell border-box-sizing text_cell rendered">
<div class="prompt input_prompt">
</div>
<div class="inner_cell">
<div class="text_cell_render border-box-sizing rendered_html">
<p>Great! Now, let&#39;s check all the different values of the column <code>CASE_TITLE</code> together with their counts <strong>(5 pts)</strong></p>
</div>
</div>
</div>
<div class="cell border-box-sizing code_cell rendered">
<div class="input">
<div class="prompt input_prompt">In&nbsp;[9]:</div>
<div class="inner_cell">
    <div class="input_area">
<div class="highlight"><pre><span class="c"># Write code that prints the different values of the column &#39;CASE_TITLE&#39;</span>
<span class="c"># and the count for the occurencies of each value in the boston dataframe</span>
<span class="n">boston</span><span class="p">[</span><span class="s">&#39;CASE_TITLE&#39;</span><span class="p">]</span><span class="o">.</span><span class="n">value_counts</span><span class="p">()</span>
</pre></div>

</div>
</div>
</div>

<div class="output_wrapper">
<div class="output">


<div class="output_area"><div class="prompt output_prompt">Out[9]:</div>


<div class="output_text output_subarea output_pyout">
<pre>
Request for Snow Plowing                          18619
Snow Removal                                       7434
Requests for Street Cleaning                       1083
Request for Pothole Repair                          810
Misc. Snow Complaint                                768
Schedule a Bulk Item Pickup                         746
Heat - Excessive  Insufficient                      518
Empty Litter Basket                                 489
Request for Snow Plowing (Emergency Responder)      464
Traffic Signal Repair                               464
Parking Enforcement                                 458
Other: Complaint                                    437
PWD Graffiti                                        432
PublicWorks: Complaint                              428
Schedule Bulk Item Pickup                           374
...
missing pb cover/printed for jim                                1
Misc.: Public Garden: Park Improvement: Public Garden           1
Ground Maintenance: Symphony Community Park  Symphony Community Park    1
Ground Maintenance: Non - Parks Facility                        1
Graffiti: Ward 21  2104  Other                                  1
street light pole                                               1
Tree In Park: McLean Playground; East Boston                    1
General Lighting Request ( COntractor )                         1
Eliot Pearson School                                            1
Street Light Outages/sent to contractors queue                  1
Ground Maintenance: Msgr. Francis A. Ryan Park                  1
Graffiti: Ward 21  2103  Other                                  1
Ground Maintenance: Forbes St. Playground                       1
Street Light Outages/LAMP #N4287XXX  606 E. Fourth St/sent      1
Graffiti: Ward 13  1310                                         1
Length: 781, dtype: int64
</pre>
</div>

</div>

</div>
</div>

</div>
<div class="cell border-box-sizing text_cell rendered">
<div class="prompt input_prompt">
</div>
<div class="inner_cell">
<div class="text_cell_render border-box-sizing rendered_html">
<p>During this process, you may encounter many strange things, that look like outliers. For example, you may notice that there are many values for <code>CASE_TITLE</code> which only occur once. One such example is the category</p>
<pre><code>&quot;missing pb cover/printed for jim&quot;
</code></pre><p>I really wonder what this means! Try retrieving and printing the whole row <strong>(5 pts)</strong></p>
</div>
</div>
</div>
<div class="cell border-box-sizing code_cell rendered">
<div class="input">
<div class="prompt input_prompt">In&nbsp;[10]:</div>
<div class="inner_cell">
    <div class="input_area">
<div class="highlight"><pre><span class="c"># Print the row tht has CASE_TITLE &quot;missing pb cover/printed for jim&quot;</span>
<span class="n">boston</span><span class="p">[(</span><span class="n">boston</span><span class="p">[</span><span class="s">&#39;CASE_TITLE&#39;</span><span class="p">]</span> <span class="o">==</span> <span class="s">&quot;missing pb cover/printed for jim&quot;</span><span class="p">)]</span>
</pre></div>

</div>
</div>
</div>

<div class="output_wrapper">
<div class="output">


<div class="output_area"><div class="prompt output_prompt">Out[10]:</div>

<div class="output_html rendered_html output_subarea output_pyout">
<div style="max-height:1000px;max-width:1500px;overflow:auto;">
<table border="1" class="dataframe">
  <thead>
    <tr style="text-align: right;">
      <th></th>
      <th>CASE_ENQUIRY_ID</th>
      <th>OPEN_DT</th>
      <th>TARGET_DT</th>
      <th>CLOSED_DT</th>
      <th>OnTime_Status</th>
      <th>CASE_STATUS</th>
      <th>CLOSURE_REASON</th>
      <th>CASE_TITLE</th>
      <th>SUBJECT</th>
      <th>REASON</th>
      <th>...</th>
      <th>precinct</th>
      <th>land_usage</th>
      <th>LOCATION_STREET_NAME</th>
      <th>LOCATION_ZIPCODE</th>
      <th>Property_Type</th>
      <th>Property_ID</th>
      <th>LATITUDE</th>
      <th>LONGITUDE</th>
      <th>Source</th>
      <th>Geocoded_Location</th>
    </tr>
  </thead>
  <tbody>
    <tr>
      <th>585</th>
      <td> 101001241573</td>
      <td>2015-01-02 23:18:08</td>
      <td>2015-02-16 23:18:08</td>
      <td>NaT</td>
      <td> ONTIME</td>
      <td> Open</td>
      <td> NaN</td>
      <td> missing pb cover/printed for jim</td>
      <td> Public Works Department</td>
      <td> Street Lights</td>
      <td>...</td>
      <td> 807</td>
      <td> NaN</td>
      <td> INTERSECTION Blue Hill Ave &amp; Mount Pleasant Ave</td>
      <td>NaN</td>
      <td> Intersection</td>
      <td> 1606</td>
      <td> 42.3253</td>
      <td>-71.075</td>
      <td> Constituent Call</td>
      <td> (42.3253, -71.075)</td>
    </tr>
  </tbody>
</table>
<p>1 rows × 33 columns</p>
</div>
</div>

</div>

</div>
</div>

</div>
<div class="cell border-box-sizing text_cell rendered">
<div class="prompt input_prompt">
</div>
<div class="inner_cell">
<div class="text_cell_render border-box-sizing rendered_html">
<p>There&#39;s another category which seems interesting, <code>Heat - Excessive Insufficient</code>. Write code that prints the first 10 rows of the dataset that have <code>CASE_TITLE</code> which starts with &quot;Heat&quot; and see if you can understand what this stands for <strong>(15 pts)</strong></p>
</div>
</div>
</div>
<div class="cell border-box-sizing code_cell rendered">
<div class="input">
<div class="prompt input_prompt">In&nbsp;[11]:</div>
<div class="inner_cell">
    <div class="input_area">
<div class="highlight"><pre><span class="n">heat</span> <span class="o">=</span> <span class="n">boston</span><span class="p">[(</span><span class="n">boston</span><span class="p">[</span><span class="s">&#39;CASE_TITLE&#39;</span><span class="p">]</span><span class="o">.</span><span class="n">fillna</span><span class="p">(</span><span class="s">&quot;&quot;</span><span class="p">)</span><span class="o">.</span><span class="n">str</span><span class="o">.</span><span class="n">startswith</span><span class="p">(</span><span class="s">&quot;Heat&quot;</span><span class="p">))]</span>

<span class="k">for</span> <span class="n">idx</span><span class="p">,</span> <span class="n">row</span> <span class="ow">in</span> <span class="n">heat</span><span class="o">.</span><span class="n">iloc</span><span class="p">[:</span><span class="mi">10</span><span class="p">,:]</span><span class="o">.</span><span class="n">iterrows</span><span class="p">():</span>
    <span class="k">print</span> <span class="n">row</span>
</pre></div>

</div>
</div>
</div>

<div class="output_wrapper">
<div class="output">


<div class="output_area"><div class="prompt"></div>
<div class="output_subarea output_stream output_stdout output_text">
<pre>
CASE_ENQUIRY_ID                                             101001240754
OPEN_DT                                              2015-01-01 07:27:13
TARGET_DT                                            2015-01-31 07:27:13
CLOSED_DT                                                            NaN
OnTime_Status                                                    OVERDUE
CASE_STATUS                                                         Open
CLOSURE_REASON                                                       NaN
CASE_TITLE                                Heat - Excessive  Insufficient
SUBJECT                                            Inspectional Services
REASON                                                           Housing
TYPE                                      Heat - Excessive  Insufficient
QUEUE                                             ISD_Housing (INTERNAL)
Department                                                           ISD
SubmittedPhoto                                                       NaN
ClosedPhoto                                                          NaN
Location                          1744 Washington St  Roxbury  MA  02118
fire_district                                                          4
pwd_district                                                          1C
city_council_district                                                  2
police_district                                                       D4
neighborhood                                                   South End
neighborhood_services_district                                         6
ward                                                                  08
precinct                                                             802
land_usage                                                           NaN
LOCATION_STREET_NAME                                  1744 Washington St
LOCATION_ZIPCODE                                                    2118
Property_Type                                                    Address
Property_ID                                                       351061
LATITUDE                                                         42.3594
LONGITUDE                                                       -71.0587
Source                                                  Constituent Call
Geocoded_Location                                    (42.3594, -71.0587)
Name: 11, dtype: object
CASE_ENQUIRY_ID                                       101001240762
OPEN_DT                                        2015-01-01 08:53:51
TARGET_DT                                      2015-01-31 08:53:51
CLOSED_DT                                                      NaN
OnTime_Status                                              OVERDUE
CASE_STATUS                                                   Open
CLOSURE_REASON                                                 NaN
CASE_TITLE                          Heat - Excessive  Insufficient
SUBJECT                                      Inspectional Services
REASON                                                     Housing
TYPE                                Heat - Excessive  Insufficient
QUEUE                                       ISD_Housing (INTERNAL)
Department                                                     ISD
SubmittedPhoto                                                 NaN
ClosedPhoto                                                    NaN
Location                          77 Camden St  Roxbury  MA  02118
fire_district                                                    7
pwd_district                                                   10B
city_council_district                                            7
police_district                                                 D4
neighborhood                                               Roxbury
neighborhood_services_district                                  13
ward                                                        Ward 9
precinct                                                       903
land_usage                                                      EA
LOCATION_STREET_NAME                                  77 Camden St
LOCATION_ZIPCODE                                              2118
Property_Type                                              Address
Property_ID                                                 201313
LATITUDE                                                   42.3375
LONGITUDE                                                 -71.0804
Source                                            Constituent Call
Geocoded_Location                              (42.3375, -71.0804)
Name: 17, dtype: object
CASE_ENQUIRY_ID                                          101001240786
OPEN_DT                                           2015-01-01 10:59:01
TARGET_DT                                         2015-01-31 10:59:01
CLOSED_DT                                         2015-01-07 08:49:25
OnTime_Status                                                  ONTIME
CASE_STATUS                                                    Closed
CLOSURE_REASON                                          Case Closed :
CASE_TITLE                             Heat - Excessive  Insufficient
SUBJECT                                         Inspectional Services
REASON                                                        Housing
TYPE                                   Heat - Excessive  Insufficient
QUEUE                                          ISD_Housing (INTERNAL)
Department                                                        ISD
SubmittedPhoto                                                    NaN
ClosedPhoto                                                       NaN
Location                          282 Columbus Ave  Boston  MA  02116
fire_district                                                       4
pwd_district                                                       1C
city_council_district                                               2
police_district                                                    D4
neighborhood                                                South End
neighborhood_services_district                                      6
ward                                                           Ward 4
precinct                                                          401
land_usage                                                         RC
LOCATION_STREET_NAME                                 282 Columbus Ave
LOCATION_ZIPCODE                                                 2116
Property_Type                                                 Address
Property_ID                                                    211739
LATITUDE                                                      42.3469
LONGITUDE                                                    -71.0736
Source                                               Constituent Call
Geocoded_Location                                 (42.3469, -71.0736)
Name: 34, dtype: object
CASE_ENQUIRY_ID                                               101001240809
OPEN_DT                                                2015-01-01 12:37:13
TARGET_DT                                              2015-01-31 12:37:13
CLOSED_DT                                                              NaN
OnTime_Status                                                      OVERDUE
CASE_STATUS                                                           Open
CLOSURE_REASON                                                         NaN
CASE_TITLE                                  Heat - Excessive  Insufficient
SUBJECT                                              Inspectional Services
REASON                                                             Housing
TYPE                                        Heat - Excessive  Insufficient
QUEUE                                               ISD_Housing (INTERNAL)
Department                                                             ISD
SubmittedPhoto                                                         NaN
ClosedPhoto                                                            NaN
Location                          522 Blue Hill Ave  Dorchester  MA  02121
fire_district                                                            7
pwd_district                                                            03
city_council_district                                                    4
police_district                                                         B2
neighborhood                                                       Roxbury
neighborhood_services_district                                          13
ward                                                               Ward 14
precinct                                                              1403
land_usage                                                               A
LOCATION_STREET_NAME                                     522 Blue Hill Ave
LOCATION_ZIPCODE                                                      2121
Property_Type                                                      Address
Property_ID                                                         190031
LATITUDE                                                           42.3064
LONGITUDE                                                         -71.0841
Source                                                    Constituent Call
Geocoded_Location                                      (42.3064, -71.0841)
Name: 50, dtype: object
CASE_ENQUIRY_ID                                                        101001240837
OPEN_DT                                                         2015-01-01 14:24:55
TARGET_DT                                                       2015-01-31 14:24:55
CLOSED_DT                                                       2015-01-01 14:32:32
OnTime_Status                                                                ONTIME
CASE_STATUS                                                                  Closed
CLOSURE_REASON                    Case Closed Case Invalid landlord called while...
CASE_TITLE                                           Heat - Excessive  Insufficient
SUBJECT                                                       Inspectional Services
REASON                                                                      Housing
TYPE                                                 Heat - Excessive  Insufficient
QUEUE                                                        ISD_Housing (INTERNAL)
Department                                                                      ISD
SubmittedPhoto                                                                  NaN
ClosedPhoto                                                                     NaN
Location                           5070-5072 Washington St  West Roxbury  MA  02132
fire_district                                                                    12
pwd_district                                                                     06
city_council_district                                                             6
police_district                                                                  E5
neighborhood                                                           West Roxbury
neighborhood_services_district                                                   10
ward                                                                        Ward 20
precinct                                                                       2003
land_usage                                                                       R2
LOCATION_STREET_NAME                                        5070-5072 Washington St
LOCATION_ZIPCODE                                                               2132
Property_Type                                                               Address
Property_ID                                                                  145574
LATITUDE                                                                    42.2646
LONGITUDE                                                                  -71.1531
Source                                                             Constituent Call
Geocoded_Location                                               (42.2646, -71.1531)
Name: 74, dtype: object
CASE_ENQUIRY_ID                                          101001240838
OPEN_DT                                           2015-01-01 14:25:24
TARGET_DT                                         2015-01-31 14:25:23
CLOSED_DT                                                         NaN
OnTime_Status                                                 OVERDUE
CASE_STATUS                                                      Open
CLOSURE_REASON                                                    NaN
CASE_TITLE                             Heat - Excessive  Insufficient
SUBJECT                                         Inspectional Services
REASON                                                        Housing
TYPE                                   Heat - Excessive  Insufficient
QUEUE                                          ISD_Housing (INTERNAL)
Department                                                        ISD
SubmittedPhoto                                                    NaN
ClosedPhoto                                                       NaN
Location                          282 Columbus Ave  Boston  MA  02116
fire_district                                                       4
pwd_district                                                       1C
city_council_district                                               2
police_district                                                    D4
neighborhood                                                South End
neighborhood_services_district                                      6
ward                                                           Ward 4
precinct                                                          401
land_usage                                                         RC
LOCATION_STREET_NAME                                 282 Columbus Ave
LOCATION_ZIPCODE                                                 2116
Property_Type                                                 Address
Property_ID                                                    211724
LATITUDE                                                      42.3469
LONGITUDE                                                    -71.0736
Source                                               Constituent Call
Geocoded_Location                                 (42.3469, -71.0736)
Name: 75, dtype: object
CASE_ENQUIRY_ID                                        101001240842
OPEN_DT                                         2015-01-01 14:44:54
TARGET_DT                                       2015-01-31 14:44:54
CLOSED_DT                                                       NaN
OnTime_Status                                               OVERDUE
CASE_STATUS                                                    Open
CLOSURE_REASON                                                  NaN
CASE_TITLE                           Heat - Excessive  Insufficient
SUBJECT                                       Inspectional Services
REASON                                                      Housing
TYPE                                 Heat - Excessive  Insufficient
QUEUE                                        ISD_Housing (INTERNAL)
Department                                                      ISD
SubmittedPhoto                                                  NaN
ClosedPhoto                                                     NaN
Location                          72 Gardner St  Allston  MA  02134
fire_district                                                    11
pwd_district                                                     04
city_council_district                                             9
police_district                                                 D14
neighborhood                                     Allston / Brighton
neighborhood_services_district                                   15
ward                                                        Ward 21
precinct                                                       2104
land_usage                                                        A
LOCATION_STREET_NAME                                  72 Gardner St
LOCATION_ZIPCODE                                               2134
Property_Type                                               Address
Property_ID                                                  239609
LATITUDE                                                     42.354
LONGITUDE                                                  -71.1273
Source                                                 Self Service
Geocoded_Location                                (42.354, -71.1273)
Name: 78, dtype: object
CASE_ENQUIRY_ID                                            101001240863
OPEN_DT                                             2015-01-01 17:13:28
TARGET_DT                                           2015-01-31 17:13:28
CLOSED_DT                                                           NaN
OnTime_Status                                                   OVERDUE
CASE_STATUS                                                        Open
CLOSURE_REASON                                                      NaN
CASE_TITLE                               Heat - Excessive  Insufficient
SUBJECT                                           Inspectional Services
REASON                                                          Housing
TYPE                                     Heat - Excessive  Insufficient
QUEUE                                            ISD_Housing (INTERNAL)
Department                                                          ISD
SubmittedPhoto                                                      NaN
ClosedPhoto                                                         NaN
Location                          11-25 E Newton St  Roxbury  MA  02118
fire_district                                                         4
pwd_district                                                         1C
city_council_district                                                 2
police_district                                                      D4
neighborhood                                                  South End
neighborhood_services_district                                        6
ward                                                             Ward 8
precinct                                                            802
land_usage                                                           CM
LOCATION_STREET_NAME                                  11-25 E Newton St
LOCATION_ZIPCODE                                                   2118
Property_Type                                                   Address
Property_ID                                                      102338
LATITUDE                                                        42.3382
LONGITUDE                                                      -71.0731
Source                                                 Constituent Call
Geocoded_Location                                   (42.3382, -71.0731)
Name: 94, dtype: object
CASE_ENQUIRY_ID                                               101001240882
OPEN_DT                                                2015-01-01 19:25:55
TARGET_DT                                              2015-01-31 19:25:55
CLOSED_DT                                                              NaN
OnTime_Status                                                      OVERDUE
CASE_STATUS                                                           Open
CLOSURE_REASON                                                         NaN
CASE_TITLE                                  Heat - Excessive  Insufficient
SUBJECT                                              Inspectional Services
REASON                                                             Housing
TYPE                                        Heat - Excessive  Insufficient
QUEUE                                               ISD_Housing (INTERNAL)
Department                                                             ISD
SubmittedPhoto                                                         NaN
ClosedPhoto                                                            NaN
Location                          950 Canterbury St  Roslindale  MA  02131
fire_district                                                           12
pwd_district                                                            08
city_council_district                                                    5
police_district                                                        E18
neighborhood                                                    Roslindale
neighborhood_services_district                                          10
ward                                                               Ward 18
precinct                                                              1808
land_usage                                                               A
LOCATION_STREET_NAME                                     950 Canterbury St
LOCATION_ZIPCODE                                                      2131
Property_Type                                                      Address
Property_ID                                                         201733
LATITUDE                                                           42.2785
LONGITUDE                                                         -71.1172
Source                                                    Constituent Call
Geocoded_Location                                      (42.2785, -71.1172)
Name: 107, dtype: object
CASE_ENQUIRY_ID                                         101001240896
OPEN_DT                                          2015-01-01 22:11:51
TARGET_DT                                        2015-01-31 22:11:50
CLOSED_DT                                                        NaN
OnTime_Status                                                OVERDUE
CASE_STATUS                                                     Open
CLOSURE_REASON                                                   NaN
CASE_TITLE                            Heat - Excessive  Insufficient
SUBJECT                                        Inspectional Services
REASON                                                       Housing
TYPE                                  Heat - Excessive  Insufficient
QUEUE                                         ISD_Housing (INTERNAL)
Department                                                       ISD
SubmittedPhoto                                                   NaN
ClosedPhoto                                                      NaN
Location                          31 Wales St  Dorchester  MA  02124
fire_district                                                      7
pwd_district                                                      03
city_council_district                                              4
police_district                                                   B3
neighborhood                                        Greater Mattapan
neighborhood_services_district                                     8
ward                                                         Ward 14
precinct                                                        1407
land_usage                                                         A
LOCATION_STREET_NAME                                     31 Wales St
LOCATION_ZIPCODE                                                2124
Property_Type                                                Address
Property_ID                                                   326017
LATITUDE                                                     42.2969
LONGITUDE                                                    -71.085
Source                                              Constituent Call
Geocoded_Location                                 (42.2969, -71.085)
Name: 117, dtype: object

</pre>
</div>
</div>

</div>
</div>

</div>
<div class="cell border-box-sizing text_cell rendered">
<div class="prompt input_prompt">
</div>
<div class="inner_cell">
<div class="text_cell_render border-box-sizing rendered_html">
<p>Now, let&#39;s plot (preferably with horizontal bars) the counts for all the <code>CASE_TITLE</code>s that occur more than 250 times in the dataset. <strong>(5 pts)</strong></p>
</div>
</div>
</div>
<div class="cell border-box-sizing code_cell rendered">
<div class="input">
<div class="prompt input_prompt">In&nbsp;[12]:</div>
<div class="inner_cell">
    <div class="input_area">
<div class="highlight"><pre><span class="c"># Plots the high-occuring categories for cases as a horizontal histogram.</span>
<span class="n">counts</span> <span class="o">=</span> <span class="n">boston</span><span class="p">[</span><span class="s">&#39;CASE_TITLE&#39;</span><span class="p">]</span><span class="o">.</span><span class="n">value_counts</span><span class="p">()</span>
<span class="n">counts</span><span class="p">[</span><span class="n">counts</span><span class="o">&gt;</span><span class="mi">250</span><span class="p">]</span><span class="o">.</span><span class="n">plot</span><span class="p">(</span><span class="n">kind</span><span class="o">=</span><span class="s">&#39;barh&#39;</span><span class="p">)</span>
</pre></div>

</div>
</div>
</div>

<div class="output_wrapper">
<div class="output">


<div class="output_area"><div class="prompt output_prompt">Out[12]:</div>


<div class="output_text output_subarea output_pyout">
<pre>
&lt;matplotlib.axes._subplots.AxesSubplot at 0x111fbe10&gt;
</pre>
</div>

</div>

<div class="output_area"><div class="prompt"></div>


<div class="output_png output_subarea ">
<img src="data:image/png;base64,iVBORw0KGgoAAAANSUhEUgAAAsYAAAFRCAYAAAB342vTAAAABHNCSVQICAgIfAhkiAAAAAlwSFlz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"
>
</div>

</div>

</div>
</div>

</div>
<div class="cell border-box-sizing text_cell rendered">
<div class="prompt input_prompt">
</div>
<div class="inner_cell">
<div class="text_cell_render border-box-sizing rendered_html">
<p>As you can see, the most common categories are related to snow. Let us see which neighborhoods were mostly affected by snow problems. This information is saved under the <code>neighborhood</code> column. Make a plot (similar to the one above, like a horizontal histogram) that for each neighborhood shows the number of snow-related calls made from there. <strong>(5 pts)</strong></p>
</div>
</div>
</div>
<div class="cell border-box-sizing code_cell rendered">
<div class="input">
<div class="prompt input_prompt">In&nbsp;[13]:</div>
<div class="inner_cell">
    <div class="input_area">
<div class="highlight"><pre><span class="n">snow</span> <span class="o">=</span> <span class="n">boston</span><span class="p">[(</span><span class="n">boston</span><span class="p">[</span><span class="s">&#39;CASE_TITLE&#39;</span><span class="p">]</span><span class="o">.</span><span class="n">fillna</span><span class="p">(</span><span class="s">&quot;&quot;</span><span class="p">)</span><span class="o">.</span><span class="n">str</span><span class="o">.</span><span class="n">contains</span><span class="p">(</span><span class="s">&quot;Snow&quot;</span><span class="p">))]</span>
<span class="n">snow</span><span class="o">.</span><span class="n">neighborhood</span><span class="o">.</span><span class="n">value_counts</span><span class="p">()</span><span class="o">.</span><span class="n">plot</span><span class="p">(</span><span class="n">kind</span><span class="o">=</span><span class="s">&#39;barh&#39;</span><span class="p">)</span>
</pre></div>

</div>
</div>
</div>

<div class="output_wrapper">
<div class="output">


<div class="output_area"><div class="prompt output_prompt">Out[13]:</div>


<div class="output_text output_subarea output_pyout">
<pre>
&lt;matplotlib.axes._subplots.AxesSubplot at 0x110e25c0&gt;
</pre>
</div>

</div>

<div class="output_area"><div class="prompt"></div>


<div class="output_png output_subarea ">
<img src="data:image/png;base64,iVBORw0KGgoAAAANSUhEUgAAArQAAAFRCAYAAACFXz52AAAABHNCSVQICAgIfAhkiAAAAAlwSFlz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"
>
</div>

</div>

</div>
</div>

</div>
<div class="cell border-box-sizing text_cell rendered">
<div class="prompt input_prompt">
</div>
<div class="inner_cell">
<div class="text_cell_render border-box-sizing rendered_html">
<h2 id="Step-3.-Advanced-filtering-&amp;-joins">Step 3. Advanced filtering &amp; joins<a class="anchor-link" href="#Step-3.-Advanced-filtering-&amp;-joins">&#182;</a></h2>
</div>
</div>
</div>

<div class="cell border-box-sizing text_cell rendered">
<div class="prompt input_prompt">
</div>
<div class="inner_cell">
<div class="text_cell_render border-box-sizing rendered_html">
<p>By now, you should have noticed that, for each day, there are multiple records in our dataframe. Use the <code>groupby</code> function to get, for each day, the counts for all the case categories. Plot the result for the top 5 categories as you see fit. <strong>(20 pts)</strong></p>
</div>
</div>
</div>
<div class="cell border-box-sizing code_cell rendered">
<div class="input">
<div class="prompt input_prompt">In&nbsp;[23]:</div>
<div class="inner_cell">
    <div class="input_area">
<div class="highlight"><pre><span class="c"># Write your code here</span>
<span class="n">calls</span> <span class="o">=</span> <span class="n">boston</span><span class="o">.</span><span class="n">groupby</span><span class="p">([</span><span class="n">boston</span><span class="o">.</span><span class="n">OPEN_DT</span><span class="o">.</span><span class="n">dt</span><span class="o">.</span><span class="n">date</span><span class="p">,</span> <span class="s">&#39;CASE_TITLE&#39;</span><span class="p">])[</span><span class="s">&#39;CASE_ENQUIRY_ID&#39;</span><span class="p">]</span><span class="o">.</span><span class="n">count</span><span class="p">()</span>
<span class="n">calls</span> <span class="o">=</span> <span class="n">calls</span><span class="o">.</span><span class="n">unstack</span><span class="p">(</span><span class="n">level</span><span class="o">=</span><span class="mi">0</span><span class="p">)</span>
<span class="n">top_categories</span> <span class="o">=</span> <span class="n">calls</span><span class="o">.</span><span class="n">sum</span><span class="p">(</span><span class="n">axis</span><span class="o">=</span><span class="mi">1</span><span class="p">)</span><span class="o">.</span><span class="n">sort</span><span class="p">(</span><span class="n">inplace</span><span class="o">=</span><span class="bp">False</span><span class="p">,</span> <span class="n">ascending</span><span class="o">=</span><span class="bp">False</span><span class="p">)[:</span><span class="mi">5</span><span class="p">]</span><span class="o">.</span><span class="n">index</span><span class="o">.</span><span class="n">values</span>
<span class="n">calls</span> <span class="o">=</span> <span class="n">calls</span><span class="o">.</span><span class="n">T</span><span class="p">[</span><span class="n">top_categories</span><span class="p">]</span>
<span class="n">calls</span><span class="o">.</span><span class="n">plot</span><span class="p">()</span>
</pre></div>

</div>
</div>
</div>

<div class="output_wrapper">
<div class="output">


<div class="output_area"><div class="prompt"></div>
<div class="output_subarea output_stream output_stdout output_text">
<pre>
            CASE_TITLE                  
2015-01-01  Animal Found                    5
            Animal Generic Request          1
            Animal Lost                     1
            BWSC: Water Main Break          1
            Comments on City Policy  D10    1
            Empty Litter Basket             1
            Fire                            4
            Graffiti Removal                5
            Graffiti: 06  0606  Racial      1
            Graffiti: Ward 11  1109         1
Name: CASE_ENQUIRY_ID, dtype: int64

</pre>
</div>
</div>

<div class="output_area"><div class="prompt output_prompt">Out[23]:</div>


<div class="output_text output_subarea output_pyout">
<pre>
&lt;matplotlib.axes._subplots.AxesSubplot at 0x1fd6deb8&gt;
</pre>
</div>

</div>

<div class="output_area"><div class="prompt"></div>


<div class="output_png output_subarea ">
<img src="data:image/png;base64,iVBORw0KGgoAAAANSUhEUgAAAekAAAFVCAYAAADLxheZAAAABHNCSVQICAgIfAhkiAAAAAlwSFlz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==
"
>
</div>

</div>

</div>
</div>

</div>
<div class="cell border-box-sizing text_cell rendered">
<div class="prompt input_prompt">
</div>
<div class="inner_cell">
<div class="text_cell_render border-box-sizing rendered_html">
<p>Let&#39;s see how this trend compares to the snowfall. First, we need to read the data from <code>snow.csv</code></p>
</div>
</div>
</div>
<div class="cell border-box-sizing code_cell rendered">
<div class="input">
<div class="prompt input_prompt">In&nbsp;[16]:</div>
<div class="inner_cell">
    <div class="input_area">
<div class="highlight"><pre><span class="c"># Read the dataframe</span>
<span class="n">snow_data</span> <span class="o">=</span> <span class="n">pd</span><span class="o">.</span><span class="n">read_csv</span><span class="p">(</span><span class="s">&quot;snow.csv&quot;</span><span class="p">,</span><span class="n">parse_dates</span><span class="o">=</span><span class="p">[</span><span class="mi">1</span><span class="p">])</span>
</pre></div>

</div>
</div>
</div>

</div>
<div class="cell border-box-sizing text_cell rendered">
<div class="prompt input_prompt">
</div>
<div class="inner_cell">
<div class="text_cell_render border-box-sizing rendered_html">
<p>According to the documentation, the column <code>SNOW</code> has the values for the snowfall, in mm. However, the dataset we have has information from many different stations around Boston. Aggregate all their measurements and transform the result to centimeters. Finally, plot the result <strong>(10 pts)</strong></p>
</div>
</div>
</div>
<div class="cell border-box-sizing code_cell rendered">
<div class="input">
<div class="prompt input_prompt">In&nbsp;[17]:</div>
<div class="inner_cell">
    <div class="input_area">
<div class="highlight"><pre><span class="c"># Write your code here</span>
<span class="n">snowfall</span> <span class="o">=</span> <span class="n">snow_data</span><span class="p">[</span><span class="n">snow_data</span><span class="o">.</span><span class="n">SNOW</span> <span class="o">&gt;</span> <span class="mi">0</span><span class="p">]</span><span class="o">.</span><span class="n">groupby</span><span class="p">(</span><span class="n">snow_data</span><span class="o">.</span><span class="n">DATE</span><span class="p">)[</span><span class="s">&quot;SNOW&quot;</span><span class="p">]</span><span class="o">.</span><span class="n">mean</span><span class="p">()</span> <span class="o">/</span> <span class="mi">10</span>
<span class="n">snowfall</span><span class="o">.</span><span class="n">plot</span><span class="p">(</span><span class="n">kind</span><span class="o">=</span><span class="s">&#39;bar&#39;</span><span class="p">)</span>
</pre></div>

</div>
</div>
</div>

<div class="output_wrapper">
<div class="output">


<div class="output_area"><div class="prompt output_prompt">Out[17]:</div>


<div class="output_text output_subarea output_pyout">
<pre>
&lt;matplotlib.axes._subplots.AxesSubplot at 0x1e763e48&gt;
</pre>
</div>

</div>

<div class="output_area"><div class="prompt"></div>


<div class="output_png output_subarea ">
<img src="data:image/png;base64,iVBORw0KGgoAAAANSUhEUgAAAd4AAAG4CAYAAADrM4aEAAAABHNCSVQICAgIfAhkiAAAAAlwSFlz
AAALEgAACxIB0t1+/AAAIABJREFUeJzt3X2UpHV55vFrmKE1k27HIfawgYyos9SdTdz1hSQGZBkI
GCUYiGQ9eTEoGANs3JNxoxglBo95WxICBhNiPESDnmyWCBLFJPhGEBSIxsBqiPEGYhxbQmSWaUaG
QWaG6f2jqqGmu7qq+ql6fnfdVd/POX1muqp/dV39dHXdXW/Ps2ZhYUEAAKCMQ6ILAAAwSRi8AAAU
xOAFAKAgBi8AAAUxeAEAKIjBCwBAQev6+SIz2yTpHySdLOmApKta/94l6fXuznuSAADoQ897vGZ2
qKT3SHpE0hpJl0m60N1PaH1+Rq0NAQAYI/081HyJpHdLur/1+Qvd/ZbW/2+QdEodxQAAGEddB6+Z
nS1ph7t/onXSmtbHot2SNtRTDQCA8dPrOd5zJC2Y2SmSni/p/ZJm286fkfRQr5D9+x9fWLdubeWS
AAAks2alM7oOXnffuvh/M7tJ0vmSLjGzre5+s6RTJd3YK31+fs+K583OzmjHjod7XcTQ1k1KZqau
EZmZukZkZuoakZmpa0Rmpq51Zc7Ozqy4rq9XNbdZkPRGSVea2ZSkL0u6dpWXAQDAxOp78Lr7SW2f
njj8KgAAjD92oAEAQEEMXgAACmLwAgBQEIMXAICCGLwAABTE4AUAoCAGLwAABTF4AQAoiMELAEBB
DF4AAApi8AIAUBCDFwCAghi8AAAUxOAFAKAgBi8AAAX1fTxeAGXs3btXc3PbDzptfn5aO3fuliRt
3nyUpqamIqoBGAIGLzBi5ua2a9sl12v9hk3Lztuz6wFdfsHp2rLl6IBmAIaBwQuMoPUbNml645HR
NQDUgOd4AQAoiMELAEBBDF4AAApi8AIAUBCDFwCAghi8AAAUxOAFAKAgBi8AAAUxeAEAKIjBCwBA
QQxeAAAKYvACAFAQgxcAgIK6Hp3IzNZKulJSQ9KCpPMlTUn6K0l3t77s3e7+wTpLAgAwLnodFvDl
kg64+/FmtlXSb0n6qKRL3f2y2tsBADBmuj7U7O4fkXRe69NnSXpI0jGSTjOzm83sT8xsut6KAACM
jzULCws9v8jMrpL0E5JeKelISV909zvN7EJJG939gm7r9+9/fGHdurVDqAuMv7vvvlvnXfwpTW88
ctl5u+fv03vecooajUZAMwCrsGalM3o91CxJcvezzexwSZ+TdJy7/1vrrA9Lelev9fPze1Y8b3Z2
Rjt2PNxPjaGsm5TMTF0jMke5686du3ue32/+OG6fUcjM1DUiM1PXujJnZ2dWXNf1oWYzO8vM3tr6
9FFJByRdZ2Y/2DrtZElfWHVbAAAmVK97vNdKusrMbpZ0qKRtkr4u6Qoz2yfpfknn1lsRAIDx0XXw
uvujkn6qw1nH11MHAIDxxg40AAAoiMELAEBBDF4AAApi8AIAUBCDFwCAghi8AAAUxOAFAKAgBi8A
AAUxeAEAKIjBCwBAQQxeAAAKYvACAFAQgxcAgIIYvAAAFMTgBQCgIAYvAAAFMXgBACiIwQsAQEEM
XgAACmLwAgBQEIMXAICCGLwAABTE4AUAoCAGLwAABTF4AQAoiMELAEBBDF4AAApi8AIAUBCDFwCA
ghi8AAAUtK7XF5jZWklXSmpIWpB0vqTHJF0l6YCkuyS93t0X6qsJAMB46Oce78slHXD34yW9TdJv
S7pU0oXufoKkNZLOqK8iAADjo+fgdfePSDqv9emzJM1LOsbdb2mddoOkU2ppBwDAmFmzsNDfI8Rm
dpWkn5D0SklXufuRrdN/RNI57n7WSmv37398Yd26tYO3BSbA3XffrfMu/pSmNx657Lzd8/fpPW85
RY1GI6AZgFVYs9IZPZ/jXeTuZ5vZ4ZI+L+mpbWfNSHqo29r5+T0rnjc7O6MdOx7ut8bA6yYlM1PX
iMxR7rpz5+6e5/ebP47bZxQyM3WNyMzUta7M2dmZFdf1fKjZzM4ys7e2Pn1U0uOSvmBmW1unnSrp
lo6LAQDAQfq5x3utpKvM7GZJh0raJukrkq40sylJX259DQAA6KHn4HX3RyX9VIezThx6GwAAxhw7
0AAAoCAGLwAABTF4AQAoiMELAEBBDF4AAApi8AIAUBCDFwCAghi8AAAUxOAFAKAgBi8AAAUxeAEA
KIjBCwBAQQxeAAAKYvACAFAQgxcAgIIYvAAAFMTgBQCgIAYvAAAFMXgBACiIwQsAQEEMXgAACloX
XQDAcOzdu1dzc9sPOm1+flo7d+5+4vPNm4/S1NRU6WoA2jB4gTExN7dd2y65Xus3bOp4/p5dD+jy
C07Xli1HF24GoB2DFxgj6zds0vTGI6NrAOiC53gBACiIwQsAQEEMXgAACmLwAgBQEIMXAICCGLwA
ABTU9e1EZnaopPdJOkrSUyT9pqRvSPorSXe3vuzd7v7BOksCADAuer2P91WSdrj7WWa2UdIXJb1D
0qXuflnt7QAAGDO9Bu81kq5t/f8QSfskHSPJzOwMSfdIeoO7715hPQAAaNP1OV53f8Tdd5vZjJpD
+FclfV7Sm9x9q6SvSnp7/TUBABgPPXcZaWabJV0n6Qp3v9rMNrj7rtbZH5b0rl6XsXHjeq1bt3bF
82dnZ/qsO5x1k5KZqWtE5qh2nZ+f7nr+YYdNd7ycXuu6re1kVLfPqGRm6hqRmalr6cxeL646XNIn
JP2iu9/UOvljZvZL7v73kk6W9IVeIfPze1Y8b3Z2Rjt2PNx/4wHXTUpmpq4RmaPctf1oQiud3+ly
eq3rtnapUd4+o5CZqWtEZqaudWV2G8i97vFeKGmDpIvM7KLWaW+Q9E4z2yfpfknnrrotAAATquvg
dfdtkrZ1OOv4euoAADDe2IEGAAAFMXgBACio56uaAWAc7N27V3Nz2w86bX5++qAXpW3efJSmpqZK
V8OEYfACmAhzc9u17ZLrtX7Dpo7n79n1gC6/4HRt2XJ04WaYNAxeABNj/YZNmt54ZHQNTDie4wUA
oCAGLwAABTF4AQAoiMELAEBBDF4AAApi8AIAUBCDFwCAghi8AAAUxOAFAKAgBi8AAAUxeAEAKIjB
CwBAQQxeAAAKYvACAFAQgxcAgIIYvAAAFMTgBQCgIAYvAAAFMXgBACiIwQsAQEEMXgAACmLwAgBQ
EIMXAICCGLwAABTE4AUAoCAGLwAABa3rdqaZHSrpfZKOkvQUSb8p6Z8lXSXpgKS7JL3e3RfqrQkA
wHjodY/3VZJ2uPsJkl4m6QpJl0q6sHXaGkln1FsRAIDx0WvwXiPporav3Sfphe5+S+u0GySdUlM3
AADGTteHmt39EUkysxk1h/DbJP1e25fslrShV8jGjeu1bt3aFc+fnZ3pp+vQ1k1KZqauEZmj2nV+
frrr+YcdNt3xcnqt67a2k1HdPlXXsn34/RqVzK6DV5LMbLOk6yRd4e7/x8x+t+3sGUkP9bqM+fk9
K543OzujHTse7qPqcNZNSmamrhGZo9x1587dPc/vdDm91nVbu9Qob5+qa9k+/H6VzOw2kHu9uOpw
SZ+Q9IvuflPr5DvNbKu73yzpVEk3rrotAGBs7N27V3Nz25/4fH5++qA/dDZvPkpTU1MR1UZSr3u8
F6r5UPJFZrb4XO82Se8ysylJX5Z0bY39AAAjbm5uu7Zdcr3Wb9i07Lw9ux7Q5Recri1bjg5oNpp6
Pce7Tc1Bu9SJtbQBAKS0fsMmTW88MrpGCuxAAwCAghi8AAAUxOAFAKAgBi8AAAUxeAEAKIjBCwBA
QQxeAAAKYvACAFAQgxcAgIIYvAAAFNTz6EQAgPG39EAHEgc7qAuDFwDQ9UAHEgc7GCYGLwBAEgc6
KIXneAEAKIjBCwBAQQxeAAAKYvACAFAQgxcAgIIYvAAAFMTgBQCgIAYvAAAFMXgBACiIwQsAQEEM
XgAACmLwAgBQEIMXAICCGLwAABTE4AUAoCAGLwAABTF4AQAoaF0/X2RmL5J0sbufZGYvkPRRSfe0
zn63u3+wroIAAIyTnoPXzN4s6eck7W6ddIyky9z9sjqLAQAwjvp5qPleSWdKWtP6/BhJp5nZzWb2
J2Y2XVs7AADGTM/B6+7XSdrfdtLnJL3J3bdK+qqkt9fUDQCAsdPXc7xL/KW772r9/8OS3tVrwcaN
67Vu3doVz5+dnalQo/q6ScnM1DUic1S7zs93fxDpsMOmO15Or3Xd1nYyqtun6lq2T33bp+p1diWj
uH2Gua7K4P2Ymf2Su/+9pJMlfaHXgvn5PSueNzs7ox07Hl51iarrJiUzU9eIzFHuunPn7p7nd7qc
Xuu6rV1qlLdP1bVsn/q2T9XrbCejun1Wu67bQF7N4F1o/Xu+pCvMbJ+k+yWdu4rLAABgovU1eN39
a5KOa/3/i5KOr7ETAABjix1oAABQEIMXAICCGLwAABTE4AUAoCAGLwAABTF4AQAoiMELAEBBDF4A
AApi8AIAUFCVfTUDQJi9e/dqbm77QafNz08/sb/gzZuP0tTUVEQ1oC8MXgCpzM1t17ZLrtf6DZuW
nbdn1wO6/ILTtWXL0QHNgP4weAGks37DJk1vPDK6BlAJz/ECAFAQgxcAgIIYvAAAFMTgBQCgIAYv
AAAFMXgBACiIwQsAQEEMXgAACmLwAgBQEIMXAICCGLwAABTE4AUAoCAGLwAABTF4AQAoiMELAEBB
DF4AAApi8AIAUBCDFwCAgtb180Vm9iJJF7v7SWb2HyVdJemApLskvd7dF+qrCADA+Oh5j9fM3izp
SklPaZ10maQL3f0ESWsknVFfPQAAxks/DzXfK+lMNYesJL3Q3W9p/f8GSafUUQwAgHHUc/C6+3WS
9redtKbt/7slbRh2KQAAxlVfz/EucaDt/zOSHuq1YOPG9Vq3bu2K58/OzlSoUX3dpGRm6hqROapd
5+enu55/2GHTHS+n17puazth+3Q3qtun6tpBtk/Vn8lKRnH7DHNdlcF7p5ltdfebJZ0q6cZeC+bn
96x43uzsjHbseHjVJaqum5TMTF0jMke5686du3ue3+lyeq3rtnYptk93o7x9qq4dZPtU/Zl0Mqrb
Z7Xrug3k1QzexVcuv1HSlWY2JenLkq5dxWUAADDR+hq87v41Sce1/n+PpBPrqwQAwPhiBxoAABTE
4AUAoCAGLwAABVV5VTMAYETt3btXc3PbDzptfn76iVceb958lKampiKqoYXBCwBjZG5uu7Zdcr3W
b9i07Lw9ux7Q5Recri1bjg5ohkUMXgAYM+s3bNL0xiOja2AFPMcLAEBB3OMFuuD5MgDDxuAFuuD5
MgDDxuAFeuD5MgDDxHO8AAAUxOAFAKAgBi8AAAUxeAEAKIjBCwBAQQxeAAAKYvACAFAQ7+PFRFi6
B6r2vU9J7IEKQDkMXkwE9kAFYFQweDEx2AMVgFHAc7wAABTE4AUAoCAGLwAABTF4AQAoiMELAEBB
DF4AAApi8AIAUBCDFwCAghi8AAAUxOAFAKAgdhkJ1IQDMwDopPLgNbM7JO1qffpVd//54VQCxgMH
ZgDQSaXBa2ZPlSR3P2m4dYDxwoEZACxV9R7v8yStN7OPty7jQnf/3PBqAQAwnqoO3kckXeLu7zWz
oyXdYGYNdz/Q6Ys3blyvdevWrnhhs7MzlUpUXTcpmZm61p05Pz/d9fzDDpvueDlV10Vk9lrXbW0n
k/az7La2E7bP4JkrGbfbn6WqDt67Jd0rSe5+j5k9KOm7Jd3X6Yvn5/eseEGzszPasePhVReoum5S
MjN1LZHZ/qKmlc7vdDlV10Vk9lrXbe1Sk/iz7LZ2KbbPcDI7GZfbn24Duerbic6RdKkkmdkRkp4m
6f6KlwUAwMSoeo/3vZL+1MxuaX1+zkoPMwMAgCdVGrzuvl/SWUPuAgDA2Cu6A42lOxSQ2KkAgPHV
6zaP27vJVHTwdtuhgMROBQCMF3aigk6K7zKSHQoAmCTc5mEp9tUMAD2w320ME4MXAHrgIWMMU5rB
y1+cACLxkDGGJc3g5S9OAMA4SDN4Jf7iBADkV3WXkQAAoAIGLwAABaV6qBnAaGHPTMDqMXgBVMaL
HoHVY/ACGAgvegRWh+d4AQAoiHu8AICJMQqvS2DwAgAmxii8LoHBCwCYKNGvS2Dwjgn2ZQ0AOTB4
x8QoPHwCAOiNwTtGoh8+AYBSMj/Kx+AFAKST+VE+Bi8AIKWsj/KxAw0AAAriHu8I6fXGbmm0n7cA
MDyZn8NEdwzeEdLtOQtp9J634IYBqE/m5zDRHYN3xGR6zoIbhvHBH1GjKdPtQRWjsPvGCAxeDGTc
bxgmBX9EIcKkXu8YvChuUv/KHXX8EYUIk3i9G/vBy4386JnUv3IBQJqAwTvIjXzV570Y9r1N4l+5
ACBVHLxmdoikP5L0XyQ9Jul17v4vwyw2TFVv5KsO7Uz36DL9kcDbrcYLL+hCJsO8/al6j/cnJE25
+3Fm9iJJl7ZOGztVh3aWe3SZ/kjI9nYrdJfpugcM8/an6uB9saSPSZK7f87MfqDi5WAEZPkjQcrV
Fb3x80Qmw7q+Vh28T5P0rbbPHzezQ9z9QKcvPuaY50qS9u3bp53f2qM1h6yVJB37yt846Ov27Hrg
oK9vt2/fPj3zuHM7lrntLy7UK25Yr0MPPfSg0//hH+466HIX3X7Nr0mSFg48ftC6xa9f2mnx69st
HHhcOvdvO/Z5xSteftD3uejYV/7Gsi4S22cR26eJ7cP2ae/E9sm5fb7+9YMflm63ZmFhYcUzV2Jm
l0r6O3e/pvX5nLtvXvUFAQAwYaoeJOFWST8mSWb2w5K+NLRGAACMsaoPNf+lpJeY2a2tz88ZUh8A
AMZapYeaAQBANRyPFwCAghi8AAAUxOAFAKAgBi8AAAUVP0iCmX2XpA2SHnL3nSXWZsrM1DUiM1PX
iMxMXSMyM3WNyCzd1cw2STqhtW5e0u3ufn/dfSO2T7tir2o2sx+UdIWaw/5hSTNq3uP+RXe/rY61
mTIzdY3IzNQ1IjNT14jMTF0jMoO6vk7SuZI+27buBEnvdfd315RZfPt0UvIe7+9L+kl3n1s8wcye
KelaST9U09pMmZm6RmRm6hqRmalrRGamrhGZEV1fK+nF7r6vbd2UpNskdR28A2RGbJ9lSj7Hu669
dMucpI77dx7S2kyZmbpGZGbqGpGZqWtEZqauEZkhXSWtX3Lad9adGbB9ll9YlUUV/Y2Z3SjpE5J2
qXlX/aWSbqhxbabMTF0jMjN1jcjM1DUiM1PXiMyIrr8h6Qtmdm/buqMl/XKNmRHbZ5mie64ysxeq
eUjBxaMb3erud9S5NlNmpq4RmZm6RmRm6hqRmalrRGZQ10MlfW/bun929/01ZxbfPkuVflXzAUlP
kfRUSd+WtLb7lw9lbabMTF0jMjN1jcjM1DUiM1PXiMyiXc3sOySdJ+kUtV4pLOkWM/tDd3+0xr4R
2+cgJV/VfJGkF0n6uJqvCnuapB+VdIe7Lz+g4hDWZsrM1DUiM1PXiMxMXSMyM3WNyAzqerWkO9V8
uHa3mg/fnirpRe7+ipoyi2+fjhYWFop8NBqNz3Y4bU2j0fh8XWszZWbqyvYZvcxMXdk+o5cZ1PWW
fi8v+vscZPt0+ij6qmYze/aS054t6fEa12bKzNQ1IjNT14jMTF0jMjN1jciM6PptM3u1mW0ys6eY
2ayZvUbNe5R1ZUZsn+UXVmVRRW+QdJ2ZPUXNJ6ZnJO2VdH6NazNlZuoakZmpa0Rmpq4RmZm6RmRG
dP1ZSRdJ2qa2FyxJek2NmRHbZ5nix+M1sxk1n0j/lrt/q8TaTJmZukZkZuoakZmpa0Rmpq4RmRFd
B5Fp+xykyuPTg3w0Go1f6/Z5HWszZWbqyvYZvcxMXdk+o5cZ1PVD3T4fpe9zkO3T/hFxdKLP9vi8
jrWZMjN1jcjM1DUiM1PXiMxMXSMyI7q+bsnnv1AgM2L7PCHioeZnqPl4fpWjX1RamykzU9eIzExd
IzIzdY3IzNQ1IrN0Vxv86ERptk87jk40IpmZukZkZuoakZmpa0Rmpq4RmUFdOTpRAZmO1BGRmalr
RGamrhGZmbpGZGbqGpHJ0Yk4OtHQ1mbKzNQ1IjNT14jMTF0jMjN1jcjk6ET1rOt8YVUWVZTpSB0R
mZm6RmRm6hqRmalrRGamrhGZHJ2onnUdcXSiEcrM1DUiM1PXiMxMXSMyM3WNyAzqytGJCsh0pI6I
zExdIzIzdY3IzNQ1IjNT14hMjk5Uz7plODrRiGRm6hqRmalrRGamrhGZmbpGZAZ15ehEdX9kOlJH
RGamrmyf0cvM1JXtM3qZQV05OlEBmY7UEZGZqWtEZqauEZmZukZkZuoakcnRiepZ1/nCqiyqKNOR
OiIyM3WNyMzUNSIzU9eIzExdIzI5OlE96zri6EQjlpmpa0Rmpq4RmZm6RmRm6hqRGdF1EJm2z0Gq
PD49yEemI3VEZGbqyvYZvcxMXdk+o5cZ1JWjExWQ6UgdEZmZukZkZuoakZmpa0Rmpq4RmRydqJ51
B+HoRCOWmalrRGamrhGZmbpGZGbqGpFZuqtxdKJ6WaIjdURkZuoakZmpa0Rmpq4RmZm6RmQGdeXo
RAVkOlJHRGamrhGZmbpGZGbqGpGZqWtEJkcn4uhEQ1ubKTNT14jMTF0jMjN1jcjM1DUik6MT1bOu
84VVWVRRpiN1RGRm6hqRmalrRGamrhGZmbpGZHJ0onrWdcTRiUYoM1PXiMxMXSMyM3WNyMzUNSIz
qCtHJyog05E6IjIzdY3IzNQ1IjNT14jMTF0jMjk6UT3rluHoRCOSmalrRGamrhGZmbpGZGbqGpEZ
1JWjE9X9kelIHRGZmbqyfUYvM1NXts/oZQZ15ehEBWQ6UkdEZqauEZmZukZkZuoakZmpa0QmRyeq
Z13nC6uyqKJMR+qIyMzUNSIzU9eIzExdIzIzdY3I5OhE9azrKGKXkU9TayP76o9+UWltpsxMXSMy
M3WNyMzUNSIzU9eIzIiug8i0fdoVH7wAAEyyiKMTAQAwscIGr5k928yOqrj2eav42nWtfzeY2Q+Y
2dP7XGdVunW4nCPN7Og+v3atmT3PzI7td82S9c8ws+eY2WGrWLPBzNYvOe1Zq8ydNbMX95s7wM9k
4K6tNX1ff9rWrOp7bK1Z9fcZcb1rW7Pq60+EIV1nK93+FLyuT8TtzyCCrwervg1pV/J9vFslXa7m
oZ/+VNKbJe2T9Ifu/t4ea18qabHoGkm/K+kCSXL3T3RZ9xZJ05I+I+ldkv5Z0vdJ+nV3/7Memfsl
XSzpHd62E+9ezOy4VtZeSb8n6R2SHpP0Z+7++13WnazmjsF3Svp+SXdI+i5Jr3X3z/fIHOToIL+i
5hvB3+Puv9M6/SZ3P6lH5l+7+2lmdpqkd6r5frznSnqLu3+0y7pKP5MBu1a9/lT6Hgf8Pote71pr
h3rklTpVvR4MePtT9LreWjsJtz+mJ38vD+Lud/fILHo9qHobspKSr2q+WNIZkp4l6aOSjlDzCnGL
pK5XfEm/o+ZeQ76o5je9SdLPtM7r9k2fKemHJX1a0vHuvsPMvrOV2fWKr+ahqh5Sc1+il0m62t0f
67FGki6V9NNq7onlk2q+5Hy3mq/W63YD+A5Jx7r7g2b2HDWvVL8p6Wo1d1PWTdUjZ5yr5i+ZJL3f
zH7V3X+rR9aixb8036LmEUZ2mNm0pI+p+fNdSdWfySBdq15/qn6PUvXvs/T1Tqp4/TGzL0l6hprb
tN2Cux/RLXCAtVWvB4Pc/pS+rkuTcfvzvlY/73Be1z+mVf56UPU2pKOSDzWvcfft7n6zpD9w992t
v+T6eR/UcWp+w59197MlfcXdz3H3c3qsOyDpUEn3S9rTOm2/Vvgra4kFd/89SadJep6kL5nZR1q/
BN2scfd7Jd2l5s60v+Xuj6v3USym3P3B1v+/Lun7W1fkfn5GVY+csd/d97r7XkmvlnSSmf1MjzWL
Dm39+5CkByXJ3Xer927Uqv5MBula9fpT9XuUqn+fpa93UvXrz5mS7pO0xd2/u+2j69AdcG3V68Eg
tz+lr+vSZNz+vETSv0k6y91Pav/oI7P09aDqbUhHJe/x3mhmn5T0Mnf/VUkysz+U9KVeC919j6Rz
zOxNZvbHevIXoZc/lnSzpC9Iut3MPi3pRPX+C7c9+xuSftnM3qTmw0uNHks+ZWa3q/lX8q2SPmBm
uyV1fehE0mfM7AY1d0n2MjWPhvFqSd/oo+bikTM+riffY9bPkTNuNbMPSfp5d3/IzF4p6UY1/wrt
5UEz+ydJT5e0zczeI+kaNb/nbqr+TG41s+vUfOhrVV0HuP5U/R6lAa97Ba93UsXrj7vfa2bvUvPe
yV/3kTOMtVWvs5Vvf1T+uv6Ecb79cfc9Zna+pGf2mdOu6PVggNuQjkofnegF7n5n2+cnSbrZ3fs+
pmHruYjXuvur+vz6LZJOVvNhrQfVPKLEXX2se5m7f6zfXkvWfq+kx9z9X83sZ9U8xuRVvZ6raT2H
9H2S/q+7f9LMGpK29/MQkzWPnHG8mlf61Rxx4yRJty1mWHPH5ee7+zt7rW19/eFqXgn/XdIp/Wyz
1s/kFDV/Jv9P/f9MTpR0+5Ku53mP5zCXXMaqrj+tNZskTWkV32Nr3eJ1b1Z9fp8DXu9M0t7VXu9a
aytdfyJUvc4Oevuz5Hpwsrt/vI813P7UZIjXgx+R9OlVXA9WfRuyVOnB+3wtORKFu/99nWszZS5Z
Ny/pM/12HXetX6rXSXpU0gdaDzHJzM539z+uY22Xdee5+3v6zPy2pPf3u7Zq5iBdW1/3fDVfGHOf
ms9lPi7p0tZf+kNf17Y26vdrpG8LIjJL3/7Yky9Y6vQ8/6qfN80k69GJFh/KGMUjbkQcHaT9FXeL
1qjHFXiQK37VtQN0vUbSPWreu96q5kNFO62/VzVXWpspc8m6EyW9dBVdL1bzRTAb1Hw+8k41X5Dz
PHf/2WGva63N9Ps19plBtz/XSvoBSTctPa/Xc6dDuP0ZZF37q5sr/ZFQ8jneH3X349tPsOZzPJ+T
1OuwSp0LBJcfAAAKsklEQVTW/kEfa4ed2c/a0usk6Re0whVY3V9xV3VdROYmd3+lJJnZmZI+YmYv
6dFx0LWZMgfputXdj7XmK3X/0d1f3rqcT9e0Tsr1+zUJmRG3Pz+l5quJf8fdv9IjY1iZEbeVy5Qc
vOvM7Nnu/q9tp63q6BcV1mbKHKRr1SvwIFf80pmHmtmsu+9w9+us+ab3/63mganrWpspc5Cua8zs
KHffbq1XhlpzRw+91lZdJ+X6/ZqEzOK3P+7+uDVfwPWd/a4ZNDNgXUccnWh0Mit3rXoFHuSKH5D5
a2q+8nKru3/T3d9pzb3WXFTj2kyZg3S9QNKHzOyH3P3vWqd9VNL/qmmdlOj3a0Iyi9/+tNb+y+L/
zewId/+3PtcVvf0Z8I+E5aocxHeQj0aj8bRGo/E9jUbjmaXWZsocpGvbZRxRcl1EZqPR+O7Wv4eX
Wpspc8CuRzQajTUl1mX6/ZqEzODbn5sCMovfVi4sLJQfvG3F/7b02kyZA3a9qeS6iMxMXdk+fa3N
9Ps19pnc/tTXdWFhIfToREtfVVZibabMQboC2WT6/ZqEzIjbn2sDMkOUfI53qUE2ctW1mTIzdY3I
zNQ1IjNT14jMTF0jMmvvasvfe35F6/Se782vmjkC6yQV3oEGAEi17NSklnWTkhnUdZD3yafZPp0U
u8dry9+4/MSbkXu9Abnq2kyZmbpGZGbqGpGZqWvLB/Tkje5nrbmLxJ1qvm2j2w1Z6XWTkhnRdZD3
nmfaPsuUfKg5084aIjIzdY3IzNQ1IjNTVynXDkYmITOi6yDvPc+0fZYpOXgz7awhIjNT14jMTF0j
MjN1lXLtYGQSMiO6Lr73/ER3//dVvvc80/ZZptirmr15TMhXq3l0jyJrM2Vm6hqRmalrRGamri2L
N7r/oXVZ75R0h6RjRmzdpGQW7+ruN7r797r7v7ed9ltqHiawlsyAdR3x4ioAI8PMDnf3b476uknJ
rLOrmT1D0tu05EhKkt7h7g/UkTkq60q+uKryRq66NlNmpq4RmZm6RmRm6tpr7Sitm5TMiK6S3q/m
i5beriePOneqpD9vXdbQMyO2Tycld6Dxfkm3S3qxpKPUPGjyZ9TcyHWtzZSZqWtEZqauEZmZukZk
ZuoakRnRdcbd/8Ldd7n7gda/V6u/500zbZ/lBtnt1Sp3sXXLCqd/pq61mTIzdWX7jF5mpq5sn9HL
DOr6oUajcVGj0fihRqNhjUbjBxuNxtsbjcYHx2n7dPoo+armHdY82PLHJO1S80DLP6bmAbTrWpsp
M1PXiMxMXSMyM3WNyMzUNSIzouvPSfrvkn6lteZbkm6V9JoaMyO2zzIlB+8gG7nq2kyZmbpGZGbq
GpGZqWtEZqauEZnFu7r7o5Iua33IzF7r7u/rI2+QvhHbZ7kqd5OH8dFoNF5bem2mzExd2T6jl5mp
K9tn9DKDut40CdtnYSH26ERnBazNlJmpa0Rmpq4RmZm6RmRm6hqRGdF1kCMiZdo+HBZwhDMzdY3I
zNQ1IjNT14jMTF0jMiO6vi4gM+SwiZGDd5CNXHVtpsxMXSMyM3WNyMzUNSIzU9eIzNq7mtlvt/5t
mNnnJX3azG4zs0ZdmSOwTlLBwTvIRq66NlNmpq4RmZm6RmRm6hqRmalrRGZEV0nHtv59p6T/6e7f
o+YLmK6oKzNi+3RS8h5v5Y08wNpMmZm6RmRm6hqRmalrRGamrhGZEV0XfYe73ypJ7v5F9fdum0zb
Z5mIh5qrbORB12bKzNQ1IjNT14jMTF0jMjN1jcgs2bVhZtdL2mBmP2lmh5rZBZJ215gZte4gJd/H
e9BGlnS9pDeov41cdW2mzExdIzIzdY3IzNQ1IjNT14jMiK7fI2mLmkf4eUDNeXSYmu+ZrSszYvss
U3LwDrKRq67NlJmpa0Rmpq4RmZm6RmRm6hqRWbyruy9Iurf1seitfeQN0jdi+yzDYQEBAMWZ2YrH
cXb3vSW7lFbsHu8gG7nq2kyZmbpGZGbqGpGZqWtEZqauEZkRXSXdJWmTpPklpy9Iek4dmRHbp5OS
DzVX3sgDrM2UmalrRGamrhGZmbpGZGbqGpEZ0fXFkj4h6WR339kjY1iZEdtnmZKDd5CNXHVtpsxM
XSMyM3WNyMzUNSIzU9eIzOJd3X2Hmb1F0gslfapEZsC6joq9ncjdd0ha3MhF1mbKzNQ1IjNT14jM
TF0jMjN1jciM6Npa+3F3X+3QTbV9OuHFVQCA4sxsjaQzJJ0iaYOkhyTdIuna1iuex1bJF1dV3shV
12bKzNQ1IjNT14jMTF0jMjN1jciM6KrmXp/WSLpBzffDzkg6VdJL1WNfyJm2Tycln+OtvJEHWJsp
M1PXiMxMXSMyM3WNyMzUNSIzoutz3f2EJad9xMxu65E3SGbE9llukIP5rvLAwbescPptda3NlJmp
K9tn9DIzdWX7jF5mUNfPNhqNE5actrXRaHx6nLZPp4+S+2o+xMwO+uvGzLZK6uc9UFXXZsrM1DUi
M1PXiMxMXSMyM3WNyIzoerakN5nZN8zsPjObk/RGSb9QY2bE9lmm5EPNZ0u6zMz+XM277Ack3an+
NnLVtZkyM3WNyMzUNSIzU9eIzExdIzKLd3X3eyWdvvR0M3tqXZkB6zqrcjd5mB+NRuOppddmyszU
le0zepmZurJ9Ri+zzq6NRuPHG43G9kajcW+j0fjpttNvGvftU+yhZjP7cTPbbmb3mtlPt511Q11r
M2Vm6hqRmalrRGamrhGZmbpGZEZ0lfQ2Sc+X9CJJ55nZ2b2yBs2M2D6dlHyOt/JGHmBtpsxMXSMy
M3WNyMzUNSIzU9eIzIiuj7n7vLs/qOZDzq83s5NqzozYPsuUfI73MXeflyQzO13S35rZ9prXZsrM
1DUiM1PXiMxMXSMyM3WNyIzout3MLpN0kbs/bGZnqrlbxg01ZkZsn2VK3uPdbmaXmdm0uz8s6UxJ
fyTJalybKTNT14jMTF0jMjN1jcjM1DUiM6LrayV9Sc0DDcjd5ySdKOmaGjMjts8yJQfvIBu56tpM
mZm6RmRm6hqRmalrRGamrhGZxbu6+z53v8rdH2k77Zvuvq2uzIB1HbGvZgAACip5jxcAgInH4AUA
oCAGLwAABZV8OxGAiszsWZLulvRPrZO+Q80Xe/wPd3+g9TXPbZ3239z9OjP7z5I+0Pr6Z6p5VJWd
kr7t7sea2dckPaKD9zd7h7v/fL3fDTDZGLxAHve5+wsWPzGz35Z0raTFnbef0/r8fEnXufs/SnpB
62v/VNJN7v6BtstbkHSqu3+9RHkATQxeIK+3S/pm657uVyS9StJ/lXSbmT3H3b+65OvXdLiMTqcB
qBHP8QJJufs+SfdI+k+STpP0NXe/R9KHJZ3Xx0WskfQ3ZnZn28dr6msMQOIeL5DdgqRHJb1O0tWt
0z4o6c/M7G2t4dxtLQ81A4VxjxdIysym1Nxl3QOSfkzSG83sXyVdKenpkn4ysB6AFXCPF0jIzA6R
9A5Jt0s6XtIn3f20tvPfrubDzVd3voQn8BwvUBiDF8jjCDO7s/X/tZLuUPMFVTdLeuuSr/0jSW82
s4a73906rdP+Yf/GzNrfTvSIux8/zNIADsa+mgEAKIjneAEAKIjBCwBAQQxeAAAKYvACAFAQgxcA
gIIYvAAAFMTgBQCgoP8PcQ1FnlpJ7HgAAAAASUVORK5CYII=
"
>
</div>

</div>

</div>
</div>

</div>
<div class="cell border-box-sizing text_cell rendered">
<div class="prompt input_prompt">
</div>
<div class="inner_cell">
<div class="text_cell_render border-box-sizing rendered_html">
<h2 id="Step-4.-Matching-trends">Step 4. Matching trends<a class="anchor-link" href="#Step-4.-Matching-trends">&#182;</a></h2>
</div>
</div>
</div>

<div class="cell border-box-sizing text_cell rendered">
<div class="prompt input_prompt">
</div>
<div class="inner_cell">
<div class="text_cell_render border-box-sizing rendered_html">
<p>The last thing we will do is to join the snowfall dataframe with that of the top 5 categories of calls, per day. Don&#39;t forget to fill the NaN values with 0. You want to do an outer join (if there are calls for a day but no snowfall data, we want to create a 0 record). Save that to a dataframe called <code>calls_on_snow</code>. The first 5 columns should be the counts for the categories, and the 6th will be the snowfall data. <strong>(10 pts)</strong></p>
</div>
</div>
</div>
<div class="cell border-box-sizing code_cell rendered">
<div class="input">
<div class="prompt input_prompt">In&nbsp;[18]:</div>
<div class="inner_cell">
    <div class="input_area">
<div class="highlight"><pre><span class="n">calls</span><span class="o">.</span><span class="n">index</span> <span class="o">=</span> <span class="n">pd</span><span class="o">.</span><span class="n">to_datetime</span><span class="p">(</span><span class="n">calls</span><span class="o">.</span><span class="n">index</span><span class="p">)</span>
<span class="n">calls_on_snow</span> <span class="o">=</span> <span class="n">calls</span><span class="o">.</span><span class="n">join</span><span class="p">(</span><span class="n">snowfall</span><span class="p">)</span><span class="o">.</span><span class="n">fillna</span><span class="p">(</span><span class="mi">0</span><span class="p">)</span>
</pre></div>

</div>
</div>
</div>

</div>
<div class="cell border-box-sizing text_cell rendered">
<div class="prompt input_prompt">
</div>
<div class="inner_cell">
<div class="text_cell_render border-box-sizing rendered_html">
<p>Now, you can show the connection of the two trends (the calls and the snow) in a plot. I provide some sample code, but you should also try your own versions.</p>
</div>
</div>
</div>
<div class="cell border-box-sizing code_cell rendered">
<div class="input">
<div class="prompt input_prompt">In&nbsp;[19]:</div>
<div class="inner_cell">
    <div class="input_area">
<div class="highlight"><pre><span class="n">fig</span><span class="p">,</span> <span class="n">axes</span> <span class="o">=</span> <span class="n">plt</span><span class="o">.</span><span class="n">subplots</span><span class="p">(</span><span class="n">nrows</span><span class="o">=</span><span class="mi">2</span><span class="p">,</span><span class="n">figsize</span><span class="o">=</span><span class="p">(</span><span class="mi">12</span><span class="p">,</span><span class="mi">5</span><span class="p">),</span> <span class="n">sharex</span><span class="o">=</span><span class="bp">True</span><span class="p">)</span>

<span class="n">calls_on_snow</span><span class="o">.</span><span class="n">ix</span><span class="p">[:,</span><span class="mi">0</span><span class="p">:</span><span class="mi">5</span><span class="p">]</span><span class="o">.</span><span class="n">plot</span><span class="p">(</span><span class="n">ax</span><span class="o">=</span><span class="n">axes</span><span class="p">[</span><span class="mi">0</span><span class="p">])</span>
<span class="n">calls_on_snow</span><span class="o">.</span><span class="n">ix</span><span class="p">[:,</span><span class="mi">5</span><span class="p">]</span><span class="o">.</span><span class="n">plot</span><span class="p">(</span><span class="n">ax</span><span class="o">=</span><span class="n">axes</span><span class="p">[</span><span class="mi">1</span><span class="p">],</span><span class="n">label</span><span class="o">=</span><span class="s">&quot;snowfall (in cm)&quot;</span><span class="p">,</span> <span class="n">color</span><span class="o">=</span><span class="s">&#39;gray&#39;</span><span class="p">)</span>

<span class="n">axes</span><span class="p">[</span><span class="mi">0</span><span class="p">]</span><span class="o">.</span><span class="n">set_title</span><span class="p">(</span><span class="s">&quot;The effect of the winter snowstorms on Boston&#39;s 311 Hotline for 2015&quot;</span><span class="p">)</span>
<span class="n">axes</span><span class="p">[</span><span class="mi">0</span><span class="p">]</span><span class="o">.</span><span class="n">set_ylabel</span><span class="p">(</span><span class="s">&quot;# Calls&quot;</span><span class="p">)</span>
<span class="n">axes</span><span class="p">[</span><span class="mi">1</span><span class="p">]</span><span class="o">.</span><span class="n">set_ylabel</span><span class="p">(</span><span class="s">&quot;Snowfall in cm&quot;</span><span class="p">)</span>
<span class="n">axes</span><span class="p">[</span><span class="mi">1</span><span class="p">]</span><span class="o">.</span><span class="n">set_xlabel</span><span class="p">(</span><span class="s">&quot;Date&quot;</span><span class="p">)</span>
<span class="n">axes</span><span class="p">[</span><span class="mi">0</span><span class="p">]</span><span class="o">.</span><span class="n">xaxis</span><span class="o">.</span><span class="n">grid</span><span class="p">(</span><span class="bp">False</span><span class="p">)</span>
<span class="n">axes</span><span class="p">[</span><span class="mi">1</span><span class="p">]</span><span class="o">.</span><span class="n">xaxis</span><span class="o">.</span><span class="n">grid</span><span class="p">(</span><span class="bp">False</span><span class="p">)</span>
</pre></div>

</div>
</div>
</div>

<div class="output_wrapper">
<div class="output">


<div class="output_area"><div class="prompt"></div>


<div class="output_png output_subarea ">
<img src="data:image/png;base64,iVBORw0KGgoAAAANSUhEUgAAAtcAAAFwCAYAAABzf1eWAAAABHNCSVQICAgIfAhkiAAAAAlwSFlz
AAALEgAACxIB0t1+/AAAIABJREFUeJzs3Xd4FcX6wPHvSU9IAxICBNIIDB2BEBClSROvXryIyg+k
iEgHsYAXUKqAVJVeRBBQsaEgcpFmpZcQ+kgSOgmkkYQE0s75/bGbeFJJIIdAmM/z8HCyZ3fm3T3t
3dnZGYPJZEJRFEVRFEVRlHtnVdoBKIqiKIqiKEpZoZJrRVEURVEURSkhKrlWFEVRFEVRlBKikmtF
URRFURRFKSEquVYURVEURVGUEqKSa0VRFEVRFEUpITalHYCiPCyEEJ8ArfU/6wERwC3ABLQEUgAP
KWWcBep2AbYCrsBEoC9QG/hESrn4LsrbBvQoTqxCiE7ACiAKaCOlvG323ApgsZQyRAjxG7BASvl9
ceMqRizPAR2klG/cYb0VwBIp5RFLxXK/CCH+BQRLKSeWdiz3QgixGugARAMGwB7YDrwppcy8yzLv
6XXW37O/SiknF3H96sBKoBJgDcyWUq7Jtc4UoLyUcoTZMntgM7A0v8+HEMIPOC6ldMm1fBJQ0bys
AuLK8zkE9gDfSSmfKMq+3YkQ4jHgeyAeeEFKeeEuy3kbeBXIQHsvDJJSRgghnIBPgcfQGgDflVJu
zLVtfsf2MOAApOmL1kkp595NbIpyr1RyrShFZJ7ICSHOAT3Nf8yFEKAlC5bQGKgkpawphPABvgCc
pJR3O1B9B4ofaw9guZRyWgHlLdUfW3zwfCnlT8BPRVjVPK6HXTOgQmkHUQJMwDwp5TzITjj3AC8D
X95lmff6OicDN4ux/kJgs5RyvhCiEnBWCLFDSnlVCFEN+BjogpaAAyCEeBxYDAhgSTHjK+pnKvfn
0CSljARKJLHW/RvYJaV8/W4LEEJ0APoDzaWUN4UQQ4BVQBtgEpAopayrn8TsE0IcklJeKeTYlgMC
0Bo37uoETVFKkkquFaVkTRZCtAAqorVmLQYQQrwGDEFriYkFhkspZe6N9RbZ8YAdWkv4O0Ac2g+J
txAiTC/DFjgihHgBreXvY71Oa2C+lHKVXl5/4C0gE4hBa/Geqle3SwjxLynlZbP6bYF5wFP6NvuB
N/XYuwK3hBBuUsoxZttMA6oC64QQffXFXYUQYwAvYAfwupTSJIRoCXwIlAOMwCQp5c+5jsFHwE0p
5ftCiMrAVaC9lPJXIUQvtB/3LUB3KeVzegvdHrQEwgf4U9/PD8zi6gP8DXwC1NeP305gtJQyUwiR
CvwINCLvSdOTwFz92JqAGVLKDXoLbALQAKgOnEG7GpAshGgFzAKc0FrS3tOPQxRaQhEhhPgvMFhK
6afXs10/9o76e8CovwajgVRgEGAthLihH5v30U54MvR9Gy6lvKYfj1i0KxtLgO7AIf01raQfAy+0
RKYc8JKU8oQQolvueqWUf5LLHerN8zoUcAJofmLnjPYejtTLr6bH7auv97mUco4QwgatJfYJ/ZhG
oLV8jiPn6xxZwPZ+aK/5z0BztBOV8VLKb4DdwEEhhDVa4pyjDillcq74nzfbBz/9WNzS/+4P/A6c
AsqbbTNCj3UMxZd9vAo5Pvl9DrNaw09IKZ31FnA/oLK+fTTwspQyUgjhjXZ8fdA+H+ullDPMg9A/
f0PQ3ocOUsreRXwfLpZSLjIrKhLtvZ91QnMYeFd//DzwfwBSykv6VbaXgI8o+NgGo50cbRFCVEH7
rI0zv7qmKPeT6nOtKCUrXEoZBPwHmCuEsBZCtAH6AK2klE2A2cCG3BsKIWoC04Au+nqD9PUuAQP0
sgOBdsAtKWVj4CLwHfBfvd62wGghRHMhRCO0RLazlLIRsAntB+dVvcp25om17j20H96GaImmFdpJ
wmx9+3nmiTWAlHI8WgLcS0p5AO0H3xloAdRBa2VqKYQoj9Y69YqUsilasr5Eb50ytwF4Wn/8NFpC
2kH/uyvwbZ6jDgFSyjZoie5TQOtccR1E+3E+pB+nJoAn2okHaMnEJill7Xy6FkzS9zsI7ce9ndlz
TYDO+n5WBV4UQlTUYxypH/e+wDq0BHyTfjyy9s1WCFFTCOGGdrx3oCXlQ6SUzYD30brgHEBrkVyv
J9av6tsH6XWcAFbr5ZqAOCllPSnlQv1vX/091Q2YidYFohlaV6OsS+t56s19kO9Qb36vQ54y0N4f
bwohQoQQx9Dew1fRElzQrsrslFI2REtyXxFCvAw8rh+LhvprEQE0yOd1Lmh7AH9gq5SyOVoyNwtA
SjldSvkHWveuPHXk3gEppUlKaRRC/KrHvUJKGa8/N0VKuQDtJMV8m55Syv/lczxyc9SPTfY/tO+C
rJOUfPcvn8+hOfMTnCfRTkzroHXtGKQvXwt8pu93c6CjEOLFXPvwBf+8D3sX4324KFc5J7NO3PQr
Fx8C3+hPV0f7zstyGaimb5fvsUX7vtkFvIB2hccHmIGilBKVXCtKycq6rB2K1hrnBvwLCAT26D+U
M4HyQgj3XNt2BKqgtSiHoCVkmfq25i195o9roV0O/Uzf5je93sfQkputUsorAFLKT6SUQ+8Q/9No
/UEz9RbHBfyTDOauuyAm4Gs9AbkFnEVrKX0cLXHfqMf6M9qPZO7kZTdQTQjhqcfzAdoPvS1an/ct
ueIwoXcR0VvCwsi/+8SzwCC97kNoP8L1zZ7P00qr+wZYJIRYBzRFa93NqnerlDJdSpkBHNfrbQ6E
6YkeUspT+j61BX4AugghnPVj8SXa6/4M8D8pZTqwHvhR7z9bHu1kDH2fs/a7C1oilNVaOh9orx+j
/PYl62QuQv9/q9nfWceqoHrNPV1Ivfm9DuXzKSOrW0hjPUH0QLs6M1/vb9sSWKSXk4iWrHUBjgGZ
Qoj9ep/b76WU+8wL1rsHFLS9CUiXUm7RVw8h7/vkjnWYk1K2Q/vMdhZC9MtnP+/GLf3YZP9D7+px
h+NTVL+atRiHoH0XOaGdCE3VPx970RLaRvlsfy/vwxz0z/g2IBGtVR/yz0tyd/XIcWyllD9JKftK
KW9KKVOB6WgNHIpSKlRyrSglKx20li39bwPa52yt2Q9lE6CFlPJGrm2t0FqkzH9UnwBOFlKfNXAj
n20+R7tMm00IYa+3jhfGipyJqzVaq25xpZs9NvHPcTidT6zbzDeUUhrRkrRn0RLVFWgJzIvAHill
Sj713TJ7nFVfblZoLXZZdbcARpo9n2+fWynlcrQTgO1ordTHhBCu+tPml52z6s2vbmu0bnjbgSC0
E67f0FqqOwPPod0khpTyPbTjcgjoB+wVQmSVaf6+Mq/HSi8/a1nufUnNtU95+qXeoV7zegqrtyiv
Q+56bwFr0E6cssrP8x6UUiagJXtvoyVbXwshRhUQX+7ts7pAppktzxNfEetACNFdP0FCShmD1qWo
yZ329R5kxXmn/SuK/N6z1vrfj5t9PlqSf+uvibt/H2YTQjQEDqC93/6jn6CCdiWjqtmq1cjZkp1f
Wc/pXbHM40gvaH1FsTSVXCuKZZnQksf/0/sPA7xOroRStwvoJIR2Z6QQ4mngKFpLdEEkcFvvC5k1
ikEo2g2QvwIdzOodwj+tkZlo/bpz+wUYLISwEUJYAcPMYi0sUcrIVV7udU3APqCmEKK1HmtDtH7K
VfIp7we0vqnH9NbcXWg/9N8VUH9BsZnH9QvwlhDCIISw0+u4U0s+QojdQGMp5edol9Ddyb9FFv7Z
TyGEaKZvXw9oBfymt6r9jjbiyy/648fRLtVv1Y/7OaCclHIZ2vGvjXaCk55rX17VWxxBO0n4XUqZ
lTzmPh6FJrl696Xc9dYhb9JW3HoLYt6H2Aqtu89+vUV1n14/eneZ3sA2oY2WshPYK7VRPdagdV8C
/XWWUiYVsP32osQmhHi2kDrMDUbvTqPX0VXfLt99LCGGQo7Pdn2d3J/DO5apl5t13N42K/dPtPsb
8t1Gf3xX7wchRCDa99NkKeXbMme//I3AQH29amgnn5vzicGcNzBHCOGg95t/C+1KjKKUCpVcK0rJ
yX0Z2AQgpdyG1hVkuxAiFHiFfC5Z6t0HBgLrhRBH0W48fM7skqt5+Vllp6H9sA/Qy/4FeF9KuVdK
eQLtZritenmd0JIC0LoJ/CWEqJsrjA/Q+jgfRbtpyBrIGiXFvMUqtx/1uDsWcCyyWvheAGbp8awD
eksp82uV2oXWepWVNPyCdjNe1gghuWMpLK6vhTY6wUi0G/iO6f9OoPe5LWR70JL8KUKII3pck+Q/
w4/lt5+xaK3sC/Q+xV8A/aSUYfoqPwA10UZcuI12rHdLKdP01rtRwJdCG1rsG6C//jrvBP4ttCEh
V6K1eh8QQpxC6wbUq5DjUdCxyhpRIjOfel/VT2zMFbfegmT1uT6C9j5z1utHL6+9fuz2ow0j9znw
P7SrOCeEEAfRTkom6duYv84FbZ9ffLn/3lJIHeb6AU/qn7k/gJUy13BxFP55KUx+25iXVdj+5f4c
5i4zv89N1t89gRZm5X4lpfzqDrHc7fvhXbRh894w61u+V39uIuAshDiB9vl/R0p5rpAYAJahnage
AU6jdTOZUkDdimJxBpPJ4qNmKYqiKIqiKMojwWJD8ek3NHyGNtyPPVqL2GW0yzt/66stllJ+K4R4
Ha3FLgP4QEr5sxDCEa1lyxNIQhvSKcZS8SqKoiiKoijKvbJYy7V+53RDKeVbQhuCKxSYDLhJffIA
fb3KaH06m6KN7/oX2g0/wwFnKeUUfRilx6WUeW4sURRFURRFUZQHhSUnkfmWf24+yrpztynajT5d
0YbnGoU2+PtuvW9futAmycgav3Omvv1WtHFXFUVRFEVRFOWBZbEbGqWUyVKb1tQFLdEejzbszjtS
m2QgAu3GBRe0Wc6yJKGNDeyKdlOC+TJFURRFURRFeWBZdPpzfViwDcAiKeV6oU2bnJVI/4A2QcUf
aAl2FhfgBlpi7ZJrWaEyMjJNNjbWd1pNURRFUXK4En2TyZ/uY1j3RjSq6Vna4SiK8uArcLhNS97Q
6IXWl3qolPJXffFWIcRIfeayDmiDxx8ApulToDqgja16Am1Gs2eAg2izQP1xpzrj4/ObW0JRFEVR
CvfzHxFExiTzzXZJVXeH0g5HUZQHnKenS4HPWbLlehxaV44JQogJ+rJRwEdCiHQgEhiodx2ZjzZg
vRUwTkqZKoRYAnwuhPgTbXaxnhaMVVEURXmEHYuIBeDkuTiSUtJwcSrOXCyKoij/KFPjXEdHJ5Wd
nVEURVHui4Sbqby5cDdWBgNGk4lXOtXiqSbVSjssRVEeYJ6eLgV2C1EzNCqKoiiPtOMRcQB0bFYN
A7Dv1LXSDUhRlIeaSq4VRVGUR1pWl5DWjaoifNwJu5xAzI1bpRyVoigPK5VcK4qiKI+sjEwjJ8/F
4enuQOUKTrSoVxlQrdeKotw9lVwriqIoj6zwKwncSs2gYYAHBoOBIOGJjbWBfaeuUZbuSVIU5f5R
ybWiKIryyMrqEtKgRkUAnBxsaVTDg6sxyVy6frM0Q1MU5SFl0UlkFDhy5BATJozF3z8Ag8FAcnIy
Vat6M3HiB9jY3N/DHxoagrOzCzVqBOZYPnHiOK5evcL770/Bx8e3yOWlpt5mzpwPiY2N4fbt21So
UJExY8bh6mqZyTSnTZvE339LXF1dMRgMGI1G3n77vzg4ODBp0niWLVt1V+WOHz+aadNml3C0iqI8
DI6Hx2JrY0VtH/fsZc3renH472j2nbqGj1fBY9kqiqLkR7VcW5jBYCAoKJgFC5Yxf/5SVq5ci42N
DX/99ft9j2Xz5o3ExETnWX748EFWrPi8WIk1wM8//0TFih7Mm7eQxYs/pWHDx1i16tOSCjcPg8HA
sGFvZB/LV17px6efLsFgKHA0nCJRibWiPJriEm9zOTqZOr7lsbP9Z3bfRoEVcbS3Yf+paxhV1xBF
UYrpkWq5/mZXGAfPXC/RMpvVrsRLTwUW+LzJZMrRby89PZ3Y2Jjs1t2lSxdy7NhRjEYjL7/ck3bt
OhAaGsL8+fNwdnbBy8uLypWr8MwzzzFx4rjs1tmBA/sxZcqHODs78+GHU0hMTARg1Kh3CAgIZPr0
yVy5cpnU1FRefLEHfn4BHDiwl7Nn/8bPzx8vL+2mnTlzPiQ5+SZjx77D1KkfMn36ZCIjr5CZaeTl
l3vRvn1Hhg8fSIUKFUlMTGDevIVYWWnnZBUrVmTz5o00aNCIxx5rTPfuL2fvZ48e/6Fhw8e4ePEC
5ctXYNq0WRiNxjzl+/r6sXz5YmbN+ogdO35h7drVfP75Vxw7dpStW39mzJjxeY5nlsTEBJycyuV4
/uDBfaxYsRQ7Ozvc3NwYO3Yi06dPpk+f/tSuXYeePV9g0KDhtGnTjrfeGs64cRN57bVX2LjxF4YP
H0itWoKIiHCSk5OZOnUmlStXZvXqT/njj99wdy9PauptBgwYTOPGTYv9XlEU5cGS3SUkoGKO5bY2
1jQVnvx1LJKzl24gfMqXRniKojykHqnkurQcOXKIESMGER8fj5WVga5du9GkSRB79+4mMvIqixd/
SmpqKoMHv0qzZi2YPXsG06fPwsfHj4ULP863ZVZbZmLNms8ICgrm+ee7c+nSRWbMmMKcOfMJDQ1h
+fLVABw4sA8hatO8eUs6dOicnVgDvPPOf/nzz1+ZMWMO33//NeXLV2DChKmkpKTQv/8rBAU1w2Aw
0LFjZ1q1apsjhjZtngIMbN68kenTJxEQEMibb44mICCQyMirLFiwDE/PSgwZ8hqnT5/izJmTecpf
tuwzrl2LJD09nX379mBtbUV8fBx//fU7bdu2z1GfyWRi8eL5rFu3Gisrazw9PRk6dCSpqanZ68ya
NYMlS1bi4eHBt9+u5/PPV9K6dVv27duNm5sbdnb2HDp0gKCgZqSlpeHh4ZnjmNatW5+RI99m+fLF
7NixlebNW7J//x5WrlxLWloaffv2uOeWckVRHgzHw3P2tzbXoq4Xfx2LZO/Jayq5VhSlWB6p5Pql
pwILbWW2lCZNgpg8eTqJiQmMGjWMypWrAhAREYaUZxgxYhAAmZmZREZeJSkpER8fPwCCgoI5depE
njKzWnAjIsIICTnEzp3bAUhKSsTJyYmRI99m5sxpJCcn07lzlyLFeeHCeYKCmgPg5OSEv78/V65c
BsiOx9yJE8do1iyYNm3aYTKZ2Lr1Z6ZNm8zKlWtxc3PH07MSAJUqeZGWllpg+cHBj3P48EGio6/T
sWMXDh7cz7FjoQwaNDxHfVndQoKDW+RYHhl5FYAbN25Qrlw5PDw8AGjU6DGWL19Mnz79GTv2bdzd
3enVqw9ff/0l+/bt4YknWufZp1q1RHbMcXGxXLx4njp16mEwGLC3t0eIOmoEAUUpA9IzjJw6H0+V
ik5UcnfM83xtn/K4OdtxWF6nV8da2NqoXpSKohSN+ra4j1xd3ZgwYSozZ35AbGwMvr7+NGnSlAUL
lvHRR4to164D3t7VqFKlKuHhYQCcPHkcADs7O+Lj4zAajSQlJWUnlL6+/rz0Uk8WLFjGhAlT6dLl
WWJjY5DyNNOnz2bWrI9YvHg+mZmZGAwGMjMzC4zP19ef0NAQAFJSkgkPD6NKFW+AfFtrd+zYxjff
fJX9fEBAIHZ2dvrfRSu/atVqtG7dlnXrVhMYWJPg4BZ8993XVKtWHWtr6zxlFJbYuru7k5ycTGxs
DABHjx7Bx8cXFxcX7O0d2LlzO82bt8TLy4tvv11Pmzbt8iklZ+D+/gGcPn0Kk8lEWloaZ89K1XKt
KGXA35dvkJqemadLSBYrKwPN63iRfDuDE3r3EUVRlKJ4pFquS4PBYMiRjPn5+dO9+8t88slcpkyZ
QUjIYYYNe51bt1Jo3bodTk5OjBkzjnnzZmFjY4OVlRUNGjSiQoWKNGvWnAED+uDtXY1q1aoDBvr2
7c+MGVPZtOkHkpOTee21QVSs6EFcXCxDhvTHysqanj17Y21tTd269Vm6dCHe3t65WqK1+Lp27cbM
mR8wdOgAUlNT6d9/IOXLF3w5dODAoXz00SxefbUnDg6OODo6Mnbs+znKND8O+ZXv7u6Oq6srly5d
5JVX+lGjRiDXr1+jd+9+BR7Pwpa/++54xo8fg8FgwNXVlfHjJwHQqlVrtmzZjKurK8HBj/Pjj99R
tap3vrGalxkQEMjjjz/BwIH9cHd3x8bG5r6P8qIoSsnL6hLSMJ8uIVla1PNi28FL7D11jca1PAtc
T1EUxZyhLF3ijo5OKjs7o9u5cxsXLpynf/+BpR3KIyk+Pp7fftvJf/7TnbS0NPr0eZn585dSqZJX
aYemKMo9GLd8H/E3U5k/slWBXT5MJhPjV+wnNvE2H494Ekd7dWKtKIrG09OlwMvY6pviIaC6IZQe
d3d3Tp8+yZYtmwADzz33vEqsFeUhdz0+hai4FBrX9Ci0L7XBYKBFPS9+/PMcR/6O5okGVe5jlIqi
PKxUcv2Aa9++U2mH8EgzGAyMGzextMNQFKUEHY+IAwrvEpKlRV0tud53Mkol14qiFIm6oVFRFEV5
pBwLz3986/xUKu9EQFVXTl2IJ+Fm6h3XVxRFUcm1oiiK8shITc/kzMV4qnmWo4KrQ5G2aVHXC5MJ
Dpwu2UnIFEUpmyzWLUQIYQt8BvgC9sAHwGlgNWAETgDDpJQmIcTrwEAgA/hASvmzEMIRWAd4AklA
XylljKXiVRRFUco+eTGe9AxjvhPHFKRZHS/W7wxj36koOjarbsHoFEUpCyzZct0LiJZStgaeBhYB
c4Fx+jID0FUIURkYAbQEOgMzhBB2wBAgVF93DfCeBWNVFEVRHgFZXUIaFqFLSBa3cnbU9SvPucgk
rsWlWCo0RVHKCEve0Pgt8J3+2ApIB5pIKf/Ql/0P6ARkArullOlAuhAiDGgIPAHM1NfdCmQNoPzQ
Wbt2NYcPHyAjIwMrKyuGDRuFELUtUteWLT/x6adL8fauBsDNm0k0aNCIt9561yL1FcWRI4fYuHED
kydPL7UYFEVRTCYTx8JjcbS3oYa3W7G2bVHPixPn4th36hpdn/S3UISKopQFFkuupZTJAEIIF7RE
+z1gjtkqSYAb4AokFLA8Mdeyh865cxHs2fMHS5Z8BsDZs38zbdokVq/+0iL1GQwGOnd+hkGDhgHa
j8nQoQM4c+Y0tWvXsUidRYlJURSltEXFpRCTcJug2pWwsS7ehdvGNT2xs5HsOxnFv5/wU99riqIU
yKJD8QkhqgMbgEVSyq+EELPMnnYFbqAl0C5my13yWZ61rFDlyzthY5N3yuwsa49+z75LR4q1D3fS
onoTej/2QoHPG42ViY6+zu+//0KrVq1o2bIpP/64AVtbW3r37k2dOnU4e/YsN2/e5JNPPqFq1ap8
9tlnbNmyBRsbG4KCgnjzzTfp0qULW7duJSYmhjZt2rBv3z4cHR3p0aMHGzZsyK7PxcUBR0dbPD21
Q5eUlMTt2yn4+lbG3d2BiRMncvHiRYxGI6NGjSI4OJjnnnuOZs2aIaUkICCAihUrcujQIezs7Fi+
fDkpKSmMHj2a5ORkMjIyGDVqFOXLl2fatGmsWbMGgEGDBjFq1CguXLjAl19+SUZGBgaDgYULF+Lm
5oiDwz8xKYqilIbdp64B8EQj77v6Pmpevwp/Hr3CjduZ1PIpePZaRVEebZa8odEL2AYMlVL+qi8O
EUK0kVL+DnQBdgIHgGlCCHvAAaiDdrPjbuAZ4KC+7h/cQXx84X3hUm6lkWks2UkcU26lER2dVODz
VlZOTJ8+h++//4b58xfg4ODAwIFDadPmKdLTM/H3r8Xrr49g+fLFfP319zz++JP89NPPLFmyEmtr
a8aPH83mzduoX78Ru3bt5vLli9SoEcjWrbtwdHSgSZPgHPUnJt5i48ZNHDhwiNjYGMqVc6ZXr344
OpZn1ap1ODg489FHS0hIuMHw4QNZu/YbkpJu0qpVe4YMeZNevbozYsRb9Or1GsOHD+TAgVB++WUL
jz0WRPfuPYiJiWbIkAF8++1GkpNvcfz4WWxsbIiOjsXDoxr/+992pk+fi729A7NnT2fLlh14enpy
+3Z6ocdJURTF0vaEXgXAz9Pprr6PGteoyJ9Hr7B19znKO6ppIhTlUVbYCbolvx3GoXXlmCCEmKAv
ewOYr9+weAr4Th8tZD7wJ1rf7HFSylQhxBLgcyHEn0Aq0PNeA+oW+CzdAp+912KK5cqVy5Qr58zY
sdohOHPmNO+8M5LGjYMAqFVLAFCpkhdxcbFcvHieevUaYG2ttcA3atSYc+fCadPmKfbu/YvIyKsM
HDiUP/74DWtra5599vkc9RkMBjp16sKgQcOIjLzK22+PoFo1HwDCw8M4fvwop06dAMBoNJKQcEOP
Q+sD7uzsgp9fAAAuLq6kpaVx8eJ5OnfuAoCHhyflypUjPj6OZ5/9N1u3bsbOzo5//evfALi7l+eD
Dybh6OjIxYsXqF+/oSUOq6IoSrHcSs3g70s38K3sgpuz/V2VUT+gAuUcbDhw+hovPxWIlZXqGqIo
Sl6W7HP9BloynVvbfNb9FPg017JbwEsWCe4+Cgs7y6ZNPzBz5jxsbGyoXr06Li4uWGf398v55ezr
68f69V+QmZmJlZUVR4+G0KXLv2jWrDlr1nyGo6MjLVo8wYoVS7Czs8+3H7XJpLXOV6lSlbfeepf3
3/8v69Z9jZ+fH15eXvTu/SrJyTdZv/4LXF21ruyF9R/09fUnNDSEmjUF0dHXSUpKxM3NnfbtOzNy
5GCsra356KNF3Lx5k88+W86GDT9jNBp5663h2bEoiqKUptMX4sk0moo1SkhuNtZWNKvjxW8hVzh9
IZ56/hVKMEJFUcoKdV3Lwtq0aceFC+cYMKAPjo6OmEwmhg17g3LlnPOsazAYCAgI5KmnOjBkyGuY
TEYaNmxMq1ZtAfDy8qJy5aoYDAZ8fPyoUCH/L3bzRDkoKJigoGBWrlzO668PYebMDxg+fCApKcl0
6/biHW/KMRigd+9XmTFjCr/9tovU1Nu8++57WFlZ4ejoSM2atTAajTg6OgLQoEEjBg16lfLly1O9
ui+xsTE94mG9AAAgAElEQVRUqVJV3fyjKEqpyh6CrxjjW+enRV0tud53Kkol14qi5MtQlloWo6OT
ys7OKIqiKCXCZDLxzuI9pGcY+XjEk/fUncNoMvHukj0k387g4xFPYmdb8E30iqKUXZ6eLgV+kajp
zxVFUZQy7XJ0MvFJqdQPqHDP/aStDAaa163M7bRMQvXWcEVRFHMquVYURVHKtGPhMUDxZmUsTIu6
XgDsOxlVIuU9SjKNRoxl6Iq5ouRHJdeKoihKmXY8PBYDUL+EkutqlZyp5lmOY+GxJN9OL5EyHwW3
0zJ4d+lelm48qW52V8o0lVwriqIoZVby7XTCriQS4O2Ks6NtiZXbol5lMo0mDp25XmJllnW7j0cR
l5jKoTPXOXo2prTDURSLUcm1oiiKUmadPBeH0XRvQ/Dlp3mdrK4h10q03LLKaDSx/eAlbKytsLYy
8OWOv0lNyyztsBTFIlRyrSiKopRZx7OH4PMo0XIrujlQq5obf1+6QVzi7RItuywKDYvh+o1btKzv
xdPNfYhNTGXTnnOlHZaiWIQa59rCjhw5xIQJY/H3D8BgMJCcnEzVqt5MnPgBNjb39/CHhobg7OxC
jRqBd1x38eL57N+/lzffHM1jjzUpch1Go5FFiz4mIiKc9PR0HBwceOutd6la1btY9Rfk2rUowsLO
8sQTrXIsT01NZcWKJZw+fRKDwYCjoyOjR4+jUiUvund/jq++2oCt7b1fEp44cRzvvz/lvr92iqIU
n9Fk4nhELG7l7KjulXdugXvVol5l/r6cwP7T1+jS3LfEyy9Lth28BEDHoOp4uDuy7+Q1th24RMt6
lfH2LPnXRlFKk2q5tjCDwUBQUDALFixj/vylrFy5FhsbG/766/f7HsvmzRuJiYku0rq//baTpUs/
K1ZiDbB//x5iYmL46KNFLFy4nK5du7Fgwbxi11+Qw4cPcvx4aJ7l8+fPxcurMosWrWDhwuU899x/
mDBhLFD47JPFNXnydJVYK8pD4kJUEokp6TQIqIiVBSayCqpdCWsrg+oacgcXopKQl25Qz78C3p7O
2Nta06tjLTKNJtZu+1vd3KiUOY9UlhD97XqSDh0s0TJdgprh+WKPAp83mUw5vjjS09OJjY3JnnZ8
6dKFHDt2FKPRyMsv96Rduw6EhoYwf/48nJ1d9FkZq/DMM88xceI4li1bBcDAgf2YMuVDnJ2d+fDD
KSQmJgIwatQ7BAQEMn36ZK5cuUxqaiovvtgDP78ADhzYy9mzf+Pn58/KlctyPN+58zPZMa5atYKY
mBhGj36DuXMXsHz54uyEtmPHp3nxxR5MmzaJxMQEEhMTmDXrE1xcXAAoX74CUp5m587tNG3ajFat
2vL4409y5szpHPUPHToAX19//P39eemlnsyePZ3U1FTs7e0ZM2Y8lSp58d1369mxYxsGA7Rv34lu
3V5i3brVpKam0qBBo+zW6/T0dP766w9Gjx6XvQ+tW7fNc2Jw7VpUvvUsXboQKU+TkJBAYGBNxo2b
yMqVy4iKiiQ+Po6oqChGjnyL4OAWdO/+HF9++T2zZ0/Hzs6OyMhIYmNjGD9+IrVq1Wbz5h/ZsOFb
XFzcsLW1oX37TnTp8uxdv78URbl7x0toVsaCODva0iCgIkfDYrgSfVO1wBZg28GLAHRuVj172WM1
PXgs0IOjYTHsPRlFy/pVSis8RSlxj1RyXVqOHDnEiBGDiI+Px8rKQNeu3WjSJIi9e3cTGXmVxYs/
JTU1lcGDX6VZsxbMnj2D6dNn4ePjx8KFH+fb8qotM7FmzWcEBQXz/PPduXTpIjNmTGHOnPmEhoaw
fPlqAA4c2IcQtWnevCUdOnTGxcU1z/PmXn31dbZs+YmPPlrEgQP7iIq6yvLlq8nIyGDo0AE0bRqE
wWCgadNgXnrp/3JsW7t2XcaMGc+mTT/wySdz8PSsxIgRb/LYY02y6/fyqkx09HVWrfoSV1dXJkwY
S/fuPWjRoiWHDh1g6dKF9OnTn127drBkyUqMRiNvvTWc4ODH6d37VS5evJCjW0hCQgIVK+b98XR1
dc1+bDKZWLTokzz1vPPOf3F1deWjjxZhNBrp0+dlYmKiMRgM2NnZMWfOfA4e3M/69V8QHNwi+7Uw
GAxUrlyV0aPH8dNPP7Jp0w+8/voQvvhiDatXf4WtrS0jRw6+m7eLoigl5FhELFYGA3X9LDdNeYt6
XhwNi2HfqWu80EYl17nFJ6Vy4PR1qnqUyzNdfM+ONTl1Po6vd4XRKNCDcg4lN5qLopSmRyq59nyx
R6GtzJbSpEkQkydPJzExgVGjhlG5clUAIiLCkPIMI0YMAiAzM5PIyKskJSXi4+MHQFBQMKdOnchT
ZlZreEREGCEhh9i5czsASUmJODk5MXLk28ycOY3k5GQ6d+6SY9s7PW9ex4UL52nUqDEANjY21KvX
gHPntJtQqlf3ybNNeHgYvr5+TJo0DYCDB/cxYcJYNm36Jcd6bm7u2clvREQ4a9eu4osvPsdkMmFr
a0tERDhRUZHZCerNm0lcvnwpx75ncXd3JynpZp5Ytm3bylNPdcj+OyIiLE89dnb2xMXFMWnSeBwd
nUhJSSEjIwOAmjUFAJUqeZGWlpqn/Fq1/nn++PFQLl++jJ9fAPb29gDUr98w3+OqKIrlJaakce5q
IrWqu+PkYLmfukaBHtjbWbP/1DW6tQ4o0W5oZcGuI5fJNJroGFQtz7HxcHPkuSf8+P73CDb8HkHv
zqKUolSUkvVIJdelzdXVjQkTpjJy5GBWrfoCX19/mjRpypgx48nIyGDt2lV4e1ejSpWqhIeHUaNG
ICdPHs9uRY2Pj8NoNJKcnExk5FUAfH39qV27Dh07Pk109HW2b99KbGwMUp5m+vTZpKam8sILz9K5
8zMYDAYyMzPzff7pp/+FlVXOLvgGgwE/P3+2bNnESy/1JCMjgxMnQunS5V/s30+e9QEOHdrP+fPn
GDNmvL59AI6OjtnlZWZqQy+ZT0Hs6+vL//1fb+rXb0hERBinTp3Ax8cXf/8azJ07H4D169dRo0Yg
ISGHMRqNOeq0sbGhefMWfPfderp3106edu3awXffradTp6fN6vHLU8++fXuIjr7G5MkziI+P588/
fy12/7+s9atVq8bFi+dJTU3F1taW06dP4uvrV6yyFEUpGScj4jBhuS4hWextrWlS05O9J6MIv5JI
YDU3i9b3MElNz+S3kCs4O9ryeL3K+a7TOdiHPSei+C3kCk80qEJAVdd811OUh4lKri3MYDDkOFv3
8/One/eX+eSTuUyZMoOQkMMMG/Y6t26l0Lp1O5ycnBgzZhzz5s3CxsYGKysrGjRoRIUKFWnWrDkD
BvTB27sa1apVBwz07dufGTOmsmnTDyQnJ/Paa4OoWNGDuLhYhgzpj5WVNT179sba2pq6deuzdOlC
pkyZkef5vImyFnPLlk8SEnKYwYP7k56eTvv2HalVq3b2vuXWvXsPFi36mH79elKuXDmsrKx4//0p
ANStW59lyxZRtap3dvkAw4aNYs6cD0lLSyU1NZVRo0YTGFiTpk2bMWTIa6SlpVGvXn08PStRo0Yg
a9Z8hhB1aN++Y3YZI0a8yYIFHzFkSH/AgKurK9OmzcreF4PBkG89VapU4fPPP2XkyMFUqFCRunXr
Z990ab5//zzOuyzrfzc3d3r16suwYa/j6upKamqquvlRUUrJsQitv3UDCyfXAM3qVGLvyShCwqJV
cm1mz4kokm9n8FxLP+xsrfNdx8bait6dBLO+CmHtL5L3+wblaHxRlIeRoSzdpRsdnVR2dka3c+c2
Llw4T//+A0s7FOUOMjMz+eKLz+nTpz8mk4nhwwcycOAwGjV6rLRDU5RHitFo4o35f2JvZ83sIS0t
3lUjLT2TkZ/8iae7I1MHNLdoXQ8Lo8nEeyv2E5Nwi9lDWuLmbF/o+it+OsXek1H06liL9k2r3aco
FeXueXq6FPjFoobiewioPnwPB2tra27dukX//q8weHB/hKitEmtFKQURVxNJvp1Bw4CK9+X7087W
mjq+5bkSk0z0jVsWr+9hcCIilqi4FJrX8bpjYg3w0lOBONrbsOGPcBJu5r3HRVEeJha/Zi2EaA58
KKVsJ4RoDPwEnNWfXiyl/FYI8TowEMgAPpBS/iyEcATWAZ5AEtBXShlj6XgfNO3bdyrtEJRiGDRo
GIMGDSvtMBTlkXYsQvupuB9dQrI0CvQgNDyWY+GxquUV+OWAPmmM2fB7hXErZ8cLbQJYt+1vvv41
jIHP1bNkeIpiUcVquRZCuAkhivyOF0KMAVYAWaetTYF5Usp2+r9vhRCVgRFAS6AzMEMIYQcMAUKl
lK2BNcB7xYlVURRFeTQdC4/FxtpAHd/y963OrBsnQ8MeuTagPC5dv8npC/HU8S2Pj5dLkbdr+5g3
fpVd2HfyGqfPx1kwQkWxrDsm10KIAUKIVUKISsBJ4HshxLQilh8GdOOfu8CaAv8SQvwuhPhUCOEM
BAO7pZTpUspEfZuGwBPAVn27rUAHFEVRFKUQ8UmpXLx2E1HdHQe7+3dDcQVXB3wqOXPmYjy30zLu
W70Pou0Hi9dqncXKykDvzgIDsHbb32RkGu+4jaI8iIrScj0UeBvoAWwE6gNPF7qFTkq5Aa2rR5b9
wDtSyjZABDARcAESzNZJAtwAVyAx1zJFURRFKdCJ7FFCPO573Q0DPcjINHHqfPx9r/tBkXAzlX2n
ovCq4HRXwyD6V3GlXRNvouJS2Lr/ogUiVBTLK9JpvZQyTgjxDLBASpkhhHC4y/p+kFJmJdI/AAuA
P9AS7CwuwA20xNol17JClS/vhI1N/sP9KIqiKGWfvKL9xLRt5oPnfZ6OvG1QdTbvOY+8nEDnJwLu
a90Pim2Hr5CRaaJbu0C8Kt3dmNWvd2vEkbMxbN5zni5PBlC5YrkSjlJRLKsoyfVJIcRmoAawXQjx
DXDwLuvbKoQYKaU8iNbN4xBwAJgmhLAHHIA6wAlgN/CMXlcXtCS8UPHxKXcZluUcOXKICRPG4u+v
zdyVnJxM1areTJz4wX0fAzk0NARnZxdq1AjMsXzixHFcvXqF99+fgo+Pb5HLW7lyGTt2/IKHhycG
g4H09DQGDhxG48ZN810/LS2Nbdu28Oyzz7Ny5TIqVvTg+edfuGM9W7b8xMWLFxg8ePgd1x0+fCCp
qak4ODhgMplISkpkyJCRtGjRssj7VZC4uFhWrfqUt99+957LUhSl5GVkGjly5jqV3B2xNRmJjk66
r/W7O9rg4mTLgZNRXLueiNUjNtJTWnomP++OoJyDDQ19y9/T8X+xbQ1W/HSKRd8cZWR3Ndut8uDx
9Cz4foKiZHevot1seEJKmSaE+Bz45Q7b5JY1/vRgYJEQIh2IBAZKKW8KIeYDf6J1UxknpUwVQiwB
PhdC/AmkAj2LWecDwWAwEBQUnD0dOMDkye/x11+/07Zt+/say+bNG+nQoXOe5Prw4YNs3ry92OUZ
DAZ69HiFrl27AXDhwnkmT36Pzz5bl+/6sbEx/PTTRp599vliDY9V3HXNTxIuXrzAe++NKZHkukKF
iiqxVpQH2PnIJG6nZdKyfoVSGcLUymCgYY2K7D4exYWoJPyrPFqzDe47dY2klHSeaeGLvd29XUVu
UdeLP0OvcjQshpC/o2lcy7OEolQUyyswuRZCTMy1qJ0QIutxU2BKUSqQUp5HS86RUoYCT+azzqfA
p7mW3QJeKkodRbVnVzgRZ66XZJEE1K5Ey6dqFPi8yWTKMZ12eno6sbExuLpqXciXLl3IsWNHMRqN
vPxyT9q160BoaAjz58/D2dkFLy8vKleuwjPPPMfEieNYtmwVAAMH9mPKlA9xdnbmww+nkJiodU8f
NeodAgICmT59MleuXCY1NZUXX+yBn18ABw7s5ezZv/Hz88fLS5uKds6cD0lOvsnYse8wdeqHTJ8+
mcjIK2RmGnn55V60b9+R4cMHUqFCRRITE5g3b2GO2RzN9y0h4QZOTk4AbNv2P7799itsbe2oVq06
Y8aMZ82azzh/PoLVq7WX+q+/fufXX3eSmHiDAQOG8MQTrfLdztx3361nx45tGAzaMIVZ053nOurZ
j6KiIrOPdXh4GJ98MgeTyYSbmxtjx05AyjN8/fUXpKWlERcXx3/+8wLPP9+dkJDDrF79KUajkVu3
bmVfaZg0aTzLlq2id++X8PHxxcbGlsmTpxf+JlEU5b6IiNS+BwO9S+8WnUY1PNh9PIrQsJhHKrk2
mUxsP3gJaytDiQxFaDAYeKWTYOJnB/hyx9/U9atwzwm7otwvhbVcG9CyFPP/lbtw5MghRowYRHx8
PFZWBrp27UaTJkHs3bubyMirLF78KampqQwe/CrNmrVg9uwZTJ8+Cx8fPxYu/DjfFhhtmYk1az4j
KCiY55/vzqVLF5kxYwpz5swnNDSE5ctXA3DgwD6EqE3z5i3p0KFzdmIN8M47/+XPP39lxow5fP/9
15QvX4EJE6aSkpJC//6vEBTUDIPBQMeOnWnVqm2OGEwmE19//QU7d27DysoaFxcX3n33PRISbvDZ
Z8tZtepLHB0dWbBgHhs3bqBv39eIiAinX78BrFy5DE9PL959dzwhIYf58ss1NGjQMN/tshL2c+ci
2LVrB0uWrMRoNPLWW8MJDn48T1eWqVMnYmNjzbVr16hXrwFjx04AYObMDxg/fhK+vn5s3ryRL75Y
Q7NmzUlISGDRohWkp6fTt28P2rRpz/nz53j//al4eHiwdu0qfv11B506dcmu4/bt2/Tr9zo1a9Yq
gXeIoigl4ZyeXPtXLb2ktp5/BaytDISGx/J8q0en3/XJ83FciUmmRT0vyrvcedKYoqjqUY6nm/vw
894LbNpzjhfbBt55I0V5ABSYXEspJ93HOO6Llk/VKLSV2VKaNAli8uTpJCYmMGrUMCpXrgpAREQY
Up5hxIhBgDZ9dmTkVZKSEvHx8QMgKCiYU6dO5Ckzq8U4IiKMkJBD7NypdetISkrEycmJkSPfZubM
aSQnJ9O5c5c82+fnwoXzBAVpU/c6OTnh7+/PlSuXAbLjMZe7W0iW06dP4u8fgKOjIwCNGjXhwIF9
PPFEqxzbClEb0Lpb3L59m6tXr+S7Xb169QEtuY6KimTkyMEA3LyZxJUrl/Ik11ndQjZu3MD27Vuz
TyYuXjzPnDkzAMjIyKB6dR8AHnusCdbW1lhbWxMQUIOrV6/g4eHBxx/PxsnJiejo6zRsmHemxeL0
T1cUxfLOXU2knIMNldwdSy0GR3sbhI87p87HE5+UWmKJ5oNumz78XqdiDr93J8+29GPfyWtsO3CJ
lvWr4O2hbm5UHnyFdQspbIBJk5RSXZ8pJldXNyZMmMrIkYNZteoLfH39adKkKWPGjCcjI4O1a1fh
7V2NKlWqEh4eRo0agZw8eRyDwYCdnR3x8XEYjUaSk5OJjLwKgK+vP7Vr16Fjx6eJjr7O9u1biY2N
QcrTTJ8+m9TUVF544Vk6d34Gg8FAZmZmgfH5+voTGhpC69ZtSUlJJjw8jCpVvIGC+z2bdwvJUqWK
N+fOneP27ds4ODgQEnIYHx9fDAYDRqOxkO2q5rtdFh8fX/z9azB37nwA1q9fR40aNfOLCoCuXbtx
7NhRli9fxNChb1C9ui/vvz+FSpW8OHr0CAkJ2qgCZ86cArTW6PPnz1G9enX++9+3+OabjTg6OjJt
2qTsuM2Zd49RFKV03byVzvUbt6jvXzr9rc01quHBqfPxHI+IpXWjqqUay/1wJSaZExFx1Krmhl/l
kr1qYG9rTa+OtZj//THW/SIZ07Nxqb++inInhbVcq8yhBBgMhhxfBH5+/nTv/jKffDKXKVNmEBJy
mGHDXufWrRRat26Hk5MTY8aMY968WdjY2GBlZUWDBo2oUKEizZo1Z8CAPnh7V6NateqAgb59+zNj
xlQ2bfqB5ORkXnttEBUrehAXF8uQIf2xsrKmZ8/eWFtbU7dufZYuXYi3t3eulmgtvq5duzFz5gcM
HTqA1NRU+vcfSPnyhc9wlt+XnLu7O6+9NpARIwZhZWVFtWrVGTp0JEajkYyMdJYsWYC9vX2ObQ0G
A25uebcbMmQEO3duw2AwEBhYk6ZNmzFkyGukpaVRr159PDzyu8nln3LfeOMd+vX7Pzp3/hfvvDOW
qVMnkJmZiZWVFf/97/tER18nOTmZUaOGkpSUxKuvDsTV1Y1OnbowbNgAPDw88fHxIzY2psD9VRSl
9GV3CXkA+jk3CqzIVzvPEhoW80gk1/9MGuNjkfIfq+lB45oehJyNYe/JKFrWr2KRehSlpBjya0E0
J4TwAnoB5dCyFmvAX0rZx/LhFU90dFLhO/MQ2rlzGxcunKd//4GlHUqZdOTIIX7/fRdvvjmmtENR
FOUebPrrHD/+dY6R3RvyWOD9n0Amt/Er9hGbeJsFb7TCtgzPv5CYksboxXtwd7ZjxsDHsbKyTANE
TMItxq/Yj7OjLTMGtsDOtuweU+Xh4OnpUuCbvSit0xuARkBvtAT738DlkglNKQrVWmo5ua8sKIry
cIp4gFquQesakpZu5MzFO85/9lD7LeQK6RlGOgRVt1hiDeDh5kjHoOrEJ6Wy47BKQZQHW1GSaw8p
ZV/gJ7RZFdsCzSwZlPKP9u078eqrr5d2GGVW48ZNGTVqdGmHoSjKPTCZTJyLTKSiqwNu5exKOxxA
6xoCEBoWU8qRWE56hpFdR67gaG/Nkw0s31XjmRa+ODva8vPe8ySlpFm8PkW5W0VJruP0/yXQUJ++
vPSvuSmKoigKEJtwm6SU9FIdgi+3Gt5uONnbEBoWm+8N3GXBgdPXSExOo3WjqjjaW37GYScHG55t
6cet1Ew277lg8foU5W4VJbneJYT4Fm1WxreFEMvQZkxUFEVRlFKX1SUk4AHpEgJgY21F/YAKxCbe
5kpMcmmHU+JMJhPbDl7CylAyk8YUVbvG3ni4ObDryGWib9y6b/UqSnHcMbmWUo4HxkopL6BNQX4G
6Fb4VoqiKIpyf/wzUohLKUeSUyP9xsqy2DXkzIV4Ll2/SVPhiYfb/RtX3NbGim5tAsg0mtjwR8R9
q1dRiqPQ5FoIUVsI4SulDNMXBQK/SCmvWj40RVEURbmzc1cTMRjAt/KDlVw3CKiIwQCh4bGlHUqJ
s9SkMUURXMcL38ou7D91jfNRife9fkW5kwKTayFEe+BXwHwauirADiFEO0sHVlYcOXKIVq2asXPn
thzL+/btwfTpkwEYP75kbqjbu3c3b7wxlDfeGMKgQa+ybdvWEim3INeuRfH++/9lxIhBDBzYj7lz
Z5KRkVHi9UybNon9+/cW+Pz8+XO5di2qwOdDQ0MIDw8r8HlFUR5emUYj568l4e1RDgc7y/f7LQ5n
R1sCvd0Iv5JQpm7Ai4pLITQ8lhpVXanh7Xbf67cyGHiprTbb8re/hpfZPu2l4VxkIifPxZGZz8Rp
StEV9k30AdBRSpk997aU8mMhxO/AIqClpYMrK3x9/dixYxvt23cCIDw8jNu3b2c/P23a7BKpZ86c
GaxZs55y5ZxJSUmhX7//Izi4Be7u7iVSvrnMzEzGjn2b0aPHUadOPQA++WQun366lMGDh5doXXca
Lm/kyLcL3X7z5o106NCZGjUCSzQuRVFK39WYFNLSjQ/MEHy5NQr04OzlBE5ExPF4/cqlHU6JyJo0
plOwZSaNKYo6fhVoEFCR4xGxnDgXR4OAiqUWS1mQcjudr3eF8eexSADcytnxeL3KPNGgMt6ezqUc
3cOnsOTawTyxziKlDBFCOFkwJouJv7KdlBunSrRMJ/e6lPfuWODzBoOBGjVqcunSRZKTb1KunDO/
/LKFTp26ZLe2/vvfndm06Rc2bPiWrVt/xsrKitq16zJq1DtcunSRmTM/ICMjA3t7ByZPnl5gsuzs
7MI333xF27bt8fPz54svvsPW1paVK5cRFRVJfHwcUVFRjBz5FsHBLTh4cB8rVizFzs4ONzc3xo6d
yPTpk+nTpz+1a9ehZ88XGDRoOG3atOPNN4cxfvxkPDy0PoTHjh3Fy6tydmINMGTIiOwWhK++Wseu
XduwtrahUaPGDBkygpUrl3H16mVu3EggMfEG3bq9xG+/7eTSpYuMHz+ZChUqMG3aJBwdHYmNjaFl
y1YMGDA4u/yUlGRmzJhKcvJNYmKi6dbtRZ5/vjvDhw9kzJhxbN/+S579dHNz58CBvZw9+zd+fv54
eZWNHzdFUTTZ/a0foJFCzDWqUZHvfgsnNDymTCTXGZlG9p6MooKrPU1qle7AYS+2rcGJiFi+/TWM
en4VLDrOdll2WEazbrsk4WYa1Ss5E+jtxoHT19h64CJbD1zEr7ILTzSoQvO6Xjg72pZ2uA+FwpJr
ayGEnZQyx7UsIYQ9YG/ZsMqetm2f4vfff+WZZ57jzJlT9OrVNzu5zmqU/d//fuLtt8dSu3Ydfvzx
OzIzM1m06GP69OlPcHAL/vrrD86ePUOzZi3yreOjjxby9ddfMmnSeG7ciKNr1xfo338gBoMBOzs7
5syZz8GD+1m//guCg1swa9YMlixZiYeHB99+u57PP19J69Zt2bdvN25ubtjZ2XPo0AGCgpqRnp6e
nVgDxMbGULWqd4767ey08WXDw8P49dcdLF26Cmtra8aPH82ePX9hMBiwt3dg7typrFu3mr17dzNz
5kds2fITO3f+wksv9eTatSjWrv0GW1tbhg4dQOvWbQHtzvTLly/RoUNn2rRpR0xMNMOHD+L557tn
t2rnt59z586nefOWdOjQWSXWilIGRVx98EYKMVfVoxwebg4cj4gjI9OIjXVRBul6cJ29nMDttEye
bFAFa6vS3ZdqlZxp2aAyu49HsedEFE82VNOiF0fCzVS+2P43h2Q0NtZWdGsdwNPNfbCxtqJH+5r8
P3vnHR/HWef/95Tt6r3YliWXla1mudckTnNICEkOAkc6hCQELnD3OwgHHAdHueMCBxzhQggkpOOE
hKBUoKkAACAASURBVOQgFZPEceK4yU2yJa8lWZZk9bYqW6f9/tiVLBfZsq2azPuleT0zs7Mz35md
GX2e5/k+3+/+mk7er2jhwJFujrYe5rm3q1k0N4U1RZkU5iVN+u8/lTmTuP4z8JDb7b7P4/EEANxu
tx14ENg0EcaNNYnZV5yxlXk8GGzJvfzyDfz0pz8mKyubkpLS0277zW9+l40bn6a5uYnCwmIMw6Cx
sYHCwiIA1q69aMTj9Pf309rawr333se9995HZ2cH3/72/bjdCwCYN28+AGlp6YTDIbxeLy6Xa0gw
l5Qs4pFHHuK22z7PN7/5zyQkJHDzzbfx3HPPsn37B6xZc+KxMzIy2bz57RPW9fZ6qagoR1HCFBQU
IUlSdN+l1NXVAjB/fj4QaWXPzc0bmg+HI3W4hQsLsdvtQ/ONjQ1D+09MTOL55//Ali1v43TGoGna
Kdfh5PM0MTH5cFPX0odVFslOdU22KadFEARK5qTw1p5j1BzrJT8ncbJNuiAqooMzi+dMDTeMG9bl
sbOqnZfeO8LyBWlmWvRRYBgGHxxoZeNb1fiCKnNnxPO5j+WTmXz8GbLIIkvz01ian4Z3IMT2g21s
rWihzNNBmaeDOJeV1QUZrC7KYIbpNnIKZ6p2fB9wAu1ut3u72+3eAbQDMcA3JsK4DxNZWdkEgwFe
eGEjGzZcfdoBGH/5y8t87Wvf5Fe/eoTDhz0cOFBOTk4ulZUHAdi06Q1efPH50+4/HA7x3e9+i56e
SM6fpKRkkpKSsVoHu3BO7C5LSEjA5/PR1RUJEbVv3x5mzcohNjYWm83OW29tYsWK1aSnp/PHP27k
4otPHMNaUFBES0szVVUR2wzD4LHHHqGiYj85ObOprDyApmkYhsG+fXuZOTOHEzFOew1qa6tRVRVN
06iqOkhu7pyhzzZufIbCwiK+850fsH79ZRjG6QZcnNotKAjCaYW4iYnJ9CYU1mjq8JGTETulW9GG
sjXWTv+QfOVHurDKIu5ZYz+W53xIirNz+dIZZlr0UdLpDfCz5/fz6KtVqLrBzVfM519uXnyCsD6Z
hBgbV62YxffvXM53bl/KpYuz0TSdN3Y28G+P7uT7j+/ird3HGAgoE3gmU5sRW66j7iA3ud3uucAi
QAN2ezyehpG+Y3IqwwfjXXbZFbz55uvMmDGTpqbhL4HI53PmzOHLX/4CTqeL1NQ0CgqK+PKX03jg
gf/giScexeFw8J3v/IA9e8ooL9/HHXd8YWgPyckpfPWrX+P++/8RSZLRNI01a9axbNlKKirKTxgQ
ODj/jW98m29/+34EQSAuLo5vf/t7AKxbdxGvvfYKcXFxLF++ipdffuEUFxBBEPjBD37Mz3/+AIFA
gGAwSGFhEXfddS+yLHPppZdz7713Yhg6xcWlXHTRJdTUHB5mhzDMneP4NQCB++//J/r6ern88ivJ
y5szdLw1a9bxi1/8hC1bNpObm4fT6URRlFPsOnl+4cJCHn74V2RnZzNr1uxz+PVMTEymMvVt/eiG
MWUHMw7inpWAzSKxv6aLz1w6b7LNOW86vQGaO32UzEnGIk+dFuJrVuawZV8zr26r56KSLNMv+DTo
usHbe47x4rtHCCkahXlJ3LbBfU4xygVBIDczjtzMOD5zacRtZGtFCxVRt5GNb1VTOi+FtcVZFOZ+
tH3ghfEOYeN2u1cAP/Z4POujQv1xQAcOAF/2eDyG2+2+C7gbUIEfejyeV91utwN4GkgF+oHbPR7P
Gav9HR39ZjyeaUxLSzM///lPeOCBn0+2KSYmJtOAN3Y08Pw7NXzxugKWL0ifbHPOyIMvlrO3upP/
vHsl6UnTMiYA7+w5xlN/PcytV85n/eKJy8o4Gv66s4GNb9dw5bKZ/P1l07cCMx40dfp4/PUqapv6
cNllPnv5PFYVZJwxCte50DsQYlvUbWQwG2lirI3VhRmsLcqctvf72UhNjR3xAo5rP5rb7b4f+C3H
B0D+DPiWx+O5iEhT5XVutzsDuI9IaL8NwH+63W4rcC+wP7rtk8C/jqetJpNPpJV/sq0wMTGZLhzP
zDi1W65hWLbGaZxQpjxq+1QMe7d+8QwzLfpJqJrOX7bW8e+/30ltUx/LF6Txo7tWsrowc8yENUD8
SW4jl5RmEwxrvLqtnm8+sp0fP72b98tbCIbHPg/GVGW8I+7XEEmV/lR0ebHH49kSnX8duJKIu8lW
j8ejAIrb7a4BioE1wH9Ft30D+M4422oyyWRkZPJf/2W2WpuYmIyOupY+YhwWUuLtk23KWRkcALi/
pnNSshpeKIqqUVXfE4l+kjBx6c5Hi0WORLt45C+VvLTlCHd/ouDsX/oQU9fSx+9fO8SxjgESYqzc
eqWb0vmp43rM4W4jf3/pXPYc7uC98haq6ns4fKyXZzYdZtmCNNYVZzI3O35MBf5UY0RxHXXVeB94
wuPxLI+u2zk4Pxo8Hs+f3G737GGrhl/JfiAeiAN6R1jfd9I6ExMTExMT+nxhOnuDFM9Jnhb/pBNi
bMzOiOVwo5dASMVhm1rZJM+Gp8FLWNUpnoKt1oMsX5jOmzsb2V7Zxobls8jJiJ1skyaFt3Yf49m/
HcYw4KKSLD69fg5O+8T6oVstEisLMlhZkEGnN8D7FS1srWjl/fIW3i9vIT3JydqiDFYXZpIY++GL
7nymp9tCpLW4MJqV8QCQ4Xa7S4Byj8dzPv7Nw8M7xAFeIgJ6+BMQe5r1g+vOSGKiE3kKDbIwMTEx
MRkfjnZE8gQUzkkhNXV6iKjVxVk8+1cPjV0B1pRkTbY550T11qMArFsyY0pf77tuKOJfH/6Al96v
44dfXD0tKl5jyUBA4cV3a4lzWfn6LUspmTe+rdWjITU1lgXz0rjz+mIqajrZtLOBbRXNvPjuEV7a
coTF+elcvnwWKwoypn0c+EHOFC3kISJxrvcC1wBFwLXAV4i4bSw7j+PtdbvdF3s8nneBjwFvATuB
H0WT09iBBUSE/FbgamBXdNstp9/lcXp6/OdhkomJiYnJdGPfoTYA0uLtdHT0T7I1o2NuVkSUvren
kflZU1egno4dB1qwWyVSY6xT+npnJdgpzEuivKaTd3bWT0n/8PHk9e31BMMa166ZTVbC1Hs2shLt
3L5hPjdenMuOqnbeL2+mrKqNsqo25mTFcd8ni4lzWSfbzFFxpkrmmdxC9gDVQCKwHKgAujwez53n
YcNgK/c/A7+NDlisBF6IRgv5JfAekQGW3/J4PCG32/1r4Am32/0eEAJuOo/jmpiYmJh8CDkyNJhx
+ojUWemxxMdYKT/Sha4b0yZUWVu3n/aeAEvmp06LlsUbL5nLwSM7+eM7tR+ptOiqpvO33cewWSUu
nuI9I067hfWl2awvzeZY+wB//uAoZYfa+eGTZXz1xhKyU6ZmUqjRcqaW68Vut3s+8DZwFRFhPN/t
dr8MfODxeB4YzQE8Hs9RIpFA8Hg81cAlp9nmd8DvTloXAD49qrMwMTExMfnIYBgGdc19pCbYiXVO
j1YuAFEQKJmTzJb9LdS19DEne3oMJRqKEjJFsjKejZlpMawuzGDrgVa2HWxlTdFHIy36rqp2evpD
XLF05oT7WF8IM9JiuPe6Av6S4uLl9+v4j6fK+NL1RRTkJk22aefNGaugHo/nMHDQ4/Hc7/F4riEy
wPE+4OgE2GZiYmJiYnIKHd4AvqA6LULwnUzJnMGQfNMnW2P5kckPwdfm7+Dh8sfZ3bZvVNvfcFEe
siTy0ntHCCsf/gy9hmHw5s4GBAEuXzq1YpCPBkEQ+MTaXO6+diGKqvPz5/ezeV/TZJt13px1uLLH
49lwmvnGcbPIxMTExMTkDAy6hORNQ3G9YHYisiSyv6aLv7tozmSbc1ZCYQ1PQw+z0mImLarDvvYK
nqp6nqAW4mDXIWKtMcxPnHvG7yTF2bli6Qxe39HAW7uP8bGVORNk7eRwqMFLQ/sAS/PTSJ2CoRJH
y8qCDJLj7Tz4YgVPvuGhrdvPjZfMnXauPVPfecrExMTExGQYdc2RQVq5WdNPXNutMvk5CTS2D9Dd
F5xsc85KVX0PqmZMikuIpmv8qeYVfnvgKXRD56rZlyEg8NuKp2j3d5z1+9esysFll3llWz0DAWUC
LJ483tzZAMCG5dMvhvrJzJuRwL/etoTMZCdv7mzkf1+qIBSeXr0Pprg2MTExMZlW1LX0IQoCs9Kn
z2DG4Rx3DZn62RoHXUKKJ1hc94b6+OW+R3irYQvpzlS+vvQ+rs3bwGfdf4dfDfBw+eP4lTNHCHPa
LVy7ejaBkMorHxydGMMngeZOH+W1XcydEc+crOnhx3820hKdfOvWJSzISWRvdSc/fmYPPf2hyTZr
1Jji2sTExMRk2qBqOvVt/cxIdWGzTM+8BiXDsjVOZQzDoKK2E5ddJm8Cewmqe47w413/Q423jtLU
Ir6+9D6yYjIAWJW1jMtnXUybv4NHDzyDpp+5RXN4WvT2D2la9L/uinjqblg2a5ItGVtcdgv/9OkS
1hVnUt/Wzw+fLKOhbWqFFhwJU1ybmJiYmEwbmjp8KKo+LV1CBklJcJCd6qKqvofQFB5s19zpo6sv
REFuEpI4/nLBMAz+1vAuv9z3CAOKj0/O/Th3Ft6CQz4xvf11cz5GUcpCDvVU80L1n8+4z8G06Kpm
8JNn99DYPjCepzDh9PnCfHCglbQEB6XzUibbnDFHlkTu+Fg+N66fg7c/xH8+vYd9U7xSCqa4NjEx
MTGZRtQNxbeevuIaIq4hiqpTVd8z2aaMyES6hATUIL878DQv1bxKrMXFV0vv4dJZF502w6IoiNyx
8LNkx2SypWkbm49tPeO+VyxM54aL8ujqC/EfT+1mb/XZ/bWnC2/vOYaq6VyxbOa0G/Q3WgRB4GMr
cvjSDYUYhsGDL5azaVcjhnE+icInBlNcm5iYmJhMG6ZzpJDhlMyNCNbyKdwKV1HbhQAU5o6vuG4e
aOWBsl+yr6OCeQl5fGPZPzI3IfeM37HLNr5YfAexlhheOPxnqroOj7itIAhcu3o2X7o+Is5+9WIF
r2+vn9LibDSEFY139jbhssus/QjE8l7iTuMbNy8mzmnlD29V8/Smw2i6PtlmnRZTXJuYmJiYTBvq
WvqwWSSypnkGtzlZ8bjsMvtru6akyPMHVaqP9TI7M25c01HvbN3DT8oepN3fyeWzLua+RXcRbxvd
QNUkeyL3FN+OJEr87sDTtPrazrj90vw0vnnLEhJibfxxcy2PvVaFok5NcTYath1spd+vcElpNjbr
9Bx/cK7kZsbxr7ctZUaqi3f2NPE/L5QTCKmTbdYpmOLaxMTExGRaEAipNHf4yMmInfZd4KIoUDwn
mZ7+0JT0A6482o2mG+PmEqLoKs95XuaJyo2Igshdhbdyw9xrkMRzE4m58Tnckn8jQS3Ir/f/noGw
74zb52TE8p3bl5KbGcvWilZ+unEvff7whZzKpKAbBn/d1YgkCly6ePoljbkQkuPtfPOWJRTlJXPg
SDf/8fTuKRfW0hTXJiYmJibTgoa2fgymv0vIICVzoyH5pqBryHj6W/cEvfxiz8NsafqALFcG9y/7
CovSis57f8sySrlq9mV0Brv57YEnUfUzt2QmxNj4xk2LWb4gjepjvfzwiTKOdUy9Cs6ZqKjtoqXL
z8qF6ZOW3GcycdhkvvKpIi5bMoOmDh8P/99BdH3q9ACZ4trExMTEZFow6G89nSOFDKcwNwlJFKZc
vOtICL4uYp0WcjLGNpb4oe5q/nPXLzja18Cy9MV8bek/kO5MveD9XpN7BaWpRdR469joeemsrjZW
i8Q9nyjg+rW5dPYG+dFTu6dFFIpBBpPGXLFs+ieNOV8kUeTmK+azfEEaNU29vL6jfrJNGsIU1yYm
JiYm04K65sFIIVMreUx/eICtzTuo8dadtdV0OE67hXkz4qlr7ptS3doNbQP0+sIU5SUjniZax/nS
4e/i1/sfI6iG+Mz8G7h94WewSWPjzy0KIrct/AyzYrPZ1rKLtxq3nPU7giDwibW53Ht9IYZu8OAL
5byxo2FK+sAPp761n0MNXhbOTpy2iZTGkluudBMfY+Xl9+qmTBxsU1ybmJiYmEwL6lr6iHNaSI6z
n33jCaJpoIUHyh7k2UMv8vM9v+brW77Lr/b9jk31m6nva0Q3zjxgbnVhJgbw+9cPoU8RUTdeLiF/
PvI6qqFxy4IbuWjGqtOG2bsQrJKVe4rvIN4ax8s1r1HRWTmq7y3Lj0ShiI+x8vw7Nfz+9UOo2tQd
6PjXXYOpzj9cSWPOlxiHhc9fvQBNN/jtK5Uo6uTHjpe+973vTbYNY4bfH/7eZNtgYmJiYjL29A6E
eOm9OvJnJbKyIGOyzQGgorOSh/Y/xoDi49KZ65gVN5OAGqCur4FDPdVsbd7J5mNbOdrbQH/Yh1Wy
EmNxnSAqZ6bFcLS1nwNHunHaLczJnvz01S9urqVnIMTtV+VjlccmCkVdbwMv1vyFnLiZ3DjvujEX
1oPYZTvzEvLY0bqH/R0HKExZQJz17K27ibE2li9Ix9PopaK2C0+jl5K5yVMuC2h3X5An3vCQlezi
M5fOHbfrON1IT3TS5wtTXtuFqhkU5CaN+zFdLtu/j/SZKa5NTExMTKY8h+q97KhqY1VhBu5ZiZNq
y2AmwWcOvYAgiHyu4CYum3URBcn5XDRjNWuzVjIrNhun7KQ/3E9dXwOV3R7ea9rGe83baexvwq/6
ccoOXBYnC2Ynse1AC/trO1k0L5X4cQx9dzYGAgrP/u0wc7PjxywKhWEY/P7gs/SEvHy+4GaSHeP7
+8Xb4khzprKrbS8HOg+xNGMRNunsg/4cNplVBRm0dfupONJN2aF2FuYmEeecvN/jZF754CiHj/Xy
qYvnkJMxtcYehLUwuqGfc8SXsSJ/ViK7DrVTXtNF/qwEUuId43o8U1ybmJiYmExrPjjYyuFGL1ev
zCEt0Tlpdii6yjOHXuCtxi0k2OK5r/QL5CfNO2Ebu2wjKyaT4tSFrJ+5lpUZS8iKycQu2egK9lDX
10BFZxWbj21lR0sZ/Vov6+cVsf1gB9XHvKwtykSSJsdrc091B7s9HawvzWb+zIQx2Wd550H+1vAu
xSkFXJlzyZjs82xkutKRBJH9nQc54q1nWXrpqESfLIksyU8DYG91J9sPtjIzLZb0pMm75wYJhFQe
+UslTrvM569egDRFwlH2BL28cuRNHjv4LJsa3qHGW8dAeACHbMd1Uk/NeCJLIrmZcbxX0cKhBi9r
izOxyOP3HJ1JXMvjdtQz4Ha79wC90cUjwH8CjwM6cAD4ssfjMdxu913A3YAK/NDj8bw6CeaamJiY
mEwyg2nPZ09iGL6+cD+PlD9JXV89ObEzuaf4duJtZ7cn2ZHEakcSq7OWYRgGbf52PD21eHpqqO6p
5d1jWzGyDS5dvIC39zTxwuZabrpi/gSc0alURCOXFOWNjb+1pmu8XPMaoiBy/ZyPjck+R8uGnEtp
9bWzq20vzxx6gdsX/v2ohJ4oCFy/Lo/MZBePvlrF/7ywnzuvWcDqwsnNgvh+eQuBkMqG5bnjKhpH
S5u/g031m9nZugfN0Ei0JeCQ7VR1H6aq+zAv1rxCoi2BhcnzWZjkxp00F4c8vq3Jc7LjuWZVDq98
UM/Gt6r53NULxvV4IzHh4trtdtsBPB7P+mHr/gx8y+PxbHG73b8GrnO73duB+4AlgAN43+12b/J4
PNMv2ruJiYmJyXljGAZ1zX2kJTqIcVgmxYZj/c08XP44PSEvS9MXcXP+jVilc7dFEAQyXOlkuNK5
eMZqwprCA2W/ZEvTB3yheC5V9U7+tvsYhXnJ45bAZSR03aDiSDcJMVZmpsWMyT7fb95Be6CTddmr
SHeljck+R4sgCNyc/yk6A13satuLgcGn51+PyzK6VugVC9NJSbDz8+f289irh7BZZJa4Lzxs4Pmg
6wabyhqxyiLrS7MnxYZBjvU389f6d9jTXo6BQbozlStz1g/1DnhDvVR1Haay28Oh7sjYg63NOxEF
kdy4WSxIcrMweT4zY7MRhbGvJHxiTS7ltV28V97ConkplM6b+N9sMlquSwCn2+1+M3r8bwOLPR7P
YNyc14ErAQ3Y6vF4FEBxu901QDFQNgk2m5iYmJhMEu09AfwhdcLF5iD7Ow7weOVGwlqYa/M2sCHn
0jHr6rZKFj5XcBMP7PolG6tf5I6r7+bnzx7isdeq+P7nl49r6vGTqWvtYyCgcFFJ5picX0AN8lrd
JmySlatzLx8DC88di2Th7uLbeXj/45S17eNwTy035X+SopSFo/r+nKx4/unTJfx04z5+8+cDfPVT
JRMyWO5k9hzuoLM3yCWl2cROkg/4kd6jvHn0bQ50HQJgZkwWG2ZfRklqwQkiOcEWz6qsZazKWoZu
6NT3NVLZ5aGq+zBHeuup7T3KK3VvEmNxkZ80j4VJbhYkzx/VwNPRIEsid318If/+eBlPvH6IOdnx
E+43Pxn9Cj7gJx6PZwPwReCZkz7vB+KBOI67jgxfb2JiYmLyEWIoecwEu4QYhsGbR9/mtxVPgWFw
V+GtXDX7sjH3Ic2OyeS6uVczoPh4u/M1/u6iPPp8YX7/WtWExlw+7hKSMib721S/mQHFx5U568dM
OJ0PcdZY/nnJl7gu72P4FT8Plz/OE5Ub8Sv+UX1/TnY8X/lkESDw4J/KqT7mHV+DT8ObOxsQgCsn
OGmMYRhUdR/mF3se5r93P8SBrkPMic/lSyV38o1lX6U0reiMrc+iIJIbn8M1eVfytaX/wH+t+y6f
L7iZlZlLkQSRsrZ9PFn1HN98/wc8UvEkXYHuMbE7OzWGT16cR59f4ck3PBMeu3wyWq4PAzUAHo+n
2u12dwGlwz6PA7xAHzD8aYwFes6048REJ/IYhQ0yMTExMZkatHqPArC4IIPU1IkRaWFN4Te7nua9
+p0kOxK5f9295CaOn7C5MeUqavpr2N9axfLSEhYdS2VfdQdlNV1cvTp33I47nMoGL5IocNHSmTjt
F+Z+0+Xv4e1j75HkSODTpVdjkyc/4sbN6Z/govlLeWjHk+xs3UO1t5a7l93Mkqyzp15PTY3F7rTx
o8d38ssXyvnRvWuYM2NsBnyejaq6bmqb+1hRkEGRO31CjqkbOmVN5bxU+Qa1PZHMh6WZBVy/YAML
Uued5dsjk0oss7PSuYq1GIZBY28z+1oPsq0xEjqxstvDDQuu4hP5V5yX29VwbvrYQg7W97DncAcV
9V4uWzZxccGFiVbzbrf7HqDY4/F82e12ZwFvERnU+IDH43nX7XY/HF23BdgELAPswHag5Ew+1x0d
/VMjAr+JiYmJyZjxoyfLONraz0P/7yIsE9CA0hvq57cVT1DX18DsuFncXXQ78bbxF/W9oT5+tPNn
hLUwX1z4Rf732aOEVZ3v3rGMrBTX+B7bF+afHnyf/FkJ3H/T4gve31OVz7O9tYxb8m9kVdayMbBw
7NB0jU0N7/Ja3SY0Q2NFxhI+Ne9anKPwxd5e2cpv/1xJjNPCv9y8mMzk8f1dAP73TxXsPtzBN24q
HfcwlJquUda2j7/Wv0Orvx0BgUWphWyYfSkzY8fP19swDHa17eWlmlfpC/eTYk/iU/M/MWr3nZHo
7A3wb4/uBOD7dy4f0/B8qamxI3ZhTYZbyKNAnNvt3gJsBD4H/CPw7263+wMirekveDyeNuCXwHtE
xPa3zMGMJiYmJh8tVE2nvm2AGWkxEyKsG/ub+EnZg9T1NbAsvZR/LL1nQoQ1ROIz35x/I4qu8qej
L3LrVfNQVJ1H/nwQRR3fjIEHhrIyXrhLyLH+Zna07ibLlcGKzCUXvL+xRhIlrpp9Kf+y7KvMis1m
R+tufrjjZxzorDrrd1cuzODWq9z0+xV+unEfnd7AuNra3uNnz+EOcjJixyw04kj4FT8/3f0rnqx6
jvZAJyszlvKvK/6ZLxTdOq7CGiKDT5dnLObfVn6dS2euozvk5eHyx/n1/t/T4e867/2mxDu46fL5
BMMaj71aNWFZUCfcLcTj8ajAraf56JLTbPs74HfjbZOJiYmJydTkWMcAqqaTNwH+1vvaK3iiciOK
rnJd3se4IueSCc+AV5JawJqsFWxt3kFjYhkXlcxly/4WXnrvCJ9eP3fcjls+6G89BoNGX6p5FQOD
G+ZeMy7RIMaKrJgMvrbkH9jUsJnX6v7Gr8t/z8qMpXxy3rU4LSO3cF6yKJtgSOP5d2r46cZ9/Mst
i0mIOXuSmvNhU9kxDGDD8pnjei8G1SAP7X+Mhv4mlqSVcN2cq8c92c/pcMh2PjnvWlZlLuP5wy9z
oKuKQz3VXDHrYq7MWY9VOnf3ojVFGeyt7mBvdSd/29XIlROQNn7q3vUmJiYmJh95jjRPzGDGHS27
+e2Bp0AQuKvoNq6cvX7SUkt/ct61pDlTeLvxPUoXQ3qigzd2NFB5dGwGe52MpuscqOsmOc5OVvKF
JUup7PJwqKea/MR5LEx2j5GF40ekFfsyvrHsK8yMzWZ7axk/2vkzDkYjYozEVStmce3q2bR7A/z3
xn0MBJQxt80XVHi/vIWkOBtL3eMXxjCsKfymPOIGtTxjMXcUfHZShPVwsmIy+GrpPXyu4CZcspPX
j77FD3b8N/s7Dpzz4ERBELj9qnzinBZeePcITR0D42T1cUxxbWJiYmIyZakbFNdZ4yeuq7oO8/Sh
P+KUHfy/xV+iJLVg3I41GmySlc8tvAlREHmu+gVuuToXSRR49NWqcRFxtU19BKKhDi+kQqEbOi/V
vIqAwA1zrxlDC8ef7JhMvr7kH/h47gb6wwM8tP8xnqp6Hr8ystvH9etyuXzJDJo6ffz8+X0EQuqY
2rR5bxMhRePyJTORxyljp6qrPHrgKQ57a1mUWsgt+TdOmd4GQRBYmr6If1v5da6YdQm9oT4eqXiS
h/Y/Rpu/45z2FeeycvtV+aiazm9fqUTVxtfNykx/bmJiYmIyZXnx3VpUTecz6+eOS0tyQ/8xOyA1
mAAAIABJREFUHtr/KABfKrmT3PiJiyhwJuJtcciixP7Og4TFPpaml7C3upN2b4Bl+Wljei3e2dtE
9bFePrE2l4wLSPO9vaWMrS07WZmxlHUzVo6ZfROFKIjMS8yjOLWAo70NVHZ72NW2lwxXGmnOU33R
BUGgIC+J7r4Q5bVd1DT1snxB2pikrle1iK89wF3XFoxLRkbd0Hm88g/s7zzIwiQ3dxbdiixOSuLu
MyKLMvlJ8yhNK6bd30FVz2G2Nu0grCvkxucgjyKtPUBmsouu3iAVR7oxgAU5F9Y6f6b056a4NjEx
MTGZkviDKn98p4a52fGsLc4a8/13Brr4nz2PEFCD3Flw85RzY8iNz6HGe4TK7sMsm5ODr9s55L6R
kzF2gyw3vlWDP6Ry2wb3ebeQhrUwj1Q8iW7o3F10Gw7ZPmb2TTRx1lhWZS5DEiQOdnnY2bqHyi4P
GAZpzpQTBKggCJTMTaG500fFkW4a2gdYmp+GKJ5/5afDG+D17Q0cqOvm0sUzKJ0/9hkGdUPnmUMv
sKttL3MTcvli8R0XHPpuvImxuliesZismExqe49ysOsQO1p3k2hPIMM5ugpnfk4iO6va2F/bSWFu
Eklx53+fmuLaxMTExGTaUXPMy9YDrSxbkEbB7LHNijcQ9vE/e39DT8jLp+dfz8rMpWO6/7FAEATc
iXPZ1lLGwa4qbllxMXuq+iiv7WJZftqYpILv7gvywru1LJydyLqS86/AbGrYTHlnJVfMuoRFaYUX
bNdkM7wVuzvopcZ7hIquSjYf20pHoJNYq4sEWzyCICAIAqXzU6lr7aPiSDct3X6WzE8dde+Cqukc
bvTy9p4mnv3bYV56r46apl4cNpk7r1lwwTHHT8YwDF6o/gtbm3eQEzuTLy+6E7s8PgMyxxpBEMh0
pbMmewUCcKi7mt3t+2nytZKfNO+sFQSLLDIrPYatFa14Gr2sK8467wqlKa5NTExMTKYdO6vaqKrv
YcOymWMa5zmkhfnf/Y/S5Gvhypz1bJh96Zjte6xxyHaS7UmUte+jNdjEx/PXsauqgyPNfawpyrig
FlKIXOP9NV1ctnQGc7LOLwlyf3iAxw48g122c2fhLVimoGvB+RJnjWVZRimrMpfhlB20+zuo9h5h
W8sudreXo+gKqY4UHBYbi+enUt3opeJINz39IRbNTRlRYPf5wpR52nllWz1Pvunh3X3N1DT1ElY0
CnOTuHL5LG66fD7JF9CyOhJ/OfImbzVuIcuVwX2ld+EaRXzvqYYsSriT5rIkvYTmgVYquz2Ute1j
VtwMkuxndvdIiXcQDKvsr+3CH1IpOc/wk6a4NjExMTGZdvx1VyMtXX4+c+lcHLaxEWyarvG7A09z
2FvLiowlfHr+dZMWFWS0ZMVk0BXoprLbQ2aKgyRhBhVHusbEb/QvW4/S2u3n5ivmn3dL+Ms1r1Lb
e5Tr517D3ISJySY50ThkO/MS87h4xhrmJuSi6Rp1vfVUdnt4u/E9mgZacFntbFiUT9XRHspruwiE
IkJZEAR0w6C+rZ8t+5p5/p1annurmj3VnTR3+kiIsbKyIJ3r1uZx6wY3a4oyyc2MG7N7fjh/PfoO
rx7dRKojma+WfpE4a8yYH2MicVkiriKSIHGgq4rtLWUYwNyE3DM+1+6ZCeyt7qS8tovMZCfZqed+
Hc4krj881UsTExMTkw8VdS19xMdYSYwdmy5rwzB47vBLHOiqYkHSfG7O/9SUF9aD3Dj/Omq9dWyq
38wXV9xJ9TE7r247SmFu0nknF1FUncr6HtITHaQnnl/rZauvnfebd5DmTGFt1orz2sd0QhRE8pPm
kZ80jwHFx67WvXzQvJN9HRXs66ggwRbPklWLCWyzsamsEUXTUTWditouen3h6D4E5s9MoHhuMsVz
UshKdk7Ifbj52Fb+78jrJNoSuG/R3ROWHGm8EQWRj+VexvzEOfz+4LO8VreJwz013LHwsyTaT/9s
WGSJuz6+kB8/s4ff/Pkgmm6wqiBjzGwyW65NTExMTKYcPf0h/u/9OhbmJLJi4dj803vt6N94u/E9
ZsZm86WSz59XQorJwiLK5MTNZHtrGTW9tdy05FK2H+igvKaTQEgj1mEh1mk5J5Hmaejhvf0trCrM
oCjv/JLHPHPoBVr97dyc/ykyY8ZOnEwHrJKV3PhZrMteSWHKAgQEGvqPUd1bQyi+BntCL7XH+qmv
17HKEkvdaVyzKofbr3KzfvEM5s1IIM5pnRBhva2ljI2ePxFrjeEfF99DqvPCkwVNNZLsCazMXEJH
oIvKbg87WnaT5kwlw3X6GOHxMTbycxLZdaiDnZVtJMXZyEkffYXDdAsxMTExMZlWVNX3sLOqndWF
GWOS9nlr8w7+VPMKyfYkvlJ6DzHWsfPhnigirXAG5Z2VGBY/q2eUUn6km6r6Ht7Z28TOqnZ6fSFc
dgtxrrOLtrd2H6O2uY/r1+WSdh4t1zXeOv6v9jXmxM/m+jlXT5tegLFGEAQSbPEUpSzkkplrSXOm
4FN8dOnNSEltxM5qZu3iJK4ono87Kx2LPLrQcWPFnvZynqzciEt28pXSu8l0pU/o8ScSi2RhcVox
cbY4DnRVsqttLwNhH+7EOUinCdmXFGunMDeJXYfa2VnVTrzLyuxRJqwyxbWJiYmJybTigwOtVB/r
5epVOaQljJyKejRUdFbyROVzOC0Ovrr4nknPPnch5MXPxtNTQ2W3hxVzcrlj/XJmpkX8RY+29lNV
72Xzvma2V7bR6wvjsluIH0Fo/+GtasKqxq1XupHEc4uYYBgGjx58mt5QH3cW3jJi9/tHDVmUmBGb
xaqsZSxJK8EiyrT4WvH01PBu0wdU99QiCxKpjpTTir2x5kBnFb878DQ2ycp9pXcxMzZ73I852QiC
QE7cDIpTCqjxHuFg1yHKOyuZn5hHzGl8zBNibBTnJVPmaWfXoXacdnlUg3tNcW1iYmJics7UNvXS
0D5Acpwd6QKjUpyNoBqkM9BN00ALdb31bK9qpqcHbr58/gW19NX1NvDr8t8jCiL/sOgLzIgd+3jZ
E4koiMxPnMP2ljIOdh1iRVYp8zJTWbYgnSuWzmRWeiwCUN/Wz6F6L+/ua2b7wTZ6BkK47PKQ0G73
Bnj5vTqK8pJZXZh5znbsad/P5mNbWZxWzKWz1o39iX4IiLG6WJA8n0tmriXLlY5PDVDtrWVfxwHe
a95OX7ifJHviuPWiHO6p5TcVjyMKIl8q+Tx5CbPH5ThTlVhrDCszl+JTfBzs9rCtpYxYawwzY7JP
qWzGuayUzElh9+EOyg51YLWIzJtx5grjmcS1cK452qcyHR39H56TMTExMZkkevpDPPd2NTur2gFw
2WVWLsxgTXEGOemx59T9H9YU+sJ9eEN99Ib66A314g0PzvfRG50PaeFTvisoTi6fs5zStCJmxc44
Z7eDNn8HP9v9ED7Fzz3Ft1OUsvCcvj+V2dGymyerniPLlcGS9EVkuNLIdKaR4khGEiVCikZFbRdl
nnb213QRUjQAUuLtLM1PQ9MMNpU1cusGN+tLz601U9FVfrD9p3hDvfzbyq+R4vjw+e+OF+3+DrY2
72R7SxkDig+IRLZYk7WC0tQiLGOUyKWut4EH9z2Cqmt8sfiOKZcgaaLZ217BM4deIKAGWJxWzGfd
n8RpObVHrK3bzwN/2EtPf4jr1+XyiTUjR79JTY0d8YVkimtA6epEiotDtEyfwS0mJiYmY42q6Wwq
a+TP7x8lpGjkZcUxNzueHVEXA4DsFBdrijJZVZBOfMypUTzCmsLe9nK2teyiaaAFvxo44zFjLTHE
2+IikzWOBFscumLhlf37sCZ3oAsqAMn2JBanFbM4rZiZsae2PJ1MX7ifn5b9L13Bbm5yf5I12R+u
SBaGYfDMoRfY1rLrhPWyIA0N4spwpZPpSifZmkJbq8i+w13srekkFNaGtn/g3lWkxJ/Z7UY3dIJq
CL/qx6f42dtewaaGzayfuZZPzfvEuJzfhx1FVynvOMjW5h14emoAcMlOVmQuYU3WcjJG6Rc9+NsE
1AB+NUBADeAN9fH84f8jpIW4s+BmFqUVjeepTBu6Aj08XvkHjvQeJdmeyB0FN5EXn3PKdh3eAD/5
w146e4N8fHUON6zLO+37xhTXp0EPBujbsYPed98h1FCP6HAQu2w5sStX45g7D+Ec/c9MTExMpjOV
R7t5ZtNhWrr8xDgsfOqSOawtzkQUBDRd58CRbrZWtLCvphNVMxAFgcK8JNYWZVIyN4WuUCfvN29n
R8vuIUGd7kwj0RZ/XDzb4kiwHp+Ps8aekEp6kK0VLTz6ahV/f3ke6TkD7Gkvp6Kzcqh1O8WeRGla
MYvTi0/bxRtUg/xi729o7G/i6tmXc03eleN/AScBwzDoCnbT4muj1dceKf3ttPraTukJEAWRVEcy
6Y40RCWWng4r8TYXSxYm4FMD+JWIcPap/pPmA/gUPwYn/nt1yA6+t+p+YizTb2DoVKPd38kH0dbs
fmUAgDnxuRSnLkTVNfyqn4ASxD9MQPuVSBlQg6f8NoPctuAzrMhcMpGnMuXRdI3Xj/6NN46+jSAI
fDz3Si6fdfEp/u9dvUF+8oe9tHsDXLV8Fjeun3PKe8YU11EMwyBUf5TeLZvp27EdIxQCUcS5YCHh
5ibUnh4A5JQU4lauJm7VaqzpH63QQiYmJh8thruACMAlpdnccFHeiAlFBgIKOyrb2FrRwtG2XqSk
VqzpxyCmG4i0RK/MXMqarBXnHe7r6b96eHtPE/9621LysiIj98OaQlW357RCe3F6CaVpRcyMyUY3
dH5d/nuqug+zOnMZN02jWNZjhWEYeEO9UdHdRouvnVZ/Gy2+NgJqcFT7EAURl8WJS3bitDiHzTtw
WVwUpywk6yMWem+8UXWV8s5Ktjbt4FBP9YjbWSUrTtmBU3bgkB04LXacsjO6bMdpcTIrdgZzPmI+
1ufC4Z5aHj/4B3rDfcRaYlieuZjVmctPCNvX0x/ipxv30tLl57IlM7jp8nknvEs+8uJaCwTo37GN
3i3vEmqoB0BOSib+oouJW7MOS2Iihq7jP1RF/7YP6N9TFhHegD0vj7hVa4hdtgIpZnpnMjIxMTEZ
5HQuILdcOZ/ZGWcPQ9Xu7+D95h180FRGQPMDoPUmo3XMIF3MY21R9ohuI6PhB0/soqFtgIf+38VY
5FN7EcOaQmW3h73t5ZR3VhIeFNqOZBJscdR46yhIzueeottHjMhgGAZa2Es42I4SaEcJdqCGupEs
sVjsKci2FCz2ZCz2FERp7FNQTwaGYdAX7qfFFxHaQTUUEc1Rwey0OHDJESFtk2xjWikxdBU13Isa
9mJoIQxDwzB0iJaGoQ3NR8oTPx8sJdmJZI1HtsZHywREaWySDE0lOvxdNA40YZdsOC1RER0Vz6fr
7TlfDF1FCXWjBjtRgh0ooS4MXUWyxCDJLsRoOXxZFMfGL3yyGQj7eKP+LXa27MGnRt5jefGzWZ21
nMVpxdgkK72+MD/duJemDh8XL8ri1g1uxOhz8ZEU14ZhEDpah/fdzfTv3I4RDoMo4ipZRMJFl+As
KBzR9UMPhRjYs5u+7R/grzwIhgGShKu4hLiVq3EVlyBaJvbmMnQdpbOT7ppG2o+2M9AbwGYBh03A
aZdwOCSsdiuC1YJosSBYBuetCBYLgtUaXW9BtDsQXa6PXGvOhw1tYIBwSwvh1mbCrS2EW1rQfD7k
xCQsKSlYkpORk5OxJKdiSU5GtH84BMJEYRgG2kA/Slsb4bbWoVLt7kawWpFcLkSnC8kVmUSXC8l5
vIyscyLaHefkZmboOoamYqgahqpgqBqoKgZGZP+Oc9vf6ag62s3TI7iAjISqq+zvOMj7zTs4HPUR
jbG4WJm5lJUZy2hvFU9xG0mOt2EYkVeogRGdP17qxvFrrQ/7LKRo5GbG8p3bl531XMKaQmXXoUiL
dlcVYS1MTtxMvlp6D7ZokhhN8aEE2wkH2lGGiWlDP3kQpQjopxxDlGOiQjsViy0Z2Z6CxZ6CZIkz
36NRDMNAU/pRwz2oIS9quAct7I3Oe9GUvnE7tiDZkC0JSNY4ZGsCsjUOaVgpyTEf+d9J10IowU6U
YCdqsAMlFJ0P9cAIbiUjIYjWqNiOQbS4kOQYpGgpSnYEUUYQ5EgpWoYtD85bQBCnzG8S8X8/wAfN
u4Z6DOySjSXpi1idtYwkKZ2fPbefhvYB1hRl8LmPLUAUhekrrt1utwg8BBQDIeALHo+ndqTtOzr6
Dc3vp3/Hdnq3bCbU2ACAnJxM/LqLiV+7Djnh3OKbqt4e+nZsp++DrYSbjgEgOl3ELltO3KrV2OfM
HfMbRO3rI9DYSEdtMx1NPXR7w3hDVgYs8ahnqKFLehibGsCqBbCpfmyqf2g+UkbmJUNBtFqRExOR
E5OQExIigmxwOTEJOTERKTb23ESBpqH7/Wi+ATSfD803gD7gG1oWJClyrITEoVKMmb4vPT0cRu31
ovb0oHm9qF4vam8PqteLNjCA6HAix8UixcYhxcUhxcQix8VFl2MRHWdPeWvoOkpXJ+GWFoLNLfha
2vC3dePv9hIKqqiiNTJJVhTRhiZaGOlFKVgsiDY7ov3USbDZkW1WnE4Zh13EYRWxWw0cFrAKGqgK
uqJghMMYioIeDkeEX3QZSUKKiUGKiT1exsaM6hwnGy0QOC6g29sIt7YSamvF1+nFr8gELDEE5ZhI
aYkhJLsQDB3RUJF0DdFQEQ0NydAQT7eMhmyRkK0yskXC0A3QNNAjk6FpoGkYuh5drwMGJ161yLJg
6AgYSHYbkt2G7LAjORyR0uVAdjqxuJxIThdyjBNLTAxSjAtrXAyyy4V3IHxOLiAQaUHb2rzjBH/Q
eQl5rM1eSUlqIZaTWtEG3Ua2HWylpz+EIICAECmFSAxaQRAYjOwnCsLx9URKUYQrls1k5TlkZtR1
hWCoh8aealJlGSHsJRxoQwl2oKu+k7YWsdhTsDjSIoLZkYbVnoZkTUBX/SihzmhLXidKqAsl2IkW
9p5yTEG0INuSoy3dSUiSA0GyIUo2RNE2NC9INkTRiiBOTDa+8cAwDHQtEBHKUfE8KKLVsBc13AuG
dppvCkiWOGRbQlT4JiDKDhAkBEFEEKSo0DpeCoIY/fzEeRDQVR9quG9IsKthL1p0+dTK0qAJIqIc
F73+MgiWiNiLziPIxycsUVssgBRdb8HmiMMek4DNPjUrVIauoak+dNWHpgyghnuj93FH5P5V+k/5
jig5IvdutLJosaVgsaciiJbIvpQBtOj+NHUATfGhhgdQw/3oqg/D8HP+V0I4RYCLkh1RdiJKTiTZ
gSi7kGRnZJ3siMxLkXlBGJ9xcV2Bbra1lLGtZRfeUC8AWa4MlqYtYfv7EvVNYVYuTOfOjy8gIz1+
2orrvwM+7vF4Pu92u1cA3/R4PNePtH3Zjx80+vbtQ1M1dNGCPX8BjpIlWGbORjcMNNVA0/ShSY8u
67qBbBGx2WRsdgtWu4wkC4R0g4CqMxBU6fWFCTbU4zi0j6SGg9hDkZe11xJDvy0Ow2LFsNrAZke0
2ZGdDmSnA6vLidXpxB7rxBEXgysuBme8C6vTCaJIuLWFgaONtNd30Nnhx+uDPjEWnzUeQxjWnWkY
xEhhEmNFUtJjiE9LIBBQCfjC+P0Kfr+KP6gTCOmElDNfVxEdi6EgaWFkNYishZH1yGSJlrIWRkbF
5rRhj3Fgj3PiSIxFtFgI+QIoviDhQJhwMIwSVFDCKopqoAkWNFFGFSPl4LIW7UaSdAVJV5F1BclQ
kdCwWGWsDitWpw2by4E11oktPgZ7Qhy2xHgcyYnITjuiKCLKIpJ0/jVewzBA1zE0DUNVI6JmcFLV
40JH0zAUBbW/D80bEcxqtFS8XkK9A4RCGmHJjiLZUKJlWIyUqmQbkrhC9PcbjoABgoBokRHkSI+C
YJEjPSKCSCigEA5rhFVQogJaH8OuwHNBMHSsWgCrGsCmBbAOq6xZtcg6ixZC1NXIb6qrCOiR8xZF
xKjYlmNPFN6DQhxBQA+FMEIh9Oh04nwwMh8OoweDqGEFJayhKRoIAoIkIkoSgiQiyBKiFJ1kCSQR
Q5QwENAEEV2UUBFRNTD8flRfkJAmHRfPw8qRrrfVJoNhoKqRd8e0wNCxakEsWjDy3AsK8Q6RGJeI
bDOQ7AaGQ0dxqvisGr2iilcK0yUFaQx3gCAMRTJYm7WC9BHSCY+52VFBpykDaEr/kHDQlP7oP/1+
NMWHpvZjaKHT7kOyJmC1p0WEtCMNiz0Niy0Z4RwTeOi6ghrsQgl1DRPenajBLgxDPYc9WQEZw7Bg
6BK6LqFrUnS9FVGIiPCIOLcjSTYkyYks25BsDmSLFckSqahJcuQeNYa9xxjs9dC0SA/I0Dvt+PrB
ZQQB0WZDsNoilWyLiCaHMQig40fVBtAU75CIHkm8irIzKpwTkW0JSHIcouBENFyIugUjrGKEw5Hn
ORyO2GAYGLqOqh1/llQt4q6kaZH/16pOZF4z0HTQ9MF1AooOmg6qJqDqoOoGhqAhWUJYrCEsliBW
WwibLYTDEcRhDyFJGpKkI4rn/9zqOiiKFUW1oWkOdN2OITgQBBeS7MJijcFijcXmiMXpsmF1WJBt
ViSrFUke/f8uwzAwdCVyz0eFbWTeN2z++HpdG9mXXrLEnVZEIzrQVJ1wWEMJa6iKRjioEAwo+HwK
/oEQvv4wvoEQ/oFIGQ4Nr0AZWK0KNlsYmzWMzaYgyyqSqCOKevRa65FlKVJKknbiZ5KOJBnIkoYs
q4jiqT1Hp14bUFULimpBUSKTgYRAtIImygiChChKiJI8NEmyBUmWkWULksUyVFqsdixWB7LVHhH4
kg1DkDnUU8MHzTup6KxEMzQkQcLqy8bbkMaizHz+/e4101Zc/zeww+PxPB9dPubxeGaMtP3TDz40
LidjYKALBoagowuReYuu4FDCOMMhBCMilI4fPDJvEG2qYajdKTIvRLcRREKSE1U6KQSgoSMKCoak
oloNFIeAbjUQpEgLUPRvqKtV1493p+oYGLqBoImgCQi6gBAtJV1E0EUkQ0A0QERAZLC1KGrlCSUI
gnFCOWSiIZxURs/phPLU7cYMY/AKG2BErvjxqz64LvKQCkZkXaTUh5YZXDdsX0PbEunL1gQJXZSj
FQUZXZRRBRnGqdZ88jkKaER/VXRRRxNBlUAXwRCMyCQCojG0rOo6erT18/htZ0SXDWRNw6ZpWFUd
u6ZhVTVsqo5gCKjDKkS6YEEXZHRkDCyATKTbfHS2g46AjmicPGmRFtjosiGAgYghRCZdEDGIltH5
ofUXet2H3nfGiL+hLuiogo4u6RiSji4ZCLIBFgNBhlM0twHowrDLLEQvtTC0LBjDPjuh2mUMK0/P
0KdG9Pln2OYGCHr0HtcNRN04vmxEzlfQo+8KQcIQZRBFIs+4EW0xjraSC5F1khGpJMmoSIYSfY6i
N9Lgu2voxhKi7z5hyFpDGP5ZZJ8I0ecqekxEPfreMRBEY2i7IXtEA9miYbFrnK3zTFMkVMWCrljQ
VCu6ZkUN2QkHHCh+G7ouYuhExVzkuY748BrRyjbR5aiYj55f9O5FNwbnBXRj2GeD6w2w2MPYHWEE
SY2ICFlHkjXkoUkdEg+yrGGRj8+fq9BTVRFFlVEVGUWRUVURwxAik84JJQbouhA9t+h6XYieM0iy
jt0ZxuEMY3eGsdpP1/IMmioS9FsIBawEAzZCQRvBgI2gz0LAb0FTpRNdfqJv2MF7wxh2nxgI6IKE
LkonNiCNAYKhI+oqsqGcUNmXovOCEfmfIAoRsSeKOqJkIMmRUhSN6O9nIEoGQlT4CbKB5BCRnQay
Xcdq17DaFSRp5N/OMCAUtqCELdFHJ3JfH38ODEQh8o4Wo8/I0PIo7wnDAE2VUcMyqmJBU2S0aKmE
ZPwDdgYG7IQVOVIpMUTUwQkJ/Ryuv0ULYtOC2PQANj2ITQ9i14PYjBB2I4TNCGEVFERAESQUZFQs
KEJkUgV52PxJpWhBEawYgCRpWCwqNpuCxaJisSpYLSpWq4LFqmKxqlitavSzyDQewd0i11ZC08RI
qQooKihqpBKoqAKfvOv7IwqbyWkKGz1xwHBHLc3tdosej+e0VZtb7vvS1OurMTExMTExMTEx+cgw
1YM59wGxw5ZHFNYmJiYmJiYmJiYmk81UF9dbgasB3G73SqB8cs0xMTExMTExMTExGZmp7hbyEnCF
2+3eGl3+3GQaY2JiYmJiYmJiYnImpvSARhMTExMTExMTE5PpxFR3CzExMTExMTExMTGZNvz/9u47
Os7rvPf9d9AGvQ9AAixg3SxgESlRYhEpqtkq7j6RY8eO7cSOj53YyUqW74mOl32d4yQ+J7GT+B5f
5Sz7OooTp1i23NUlikUSKZIiCZAEN0CwoJHoGPQ2M/ePmQFAEiRRXmAGmN9nLSxMe9/3AQZ455k9
z362kmsREREREYcouRYRERERcYiSaxERERERhyi5FhERERFxiJJrERERERGHKLkWEREREXGIkmsR
EREREYcouRYRERERcYiSaxERERERhyi5FhERERFxiJJrERERERGHKLkWEREREXGIkmsREREREYco
uRYRERERcYiSaxERERERhyi5FhERERFxSEKkAxjLGFMAHAceAPzA06Hvp4EvWGsDkYtOREREROTW
ombk2hiTCPwfoAdwAd8GnrTW7g5df18EwxMRERERua2oSa6BvwGeAq6Erm+x1h4IXX4eeDAiUYmI
iIiITFBUJNfGmE8Czdbal0I3uUJfYd1A1mzHJSIiIiIyGdFSc/0pIGCMeRDYDPwz4BlzfwbQcbud
DA/7AgkJ8TMToYiIiIhIkOtmd0RFcm2t3RO+bIzZB3wO+BtjzB5r7X7gEeDV2+2nvb135oIUERER
EQE8noyb3hcVyfU4AsCfAt8zxiQBZ4GfRDYkEREREZFbcwUC86e7XXNz1/z5YURERERRQ0miAAAg
AElEQVQkKnk8GTctC4mKCY0iIiIiIvOBkmsREREREYcouRYRERERcYiSaxERmRf8fj9vvPE6zc2N
kQ5FRGKYkmsREZkXrl5t4NSpdzhw4LVIhyIiMUzJtYiIzAsdHe0ANDZeobHxSoSjEZFYpeRaRETm
Ba+3feRyWdmJCEYiIrFMybWIiMwL4ZHrtLR0qqsr6enpjnBEIhKLomKFRmNMPPA9YDXB1Rk/ByQB
vwYqQw97ylr748hEKCIi0a6jo4OkJDdbt97NgQOvcuZMGdu27Yh0WCISY6Jl5PpxwG+t3QV8BfhL
YAvwLWvt3tCXEmsRERmX3++ns7OD7OxsjFmH2+3mzJkyfL7hSIcmIjEmKpJra+0vgD8IXS0BOoCt
wGPGmP3GmO8bY9IjFZ+IiES37u4ufD4fWVk5JCYmsnZtKX19vVRVVd5+YxERB0VFcg1grfUZY54G
/gH4EfA28GfW2j3ABeBrEQxPRESiWLjeOjs7B4DS0s24XC7Ky98hEAhEMjQRiTFRUXMdZq39pDGm
EDgC7LDWNoTu+jnwndttn5OTSkJC/EyGKCIiUejixT4AFi9eiMeTgceTgTGGc+fO0d/fwZIlSyIc
oYjEiqhIro0xHwcWWWv/GugD/MCzxpg/stYeBR4Ajt1uP+3tvTMbqIiIRKW6uqsAxMUl09zcBYAx
Gzh37hwHDrzBu96VE8nwRGSe8XgybnpfVCTXwE+Ap40x+4FE4EtADfBdY8wQcAX4bATjExGRKBbu
cZ2VNZpEFxUtIi/Pw4ULVXR1dZGRcfMXQxERp0RFcm2t7QOeGOeuXbMdi4iIzD0dHe2kpKTidrtH
bnO5XGzceAf79r3E6dMn2b793ghGKCKxImomNIqIiEyFz+ejq6tzZDLjWKtWrSE5OYWzZ8sZHh6K
QHQiEmuUXIuIyJzW2eklEAiQlZV9w30JCQmsW7eBgYF+KivPRSA6EYk1Sq5FRGROC9dbjzdyDVBa
uom4uDjKytSWT0RmnpJrERGZ08I9rsdOZhwrPT2D5ctX0dbWSkND7WyGJiIxSMm1iIjMadcvIDOe
jRvvAKCs7MSsxCQisUvJtYiIzGlebwcAWVlZN31MYeFCCgoKuXixms5O72yFJiIxSMm1iIjMaR0d
7aSnZ5CQkHjTx7hcLjZsCI5el5efnK3QRCQGKbkWEZE5a2hoiJ6e7luWhIStXGlITU2jouI0Q0OD
sxCdiMSiqFhEBsAYEw98D1gNBIDPAQPA0wSXQz8NfMFaq6neIiICjJaETCS5jo+PZ/36jRw9+hbW
nqW0dPNMhyciMcjR5NoYUwB8BBh7lgtYa/9iAps/DvittbuMMXuAvwrd/qS19oAx5ingfcDPnYxZ
RETmrtt1Crne+vUbOX78bcrKTrJ+/SZcLtdMhiciMcjpspDngOuHAiZ05rLW/gL4g9DVEqAd2Gqt
PRC67XngQQdiFBGReWK0U8iNC8iMJzU1jVWrDB0dbdTWXp7J0EQkRjldFhKw1n56qhtba33GmKeB
9wP/BXhozN3dwM2nggM5OakkJMRP9fAiIjLHDAx0A7B8+WJyczMmtM3u3Tux9iznzpWxdeuGmQxP
RGKQ08n1z40xnwFeBYbDN1praya6A2vtJ40xhcDbQPKYuzKAjltt297eO7loRURkTrt6tYm4uDiG
huJpbu6a0DaJiRksWFDE+fPnqaqqmVC9tojIWB7Pzd/MO10WkgV8m2ByvX/M120ZYz5ujPnz0NU+
wAccC9VfAzwCHBh3YxERiUlebzuZmVnExU3u5Wzjxi0AlJdrURkRcZbTI9cfBgqstX1T2PYnwNPG
mP1AIvAl4BzwPWNMEnA29BgRERH6+/vo7++nsLBo0tsuW7aCtLR0zp07w7ZtO3G73TMQoYjEIqeT
62ogF6if7IahhPyJce66b5oxiYjIPDTahm9ikxnHio+PZ8OGzRw+fIhz586wadMWp8MTkRg1E32u
zxpjTgPhDv0Ba+39M3AcERGJYZNtw3e9des2cPToW5SXn2DDhs2TLi0RERmP08n1XxJcACbcfk8L
voiIyIzwesNt+KaWXCcnp7B69VoqKk5TU3ORkpIVToYnIjHK6bfpVcBj1trXgRrg9wnWTYuIiDiq
oyNYFjLVkWuAjRvvAKCsTBMbRcQZTifXPwIuhC7XE+zu8S8OH0NERISOjnYSEhJIT0+f8j7y8jwU
Fy+mrq6GtrYWB6MTkVjldHKda639RwBr7YC19nuAx+FjiIhIjAsEAni97WRlZU97CXONXouIk5xO
rvuMMY+GrxhjHiS4sqKIiIhjent7GBoamlZJSNjSpcvJzMyisrKC/v6pdJIVERnldHL9B8DfGGNa
jTGtwN8C/9XhY4iISIwLdwpxYnXFuLg4Sks3Mzw8zPnzdtr7E5HY5mi3EGvtSWC9MSYfGLLWeiey
nTEmEfgBsBRwA98A6oBfA5Whhz1lrf2xk/GKiMjcNNrj2pmly5csWcqbb0Jzc5Mj+xOR2DUTfa6x
1k52VsjHgGZr7ceNMTnAKeDrwLestd92PEAREZnTRntcT34BmfFkZeUQFxdHa6smNYrI9MxIcj0F
zzC6tHkcMARsBYwx5n0EW/z9sbVW9dsiIjLtHtfXi4+PJycnj7a2FgKBwLQnSYpI7IqK5aistT3W
2m5jTAbBRPu/A28Df2at3UOwvd/XIhmjiIhEj46ODtxuN8nJKY7tMy8vn+HhYTo7Oxzbp4jEHkdH
ro0xW4AngVzGrNI4keXPjTGLgWeB71pr/8MYkzWmZvvnwHdut4+cnFQSEuKnFryIiMwJfr+fzs4O
CgsLKSjIdGy/S5YUU1lZwdBQDx7PEsf2KyKxxemykB8C/wicYXTp89sugW6MKQReAj5vrd0XuvkF
Y8wXrbVHgQeAY7fbT3t775SCFhGRuaOz04vP5yMtLZPm5i7H9pucnAHAxYu15Ocvcmy/IjL/eDwZ
N73P6eS6x1r7v6ew3ZNAFvBVY8xXQ7f9MfB3xpgh4ArwWYdiFBGROczJNnxj5ebmA2hS4wwqKztB
Xl4+xcWLIx2KyIxxOrl+0RjzReAFoD98o7W25lYbWWu/BHxpnLt2ORueiIjMdU5PZgxLS0vH7XZr
GfQZ0th4hUOH9lFQUMiHP/yxSIcjMmOcTq4/QbAM5E+uu32Zw8cREZEYNdqGz9nk2uVykZfnoaGh
jqGhIRITEx3df6wLLy/f2tqCz+cjPl5zpGR+cnoRmRIn9yciInK90QVknOlxPVZeXj4NDXW0t7dS
ULDA8f3Hqt7eHqqrg2vC+Xw+2tvbyM/3RDgqkZnhSHJtjPm6tfZrxph/IjhyPbZBaMBa+2knjiMi
ItLR0U5KSipJSW7H9z227lrJtXPOnCnD7/eTn++hpaWZlpYmJdcybznV5zrcyWP/Tb5ERESmzefz
0dXV6Xi9dVheniY1Os3n83HmTBlJSUns2LEH0DLzMr85MnJtrf1V6PvTTuxPRERkPJ2dXgKBwIwl
1+GRa01qdM6FC1X09vawceMdLFiwEJfLRUuLkmuZv6JihUYREZGJGJ3M6Hy9NUBSUhKZmVm0tjbP
yP5jUXn5SQBKSzeTkJBITk4uzc1NBAK3XQZDZE5Sci0iInPGTPW4HisvL5++vj56e3tm7Bixorm5
katXG1iypGTkOcvPL2B4eGjkuRSZb5ya0HjLdWJv1+daRERkImaqx/VYubn5XLxYTWtrC6mpaTN2
nFgQHrXesOGOkds8nkIqKytoaWkiJyc3UqGJzBinWvEd4NbLnN+yz7UxJhH4AbAUcAPfACqApwE/
cBr4grVWnyGJiMSw8GhnZubMlIUA5OUFu1i0trawePHSGTvOfNfX10tV1TmysrJZsqRk5HaPpwAI
jmqvWrUmQtGJzBynJjSWTHMXHwOarbUfN8bkAKeAE8CT1toDxpingPcBP5/mcUREZA7zetvJyMgk
IcHpNdBGhTuGaFLj9Jw9exqfz0dp6WZcrtEOveEWfOoYIvOVU2Uh4/W3DptIn+tngJ+ELscBQ8AW
a+2B0G3PAw+j5FpEJGYNDQ3S09PDokUzO5qclZVNfHy8JjVOg9/v58yZUyQkJLJmzfpr7ktKcpOV
lU1LS3BS49jEW2Q+cOqt/35ukVzfbmNrbQ+AMSaDYKL9FeBvxzykG8iafpgiIjJXzeTKjGPFxcWR
m5tHW1srfr+fuDjN/Z+sixfP093dRWnpJtzuGxf78XgKOX/e0tXVSWamXt5lfnGqLOTp8GVjTB6Q
RjDRjuc29dZjtlsMPAt811r778aY/zXm7gyg43b7yMlJJSEhfhKRi4jIXNHUFJwbX1y8AI8nY0aP
VVS0kObmJuLjh8jPz5/RY81Hv/lNOQC7d+8c97kqKVnM+fOWwcEuPJ5Fsx2ejGN4eJiqqioyMzMp
Li6OdDhzmqNFa8aYvwY+DyQCrUAx8Brw6m22KwReAj5vrd0XuvmEMWaPtXY/8Mjt9gHQ3t47jehF
RCSa1dRcASAhIZXm5q4ZPVZaWnA0tarqMoGA88usz2ctLc1cvnyZRYuWAMnjPlcpKcHfb3X1ZfLz
lVxHSiAQoKGhjsrKCqqrKxkcHCQ5OYVPfepzKte5jVu9wXd6RshvA0uAfwD+R+jyRyew3ZMEyz6+
aoz5aui2LwHfMcYkAWcZrckWEZEYNNqGb2bLQmC0Y0hbWzOwesaPN5+cPn1j+73rje0YIrOvra2V
ysoKqqrO0dXVCUBaWjppaem0t7fR2toyMvFUJs/p5PqKtdZrjCkHNltrf2qM+cvbbWSt/RLBZPp6
9zkcn4iIzFEdHe3ExcWRkTHzNbrhjiGtreoYMhn9/X1UVlaQkZHJ0qU3rwpNTk4hIyNzZKVGjZLO
vN7eYGvEysqKkTc1iYlJrFmzntWr11JUtIjKygpee+1F6utrlVxPg9PJtdcY83HgHeCPjDENQIHD
xxARkRjk9baTmZk1KxMMU1JSSU5OUXI9SRUVZxgeHqa0dPNtn6f8fA8XL1bT29tDWlr6LEUYW4aG
hrh0qRprK6itvTTyRmbJkmUYs5aSkhUkJiaOPL64eDEADQ21bNq0JVJhz3lOteJLt9Z2A78HfMRa
+y/GmMeBfyTY+UNERGTK+vv76O/vp7CwaFaO53K5yMvLp76+lqGhQRITk2bluHOZ3+/n9OmTJCQk
sHbt+ts+3uMp5OLFapqbm5RcOygQCFBfXxuqo65iaGgQCP6+jVnLypVrSE1NHXfbjIxMMjOzaGio
0ycK0+DUyPU+4C7gv1trPw9grf1Th/YtIiIxLrwy40wue369cHLd1tZKYeHCWTvuXHX58kW6ujpZ
t24Dyckpt318fv5o3XVJyfKZDi9mvPLKc1RVWSCYLG/ceAerV6+d8FLzRUWLOHfuDC0tzSO18TI5
TiXXGcaYHwHvNsYkc22/64ksIiMiInJT4R7XWVkzP5kxbHQZ9GYl1xNQXn4CgA0bNk/o8eHEraVF
KzU65cqVBqqqLPn5BezadR8LFxZPevS5uHgx586doaGhVsn1FDmVXD9McPLhLoILylyTXDt0DBER
iVGRGLnOzdWkxolqa2ulrq6GoqJFI29KbictLZ3U1DQtg+6QQCDAkSOHALj33r0sXDi1XtVFRcHW
iPX1dWzatNWx+GKJU4vI1AA/DPWrftZaO7MNSEVEJKZEJrnOA5RcT8Ro+72JjVqH5ecXUFNzkb6+
PlJSbl9KIjdXW3uZhoY6li5dNuXEGq6tu9YKpVPj9G9sBfCOMeZVY8wfG2NWOrx/ERGJQV5vBwkJ
CbM68S0xMZGsrGxaW1sIBPQh7M0MDg5g7VnS0zNYtmxyL/sqDXFGcNT6DQDuvnvXtPdXXLyYwcEB
Wlubp72vWORocm2t/Zy1dhXwhwRXaXzdGHPOyWOIiEhsCQQCdHS0k5WVPevdC/Ly8hkY6Ke3t2dW
jzuXnDt3hqGhIdav3zTpUU4tJuOMCxeqaG5uZOVK40h/6rGlITJ5Ti9/fhewh2D99XrgKBNYtnzM
9ncD37TW7jXG3AH8CqgK3f2UtfbHTsYrIiLRr7e3h+HhoVktCQnLzc3nwoXztLY2q13cOAKBAOXl
J4mPj2fdug2T3t7jKQRQ3fU0+P1+jhx5E5fLxbZtOxzZZ7jfdX19LZs3q+56spxeROYNoA34e+C3
J1N7bYz5MvA7QHfopq3At62133Y4RhERmUPC9dZZWbOfXI92DGlhyZKbrzgYq2prL+H1drBmzfop
1Uynp2fgdrtVFjINlZUVdHS0sW7dBsfegKanZ5CVlc2VK6q7ngqnf1s5wCdD3180xhwwxvzVBLc9
D3yQ0U4jW4HHjDH7jTHfN8ZoyEBEJAZ5vbM/mTFMy6DfWlnZ1CYyhrlcLjyeQrzeDgYGBpwMLSb4
fMO8/fabxMfHc+ed9zi676KiRQwODuqNzxQ4XXPdA7xJcAT7OLAA2DbBbZ8FhsfcdAT4M2vtHuAC
8DUnYxURkbkhkiPXmZlZJCQkKLkeh9fbTk3NRRYsKBop75iK8GIySuIm78yZcrq7uygt3Ux6eoaj
+x4tDVHd9WQ5XXN9GCgCXgKeA56cRlu+n1lrvaHLPwe+c7sNcnJSSUiIn+LhREQkGvX1BasFV6xY
RFpa2qwfv6CggMbGRnJzU4mP12tM2PHjwe4UO3dux+OZemK3YsVSTp48Rl+fF49nnVPhzXuDg4Oc
OPE2SUlJPPTQXsf/N9zuNbzyyvO0tFyZ1vMbi5yuuf4CUA4YIB7om8a+XjDGfNFaexR4ADh2uw3a
23uncTgREYlGTU3NuN1uenp89PbO/jIKmZk5NDQ0cP58zcjCMrFuaGiQEydOkJqaRn7+Ipqbp/68
uN2ZAFy6VMvKlaVOhTjvHT9+hJ6eHu688x56e/0z8L/hIisrm0uXLtPY6FXd9XVu9YbD6d+UC6gE
/hn4J6DWGDPZIqBwM9HPAX9njNkHbAe+4ViUIiIyJ/j9frxeL1lZObPehi9s7KRGCbK2gsHBQdav
3zjt0fysrGwSExPVMWQS+vv7OXHiGMnJyTPazaO4eDFDQ4N6bibJ6ZHr7wBPWGuPAIQS6+8w8brr
S8CO0OVTBJdTFxGRGNXd3YXf7yMrKztiMYyd1LhqVcTCiBrh9ntxcXGsX79x2vtzuVzk5xdw9WoD
Q0NDJCYmOhDl/HbixFEGBwfYsWM3SUnuGTtOcfFizp4tp6GhlsLCBTN2nPnG6ZHrtHBiDWCtPQwk
O3wMERGJEZFY9vx66hhyrfr6WtrbW1mxYjWpqc7U+Xo8BQQCAa0IOAG9vT2Ul58gLS2N0tJNM3qs
0cVkamf0OPON08l1uzHm/eErxpgPAK0OH0NERGJENCTXKSmppKam0dam5BqgvPwEABs33uHYPvPz
g91G1DHk9o4dO8zw8DB33rmdhISZHeVPS0snOzuHK1fq8fv9M3qs+cTp5PqzwJPGmFZjTBvwJMHa
aRERkUkL97iORBu+sXJz8+nq6oz5Xsy9vT1cunQBj6eQwsKFju13dBl0Jde30tnp5ezZcjIzs1iz
Zv2sHLOoaDFDQ0Naon4SnO5zXWmt3QYsAZZaa++y1lonjyEiIrFjdOQ6cjXXMFoaEuuj15WV5wgE
Ao4ndjk5ucTHxyu5vo2jR9/C7/ezbduOWWsLWVys0pDJcrrP9RaCo9W5gMsYAxCw1t7v5HFERCQ2
eL0dpKamzeikrYkYW3e9cGFxRGOJJGvPEhcXx8qVxtH9xsXFkZfnoaWlCZ9vmPh4p/stzH1tbS1Y
e5bc3HxWrVoza8cNLybT0FDHli0T6k8R85z+6/0h8I/AGUZb6gVu/nAREZHx+XzDdHV1smBBUaRD
0aRGoKWlmdbWZpYtW0FKSorj+/d4CmhqukpbW+u0Vnycr44ceROAe+7ZOattKVNT08jOzqWhoR6f
z6eFlCbA6eS6x1r7vx3ep4iIxCCv10sgEIjoZMawnJxcXC5XTJeFWHsWAGNmZhXFsXXXSq6v1dh4
lYsXz1NYuJClS5fP+vGLixdz5swpmpsbo+LNbrRzOrl+0RjzReAFoD98o7W2xuHjiIjIPBeezBgN
yXVCQiJZWTm0trYQCAQitqBNpPj9fqqqzuF2J7N06bIZOUa4Y4jqrm905MghAO65Z1dE/vaKixdx
5swpGhrqlFxPgNPJ9ScIloH8yXW3T+g/0RhzN/BNa+1eY8xK4GnAD5wGvmCtVYmJiEiM6OjoAIjo
AjJj5eXl09HRRnd3FxkZmZEOZ1bV1V2mt7eH0tJNM1YPnZeXR1xcHC0t6koxVl1dDXV1NSxevHSk
/nm2je13rbrr23P0P8RaWzLVbY0xXwZ+B+gO3fRt4Elr7QFjzFPA+4CfTztIERGZE6Jp5BqCyXV1
dSWtrS0xl1yfOzezJSEA8fEJ5Obm0dragt/vJy7O6W7Bc08gEBgZtb777p0RiyM1NY2cnDyuXFHd
9UQ49pdrjHmPMWZ56PIHjDG/Nsb8hTFmogn8eeCDQPjzji3W2gOhy88DDzoVq4iIRL9wG77MzOgZ
uYbYa8c3MDDAxYvnyc7OoaBgZpfAzs8vYHh4mI6Othk9zlxx6dIFGhuvsnz5qhn/3d9OcfEihoeH
1e96AhxJro0xfwZ8DUgxxmwEfkRwlDkD+NuJ7MNa+ywwPOamsUVF3UCWE7GKiMjc4PW2k5GRSUJC
dLRly80NdwyJrSW6q6sr8fl8GLNuxut9wxMZVXc9OmrtcrnYtm1HpMOhqChYkqJ+17fn1BnrE8B2
a22PMeabwC+std83xriAiinuc+w6mxlAx+02yMlJJSFBH1WIiMx1g4OD9PT0sHz5cjyejEiHA0B+
fjpJSUl4ve1RE9NsuHixEoDt2+8iK2tmf+5Vq0o4eBC6u2PrdzyesrIy2tpa2bRpE8aURDocUlPX
8NJLv6a5+UrMPze341Ry7bfW9oQu7wWeArDWBowxU52EeMIYs8daux94BHj1dhu0t/dO8VAiIhJN
wiOXqakZNDd3RTiaUTk5eTQ3N3L1akdM1J12dnq5fPkyxcWLGRyMm/HnIj4+DYDa2rqoet5nm8/n
49VXXyMuLo4NG+6Mmt9Fbm4eNTU1MfP3fyu3eoPhVM31sDEmxxizCLgDeBHAGLMEGJrkvsLJ+J8C
XzfGvEnwTcBPHIpVRESiXHgyY1ZWdExmDMvLy8fv99PeHhs1wTPd2/p6iYmJ5OTk0tzcTCAQuw3C
KipO09npZf36jWRmRk9VbFFRsO66qelqpEOJak6NXH8TOAEkAt+31l4xxvwX4K+Bv5joTqy1l4Ad
octVwH0OxSciInNIeDJjtHQKCRs7qTE/3xPhaGZWIBDA2rMkJCSwfPmqWTtufn4B7e1teL0dUff8
z4a+vj6OHHmDxMREtm69O9LhXKO4eDGnT5+ivr6OhQuLIx1O1HIkubbW/sQY8xaQb609Fbq5F/h9
a+3rThxDRESi2/DwMFevNlBXV0N9fS2ZmVls334v6emTr8+M1uT62kmNayMbzAy7evUKnZ1eVq9e
S1JS0qwd1+MppKrqHM3NTVH3/M+Gw4cPMjDQz86de0hNTYt0ONcIT2psaKgFoivxjyaOTcG21tYD
9WOu/8apfYuISPQJBAK0tDRTV3eZuroarlypZ3h4tOlTY+MVLl26wN1376S0dNOk+hZ7vR3ExcVF
XT/p8Mh1a+v8b8c32yUhYeFl0FtaGlm1yszqsSPt6tUGKipOk5eXz4YNd0Q6nBukpKSQm5vP1asN
+HzDM7ag0Fyn34qIiExYV1cntbWXR1aN6+/vG7kvNzePxYuXsmjREhYuXMT585a33jrAoUP7qKw8
y333PUR+fsGEjtPR0U5mZlbULSSSnJxCWlr6vE+uh4eHqa62pKWlzfqqgOFym1hrx+f3+9m/P9i7
YffuB6Lubz+suHgRbW0tNDU1qjTkJpRci4jITQ0M9FNfX0ttbQ11dZfxeke7oqalpWHMupGE+vqP
sNet20BJyXLeeGM/VVXneOaZH7Fx4xa2bdtBYmLiTY/Z39/HwEA/CxcWzdjPNR15efnU1Fyiv7+f
5OTkSIczIy5fvsDAwADr1m2Y9STP7U4mMzOLlpYmAoHAjPfWjhbl5SdpbW1mzZr1UZ20FhUtprz8
JPX1tVEdZyQpuRYRkRsEAgEOHHiVs2fLR7o2JCYmUVKynEWLgsl0Tk7ubROf1NQ0HnroUYxZx4ED
r3Lq1HGqqyvZvfsBSkqWj7tNuN462jqFhOXmBpPrtrYWiooWRTqcGTEby53fisdTSHV1Jd3dXVFX
GjQTenq6efvtN3G7k9m+fXekw7ml4uLg33x9fS133nlPhKOJTkquRUTkBufPW86cKSMrK5vVq9ey
aNESCgoWTLm37ZIlJXzkI5/g2LEjnDx5jOee+zkrVqxi1669pKWlX/PYjo7g6Hi0TmYbW3c9H5Pr
3t5eamou4vEUjkzgnG0eTwHV1ZU0NzfFRHL9xhv7GRoa5L77HiQlJSXS4dxScnIKeXmqu74V/UZE
ROQavb29HDz4GgkJCTz++AfJysp2ZL8JCYncc88uVq1aw/79r1BdXUVt7WXuuWcX69ZtHCk/CPe4
zs525rhOy8sL1gTP12XQq6rOEQgEMCZy3VDCtfktLY0sX74yYnHMhtray5w/byksXMDatRsiHc6E
FBUtprW1hcbGq/PyDeZ0RWe1vIiIRMzBg6/R39/P3XfvciyxHisvL58PfOAJ9ux5EHBx4MBr/Oxn
/0FLSzBZjfaykJycHFwu17yd1FhZeZa4uDhWrlwTsRjCyfV8n9To8w1z8OBruFwudu9+cM7Ul4cn
udbX10Y4kugU9SPXxph3AG/o6gVr7e9FMh4RkfmsurqK6upKCgsXsmHD5hk7jsvlYv36jSxbtoJD
h17n/HnLM8/8K5s3b6WtrZWEhIQbykWiRXx8Ajk5ubS1tcy7CXetrS00NzdRUpaC2r4AABxcSURB
VLKc1NTUiMWRmppKWlr6vE+uT5w4TkdHOxs23DHSgnAuKCoKTmSsr6/lrru2Rzia6BPVybUxJhnA
Wrs30rGIiMx3/f19HDjwKvHx8dx//7tmpUtEamoaDz/82MiExxMnjgHB0otoTlpzc/Npa2ulq6sz
qpannq7KyshOZBzL4ynk0qVqenq6o/aN1nR4vR0cP36Y1NQ0tm3bEelwJiVYd+2hsfEKw8PDJCRE
dTo566K9LGQTkGqMedEY86oxRssBiYjMkEOHXqevr5e77tpOTk7urB576dJlfOQjv8sdd9yJy+WK
2jZ8YaN11/OnNMTv91NZWYHb7b5pJ5fZNLqYzPwbvQ4EAhw8uA+fz8fOnXtwu92RDmnSiosX4/P5
aGy8EulQok60J9c9wN9Ya98FfA74kTEm2mMWEZlzLl26QGVlBR5PIZs33xmRGBITE9m+fTef/vTn
2blzT0RimKjRjiHzZ1JjXV0NPT09rFxpoqIDRDi5no+lIRcvVlNTc5Hi4sWsXDk3V6Ec25JPrhX5
/55bqwTOA1hrq4wxrcBCxiyzPlZOTioJCVNrEyUiEqv6+/s5ePBV4uLi+NCHPkBhYaTLHDIifPzb
S0xcCkBPjxePJ/rjnYiDB6sAuPvuO6PiZ3K7l/Pcc9DZ2RYV8ThlcHCQN998nbi4ON7//veSnz83
Ww2mp6/h+ed/SXPzlXn1/Dgh2pPrTwEbgS8YY4qATOCmnz+0t/fOVlwAtLW1cvToW8TFxZGVlUVG
RhaZmcGvtLT0qF26VERkrH37XqKrq4u77tpOXFwqzc1dkQ4p6gUCcSQlJdHQcGVe/L4GBwepqKgg
KysbtzsrKn6mQABSUlKpr2+YsXgCgQADA/309/fT3983zvc+/H4/paWbKChY4Mgx33rrIJ2dnWzZ
so1AwB0Vv+upys8voK6ujitX2mOu7vpWbyii/Tfx/wH/ZIw5ELr+KWutP5IBhV250sBzz/2MgYGB
ce+Pi4sjPT2DzMxsMjMzR5LucAKenJwc1ZN1RCQ21NZepqLiNHl5HrZs2RbpcOYMl8tFbm7+vJnQ
deFCFcPDwxizLmpem1wuFx5PQWip+T6Sk6e2uMrg4ABlZSfo7PTekDwPDPSPrEB6K9aeZcOGzWzb
tpOkpKQpxQHBQblTp46TkZHJ1q1zfxpZcfEiWlqaaGxsoLh4SaTDiRpRfTaw1g4DH490HNe7dKma
l176DT6fj717H6a4eDGdnd5rvrq6vHR2dlJXd3ncfSQmJpGTk8P27btH+kWKiMymwcFBXn/9ZVwu
F/ff//CUV1+MVeFV6trb2+ZUG7XxnDt3BoDVqyO3cMx48vODyXVLSzOLFk0+efN623nuuV/Q3t42
cpvL5SI5OZnk5BRycnJJTk7G7U4mJSWF5OSUGy53d3dx6NA+yspOUF1dxe7dD7Bs2YpJxxIIBDhw
4FX8fj/33ruXxMTESe8j2hQXL+bUqXeor69Tcj1GVCfX0aii4jSvv/4y8fHxPPLI+0ZmVN+sFdPQ
0CCdnZ10dXnxekeT7s7ODpqbm/jlL3/CPffcy+bNW6NmtEBEYsPhwwfp6upk69a78XgKIx3OnDO2
Y8hcTq67ujppaKijqKg46toKjk5qbJx0cl1XV8OLL/6KgYEBNm7cwoYNm3C7U3C73ZN6vc3NzeO3
fuvjvPPO27zzzts8//wvWL58Jbt27SU9feK1xpWVFTQ01FFSsoKSkskn59Fo4cLRftcySsn1BAUC
AU6cOMrhw4dwu5N57LH3s2DB7VtFJSYmkZeXPzKzfKwrV+p58cVf89ZbB2hsbGDv3nfNyXY8IjL3
1NfXcvr0KXJycrnzzrn/8XQkRLJjiN/v59Klanp7ezFmLYmJUy9VsLYCAGPWOxWeY6ayUmMgEOD0
6VMcOrQPl8vF3r0Ps3Zt6bTiSEhIYNu2Haxcadi//xUuXDhPbW0N99yzk/XrN912jtXAQD9vvnmA
hIQEdu26b1qxRBO3OxmPp4DGxqsMDQ3Ni9F4Jyi5noBAIMChQ69TXn6C9PQMHn/8g+Tm5k17vwsX
FvNbv/U7vPTSb7hw4TytrS28+93vHTcRFxFxytDQEPv2vRQqB3lXVLRdm4vCrwNtbbPX67qnp5uz
Z8s5e7aMnp4eAI4dO8y2bTtYs2b9pCfSBwIBKivPEh8fz4oVq2Yi5GnJzMwiKck94V7XPp+Pgwf3
cfZsGSkpKbz73e8dGV11Qm5uHu9//29RUXGat946wMGD+6isrGDPnofIz/fcdLsjR96gr6+Xu+/e
FXWfDkxXUdFimpubaGy8MqXSnflIZ9Tb8Pl8vPrqC5w/b8nNzePxxz84qY+Bbic1NY33vvfDHDly
iBMnjvHTn/4b9933UNTVvYnI/PH222/S2ell8+atFBYujHQ4c5bbnUx6esaMLyQTCARGPmm4ePE8
gUCApKQkNmzYTFKSm1OnjvP66y9TXn6CHTv2sHjx0gnvu6npKh0d7axaZUhKir5PTsOTGuvraxkc
HLhljH19fbz44q9oaKgjL8/Do4++j4wM59vcuVwu1q3bQEnJct54Yz9VVed45pl/ZfPmrdx55/Yb
Rm+bmho5ffoU2dm5bN681fF4Ii1Yd32c+vraGUuu/X4/3d1deL0ddHZ68Xrb8Xq9dHZ20N3dzaJF
i9m8+c6oOZ8pub6FwcFBXnjhl9TV1bBgQRGPPvp+kpOTHT9OXFwc27fvprBwIa+++iKvvPI8V682
sHPnfZpgNEn9/X20t7fR1tZKW1srXm8HBQWFlJZuIjU1LdLhiUTc1asNnDp1nKys7Dm35HI0ysvL
5/Lli/T19ZGSMrVuFjfT39+PtWc5c+YUHR3tAOTne1i/fhOrV68ZKQVZv34jb7/9JufOneFXv/op
S5aUsGPHbnJzb/8pqLXRs9z5zeTnB5PrlpZmiooWjfuY1tYWnn/+F3R2elm+fCUPPPDuaZXKTERq
ahoPPfQoxqzjwIFXOXHiGOfPV7JnzwMsWbIMCCaFBw68AsDu3ffPy9f0hQuLcblcNDTUTWs/w8PD
I00hgkl0B15v8KurqxO//8ZmcQkJiSQnJ1NdXUV1dRULFxazefNWSkpWRHQem5Lrm+jt7eU3v/kZ
zc2NlJSs4OGHHyUhYWZriZYvX0Vubj4vvPBLTp8+RXNzIw8//B4yMtSc/Xp9fX20twcT6NHvbfT2
9tzw2Jqai7zzzlFWrTJs3HiHJm5JzBoeHua1114C4P773zXj57RYkJfn4fLli7S1NTvWLSE40nmS
8+ctw8PDxMXFs3r1WkpLN1FYuPCGpCE9PYP7738XGzfewZtvHqCm5hK1tZdZu3YD27Ztv+nAgs83
TFXVOVJT01i0aOKj3bNt7EqN4yXXFy9W88orzzE0NMSdd97DXXdtn9XEasmSEp544hMcO3aYkyeP
8etf/4yVKw27dt3HhQvnaWpqZNWqNfO2ZMLtdpOfX0Bj45UJ1V37fD46OtppbW2mtbWFtrYW2tpa
6erqHPfxyckpeDwFZGZmk5WVHfqeRVZWNikpqQA0NNRy4sRxamoucuVKPdnZOWzatBVj1kbkPKfk
ehxebwe//vWzeL0drF1byp49D87agjDZ2Tl86EMf5fXXXx75qOmhhx6d1Md880UgEKCvr5f29raR
BDqcRPf13bhgUEZGJkuWLCM3N5fc3HxycnLJyMjkwoXzlJW9g7VnsfYsCxcWs3HjHSxbtlIL/UhM
OXbsMB0dbWzYsNnROtRYFp4j09LSMq3kenh4iPPnKzl9+iRNTY1AsN54/fqNrFlTOqFR8fz8At7z
ng9x+fJF3nzzAGfPllFVVcGWLdvYtGnLDUnGpUsXGRgYYNOm0qg+F4YHRK6vuw4EArzzzlGOHDlE
QkICDz/8OCtXro5EiCQmJrJ9+72sWrWG/ftf5vx5S23tpZESnh07dkckrtlSXLyI5uZGrl5tGMlX
AoEA3d1dIwl0a2vwq6Oj7YZR6NTUNIqKFt2QPGdmZk+o0UNx8RKKi5fQ1tbCyZPHqaw8x/79r3Dk
yBts2LCZ0tJNI4n4bHBNpHn6XNHc3DXtH6alpYlf/epZ+vp62br1brZt2xGRjxYCgQBnzpRx6NA+
/H4/27btZOvWbfOyXZ/P56Oz00t7exsdHW1jvrczOHjjIj2ZmVnk5OSRm5sb+p5HTk7uLT8CDAQC
1NZe4tSpd6itDfYez8jIpLR0M+vWleJ2O1/uE+26u7toaKgb+ert7SElJZXU1DRSU4Pfx15PSUkL
XU7RBLg5qKmpkZ/+9N/IyMjkiSc+PuMfmceK1tYW/vM/f8jataXs3fvwpLYdHBygubmRS5cucu7c
aQYGBnC5XCxduozS0k0sXlwy5XO+z+ejoqKct99+i/7+PtLTM7j77p2sXr12ZJ/PP/8LLl6s5okn
Pj7SVjAa+f1+vv/975KZmcVHPvIJIPhmZN++4CBUWlo6jz76vqj5VNLv93P2bBmHDx9icHCQXbv2
snHjHZEOa0ZdvnyB3/zm5yxZsoyMjMyRZPr61/CEhERyc/NGuqjl5eWTm+txvKSqp6eb8vKTnDlz
ioGBAeLj41mzZj2bNm0lOzvHkWN4PBk3/eeM6uTaGBMH/L8El0AfAH7fWlt9s8dPN7mur6/hued+
ydBQ9PwzNDZe4YUXfkVPTzclJcu5//53T7nue3h4iM7OTgYG+nG5XMTFxRMXF0d8fPB7+Ova6/G4
XC5HkvqBgf5Q4tx+TSLd2em94V1scEn5bLKzc8nOzgkl0OEkenof8bS1tVJefgJrz4ZWVktkzZp1
bNhwBzk5udPadzQLJ9P19bU0NNTh9XaM3JeYmERGRiZ9fb309/fddsUyt9t9TfKdkZFBdnYuOTm5
ZGfnzsjcBJk6n8/HM8/8iLa2Ft773g/P24+nI8Hn8/G97/0/5OcX8OEPf/SWj2ttbaGp6SpNTVdp
bLxKe3vryP0pKamsXVvK+vUbHZ2ENzAwwDvvvE1Z2Tv4fD48nkJ27txDTk4e//zP/2ekh3O0e/bZ
/6Cx8Qqf+cwf0t/fzwsv/JKmpkYKCxfyyCPvjco5NT093TQ2XmHZspXzcmBsrMHBAX7wg6dGXstd
LhdZWTljEujg98zMrFn9XQwNDVJRcYaysnfo7PQCsGzZCjZvvpMFC4qmFctcTq4/CDxurf20MeZu
4M+tte+/2eOnk1xXV1fy8svPAwEefPARVq40U92V4/r6enn55eeoq6shMzOLd7/7PSO9P8cKBAL0
9vaEJgOEF6wJf3WMtG2ainAiHhfnCh1r5KjjXh8bU5jP57thv263eyQpCydm4XKOmZ740d/fR0XF
acrLT9Ld3QUEa+c2btzC4sVLJ/xP5/P5GBi4dkndwcFBkpKSSE5OGVkJzO1OntXJLF1dXTQ01I4k
1OETC0BSUhILFxZTVLSY4uJF5OcXjHws7Pf76e/vo7e3l97eHnp7e+nr6xlzvYe+vuDl/v7+cY+d
kpJKTk7ONQl3Tk4u6ekZUf3xczQJBAIMDQ0xMDDAwEA/Pt8wSUlu3O5k3G73pP6Wjh59i6NH32Ld
ug3cd99DMxh1bPrP//whXm8Hn/nMH+FyuQgEAni9HTQ2XhlJpltamq85ByYmJuLxFFJYuIAFC4pY
smTZjJ4furo6OXz4EFVV54BgCWJHRzs7d+5h06bo72Bx8OBrlJef5N5793L8+Nv09vZgzDruu+9B
fZIWJerqauju7iYvL1iWmZAQPc+L3+/nwoXznDx5dKTsqrBwARs3biUvL2/k3JqQkDDh1/65nFx/
Czhirf1x6HqdtXb8qcLA8ePlU/phWlqaOHz4EImJSTzyyHujclTH7/dz9OhbHD9+hPj4eLZt20Fc
XNwNy66Pl8C6XC7S0zPIzMwiMzOLlJRUAgE/Pp8fv9+H3+8f+fL5xl4f73KA0b87V2j/114fPe61
tycnJ1+TaGVn55KSkhLxd/Thf7qysne4erUBgJycXEpLN5OcnHxN0jze96GhwQkfK5xwu93JI0n3
6PeU0DK8bq7/XU5Ub2/vSEJ9bTLtpqiomKKiRRQVLSY/3+NIkuvz+ejr66WrqzNUGz/6iURXV+cN
I+Dx8fFkZ+dc84YqlkpyAgE/g4ODIwnzwMAAg4Ojl8O3B28buOUnCAkJCbjdbpKSgn8zwcvu0OXk
kesul4v9+18hJSWV3/7t343Kdmtz3csvP0dV1TlKSzfR0dFBc/NVBgZGPw6Pi4sjL89DQcECCgsX
UFBQSHZ2bkTeaDY2XuGNN/Zz9WoDLpeL3/3dz0blqO/1KipOs29fcDKuy+Vi+/Z72bRJKxvL5AQC
Aa5cqefUqeNcvHhjIURcXNyYc2nyDZfD59ekJDc7dtw5Z5Pr7wE/tda+ELp+GVhmrb2xHwvw9a9/
fco/TEpKKo8//oGoqdm6mUuXLvDqq89fc+KG4AhwZmY2mZmZoSQ6eySZTk/PmJftf2ZCU9NVyspO
cP68HbftT1h8fPw1CfH13xMTkxgaGhyThN+YmI/3RsgpbrebhQsXUVy8iKKiReTlOZNMT8bw8DBe
b8dIsj22JGh4eGhWY5krbpUwx8cnMDQ0OKVEHOCxxz7A0qXLZukniS0nTx7jzTcPjFzPysoek0gv
ID+/IKpG8QKBAJcvX8TlgqVLl0c6nAkJ17YnJSXx0EOP6W9Zpq29vY2qqnP09fVdcy4de471+2/+
Ov21r31tzibX3wIOW2ufCV2vtdYujnBYIiIiIiLjivbixzeARwGMMfcAZZENR0RERETk5qLnc6rx
/Qx4yBjzRuj6pyIZjIiIiIjIrUR1WYiIiIiIyFwS7SPXwvj9voFM4NdAZehhT4W7qkhkhNpFftNa
u9cYsxn4DuAj+Jx9wlrbdMsdyIy67vnZBPwjMAxUAZ+z1k687Ys4yhiTCPwAWAq4gW8AR4DvAdkE
2+d8wlp7KVIxxrKbvAZloHNcVLjJ85OOznERE+011xL0fiDJWrsD+G/At4AtwLestXtDX0qsI8gY
82WCiUC4z9nfA39ord0LPAv8X5GKTcZ9fr4P/Im19l6gHvh8pGITAD4GNFtrdwPvBr4L/E/gX6y1
e4CvAqURjC/WXf8a9G10josm4z0/30PnuIhRcj037AReALDWHgHuBLYCjxlj9htjvm+MSY9kgMJ5
4IOMNqj+iLU2PAE3EeiLSFQSdv3zs8haezh0+U1gT0SikrBnCCbQEHxdGiJ43ltsjHmZYPL9WoRi
kxtfg7YCT+gcFzXGyxF0josgJddzQybQOea6DzgO/FloVOcC8LVIBCZB1tpnCX78Fr5+FcAYswP4
AvB3EQpNuPH5AS4YY3aHLr8HiP5VNOYxa22PtbbbGJNBMNH+ClACtFlrHwJq0MhoJI33GtQMOsdF
ifGeH53jIkjJ9dzQSbC+LSwO+Im19kTo+s+BO2Y9KrklY8wTwFPAo9ba1kjHI9f4FPDnxphXgEag
JcLxxDxjzGKCo9M/tNb+O9AK/DJ0968IjsZJZNzwGmSt9escFzWuf35cwKfROS5ilFzPDdf3+y4H
XjDG3BW6/wHgWIRik3EYY36H4GjOfZqEFZUeBz5mrX0QyANejHA8Mc0YUwi8BHzZWvt06OZDwGOh
y3uA0xEITYJueA3SOS6qjJcj6BwXQeoWMjeM1+87BfiuMWYIuAJ8NlLByTUCoZnb/wBcBp41xgDs
t9b+35EMTAAI9x6tBF4xxgwAbwM/jFxIAjwJZAFfNcZ8leDz9Eng+8aY/wp0AB+NXHgx7/rXoM8A
B9E5LlqMlyOsRue4iFGfaxERERERh6gsRERERETEIUquRUREREQcouRaRERERMQhSq5FRERERByi
5FpERERExCFKrkVEREREHKLkWkRERETEIUquRUREREQcouRaRERERMQhSq5FRERERByi5FpERERE
xCFKrkVEREREHKLkWkRERETEIUquRUREREQcouRaRERERMQhSq5FRERERBySEOkApsoY8zrwB9Za
G+lYREREoo0xpgQoA46Pufk1a+3/GOex+4APWWvbZik8kXlrzibXQCD0JSIiIuM7Y63dO8HHumY0
EpEYMZeTawCPMeZvgWRgIfAVa+0vjDFlwOvARoIJ+PustZ2RC1NERCQ6GGP+GtgFxAPfttb+JHTX
3xtjioFe4JPW2pZIxSgyl831mutNwLestQ8DnwW+ELo9A/g3a+19QD3wSGTCExERiah1xph9Y74+
CpRYa+8F7gf+uzEmK/TYH1pr7wd+A/x5pAIWmevm1Mi1MSYd6LfWDoduOgT8N2PM7xEcoR7785wI
fa8lOLItIiISa86OLQsxxnwZ2BqqsYbg62ZJ6PLroe+HgcdmK0CR+WaujVw/DewyxsQBBcDfEXyn
/QmCJ4WxP4/qsUVERK5VAewLJdwPAc8A1aH7toe+7wZORSA2kXlhriXX3wL+BjhC8ITwPeBvjTHP
A0uA3Jtsp0RbRERi0TWvf9baXwHdxpgDwNuA31rbHbr7Y6ER7T3AN2c3TJH5wxUIKO8UEREREXHC
XBu5FhERERGJWkquRUREREQcEvXdQowxicAPgKWAG/gGwQkZTwN+4DTwBWttIPR4D/AGUGqtHTTG
uIA6oDK0y7estU/O6g8hIiIiIjEh6pNr4GNAs7X248aYHIIzmE8AT1prDxhjngLeB/zcGPMugpMw
CsZsvwI4bq1972wHLiIiIiKxZS6UhTwDfDV0OQ4YArZYaw+EbnseeDB02Qc8ALSP2X4rUGyMec0Y
8xtjzOpZiFlEREREYlDUJ9fW2h5rbbcxJoNgov0Vro27G8gKPfYVa23bdbtoAP4qtOrUXwH/Ogth
i4iIiEgMivrkGsAYsxh4jeCCMf9OsNY6LAPouMXmx4BfAlhr3wCKZipOEREREYltUZ9cG2MKgZeA
L1trnw7dfMIYsyd0+RHgwHjbhnwV+OPQvjYBNTMUqoiIiIjEuLkwofFJgmUfXzXGhGuvvwR8xxiT
BJwFfnLdNmNXxvkm8K/GmEeBYeCTMxuuiIiIiMQqrdAoIiIiIuKQqC8LERERERGZK5Rci4iIiIg4
RMm1iIiIiIhDlFyLiIiIiDhEybWIiIiIiEOUXIuIiIiIOGQu9LkWEZFJMsaUAJXAmdBNKUAZ8IfW
2qZbbLfPWrt35iMUEZmflFyLiMxf9dbaO8JXjDF/RXDRrd232GbPLe4TEZHbUHItIhI7vgY0GmM2
AF8E1gOFgAU+CPwvAGPMW9ba7caYdwNfBxKBi8BnrLVtEYlcRGSOUM21iEiMsNYOAVXA+4F+a+0O
YCXBkpFHrLVfDD1uuzHGA/w18LC1dgvwEvA/IxO5iMjcoZFrEZHYEgDeAS4aY74ArAFWAenXPe5u
YAnwujEGIB5oncU4RUTmJCXXIiIxwhiTBBhgBfAN4O+BHwB5gOu6h8cDh6y17wttmwxkzF60IiJz
k8pCRERigDEmjmD99FsEk+sfW2v/GWgkOMExPvRQnzEmHjgCbDfGrArd/hVCNdkiInJzGrkWEZm/
iowxJ0KX4wmWg3wUWAT8mzHmg8BV4BfAstDjfgGcBO4EPg38OJRs1wK/M4uxi4jMSa5AIBDpGERE
RERE5gWVhYiIiIiIOETJtYiIiIiIQ5Rci4iIiIg4RMm1iIiIiIhDlFyLiIiIiDhEybWIiIiIiEOU
XIuIiIiIOETJtYiIiIiIQ/5/rnUXGDEQUQYAAAAASUVORK5CYII=
"
>
</div>

</div>

</div>
</div>

</div>
<div class="cell border-box-sizing text_cell rendered">
<div class="prompt input_prompt">
</div>
<div class="inner_cell">
<div class="text_cell_render border-box-sizing rendered_html">
<p>The result should look something like this:</p>
<p><img src="final_plot.png" alt="The calls to 311 are peaking after each snowstorm"></p>
</div>
</div>
</div>
<div class="cell border-box-sizing code_cell rendered">
<div class="input">
<div class="prompt input_prompt">In&nbsp;[21]:</div>
<div class="inner_cell">
    <div class="input_area">
<div class="highlight"><pre><span class="c"># Code for setting the style of the notebook</span>
<span class="kn">from</span> <span class="nn">IPython.core.display</span> <span class="kn">import</span> <span class="n">HTML</span>
<span class="k">def</span> <span class="nf">css_styling</span><span class="p">():</span>
    <span class="n">styles</span> <span class="o">=</span> <span class="nb">open</span><span class="p">(</span><span class="s">&quot;../../theme/custom.css&quot;</span><span class="p">,</span> <span class="s">&quot;r&quot;</span><span class="p">)</span><span class="o">.</span><span class="n">read</span><span class="p">()</span>
    <span class="k">return</span> <span class="n">HTML</span><span class="p">(</span><span class="n">styles</span><span class="p">)</span>
<span class="n">css_styling</span><span class="p">()</span>
</pre></div>

</div>
</div>
</div>

<div class="output_wrapper">
<div class="output">


<div class="output_area"><div class="prompt output_prompt">Out[21]:</div>

<div class="output_html rendered_html output_subarea output_pyout">
<link href='http://fonts.googleapis.com/css?family=EB+Garamond' rel='stylesheet' type='text/css'>
<link href='http://fonts.googleapis.com/css?family=Alegreya+Sans:100,300,400,500,700,800,900,100italic,300italic,400italic,500italic,700italic,800italic,900italic' rel='stylesheet' type='text/css'>
<link href='http://fonts.googleapis.com/css?family=Source+Code+Pro:300,400' rel='stylesheet' type='text/css'>
<style>
    @font-face {
        font-family: "Computer Modern";
        src: url('http://mirrors.ctan.org/fonts/cm-unicode/fonts/otf/cmunss.otf');
    }
    .code_cell {
        width: 105ex !important ;
        margin-bottom: 15px !important;
    }
    div.cell {
        margin-left: auto;
        margin-right: auto;
        width: 70%;
    }    
    div.cell.selected {
        border: thin rgba(171, 171, 171, 0.5) dashed;
    }
    h1 {
        font-family: 'Alegreya Sans', sans-serif;
    }
    h2 {
        font-family: 'EB Garamond', serif;
    }
    h3 {
        font-family: 'EB Garamond', serif;
        margin-top:12px;
        margin-bottom: 3px;
    }
    h4 {
        font-family: 'EB Garamond', serif;
    }
    h5 {
        font-family: 'Alegreya Sans', sans-serif;
    }
    div.text_cell_render {
        font-family: 'EB Garamond',Computer Modern, "Helvetica Neue", Arial, Helvetica, Geneva, sans-serif;
        line-height: 145%;
        font-size: 140%;
    }
    div.input_area {
        border-color: rgba(0,0,0,0.10) !important;
        background: #fafafa;
    }
    .CodeMirror {
            font-family: "Source Code Pro";
            font-size: 90%;
    }
    .prompt {
        display: None;
    }
    .output {
        padding-left: 50px;
        padding-top: 5px;
    }
    .output_wrapper {
        padding-left: 5px;
        padding-top: inherit;
    }
    div.output_scroll {
        width: inherit;
    }
    .inner_cell {
        padding-left: 5px;
    }
    .text_cell_render h1 {
        font-weight: 200;
        font-size: 50pt;
        line-height: 100%;
        color:#CD2305;
        margin-bottom: 0.5em;
        margin-top: 0.5em;
        display: block;
    }
    .text_cell_render h5 {
        font-weight: 300;
        font-size: 16pt;
        color: #CD2305;
        font-style: italic;
        margin-bottom: .5em;
        margin-top: 0.5em;
        display: block;
    }
    .warning {
        color: rgb( 240, 20, 20 )
        }  
</style>
<script>
    MathJax.Hub.Config({
                        TeX: {
                           extensions: ["AMSmath.js"]
                           },
                tex2jax: {
                    inlineMath: [ ['$','$'], ["\\(","\\)"] ],
                    displayMath: [ ['$$','$$'], ["\\[","\\]"] ]
                },
                displayAlign: 'center', // Change this to 'center' to center equations.
                "HTML-CSS": {
                    styles: {'.MathJax_Display': {"margin": 4}}
                }
        });
</script>
</div>

</div>

</div>
</div>

</div>


     <!-- <hr/> -->
     <div class="row hidden-print">
      <div class="span12 text-center">
        <a href="#">Back to top</a>
      </div>
    </div>

     <!-- Footer
     ================================================== -->
      
      <footer class="footer hidden-print">
      <div class="span12 row-fluid footer-row">
          <div class="span4">
            <p>This web site does not host notebooks, it only renders notebooks available on other websites.</p>
          </div>

          <div class="span4">
            <p>Delivered by <a href="http://www.fastly.com/">Fastly</a>, Rendered by <a href="https://developer.rackspace.com/?nbviewer=awesome">Rackspace</a></p>
            <p>nbviewer GitHub <a href="https://github.com/jupyter/nbviewer">repository</a>.</p>
          </div>

          <div class="span4">
            

              
                <p>
                    nbviewer version:
                    <a href="https://github.com/jupyter/nbviewer/commit/852295b1eba6ea0f208cdd998fddc5d354aa2efa">852295b</a>
                </p>
              
            

<p class="text-muted">
    IPython version: 2.4.1-maint
    
</p>


            

            

<p class="text-muted">
Rendered <span class='date' data-date='Mon, 02 Mar 2015 02:48:20 UTC' title='Mon, 02 Mar 2015 02:48:20 UTC'>(Mon, 02 Mar 2015 02:48:20 UTC)</span>
</p>


          </div>
      </div>
      </footer>
      

    </div><!-- /container -->

    <script src="/static/components/bootstrap/js/bootstrap.min.js"></script>
    <script src="/static/components/headroom.js/dist/headroom.min.js"></script>
    <script src="/static/components/headroom.js/dist/jQuery.headroom.min.js"></script>


    
    
    
    <script>
    $(document).ready(
                function(){
                    $("#menubar").headroom({
                        "tolerance": 5,
                        "offset": 205,
                        "classes": {
                            "initial": "animated",
                            "pinned": "slideInDown",
                            "unpinned": "slideOutUp"
                        }
                    })
                }
            );
    </script>


    <!-- Analytics
    ================================================== -->
    <script>
      (function(i,s,o,g,r,a,m){i['GoogleAnalyticsObject']=r;i[r]=i[r]||function(){
        (i[r].q=i[r].q||[]).push(arguments)},i[r].l=1*new Date();a=s.createElement(o),
        m=s.getElementsByTagName(o)[0];a.async=1;a.src=g;m.parentNode.insertBefore(a,m)
      })(window,document,'script','//www.google-analytics.com/analytics.js','ga');

      ga('create', 'UA-38683231-2', 'auto');
      ga('send', 'pageview');

    </script>
    <script>
        var update_date  = function(){
            var str = window.moment($('.date').data('date')).fromNow();
            $('.date').text(str);
        }
        setInterval(update_date , 61*1000);
        $(update_date);
    </script>
    <!--NEW RELIC Stop Perf Measurement-->
    
    <!--NEW RELIC End-->
  </body>
</html>