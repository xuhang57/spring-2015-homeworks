{
 "metadata": {
  "name": "",
  "signature": "sha256:04087884db2b10d022a01dc40ec35b5cfbfcac32b874ddfc83e40424686044b8"
 },
 "nbformat": 3,
 "nbformat_minor": 0,
 "worksheets": [
  {
   "cells": [
    {
     "cell_type": "markdown",
     "metadata": {},
     "source": [
      "(In order to load the stylesheet of this notebook, execute the last code cell in this notebook)"
     ]
    },
    {
     "cell_type": "heading",
     "level": 1,
     "metadata": {},
     "source": [
      "Clustering food recipes from around the world"
     ]
    },
    {
     "cell_type": "markdown",
     "metadata": {},
     "source": [
      "In this assignment, you are expected to hierarchically cluster food recipes. We will be using YY Ahn's dataset \"[Recipe datasets with cuisines](http://yongyeol.com/data/scirep-cuisines-detail.zip)\", which for each recipe provides a list of ingredients and the country of origin, scraped from popular recipe websites. He also provides an [ingredient and compounds dataset](http://yongyeol.com/data/ingr_comp.zip), which you could potentially also make use of, if you find it interesting.\n",
      "\n",
      "You will be graded as follow:\n",
      "* Data parsing and representation **(20 pts)**\n",
      "* Clustering **(30 pts)**\n",
      "* Visualization **(30 pts)**\n",
      "* Short (detailed) analysis of specific cluster **(20 pts)**\n",
      "\n",
      "---------------------------"
     ]
    },
    {
     "cell_type": "code",
     "collapsed": false,
     "input": [
      "%matplotlib inline\n",
      "import matplotlib.pyplot as plt\n",
      "import seaborn as sns\n",
      "import pandas as pd\n",
      "from scipy.cluster.hierarchy import linkage\n",
      "from scipy.spatial.distance import pdist, squareform\n",
      "from scipy.cluster.hierarchy import linkage, dendrogram\n",
      "import numpy as np\n",
      "from gensim import corpora, models, similarities\n"
     ],
     "language": "python",
     "metadata": {},
     "outputs": [],
     "prompt_number": 1
    },
    {
     "cell_type": "markdown",
     "metadata": {},
     "source": [
      "Start by reading the data for mapping food types to regions."
     ]
    },
    {
     "cell_type": "code",
     "collapsed": false,
     "input": [
      "food_map = pd.read_csv('scirep-cuisines-detail/map.txt', header=None,\n",
      "                         delimiter='\\t', names=['food_type', 'region'])\n",
      "food_map.region.value_counts(dropna=False)"
     ],
     "language": "python",
     "metadata": {},
     "outputs": [
      {
       "metadata": {},
       "output_type": "pyout",
       "prompt_number": 2,
       "text": [
        "WesternEuropean     12\n",
        "EastAsian            9\n",
        "SouthernEuropean     8\n",
        "SoutheastAsian       7\n",
        "LatinAmerican        6\n",
        "MiddleEastern        6\n",
        "African              6\n",
        "NorthAmerican        5\n",
        "SouthAsian           4\n",
        "EasternEuropean      2\n",
        "NorthernEuropean     2\n",
        "NaN                  2\n",
        "dtype: int64"
       ]
      }
     ],
     "prompt_number": 2
    },
    {
     "cell_type": "markdown",
     "metadata": {},
     "source": [
      "By checking for abnormalities in our data, we can see that there are two lines for which we have no region information (their value is *NaN*). Checking the raw data (the corresponding rows), we see that both these records correspond to asian food. We go ahead and correct this accordingly."
     ]
    },
    {
     "cell_type": "code",
     "collapsed": false,
     "input": [
      "food_map.region[food_map.region.isnull()]"
     ],
     "language": "python",
     "metadata": {},
     "outputs": [
      {
       "metadata": {},
       "output_type": "pyout",
       "prompt_number": 3,
       "text": [
        "12    NaN\n",
        "65    NaN\n",
        "Name: region, dtype: object"
       ]
      }
     ],
     "prompt_number": 3
    },
    {
     "cell_type": "code",
     "collapsed": false,
     "input": [
      "food_map.region[food_map.region.isnull()] = 'Asian'\n",
      "food_map.region.value_counts(dropna=False)"
     ],
     "language": "python",
     "metadata": {},
     "outputs": [
      {
       "metadata": {},
       "output_type": "pyout",
       "prompt_number": 4,
       "text": [
        "WesternEuropean     12\n",
        "EastAsian            9\n",
        "SouthernEuropean     8\n",
        "SoutheastAsian       7\n",
        "LatinAmerican        6\n",
        "MiddleEastern        6\n",
        "African              6\n",
        "NorthAmerican        5\n",
        "SouthAsian           4\n",
        "EasternEuropean      2\n",
        "Asian                2\n",
        "NorthernEuropean     2\n",
        "NaN                  0\n",
        "dtype: int64"
       ]
      }
     ],
     "prompt_number": 4
    },
    {
     "cell_type": "markdown",
     "metadata": {},
     "source": [
      "It turns out we have **12 regions in total**, with one region (*Asian*) being a super-region for many others (e.g., *SouthAsian*, *SoutheastAsian*, *EastAsian*). A better data structure for this information is a *dictionary*, so we will save it as such."
     ]
    },
    {
     "cell_type": "code",
     "collapsed": false,
     "input": [
      "food_map_dict = food_map.set_index(food_map.food_type).region.to_dict()"
     ],
     "language": "python",
     "metadata": {},
     "outputs": [],
     "prompt_number": 5
    },
    {
     "cell_type": "markdown",
     "metadata": {},
     "source": [
      "We also parse the data from the recipes. We will use the recipes from [epicurious](http://www.epicurious.com/)."
     ]
    },
    {
     "cell_type": "code",
     "collapsed": false,
     "input": [
      "# Start by making an empty DataFrame object. In it, we intend to save\n",
      "# the origin of a recipe and a bag-of-words representation of its\n",
      "# ingredients. We will learn and grow the ingredient list as we read the\n",
      "# recipe file\n",
      "epicurious = pd.DataFrame()\n",
      "filepath = 'scirep-cuisines-detail/epic_recipes.txt'\n",
      "bag_of_words = corpora.Dictionary()\n",
      "recipes = []\n",
      "max_recipe_limit = None # If None, this will take a while!\n",
      "\n",
      "# Read the recipes once to compute the TF-IDF score for \n",
      "# each ingredient. We don't just do bag-of-words, because\n",
      "# some ingredients (shiitake mushrooms) are more \"important\"\n",
      "# in defining a recipe than others (garlic). This is basically\n",
      "# weighting each ingredient according to their frequency. \n",
      "# We start by creating the bag-of-words:\n",
      "\n",
      "with open(filepath, 'r') as f:\n",
      "    for line_num, line in enumerate(f):\n",
      "        splits = line.strip().split('\\t')\n",
      "        ingredient_list = splits[1:]\n",
      "        bag_of_words.add_documents([ingredient_list])\n",
      "        recipes.append(bag_of_words.doc2bow(ingredient_list))\n",
      "        if max_recipe_limit is not None and line_num > max_recipe_limit:\n",
      "            break\n",
      "        \n",
      "# Now we can learn a TF-IDF model on the bag-of-words representation\n",
      "# that we collected.\n",
      "tfidf_model = models.TfidfModel(recipes)\n",
      "    \n",
      "# And finally, we can iterate through the recipes again, and add\n",
      "# them to a dataframe in which the columns are all the possible \n",
      "# ingredients.\n",
      "with open(filepath, 'r') as f:\n",
      "    for line_num, line in enumerate(f):\n",
      "        splits = line.strip().split('\\t')\n",
      "        food_type = splits[0]\n",
      "        ingredient_list = splits[1:]\n",
      "        \n",
      "        # Make a single-record dataframe for the current recipe by\n",
      "        # combining the food type and the bag-of-words representation\n",
      "        # of the ingredient list\n",
      "        row = {'food_type': food_type}  \n",
      "        for ingr, value in  tfidf_model[bag_of_words.doc2bow(ingredient_list)]:\n",
      "            row[bag_of_words[ingr]] = value\n",
      "        recipe = pd.DataFrame(row, index=[0])\n",
      "        \n",
      "        epicurious = epicurious.append(recipe,\n",
      "                                       ignore_index=True)\n",
      "        if max_recipe_limit is not None and line_num > max_recipe_limit:\n",
      "            break\n",
      "\n",
      "        \n",
      "# NaN values mean that an ingredient was not used for this recipe.\n",
      "# We substitute them with 0.\n",
      "epicurious.fillna(value=0.0, inplace=True)"
     ],
     "language": "python",
     "metadata": {},
     "outputs": [],
     "prompt_number": 6
    },
    {
     "cell_type": "markdown",
     "metadata": {},
     "source": [
      "We can also add the region that each recipe is originated from based on its food type."
     ]
    },
    {
     "cell_type": "code",
     "collapsed": false,
     "input": [
      "epicurious['region'] = epicurious.food_type.apply(lambda food_type: food_map_dict[food_type])"
     ],
     "language": "python",
     "metadata": {},
     "outputs": [],
     "prompt_number": 7
    },
    {
     "cell_type": "markdown",
     "metadata": {},
     "source": [
      "In total we have:"
     ]
    },
    {
     "cell_type": "code",
     "collapsed": false,
     "input": [
      "print \"Number of recipes: %d \\nNumber of ingredients %d\" %(epicurious.shape[0],\n",
      "                                                           epicurious.shape[1]-2)"
     ],
     "language": "python",
     "metadata": {},
     "outputs": [
      {
       "output_type": "stream",
       "stream": "stdout",
       "text": [
        "Number of recipes: 13408 \n",
        "Number of ingredients 350\n"
       ]
      }
     ],
     "prompt_number": 8
    },
    {
     "cell_type": "markdown",
     "metadata": {},
     "source": [
      "Now, we should have created a DataFrame with as many rows as the recipes, and as many columns as the ingredients (memory-wise, this should be ok since we only have a couple of hundred ingredients. To scale up, we should use other data stractures instead of a DataFrame). Let's write the dataframe to a CSV file."
     ]
    },
    {
     "cell_type": "code",
     "collapsed": false,
     "input": [
      "epicurious.to_csv('epicurious-bag-of-ingredients.csv')"
     ],
     "language": "python",
     "metadata": {},
     "outputs": [],
     "prompt_number": 9
    },
    {
     "cell_type": "markdown",
     "metadata": {},
     "source": [
      "Here's what a recipe looks like (we only include its ingredients):"
     ]
    },
    {
     "cell_type": "code",
     "collapsed": false,
     "input": [
      "i = 3400\n",
      "epicurious.ix[i][epicurious.ix[i]>0]"
     ],
     "language": "python",
     "metadata": {},
     "outputs": [
      {
       "metadata": {},
       "output_type": "pyout",
       "prompt_number": 10,
       "text": [
        "apple                 0.254557\n",
        "bartlett_pear        0.4994745\n",
        "brandy               0.3214683\n",
        "butter              0.08128186\n",
        "cane_molasses        0.1758194\n",
        "cinnamon             0.1837234\n",
        "corn                 0.1749255\n",
        "cream                0.1264791\n",
        "currant              0.3454203\n",
        "egg                 0.08941897\n",
        "food_type             American\n",
        "lard                 0.2559705\n",
        "lemon_juice          0.1508065\n",
        "milk                 0.1431564\n",
        "nutmeg               0.2536871\n",
        "starch               0.2338071\n",
        "vanilla              0.1686834\n",
        "walnut               0.2688025\n",
        "wheat               0.09335283\n",
        "region           NorthAmerican\n",
        "Name: 3400, dtype: object"
       ]
      }
     ],
     "prompt_number": 10
    },
    {
     "cell_type": "markdown",
     "metadata": {},
     "source": [
      "Of course, we can also group the recipes by their region"
     ]
    },
    {
     "cell_type": "code",
     "collapsed": false,
     "input": [
      "grouped_region = epicurious.groupby('region')\n",
      "\n",
      "print \"We have the following groups:\"\n",
      "for grp in grouped_region.groups.keys():\n",
      "    print '\\t', grp"
     ],
     "language": "python",
     "metadata": {},
     "outputs": [
      {
       "output_type": "stream",
       "stream": "stdout",
       "text": [
        "We have the following groups:\n",
        "\tNorthernEuropean\n",
        "\tWesternEuropean\n",
        "\tSouthernEuropean\n",
        "\tSouthAsian\n",
        "\tLatinAmerican\n",
        "\tNorthAmerican\n",
        "\tEasternEuropean\n",
        "\tAsian\n",
        "\tSoutheastAsian\n",
        "\tAfrican\n",
        "\tMiddleEastern\n",
        "\tEastAsian\n"
       ]
      }
     ],
     "prompt_number": 11
    },
    {
     "cell_type": "markdown",
     "metadata": {},
     "source": [
      "Since the total number of recipes is very large in order to just hierarchically cluster, we will sample 5 random recipes from each region and perform the clustering on this subset."
     ]
    },
    {
     "cell_type": "code",
     "collapsed": false,
     "input": [
      "sample = []\n",
      "for name, group in grouped_region:\n",
      "    random_sample = group.index[np.random.choice(group.shape[0],\n",
      "                                                 size=min(group.shape[0], 5),\n",
      "                                                 replace=False).tolist()]\n",
      "    sample.extend(random_sample)    "
     ],
     "language": "python",
     "metadata": {},
     "outputs": [],
     "prompt_number": 12
    },
    {
     "cell_type": "code",
     "collapsed": false,
     "input": [
      "from numpy.random import RandomState\n",
      "prng = RandomState(1337)\n",
      "# Sample a small number of recipes\n",
      "sample = []\n",
      "for name, group in grouped_region:\n",
      "    random_sample = group.index[prng.choice(group.shape[0],\n",
      "                                            size=min(group.shape[0], 5),\n",
      "                                            replace=False).tolist()]\n",
      "    sample.extend(random_sample)  \n",
      "\n",
      "\n",
      "\n",
      "# Keep the columns that refer only to ingredients\n",
      "column_names = set(epicurious.columns.values.tolist())\n",
      "for name in ['food_type', 'region']:\n",
      "    column_names.remove(name)\n",
      "numerical = epicurious[list(column_names)].loc[sample]\n",
      "\n",
      "distance_matrix = squareform(pdist(numerical, metric='cosine'))\n",
      "fig = plt.subplots(1,1,figsize=(8,10))\n",
      "Z = linkage(distance_matrix, method='complete')\n",
      "R = dendrogram(Z,\n",
      "               labels=epicurious.region.loc[sample].values.tolist(),\n",
      "               orientation='right',\n",
      "               truncate_mode='mtica',\n",
      "               p=6,\n",
      "               distance_sort='descending')"
     ],
     "language": "python",
     "metadata": {},
     "outputs": [
      {
       "metadata": {},
       "output_type": "display_data",
       "png": "[encoded data removed]",
       "text": [
        "<matplotlib.figure.Figure at 0x1cb559b0>"
       ]
      }
     ],
     "prompt_number": 13
    },
    {
     "cell_type": "markdown",
     "metadata": {},
     "source": [
      "Although not all of the cluster make sense (remember, we are only working on a very small, and possibly misrepresenting, sample), we can still see some the clusters that make sense, especially if we take into consideration the geographical distance of the regions and the colonial history of some countries.\n",
      "\n",
      "To compute the distance between the recipes, we used the *cosine similarity*, because we treat the recipe as a collection of words.\n",
      "\n",
      "Finally, for visualization reasons, we truncate the dendrogram at level 6. Cluster that go deeper than that have a *number* as label, which corresponds to the number of leafs under that particular cluster."
     ]
    },
    {
     "cell_type": "markdown",
     "metadata": {},
     "source": [
      "We can repeat the above vizualization, but we can now show the *food type* instead of the region."
     ]
    },
    {
     "cell_type": "code",
     "collapsed": false,
     "input": [
      "fig = plt.subplots(1,1,figsize=(8,10))\n",
      "R = dendrogram(Z,\n",
      "               labels=epicurious.food_type.loc[sample].values.tolist(),\n",
      "               orientation='right',\n",
      "               truncate_mode='mtica',\n",
      "               p=6,\n",
      "               distance_sort='descending')"
     ],
     "language": "python",
     "metadata": {},
     "outputs": [
      {
       "metadata": {},
       "output_type": "display_data",
       "png": "[encoded data removed]",
       "text": [
        "<matplotlib.figure.Figure at 0x1f3d6b70>"
       ]
      }
     ],
     "prompt_number": 14
    },
    {
     "cell_type": "markdown",
     "metadata": {},
     "source": [
      "----\n",
      "\n",
      "Until now, we were only checking one recipe at a time (a point of our dataset is a recipe). We can go one step further and group all the recipes of a specific cuisine under the same data point. To do it, and still follow the TF-IDF method, we will need to parse the raw data once more and, for each cusine, create a big string with all the recipes concatenated. "
     ]
    },
    {
     "cell_type": "code",
     "collapsed": false,
     "input": [
      "epicurious_per_cuisine = pd.DataFrame()\n",
      "filepath = 'scirep-cuisines-detail/epic_recipes.txt'\n",
      "bag_of_words = corpora.Dictionary()\n",
      "cuisine_corpus = []\n",
      "max_recipe_limit = None # If None, this will take a while!\n",
      "\n",
      "cuisine_ingrs = {}\n",
      "with open(filepath, 'r') as f:\n",
      "    for line_num, line in enumerate(f):\n",
      "        splits = line.strip().split('\\t')\n",
      "        cuisine = splits[0]\n",
      "        ingredient_list = splits[1:]\n",
      "        \n",
      "        if cuisine not in cuisine_ingrs:\n",
      "            cuisine_ingrs[cuisine] = []\n",
      "        cuisine_ingrs[cuisine].extend(ingredient_list) \n",
      "        if max_recipe_limit is not None and line_num > max_recipe_limit:\n",
      "            break\n",
      "\n",
      "for cuisine, ingredients in cuisine_ingrs.iteritems():\n",
      "    bag_of_words.add_documents([ingredients])\n",
      "    cuisine_corpus.append(bag_of_words.doc2bow(ingredients))    \n",
      "\n",
      "tfidf_cuisine = models.TfidfModel(cuisine_corpus)\n",
      "\n",
      "for cuisine, ingredients in cuisine_ingrs.iteritems():\n",
      "    row = {'cuisine': cuisine}  \n",
      "    for ingr, value in  tfidf_cuisine[bag_of_words.doc2bow(ingredients)]:\n",
      "        row[bag_of_words[ingr]] = value\n",
      "    cuisine_row = pd.DataFrame(row, index=[0])\n",
      "\n",
      "    epicurious_per_cuisine = epicurious_per_cuisine.append(cuisine_row,\n",
      "                                                           ignore_index=True)\n",
      "epicurious_per_cuisine.fillna(value=0.0, inplace=True)"
     ],
     "language": "python",
     "metadata": {},
     "outputs": [],
     "prompt_number": 15
    },
    {
     "cell_type": "markdown",
     "metadata": {},
     "source": [
      "We can print the 5 most important ingredients per cuisine."
     ]
    },
    {
     "cell_type": "code",
     "collapsed": false,
     "input": [
      "top = 5\n",
      "for i, row in epicurious_per_cuisine.iterrows():\n",
      "    cols=row.argsort()[::-1]\n",
      "    print row[cols[0]]\n",
      "    print row[cols[1:top]]\n",
      "    print \n",
      "    "
     ],
     "language": "python",
     "metadata": {},
     "outputs": [
      {
       "output_type": "stream",
       "stream": "stdout",
       "text": [
        "Vietnamese\n",
        "thai_pepper    0.5068857\n",
        "lemongrass      0.411037\n",
        "soy_sauce      0.3045381\n",
        "star_anise     0.2649697\n",
        "Name: 0, dtype: object\n",
        "\n",
        "Indian\n",
        "turmeric                  0.5069822\n",
        "black_mustard_seed_oil    0.4600048\n",
        "cardamom                  0.3263985\n",
        "fenugreek                 0.3149808\n",
        "Name: 1, dtype: object\n",
        "\n",
        "Spanish_Portuguese\n",
        "saffron         0.4492348\n",
        "pimento         0.3572304\n",
        "cassava         0.3242785\n",
        "pork_sausage    0.2328827\n",
        "Name: 2, dtype: object\n",
        "\n",
        "Jewish\n",
        "hazelnut      0.2452996\n",
        "egg_noodle    0.2180441\n",
        "almond        0.2097803\n",
        "dill          0.2078256\n",
        "Name: 3, dtype: object\n",
        "\n",
        "French\n",
        "cognac          0.2683761\n",
        "lavender        0.2628681\n",
        "tarragon        0.2462223\n",
        "apple_brandy    0.2251317\n",
        "Name: 4, dtype: object\n",
        "\n",
        "Central_SouthAmerican\n",
        "avocado           0.5956927\n",
        "cayenne           0.2687068\n",
        "oregano            0.246615\n",
        "cheddar_cheese    0.2233848\n",
        "Name: 5, dtype: object\n",
        "\n",
        "Cajun_Creole\n",
        "okra              0.4093266\n",
        "pork_sausage      0.3428944\n",
        "tabasco_pepper    0.2732281\n",
        "crab              0.2587541\n",
        "Name: 6, dtype: object\n",
        "\n",
        "Thai\n",
        "lemongrass     0.6289449\n",
        "galanga        0.4737417\n",
        "thai_pepper    0.2320192\n",
        "soy_sauce      0.2270191\n",
        "Name: 7, dtype: object\n",
        "\n",
        "Scandinavian\n",
        "herring        0.6667224\n",
        "rye_bread       0.438537\n",
        "rye_flour      0.2874821\n",
        "lingonberry    0.2405689\n",
        "Name: 8, dtype: object\n",
        "\n",
        "Greek\n",
        "feta_cheese    0.7171953\n",
        "ouzo            0.378896\n",
        "oregano        0.3432729\n",
        "dill           0.1771731\n",
        "Name: 9, dtype: object\n",
        "\n",
        "American\n",
        "buttermilk     0.2602006\n",
        "vanilla        0.2537127\n",
        "maple_syrup    0.2214631\n",
        "oat            0.2021987\n",
        "Name: 10, dtype: object\n",
        "\n",
        "African\n",
        "saffron          0.4472624\n",
        "peanut_butter    0.2845295\n",
        "turmeric         0.2560053\n",
        "cod              0.2095695\n",
        "Name: 11, dtype: object\n",
        "\n",
        "MiddleEastern\n",
        "roasted_sesame_seed    0.5552496\n",
        "chickpea               0.3794896\n",
        "sumac                  0.2568755\n",
        "rose                   0.2500525\n",
        "Name: 12, dtype: object\n",
        "\n",
        "EasternEuropean_Russian\n",
        "sauerkraut       0.4555744\n",
        "egg_noodle        0.339571\n",
        "cherry_brandy    0.2955633\n",
        "hazelnut         0.2376997\n",
        "Name: 13, dtype: object\n",
        "\n",
        "Italian\n",
        "parmesan_cheese      0.4253046\n",
        "romano_cheese         0.371303\n",
        "mozzarella_cheese    0.3038255\n",
        "cured_pork           0.2422392\n",
        "Name: 14, dtype: object\n",
        "\n",
        "Irish\n",
        "oat            0.649639\n",
        "buttermilk    0.4467648\n",
        "whiskey       0.3789561\n",
        "rutabaga      0.2165463\n",
        "Name: 15, dtype: object\n",
        "\n",
        "Mexican\n",
        "avocado       0.6373988\n",
        "cayenne       0.3381232\n",
        "black_bean    0.2888453\n",
        "oregano       0.2689076\n",
        "Name: 16, dtype: object\n",
        "\n",
        "Chinese\n",
        "sesame_oil    0.6911772\n",
        "soy_sauce     0.5997088\n",
        "peanut        0.1673376\n",
        "soybean       0.1644668\n",
        "Name: 17, dtype: object\n",
        "\n",
        "German\n",
        "sauerkraut    0.8032084\n",
        "caraway       0.2328732\n",
        "bacon         0.2101145\n",
        "hazelnut      0.2095403\n",
        "Name: 18, dtype: object\n",
        "\n",
        "Mediterranean\n",
        "feta_cheese       0.440014\n",
        "olive            0.2967942\n",
        "artichoke         0.259793\n",
        "romano_cheese    0.2243417\n",
        "Name: 19, dtype: object\n",
        "\n",
        "Japanese\n",
        "sake         0.6576838\n",
        "soy_sauce    0.3872174\n",
        "seaweed      0.3620495\n",
        "wasabi       0.3319596\n",
        "Name: 20, dtype: object\n",
        "\n",
        "Moroccan\n",
        "saffron      0.497235\n",
        "chickpea    0.4226498\n",
        "caraway     0.2496579\n",
        "turmeric    0.2490327\n",
        "Name: 21, dtype: object\n",
        "\n",
        "Southern_SoulFood\n",
        "buttermilk        0.5106489\n",
        "cheddar_cheese    0.4596429\n",
        "corn_grit         0.4224154\n",
        "pecan             0.2512717\n",
        "Name: 22, dtype: object\n",
        "\n",
        "English_Scottish\n",
        "buttermilk        0.4362715\n",
        "cheddar_cheese    0.3346441\n",
        "oat               0.3033994\n",
        "currant           0.2536195\n",
        "Name: 23, dtype: object\n",
        "\n",
        "Asian\n",
        "sesame_oil    0.6234241\n",
        "soy_sauce     0.5674348\n",
        "sake          0.2423281\n",
        "soybean       0.1775379\n",
        "Name: 24, dtype: object"
       ]
      },
      {
       "output_type": "stream",
       "stream": "stdout",
       "text": [
        "\n",
        "\n",
        "Southwestern\n",
        "avocado           0.4953739\n",
        "cheddar_cheese    0.3405696\n",
        "cayenne           0.3146242\n",
        "black_bean        0.3108253\n",
        "Name: 25, dtype: object\n",
        "\n"
       ]
      }
     ],
     "prompt_number": 16
    },
    {
     "cell_type": "markdown",
     "metadata": {},
     "source": [
      "We can also cluster the cuisines based on their use of ingredients."
     ]
    },
    {
     "cell_type": "code",
     "collapsed": false,
     "input": [
      "from numpy.random import RandomState\n",
      "# Keep the columns that refer only to ingredients\n",
      "column_names = set(epicurious_per_cuisine.columns.values.tolist())\n",
      "column_names.remove('cuisine')\n",
      "numerical = epicurious_per_cuisine.set_index('cuisine')\n",
      "numerical = numerical[list(column_names)]\n",
      "\n",
      "# Compute the similarity matrix between the different cuisines\n",
      "distance_matrix = squareform(pdist(numerical.values, metric='cosine'))\n",
      "# Read this matrix as a Dataframe, with the column names and the index \n",
      "# set to be the name of the cuisines.\n",
      "similarities = pd.DataFrame(distance_matrix, \n",
      "                            columns=list(numerical.index), \n",
      "                            index=list(numerical.index))\n",
      "cg = sns.clustermap(similarities, method=\"complete\", figsize=(10,10), \n",
      "                    xticklabels=False, metric='cosine', col_cluster=True,\n",
      "                    cmap=sns.cubehelix_palette(reverse=True, light=1, as_cmap=True))"
     ],
     "language": "python",
     "metadata": {},
     "outputs": [
      {
       "metadata": {},
       "output_type": "display_data",
       "png": "[encoded data removed]",
       "text": [
        "<matplotlib.figure.Figure at 0x1c8cccf8>"
       ]
      }
     ],
     "prompt_number": 17
    },
    {
     "cell_type": "markdown",
     "metadata": {},
     "source": [
      "In the above graphic, both the rows and the columns are the different cuisines in our datasets (with the same order). A dark square means that the corresponding pair of cuisines are quite similar (with the darkest colors being on the diagonal). We can definitely see a geographical clustering of the cuisines, with **east Asian** on top, followed by **south American**, the **Mediterranean**, the **Anglo-american** and the **European**."
     ]
    },
    {
     "cell_type": "markdown",
     "metadata": {},
     "source": [
      "### References"
     ]
    },
    {
     "cell_type": "markdown",
     "metadata": {},
     "source": [
      "1. Ahn, Yong-Yeol, et al. \"Flavor network and the principles of food pairing.\" Scientific reports 1 (2011)."
     ]
    },
    {
     "cell_type": "code",
     "collapsed": false,
     "input": [
      "# Code for setting the style of the notebook\n",
      "from IPython.core.display import HTML\n",
      "def css_styling():\n",
      "    styles = open(\"../../theme/custom.css\", \"r\").read()\n",
      "    return HTML(styles)\n",
      "css_styling()"
     ],
     "language": "python",
     "metadata": {},
     "outputs": [
      {
       "html": [
        "<link href='http://fonts.googleapis.com/css?family=EB+Garamond' rel='stylesheet' type='text/css'>\n",
        "<link href='http://fonts.googleapis.com/css?family=Alegreya+Sans:100,300,400,500,700,800,900,100italic,300italic,400italic,500italic,700italic,800italic,900italic' rel='stylesheet' type='text/css'>\n",
        "<link href='http://fonts.googleapis.com/css?family=Source+Code+Pro:300,400' rel='stylesheet' type='text/css'>\n",
        "<style>\n",
        "    @font-face {\n",
        "        font-family: \"Computer Modern\";\n",
        "        src: url('http://mirrors.ctan.org/fonts/cm-unicode/fonts/otf/cmunss.otf');\n",
        "    }\n",
        "    .code_cell {\n",
        "        width: 105ex !important ;\n",
        "        margin-bottom: 15px !important;\n",
        "    }\n",
        "    div.cell {\n",
        "        margin-left: auto;\n",
        "        margin-right: auto;\n",
        "        width: 70%;\n",
        "    }    \n",
        "    div.cell.selected {\n",
        "        border: thin rgba(171, 171, 171, 0.5) dashed;\n",
        "    }\n",
        "    h1 {\n",
        "        font-family: 'Alegreya Sans', sans-serif;\n",
        "    }\n",
        "    h2 {\n",
        "        font-family: 'EB Garamond', serif;\n",
        "    }\n",
        "    h3 {\n",
        "        font-family: 'EB Garamond', serif;\n",
        "        margin-top:12px;\n",
        "        margin-bottom: 3px;\n",
        "    }\n",
        "    h4 {\n",
        "        font-family: 'EB Garamond', serif;\n",
        "    }\n",
        "    h5 {\n",
        "        font-family: 'Alegreya Sans', sans-serif;\n",
        "    }\n",
        "    div.text_cell_render {\n",
        "        font-family: 'EB Garamond',Computer Modern, \"Helvetica Neue\", Arial, Helvetica, Geneva, sans-serif;\n",
        "        line-height: 145%;\n",
        "        font-size: 140%;\n",
        "    }\n",
        "    div.input_area {\n",
        "        border-color: rgba(0,0,0,0.10) !important;\n",
        "        background: #fafafa;\n",
        "    }\n",
        "    .CodeMirror {\n",
        "            font-family: \"Source Code Pro\";\n",
        "            font-size: 90%;\n",
        "    }\n",
        "    .prompt {\n",
        "        display: None;\n",
        "    }\n",
        "    .output {\n",
        "        padding-left: 50px;\n",
        "        padding-top: 5px;\n",
        "    }\n",
        "    .output_wrapper {\n",
        "        padding-left: 5px;\n",
        "        padding-top: inherit;\n",
        "    }\n",
        "    div.output_scroll {\n",
        "        width: inherit;\n",
        "    }\n",
        "    .inner_cell {\n",
        "        padding-left: 5px;\n",
        "    }\n",
        "    .text_cell_render h1 {\n",
        "        font-weight: 200;\n",
        "        font-size: 50pt;\n",
        "        line-height: 100%;\n",
        "        color:#CD2305;\n",
        "        margin-bottom: 0.5em;\n",
        "        margin-top: 0.5em;\n",
        "        display: block;\n",
        "    }\n",
        "    .text_cell_render h5 {\n",
        "        font-weight: 300;\n",
        "        font-size: 16pt;\n",
        "        color: #CD2305;\n",
        "        font-style: italic;\n",
        "        margin-bottom: .5em;\n",
        "        margin-top: 0.5em;\n",
        "        display: block;\n",
        "    }\n",
        "    .warning {\n",
        "        color: rgb( 240, 20, 20 )\n",
        "        }  \n",
        "</style>\n",
        "<script>\n",
        "    MathJax.Hub.Config({\n",
        "                        TeX: {\n",
        "                           extensions: [\"AMSmath.js\"]\n",
        "                           },\n",
        "                tex2jax: {\n",
        "                    inlineMath: [ ['$','$'], [\"\\\\(\",\"\\\\)\"] ],\n",
        "                    displayMath: [ ['$$','$$'], [\"\\\\[\",\"\\\\]\"] ]\n",
        "                },\n",
        "                displayAlign: 'center', // Change this to 'center' to center equations.\n",
        "                \"HTML-CSS\": {\n",
        "                    styles: {'.MathJax_Display': {\"margin\": 4}}\n",
        "                }\n",
        "        });\n",
        "</script>"
       ],
       "metadata": {},
       "output_type": "pyout",
       "prompt_number": 18,
       "text": [
        "<IPython.core.display.HTML at 0x392b828>"
       ]
      }
     ],
     "prompt_number": 18
    }
   ],
   "metadata": {}
  }
 ]
}